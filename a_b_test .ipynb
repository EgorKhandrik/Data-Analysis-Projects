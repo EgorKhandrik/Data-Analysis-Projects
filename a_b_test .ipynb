{
 "cells": [
  {
   "cell_type": "markdown",
   "metadata": {
    "toc": true
   },
   "source": [
    "<h1>Table of Contents<span class=\"tocSkip\"></span></h1>\n",
    "<div class=\"toc\"><ul class=\"toc-item\"><li><span><a href=\"#Загрузка-данных-и-подготовка-их-к-анализу\" data-toc-modified-id=\"Загрузка-данных-и-подготовка-их-к-анализу-1\"><span class=\"toc-item-num\">1&nbsp;&nbsp;</span>Загрузка данных и подготовка их к анализу</a></span><ul class=\"toc-item\"><li><span><a href=\"#Вывод\" data-toc-modified-id=\"Вывод-1.1\"><span class=\"toc-item-num\">1.1&nbsp;&nbsp;</span>Вывод</a></span></li></ul></li><li><span><a href=\"#Исследовательский-анализ-данных\" data-toc-modified-id=\"Исследовательский-анализ-данных-2\"><span class=\"toc-item-num\">2&nbsp;&nbsp;</span>Исследовательский анализ данных</a></span><ul class=\"toc-item\"><li><span><a href=\"#Вывод\" data-toc-modified-id=\"Вывод-2.1\"><span class=\"toc-item-num\">2.1&nbsp;&nbsp;</span>Вывод</a></span></li></ul></li><li><span><a href=\"#Приоритизация-гипотез\" data-toc-modified-id=\"Приоритизация-гипотез-3\"><span class=\"toc-item-num\">3&nbsp;&nbsp;</span>Приоритизация гипотез</a></span><ul class=\"toc-item\"><li><span><a href=\"#Приоритизация-по-ICE\" data-toc-modified-id=\"Приоритизация-по-ICE-3.1\"><span class=\"toc-item-num\">3.1&nbsp;&nbsp;</span>Приоритизация по ICE</a></span></li><li><span><a href=\"#Приоритизация-по-RICE\" data-toc-modified-id=\"Приоритизация-по-RICE-3.2\"><span class=\"toc-item-num\">3.2&nbsp;&nbsp;</span>Приоритизация по RICE</a></span></li><li><span><a href=\"#Вывод-по-приоритизации\" data-toc-modified-id=\"Вывод-по-приоритизации-3.3\"><span class=\"toc-item-num\">3.3&nbsp;&nbsp;</span>Вывод по приоритизации</a></span></li></ul></li><li><span><a href=\"#Анализ-А/В-теста\" data-toc-modified-id=\"Анализ-А/В-теста-4\"><span class=\"toc-item-num\">4&nbsp;&nbsp;</span>Анализ А/В теста</a></span><ul class=\"toc-item\"><li><span><a href=\"#График-кумулятивной-выручки\" data-toc-modified-id=\"График-кумулятивной-выручки-4.1\"><span class=\"toc-item-num\">4.1&nbsp;&nbsp;</span>График кумулятивной выручки</a></span></li><li><span><a href=\"#Грфик-кумулятивного-среднего-чека\" data-toc-modified-id=\"Грфик-кумулятивного-среднего-чека-4.2\"><span class=\"toc-item-num\">4.2&nbsp;&nbsp;</span>Грфик кумулятивного среднего чека</a></span></li><li><span><a href=\"#Относительное-изменение-кумулятивного-среднего-чека-группы-B-к-группе-A\" data-toc-modified-id=\"Относительное-изменение-кумулятивного-среднего-чека-группы-B-к-группе-A-4.3\"><span class=\"toc-item-num\">4.3&nbsp;&nbsp;</span>Относительное изменение кумулятивного среднего чека группы B к группе A</a></span></li><li><span><a href=\"#График-куммулятивной-конверсии\" data-toc-modified-id=\"График-куммулятивной-конверсии-4.4\"><span class=\"toc-item-num\">4.4&nbsp;&nbsp;</span>График куммулятивной конверсии</a></span></li><li><span><a href=\"#График-относительного-изменения-кумулятивной-конверсии-группы-B-к-группе-A\" data-toc-modified-id=\"График-относительного-изменения-кумулятивной-конверсии-группы-B-к-группе-A-4.5\"><span class=\"toc-item-num\">4.5&nbsp;&nbsp;</span>График относительного изменения кумулятивной конверсии группы B к группе A</a></span></li><li><span><a href=\"#Точечный-график-количества-заказов-по-пользователям\" data-toc-modified-id=\"Точечный-график-количества-заказов-по-пользователям-4.6\"><span class=\"toc-item-num\">4.6&nbsp;&nbsp;</span>Точечный график количества заказов по пользователям</a></span></li><li><span><a href=\"#Перцентили-количества-заказов-на-пользователя\" data-toc-modified-id=\"Перцентили-количества-заказов-на-пользователя-4.7\"><span class=\"toc-item-num\">4.7&nbsp;&nbsp;</span>Перцентили количества заказов на пользователя</a></span></li><li><span><a href=\"#Точечный-график-стоимостей-заказов\" data-toc-modified-id=\"Точечный-график-стоимостей-заказов-4.8\"><span class=\"toc-item-num\">4.8&nbsp;&nbsp;</span>Точечный график стоимостей заказов</a></span></li><li><span><a href=\"#Перцентили-выручки-с-заказа\" data-toc-modified-id=\"Перцентили-выручки-с-заказа-4.9\"><span class=\"toc-item-num\">4.9&nbsp;&nbsp;</span>Перцентили выручки с заказа</a></span></li><li><span><a href=\"#Расчёт-статистической-значимости-различий-в-конверсии-между-группами-по-«сырым»-данным\" data-toc-modified-id=\"Расчёт-статистической-значимости-различий-в-конверсии-между-группами-по-«сырым»-данным-4.10\"><span class=\"toc-item-num\">4.10&nbsp;&nbsp;</span>Расчёт статистической значимости различий в конверсии между группами по «сырым» данным</a></span></li><li><span><a href=\"#Расчёт-статистической-значимости-различий-в-среднем-чеке-заказа-между-группами-по-«сырым»-данным\" data-toc-modified-id=\"Расчёт-статистической-значимости-различий-в-среднем-чеке-заказа-между-группами-по-«сырым»-данным-4.11\"><span class=\"toc-item-num\">4.11&nbsp;&nbsp;</span>Расчёт статистической значимости различий в среднем чеке заказа между группами по «сырым» данным</a></span></li><li><span><a href=\"#Статистическая-значимость-различий-в-конверсии-между-группами-по-«очищенным»-данным.\" data-toc-modified-id=\"Статистическая-значимость-различий-в-конверсии-между-группами-по-«очищенным»-данным.-4.12\"><span class=\"toc-item-num\">4.12&nbsp;&nbsp;</span>Статистическая значимость различий в конверсии между группами по «очищенным» данным.</a></span></li><li><span><a href=\"#Статистическая-значимость-различий-в-среднем-чеке-заказа-между-группами-по-«очищенным»-данным.\" data-toc-modified-id=\"Статистическая-значимость-различий-в-среднем-чеке-заказа-между-группами-по-«очищенным»-данным.-4.13\"><span class=\"toc-item-num\">4.13&nbsp;&nbsp;</span>Статистическая значимость различий в среднем чеке заказа между группами по «очищенным» данным.</a></span></li></ul></li><li><span><a href=\"#Выводы-и-решения-по-результатам-анализа-А/В-теста\" data-toc-modified-id=\"Выводы-и-решения-по-результатам-анализа-А/В-теста-5\"><span class=\"toc-item-num\">5&nbsp;&nbsp;</span>Выводы и решения по результатам анализа А/В теста</a></span></li><li><span><a href=\"#Общий-вывод-по-проекту\" data-toc-modified-id=\"Общий-вывод-по-проекту-6\"><span class=\"toc-item-num\">6&nbsp;&nbsp;</span>Общий вывод по проекту</a></span></li></ul></div>"
   ]
  },
  {
   "cell_type": "markdown",
   "metadata": {},
   "source": [
    "# Анализ A/B теста"
   ]
  },
  {
   "cell_type": "markdown",
   "metadata": {},
   "source": [
    "Целью проекта является проанализировать результаты А/В теста, проведённого в интернет-магазине. Для достижения цели исследования выполним следующие задачи:\n",
    "* изучим общую информацию о предоставленных данных;\n",
    "* подготовим данные для анализа: выявим и устраним недостатки в данных, приведём данные к нужным типам;\n",
    "* проведём исследовательский анализ;\n",
    "* проанализируем результаты А/В теста."
   ]
  },
  {
   "cell_type": "markdown",
   "metadata": {},
   "source": [
    "## Загрузка данных и подготовка их к анализу"
   ]
  },
  {
   "cell_type": "markdown",
   "metadata": {},
   "source": [
    "Для начала ознакомимся с общей информацией о датасетах: количеством столбцов и строк, наименованием столбцов и типами данных в них, с конкретными данными датасета.   \n",
    "\n",
    "Импортируем необходимые библиоткеи и модули:"
   ]
  },
  {
   "cell_type": "code",
   "execution_count": 1,
   "metadata": {},
   "outputs": [],
   "source": [
    "import pandas as pd\n",
    "pd.set_option('display.float_format', '{:,.2f}'.format)\n",
    "import numpy as np\n",
    "import scipy.stats as st\n",
    "from statsmodels.stats.proportion import proportions_ztest\n",
    "import matplotlib.pyplot as plt\n",
    "import seaborn as sns\n",
    "sns.set(rc={'figure.figsize':(15, 8)})\n",
    "import warnings\n",
    "warnings.filterwarnings('ignore')\n",
    "from datetime import date, timedelta\n",
    "sns.set_style('whitegrid')\n",
    "sns.set_palette(\"Paired\", 24)"
   ]
  },
  {
   "cell_type": "markdown",
   "metadata": {},
   "source": [
    "Сохраним анализируемые датафреймы в переменных *hypothesis*, *orders*, *visitors*:"
   ]
  },
  {
   "cell_type": "code",
   "execution_count": 2,
   "metadata": {},
   "outputs": [],
   "source": [
    "visitors = pd.read_csv('/datasets/visitors.csv') # логи о посещении сайта\n",
    "orders = pd.read_csv('/datasets/orders.csv') # информация о покупках\n",
    "hypothesis = pd.read_csv('/datasets/hypothesis.csv') # гипотезы\n",
    "pd.set_option('display.max_colwidth', 1000)"
   ]
  },
  {
   "cell_type": "markdown",
   "metadata": {},
   "source": [
    "Ознакомимся с общей информацией о таблице *visitors* и данными в ней с помощью метода `info()`, а также выведем 5 первых строк датасета:"
   ]
  },
  {
   "cell_type": "code",
   "execution_count": 3,
   "metadata": {},
   "outputs": [
    {
     "name": "stdout",
     "output_type": "stream",
     "text": [
      "<class 'pandas.core.frame.DataFrame'>\n",
      "RangeIndex: 62 entries, 0 to 61\n",
      "Data columns (total 3 columns):\n",
      "date        62 non-null object\n",
      "group       62 non-null object\n",
      "visitors    62 non-null int64\n",
      "dtypes: int64(1), object(2)\n",
      "memory usage: 1.6+ KB\n"
     ]
    },
    {
     "data": {
      "text/html": [
       "<div>\n",
       "<style scoped>\n",
       "    .dataframe tbody tr th:only-of-type {\n",
       "        vertical-align: middle;\n",
       "    }\n",
       "\n",
       "    .dataframe tbody tr th {\n",
       "        vertical-align: top;\n",
       "    }\n",
       "\n",
       "    .dataframe thead th {\n",
       "        text-align: right;\n",
       "    }\n",
       "</style>\n",
       "<table border=\"1\" class=\"dataframe\">\n",
       "  <thead>\n",
       "    <tr style=\"text-align: right;\">\n",
       "      <th></th>\n",
       "      <th>date</th>\n",
       "      <th>group</th>\n",
       "      <th>visitors</th>\n",
       "    </tr>\n",
       "  </thead>\n",
       "  <tbody>\n",
       "    <tr>\n",
       "      <td>0</td>\n",
       "      <td>2019-08-01</td>\n",
       "      <td>A</td>\n",
       "      <td>719</td>\n",
       "    </tr>\n",
       "    <tr>\n",
       "      <td>1</td>\n",
       "      <td>2019-08-02</td>\n",
       "      <td>A</td>\n",
       "      <td>619</td>\n",
       "    </tr>\n",
       "    <tr>\n",
       "      <td>2</td>\n",
       "      <td>2019-08-03</td>\n",
       "      <td>A</td>\n",
       "      <td>507</td>\n",
       "    </tr>\n",
       "    <tr>\n",
       "      <td>3</td>\n",
       "      <td>2019-08-04</td>\n",
       "      <td>A</td>\n",
       "      <td>717</td>\n",
       "    </tr>\n",
       "    <tr>\n",
       "      <td>4</td>\n",
       "      <td>2019-08-05</td>\n",
       "      <td>A</td>\n",
       "      <td>756</td>\n",
       "    </tr>\n",
       "  </tbody>\n",
       "</table>\n",
       "</div>"
      ],
      "text/plain": [
       "         date group  visitors\n",
       "0  2019-08-01     A       719\n",
       "1  2019-08-02     A       619\n",
       "2  2019-08-03     A       507\n",
       "3  2019-08-04     A       717\n",
       "4  2019-08-05     A       756"
      ]
     },
     "execution_count": 3,
     "metadata": {},
     "output_type": "execute_result"
    }
   ],
   "source": [
    "visitors.info()\n",
    "visitors.head()"
   ]
  },
  {
   "cell_type": "markdown",
   "metadata": {},
   "source": [
    "В датафрейме visitors отсутствуют пропуски в данных, однако данные о датах представлены в формате object."
   ]
  },
  {
   "cell_type": "markdown",
   "metadata": {},
   "source": [
    "Также ознакомимся с таблицей *orders*:"
   ]
  },
  {
   "cell_type": "code",
   "execution_count": 4,
   "metadata": {},
   "outputs": [
    {
     "name": "stdout",
     "output_type": "stream",
     "text": [
      "<class 'pandas.core.frame.DataFrame'>\n",
      "RangeIndex: 1197 entries, 0 to 1196\n",
      "Data columns (total 5 columns):\n",
      "transactionId    1197 non-null int64\n",
      "visitorId        1197 non-null int64\n",
      "date             1197 non-null object\n",
      "revenue          1197 non-null int64\n",
      "group            1197 non-null object\n",
      "dtypes: int64(3), object(2)\n",
      "memory usage: 46.9+ KB\n"
     ]
    },
    {
     "data": {
      "text/html": [
       "<div>\n",
       "<style scoped>\n",
       "    .dataframe tbody tr th:only-of-type {\n",
       "        vertical-align: middle;\n",
       "    }\n",
       "\n",
       "    .dataframe tbody tr th {\n",
       "        vertical-align: top;\n",
       "    }\n",
       "\n",
       "    .dataframe thead th {\n",
       "        text-align: right;\n",
       "    }\n",
       "</style>\n",
       "<table border=\"1\" class=\"dataframe\">\n",
       "  <thead>\n",
       "    <tr style=\"text-align: right;\">\n",
       "      <th></th>\n",
       "      <th>transactionId</th>\n",
       "      <th>visitorId</th>\n",
       "      <th>date</th>\n",
       "      <th>revenue</th>\n",
       "      <th>group</th>\n",
       "    </tr>\n",
       "  </thead>\n",
       "  <tbody>\n",
       "    <tr>\n",
       "      <td>0</td>\n",
       "      <td>3667963787</td>\n",
       "      <td>3312258926</td>\n",
       "      <td>2019-08-15</td>\n",
       "      <td>1650</td>\n",
       "      <td>B</td>\n",
       "    </tr>\n",
       "    <tr>\n",
       "      <td>1</td>\n",
       "      <td>2804400009</td>\n",
       "      <td>3642806036</td>\n",
       "      <td>2019-08-15</td>\n",
       "      <td>730</td>\n",
       "      <td>B</td>\n",
       "    </tr>\n",
       "    <tr>\n",
       "      <td>2</td>\n",
       "      <td>2961555356</td>\n",
       "      <td>4069496402</td>\n",
       "      <td>2019-08-15</td>\n",
       "      <td>400</td>\n",
       "      <td>A</td>\n",
       "    </tr>\n",
       "    <tr>\n",
       "      <td>3</td>\n",
       "      <td>3797467345</td>\n",
       "      <td>1196621759</td>\n",
       "      <td>2019-08-15</td>\n",
       "      <td>9759</td>\n",
       "      <td>B</td>\n",
       "    </tr>\n",
       "    <tr>\n",
       "      <td>4</td>\n",
       "      <td>2282983706</td>\n",
       "      <td>2322279887</td>\n",
       "      <td>2019-08-15</td>\n",
       "      <td>2308</td>\n",
       "      <td>B</td>\n",
       "    </tr>\n",
       "  </tbody>\n",
       "</table>\n",
       "</div>"
      ],
      "text/plain": [
       "   transactionId   visitorId        date  revenue group\n",
       "0     3667963787  3312258926  2019-08-15     1650     B\n",
       "1     2804400009  3642806036  2019-08-15      730     B\n",
       "2     2961555356  4069496402  2019-08-15      400     A\n",
       "3     3797467345  1196621759  2019-08-15     9759     B\n",
       "4     2282983706  2322279887  2019-08-15     2308     B"
      ]
     },
     "execution_count": 4,
     "metadata": {},
     "output_type": "execute_result"
    }
   ],
   "source": [
    "orders.info()\n",
    "orders.head()"
   ]
  },
  {
   "cell_type": "markdown",
   "metadata": {},
   "source": [
    "Столбцы *transactionId*, *visitorId* датафрейма *orders* имеют стилистические ошибки, а формат данных в столбце *date* не соответствует ожидаемому."
   ]
  },
  {
   "cell_type": "code",
   "execution_count": 5,
   "metadata": {},
   "outputs": [
    {
     "name": "stdout",
     "output_type": "stream",
     "text": [
      "<class 'pandas.core.frame.DataFrame'>\n",
      "RangeIndex: 9 entries, 0 to 8\n",
      "Data columns (total 5 columns):\n",
      "Hypothesis    9 non-null object\n",
      "Reach         9 non-null int64\n",
      "Impact        9 non-null int64\n",
      "Confidence    9 non-null int64\n",
      "Efforts       9 non-null int64\n",
      "dtypes: int64(4), object(1)\n",
      "memory usage: 488.0+ bytes\n"
     ]
    },
    {
     "data": {
      "text/html": [
       "<div>\n",
       "<style scoped>\n",
       "    .dataframe tbody tr th:only-of-type {\n",
       "        vertical-align: middle;\n",
       "    }\n",
       "\n",
       "    .dataframe tbody tr th {\n",
       "        vertical-align: top;\n",
       "    }\n",
       "\n",
       "    .dataframe thead th {\n",
       "        text-align: right;\n",
       "    }\n",
       "</style>\n",
       "<table border=\"1\" class=\"dataframe\">\n",
       "  <thead>\n",
       "    <tr style=\"text-align: right;\">\n",
       "      <th></th>\n",
       "      <th>Hypothesis</th>\n",
       "      <th>Reach</th>\n",
       "      <th>Impact</th>\n",
       "      <th>Confidence</th>\n",
       "      <th>Efforts</th>\n",
       "    </tr>\n",
       "  </thead>\n",
       "  <tbody>\n",
       "    <tr>\n",
       "      <td>0</td>\n",
       "      <td>Добавить два новых канала привлечения трафика, что позволит привлекать на 30% больше пользователей</td>\n",
       "      <td>3</td>\n",
       "      <td>10</td>\n",
       "      <td>8</td>\n",
       "      <td>6</td>\n",
       "    </tr>\n",
       "    <tr>\n",
       "      <td>1</td>\n",
       "      <td>Запустить собственную службу доставки, что сократит срок доставки заказов</td>\n",
       "      <td>2</td>\n",
       "      <td>5</td>\n",
       "      <td>4</td>\n",
       "      <td>10</td>\n",
       "    </tr>\n",
       "    <tr>\n",
       "      <td>2</td>\n",
       "      <td>Добавить блоки рекомендаций товаров на сайт интернет магазина, чтобы повысить конверсию и средний чек заказа</td>\n",
       "      <td>8</td>\n",
       "      <td>3</td>\n",
       "      <td>7</td>\n",
       "      <td>3</td>\n",
       "    </tr>\n",
       "    <tr>\n",
       "      <td>3</td>\n",
       "      <td>Изменить структура категорий, что увеличит конверсию, т.к. пользователи быстрее найдут нужный товар</td>\n",
       "      <td>8</td>\n",
       "      <td>3</td>\n",
       "      <td>3</td>\n",
       "      <td>8</td>\n",
       "    </tr>\n",
       "    <tr>\n",
       "      <td>4</td>\n",
       "      <td>Изменить цвет фона главной страницы, чтобы увеличить вовлеченность пользователей</td>\n",
       "      <td>3</td>\n",
       "      <td>1</td>\n",
       "      <td>1</td>\n",
       "      <td>1</td>\n",
       "    </tr>\n",
       "    <tr>\n",
       "      <td>5</td>\n",
       "      <td>Добавить страницу отзывов клиентов о магазине, что позволит увеличить количество заказов</td>\n",
       "      <td>3</td>\n",
       "      <td>2</td>\n",
       "      <td>2</td>\n",
       "      <td>3</td>\n",
       "    </tr>\n",
       "    <tr>\n",
       "      <td>6</td>\n",
       "      <td>Показать на главной странице баннеры с актуальными акциями и распродажами, чтобы увеличить конверсию</td>\n",
       "      <td>5</td>\n",
       "      <td>3</td>\n",
       "      <td>8</td>\n",
       "      <td>3</td>\n",
       "    </tr>\n",
       "    <tr>\n",
       "      <td>7</td>\n",
       "      <td>Добавить форму подписки на все основные страницы, чтобы собрать базу клиентов для email-рассылок</td>\n",
       "      <td>10</td>\n",
       "      <td>7</td>\n",
       "      <td>8</td>\n",
       "      <td>5</td>\n",
       "    </tr>\n",
       "    <tr>\n",
       "      <td>8</td>\n",
       "      <td>Запустить акцию, дающую скидку на товар в день рождения</td>\n",
       "      <td>1</td>\n",
       "      <td>9</td>\n",
       "      <td>9</td>\n",
       "      <td>5</td>\n",
       "    </tr>\n",
       "  </tbody>\n",
       "</table>\n",
       "</div>"
      ],
      "text/plain": [
       "                                                                                                     Hypothesis  \\\n",
       "0            Добавить два новых канала привлечения трафика, что позволит привлекать на 30% больше пользователей   \n",
       "1                                     Запустить собственную службу доставки, что сократит срок доставки заказов   \n",
       "2  Добавить блоки рекомендаций товаров на сайт интернет магазина, чтобы повысить конверсию и средний чек заказа   \n",
       "3           Изменить структура категорий, что увеличит конверсию, т.к. пользователи быстрее найдут нужный товар   \n",
       "4                              Изменить цвет фона главной страницы, чтобы увеличить вовлеченность пользователей   \n",
       "5                      Добавить страницу отзывов клиентов о магазине, что позволит увеличить количество заказов   \n",
       "6          Показать на главной странице баннеры с актуальными акциями и распродажами, чтобы увеличить конверсию   \n",
       "7              Добавить форму подписки на все основные страницы, чтобы собрать базу клиентов для email-рассылок   \n",
       "8                                                       Запустить акцию, дающую скидку на товар в день рождения   \n",
       "\n",
       "   Reach  Impact  Confidence  Efforts  \n",
       "0      3      10           8        6  \n",
       "1      2       5           4       10  \n",
       "2      8       3           7        3  \n",
       "3      8       3           3        8  \n",
       "4      3       1           1        1  \n",
       "5      3       2           2        3  \n",
       "6      5       3           8        3  \n",
       "7     10       7           8        5  \n",
       "8      1       9           9        5  "
      ]
     },
     "execution_count": 5,
     "metadata": {},
     "output_type": "execute_result"
    }
   ],
   "source": [
    "hypothesis.info()\n",
    "hypothesis"
   ]
  },
  {
   "cell_type": "markdown",
   "metadata": {},
   "source": [
    "Как видим наименование столбцов датафрейма hypothesis написаны с заглавной буквы."
   ]
  },
  {
   "cell_type": "markdown",
   "metadata": {},
   "source": [
    "Изменим наименования столбцов в датасетах *orders* и *hypothesis*:"
   ]
  },
  {
   "cell_type": "code",
   "execution_count": 6,
   "metadata": {},
   "outputs": [
    {
     "data": {
      "text/plain": [
       "Index(['transaction_id', 'visitor_id', 'date', 'revenue', 'group'], dtype='object')"
      ]
     },
     "metadata": {},
     "output_type": "display_data"
    },
    {
     "data": {
      "text/plain": [
       "Index(['hypothesis', 'reach', 'impact', 'confidence', 'efforts'], dtype='object')"
      ]
     },
     "metadata": {},
     "output_type": "display_data"
    }
   ],
   "source": [
    "orders.rename(columns={'transactionId':'transaction_id',\n",
    "                      'visitorId':'visitor_id'}, inplace=True)\n",
    "hypothesis.columns = hypothesis.columns.str.lower()\n",
    "\n",
    "display(orders.columns)\n",
    "display(hypothesis.columns)"
   ]
  },
  {
   "cell_type": "markdown",
   "metadata": {},
   "source": [
    "Также в датасетах *orders* и *visitors* сведения о дате и времени имеют формат object, поэтому необходимо привести данные в соответствующих столбцах в подходящий формат с помощью метода to_datetime():"
   ]
  },
  {
   "cell_type": "code",
   "execution_count": 7,
   "metadata": {},
   "outputs": [],
   "source": [
    "visitors['date'] = pd.to_datetime(visitors['date']).dt.date\n",
    "orders['date'] = pd.to_datetime(orders['date']).dt.date"
   ]
  },
  {
   "cell_type": "markdown",
   "metadata": {},
   "source": [
    "Проверим имеются ли в датафреймах дубликаты:"
   ]
  },
  {
   "cell_type": "code",
   "execution_count": 8,
   "metadata": {},
   "outputs": [
    {
     "name": "stdout",
     "output_type": "stream",
     "text": [
      "Количество дубликатов в датасете visits: 0\n",
      "Количество дубликатов в датасете orders: 0\n",
      "Количество дубликатов в датасете hypothesis: 0\n"
     ]
    }
   ],
   "source": [
    "print(f'Количество дубликатов в датасете visits: {visitors.duplicated().sum()}')\n",
    "print(f'Количество дубликатов в датасете orders: {orders.duplicated().sum()}')\n",
    "print(f'Количество дубликатов в датасете hypothesis: {hypothesis.duplicated().sum()}')"
   ]
  },
  {
   "cell_type": "markdown",
   "metadata": {},
   "source": [
    "Таким образом, наименования столбцов приведены в удобный для дальнейшей работы формат."
   ]
  },
  {
   "cell_type": "markdown",
   "metadata": {},
   "source": [
    "### Вывод"
   ]
  },
  {
   "cell_type": "markdown",
   "metadata": {},
   "source": [
    "Наименования столбцов датафреймов были приведены в корректный формат, а также изменён формат данных в столбцах со временем. Данные подготовлены для дальнейшей работы."
   ]
  },
  {
   "cell_type": "markdown",
   "metadata": {},
   "source": [
    "## Исследовательский анализ данных"
   ]
  },
  {
   "cell_type": "markdown",
   "metadata": {},
   "source": [
    "Оценим количество посетителей в группах А и В:"
   ]
  },
  {
   "cell_type": "code",
   "execution_count": 9,
   "metadata": {},
   "outputs": [
    {
     "name": "stdout",
     "output_type": "stream",
     "text": [
      "  group  visitors\n",
      "0     A     18736\n",
      "1     B     18916\n",
      "  group  transaction_id\n",
      "0     A             557\n",
      "1     B             640\n",
      "  group  visitor_id\n",
      "0     A         503\n",
      "1     B         586\n"
     ]
    }
   ],
   "source": [
    "visitors_group = visitors.groupby('group').agg({'visitors':'sum'}).reset_index()\n",
    "print(visitors_group)\n",
    "orders_transaction_group = orders.groupby('group').agg({'transaction_id':'nunique'}).reset_index()\n",
    "print(orders_transaction_group)\n",
    "orders_visitors_group = orders.groupby('group').agg({'visitor_id':'nunique'}).reset_index()\n",
    "print(orders_visitors_group)"
   ]
  },
  {
   "cell_type": "markdown",
   "metadata": {},
   "source": [
    "Группы А и В по количеству посетителей являются сопоставимыми. Однако пользователя группы В сделали почти на 100 заказов больше, чем пользователи группы А. Также сделавших заказ пользователей группы В больше, чем группы А."
   ]
  },
  {
   "cell_type": "markdown",
   "metadata": {},
   "source": [
    "Выявим есть ли у пользователи, попавшие и в группу А, и в группу В:"
   ]
  },
  {
   "cell_type": "code",
   "execution_count": 10,
   "metadata": {},
   "outputs": [
    {
     "name": "stdout",
     "output_type": "stream",
     "text": [
      "Количество пользователей, попавших в обе группы:  58\n"
     ]
    }
   ],
   "source": [
    "print('Количество пользователей, попавших в обе группы: ', \n",
    "      len(orders.groupby('visitor_id').agg({'group':'nunique'}).query('group > 1')))"
   ]
  },
  {
   "cell_type": "markdown",
   "metadata": {},
   "source": [
    "Таким образом, данные о 58 пользователях попали и в группу А, и в группу В."
   ]
  },
  {
   "cell_type": "markdown",
   "metadata": {},
   "source": [
    "Проверим вероятность попасть в группу А:"
   ]
  },
  {
   "cell_type": "code",
   "execution_count": 11,
   "metadata": {},
   "outputs": [
    {
     "name": "stdout",
     "output_type": "stream",
     "text": [
      "Вероятность попасть в группу А:  46.5%\n"
     ]
    }
   ],
   "source": [
    "a_users = orders.query('group == \"A\"').shape[0]\n",
    "all_users = orders.shape[0]\n",
    "print(f'Вероятность попасть в группу А: {\"{0: .1%}\".format(a_users / all_users)}')"
   ]
  },
  {
   "cell_type": "markdown",
   "metadata": {},
   "source": [
    "Также проверим вероятность попасть в группу А одновыборочным z-тестом. Сформулируем гипотезы:   \n",
    "* H0: вероятность попасть в группу А составляет 50%.\n",
    "* H1: веростность попасть в группу А отличается от 50%."
   ]
  },
  {
   "cell_type": "code",
   "execution_count": 12,
   "metadata": {},
   "outputs": [
    {
     "name": "stdout",
     "output_type": "stream",
     "text": [
      "p-value: 0.01618165608992316\n",
      "Нулевая гипотеза отвергается: вероятность попасть в группу А отличается от 50%\n"
     ]
    }
   ],
   "source": [
    "alpha = 0.05\n",
    "pvalue = proportions_ztest(a_users, all_users, value = 0.5)[1]\n",
    "print('p-value: {}'.format(pvalue))\n",
    "if pvalue >= alpha: \n",
    "    print('Нулевая гипотеза не отвергается: вероятность попасть в группу А составляет 50%')\n",
    "else:\n",
    "    print('Нулевая гипотеза отвергается: вероятность попасть в группу А отличается от 50%')"
   ]
  },
  {
   "cell_type": "markdown",
   "metadata": {},
   "source": [
    "Таким образом, вероятность попасть в группу А отличается от 50%."
   ]
  },
  {
   "cell_type": "markdown",
   "metadata": {},
   "source": [
    "Посмотрим на характеристики данных о выручке без разбивки по группам:"
   ]
  },
  {
   "cell_type": "code",
   "execution_count": 13,
   "metadata": {},
   "outputs": [
    {
     "data": {
      "text/plain": [
       "count           1,197.00\n",
       "mean            8,348.01\n",
       "std            39,191.13\n",
       "min                50.00\n",
       "25%             1,220.00\n",
       "50%             2,978.00\n",
       "75%             8,290.00\n",
       "max         1,294,500.00\n",
       "var     1,535,944,809.72\n",
       "cv               469.47%\n",
       "skew               29.77\n",
       "Name: revenue, dtype: object"
      ]
     },
     "execution_count": 13,
     "metadata": {},
     "output_type": "execute_result"
    }
   ],
   "source": [
    "a = orders['revenue'].describe().T\n",
    "a['var'] = a['std'] ** 2\n",
    "a['cv'] = '{:.2%}'.format(a['std'] / a['mean'])\n",
    "a['skew'] = orders['revenue'].skew()\n",
    "a"
   ]
  },
  {
   "cell_type": "markdown",
   "metadata": {},
   "source": [
    "Данные по выручке сильно ассиметричны. Медиана (2,978) и среднее значение (8,348) очень сильно отличаются друг от друга. Коэффициент вариации составляет более 400%, т.е. данные неоднородны, сильно распределены от среднего значения, поэтому среднее значение слабо может характиризовать типичные данные в выборке. При этом ассиметрия является положительной, т.е. в анализируемых данных среднее больше медианы, в чём мы уже убедились.    "
   ]
  },
  {
   "cell_type": "markdown",
   "metadata": {},
   "source": [
    "Посмотрим как распределены доходы от покупок у пользователей из групп А и В:"
   ]
  },
  {
   "cell_type": "code",
   "execution_count": 14,
   "metadata": {
    "scrolled": false
   },
   "outputs": [
    {
     "data": {
      "image/png": "[encoded data removed]",
      "text/plain": [
       "<Figure size 1080x576 with 1 Axes>"
      ]
     },
     "metadata": {},
     "output_type": "display_data"
    }
   ],
   "source": [
    "orders.boxplot(column='revenue', by='group')\n",
    "plt.ylim(top=100000, bottom=0)\n",
    "plt.title('Выручка по группам А и В')\n",
    "plt.xlabel('Группа')\n",
    "plt.ylabel('Выручка с заказов');"
   ]
  },
  {
   "cell_type": "markdown",
   "metadata": {},
   "source": [
    "Распределение данных о выручке с заказов в группах А и В примерно одинаковое: 1, 3 квартили и медиана по сумме заказов в этих группах сопоставимы."
   ]
  },
  {
   "cell_type": "markdown",
   "metadata": {},
   "source": [
    "Посчитаем 90, 95 и 99 перцентили суммы выручки с заказа: "
   ]
  },
  {
   "cell_type": "code",
   "execution_count": 15,
   "metadata": {},
   "outputs": [
    {
     "data": {
      "text/plain": [
       "'90 перцентиль суммы выручки с заказа: [18168.]'"
      ]
     },
     "metadata": {},
     "output_type": "display_data"
    },
    {
     "data": {
      "text/plain": [
       "'95 перцентиль суммы выручки с заказа: [28000.]'"
      ]
     },
     "metadata": {},
     "output_type": "display_data"
    },
    {
     "data": {
      "text/plain": [
       "'99 перцентиль суммы выручки с заказа: [58233.2]'"
      ]
     },
     "metadata": {},
     "output_type": "display_data"
    }
   ],
   "source": [
    "display(f'90 перцентиль суммы выручки с заказа: {np.percentile(orders[\"revenue\"], [90])}')\n",
    "display(f'95 перцентиль суммы выручки с заказа: {np.percentile(orders[\"revenue\"], [95])}')\n",
    "display(f'99 перцентиль суммы выручки с заказа: {np.percentile(orders[\"revenue\"], [99])}')"
   ]
  },
  {
   "cell_type": "markdown",
   "metadata": {},
   "source": [
    "Посмотрим как менялась медианная дневная выручка в периоде, взяв для расчёта только данные о выручке с заказов, входящие в 95 перцентиль (не более 28 000), сохранив в переменной `orders_clean`, чтобы исключить аномально крупные заказы:"
   ]
  },
  {
   "cell_type": "code",
   "execution_count": 16,
   "metadata": {},
   "outputs": [
    {
     "data": {
      "image/png": "[encoded data removed]",
      "text/plain": [
       "<Figure size 1080x576 with 1 Axes>"
      ]
     },
     "metadata": {},
     "output_type": "display_data"
    }
   ],
   "source": [
    "orders_clean = (\n",
    "                orders\n",
    "                .query('revenue <= 28000')\n",
    ")\n",
    "\n",
    "(\n",
    "    orders_clean\n",
    "    .groupby('date')\n",
    "    .agg({'revenue':'median'})\n",
    "    .plot(marker='o')\n",
    ")\n",
    "plt.axhline(y=orders_clean[\"revenue\"].median(), # зададим на графике линию с медианой выручки \n",
    "           color='red',\n",
    "           linestyle=':',\n",
    "           label = 'Медиана выручки')\n",
    "plt.title('Медиана дневной выручкис с заказа')\n",
    "plt.xlabel('Дата')\n",
    "plt.ylabel('Выручка')\n",
    "plt.legend();"
   ]
  },
  {
   "cell_type": "markdown",
   "metadata": {},
   "source": [
    "Медианная дневная выручка имеет волнообразный характер в выборке за период. При этом имеется три дня с максимальной медианной выручкой, за которыми следовали сильные спады."
   ]
  },
  {
   "cell_type": "markdown",
   "metadata": {},
   "source": [
    "Оценим также сумму медианную дневную выручку в разбивке по группам:"
   ]
  },
  {
   "cell_type": "code",
   "execution_count": 17,
   "metadata": {
    "scrolled": false
   },
   "outputs": [
    {
     "name": "stdout",
     "output_type": "stream",
     "text": [
      "Медианная выручка с заказа по группе А:  2978.0\n",
      "Медианная выручка с заказа по группе B:  2745.0\n"
     ]
    },
    {
     "data": {
      "image/png": "[encoded data removed]",
      "text/plain": [
       "<Figure size 1080x576 with 1 Axes>"
      ]
     },
     "metadata": {},
     "output_type": "display_data"
    }
   ],
   "source": [
    "revenue_a = (\n",
    "    orders_clean\n",
    "    .query('group == \"A\"')\n",
    "    .groupby('date').agg({'revenue':'median'})\n",
    "    .reset_index()\n",
    ")\n",
    "\n",
    "revenue_b = (\n",
    "    orders_clean\n",
    "    .query('group == \"B\"')\n",
    "    .groupby('date').agg({'revenue':'median'})\n",
    "    .reset_index()\n",
    ")\n",
    "\n",
    "print('Медианная выручка с заказа по группе А: ', revenue_a['revenue'].median())\n",
    "print('Медианная выручка с заказа по группе B: ', revenue_b['revenue'].median())\n",
    "\n",
    "plt.plot(revenue_a['date'], revenue_a['revenue'], label='A', marker='o')\n",
    "plt.plot(revenue_b['date'], revenue_b['revenue'], label='B', marker='o')\n",
    "plt.axhline(y=orders_clean[\"revenue\"].median(), # зададим на графике линию с медианой выручки \n",
    "           color='red',\n",
    "           linestyle=':',\n",
    "           label = 'Медиана выручки')\n",
    "plt.title('Медиана дневной выручки по группам')\n",
    "plt.xlabel('Дата')\n",
    "plt.ylabel('Выручка')\n",
    "plt.legend();"
   ]
  },
  {
   "cell_type": "markdown",
   "metadata": {},
   "source": [
    "Есть несколько дней, в которые по обоим группам наблюдается повышение выручки или её понижение. В целом медианная выручка по группе А была выше, чем по группе В."
   ]
  },
  {
   "cell_type": "code",
   "execution_count": 18,
   "metadata": {},
   "outputs": [
    {
     "data": {
      "text/plain": [
       "97434.5"
      ]
     },
     "execution_count": 18,
     "metadata": {},
     "output_type": "execute_result"
    }
   ],
   "source": [
    "revenue_a['revenue'].sum()\n",
    "revenue_b['revenue'].sum()"
   ]
  },
  {
   "cell_type": "markdown",
   "metadata": {},
   "source": [
    "Оценим также даты, в которые проводился тест:"
   ]
  },
  {
   "cell_type": "code",
   "execution_count": 19,
   "metadata": {},
   "outputs": [
    {
     "name": "stdout",
     "output_type": "stream",
     "text": [
      "Минимальная дата visitors: 2019-08-01\n",
      "Максимальная дата visitors: 2019-08-31\n",
      "Минимальная дата orders: 2019-08-01\n",
      "Максимальная дата orders: 2019-08-31\n"
     ]
    }
   ],
   "source": [
    "print(f'Минимальная дата visitors: {visitors[\"date\"].min()}')\n",
    "print(f'Максимальная дата visitors: {visitors[\"date\"].max()}')\n",
    "\n",
    "print(f'Минимальная дата orders: {orders[\"date\"].min()}')\n",
    "print(f'Максимальная дата orders: {orders[\"date\"].max()}')"
   ]
  },
  {
   "cell_type": "markdown",
   "metadata": {},
   "source": [
    "Данные по посетителям и покупкам представлены за один и тот же период - с 01 августа 2020 г. по 31 августа 2020 г."
   ]
  },
  {
   "cell_type": "markdown",
   "metadata": {},
   "source": [
    "### Вывод"
   ]
  },
  {
   "cell_type": "markdown",
   "metadata": {},
   "source": [
    "* группы A и В сопоставимы по общему количеству пользователей, но пользователи из группы В больше среди плательщиков;\n",
    "* медианная дневная выручка с заказа была нестабильной и имеет волнообразный характер;\n",
    "* медианная дневная выручка группы А была больше, чем у группы В."
   ]
  },
  {
   "cell_type": "markdown",
   "metadata": {},
   "source": [
    "## Приоритизация гипотез"
   ]
  },
  {
   "cell_type": "markdown",
   "metadata": {},
   "source": [
    "### Приоритизация по ICE"
   ]
  },
  {
   "cell_type": "markdown",
   "metadata": {},
   "source": [
    "Выполним приоритизацию гипотез методом ICE:"
   ]
  },
  {
   "cell_type": "code",
   "execution_count": 20,
   "metadata": {},
   "outputs": [
    {
     "data": {
      "text/html": [
       "<div>\n",
       "<style scoped>\n",
       "    .dataframe tbody tr th:only-of-type {\n",
       "        vertical-align: middle;\n",
       "    }\n",
       "\n",
       "    .dataframe tbody tr th {\n",
       "        vertical-align: top;\n",
       "    }\n",
       "\n",
       "    .dataframe thead th {\n",
       "        text-align: right;\n",
       "    }\n",
       "</style>\n",
       "<table border=\"1\" class=\"dataframe\">\n",
       "  <thead>\n",
       "    <tr style=\"text-align: right;\">\n",
       "      <th></th>\n",
       "      <th>hypothesis</th>\n",
       "      <th>ICE</th>\n",
       "    </tr>\n",
       "  </thead>\n",
       "  <tbody>\n",
       "    <tr>\n",
       "      <td>8</td>\n",
       "      <td>Запустить акцию, дающую скидку на товар в день рождения</td>\n",
       "      <td>16.20</td>\n",
       "    </tr>\n",
       "    <tr>\n",
       "      <td>0</td>\n",
       "      <td>Добавить два новых канала привлечения трафика, что позволит привлекать на 30% больше пользователей</td>\n",
       "      <td>13.33</td>\n",
       "    </tr>\n",
       "    <tr>\n",
       "      <td>7</td>\n",
       "      <td>Добавить форму подписки на все основные страницы, чтобы собрать базу клиентов для email-рассылок</td>\n",
       "      <td>11.20</td>\n",
       "    </tr>\n",
       "    <tr>\n",
       "      <td>6</td>\n",
       "      <td>Показать на главной странице баннеры с актуальными акциями и распродажами, чтобы увеличить конверсию</td>\n",
       "      <td>8.00</td>\n",
       "    </tr>\n",
       "    <tr>\n",
       "      <td>2</td>\n",
       "      <td>Добавить блоки рекомендаций товаров на сайт интернет магазина, чтобы повысить конверсию и средний чек заказа</td>\n",
       "      <td>7.00</td>\n",
       "    </tr>\n",
       "    <tr>\n",
       "      <td>1</td>\n",
       "      <td>Запустить собственную службу доставки, что сократит срок доставки заказов</td>\n",
       "      <td>2.00</td>\n",
       "    </tr>\n",
       "    <tr>\n",
       "      <td>5</td>\n",
       "      <td>Добавить страницу отзывов клиентов о магазине, что позволит увеличить количество заказов</td>\n",
       "      <td>1.33</td>\n",
       "    </tr>\n",
       "    <tr>\n",
       "      <td>3</td>\n",
       "      <td>Изменить структура категорий, что увеличит конверсию, т.к. пользователи быстрее найдут нужный товар</td>\n",
       "      <td>1.12</td>\n",
       "    </tr>\n",
       "    <tr>\n",
       "      <td>4</td>\n",
       "      <td>Изменить цвет фона главной страницы, чтобы увеличить вовлеченность пользователей</td>\n",
       "      <td>1.00</td>\n",
       "    </tr>\n",
       "  </tbody>\n",
       "</table>\n",
       "</div>"
      ],
      "text/plain": [
       "                                                                                                     hypothesis  \\\n",
       "8                                                       Запустить акцию, дающую скидку на товар в день рождения   \n",
       "0            Добавить два новых канала привлечения трафика, что позволит привлекать на 30% больше пользователей   \n",
       "7              Добавить форму подписки на все основные страницы, чтобы собрать базу клиентов для email-рассылок   \n",
       "6          Показать на главной странице баннеры с актуальными акциями и распродажами, чтобы увеличить конверсию   \n",
       "2  Добавить блоки рекомендаций товаров на сайт интернет магазина, чтобы повысить конверсию и средний чек заказа   \n",
       "1                                     Запустить собственную службу доставки, что сократит срок доставки заказов   \n",
       "5                      Добавить страницу отзывов клиентов о магазине, что позволит увеличить количество заказов   \n",
       "3           Изменить структура категорий, что увеличит конверсию, т.к. пользователи быстрее найдут нужный товар   \n",
       "4                              Изменить цвет фона главной страницы, чтобы увеличить вовлеченность пользователей   \n",
       "\n",
       "    ICE  \n",
       "8 16.20  \n",
       "0 13.33  \n",
       "7 11.20  \n",
       "6  8.00  \n",
       "2  7.00  \n",
       "1  2.00  \n",
       "5  1.33  \n",
       "3  1.12  \n",
       "4  1.00  "
      ]
     },
     "execution_count": 20,
     "metadata": {},
     "output_type": "execute_result"
    }
   ],
   "source": [
    "hypothesis['ICE'] = hypothesis['impact'] * hypothesis['confidence'] / hypothesis['efforts']\n",
    "hypothesis.sort_values(by='ICE', ascending=False)[['hypothesis', 'ICE']]"
   ]
  },
  {
   "cell_type": "markdown",
   "metadata": {},
   "source": [
    "### Приоритизация по RICE"
   ]
  },
  {
   "cell_type": "markdown",
   "metadata": {},
   "source": [
    "Оценим приоритизацию по RICE:"
   ]
  },
  {
   "cell_type": "code",
   "execution_count": 21,
   "metadata": {
    "scrolled": true
   },
   "outputs": [
    {
     "data": {
      "text/html": [
       "<div>\n",
       "<style scoped>\n",
       "    .dataframe tbody tr th:only-of-type {\n",
       "        vertical-align: middle;\n",
       "    }\n",
       "\n",
       "    .dataframe tbody tr th {\n",
       "        vertical-align: top;\n",
       "    }\n",
       "\n",
       "    .dataframe thead th {\n",
       "        text-align: right;\n",
       "    }\n",
       "</style>\n",
       "<table border=\"1\" class=\"dataframe\">\n",
       "  <thead>\n",
       "    <tr style=\"text-align: right;\">\n",
       "      <th></th>\n",
       "      <th>hypothesis</th>\n",
       "      <th>RICE</th>\n",
       "    </tr>\n",
       "  </thead>\n",
       "  <tbody>\n",
       "    <tr>\n",
       "      <td>7</td>\n",
       "      <td>Добавить форму подписки на все основные страницы, чтобы собрать базу клиентов для email-рассылок</td>\n",
       "      <td>112.00</td>\n",
       "    </tr>\n",
       "    <tr>\n",
       "      <td>2</td>\n",
       "      <td>Добавить блоки рекомендаций товаров на сайт интернет магазина, чтобы повысить конверсию и средний чек заказа</td>\n",
       "      <td>56.00</td>\n",
       "    </tr>\n",
       "    <tr>\n",
       "      <td>0</td>\n",
       "      <td>Добавить два новых канала привлечения трафика, что позволит привлекать на 30% больше пользователей</td>\n",
       "      <td>40.00</td>\n",
       "    </tr>\n",
       "    <tr>\n",
       "      <td>6</td>\n",
       "      <td>Показать на главной странице баннеры с актуальными акциями и распродажами, чтобы увеличить конверсию</td>\n",
       "      <td>40.00</td>\n",
       "    </tr>\n",
       "    <tr>\n",
       "      <td>8</td>\n",
       "      <td>Запустить акцию, дающую скидку на товар в день рождения</td>\n",
       "      <td>16.20</td>\n",
       "    </tr>\n",
       "    <tr>\n",
       "      <td>3</td>\n",
       "      <td>Изменить структура категорий, что увеличит конверсию, т.к. пользователи быстрее найдут нужный товар</td>\n",
       "      <td>9.00</td>\n",
       "    </tr>\n",
       "    <tr>\n",
       "      <td>1</td>\n",
       "      <td>Запустить собственную службу доставки, что сократит срок доставки заказов</td>\n",
       "      <td>4.00</td>\n",
       "    </tr>\n",
       "    <tr>\n",
       "      <td>5</td>\n",
       "      <td>Добавить страницу отзывов клиентов о магазине, что позволит увеличить количество заказов</td>\n",
       "      <td>4.00</td>\n",
       "    </tr>\n",
       "    <tr>\n",
       "      <td>4</td>\n",
       "      <td>Изменить цвет фона главной страницы, чтобы увеличить вовлеченность пользователей</td>\n",
       "      <td>3.00</td>\n",
       "    </tr>\n",
       "  </tbody>\n",
       "</table>\n",
       "</div>"
      ],
      "text/plain": [
       "                                                                                                     hypothesis  \\\n",
       "7              Добавить форму подписки на все основные страницы, чтобы собрать базу клиентов для email-рассылок   \n",
       "2  Добавить блоки рекомендаций товаров на сайт интернет магазина, чтобы повысить конверсию и средний чек заказа   \n",
       "0            Добавить два новых канала привлечения трафика, что позволит привлекать на 30% больше пользователей   \n",
       "6          Показать на главной странице баннеры с актуальными акциями и распродажами, чтобы увеличить конверсию   \n",
       "8                                                       Запустить акцию, дающую скидку на товар в день рождения   \n",
       "3           Изменить структура категорий, что увеличит конверсию, т.к. пользователи быстрее найдут нужный товар   \n",
       "1                                     Запустить собственную службу доставки, что сократит срок доставки заказов   \n",
       "5                      Добавить страницу отзывов клиентов о магазине, что позволит увеличить количество заказов   \n",
       "4                              Изменить цвет фона главной страницы, чтобы увеличить вовлеченность пользователей   \n",
       "\n",
       "    RICE  \n",
       "7 112.00  \n",
       "2  56.00  \n",
       "0  40.00  \n",
       "6  40.00  \n",
       "8  16.20  \n",
       "3   9.00  \n",
       "1   4.00  \n",
       "5   4.00  \n",
       "4   3.00  "
      ]
     },
     "execution_count": 21,
     "metadata": {},
     "output_type": "execute_result"
    }
   ],
   "source": [
    "hypothesis['RICE'] = hypothesis['reach'] * hypothesis['impact'] * hypothesis['confidence'] / hypothesis['efforts']\n",
    "hypothesis.sort_values(by='RICE', ascending=False)[['hypothesis', 'RICE']]"
   ]
  },
  {
   "cell_type": "markdown",
   "metadata": {},
   "source": [
    "Выведем список гипотез и полученные результаты по приоритизации RICE и ICE."
   ]
  },
  {
   "cell_type": "code",
   "execution_count": 22,
   "metadata": {
    "scrolled": true
   },
   "outputs": [
    {
     "data": {
      "text/html": [
       "<style  type=\"text/css\" >\n",
       "    #T_73ca3c10_9498_11ec_a354_02420a398bbdrow0_col1 {\n",
       "            background-color:  #08306b;\n",
       "            color:  #f1f1f1;\n",
       "        }    #T_73ca3c10_9498_11ec_a354_02420a398bbdrow0_col2 {\n",
       "            background-color:  #3686c0;\n",
       "            color:  #000000;\n",
       "        }    #T_73ca3c10_9498_11ec_a354_02420a398bbdrow1_col1 {\n",
       "            background-color:  #71b1d7;\n",
       "            color:  #000000;\n",
       "        }    #T_73ca3c10_9498_11ec_a354_02420a398bbdrow1_col2 {\n",
       "            background-color:  #95c5df;\n",
       "            color:  #000000;\n",
       "        }    #T_73ca3c10_9498_11ec_a354_02420a398bbdrow2_col1 {\n",
       "            background-color:  #aacfe5;\n",
       "            color:  #000000;\n",
       "        }    #T_73ca3c10_9498_11ec_a354_02420a398bbdrow2_col2 {\n",
       "            background-color:  #1561a9;\n",
       "            color:  #f1f1f1;\n",
       "        }    #T_73ca3c10_9498_11ec_a354_02420a398bbdrow3_col1 {\n",
       "            background-color:  #aacfe5;\n",
       "            color:  #000000;\n",
       "        }    #T_73ca3c10_9498_11ec_a354_02420a398bbdrow3_col2 {\n",
       "            background-color:  #7cb7da;\n",
       "            color:  #000000;\n",
       "        }    #T_73ca3c10_9498_11ec_a354_02420a398bbdrow4_col1 {\n",
       "            background-color:  #dfebf7;\n",
       "            color:  #000000;\n",
       "        }    #T_73ca3c10_9498_11ec_a354_02420a398bbdrow4_col2 {\n",
       "            background-color:  #08306b;\n",
       "            color:  #f1f1f1;\n",
       "        }    #T_73ca3c10_9498_11ec_a354_02420a398bbdrow5_col1 {\n",
       "            background-color:  #ecf4fb;\n",
       "            color:  #000000;\n",
       "        }    #T_73ca3c10_9498_11ec_a354_02420a398bbdrow5_col2 {\n",
       "            background-color:  #f5fafe;\n",
       "            color:  #000000;\n",
       "        }    #T_73ca3c10_9498_11ec_a354_02420a398bbdrow6_col1 {\n",
       "            background-color:  #f5fafe;\n",
       "            color:  #000000;\n",
       "        }    #T_73ca3c10_9498_11ec_a354_02420a398bbdrow6_col2 {\n",
       "            background-color:  #eaf3fb;\n",
       "            color:  #000000;\n",
       "        }    #T_73ca3c10_9498_11ec_a354_02420a398bbdrow7_col1 {\n",
       "            background-color:  #f5fafe;\n",
       "            color:  #000000;\n",
       "        }    #T_73ca3c10_9498_11ec_a354_02420a398bbdrow7_col2 {\n",
       "            background-color:  #f3f8fe;\n",
       "            color:  #000000;\n",
       "        }    #T_73ca3c10_9498_11ec_a354_02420a398bbdrow8_col1 {\n",
       "            background-color:  #f7fbff;\n",
       "            color:  #000000;\n",
       "        }    #T_73ca3c10_9498_11ec_a354_02420a398bbdrow8_col2 {\n",
       "            background-color:  #f7fbff;\n",
       "            color:  #000000;\n",
       "        }</style><table id=\"T_73ca3c10_9498_11ec_a354_02420a398bbd\" ><thead>    <tr>        <th class=\"blank level0\" ></th>        <th class=\"col_heading level0 col0\" >hypothesis</th>        <th class=\"col_heading level0 col1\" >RICE</th>        <th class=\"col_heading level0 col2\" >ICE</th>    </tr></thead><tbody>\n",
       "                <tr>\n",
       "                        <th id=\"T_73ca3c10_9498_11ec_a354_02420a398bbdlevel0_row0\" class=\"row_heading level0 row0\" >7</th>\n",
       "                        <td id=\"T_73ca3c10_9498_11ec_a354_02420a398bbdrow0_col0\" class=\"data row0 col0\" >Добавить форму подписки на все основные страницы, чтобы собрать базу клиентов для email-рассылок</td>\n",
       "                        <td id=\"T_73ca3c10_9498_11ec_a354_02420a398bbdrow0_col1\" class=\"data row0 col1\" >112</td>\n",
       "                        <td id=\"T_73ca3c10_9498_11ec_a354_02420a398bbdrow0_col2\" class=\"data row0 col2\" >11.2</td>\n",
       "            </tr>\n",
       "            <tr>\n",
       "                        <th id=\"T_73ca3c10_9498_11ec_a354_02420a398bbdlevel0_row1\" class=\"row_heading level0 row1\" >2</th>\n",
       "                        <td id=\"T_73ca3c10_9498_11ec_a354_02420a398bbdrow1_col0\" class=\"data row1 col0\" >Добавить блоки рекомендаций товаров на сайт интернет магазина, чтобы повысить конверсию и средний чек заказа</td>\n",
       "                        <td id=\"T_73ca3c10_9498_11ec_a354_02420a398bbdrow1_col1\" class=\"data row1 col1\" >56</td>\n",
       "                        <td id=\"T_73ca3c10_9498_11ec_a354_02420a398bbdrow1_col2\" class=\"data row1 col2\" >7</td>\n",
       "            </tr>\n",
       "            <tr>\n",
       "                        <th id=\"T_73ca3c10_9498_11ec_a354_02420a398bbdlevel0_row2\" class=\"row_heading level0 row2\" >0</th>\n",
       "                        <td id=\"T_73ca3c10_9498_11ec_a354_02420a398bbdrow2_col0\" class=\"data row2 col0\" >Добавить два новых канала привлечения трафика, что позволит привлекать на 30% больше пользователей</td>\n",
       "                        <td id=\"T_73ca3c10_9498_11ec_a354_02420a398bbdrow2_col1\" class=\"data row2 col1\" >40</td>\n",
       "                        <td id=\"T_73ca3c10_9498_11ec_a354_02420a398bbdrow2_col2\" class=\"data row2 col2\" >13.3333</td>\n",
       "            </tr>\n",
       "            <tr>\n",
       "                        <th id=\"T_73ca3c10_9498_11ec_a354_02420a398bbdlevel0_row3\" class=\"row_heading level0 row3\" >6</th>\n",
       "                        <td id=\"T_73ca3c10_9498_11ec_a354_02420a398bbdrow3_col0\" class=\"data row3 col0\" >Показать на главной странице баннеры с актуальными акциями и распродажами, чтобы увеличить конверсию</td>\n",
       "                        <td id=\"T_73ca3c10_9498_11ec_a354_02420a398bbdrow3_col1\" class=\"data row3 col1\" >40</td>\n",
       "                        <td id=\"T_73ca3c10_9498_11ec_a354_02420a398bbdrow3_col2\" class=\"data row3 col2\" >8</td>\n",
       "            </tr>\n",
       "            <tr>\n",
       "                        <th id=\"T_73ca3c10_9498_11ec_a354_02420a398bbdlevel0_row4\" class=\"row_heading level0 row4\" >8</th>\n",
       "                        <td id=\"T_73ca3c10_9498_11ec_a354_02420a398bbdrow4_col0\" class=\"data row4 col0\" >Запустить акцию, дающую скидку на товар в день рождения</td>\n",
       "                        <td id=\"T_73ca3c10_9498_11ec_a354_02420a398bbdrow4_col1\" class=\"data row4 col1\" >16.2</td>\n",
       "                        <td id=\"T_73ca3c10_9498_11ec_a354_02420a398bbdrow4_col2\" class=\"data row4 col2\" >16.2</td>\n",
       "            </tr>\n",
       "            <tr>\n",
       "                        <th id=\"T_73ca3c10_9498_11ec_a354_02420a398bbdlevel0_row5\" class=\"row_heading level0 row5\" >3</th>\n",
       "                        <td id=\"T_73ca3c10_9498_11ec_a354_02420a398bbdrow5_col0\" class=\"data row5 col0\" >Изменить структура категорий, что увеличит конверсию, т.к. пользователи быстрее найдут нужный товар</td>\n",
       "                        <td id=\"T_73ca3c10_9498_11ec_a354_02420a398bbdrow5_col1\" class=\"data row5 col1\" >9</td>\n",
       "                        <td id=\"T_73ca3c10_9498_11ec_a354_02420a398bbdrow5_col2\" class=\"data row5 col2\" >1.125</td>\n",
       "            </tr>\n",
       "            <tr>\n",
       "                        <th id=\"T_73ca3c10_9498_11ec_a354_02420a398bbdlevel0_row6\" class=\"row_heading level0 row6\" >1</th>\n",
       "                        <td id=\"T_73ca3c10_9498_11ec_a354_02420a398bbdrow6_col0\" class=\"data row6 col0\" >Запустить собственную службу доставки, что сократит срок доставки заказов</td>\n",
       "                        <td id=\"T_73ca3c10_9498_11ec_a354_02420a398bbdrow6_col1\" class=\"data row6 col1\" >4</td>\n",
       "                        <td id=\"T_73ca3c10_9498_11ec_a354_02420a398bbdrow6_col2\" class=\"data row6 col2\" >2</td>\n",
       "            </tr>\n",
       "            <tr>\n",
       "                        <th id=\"T_73ca3c10_9498_11ec_a354_02420a398bbdlevel0_row7\" class=\"row_heading level0 row7\" >5</th>\n",
       "                        <td id=\"T_73ca3c10_9498_11ec_a354_02420a398bbdrow7_col0\" class=\"data row7 col0\" >Добавить страницу отзывов клиентов о магазине, что позволит увеличить количество заказов</td>\n",
       "                        <td id=\"T_73ca3c10_9498_11ec_a354_02420a398bbdrow7_col1\" class=\"data row7 col1\" >4</td>\n",
       "                        <td id=\"T_73ca3c10_9498_11ec_a354_02420a398bbdrow7_col2\" class=\"data row7 col2\" >1.33333</td>\n",
       "            </tr>\n",
       "            <tr>\n",
       "                        <th id=\"T_73ca3c10_9498_11ec_a354_02420a398bbdlevel0_row8\" class=\"row_heading level0 row8\" >4</th>\n",
       "                        <td id=\"T_73ca3c10_9498_11ec_a354_02420a398bbdrow8_col0\" class=\"data row8 col0\" >Изменить цвет фона главной страницы, чтобы увеличить вовлеченность пользователей</td>\n",
       "                        <td id=\"T_73ca3c10_9498_11ec_a354_02420a398bbdrow8_col1\" class=\"data row8 col1\" >3</td>\n",
       "                        <td id=\"T_73ca3c10_9498_11ec_a354_02420a398bbdrow8_col2\" class=\"data row8 col2\" >1</td>\n",
       "            </tr>\n",
       "    </tbody></table>"
      ],
      "text/plain": [
       "<pandas.io.formats.style.Styler at 0x7f76f04dda90>"
      ]
     },
     "execution_count": 22,
     "metadata": {},
     "output_type": "execute_result"
    }
   ],
   "source": [
    "hypothesis[['hypothesis', 'RICE', 'ICE']].sort_values(by='RICE', ascending=False).style.background_gradient(cmap='Blues')"
   ]
  },
  {
   "cell_type": "markdown",
   "metadata": {},
   "source": [
    "### Вывод по приоритизации"
   ]
  },
  {
   "cell_type": "markdown",
   "metadata": {},
   "source": [
    "* Как видим, приоритизация по ICE выдаёт для первостепенного тестирования гипотезы \"Запустить акцию, дающую скидку на товар в день рождения\", \"Добавить два новых канала привлечения трафика, что позволит привлекать на 30% больше пользователей\" и \"Добавить форму подписки на все основные страницы, чтобы собрать базу клиентов для email-рассылок\".     \n",
    "* Приоритизация по RICE выдвигает на первый план гипотезы: \"Добавить форму подписки на все основные страницы, чтобы собрать базу клиентов для email-рассылок\", \"Добавить блоки рекомендаций товаров на сайт интернет магазина, чтобы повысить конверсию и средний чек заказа\" и \"Добавить два новых канала привлечения трафика, что позволит привлекать на 30% больше пользователей\".     \n",
    "* В топ-3 гипотез по обоим методам приоритизаций оказались гипотезы \"Добавить два новых канала привлечения трафика, что позволит привлекать на 30% больше пользователей\" и \"Добавить форму подписки на все основные страницы, чтобы собрать базу клиентов для email-рассылок\".\n",
    "* Очевидно, что существенное лидерство гипотезы \"Добавить форму подписки на все основные страницы, чтобы собрать базу клиентов для email-рассылок\" по RICE вызвано дешевизной тестирования (Efforts) из-за предлагаемого решения (добавить форму подписки на все основные страницы). И, напротив, гипотеза \"Запустить акцию, дающую скидку на товар в день рождения\" ялвяется дорогой для тестирования, поэтому выпала из топ-3 по RICE.    \n",
    "* Гипотезы \"Изменить структура категорий, что увеличит конверсию, т.к. пользователи быстрее найдут нужный товар\", \"Запустить собственную службу доставки, что сократит срок доставки заказов\", \"Добавить страницу отзывов клиентов о магазине, что позволит увеличить количество заказов\", \"Изменить цвет фона главной страницы, чтобы увеличить вовлеченность пользователей\" являются аутсайдерами приоритизации по итогам применения обоих методов."
   ]
  },
  {
   "cell_type": "markdown",
   "metadata": {},
   "source": [
    "## Анализ А/В теста"
   ]
  },
  {
   "cell_type": "markdown",
   "metadata": {},
   "source": [
    "Подготовим данные для анализа А/В теста:"
   ]
  },
  {
   "cell_type": "code",
   "execution_count": 23,
   "metadata": {},
   "outputs": [
    {
     "data": {
      "text/html": [
       "<div>\n",
       "<style scoped>\n",
       "    .dataframe tbody tr th:only-of-type {\n",
       "        vertical-align: middle;\n",
       "    }\n",
       "\n",
       "    .dataframe tbody tr th {\n",
       "        vertical-align: top;\n",
       "    }\n",
       "\n",
       "    .dataframe thead th {\n",
       "        text-align: right;\n",
       "    }\n",
       "</style>\n",
       "<table border=\"1\" class=\"dataframe\">\n",
       "  <thead>\n",
       "    <tr style=\"text-align: right;\">\n",
       "      <th></th>\n",
       "      <th>date</th>\n",
       "      <th>ordersPerDateA</th>\n",
       "      <th>revenuePerDateA</th>\n",
       "      <th>ordersPerDateB</th>\n",
       "      <th>revenuePerDateB</th>\n",
       "      <th>ordersCummulativeA</th>\n",
       "      <th>revenueCummulativeA</th>\n",
       "      <th>ordersCummulativeB</th>\n",
       "      <th>revenueCummulativeB</th>\n",
       "      <th>visitorsPerDateA</th>\n",
       "      <th>visitorsPerDateB</th>\n",
       "      <th>visitorsCummulativeA</th>\n",
       "      <th>visitorsCummulativeB</th>\n",
       "    </tr>\n",
       "  </thead>\n",
       "  <tbody>\n",
       "    <tr>\n",
       "      <td>0</td>\n",
       "      <td>2019-08-01</td>\n",
       "      <td>24</td>\n",
       "      <td>148579</td>\n",
       "      <td>21</td>\n",
       "      <td>101217</td>\n",
       "      <td>24</td>\n",
       "      <td>148579</td>\n",
       "      <td>21</td>\n",
       "      <td>101217</td>\n",
       "      <td>719</td>\n",
       "      <td>713</td>\n",
       "      <td>719</td>\n",
       "      <td>713</td>\n",
       "    </tr>\n",
       "    <tr>\n",
       "      <td>1</td>\n",
       "      <td>2019-08-02</td>\n",
       "      <td>20</td>\n",
       "      <td>93822</td>\n",
       "      <td>24</td>\n",
       "      <td>165531</td>\n",
       "      <td>44</td>\n",
       "      <td>242401</td>\n",
       "      <td>45</td>\n",
       "      <td>266748</td>\n",
       "      <td>619</td>\n",
       "      <td>581</td>\n",
       "      <td>1338</td>\n",
       "      <td>1294</td>\n",
       "    </tr>\n",
       "    <tr>\n",
       "      <td>2</td>\n",
       "      <td>2019-08-03</td>\n",
       "      <td>24</td>\n",
       "      <td>112473</td>\n",
       "      <td>16</td>\n",
       "      <td>114248</td>\n",
       "      <td>68</td>\n",
       "      <td>354874</td>\n",
       "      <td>61</td>\n",
       "      <td>380996</td>\n",
       "      <td>507</td>\n",
       "      <td>509</td>\n",
       "      <td>1845</td>\n",
       "      <td>1803</td>\n",
       "    </tr>\n",
       "    <tr>\n",
       "      <td>3</td>\n",
       "      <td>2019-08-04</td>\n",
       "      <td>16</td>\n",
       "      <td>70825</td>\n",
       "      <td>17</td>\n",
       "      <td>108571</td>\n",
       "      <td>84</td>\n",
       "      <td>425699</td>\n",
       "      <td>78</td>\n",
       "      <td>489567</td>\n",
       "      <td>717</td>\n",
       "      <td>770</td>\n",
       "      <td>2562</td>\n",
       "      <td>2573</td>\n",
       "    </tr>\n",
       "    <tr>\n",
       "      <td>4</td>\n",
       "      <td>2019-08-05</td>\n",
       "      <td>25</td>\n",
       "      <td>124218</td>\n",
       "      <td>23</td>\n",
       "      <td>92428</td>\n",
       "      <td>109</td>\n",
       "      <td>549917</td>\n",
       "      <td>101</td>\n",
       "      <td>581995</td>\n",
       "      <td>756</td>\n",
       "      <td>707</td>\n",
       "      <td>3318</td>\n",
       "      <td>3280</td>\n",
       "    </tr>\n",
       "  </tbody>\n",
       "</table>\n",
       "</div>"
      ],
      "text/plain": [
       "         date  ordersPerDateA  revenuePerDateA  ordersPerDateB  \\\n",
       "0  2019-08-01              24           148579              21   \n",
       "1  2019-08-02              20            93822              24   \n",
       "2  2019-08-03              24           112473              16   \n",
       "3  2019-08-04              16            70825              17   \n",
       "4  2019-08-05              25           124218              23   \n",
       "\n",
       "   revenuePerDateB  ordersCummulativeA  revenueCummulativeA  \\\n",
       "0           101217                  24               148579   \n",
       "1           165531                  44               242401   \n",
       "2           114248                  68               354874   \n",
       "3           108571                  84               425699   \n",
       "4            92428                 109               549917   \n",
       "\n",
       "   ordersCummulativeB  revenueCummulativeB  visitorsPerDateA  \\\n",
       "0                  21               101217               719   \n",
       "1                  45               266748               619   \n",
       "2                  61               380996               507   \n",
       "3                  78               489567               717   \n",
       "4                 101               581995               756   \n",
       "\n",
       "   visitorsPerDateB  visitorsCummulativeA  visitorsCummulativeB  \n",
       "0               713                   719                   713  \n",
       "1               581                  1338                  1294  \n",
       "2               509                  1845                  1803  \n",
       "3               770                  2562                  2573  \n",
       "4               707                  3318                  3280  "
      ]
     },
     "execution_count": 23,
     "metadata": {},
     "output_type": "execute_result"
    }
   ],
   "source": [
    "visitorsADaily = visitors[visitors['group'] == 'A'][['date', 'visitors']]\n",
    "visitorsADaily.columns = ['date', 'visitorsPerDateA']\n",
    "\n",
    "visitorsACummulative = visitorsADaily.apply(\n",
    "    lambda x: visitorsADaily[visitorsADaily['date'] <= x['date']].agg(\n",
    "        {'date': 'max', 'visitorsPerDateA': 'sum'}\n",
    "    ),\n",
    "    axis=1,\n",
    ")\n",
    "visitorsACummulative.columns = ['date', 'visitorsCummulativeA']\n",
    "\n",
    "visitorsBDaily = visitors[visitors['group'] == 'B'][['date', 'visitors']]\n",
    "visitorsBDaily.columns = ['date', 'visitorsPerDateB']\n",
    "\n",
    "visitorsBCummulative = visitorsBDaily.apply(\n",
    "    lambda x: visitorsBDaily[visitorsBDaily['date'] <= x['date']].agg(\n",
    "        {'date': 'max', 'visitorsPerDateB': 'sum'}\n",
    "    ),\n",
    "    axis=1,\n",
    ")\n",
    "visitorsBCummulative.columns = ['date', 'visitorsCummulativeB']\n",
    "\n",
    "ordersADaily = (\n",
    "    orders[orders['group'] == 'A'][['date', 'transaction_id', 'visitor_id', 'revenue']]\n",
    "    .groupby('date', as_index=False)\n",
    "    .agg({'transaction_id': pd.Series.nunique, 'revenue': 'sum'})\n",
    ")\n",
    "ordersADaily.columns = ['date', 'ordersPerDateA', 'revenuePerDateA']\n",
    "\n",
    "ordersACummulative = ordersADaily.apply(\n",
    "    lambda x: ordersADaily[ordersADaily['date'] <= x['date']].agg(\n",
    "        {'date': 'max', 'ordersPerDateA': 'sum', 'revenuePerDateA': 'sum'}\n",
    "    ),\n",
    "    axis=1,\n",
    ").sort_values(by=['date'])\n",
    "ordersACummulative.columns = [\n",
    "    'date',\n",
    "    'ordersCummulativeA',\n",
    "    'revenueCummulativeA',\n",
    "]\n",
    "\n",
    "ordersBDaily = (\n",
    "    orders[orders['group'] == 'B'][['date', 'transaction_id', 'visitor_id', 'revenue']]\n",
    "    .groupby('date', as_index=False)\n",
    "    .agg({'transaction_id': pd.Series.nunique, 'revenue': 'sum'})\n",
    ")\n",
    "ordersBDaily.columns = ['date', 'ordersPerDateB', 'revenuePerDateB']\n",
    "\n",
    "ordersBCummulative = ordersBDaily.apply(\n",
    "    lambda x: ordersBDaily[ordersBDaily['date'] <= x['date']].agg(\n",
    "        {'date': 'max', 'ordersPerDateB': 'sum', 'revenuePerDateB': 'sum'}\n",
    "    ),\n",
    "    axis=1,\n",
    ").sort_values(by=['date'])\n",
    "ordersBCummulative.columns = [\n",
    "    'date',\n",
    "    'ordersCummulativeB',\n",
    "    'revenueCummulativeB',\n",
    "]\n",
    "\n",
    "data = (\n",
    "    ordersADaily.merge(\n",
    "        ordersBDaily, left_on='date', right_on='date', how='left'\n",
    "    )\n",
    "    .merge(ordersACummulative, left_on='date', right_on='date', how='left')\n",
    "    .merge(ordersBCummulative, left_on='date', right_on='date', how='left')\n",
    "    .merge(visitorsADaily, left_on='date', right_on='date', how='left')\n",
    "    .merge(visitorsBDaily, left_on='date', right_on='date', how='left')\n",
    "    .merge(visitorsACummulative, left_on='date', right_on='date', how='left')\n",
    "    .merge(visitorsBCummulative, left_on='date', right_on='date', how='left')\n",
    ")\n",
    "\n",
    "data.head(5) "
   ]
  },
  {
   "cell_type": "markdown",
   "metadata": {},
   "source": [
    "### График кумулятивной выручки"
   ]
  },
  {
   "cell_type": "markdown",
   "metadata": {},
   "source": [
    "Построим график кумулятивной выручки по группам А и В:"
   ]
  },
  {
   "cell_type": "code",
   "execution_count": 24,
   "metadata": {
    "scrolled": false
   },
   "outputs": [
    {
     "data": {
      "image/png": "[encoded data removed]",
      "text/plain": [
       "<Figure size 1080x576 with 1 Axes>"
      ]
     },
     "metadata": {},
     "output_type": "display_data"
    }
   ],
   "source": [
    "# Строим график выручки группы А\n",
    "plt.plot(ordersACummulative['date'], ordersACummulative['revenueCummulativeA'], label='A', marker='o')\n",
    "\n",
    "# Строим график выручки группы B\n",
    "plt.plot(ordersBCummulative['date'], ordersBCummulative['revenueCummulativeB'], label='B', marker='o')\n",
    "plt.annotate('скачок', xy=('2019-08-17', 2800000), xytext=('2019-08-10', 3500000),\n",
    "            arrowprops=dict(facecolor='g'))\n",
    "plt.annotate('отрыв', xy=('2019-08-05', 800000), xytext=('2019-08-05', 2000000),\n",
    "            arrowprops=dict(facecolor='g'))\n",
    "plt.title('Куммулятивная выручка по группам')\n",
    "plt.xlabel('Дата')\n",
    "plt.ylabel('Выручка')\n",
    "plt.legend();             "
   ]
  },
  {
   "cell_type": "markdown",
   "metadata": {},
   "source": [
    "* Выручка по группе В была стабильно больше первые 17 дней теста. 19 августа в группе В была очень крупные покупки, что привело к резкому росту выручки по группе В и сильному итоговому отрыву от группы А.    \n",
    "* Стоит также отметить, что по темпам прироста кумулятивной выручки группа А операжает группу В в период с 25 августа по 29 августа (по группе А кумулятивная выручка за этот период увеличилась ~ 1 млн., что больше, чем по группе В)."
   ]
  },
  {
   "cell_type": "markdown",
   "metadata": {},
   "source": [
    "### Грфик кумулятивного среднего чека"
   ]
  },
  {
   "cell_type": "markdown",
   "metadata": {},
   "source": [
    "Также построим график кумулятивного среднего чека:"
   ]
  },
  {
   "cell_type": "code",
   "execution_count": 25,
   "metadata": {
    "scrolled": false
   },
   "outputs": [
    {
     "data": {
      "image/png": "[encoded data removed]",
      "text/plain": [
       "<Figure size 1080x576 with 1 Axes>"
      ]
     },
     "metadata": {},
     "output_type": "display_data"
    }
   ],
   "source": [
    "# Строим график выручки группы А\n",
    "plt.plot(\n",
    "    ordersACummulative['date'], \n",
    "    ordersACummulative['revenueCummulativeA'] / ordersACummulative['ordersCummulativeA'], \n",
    "    label='A', \n",
    "    marker='o')\n",
    "\n",
    "# Строим график выручки группы B\n",
    "plt.plot(\n",
    "    ordersBCummulative['date'], \n",
    "    ordersBCummulative['revenueCummulativeB'] / ordersBCummulative['ordersCummulativeB'], \n",
    "    label='B', \n",
    "    marker='o')\n",
    "\n",
    "plt.title('Куммулятивный средний чек по группам')\n",
    "plt.xlabel('Дата')\n",
    "plt.ylabel('Средний чек')\n",
    "plt.legend();   "
   ]
  },
  {
   "cell_type": "markdown",
   "metadata": {},
   "source": [
    "* В отличие от кумулятивной выручки, кумулятивный средний чек по группе А превышал показатель группы В в период с 12 августа по 15 августа. Однако также благодаря курпным заказам или большому количеству заказов 19 августа кумулятивный средний чек по группе В к концу теста оказался значительно больше группы А.\n",
    "* По обеим группам наблюдается всплеск роста среднего чека в период с 5-6 августа до 10 августа. При этом по группе А форсированный рост среднего чека продолжмдся вплоть до 13 августа.\n",
    "* После всплеска 19 августа средний чек группы В начал снижение, т.е. движение в сторону реального среднего чека. Предположим, что группе В нужно больше времени, чтобы прийтик реальному среднему чеку."
   ]
  },
  {
   "cell_type": "markdown",
   "metadata": {},
   "source": [
    "### Относительное изменение кумулятивного среднего чека группы B к группе A"
   ]
  },
  {
   "cell_type": "markdown",
   "metadata": {},
   "source": [
    "Оценим относительное различие среднего чека по группам А и В:"
   ]
  },
  {
   "cell_type": "code",
   "execution_count": 26,
   "metadata": {},
   "outputs": [],
   "source": [
    "mergedCumulativeRevenue = ordersACummulative.merge(ordersBCummulative, \n",
    "                                                   left_on='date', \n",
    "                                                   right_on='date', \n",
    "                                                   how='left', \n",
    "                                                   suffixes=['A', 'B'])"
   ]
  },
  {
   "cell_type": "code",
   "execution_count": 27,
   "metadata": {
    "scrolled": false
   },
   "outputs": [
    {
     "data": {
      "image/png": "[encoded data removed]",
      "text/plain": [
       "<Figure size 1080x576 with 1 Axes>"
      ]
     },
     "metadata": {},
     "output_type": "display_data"
    }
   ],
   "source": [
    "plt.plot(mergedCumulativeRevenue['date'], \n",
    "         (mergedCumulativeRevenue['revenueCummulativeB']/mergedCumulativeRevenue['ordersCummulativeB'])/(mergedCumulativeRevenue['revenueCummulativeA']/mergedCumulativeRevenue['ordersCummulativeA'])-1,\n",
    "        marker='o')\n",
    "\n",
    "# добавляем ось X\n",
    "plt.axhline(y=0, color='black', linestyle='--')\n",
    "plt.title('Относительное изменение кумулятивного среднего чека группы B к группе A')\n",
    "plt.xlabel('Дата');"
   ]
  },
  {
   "cell_type": "markdown",
   "metadata": {},
   "source": [
    "По графику относительного изменения кумулятивного среднего чека группы В к группе А видно, что отношение на протяжение всего периода резко растёт и падает. То есть имели место крупные заказы или большое количество заказов."
   ]
  },
  {
   "cell_type": "markdown",
   "metadata": {},
   "source": [
    "### График куммулятивной конверсии"
   ]
  },
  {
   "cell_type": "code",
   "execution_count": 28,
   "metadata": {
    "scrolled": false
   },
   "outputs": [
    {
     "data": {
      "image/png": "[encoded data removed]",
      "text/plain": [
       "<Figure size 1080x576 with 1 Axes>"
      ]
     },
     "metadata": {},
     "output_type": "display_data"
    }
   ],
   "source": [
    "datesGroups = orders[['date', 'group']].drop_duplicates()\n",
    "\n",
    "ordersAggregated = datesGroups.apply(\n",
    "    lambda x: orders[\n",
    "        np.logical_and(\n",
    "            orders['date'] <= x['date'], orders['group'] == x['group']\n",
    "        )\n",
    "    ].agg(\n",
    "        {\n",
    "            'date': 'max',\n",
    "            'group': 'max',\n",
    "            'transaction_id': 'nunique',\n",
    "            'visitor_id': 'nunique',\n",
    "            'revenue': 'sum',\n",
    "        }\n",
    "    ),\n",
    "    axis=1,\n",
    ").sort_values(by=['date', 'group'])\n",
    "\n",
    "visitorsAggregated = datesGroups.apply(\n",
    "    lambda x: visitors[\n",
    "        np.logical_and(\n",
    "            visitors['date'] <= x['date'], visitors['group'] == x['group']\n",
    "        )\n",
    "    ].agg({'date': 'max', 'group': 'max', 'visitors': 'sum'}),\n",
    "    axis=1,\n",
    ").sort_values(by=['date', 'group'])\n",
    "\n",
    "cumulativeData = ordersAggregated.merge(\n",
    "    visitorsAggregated, left_on=['date', 'group'], right_on=['date', 'group']\n",
    ")\n",
    "cumulativeData.columns = [\n",
    "    'date',\n",
    "    'group',\n",
    "    'orders',\n",
    "    'buyers',\n",
    "    'revenue',\n",
    "    'visitors',\n",
    "]\n",
    "\n",
    "cumulativeData['conversion'] = cumulativeData['orders']/cumulativeData['visitors']\n",
    "\n",
    "# отделяем данные по группе A\n",
    "cumulativeDataA = cumulativeData[cumulativeData['group']=='A']\n",
    "\n",
    "# отделяем данные по группе B\n",
    "cumulativeDataB = cumulativeData[cumulativeData['group']=='B']\n",
    "\n",
    "# строим графики\n",
    "plt.plot(cumulativeDataA['date'], cumulativeDataA['conversion'], label='A', marker='o')\n",
    "plt.plot(cumulativeDataB['date'], cumulativeDataB['conversion'], label='B', marker='o')\n",
    "plt.title('Куммулятивная конверсия по группам')\n",
    "plt.xlabel('Дата')\n",
    "plt.ylabel('Конверсия')\n",
    "plt.legend(); "
   ]
  },
  {
   "cell_type": "markdown",
   "metadata": {},
   "source": [
    "* Конверсия группы В стабильно выше конверсии группы А.\n",
    "* Но к концу теста конверсия группы А составила 3.0%, а группы В - 3.3-3.4%. "
   ]
  },
  {
   "cell_type": "markdown",
   "metadata": {},
   "source": [
    "### График относительного изменения кумулятивной конверсии группы B к группе A"
   ]
  },
  {
   "cell_type": "code",
   "execution_count": 29,
   "metadata": {},
   "outputs": [
    {
     "data": {
      "image/png": "[encoded data removed]",
      "text/plain": [
       "<Figure size 1080x576 with 1 Axes>"
      ]
     },
     "metadata": {},
     "output_type": "display_data"
    }
   ],
   "source": [
    "mergedCumulativeConversions = cumulativeDataA[['date','conversion']].merge(\n",
    "    cumulativeDataB[['date','conversion']], \n",
    "    left_on='date', \n",
    "    right_on='date', \n",
    "    how='left', \n",
    "    suffixes=['A', 'B'])\n",
    "\n",
    "plt.plot(\n",
    "    mergedCumulativeConversions['date'], \n",
    "    mergedCumulativeConversions['conversionB']/mergedCumulativeConversions['conversionA']-1, \n",
    "    label=\"Относительный прирост конверсии группы B относительно группы A\",\n",
    "    marker='o')\n",
    "plt.axhline(y=0, color='black', linestyle='--')\n",
    "plt.title('Относительное изменение конверсии группы В к группе А')\n",
    "plt.xlabel('Дата'); "
   ]
  },
  {
   "cell_type": "markdown",
   "metadata": {},
   "source": [
    "По графику относительного изменения кумулятивной конверсии группы В к группе А видно, что конверсия группы В больше в среднем на 10-15%, чем у группы А."
   ]
  },
  {
   "cell_type": "markdown",
   "metadata": {},
   "source": [
    "### Точечный график количества заказов по пользователям"
   ]
  },
  {
   "cell_type": "markdown",
   "metadata": {},
   "source": [
    "Посмотрим на точечный график количества заказов по пользователям:"
   ]
  },
  {
   "cell_type": "code",
   "execution_count": 30,
   "metadata": {},
   "outputs": [],
   "source": [
    "ordersByUsers = (\n",
    "    orders.groupby('visitor_id', as_index=False)\n",
    "    .agg({'transaction_id': pd.Series.nunique})\n",
    ")\n",
    "\n",
    "ordersByUsers.columns = ['visitor_id', 'orders']"
   ]
  },
  {
   "cell_type": "code",
   "execution_count": 31,
   "metadata": {
    "scrolled": false
   },
   "outputs": [
    {
     "data": {
      "image/png": "[encoded data removed]",
      "text/plain": [
       "<Figure size 1080x576 with 1 Axes>"
      ]
     },
     "metadata": {},
     "output_type": "display_data"
    }
   ],
   "source": [
    "x_values = pd.Series(range(0,len(ordersByUsers)))\n",
    "plt.scatter(x_values, ordersByUsers['orders'])\n",
    "plt.title('Точечный график количества заказов по пользователям')\n",
    "plt.ylabel('Количество заказов');"
   ]
  },
  {
   "cell_type": "markdown",
   "metadata": {},
   "source": [
    "Как видим, пользователи редко делали более 2 - 3 заказов. Однако оценить точную долю таких пользователей по графику невозможно."
   ]
  },
  {
   "cell_type": "markdown",
   "metadata": {},
   "source": [
    "### Перцентили количества заказов на пользователя"
   ]
  },
  {
   "cell_type": "markdown",
   "metadata": {},
   "source": [
    "Чтобы понять сколько заказов на пользователя считать \"нормальным\", а какое - аномальным, применим метод `np.percentile` и рассчитаем 95 и 99 перцентили: "
   ]
  },
  {
   "cell_type": "code",
   "execution_count": 32,
   "metadata": {},
   "outputs": [
    {
     "data": {
      "text/plain": [
       "'95 перцентиль количества заказов на пользователя: [2.]'"
      ]
     },
     "metadata": {},
     "output_type": "display_data"
    },
    {
     "data": {
      "text/plain": [
       "'99 перцентиль количества заказов на пользователя: [4.]'"
      ]
     },
     "metadata": {},
     "output_type": "display_data"
    }
   ],
   "source": [
    "display(f'95 перцентиль количества заказов на пользователя: {np.percentile(ordersByUsers[\"orders\"], [95])}')\n",
    "display(f'99 перцентиль количества заказов на пользователя: {np.percentile(ordersByUsers[\"orders\"], [99])}')"
   ]
  },
  {
   "cell_type": "markdown",
   "metadata": {},
   "source": [
    "95% от всех пользователей совершали не более 2 заказов. То есть всего 5% пользователей совершили 3 и более заказов. Поэтому будем считать границу в 2 заказа для удаления аномальных данных о количестве заказов на пользователя."
   ]
  },
  {
   "cell_type": "markdown",
   "metadata": {},
   "source": [
    "### Точечный график стоимостей заказов"
   ]
  },
  {
   "cell_type": "code",
   "execution_count": 33,
   "metadata": {
    "scrolled": false
   },
   "outputs": [
    {
     "data": {
      "image/png": "[encoded data removed]",
      "text/plain": [
       "<Figure size 1080x576 with 1 Axes>"
      ]
     },
     "metadata": {},
     "output_type": "display_data"
    }
   ],
   "source": [
    "x_values = pd.Series(range(0,len(orders['revenue'])))\n",
    "plt.scatter(x_values, orders['revenue'])\n",
    "plt.title('Точечный график стоимостей заказов')\n",
    "plt.ylabel('Стоимость заказов')\n",
    "plt.ylim(top=50000, bottom=0);"
   ]
  },
  {
   "cell_type": "markdown",
   "metadata": {},
   "source": [
    "Как видим, выручка с заказа редко когда превышают 30 тыс. руб. Для более точной оценки также прибегнем к методу `np.percentile`:"
   ]
  },
  {
   "cell_type": "markdown",
   "metadata": {},
   "source": [
    "### Перцентили выручки с заказа"
   ]
  },
  {
   "cell_type": "markdown",
   "metadata": {},
   "source": [
    "Определим 95 и 99 перцентили для выручки с заказа:"
   ]
  },
  {
   "cell_type": "code",
   "execution_count": 34,
   "metadata": {},
   "outputs": [
    {
     "data": {
      "text/plain": [
       "'95 перцентиль суммы выручки с заказа: [28000.]'"
      ]
     },
     "metadata": {},
     "output_type": "display_data"
    },
    {
     "data": {
      "text/plain": [
       "'99 перцентиль суммы выручки с заказа: [58233.2]'"
      ]
     },
     "metadata": {},
     "output_type": "display_data"
    }
   ],
   "source": [
    "display(f'95 перцентиль суммы выручки с заказа: {np.percentile(orders[\"revenue\"], [95])}')\n",
    "display(f'99 перцентиль суммы выручки с заказа: {np.percentile(orders[\"revenue\"], [99])}')"
   ]
  },
  {
   "cell_type": "markdown",
   "metadata": {},
   "source": [
    "Соответственно, только в 5% выручка с заказа превышает 28 тыс. и только в 1% - 58 тыс. Поэтому примем показатель выручки с заказа в 28 тыс. как границу для отсеивания аномальных значений. "
   ]
  },
  {
   "cell_type": "markdown",
   "metadata": {},
   "source": [
    "### Расчёт статистической значимости различий в конверсии между группами по «сырым» данным"
   ]
  },
  {
   "cell_type": "markdown",
   "metadata": {},
   "source": [
    "Сформулируем гипотезы:\n",
    "* H0 = вероятность, что случайное значение конверсии в группе А больше, чем случайное значение конверсии в группе В, равна 50%.\n",
    "* H1 = вероятность, что случайное значение конверсии в группе А больше, чем случайное значение конверсии в группе В, не равна 50%."
   ]
  },
  {
   "cell_type": "code",
   "execution_count": 35,
   "metadata": {},
   "outputs": [
    {
     "name": "stdout",
     "output_type": "stream",
     "text": [
      "p-значение:  0.017\n",
      "Отвергаем нулевую гипотезу\n",
      "Относительная разница в конверсиях групп А и В:  13.8%\n"
     ]
    }
   ],
   "source": [
    "ordersByUsersA = (\n",
    "    orders[orders['group'] == 'A']\n",
    "    .groupby('visitor_id', as_index=False)\n",
    "    .agg({'transaction_id': pd.Series.nunique})\n",
    ")\n",
    "ordersByUsersA.columns = ['userId', 'orders']\n",
    "\n",
    "ordersByUsersB = (\n",
    "    orders[orders['group'] == 'B']\n",
    "    .groupby('visitor_id', as_index=False)\n",
    "    .agg({'transaction_id': pd.Series.nunique})\n",
    ")\n",
    "ordersByUsersB.columns = ['userId', 'orders'] \n",
    "\n",
    "sampleA = pd.concat(\n",
    "    [\n",
    "        ordersByUsersA['orders'],\n",
    "        pd.Series(\n",
    "            0,\n",
    "            index=np.arange(\n",
    "                data['visitorsPerDateA'].sum() - len(ordersByUsersA['orders'])\n",
    "            ),\n",
    "            name='orders',\n",
    "        ),\n",
    "    ],\n",
    "    axis=0,\n",
    ")\n",
    "\n",
    "sampleB = pd.concat(\n",
    "    [\n",
    "        ordersByUsersB['orders'],\n",
    "        pd.Series(\n",
    "            0,\n",
    "            index=np.arange(\n",
    "                data['visitorsPerDateB'].sum() - len(ordersByUsersB['orders'])\n",
    "            ),\n",
    "            name='orders',\n",
    "        ),\n",
    "    ],\n",
    "    axis=0,\n",
    ")\n",
    "\n",
    "alpha = 0.05  # критический уровень статистической значимости\n",
    "\n",
    "results = st.mannwhitneyu(sampleA, sampleB, alternative=\"two-sided\")[1]\n",
    "\n",
    "print('p-значение: ', \"{0:.3f}\".format(results))\n",
    "\n",
    "if results < alpha:\n",
    "    print('Отвергаем нулевую гипотезу')\n",
    "else:\n",
    "    print(\n",
    "        'Не получилось отвергнуть нулевую гипотезу'\n",
    "    ) \n",
    "\n",
    "print('Относительная разница в конверсиях групп А и В: ',\n",
    "      \"{0:.1%}\".format(sampleB.mean() / sampleA.mean() - 1))"
   ]
  },
  {
   "cell_type": "markdown",
   "metadata": {},
   "source": [
    "Таким образом, поскольку p-value меньше критического уровня значимости нулевая гипотеза отвергается. При этом конверсия на 13% выше в группе В."
   ]
  },
  {
   "cell_type": "markdown",
   "metadata": {},
   "source": [
    "###  Расчёт статистической значимости различий в среднем чеке заказа между группами по «сырым» данным"
   ]
  },
  {
   "cell_type": "markdown",
   "metadata": {},
   "source": [
    "Сформулируем гипотезы:\n",
    "* H0 = вероятность, что случайное значение среднего чека в группе А больше, чем случайное значение среднего чека в группе В, равна 50%.\n",
    "* H1 = вероятность, что случайное значение среднего чека в группе А больше, чем случайное значение среднего чека в группе В, не равна 50%."
   ]
  },
  {
   "cell_type": "code",
   "execution_count": 36,
   "metadata": {},
   "outputs": [
    {
     "name": "stdout",
     "output_type": "stream",
     "text": [
      "p-значение:  0.729\n",
      "Не получилось отвергнуть нулевую гипотезу\n",
      "Относительная разница в среднем чеке групп А и В:  25.9%\n"
     ]
    }
   ],
   "source": [
    "alpha = 0.05  # критический уровень статистической значимости\n",
    "\n",
    "results = st.mannwhitneyu(orders[orders['group']=='A']['revenue'], orders[orders['group']=='B']['revenue'], alternative=\"two-sided\")[1]\n",
    "\n",
    "print('p-значение: ', \"{0:.3f}\".format(results))\n",
    "\n",
    "if results < alpha:\n",
    "    print('Отвергаем нулевую гипотезу')\n",
    "else:\n",
    "    print(\n",
    "        'Не получилось отвергнуть нулевую гипотезу'\n",
    "    ) \n",
    "\n",
    "print('Относительная разница в среднем чеке групп А и В: ', \n",
    "      \"{0:.1%}\".format(orders[orders[\"group\"]==\"B\"][\"revenue\"].mean()/orders[orders[\"group\"]==\"A\"][\"revenue\"].mean()-1)) "
   ]
  },
  {
   "cell_type": "markdown",
   "metadata": {},
   "source": [
    "Поскольку p-value больше критического уровня значимости отвергнуть нулевую гипотезу не получилось. Статистически значимые отличия среднего чека групп А и В не установлены. В относительном выражении средний чек группы В больше группы А на 25%."
   ]
  },
  {
   "cell_type": "markdown",
   "metadata": {},
   "source": [
    "### Статистическая значимость различий в конверсии между группами по «очищенным» данным."
   ]
  },
  {
   "cell_type": "markdown",
   "metadata": {},
   "source": [
    "Возьмём для удаления выбросов показатели в 95 перцентиль, т.е. границей отсеивания выбросов будет не более 28 тыс. выручки с заказа и не более 2 заказа на пользователя."
   ]
  },
  {
   "cell_type": "code",
   "execution_count": 37,
   "metadata": {},
   "outputs": [],
   "source": [
    "revenue_outlier = np.percentile(orders['revenue'], [95])[0]\n",
    "orders_outlier = np.percentile(ordersByUsers['orders'], [95])[0]\n",
    "\n",
    "# поищем тех пользователей, кто делал аномально много заказов\n",
    "usersWithManyOrders = pd.concat(\n",
    "    [\n",
    "        ordersByUsersA[ordersByUsersA['orders'] > orders_outlier]['userId'],\n",
    "        ordersByUsersB[ordersByUsersB['orders'] > orders_outlier]['userId'],\n",
    "    ],\n",
    "    axis=0,\n",
    ")\n",
    "\n",
    "# потом поищем тех пользователей, кто потратил аномально много\n",
    "usersWithExpensiveOrders = orders[orders['revenue'] > revenue_outlier]['visitor_id']\n",
    "\n",
    "# объединим этих аномальных пользователей и удалим дубликаты\n",
    "abnormalUsers = (\n",
    "    pd.concat([usersWithManyOrders, usersWithExpensiveOrders], axis=0)\n",
    "    .drop_duplicates()\n",
    "    .sort_values()\n",
    ")"
   ]
  },
  {
   "cell_type": "markdown",
   "metadata": {},
   "source": [
    "Сформулируем гипотезы:\n",
    "\n",
    "Сформулируем гипотезы:\n",
    "* H0 = вероятность, что случайное значение конверсии в группе А больше, чем случайное значение конверсии в группе В по \"очищенным\" данным, равна 50%.\n",
    "* H1 = вероятность, что случайное значение конверсии в группе А больше, чем случайное значение конверсии в группе В по \"очищенным\" данным, не равна 50%."
   ]
  },
  {
   "cell_type": "code",
   "execution_count": 38,
   "metadata": {},
   "outputs": [
    {
     "name": "stdout",
     "output_type": "stream",
     "text": [
      "p-значение:  0.013\n",
      "Отвергаем нулевую гипотезу\n",
      "Относительная разница в конверсии групп А и В по \"очищенным данным\":  17.3%\n"
     ]
    }
   ],
   "source": [
    "sampleAFiltered = pd.concat(\n",
    "    [\n",
    "        ordersByUsersA[\n",
    "            np.logical_not(ordersByUsersA['userId'].isin(abnormalUsers))\n",
    "        ]['orders'],\n",
    "        pd.Series(\n",
    "            0,\n",
    "            index=np.arange(\n",
    "                data['visitorsPerDateA'].sum() - len(ordersByUsersA['orders'])\n",
    "            ),\n",
    "            name='orders',\n",
    "        ),\n",
    "    ],\n",
    "    axis=0,\n",
    ")\n",
    "\n",
    "sampleBFiltered = pd.concat(\n",
    "    [\n",
    "        ordersByUsersB[\n",
    "            np.logical_not(ordersByUsersB['userId'].isin(abnormalUsers))\n",
    "        ]['orders'],\n",
    "        pd.Series(\n",
    "            0,\n",
    "            index=np.arange(\n",
    "                data['visitorsPerDateB'].sum() - len(ordersByUsersB['orders'])\n",
    "            ),\n",
    "            name='orders',\n",
    "        ),\n",
    "    ],\n",
    "    axis=0,\n",
    ")\n",
    "\n",
    "alpha = 0.05  # критический уровень статистической значимости\n",
    "\n",
    "results = st.mannwhitneyu(sampleAFiltered, sampleBFiltered, alternative=\"two-sided\")[1]\n",
    "\n",
    "print('p-значение: ', \"{0:.3f}\".format(results))\n",
    "\n",
    "if results < alpha:\n",
    "    print('Отвергаем нулевую гипотезу')\n",
    "else:\n",
    "    print(\n",
    "        'Не получилось отвергнуть нулевую гипотезу'\n",
    "    ) \n",
    "\n",
    "print('Относительная разница в конверсии групп А и В по \"очищенным данным\": ',\n",
    "      \"{0:.1%}\".format(sampleBFiltered.mean()/sampleAFiltered.mean()-1)) "
   ]
  },
  {
   "cell_type": "markdown",
   "metadata": {},
   "source": [
    "После очистки данных от выбросов разница в конверсиях групп А и В также статистически значима, как и до очистки. При этом в группе В конверсия выше, чем в группа А на 17%"
   ]
  },
  {
   "cell_type": "markdown",
   "metadata": {},
   "source": [
    "### Статистическая значимость различий в среднем чеке заказа между группами по «очищенным» данным."
   ]
  },
  {
   "cell_type": "markdown",
   "metadata": {},
   "source": [
    "Оценим также статистическую значимость разлчиий в среднем чеке обоих групп после очистки данных.    \n",
    "Сформулируем гипотезы:\n",
    "* H0 = вероятность, что случайное значение среднего чека в группе А больше, чем случайное значение среднего чека в группе В по \"очищенным\" данным, равна 50%.\n",
    "* H1 = вероятность, что случайное значение среднего чека в группе А больше, чем случайное значение среднего чека в группе В по \"очищенным\" данным, не равна 50%."
   ]
  },
  {
   "cell_type": "code",
   "execution_count": 39,
   "metadata": {},
   "outputs": [
    {
     "name": "stdout",
     "output_type": "stream",
     "text": [
      "p-значение:  0.738\n",
      "Не получилось отвергнуть нулевую гипотезу\n",
      "Относительная разница в срднем чеке групп А и В по \"очищенным данным\":  -2.0%\n"
     ]
    }
   ],
   "source": [
    "alpha = 0.05  # критический уровень статистической значимости\n",
    "\n",
    "results = st.mannwhitneyu(\n",
    "            orders[\n",
    "                np.logical_and(\n",
    "                    orders['group'] == 'A',\n",
    "                    np.logical_not(orders['visitor_id'].isin(abnormalUsers)),\n",
    "                )\n",
    "            ]['revenue'],\n",
    "            orders[\n",
    "                np.logical_and(\n",
    "                    orders['group'] == 'B',\n",
    "                    np.logical_not(orders['visitor_id'].isin(abnormalUsers)),\n",
    "                )\n",
    "            ]['revenue'],\n",
    "        alternative=\"two-sided\")[1]\n",
    "\n",
    "print('p-значение: ', \"{0:.3f}\".format(results))\n",
    "\n",
    "if results < alpha:\n",
    "    print('Отвергаем нулевую гипотезу')\n",
    "else:\n",
    "    print('Не получилось отвергнуть нулевую гипотезу') \n",
    "    \n",
    "print('Относительная разница в срднем чеке групп А и В по \"очищенным данным\": ', \n",
    "    \"{0:.1%}\".format(\n",
    "        orders[\n",
    "            np.logical_and(\n",
    "                orders['group'] == 'B',\n",
    "                np.logical_not(orders['visitor_id'].isin(abnormalUsers)),\n",
    "            )\n",
    "        ]['revenue'].mean()\n",
    "        / orders[\n",
    "            np.logical_and(\n",
    "                orders['group'] == 'A',\n",
    "                np.logical_not(orders['visitor_id'].isin(abnormalUsers)),\n",
    "            )\n",
    "        ]['revenue'].mean()\n",
    "        - 1\n",
    "    )\n",
    ")"
   ]
  },
  {
   "cell_type": "markdown",
   "metadata": {},
   "source": [
    "После очистки данных отвергнуть гипотезу о наличи статистически значимых различий в среднем чеке групп А и В не получилось. В относительной разнице средний чек группы А больше группы В на 2% по очищенным данным."
   ]
  },
  {
   "cell_type": "markdown",
   "metadata": {},
   "source": [
    "## Выводы и решения по результатам анализа А/В теста"
   ]
  },
  {
   "cell_type": "markdown",
   "metadata": {},
   "source": [
    "По результатам анализа А/В теста следует остановить тест и признать победу группы В. Конверсия (в данном тесте - количество покупок пользователей) выше у группы В, чем у группы А, т.е. юзеры из группы В стали делать больше покупок относительно юзеров из группы А. Средний чек группы В меньше, чем у группы А. Статистически значимая разница в средних чеках не обнаружена. То есть при повышении количества покупок у пользователей группы В средний чек не вырос. Но за счёт роста количества заказов общая выручка с заказов пользователей группы В будет больше, чем у группы А."
   ]
  },
  {
   "cell_type": "markdown",
   "metadata": {},
   "source": [
    "## Общий вывод по проекту"
   ]
  },
  {
   "cell_type": "markdown",
   "metadata": {},
   "source": [
    "В результате работы над проектом получены следующие результаты:\n",
    "* данные приведены к нужным типам для дальнейшего анализа;\n",
    "* медианная дневная выручка группы А была больше, чем у группы В;\n",
    "* одновременно в топ-3 гипотез по ICE и RICE оказались гипотезы \"Добавить форму подписки на все основные страницы, чтобы собрать базу клиентов для email-рассылок\", \"Добавить блоки рекомендаций товаров на сайт интернет магазина, чтобы повысить конверсию и средний чек заказа\"\n",
    "* построены кумулятивные графики конверсии и среднего чека;\n",
    "* определены аномальные значения в данных о количестве заказов на пользователя и о выручке с заказа;\n",
    "* статистической разницы в среднем чеке групп А и В по результатам теста не установлено, но разница в конверсии, т.е. количестве заказов на пользователя, статистически значима (у группы В больше, чем у группы А), поэтому следует признать победу группы В и остановить тест."
   ]
  }
 ],
 "metadata": {
  "ExecuteTimeLog": [
   {
    "duration": 1198,
    "start_time": "2022-02-12T16:57:59.156Z"
   },
   {
    "duration": 82,
    "start_time": "2022-02-12T17:00:30.772Z"
   },
   {
    "duration": 343,
    "start_time": "2022-02-12T17:01:36.768Z"
   },
   {
    "duration": 69,
    "start_time": "2022-02-12T17:01:42.020Z"
   },
   {
    "duration": 15,
    "start_time": "2022-02-12T17:01:43.972Z"
   },
   {
    "duration": 12,
    "start_time": "2022-02-12T17:02:35.359Z"
   },
   {
    "duration": 13,
    "start_time": "2022-02-12T17:35:41.010Z"
   },
   {
    "duration": 344,
    "start_time": "2022-02-12T17:36:46.523Z"
   },
   {
    "duration": 9,
    "start_time": "2022-02-12T17:37:01.702Z"
   },
   {
    "duration": 12,
    "start_time": "2022-02-12T17:37:23.350Z"
   },
   {
    "duration": 5,
    "start_time": "2022-02-12T17:39:29.187Z"
   },
   {
    "duration": 7,
    "start_time": "2022-02-12T17:41:54.764Z"
   },
   {
    "duration": 87,
    "start_time": "2022-02-12T17:42:10.825Z"
   },
   {
    "duration": 7,
    "start_time": "2022-02-12T17:44:35.340Z"
   },
   {
    "duration": 284,
    "start_time": "2022-02-12T17:44:49.185Z"
   },
   {
    "duration": 269,
    "start_time": "2022-02-12T17:45:05.380Z"
   },
   {
    "duration": 18,
    "start_time": "2022-02-12T17:45:12.128Z"
   },
   {
    "duration": 13,
    "start_time": "2022-02-12T17:45:33.508Z"
   },
   {
    "duration": 12,
    "start_time": "2022-02-12T17:45:51.796Z"
   },
   {
    "duration": 7,
    "start_time": "2022-02-12T17:46:11.700Z"
   },
   {
    "duration": 11,
    "start_time": "2022-02-12T17:49:46.549Z"
   },
   {
    "duration": 8,
    "start_time": "2022-02-12T17:51:26.182Z"
   },
   {
    "duration": 308,
    "start_time": "2022-02-12T17:55:40.952Z"
   },
   {
    "duration": 307,
    "start_time": "2022-02-12T17:57:11.510Z"
   },
   {
    "duration": 316,
    "start_time": "2022-02-12T17:57:20.848Z"
   },
   {
    "duration": 319,
    "start_time": "2022-02-12T17:58:01.808Z"
   },
   {
    "duration": 9,
    "start_time": "2022-02-12T18:00:44.769Z"
   },
   {
    "duration": 84,
    "start_time": "2022-02-12T18:33:19.873Z"
   },
   {
    "duration": 9,
    "start_time": "2022-02-12T18:33:20.009Z"
   },
   {
    "duration": 7,
    "start_time": "2022-02-12T18:33:27.237Z"
   },
   {
    "duration": 414,
    "start_time": "2022-02-12T18:34:14.011Z"
   },
   {
    "duration": 436,
    "start_time": "2022-02-12T18:39:35.243Z"
   },
   {
    "duration": 435,
    "start_time": "2022-02-12T18:39:52.555Z"
   },
   {
    "duration": 84,
    "start_time": "2022-02-12T18:41:44.777Z"
   },
   {
    "duration": 494,
    "start_time": "2022-02-12T18:41:50.355Z"
   },
   {
    "duration": 409,
    "start_time": "2022-02-12T18:41:59.695Z"
   },
   {
    "duration": 407,
    "start_time": "2022-02-12T18:42:25.703Z"
   },
   {
    "duration": 556,
    "start_time": "2022-02-12T18:42:35.467Z"
   },
   {
    "duration": 488,
    "start_time": "2022-02-12T18:42:44.735Z"
   },
   {
    "duration": 309,
    "start_time": "2022-02-12T18:43:59.651Z"
   },
   {
    "duration": 298,
    "start_time": "2022-02-12T18:44:39.863Z"
   },
   {
    "duration": 326,
    "start_time": "2022-02-12T18:46:07.921Z"
   },
   {
    "duration": 91,
    "start_time": "2022-02-12T18:49:55.330Z"
   },
   {
    "duration": 5,
    "start_time": "2022-02-12T18:50:19.829Z"
   },
   {
    "duration": 92,
    "start_time": "2022-02-12T18:50:53.338Z"
   },
   {
    "duration": 6552,
    "start_time": "2022-02-12T18:51:54.753Z"
   },
   {
    "duration": 5,
    "start_time": "2022-02-12T18:52:24.006Z"
   },
   {
    "duration": 83,
    "start_time": "2022-02-12T18:56:00.925Z"
   },
   {
    "duration": 427,
    "start_time": "2022-02-12T18:56:08.078Z"
   },
   {
    "duration": 1114,
    "start_time": "2022-02-13T19:15:51.985Z"
   },
   {
    "duration": 35,
    "start_time": "2022-02-13T19:15:53.101Z"
   },
   {
    "duration": 14,
    "start_time": "2022-02-13T19:15:54.570Z"
   },
   {
    "duration": 10,
    "start_time": "2022-02-13T19:15:56.054Z"
   },
   {
    "duration": 12,
    "start_time": "2022-02-13T19:15:57.526Z"
   },
   {
    "duration": 8,
    "start_time": "2022-02-13T19:15:58.778Z"
   },
   {
    "duration": 7,
    "start_time": "2022-02-13T19:15:59.830Z"
   },
   {
    "duration": 281,
    "start_time": "2022-02-13T19:16:00.616Z"
   },
   {
    "duration": 10,
    "start_time": "2022-02-13T19:16:12.944Z"
   },
   {
    "duration": 8,
    "start_time": "2022-02-13T19:16:16.100Z"
   },
   {
    "duration": 8,
    "start_time": "2022-02-13T19:16:17.691Z"
   },
   {
    "duration": 308,
    "start_time": "2022-02-13T19:16:19.508Z"
   },
   {
    "duration": 4,
    "start_time": "2022-02-13T19:16:45.669Z"
   },
   {
    "duration": 4,
    "start_time": "2022-02-13T19:19:15.354Z"
   },
   {
    "duration": 8,
    "start_time": "2022-02-13T19:21:19.164Z"
   },
   {
    "duration": 8,
    "start_time": "2022-02-13T19:22:17.188Z"
   },
   {
    "duration": 8,
    "start_time": "2022-02-13T19:24:17.968Z"
   },
   {
    "duration": 391,
    "start_time": "2022-02-13T19:26:59.370Z"
   },
   {
    "duration": 384,
    "start_time": "2022-02-13T19:27:18.342Z"
   },
   {
    "duration": 12,
    "start_time": "2022-02-13T19:27:43.497Z"
   },
   {
    "duration": 9,
    "start_time": "2022-02-13T19:28:05.802Z"
   },
   {
    "duration": 399,
    "start_time": "2022-02-13T19:30:08.605Z"
   },
   {
    "duration": 399,
    "start_time": "2022-02-13T19:36:50.606Z"
   },
   {
    "duration": 397,
    "start_time": "2022-02-13T19:37:03.486Z"
   },
   {
    "duration": 394,
    "start_time": "2022-02-13T19:37:10.938Z"
   },
   {
    "duration": 441,
    "start_time": "2022-02-13T19:37:24.187Z"
   },
   {
    "duration": 207,
    "start_time": "2022-02-13T19:48:25.845Z"
   },
   {
    "duration": 12,
    "start_time": "2022-02-13T19:49:00.487Z"
   },
   {
    "duration": 65,
    "start_time": "2022-02-13T19:50:14.299Z"
   },
   {
    "duration": 306,
    "start_time": "2022-02-13T19:50:18.755Z"
   },
   {
    "duration": 33,
    "start_time": "2022-02-13T19:50:49.727Z"
   },
   {
    "duration": 9,
    "start_time": "2022-02-13T19:54:04.075Z"
   },
   {
    "duration": 11,
    "start_time": "2022-02-13T19:54:38.861Z"
   },
   {
    "duration": 11,
    "start_time": "2022-02-13T19:55:20.541Z"
   },
   {
    "duration": 402,
    "start_time": "2022-02-13T19:55:28.349Z"
   },
   {
    "duration": 35,
    "start_time": "2022-02-13T19:55:49.597Z"
   },
   {
    "duration": 4,
    "start_time": "2022-02-13T19:58:32.907Z"
   },
   {
    "duration": 4,
    "start_time": "2022-02-13T19:59:42.129Z"
   },
   {
    "duration": 10,
    "start_time": "2022-02-13T20:01:00.497Z"
   },
   {
    "duration": 59,
    "start_time": "2022-02-13T20:01:10.977Z"
   },
   {
    "duration": 60,
    "start_time": "2022-02-13T20:01:22.142Z"
   },
   {
    "duration": 8,
    "start_time": "2022-02-13T20:01:32.929Z"
   },
   {
    "duration": 288,
    "start_time": "2022-02-13T20:22:19.498Z"
   },
   {
    "duration": 8,
    "start_time": "2022-02-13T20:22:26.970Z"
   },
   {
    "duration": 400,
    "start_time": "2022-02-13T20:22:33.066Z"
   },
   {
    "duration": 33,
    "start_time": "2022-02-13T20:22:34.798Z"
   },
   {
    "duration": 33,
    "start_time": "2022-02-13T20:26:37.657Z"
   },
   {
    "duration": 409,
    "start_time": "2022-02-13T20:30:15.810Z"
   },
   {
    "duration": 10,
    "start_time": "2022-02-13T20:34:01.474Z"
   },
   {
    "duration": 11,
    "start_time": "2022-02-13T20:34:13.074Z"
   },
   {
    "duration": 11,
    "start_time": "2022-02-13T20:39:52.260Z"
   },
   {
    "duration": 12,
    "start_time": "2022-02-13T20:45:55.124Z"
   },
   {
    "duration": 11,
    "start_time": "2022-02-13T20:46:36.785Z"
   },
   {
    "duration": 288,
    "start_time": "2022-02-13T20:47:50.722Z"
   },
   {
    "duration": 9,
    "start_time": "2022-02-13T20:47:58.011Z"
   },
   {
    "duration": 9,
    "start_time": "2022-02-13T20:49:49.059Z"
   },
   {
    "duration": 11,
    "start_time": "2022-02-13T20:49:56.956Z"
   },
   {
    "duration": 485,
    "start_time": "2022-02-13T20:50:26.156Z"
   },
   {
    "duration": 713,
    "start_time": "2022-02-13T20:51:35.514Z"
   },
   {
    "duration": 430,
    "start_time": "2022-02-13T20:51:46.403Z"
   },
   {
    "duration": 469,
    "start_time": "2022-02-13T20:51:56.007Z"
   },
   {
    "duration": 9,
    "start_time": "2022-02-13T20:59:38.250Z"
   },
   {
    "duration": 49,
    "start_time": "2022-02-13T21:02:22.438Z"
   },
   {
    "duration": 10,
    "start_time": "2022-02-13T21:02:23.510Z"
   },
   {
    "duration": 11,
    "start_time": "2022-02-13T21:02:29.418Z"
   },
   {
    "duration": 11,
    "start_time": "2022-02-13T21:02:47.439Z"
   },
   {
    "duration": 4532,
    "start_time": "2022-02-13T21:02:54.462Z"
   },
   {
    "duration": 5,
    "start_time": "2022-02-13T21:03:06.912Z"
   },
   {
    "duration": 41,
    "start_time": "2022-02-13T21:03:07.486Z"
   },
   {
    "duration": 11,
    "start_time": "2022-02-13T21:03:07.990Z"
   },
   {
    "duration": 12,
    "start_time": "2022-02-13T21:03:08.910Z"
   },
   {
    "duration": 13,
    "start_time": "2022-02-13T21:03:09.522Z"
   },
   {
    "duration": 7,
    "start_time": "2022-02-13T21:03:10.450Z"
   },
   {
    "duration": 7,
    "start_time": "2022-02-13T21:03:11.366Z"
   },
   {
    "duration": 10,
    "start_time": "2022-02-13T21:03:12.150Z"
   },
   {
    "duration": 8,
    "start_time": "2022-02-13T21:03:19.458Z"
   },
   {
    "duration": 9,
    "start_time": "2022-02-13T21:03:43.168Z"
   },
   {
    "duration": 10,
    "start_time": "2022-02-13T21:03:52.288Z"
   },
   {
    "duration": 12,
    "start_time": "2022-02-13T21:05:12.614Z"
   },
   {
    "duration": 894,
    "start_time": "2022-02-13T21:09:17.657Z"
   },
   {
    "duration": 11,
    "start_time": "2022-02-13T21:10:15.702Z"
   },
   {
    "duration": 847,
    "start_time": "2022-02-13T21:10:20.463Z"
   },
   {
    "duration": 318,
    "start_time": "2022-02-13T21:14:32.623Z"
   },
   {
    "duration": 354,
    "start_time": "2022-02-13T21:15:58.015Z"
   },
   {
    "duration": 7,
    "start_time": "2022-02-13T21:16:44.350Z"
   },
   {
    "duration": 51,
    "start_time": "2022-02-13T21:16:45.154Z"
   },
   {
    "duration": 11,
    "start_time": "2022-02-13T21:16:45.558Z"
   },
   {
    "duration": 12,
    "start_time": "2022-02-13T21:16:46.111Z"
   },
   {
    "duration": 11,
    "start_time": "2022-02-13T21:16:46.522Z"
   },
   {
    "duration": 7,
    "start_time": "2022-02-13T21:16:47.386Z"
   },
   {
    "duration": 7,
    "start_time": "2022-02-13T21:16:48.307Z"
   },
   {
    "duration": 9,
    "start_time": "2022-02-13T21:16:49.127Z"
   },
   {
    "duration": 326,
    "start_time": "2022-02-13T21:16:53.506Z"
   },
   {
    "duration": 4774,
    "start_time": "2022-02-13T21:18:31.425Z"
   },
   {
    "duration": 277,
    "start_time": "2022-02-13T21:19:13.493Z"
   },
   {
    "duration": 196,
    "start_time": "2022-02-13T21:21:57.067Z"
   },
   {
    "duration": 196,
    "start_time": "2022-02-13T21:23:00.380Z"
   },
   {
    "duration": 1188,
    "start_time": "2022-02-14T19:26:10.100Z"
   },
   {
    "duration": 36,
    "start_time": "2022-02-14T19:26:11.452Z"
   },
   {
    "duration": 14,
    "start_time": "2022-02-14T19:26:13.012Z"
   },
   {
    "duration": 13,
    "start_time": "2022-02-14T19:26:15.016Z"
   },
   {
    "duration": 12,
    "start_time": "2022-02-14T19:26:17.764Z"
   },
   {
    "duration": 8,
    "start_time": "2022-02-14T19:26:18.827Z"
   },
   {
    "duration": 7,
    "start_time": "2022-02-14T19:26:21.176Z"
   },
   {
    "duration": 17,
    "start_time": "2022-02-14T19:26:21.186Z"
   },
   {
    "duration": 9,
    "start_time": "2022-02-14T19:26:23.840Z"
   },
   {
    "duration": 11,
    "start_time": "2022-02-14T19:26:25.280Z"
   },
   {
    "duration": 271,
    "start_time": "2022-02-14T19:26:27.195Z"
   },
   {
    "duration": 8,
    "start_time": "2022-02-14T19:26:28.187Z"
   },
   {
    "duration": 451,
    "start_time": "2022-02-14T19:26:28.812Z"
   },
   {
    "duration": 5,
    "start_time": "2022-02-14T19:26:29.360Z"
   },
   {
    "duration": 12,
    "start_time": "2022-02-14T19:26:39.761Z"
   },
   {
    "duration": 12,
    "start_time": "2022-02-14T19:26:40.584Z"
   },
   {
    "duration": 264,
    "start_time": "2022-02-14T19:26:41.019Z"
   },
   {
    "duration": 347,
    "start_time": "2022-02-14T19:26:41.285Z"
   },
   {
    "duration": 8,
    "start_time": "2022-02-14T19:27:59.298Z"
   },
   {
    "duration": 6985,
    "start_time": "2022-02-14T19:28:36.438Z"
   },
   {
    "duration": 12,
    "start_time": "2022-02-14T19:28:58.038Z"
   },
   {
    "duration": 377,
    "start_time": "2022-02-14T19:30:18.643Z"
   },
   {
    "duration": 394,
    "start_time": "2022-02-14T19:32:37.426Z"
   },
   {
    "duration": 7164,
    "start_time": "2022-02-14T19:35:57.620Z"
   },
   {
    "duration": 470,
    "start_time": "2022-02-14T19:36:34.304Z"
   },
   {
    "duration": 247,
    "start_time": "2022-02-14T19:39:37.886Z"
   },
   {
    "duration": 86,
    "start_time": "2022-02-14T19:39:41.146Z"
   },
   {
    "duration": 295,
    "start_time": "2022-02-14T19:39:41.578Z"
   },
   {
    "duration": 95,
    "start_time": "2022-02-14T19:39:58.002Z"
   },
   {
    "duration": 6,
    "start_time": "2022-02-14T19:40:42.882Z"
   },
   {
    "duration": 6187,
    "start_time": "2022-02-14T19:40:44.318Z"
   },
   {
    "duration": 10,
    "start_time": "2022-02-14T19:41:13.530Z"
   },
   {
    "duration": 455,
    "start_time": "2022-02-14T19:42:04.238Z"
   },
   {
    "duration": 577,
    "start_time": "2022-02-14T19:43:27.972Z"
   },
   {
    "duration": 526,
    "start_time": "2022-02-14T19:43:38.036Z"
   },
   {
    "duration": 111,
    "start_time": "2022-02-14T20:15:57.071Z"
   },
   {
    "duration": 136,
    "start_time": "2022-02-14T20:21:22.007Z"
   },
   {
    "duration": 443,
    "start_time": "2022-02-14T20:21:51.962Z"
   },
   {
    "duration": 5,
    "start_time": "2022-02-14T20:23:11.823Z"
   },
   {
    "duration": 9,
    "start_time": "2022-02-14T20:26:08.847Z"
   },
   {
    "duration": 96,
    "start_time": "2022-02-14T20:27:57.138Z"
   },
   {
    "duration": 803,
    "start_time": "2022-02-14T20:28:04.965Z"
   },
   {
    "duration": 7,
    "start_time": "2022-02-14T20:34:42.057Z"
   },
   {
    "duration": 10,
    "start_time": "2022-02-14T20:38:30.127Z"
   },
   {
    "duration": 9,
    "start_time": "2022-02-14T20:39:23.983Z"
   },
   {
    "duration": 6,
    "start_time": "2022-02-14T20:39:40.291Z"
   },
   {
    "duration": 435,
    "start_time": "2022-02-14T20:40:48.057Z"
   },
   {
    "duration": 636,
    "start_time": "2022-02-14T20:42:19.013Z"
   },
   {
    "duration": 512,
    "start_time": "2022-02-14T20:42:46.989Z"
   },
   {
    "duration": 119,
    "start_time": "2022-02-14T20:45:45.465Z"
   },
   {
    "duration": 7,
    "start_time": "2022-02-14T20:47:32.209Z"
   },
   {
    "duration": 258,
    "start_time": "2022-02-14T20:48:38.221Z"
   },
   {
    "duration": 6,
    "start_time": "2022-02-14T20:49:12.073Z"
   },
   {
    "duration": 12,
    "start_time": "2022-02-14T20:49:16.913Z"
   },
   {
    "duration": 14,
    "start_time": "2022-02-14T20:52:07.997Z"
   },
   {
    "duration": 1651,
    "start_time": "2022-02-16T17:37:41.009Z"
   },
   {
    "duration": 47,
    "start_time": "2022-02-16T17:37:42.663Z"
   },
   {
    "duration": 19,
    "start_time": "2022-02-16T17:37:42.713Z"
   },
   {
    "duration": 16,
    "start_time": "2022-02-16T17:37:43.586Z"
   },
   {
    "duration": 16,
    "start_time": "2022-02-16T17:37:44.106Z"
   },
   {
    "duration": 10,
    "start_time": "2022-02-16T17:37:44.925Z"
   },
   {
    "duration": 11,
    "start_time": "2022-02-16T17:37:45.402Z"
   },
   {
    "duration": 14,
    "start_time": "2022-02-16T17:37:45.978Z"
   },
   {
    "duration": 13,
    "start_time": "2022-02-16T17:37:48.026Z"
   },
   {
    "duration": 17,
    "start_time": "2022-02-16T17:37:48.710Z"
   },
   {
    "duration": 482,
    "start_time": "2022-02-16T17:37:49.574Z"
   },
   {
    "duration": 15,
    "start_time": "2022-02-16T17:37:50.526Z"
   },
   {
    "duration": 630,
    "start_time": "2022-02-16T17:37:51.080Z"
   },
   {
    "duration": 9,
    "start_time": "2022-02-16T17:37:51.713Z"
   },
   {
    "duration": 17,
    "start_time": "2022-02-16T17:37:53.495Z"
   },
   {
    "duration": 18,
    "start_time": "2022-02-16T17:37:54.766Z"
   },
   {
    "duration": 503,
    "start_time": "2022-02-16T17:46:11.948Z"
   },
   {
    "duration": 458,
    "start_time": "2022-02-16T17:46:18.825Z"
   },
   {
    "duration": 706,
    "start_time": "2022-02-16T17:46:21.868Z"
   },
   {
    "duration": 15,
    "start_time": "2022-02-16T17:55:39.439Z"
   },
   {
    "duration": 161,
    "start_time": "2022-02-16T17:55:52.911Z"
   },
   {
    "duration": 26,
    "start_time": "2022-02-16T17:56:01.538Z"
   },
   {
    "duration": 12,
    "start_time": "2022-02-16T17:56:27.008Z"
   },
   {
    "duration": 13,
    "start_time": "2022-02-16T17:59:11.897Z"
   },
   {
    "duration": 13,
    "start_time": "2022-02-16T17:59:19.429Z"
   },
   {
    "duration": 439,
    "start_time": "2022-02-16T18:00:01.961Z"
   },
   {
    "duration": 319,
    "start_time": "2022-02-16T18:00:17.623Z"
   },
   {
    "duration": 133,
    "start_time": "2022-02-16T18:01:33.519Z"
   },
   {
    "duration": 13,
    "start_time": "2022-02-16T18:01:40.311Z"
   },
   {
    "duration": 9,
    "start_time": "2022-02-16T18:01:52.714Z"
   },
   {
    "duration": 11,
    "start_time": "2022-02-16T18:02:06.858Z"
   },
   {
    "duration": 9,
    "start_time": "2022-02-16T18:02:46.655Z"
   },
   {
    "duration": 2004,
    "start_time": "2022-02-16T18:02:56.427Z"
   },
   {
    "duration": 665,
    "start_time": "2022-02-16T18:03:52.136Z"
   },
   {
    "duration": 638,
    "start_time": "2022-02-16T18:04:31.820Z"
   },
   {
    "duration": 97,
    "start_time": "2022-02-16T18:12:49.360Z"
   },
   {
    "duration": 8,
    "start_time": "2022-02-16T18:12:54.471Z"
   },
   {
    "duration": 822,
    "start_time": "2022-02-16T18:12:55.791Z"
   },
   {
    "duration": 818,
    "start_time": "2022-02-16T18:13:06.499Z"
   },
   {
    "duration": 8,
    "start_time": "2022-02-16T18:13:24.399Z"
   },
   {
    "duration": 733,
    "start_time": "2022-02-16T18:13:24.967Z"
   },
   {
    "duration": 295,
    "start_time": "2022-02-16T18:20:47.013Z"
   },
   {
    "duration": 671,
    "start_time": "2022-02-16T18:20:48.092Z"
   },
   {
    "duration": 8,
    "start_time": "2022-02-16T18:26:21.031Z"
   },
   {
    "duration": 795,
    "start_time": "2022-02-16T18:29:15.595Z"
   },
   {
    "duration": 9,
    "start_time": "2022-02-16T18:31:31.209Z"
   },
   {
    "duration": 235,
    "start_time": "2022-02-16T18:33:52.763Z"
   },
   {
    "duration": 16,
    "start_time": "2022-02-16T18:33:53.739Z"
   },
   {
    "duration": 276,
    "start_time": "2022-02-16T18:34:18.527Z"
   },
   {
    "duration": 102,
    "start_time": "2022-02-16T19:04:24.235Z"
   },
   {
    "duration": 526,
    "start_time": "2022-02-16T19:04:35.528Z"
   },
   {
    "duration": 8,
    "start_time": "2022-02-16T19:05:14.567Z"
   },
   {
    "duration": 537,
    "start_time": "2022-02-16T19:05:48.107Z"
   },
   {
    "duration": 569,
    "start_time": "2022-02-16T19:06:04.545Z"
   },
   {
    "duration": 251,
    "start_time": "2022-02-16T19:06:18.676Z"
   },
   {
    "duration": 10,
    "start_time": "2022-02-16T19:27:30.513Z"
   },
   {
    "duration": 15,
    "start_time": "2022-02-16T20:22:21.435Z"
   },
   {
    "duration": 15,
    "start_time": "2022-02-16T20:23:21.415Z"
   },
   {
    "duration": 314,
    "start_time": "2022-02-16T21:05:02.174Z"
   },
   {
    "duration": 95,
    "start_time": "2022-02-16T21:10:46.804Z"
   },
   {
    "duration": 15,
    "start_time": "2022-02-16T21:11:58.918Z"
   },
   {
    "duration": 14,
    "start_time": "2022-02-16T21:14:37.456Z"
   },
   {
    "duration": 7883,
    "start_time": "2022-02-16T21:18:18.590Z"
   },
   {
    "duration": 7298,
    "start_time": "2022-02-16T21:19:21.550Z"
   },
   {
    "duration": 12,
    "start_time": "2022-02-16T21:19:50.555Z"
   },
   {
    "duration": 8533,
    "start_time": "2022-02-16T21:20:12.543Z"
   },
   {
    "duration": 7893,
    "start_time": "2022-02-16T21:20:27.023Z"
   },
   {
    "duration": 12,
    "start_time": "2022-02-16T21:20:56.947Z"
   },
   {
    "duration": 8140,
    "start_time": "2022-02-16T21:21:14.896Z"
   },
   {
    "duration": 255,
    "start_time": "2022-02-16T21:22:40.653Z"
   },
   {
    "duration": 12,
    "start_time": "2022-02-16T21:22:46.673Z"
   },
   {
    "duration": 8032,
    "start_time": "2022-02-16T21:22:52.093Z"
   },
   {
    "duration": 9132,
    "start_time": "2022-02-16T21:23:01.418Z"
   },
   {
    "duration": 15,
    "start_time": "2022-02-16T21:24:00.173Z"
   },
   {
    "duration": 13,
    "start_time": "2022-02-16T21:24:29.433Z"
   },
   {
    "duration": 10,
    "start_time": "2022-02-16T21:24:44.441Z"
   },
   {
    "duration": 8474,
    "start_time": "2022-02-16T21:25:07.514Z"
   },
   {
    "duration": 21,
    "start_time": "2022-02-16T21:25:48.767Z"
   },
   {
    "duration": 1481,
    "start_time": "2022-02-17T18:58:26.674Z"
   },
   {
    "duration": 72,
    "start_time": "2022-02-17T18:58:28.157Z"
   },
   {
    "duration": 22,
    "start_time": "2022-02-17T18:58:28.847Z"
   },
   {
    "duration": 17,
    "start_time": "2022-02-17T18:58:30.031Z"
   },
   {
    "duration": 17,
    "start_time": "2022-02-17T18:58:31.003Z"
   },
   {
    "duration": 10,
    "start_time": "2022-02-17T18:58:37.495Z"
   },
   {
    "duration": 10,
    "start_time": "2022-02-17T18:58:38.571Z"
   },
   {
    "duration": 13,
    "start_time": "2022-02-17T18:58:39.279Z"
   },
   {
    "duration": 13,
    "start_time": "2022-02-17T18:58:41.878Z"
   },
   {
    "duration": 16,
    "start_time": "2022-02-17T18:58:59.467Z"
   },
   {
    "duration": 707,
    "start_time": "2022-02-17T19:01:52.743Z"
   },
   {
    "duration": 9,
    "start_time": "2022-02-17T19:02:13.363Z"
   },
   {
    "duration": 9,
    "start_time": "2022-02-17T19:02:27.514Z"
   },
   {
    "duration": 9,
    "start_time": "2022-02-17T19:02:31.339Z"
   },
   {
    "duration": 451,
    "start_time": "2022-02-17T19:02:41.839Z"
   },
   {
    "duration": 288,
    "start_time": "2022-02-17T19:03:11.315Z"
   },
   {
    "duration": 332,
    "start_time": "2022-02-17T19:03:16.940Z"
   },
   {
    "duration": 292,
    "start_time": "2022-02-17T19:03:31.575Z"
   },
   {
    "duration": 9,
    "start_time": "2022-02-17T19:03:44.635Z"
   },
   {
    "duration": 307,
    "start_time": "2022-02-17T19:04:15.007Z"
   },
   {
    "duration": 22,
    "start_time": "2022-02-17T19:04:40.179Z"
   },
   {
    "duration": 9,
    "start_time": "2022-02-17T19:04:48.431Z"
   },
   {
    "duration": 105,
    "start_time": "2022-02-17T19:05:17.404Z"
   },
   {
    "duration": 16,
    "start_time": "2022-02-17T19:05:33.712Z"
   },
   {
    "duration": 7,
    "start_time": "2022-02-17T19:07:15.879Z"
   },
   {
    "duration": 19,
    "start_time": "2022-02-17T19:08:44.391Z"
   },
   {
    "duration": 465,
    "start_time": "2022-02-17T19:08:47.827Z"
   },
   {
    "duration": 461,
    "start_time": "2022-02-17T19:08:57.927Z"
   },
   {
    "duration": 11,
    "start_time": "2022-02-17T19:09:00.167Z"
   },
   {
    "duration": 624,
    "start_time": "2022-02-17T19:09:01.496Z"
   },
   {
    "duration": 545,
    "start_time": "2022-02-17T19:09:48.507Z"
   },
   {
    "duration": 717,
    "start_time": "2022-02-17T19:09:52.011Z"
   },
   {
    "duration": 744,
    "start_time": "2022-02-17T19:09:54.863Z"
   },
   {
    "duration": 8,
    "start_time": "2022-02-17T19:09:58.195Z"
   },
   {
    "duration": 776,
    "start_time": "2022-02-17T19:09:58.963Z"
   },
   {
    "duration": 300,
    "start_time": "2022-02-17T19:15:30.575Z"
   },
   {
    "duration": 7444,
    "start_time": "2022-02-17T19:17:32.076Z"
   },
   {
    "duration": 1335,
    "start_time": "2022-02-17T19:18:41.843Z"
   },
   {
    "duration": 1261,
    "start_time": "2022-02-17T19:19:53.767Z"
   },
   {
    "duration": 708,
    "start_time": "2022-02-17T19:20:49.943Z"
   },
   {
    "duration": 766,
    "start_time": "2022-02-17T19:21:40.819Z"
   },
   {
    "duration": 1017,
    "start_time": "2022-02-17T19:23:02.612Z"
   },
   {
    "duration": 919,
    "start_time": "2022-02-17T19:24:01.448Z"
   },
   {
    "duration": 738,
    "start_time": "2022-02-17T19:26:45.895Z"
   },
   {
    "duration": 1344,
    "start_time": "2022-02-17T19:27:02.312Z"
   },
   {
    "duration": 754,
    "start_time": "2022-02-17T19:28:30.767Z"
   },
   {
    "duration": 2045,
    "start_time": "2022-02-18T07:03:29.477Z"
   },
   {
    "duration": 50,
    "start_time": "2022-02-18T07:03:31.526Z"
   },
   {
    "duration": 27,
    "start_time": "2022-02-18T07:03:31.580Z"
   },
   {
    "duration": 25,
    "start_time": "2022-02-18T07:03:32.901Z"
   },
   {
    "duration": 19,
    "start_time": "2022-02-18T07:03:33.597Z"
   },
   {
    "duration": 11,
    "start_time": "2022-02-18T07:03:34.512Z"
   },
   {
    "duration": 10,
    "start_time": "2022-02-18T07:03:34.997Z"
   },
   {
    "duration": 17,
    "start_time": "2022-02-18T07:03:35.541Z"
   },
   {
    "duration": 14,
    "start_time": "2022-02-18T07:03:37.385Z"
   },
   {
    "duration": 13,
    "start_time": "2022-02-18T07:03:38.665Z"
   },
   {
    "duration": 8,
    "start_time": "2022-02-18T07:03:39.284Z"
   },
   {
    "duration": 17,
    "start_time": "2022-02-18T07:03:40.180Z"
   },
   {
    "duration": 475,
    "start_time": "2022-02-18T07:03:41.185Z"
   },
   {
    "duration": 12,
    "start_time": "2022-02-18T07:03:42.284Z"
   },
   {
    "duration": 620,
    "start_time": "2022-02-18T07:03:43.309Z"
   },
   {
    "duration": 7,
    "start_time": "2022-02-18T07:03:44.197Z"
   },
   {
    "duration": 16,
    "start_time": "2022-02-18T07:04:14.397Z"
   },
   {
    "duration": 16,
    "start_time": "2022-02-18T07:04:15.261Z"
   },
   {
    "duration": 423,
    "start_time": "2022-02-18T07:04:17.073Z"
   },
   {
    "duration": 665,
    "start_time": "2022-02-18T07:04:24.445Z"
   },
   {
    "duration": 670,
    "start_time": "2022-02-18T07:04:26.356Z"
   },
   {
    "duration": 8,
    "start_time": "2022-02-18T07:04:28.537Z"
   },
   {
    "duration": 725,
    "start_time": "2022-02-18T07:04:29.085Z"
   },
   {
    "duration": 1483,
    "start_time": "2022-02-18T07:04:31.169Z"
   },
   {
    "duration": 196,
    "start_time": "2022-02-18T07:11:24.706Z"
   },
   {
    "duration": 718,
    "start_time": "2022-02-18T07:11:25.033Z"
   },
   {
    "duration": 11,
    "start_time": "2022-02-18T07:11:26.505Z"
   },
   {
    "duration": 728,
    "start_time": "2022-02-18T07:11:30.541Z"
   },
   {
    "duration": 10,
    "start_time": "2022-02-18T07:11:32.813Z"
   },
   {
    "duration": 244,
    "start_time": "2022-02-18T07:11:34.995Z"
   },
   {
    "duration": 15,
    "start_time": "2022-02-18T07:11:38.677Z"
   },
   {
    "duration": 15,
    "start_time": "2022-02-18T07:15:32.981Z"
   },
   {
    "duration": 430,
    "start_time": "2022-02-18T07:18:47.361Z"
   },
   {
    "duration": 22,
    "start_time": "2022-02-18T07:18:58.405Z"
   },
   {
    "duration": 20,
    "start_time": "2022-02-18T07:19:49.641Z"
   },
   {
    "duration": 20,
    "start_time": "2022-02-18T07:22:21.265Z"
   },
   {
    "duration": 15,
    "start_time": "2022-02-18T07:22:37.858Z"
   },
   {
    "duration": 277,
    "start_time": "2022-02-18T07:22:48.049Z"
   },
   {
    "duration": 108,
    "start_time": "2022-02-18T07:27:50.569Z"
   },
   {
    "duration": 113,
    "start_time": "2022-02-18T07:29:01.198Z"
   },
   {
    "duration": 104,
    "start_time": "2022-02-18T07:30:37.009Z"
   },
   {
    "duration": 124,
    "start_time": "2022-02-18T07:31:08.917Z"
   },
   {
    "duration": 118,
    "start_time": "2022-02-18T07:31:31.773Z"
   },
   {
    "duration": 326,
    "start_time": "2022-02-18T07:32:14.505Z"
   },
   {
    "duration": 342,
    "start_time": "2022-02-18T07:32:23.453Z"
   },
   {
    "duration": 27,
    "start_time": "2022-02-18T07:32:35.645Z"
   },
   {
    "duration": 8554,
    "start_time": "2022-02-18T07:33:54.641Z"
   },
   {
    "duration": 24,
    "start_time": "2022-02-18T07:34:28.053Z"
   },
   {
    "duration": 144,
    "start_time": "2022-02-18T07:35:46.982Z"
   },
   {
    "duration": 16,
    "start_time": "2022-02-18T07:36:10.254Z"
   },
   {
    "duration": 20,
    "start_time": "2022-02-18T07:37:31.145Z"
   },
   {
    "duration": 329,
    "start_time": "2022-02-18T07:37:54.874Z"
   },
   {
    "duration": 22,
    "start_time": "2022-02-18T07:39:32.885Z"
   },
   {
    "duration": 327,
    "start_time": "2022-02-18T09:11:27.984Z"
   },
   {
    "duration": 227,
    "start_time": "2022-02-18T09:11:49.623Z"
   },
   {
    "duration": 187,
    "start_time": "2022-02-18T09:37:53.768Z"
   },
   {
    "duration": 352,
    "start_time": "2022-02-18T09:38:04.199Z"
   },
   {
    "duration": 354,
    "start_time": "2022-02-18T09:39:53.535Z"
   },
   {
    "duration": 630,
    "start_time": "2022-02-18T09:40:05.108Z"
   },
   {
    "duration": 288,
    "start_time": "2022-02-18T09:40:19.400Z"
   },
   {
    "duration": 1253,
    "start_time": "2022-02-18T09:40:33.503Z"
   },
   {
    "duration": 19,
    "start_time": "2022-02-18T09:41:50.235Z"
   },
   {
    "duration": 24,
    "start_time": "2022-02-18T09:42:06.048Z"
   },
   {
    "duration": 10,
    "start_time": "2022-02-18T18:15:42.645Z"
   },
   {
    "duration": 39,
    "start_time": "2022-02-18T18:15:43.725Z"
   },
   {
    "duration": 17,
    "start_time": "2022-02-18T18:15:44.773Z"
   },
   {
    "duration": 16,
    "start_time": "2022-02-18T18:15:46.717Z"
   },
   {
    "duration": 17,
    "start_time": "2022-02-18T18:15:47.601Z"
   },
   {
    "duration": 11,
    "start_time": "2022-02-18T18:15:49.653Z"
   },
   {
    "duration": 10,
    "start_time": "2022-02-18T18:16:12.421Z"
   },
   {
    "duration": 14,
    "start_time": "2022-02-18T18:16:13.073Z"
   },
   {
    "duration": 12,
    "start_time": "2022-02-18T18:16:15.957Z"
   },
   {
    "duration": 9,
    "start_time": "2022-02-18T18:16:17.557Z"
   },
   {
    "duration": 8,
    "start_time": "2022-02-18T18:16:18.714Z"
   },
   {
    "duration": 16,
    "start_time": "2022-02-18T18:16:20.749Z"
   },
   {
    "duration": 17,
    "start_time": "2022-02-18T18:16:45.625Z"
   },
   {
    "duration": 453,
    "start_time": "2022-02-18T18:16:50.381Z"
   },
   {
    "duration": 12,
    "start_time": "2022-02-18T18:16:53.845Z"
   },
   {
    "duration": 631,
    "start_time": "2022-02-18T18:16:56.677Z"
   },
   {
    "duration": 281,
    "start_time": "2022-02-18T18:18:30.954Z"
   },
   {
    "duration": 859,
    "start_time": "2022-02-18T18:18:36.906Z"
   },
   {
    "duration": 11,
    "start_time": "2022-02-18T18:18:40.821Z"
   },
   {
    "duration": 592,
    "start_time": "2022-02-18T18:18:57.781Z"
   },
   {
    "duration": 13,
    "start_time": "2022-02-18T18:18:59.993Z"
   },
   {
    "duration": 685,
    "start_time": "2022-02-18T18:20:40.118Z"
   },
   {
    "duration": 713,
    "start_time": "2022-02-18T18:21:08.718Z"
   },
   {
    "duration": 761,
    "start_time": "2022-02-18T18:32:27.102Z"
   },
   {
    "duration": 20,
    "start_time": "2022-02-18T18:32:44.809Z"
   },
   {
    "duration": 22,
    "start_time": "2022-02-18T18:33:03.930Z"
   },
   {
    "duration": 608,
    "start_time": "2022-02-18T18:34:20.030Z"
   },
   {
    "duration": 616,
    "start_time": "2022-02-18T18:35:17.034Z"
   },
   {
    "duration": 839,
    "start_time": "2022-02-18T18:35:32.650Z"
   },
   {
    "duration": 640,
    "start_time": "2022-02-18T18:36:14.430Z"
   },
   {
    "duration": 650,
    "start_time": "2022-02-18T18:38:21.202Z"
   },
   {
    "duration": 668,
    "start_time": "2022-02-18T18:39:43.051Z"
   },
   {
    "duration": 169,
    "start_time": "2022-02-18T18:43:05.894Z"
   },
   {
    "duration": 776,
    "start_time": "2022-02-18T18:43:11.026Z"
   },
   {
    "duration": 823,
    "start_time": "2022-02-18T18:45:43.982Z"
   },
   {
    "duration": 628,
    "start_time": "2022-02-18T18:46:15.090Z"
   },
   {
    "duration": 825,
    "start_time": "2022-02-18T18:46:49.713Z"
   },
   {
    "duration": 797,
    "start_time": "2022-02-18T18:48:46.034Z"
   },
   {
    "duration": 14,
    "start_time": "2022-02-18T18:52:39.582Z"
   },
   {
    "duration": 20,
    "start_time": "2022-02-18T18:53:43.862Z"
   },
   {
    "duration": 20,
    "start_time": "2022-02-18T18:54:48.426Z"
   },
   {
    "duration": 20,
    "start_time": "2022-02-18T18:55:19.570Z"
   },
   {
    "duration": 22,
    "start_time": "2022-02-18T19:02:34.382Z"
   },
   {
    "duration": 1977,
    "start_time": "2022-02-18T19:04:10.475Z"
   },
   {
    "duration": 8,
    "start_time": "2022-02-18T19:04:35.234Z"
   },
   {
    "duration": 8634,
    "start_time": "2022-02-18T19:05:46.346Z"
   },
   {
    "duration": 9,
    "start_time": "2022-02-18T19:06:04.850Z"
   },
   {
    "duration": 8,
    "start_time": "2022-02-18T19:06:38.754Z"
   },
   {
    "duration": 318,
    "start_time": "2022-02-18T19:06:50.178Z"
   },
   {
    "duration": 93,
    "start_time": "2022-02-18T19:06:59.654Z"
   },
   {
    "duration": 20,
    "start_time": "2022-02-18T19:07:18.426Z"
   },
   {
    "duration": 7102,
    "start_time": "2022-02-18T19:07:21.904Z"
   },
   {
    "duration": 24,
    "start_time": "2022-02-18T19:08:08.858Z"
   },
   {
    "duration": 12,
    "start_time": "2022-02-18T19:08:10.935Z"
   },
   {
    "duration": 13,
    "start_time": "2022-02-18T19:09:48.190Z"
   },
   {
    "duration": 11,
    "start_time": "2022-02-18T19:10:27.063Z"
   },
   {
    "duration": 7,
    "start_time": "2022-02-18T19:10:27.430Z"
   },
   {
    "duration": 485,
    "start_time": "2022-02-18T19:23:14.552Z"
   },
   {
    "duration": 687,
    "start_time": "2022-02-18T19:23:18.102Z"
   },
   {
    "duration": 657,
    "start_time": "2022-02-18T19:23:22.000Z"
   },
   {
    "duration": 9,
    "start_time": "2022-02-18T19:23:23.986Z"
   },
   {
    "duration": 710,
    "start_time": "2022-02-18T19:23:24.498Z"
   },
   {
    "duration": 1156,
    "start_time": "2022-02-18T19:23:26.635Z"
   },
   {
    "duration": 756,
    "start_time": "2022-02-18T19:23:28.878Z"
   },
   {
    "duration": 187,
    "start_time": "2022-02-18T19:23:31.810Z"
   },
   {
    "duration": 689,
    "start_time": "2022-02-18T19:23:32.234Z"
   },
   {
    "duration": 10,
    "start_time": "2022-02-18T19:23:34.218Z"
   },
   {
    "duration": 752,
    "start_time": "2022-02-18T19:23:36.150Z"
   },
   {
    "duration": 9,
    "start_time": "2022-02-18T19:23:38.986Z"
   },
   {
    "duration": 240,
    "start_time": "2022-02-18T19:23:41.450Z"
   },
   {
    "duration": 19,
    "start_time": "2022-02-18T19:23:47.071Z"
   },
   {
    "duration": 15,
    "start_time": "2022-02-18T19:23:51.354Z"
   },
   {
    "duration": 20,
    "start_time": "2022-02-18T19:23:52.526Z"
   },
   {
    "duration": 21,
    "start_time": "2022-02-18T19:23:55.062Z"
   },
   {
    "duration": 1599,
    "start_time": "2022-02-18T19:24:47.590Z"
   },
   {
    "duration": 46,
    "start_time": "2022-02-18T19:24:49.193Z"
   },
   {
    "duration": 22,
    "start_time": "2022-02-18T19:24:49.243Z"
   },
   {
    "duration": 18,
    "start_time": "2022-02-18T19:24:49.268Z"
   },
   {
    "duration": 25,
    "start_time": "2022-02-18T19:24:49.288Z"
   },
   {
    "duration": 40,
    "start_time": "2022-02-18T19:24:49.316Z"
   },
   {
    "duration": 11,
    "start_time": "2022-02-18T19:24:49.359Z"
   },
   {
    "duration": 21,
    "start_time": "2022-02-18T19:24:49.374Z"
   },
   {
    "duration": 59,
    "start_time": "2022-02-18T19:24:49.399Z"
   },
   {
    "duration": 21,
    "start_time": "2022-02-18T19:24:49.460Z"
   },
   {
    "duration": 7,
    "start_time": "2022-02-18T19:24:49.484Z"
   },
   {
    "duration": 31,
    "start_time": "2022-02-18T19:24:49.494Z"
   },
   {
    "duration": 523,
    "start_time": "2022-02-18T19:24:49.528Z"
   },
   {
    "duration": 13,
    "start_time": "2022-02-18T19:24:50.054Z"
   },
   {
    "duration": 854,
    "start_time": "2022-02-18T19:24:50.069Z"
   },
   {
    "duration": 864,
    "start_time": "2022-02-18T19:24:50.926Z"
   },
   {
    "duration": 8,
    "start_time": "2022-02-18T19:24:51.792Z"
   },
   {
    "duration": 51,
    "start_time": "2022-02-18T19:24:51.803Z"
   },
   {
    "duration": 15,
    "start_time": "2022-02-18T19:24:51.856Z"
   },
   {
    "duration": 500,
    "start_time": "2022-02-18T19:24:51.874Z"
   },
   {
    "duration": 731,
    "start_time": "2022-02-18T19:24:52.377Z"
   },
   {
    "duration": 706,
    "start_time": "2022-02-18T19:24:53.111Z"
   },
   {
    "duration": 9,
    "start_time": "2022-02-18T19:24:53.824Z"
   },
   {
    "duration": 777,
    "start_time": "2022-02-18T19:24:53.850Z"
   },
   {
    "duration": 1319,
    "start_time": "2022-02-18T19:24:54.629Z"
   },
   {
    "duration": 831,
    "start_time": "2022-02-18T19:24:55.951Z"
   },
   {
    "duration": 241,
    "start_time": "2022-02-18T19:24:56.786Z"
   },
   {
    "duration": 754,
    "start_time": "2022-02-18T19:24:57.030Z"
   },
   {
    "duration": 9,
    "start_time": "2022-02-18T19:24:57.786Z"
   },
   {
    "duration": 822,
    "start_time": "2022-02-18T19:24:57.797Z"
   },
   {
    "duration": 26,
    "start_time": "2022-02-18T19:24:58.622Z"
   },
   {
    "duration": 285,
    "start_time": "2022-02-18T19:24:58.652Z"
   },
   {
    "duration": 21,
    "start_time": "2022-02-18T19:24:58.940Z"
   },
   {
    "duration": 20,
    "start_time": "2022-02-18T19:24:58.965Z"
   },
   {
    "duration": 24,
    "start_time": "2022-02-18T19:24:58.988Z"
   },
   {
    "duration": 24,
    "start_time": "2022-02-18T19:24:59.048Z"
   },
   {
    "duration": 1106,
    "start_time": "2022-02-19T10:05:07.927Z"
   },
   {
    "duration": 105,
    "start_time": "2022-02-19T10:05:09.037Z"
   },
   {
    "duration": 13,
    "start_time": "2022-02-19T10:05:09.144Z"
   },
   {
    "duration": 10,
    "start_time": "2022-02-19T10:05:09.159Z"
   },
   {
    "duration": 10,
    "start_time": "2022-02-19T10:05:09.171Z"
   },
   {
    "duration": 7,
    "start_time": "2022-02-19T10:05:09.182Z"
   },
   {
    "duration": 9,
    "start_time": "2022-02-19T10:05:09.190Z"
   },
   {
    "duration": 32,
    "start_time": "2022-02-19T10:05:09.201Z"
   },
   {
    "duration": 14,
    "start_time": "2022-02-19T10:05:09.235Z"
   },
   {
    "duration": 9,
    "start_time": "2022-02-19T10:05:09.250Z"
   },
   {
    "duration": 17,
    "start_time": "2022-02-19T10:05:09.260Z"
   },
   {
    "duration": 11,
    "start_time": "2022-02-19T10:05:09.279Z"
   },
   {
    "duration": 274,
    "start_time": "2022-02-19T10:05:09.291Z"
   },
   {
    "duration": 7,
    "start_time": "2022-02-19T10:05:09.566Z"
   },
   {
    "duration": 446,
    "start_time": "2022-02-19T10:05:09.575Z"
   },
   {
    "duration": 698,
    "start_time": "2022-02-19T10:05:10.023Z"
   },
   {
    "duration": 10,
    "start_time": "2022-02-19T10:05:10.722Z"
   },
   {
    "duration": 14,
    "start_time": "2022-02-19T10:05:10.734Z"
   },
   {
    "duration": 13,
    "start_time": "2022-02-19T10:05:10.750Z"
   },
   {
    "duration": 384,
    "start_time": "2022-02-19T10:05:10.765Z"
   },
   {
    "duration": 383,
    "start_time": "2022-02-19T10:05:11.151Z"
   },
   {
    "duration": 363,
    "start_time": "2022-02-19T10:05:11.536Z"
   },
   {
    "duration": 5,
    "start_time": "2022-02-19T10:05:11.901Z"
   },
   {
    "duration": 478,
    "start_time": "2022-02-19T10:05:11.907Z"
   },
   {
    "duration": 703,
    "start_time": "2022-02-19T10:05:12.386Z"
   },
   {
    "duration": 474,
    "start_time": "2022-02-19T10:05:13.093Z"
   },
   {
    "duration": 127,
    "start_time": "2022-02-19T10:05:13.568Z"
   },
   {
    "duration": 420,
    "start_time": "2022-02-19T10:05:13.697Z"
   },
   {
    "duration": 13,
    "start_time": "2022-02-19T10:05:14.119Z"
   },
   {
    "duration": 467,
    "start_time": "2022-02-19T10:05:14.133Z"
   },
   {
    "duration": 5,
    "start_time": "2022-02-19T10:05:14.601Z"
   },
   {
    "duration": 136,
    "start_time": "2022-02-19T10:05:14.608Z"
   },
   {
    "duration": 10,
    "start_time": "2022-02-19T10:05:14.745Z"
   },
   {
    "duration": 9,
    "start_time": "2022-02-19T10:05:14.756Z"
   },
   {
    "duration": 13,
    "start_time": "2022-02-19T10:05:14.767Z"
   },
   {
    "duration": 13,
    "start_time": "2022-02-19T10:05:14.781Z"
   },
   {
    "duration": 1672,
    "start_time": "2022-02-20T19:07:57.678Z"
   },
   {
    "duration": 89,
    "start_time": "2022-02-20T19:07:59.353Z"
   },
   {
    "duration": 19,
    "start_time": "2022-02-20T19:07:59.445Z"
   },
   {
    "duration": 17,
    "start_time": "2022-02-20T19:08:00.517Z"
   },
   {
    "duration": 17,
    "start_time": "2022-02-20T19:08:01.198Z"
   },
   {
    "duration": 9,
    "start_time": "2022-02-20T19:08:01.995Z"
   },
   {
    "duration": 10,
    "start_time": "2022-02-20T19:08:03.070Z"
   },
   {
    "duration": 13,
    "start_time": "2022-02-20T19:08:03.526Z"
   },
   {
    "duration": 25,
    "start_time": "2022-02-20T19:08:05.074Z"
   },
   {
    "duration": 14,
    "start_time": "2022-02-20T19:08:06.314Z"
   },
   {
    "duration": 7,
    "start_time": "2022-02-20T19:08:08.434Z"
   },
   {
    "duration": 17,
    "start_time": "2022-02-20T19:08:09.294Z"
   },
   {
    "duration": 463,
    "start_time": "2022-02-20T19:08:10.046Z"
   },
   {
    "duration": 10,
    "start_time": "2022-02-20T19:08:10.734Z"
   },
   {
    "duration": 744,
    "start_time": "2022-02-20T19:08:11.142Z"
   },
   {
    "duration": 801,
    "start_time": "2022-02-20T19:08:11.890Z"
   },
   {
    "duration": 17,
    "start_time": "2022-02-20T19:08:12.694Z"
   },
   {
    "duration": 14,
    "start_time": "2022-02-20T19:08:15.526Z"
   },
   {
    "duration": 1526,
    "start_time": "2022-02-20T19:08:16.785Z"
   },
   {
    "duration": 16,
    "start_time": "2022-02-20T19:09:08.182Z"
   },
   {
    "duration": 14,
    "start_time": "2022-02-20T19:09:53.813Z"
   },
   {
    "duration": 651,
    "start_time": "2022-02-20T19:12:28.402Z"
   },
   {
    "duration": 480,
    "start_time": "2022-02-20T19:13:14.826Z"
   },
   {
    "duration": 596,
    "start_time": "2022-02-20T19:14:52.006Z"
   },
   {
    "duration": 16,
    "start_time": "2022-02-20T19:15:29.782Z"
   },
   {
    "duration": 17,
    "start_time": "2022-02-20T19:16:05.970Z"
   },
   {
    "duration": 65,
    "start_time": "2022-02-20T19:16:36.708Z"
   },
   {
    "duration": 459,
    "start_time": "2022-02-20T19:17:13.226Z"
   },
   {
    "duration": 30,
    "start_time": "2022-02-20T19:17:28.450Z"
   },
   {
    "duration": 35,
    "start_time": "2022-02-20T19:18:07.742Z"
   },
   {
    "duration": 33,
    "start_time": "2022-02-20T19:18:22.882Z"
   },
   {
    "duration": 34,
    "start_time": "2022-02-20T19:19:09.478Z"
   },
   {
    "duration": 1008,
    "start_time": "2022-02-20T19:21:27.571Z"
   },
   {
    "duration": 526,
    "start_time": "2022-02-20T19:21:32.746Z"
   },
   {
    "duration": 783,
    "start_time": "2022-02-20T19:22:47.863Z"
   },
   {
    "duration": 632,
    "start_time": "2022-02-20T19:24:23.159Z"
   },
   {
    "duration": 8,
    "start_time": "2022-02-20T19:24:25.614Z"
   },
   {
    "duration": 744,
    "start_time": "2022-02-20T19:24:26.022Z"
   },
   {
    "duration": 1218,
    "start_time": "2022-02-20T19:24:27.494Z"
   },
   {
    "duration": 777,
    "start_time": "2022-02-20T19:24:33.051Z"
   },
   {
    "duration": 738,
    "start_time": "2022-02-20T19:24:46.895Z"
   },
   {
    "duration": 212,
    "start_time": "2022-02-20T19:25:23.766Z"
   },
   {
    "duration": 730,
    "start_time": "2022-02-20T19:25:24.394Z"
   },
   {
    "duration": 9,
    "start_time": "2022-02-20T19:25:29.170Z"
   },
   {
    "duration": 709,
    "start_time": "2022-02-20T19:25:31.023Z"
   },
   {
    "duration": 10,
    "start_time": "2022-02-20T19:25:34.098Z"
   },
   {
    "duration": 244,
    "start_time": "2022-02-20T19:45:21.293Z"
   },
   {
    "duration": 16,
    "start_time": "2022-02-20T19:46:59.111Z"
   },
   {
    "duration": 14,
    "start_time": "2022-02-20T19:47:24.099Z"
   },
   {
    "duration": 22,
    "start_time": "2022-02-20T19:47:25.211Z"
   },
   {
    "duration": 20,
    "start_time": "2022-02-20T19:48:49.307Z"
   },
   {
    "duration": 20,
    "start_time": "2022-02-20T19:49:03.687Z"
   },
   {
    "duration": 22,
    "start_time": "2022-02-20T19:50:10.779Z"
   },
   {
    "duration": 222,
    "start_time": "2022-02-20T19:56:14.671Z"
   },
   {
    "duration": 17,
    "start_time": "2022-02-20T19:56:57.515Z"
   },
   {
    "duration": 20,
    "start_time": "2022-02-20T19:57:18.152Z"
   },
   {
    "duration": 22,
    "start_time": "2022-02-20T19:57:42.039Z"
   },
   {
    "duration": 1890,
    "start_time": "2022-02-22T18:35:44.627Z"
   },
   {
    "duration": 164,
    "start_time": "2022-02-22T18:35:46.520Z"
   },
   {
    "duration": 21,
    "start_time": "2022-02-22T18:35:46.687Z"
   },
   {
    "duration": 17,
    "start_time": "2022-02-22T18:35:46.711Z"
   },
   {
    "duration": 16,
    "start_time": "2022-02-22T18:35:46.735Z"
   },
   {
    "duration": 9,
    "start_time": "2022-02-22T18:35:47.277Z"
   },
   {
    "duration": 10,
    "start_time": "2022-02-22T18:35:47.660Z"
   },
   {
    "duration": 15,
    "start_time": "2022-02-22T18:35:48.068Z"
   },
   {
    "duration": 24,
    "start_time": "2022-02-22T18:35:49.260Z"
   },
   {
    "duration": 16,
    "start_time": "2022-02-22T18:35:51.240Z"
   },
   {
    "duration": 12,
    "start_time": "2022-02-22T18:35:51.671Z"
   },
   {
    "duration": 16,
    "start_time": "2022-02-22T18:35:52.476Z"
   },
   {
    "duration": 466,
    "start_time": "2022-02-22T18:35:53.623Z"
   },
   {
    "duration": 12,
    "start_time": "2022-02-22T18:35:55.723Z"
   },
   {
    "duration": 765,
    "start_time": "2022-02-22T18:35:56.567Z"
   },
   {
    "duration": 800,
    "start_time": "2022-02-22T18:35:57.695Z"
   },
   {
    "duration": 7,
    "start_time": "2022-02-22T18:35:59.030Z"
   },
   {
    "duration": 23,
    "start_time": "2022-02-22T18:36:02.913Z"
   },
   {
    "duration": 17,
    "start_time": "2022-02-22T18:36:03.871Z"
   },
   {
    "duration": 1018,
    "start_time": "2022-02-22T18:36:04.643Z"
   },
   {
    "duration": 459,
    "start_time": "2022-02-22T18:36:15.385Z"
   },
   {
    "duration": 843,
    "start_time": "2022-02-22T18:36:19.419Z"
   },
   {
    "duration": 634,
    "start_time": "2022-02-22T18:36:24.581Z"
   },
   {
    "duration": 8,
    "start_time": "2022-02-22T18:36:26.680Z"
   },
   {
    "duration": 814,
    "start_time": "2022-02-22T18:36:27.168Z"
   },
   {
    "duration": 1150,
    "start_time": "2022-02-22T18:36:29.275Z"
   },
   {
    "duration": 733,
    "start_time": "2022-02-22T18:36:31.292Z"
   },
   {
    "duration": 209,
    "start_time": "2022-02-22T18:36:40.447Z"
   },
   {
    "duration": 649,
    "start_time": "2022-02-22T18:36:41.548Z"
   },
   {
    "duration": 9,
    "start_time": "2022-02-22T18:36:43.080Z"
   },
   {
    "duration": 736,
    "start_time": "2022-02-22T18:36:43.600Z"
   },
   {
    "duration": 9,
    "start_time": "2022-02-22T18:36:44.772Z"
   },
   {
    "duration": 227,
    "start_time": "2022-02-22T18:44:00.200Z"
   },
   {
    "duration": 15,
    "start_time": "2022-02-22T18:44:14.644Z"
   },
   {
    "duration": 14,
    "start_time": "2022-02-22T18:44:31.348Z"
   },
   {
    "duration": 22,
    "start_time": "2022-02-22T18:44:33.332Z"
   },
   {
    "duration": 21,
    "start_time": "2022-02-22T18:44:35.347Z"
   },
   {
    "duration": 6,
    "start_time": "2022-02-22T18:46:56.660Z"
   },
   {
    "duration": 6,
    "start_time": "2022-02-22T18:47:16.692Z"
   },
   {
    "duration": 18,
    "start_time": "2022-02-22T19:37:17.473Z"
   },
   {
    "duration": 485,
    "start_time": "2022-02-22T19:37:34.168Z"
   },
   {
    "duration": 13,
    "start_time": "2022-02-22T19:37:45.201Z"
   },
   {
    "duration": 12,
    "start_time": "2022-02-22T19:38:12.956Z"
   },
   {
    "duration": 134,
    "start_time": "2022-02-22T19:38:58.168Z"
   },
   {
    "duration": 12,
    "start_time": "2022-02-22T19:39:07.984Z"
   },
   {
    "duration": 458,
    "start_time": "2022-02-22T19:47:58.921Z"
   },
   {
    "duration": 764,
    "start_time": "2022-02-22T19:48:00.840Z"
   },
   {
    "duration": 630,
    "start_time": "2022-02-22T19:48:02.553Z"
   },
   {
    "duration": 9,
    "start_time": "2022-02-22T19:48:03.524Z"
   },
   {
    "duration": 1032,
    "start_time": "2022-02-22T19:48:03.649Z"
   },
   {
    "duration": 1267,
    "start_time": "2022-02-22T19:48:04.684Z"
   },
   {
    "duration": 840,
    "start_time": "2022-02-22T19:48:05.955Z"
   },
   {
    "duration": 193,
    "start_time": "2022-02-22T19:48:06.798Z"
   },
   {
    "duration": 716,
    "start_time": "2022-02-22T19:48:06.994Z"
   },
   {
    "duration": 9,
    "start_time": "2022-02-22T19:48:07.713Z"
   },
   {
    "duration": 691,
    "start_time": "2022-02-22T19:48:08.361Z"
   },
   {
    "duration": 12,
    "start_time": "2022-02-22T19:48:09.212Z"
   },
   {
    "duration": 245,
    "start_time": "2022-02-22T19:48:10.866Z"
   },
   {
    "duration": 15,
    "start_time": "2022-02-22T19:48:23.069Z"
   },
   {
    "duration": 14,
    "start_time": "2022-02-22T19:48:23.873Z"
   },
   {
    "duration": 19,
    "start_time": "2022-02-22T19:48:24.253Z"
   },
   {
    "duration": 21,
    "start_time": "2022-02-22T19:48:25.045Z"
   },
   {
    "duration": 1538,
    "start_time": "2022-02-23T11:03:05.392Z"
   },
   {
    "duration": 67,
    "start_time": "2022-02-23T11:03:06.933Z"
   },
   {
    "duration": 23,
    "start_time": "2022-02-23T11:03:07.004Z"
   },
   {
    "duration": 19,
    "start_time": "2022-02-23T11:03:07.030Z"
   },
   {
    "duration": 16,
    "start_time": "2022-02-23T11:03:07.052Z"
   },
   {
    "duration": 50,
    "start_time": "2022-02-23T11:03:07.070Z"
   },
   {
    "duration": 14,
    "start_time": "2022-02-23T11:03:07.123Z"
   },
   {
    "duration": 14,
    "start_time": "2022-02-23T11:03:07.141Z"
   },
   {
    "duration": 65,
    "start_time": "2022-02-23T11:03:07.158Z"
   },
   {
    "duration": 16,
    "start_time": "2022-02-23T11:03:07.226Z"
   },
   {
    "duration": 8,
    "start_time": "2022-02-23T11:03:07.245Z"
   },
   {
    "duration": 6,
    "start_time": "2022-02-23T11:03:07.255Z"
   },
   {
    "duration": 60,
    "start_time": "2022-02-23T11:03:07.264Z"
   },
   {
    "duration": 502,
    "start_time": "2022-02-23T11:03:07.327Z"
   },
   {
    "duration": 10,
    "start_time": "2022-02-23T11:03:07.831Z"
   },
   {
    "duration": 831,
    "start_time": "2022-02-23T11:03:07.843Z"
   },
   {
    "duration": 824,
    "start_time": "2022-02-23T11:03:08.677Z"
   },
   {
    "duration": 16,
    "start_time": "2022-02-23T11:03:09.511Z"
   },
   {
    "duration": 7,
    "start_time": "2022-02-23T11:03:09.530Z"
   },
   {
    "duration": 17,
    "start_time": "2022-02-23T11:03:09.539Z"
   },
   {
    "duration": 16,
    "start_time": "2022-02-23T11:03:09.558Z"
   },
   {
    "duration": 114455,
    "start_time": "2022-02-23T11:03:09.577Z"
   },
   {
    "duration": 543,
    "start_time": "2022-02-23T11:05:04.037Z"
   },
   {
    "duration": 905,
    "start_time": "2022-02-23T11:05:04.582Z"
   },
   {
    "duration": 733,
    "start_time": "2022-02-23T11:05:05.489Z"
   },
   {
    "duration": 9,
    "start_time": "2022-02-23T11:05:06.225Z"
   },
   {
    "duration": 759,
    "start_time": "2022-02-23T11:05:06.236Z"
   },
   {
    "duration": 1243,
    "start_time": "2022-02-23T11:05:06.998Z"
   },
   {
    "duration": 771,
    "start_time": "2022-02-23T11:05:08.244Z"
   },
   {
    "duration": 208,
    "start_time": "2022-02-23T11:05:09.024Z"
   },
   {
    "duration": 699,
    "start_time": "2022-02-23T11:05:09.234Z"
   },
   {
    "duration": 8,
    "start_time": "2022-02-23T11:05:09.936Z"
   },
   {
    "duration": 820,
    "start_time": "2022-02-23T11:05:09.947Z"
   },
   {
    "duration": 10,
    "start_time": "2022-02-23T11:05:10.770Z"
   },
   {
    "duration": 264,
    "start_time": "2022-02-23T11:05:10.783Z"
   },
   {
    "duration": 15,
    "start_time": "2022-02-23T11:05:11.050Z"
   },
   {
    "duration": 13,
    "start_time": "2022-02-23T11:05:11.068Z"
   },
   {
    "duration": 56,
    "start_time": "2022-02-23T11:05:11.083Z"
   },
   {
    "duration": 22,
    "start_time": "2022-02-23T11:05:11.142Z"
   }
  ],
  "kernelspec": {
   "display_name": "Python 3",
   "language": "python",
   "name": "python3"
  },
  "language_info": {
   "codemirror_mode": {
    "name": "ipython",
    "version": 3
   },
   "file_extension": ".py",
   "mimetype": "text/x-python",
   "name": "python",
   "nbconvert_exporter": "python",
   "pygments_lexer": "ipython3",
   "version": "3.7.8"
  },
  "toc": {
   "base_numbering": 1,
   "nav_menu": {},
   "number_sections": true,
   "sideBar": true,
   "skip_h1_title": true,
   "title_cell": "Table of Contents",
   "title_sidebar": "Contents",
   "toc_cell": true,
   "toc_position": {
    "height": "477px",
    "left": "27px",
    "top": "111.125px",
    "width": "255.594px"
   },
   "toc_section_display": true,
   "toc_window_display": false
  }
 },
 "nbformat": 4,
 "nbformat_minor": 2
}
