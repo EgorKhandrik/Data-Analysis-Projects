{
 "cells": [
  {
   "cell_type": "markdown",
   "metadata": {},
   "source": [
    "# Исследование надёжности заёмщиков #\n",
    "\n",
    "Заказчик — кредитный отдел банка. Цель проекта заключается в проверке гипотезы о том, что те или иные характеристики заёмщика влияют на факт погашения кредита в срок. Задачи, решение которых потребуется для достижения цели: \n",
    "* ознакомиться с полученными данными и провести их предобработку;\n",
    "* выполнить исследование данных для проверки гипотезы и выявления взаимосвязей наличия задолженности по кредиту:\n",
    "    * с наличием детей и их количеством;\n",
    "    * с семейным положением заёмщиков;\n",
    "    * с уровнем дохода;\n",
    "    * целями, для которых предоставлен кредит.\n",
    "\n",
    "Входные данные от банка — статистика о платёжеспособности клиентов.\n",
    "\n",
    "План работы над проектом:\n",
    "- ознакомиться с данными, представленными для исследования;\n",
    "- выполнить предобработку данных:\n",
    "    - определить имеются ли пропуски в данных и заполнить их;\n",
    "    - определить корректность типов данных для анализа, при необходимости заменить типы данных;\n",
    "    - выявить и удалить дубликаты;\n",
    "    - провести лемматизацию данных о целях предоставления кредитов для последюущего анализа;\n",
    "    - выполнить категоризацию данных.\n",
    "- выявить взаимосвязи между семеными положением, количеством детей у заёмщиков и наличием задолженности по кредитам. \n",
    "\n",
    "Результаты исследования будут учтены при построении модели **кредитного скоринга** — специальной системы, которая оценивает способность потенциального заёмщика вернуть кредит банку."
   ]
  },
  {
   "cell_type": "markdown",
   "metadata": {},
   "source": [
    "## Шаг 1. Откройте файл с данными и изучите общую информацию"
   ]
  },
  {
   "cell_type": "markdown",
   "metadata": {},
   "source": [
    "Для начала ознакомимся с общей информацией о датасете: количеством столбцов и строк, наименованием столбцов и типами данных в них, с конкретными данными датасета.   \n",
    "\n",
    "Импортируем необходимые библиоткеи и модули: "
   ]
  },
  {
   "cell_type": "code",
   "execution_count": 2,
   "metadata": {},
   "outputs": [],
   "source": [
    "import pandas as pd\n",
    "pd.set_option('display.float_format', '{:,.2f}'.format)\n",
    "import numpy as np\n",
    "from collections import Counter\n",
    "from pymystem3 import Mystem\n",
    "m = Mystem()\n",
    "import warnings\n",
    "warnings.filterwarnings('ignore')\n",
    "import matplotlib.pyplot as plt\n",
    "import seaborn as sns\n",
    "sns.set(rc={'figure.figsize':(15, 8)})"
   ]
  },
  {
   "cell_type": "markdown",
   "metadata": {},
   "source": [
    "Сохраним анализируемый датафрейм в переменной *df*:"
   ]
  },
  {
   "cell_type": "code",
   "execution_count": 3,
   "metadata": {
    "scrolled": false
   },
   "outputs": [],
   "source": [
    "try:\n",
    "    df = pd.read_csv(r'C:\\Users\\USER\\Desktop\\DA\\data.csv')\n",
    "except:\n",
    "    df = pd.read_csv('/datasets/data.csv')"
   ]
  },
  {
   "cell_type": "markdown",
   "metadata": {},
   "source": [
    "Ознакомимся с общей информацией о таблице и данными в ней с помощью метода `info()`:"
   ]
  },
  {
   "cell_type": "code",
   "execution_count": 4,
   "metadata": {},
   "outputs": [
    {
     "name": "stdout",
     "output_type": "stream",
     "text": [
      "<class 'pandas.core.frame.DataFrame'>\n",
      "RangeIndex: 21525 entries, 0 to 21524\n",
      "Data columns (total 12 columns):\n",
      "children            21525 non-null int64\n",
      "days_employed       19351 non-null float64\n",
      "dob_years           21525 non-null int64\n",
      "education           21525 non-null object\n",
      "education_id        21525 non-null int64\n",
      "family_status       21525 non-null object\n",
      "family_status_id    21525 non-null int64\n",
      "gender              21525 non-null object\n",
      "income_type         21525 non-null object\n",
      "debt                21525 non-null int64\n",
      "total_income        19351 non-null float64\n",
      "purpose             21525 non-null object\n",
      "dtypes: float64(2), int64(5), object(5)\n",
      "memory usage: 2.0+ MB\n"
     ]
    }
   ],
   "source": [
    "df.info()"
   ]
  },
  {
   "cell_type": "markdown",
   "metadata": {},
   "source": [
    "Всего в таблице 21 525 строк и 12 столбцов. Наименование столбцов и описание содержащихся в них данных:  \n",
    "- *children* — количество детей в семье  \n",
    "- *days_employed* — общий трудовой стаж в днях  \n",
    "- *dob_years* — возраст клиента в годах  \n",
    "- *education* — уровень образования клиента  \n",
    "- *education_id* — идентификатор уровня образования  \n",
    "- *family_status* — семейное положение  \n",
    "- *family_status_id* — идентификатор семейного положения  \n",
    "- *gender* — пол клиента  \n",
    "- *income_type* — тип занятости  \n",
    "- *debt* — имел ли задолженность по возврату кредитов  \n",
    "- *total_income* — ежемесячный доход  \n",
    "- *purpose* — цель получения кредита  \n",
    "\n",
    "Данные таблицы достаточны для проведения исследования. В том числе, датафрейм содержит сведения о семейном статусе заёмщиков, о количестве детей, ежемесячном доходе и целей предоставления кредитов, которые необходимы для достижения цели исследования."
   ]
  },
  {
   "cell_type": "markdown",
   "metadata": {},
   "source": [
    "Столбцы датасета имеют корректные наименования за исключением столбца *dob_years*, из наименования которого очевидно не следует, что в нём содержатся данные о возрасте клиента.   \n",
    "Поэтому переименуем столбец *dob_years* в *age* и проверим удалось ли переименовать столбец путём вызова метода `columns`:"
   ]
  },
  {
   "cell_type": "code",
   "execution_count": 5,
   "metadata": {},
   "outputs": [
    {
     "data": {
      "text/plain": [
       "Index(['children', 'days_employed', 'age', 'education', 'education_id',\n",
       "       'family_status', 'family_status_id', 'gender', 'income_type', 'debt',\n",
       "       'total_income', 'purpose'],\n",
       "      dtype='object')"
      ]
     },
     "execution_count": 5,
     "metadata": {},
     "output_type": "execute_result"
    }
   ],
   "source": [
    "df.rename(columns={'dob_years':'age'}, inplace=True)\n",
    "df.columns"
   ]
  },
  {
   "cell_type": "markdown",
   "metadata": {},
   "source": [
    "Столбец *dob_years* был успешно переимнован в *age*."
   ]
  },
  {
   "cell_type": "markdown",
   "metadata": {},
   "source": [
    "Выведем первые 5 строк таблицы с помощью метода `head()`, чтобы ознакомиться какие данные содержатся в ней:"
   ]
  },
  {
   "cell_type": "code",
   "execution_count": 6,
   "metadata": {
    "scrolled": true
   },
   "outputs": [
    {
     "data": {
      "text/html": [
       "<div>\n",
       "<style scoped>\n",
       "    .dataframe tbody tr th:only-of-type {\n",
       "        vertical-align: middle;\n",
       "    }\n",
       "\n",
       "    .dataframe tbody tr th {\n",
       "        vertical-align: top;\n",
       "    }\n",
       "\n",
       "    .dataframe thead th {\n",
       "        text-align: right;\n",
       "    }\n",
       "</style>\n",
       "<table border=\"1\" class=\"dataframe\">\n",
       "  <thead>\n",
       "    <tr style=\"text-align: right;\">\n",
       "      <th></th>\n",
       "      <th>children</th>\n",
       "      <th>days_employed</th>\n",
       "      <th>age</th>\n",
       "      <th>education</th>\n",
       "      <th>education_id</th>\n",
       "      <th>family_status</th>\n",
       "      <th>family_status_id</th>\n",
       "      <th>gender</th>\n",
       "      <th>income_type</th>\n",
       "      <th>debt</th>\n",
       "      <th>total_income</th>\n",
       "      <th>purpose</th>\n",
       "    </tr>\n",
       "  </thead>\n",
       "  <tbody>\n",
       "    <tr>\n",
       "      <td>0</td>\n",
       "      <td>1</td>\n",
       "      <td>-8,437.67</td>\n",
       "      <td>42</td>\n",
       "      <td>высшее</td>\n",
       "      <td>0</td>\n",
       "      <td>женат / замужем</td>\n",
       "      <td>0</td>\n",
       "      <td>F</td>\n",
       "      <td>сотрудник</td>\n",
       "      <td>0</td>\n",
       "      <td>253,875.64</td>\n",
       "      <td>покупка жилья</td>\n",
       "    </tr>\n",
       "    <tr>\n",
       "      <td>1</td>\n",
       "      <td>1</td>\n",
       "      <td>-4,024.80</td>\n",
       "      <td>36</td>\n",
       "      <td>среднее</td>\n",
       "      <td>1</td>\n",
       "      <td>женат / замужем</td>\n",
       "      <td>0</td>\n",
       "      <td>F</td>\n",
       "      <td>сотрудник</td>\n",
       "      <td>0</td>\n",
       "      <td>112,080.01</td>\n",
       "      <td>приобретение автомобиля</td>\n",
       "    </tr>\n",
       "    <tr>\n",
       "      <td>2</td>\n",
       "      <td>0</td>\n",
       "      <td>-5,623.42</td>\n",
       "      <td>33</td>\n",
       "      <td>Среднее</td>\n",
       "      <td>1</td>\n",
       "      <td>женат / замужем</td>\n",
       "      <td>0</td>\n",
       "      <td>M</td>\n",
       "      <td>сотрудник</td>\n",
       "      <td>0</td>\n",
       "      <td>145,885.95</td>\n",
       "      <td>покупка жилья</td>\n",
       "    </tr>\n",
       "    <tr>\n",
       "      <td>3</td>\n",
       "      <td>3</td>\n",
       "      <td>-4,124.75</td>\n",
       "      <td>32</td>\n",
       "      <td>среднее</td>\n",
       "      <td>1</td>\n",
       "      <td>женат / замужем</td>\n",
       "      <td>0</td>\n",
       "      <td>M</td>\n",
       "      <td>сотрудник</td>\n",
       "      <td>0</td>\n",
       "      <td>267,628.55</td>\n",
       "      <td>дополнительное образование</td>\n",
       "    </tr>\n",
       "    <tr>\n",
       "      <td>4</td>\n",
       "      <td>0</td>\n",
       "      <td>340,266.07</td>\n",
       "      <td>53</td>\n",
       "      <td>среднее</td>\n",
       "      <td>1</td>\n",
       "      <td>гражданский брак</td>\n",
       "      <td>1</td>\n",
       "      <td>F</td>\n",
       "      <td>пенсионер</td>\n",
       "      <td>0</td>\n",
       "      <td>158,616.08</td>\n",
       "      <td>сыграть свадьбу</td>\n",
       "    </tr>\n",
       "  </tbody>\n",
       "</table>\n",
       "</div>"
      ],
      "text/plain": [
       "   children  days_employed  age education  education_id     family_status  \\\n",
       "0         1      -8,437.67   42    высшее             0   женат / замужем   \n",
       "1         1      -4,024.80   36   среднее             1   женат / замужем   \n",
       "2         0      -5,623.42   33   Среднее             1   женат / замужем   \n",
       "3         3      -4,124.75   32   среднее             1   женат / замужем   \n",
       "4         0     340,266.07   53   среднее             1  гражданский брак   \n",
       "\n",
       "   family_status_id gender income_type  debt  total_income  \\\n",
       "0                 0      F   сотрудник     0    253,875.64   \n",
       "1                 0      F   сотрудник     0    112,080.01   \n",
       "2                 0      M   сотрудник     0    145,885.95   \n",
       "3                 0      M   сотрудник     0    267,628.55   \n",
       "4                 1      F   пенсионер     0    158,616.08   \n",
       "\n",
       "                      purpose  \n",
       "0               покупка жилья  \n",
       "1     приобретение автомобиля  \n",
       "2               покупка жилья  \n",
       "3  дополнительное образование  \n",
       "4             сыграть свадьбу  "
      ]
     },
     "execution_count": 6,
     "metadata": {},
     "output_type": "execute_result"
    }
   ],
   "source": [
    "df.head()"
   ]
  },
  {
   "cell_type": "markdown",
   "metadata": {},
   "source": [
    "Как видим, часть данных имеет отрицательные значения хотя описывает количество дней, одни и те же значения написаны разным регистром или с помощью синонимичных словосочетаний. Следовательно, данные необходимо подготовить для анализа."
   ]
  },
  {
   "cell_type": "markdown",
   "metadata": {},
   "source": [
    "**Вывод**"
   ]
  },
  {
   "cell_type": "markdown",
   "metadata": {},
   "source": [
    "Данные, содержащиеся в датафрейме, являются достаточными для проведения исследования и проверки гипотезы. Однако ознакомление с конкретными данными позволило выявить недостатки в данных, устранение которых будет проведено на этапе предобработки данных."
   ]
  },
  {
   "cell_type": "markdown",
   "metadata": {},
   "source": [
    "## Шаг 2. Предобработка данных"
   ]
  },
  {
   "cell_type": "markdown",
   "metadata": {},
   "source": [
    "### Обработка пропусков"
   ]
  },
  {
   "cell_type": "markdown",
   "metadata": {},
   "source": [
    "Проверим есть ли строки, которые полностью состоят из отсутствующих значений. При налчии таких строк удалим их:"
   ]
  },
  {
   "cell_type": "code",
   "execution_count": 7,
   "metadata": {},
   "outputs": [
    {
     "data": {
      "text/html": [
       "<div>\n",
       "<style scoped>\n",
       "    .dataframe tbody tr th:only-of-type {\n",
       "        vertical-align: middle;\n",
       "    }\n",
       "\n",
       "    .dataframe tbody tr th {\n",
       "        vertical-align: top;\n",
       "    }\n",
       "\n",
       "    .dataframe thead th {\n",
       "        text-align: right;\n",
       "    }\n",
       "</style>\n",
       "<table border=\"1\" class=\"dataframe\">\n",
       "  <thead>\n",
       "    <tr style=\"text-align: right;\">\n",
       "      <th></th>\n",
       "      <th>children</th>\n",
       "      <th>days_employed</th>\n",
       "      <th>age</th>\n",
       "      <th>education</th>\n",
       "      <th>education_id</th>\n",
       "      <th>family_status</th>\n",
       "      <th>family_status_id</th>\n",
       "      <th>gender</th>\n",
       "      <th>income_type</th>\n",
       "      <th>debt</th>\n",
       "      <th>total_income</th>\n",
       "      <th>purpose</th>\n",
       "    </tr>\n",
       "  </thead>\n",
       "  <tbody>\n",
       "    <tr>\n",
       "      <td>0</td>\n",
       "      <td>1</td>\n",
       "      <td>-8,437.67</td>\n",
       "      <td>42</td>\n",
       "      <td>высшее</td>\n",
       "      <td>0</td>\n",
       "      <td>женат / замужем</td>\n",
       "      <td>0</td>\n",
       "      <td>F</td>\n",
       "      <td>сотрудник</td>\n",
       "      <td>0</td>\n",
       "      <td>253,875.64</td>\n",
       "      <td>покупка жилья</td>\n",
       "    </tr>\n",
       "    <tr>\n",
       "      <td>1</td>\n",
       "      <td>1</td>\n",
       "      <td>-4,024.80</td>\n",
       "      <td>36</td>\n",
       "      <td>среднее</td>\n",
       "      <td>1</td>\n",
       "      <td>женат / замужем</td>\n",
       "      <td>0</td>\n",
       "      <td>F</td>\n",
       "      <td>сотрудник</td>\n",
       "      <td>0</td>\n",
       "      <td>112,080.01</td>\n",
       "      <td>приобретение автомобиля</td>\n",
       "    </tr>\n",
       "    <tr>\n",
       "      <td>2</td>\n",
       "      <td>0</td>\n",
       "      <td>-5,623.42</td>\n",
       "      <td>33</td>\n",
       "      <td>Среднее</td>\n",
       "      <td>1</td>\n",
       "      <td>женат / замужем</td>\n",
       "      <td>0</td>\n",
       "      <td>M</td>\n",
       "      <td>сотрудник</td>\n",
       "      <td>0</td>\n",
       "      <td>145,885.95</td>\n",
       "      <td>покупка жилья</td>\n",
       "    </tr>\n",
       "    <tr>\n",
       "      <td>3</td>\n",
       "      <td>3</td>\n",
       "      <td>-4,124.75</td>\n",
       "      <td>32</td>\n",
       "      <td>среднее</td>\n",
       "      <td>1</td>\n",
       "      <td>женат / замужем</td>\n",
       "      <td>0</td>\n",
       "      <td>M</td>\n",
       "      <td>сотрудник</td>\n",
       "      <td>0</td>\n",
       "      <td>267,628.55</td>\n",
       "      <td>дополнительное образование</td>\n",
       "    </tr>\n",
       "    <tr>\n",
       "      <td>4</td>\n",
       "      <td>0</td>\n",
       "      <td>340,266.07</td>\n",
       "      <td>53</td>\n",
       "      <td>среднее</td>\n",
       "      <td>1</td>\n",
       "      <td>гражданский брак</td>\n",
       "      <td>1</td>\n",
       "      <td>F</td>\n",
       "      <td>пенсионер</td>\n",
       "      <td>0</td>\n",
       "      <td>158,616.08</td>\n",
       "      <td>сыграть свадьбу</td>\n",
       "    </tr>\n",
       "    <tr>\n",
       "      <td>...</td>\n",
       "      <td>...</td>\n",
       "      <td>...</td>\n",
       "      <td>...</td>\n",
       "      <td>...</td>\n",
       "      <td>...</td>\n",
       "      <td>...</td>\n",
       "      <td>...</td>\n",
       "      <td>...</td>\n",
       "      <td>...</td>\n",
       "      <td>...</td>\n",
       "      <td>...</td>\n",
       "      <td>...</td>\n",
       "    </tr>\n",
       "    <tr>\n",
       "      <td>21520</td>\n",
       "      <td>1</td>\n",
       "      <td>-4,529.32</td>\n",
       "      <td>43</td>\n",
       "      <td>среднее</td>\n",
       "      <td>1</td>\n",
       "      <td>гражданский брак</td>\n",
       "      <td>1</td>\n",
       "      <td>F</td>\n",
       "      <td>компаньон</td>\n",
       "      <td>0</td>\n",
       "      <td>224,791.86</td>\n",
       "      <td>операции с жильем</td>\n",
       "    </tr>\n",
       "    <tr>\n",
       "      <td>21521</td>\n",
       "      <td>0</td>\n",
       "      <td>343,937.40</td>\n",
       "      <td>67</td>\n",
       "      <td>среднее</td>\n",
       "      <td>1</td>\n",
       "      <td>женат / замужем</td>\n",
       "      <td>0</td>\n",
       "      <td>F</td>\n",
       "      <td>пенсионер</td>\n",
       "      <td>0</td>\n",
       "      <td>155,999.81</td>\n",
       "      <td>сделка с автомобилем</td>\n",
       "    </tr>\n",
       "    <tr>\n",
       "      <td>21522</td>\n",
       "      <td>1</td>\n",
       "      <td>-2,113.35</td>\n",
       "      <td>38</td>\n",
       "      <td>среднее</td>\n",
       "      <td>1</td>\n",
       "      <td>гражданский брак</td>\n",
       "      <td>1</td>\n",
       "      <td>M</td>\n",
       "      <td>сотрудник</td>\n",
       "      <td>1</td>\n",
       "      <td>89,672.56</td>\n",
       "      <td>недвижимость</td>\n",
       "    </tr>\n",
       "    <tr>\n",
       "      <td>21523</td>\n",
       "      <td>3</td>\n",
       "      <td>-3,112.48</td>\n",
       "      <td>38</td>\n",
       "      <td>среднее</td>\n",
       "      <td>1</td>\n",
       "      <td>женат / замужем</td>\n",
       "      <td>0</td>\n",
       "      <td>M</td>\n",
       "      <td>сотрудник</td>\n",
       "      <td>1</td>\n",
       "      <td>244,093.05</td>\n",
       "      <td>на покупку своего автомобиля</td>\n",
       "    </tr>\n",
       "    <tr>\n",
       "      <td>21524</td>\n",
       "      <td>2</td>\n",
       "      <td>-1,984.51</td>\n",
       "      <td>40</td>\n",
       "      <td>среднее</td>\n",
       "      <td>1</td>\n",
       "      <td>женат / замужем</td>\n",
       "      <td>0</td>\n",
       "      <td>F</td>\n",
       "      <td>сотрудник</td>\n",
       "      <td>0</td>\n",
       "      <td>82,047.42</td>\n",
       "      <td>на покупку автомобиля</td>\n",
       "    </tr>\n",
       "  </tbody>\n",
       "</table>\n",
       "<p>21525 rows × 12 columns</p>\n",
       "</div>"
      ],
      "text/plain": [
       "       children  days_employed  age education  education_id     family_status  \\\n",
       "0             1      -8,437.67   42    высшее             0   женат / замужем   \n",
       "1             1      -4,024.80   36   среднее             1   женат / замужем   \n",
       "2             0      -5,623.42   33   Среднее             1   женат / замужем   \n",
       "3             3      -4,124.75   32   среднее             1   женат / замужем   \n",
       "4             0     340,266.07   53   среднее             1  гражданский брак   \n",
       "...         ...            ...  ...       ...           ...               ...   \n",
       "21520         1      -4,529.32   43   среднее             1  гражданский брак   \n",
       "21521         0     343,937.40   67   среднее             1   женат / замужем   \n",
       "21522         1      -2,113.35   38   среднее             1  гражданский брак   \n",
       "21523         3      -3,112.48   38   среднее             1   женат / замужем   \n",
       "21524         2      -1,984.51   40   среднее             1   женат / замужем   \n",
       "\n",
       "       family_status_id gender income_type  debt  total_income  \\\n",
       "0                     0      F   сотрудник     0    253,875.64   \n",
       "1                     0      F   сотрудник     0    112,080.01   \n",
       "2                     0      M   сотрудник     0    145,885.95   \n",
       "3                     0      M   сотрудник     0    267,628.55   \n",
       "4                     1      F   пенсионер     0    158,616.08   \n",
       "...                 ...    ...         ...   ...           ...   \n",
       "21520                 1      F   компаньон     0    224,791.86   \n",
       "21521                 0      F   пенсионер     0    155,999.81   \n",
       "21522                 1      M   сотрудник     1     89,672.56   \n",
       "21523                 0      M   сотрудник     1    244,093.05   \n",
       "21524                 0      F   сотрудник     0     82,047.42   \n",
       "\n",
       "                            purpose  \n",
       "0                     покупка жилья  \n",
       "1           приобретение автомобиля  \n",
       "2                     покупка жилья  \n",
       "3        дополнительное образование  \n",
       "4                   сыграть свадьбу  \n",
       "...                             ...  \n",
       "21520             операции с жильем  \n",
       "21521          сделка с автомобилем  \n",
       "21522                  недвижимость  \n",
       "21523  на покупку своего автомобиля  \n",
       "21524         на покупку автомобиля  \n",
       "\n",
       "[21525 rows x 12 columns]"
      ]
     },
     "execution_count": 7,
     "metadata": {},
     "output_type": "execute_result"
    }
   ],
   "source": [
    "df.dropna(how='all') # применим зададим методу dropna параметр how cо значением 'all', \n",
    "                            # чтобы проверить наличие строк в датафрейме, полностью состоящих из NaN"
   ]
  },
  {
   "cell_type": "markdown",
   "metadata": {},
   "source": [
    "После применения метода `dropna()` с параметром `how='all'` количество строк в датасете осталось неизменным - 21 525. Следовательно, строки, состоящие только из пропущенных значеницй, в таблице отсутствуют."
   ]
  },
  {
   "cell_type": "markdown",
   "metadata": {},
   "source": [
    "Посчитаем количество пропусков в каждом столбце датасета путём применения методов `isnull()` и `sum()`:"
   ]
  },
  {
   "cell_type": "code",
   "execution_count": 8,
   "metadata": {},
   "outputs": [
    {
     "data": {
      "text/plain": [
       "children               0\n",
       "days_employed       2174\n",
       "age                    0\n",
       "education              0\n",
       "education_id           0\n",
       "family_status          0\n",
       "family_status_id       0\n",
       "gender                 0\n",
       "income_type            0\n",
       "debt                   0\n",
       "total_income        2174\n",
       "purpose                0\n",
       "dtype: int64"
      ]
     },
     "execution_count": 8,
     "metadata": {},
     "output_type": "execute_result"
    }
   ],
   "source": [
    "df.isna().sum()"
   ]
  },
  {
   "cell_type": "markdown",
   "metadata": {},
   "source": [
    "Пропуски обнаружены только в столбцах *days_employed* и *total_income*. Рассчитаем процент пропущенных значений в соответствующих столбцах с помощью цикла:"
   ]
  },
  {
   "cell_type": "code",
   "execution_count": 9,
   "metadata": {},
   "outputs": [
    {
     "name": "stdout",
     "output_type": "stream",
     "text": [
      "days_employed - 10%\n",
      "total_income - 10%\n"
     ]
    }
   ],
   "source": [
    "# Создадим цикл for с переменной col, а в качестве данных, по которым будет проходить цикла укажем столбцы,\n",
    "# в которых обнаружены пропущенные значения. Сохраним в переменной missing примнение функции np.mean, которая \n",
    "# посчитает количество пропущенных значений в столбце и разделит его на общее количество значений в столбце. \n",
    "# Результат выведем на экран в виде \"столбец - процент пропущенных данных в нём\",применив функцию format.\n",
    "\n",
    "for col in df[['days_employed', 'total_income']]:\n",
    "    missing = np.mean(df[col].isnull())\n",
    "    print('{} - {}%'.format(col, round(missing*100)))"
   ]
  },
  {
   "cell_type": "markdown",
   "metadata": {},
   "source": [
    "Количество дней трудового стажа и ежемесячного дохода пропущены в 10% записей, что является существенным и может повлиять на результаты исследования.   \n",
    "\n",
    "При этом количество пропусков в указанных столбцах одинаковое (2 174), поэтому можно предположить, что пропуски допущены в одних и тех же строках. Проверим это предположение с помощью логической индексации и оператора `&` - если в результате количество пропущенных значений не изменится, значит пропуски в столбцах *days_employed* и *total_income* допущены в одних и тех же столбцах. Резльтат сохраним в перемнной *missed_values_total*:"
   ]
  },
  {
   "cell_type": "code",
   "execution_count": 10,
   "metadata": {
    "scrolled": true
   },
   "outputs": [
    {
     "data": {
      "text/plain": [
       "(2174, 12)"
      ]
     },
     "execution_count": 10,
     "metadata": {},
     "output_type": "execute_result"
    }
   ],
   "source": [
    "missed_values_total = df[df['total_income'].isnull() & df['days_employed'].isnull()]\n",
    "missed_values_total.shape # чтобы узнать количество строк используем метод shape"
   ]
  },
  {
   "cell_type": "markdown",
   "metadata": {},
   "source": [
    "Количество строк с пропущенными значениями не изменилось (2 174), что подтверждает наше предположение о пропусках в столбцах *days_employed* и *total_income* в одних и тех же строках.  \n",
    "\n",
    "Определим есть ли взаимосвязь между пропущенными данными в столбцах *total_income* и *days_employed* с иными данными датасета. Для этого узнаем у заёмщиков какого типа занятости, обрзования и возраста чаще всего пропущены значения: "
   ]
  },
  {
   "cell_type": "code",
   "execution_count": 11,
   "metadata": {},
   "outputs": [
    {
     "data": {
      "image/png": "[encoded data removed]",
      "text/plain": [
       "<Figure size 1080x576 with 1 Axes>"
      ]
     },
     "metadata": {},
     "output_type": "display_data"
    }
   ],
   "source": [
    "# Посчитаем количество уникальных значений в столбце income_type с помощью метода value_counts().\n",
    "# Результат выведем на экран в виде диаграммы.\n",
    "missed_values_income_type = missed_values_total['income_type'].value_counts().plot.bar()"
   ]
  },
  {
   "cell_type": "markdown",
   "metadata": {},
   "source": [
    "Чаще всего данные прпущены у заёмщиков с типом занятости \"сотрудник\". \n",
    "\n",
    "Теперь узнаем у заёмщиков с каким уровнем образования вероятность встретить пропущенные значения выше:"
   ]
  },
  {
   "cell_type": "code",
   "execution_count": 12,
   "metadata": {},
   "outputs": [
    {
     "data": {
      "image/png": "[encoded data removed]",
      "text/plain": [
       "<Figure size 1080x576 with 1 Axes>"
      ]
     },
     "metadata": {},
     "output_type": "display_data"
    }
   ],
   "source": [
    "# Код аналогичен ранее выполненному, только считается уникальное количество значений в столбце education\n",
    "missed_values_education = missed_values_total['education'].value_counts().plot.bar()"
   ]
  },
  {
   "cell_type": "markdown",
   "metadata": {},
   "source": [
    "Определим в какой возрастной группе заёмщиков чаще всего встречаются пропуски. Для этого напишем цикл с счётчиком, который посчитает сколько раз пропущенные данные встречаются в той или иной возрастной группе заёмщиков:"
   ]
  },
  {
   "cell_type": "code",
   "execution_count": 13,
   "metadata": {},
   "outputs": [
    {
     "name": "stdout",
     "output_type": "stream",
     "text": [
      "Количество пропущенных значений по заёмщикам до 30 лет: 309\n",
      "Количество пропущенных значений по заёмщикам 30 - 39 лет: 565\n",
      "Количество пропущенных значений по заёмщикам 40 - 49 лет: 537\n",
      "Количество пропущенных значений по заёмщикам 50 - 59 лет: 501\n",
      "Количество пропущенных значений по заёмщикам 60 - 69 лет: 251\n",
      "Количество пропущенных значений по заёмщикам старше 70 лет: 11\n",
      "Медианный возраст заёмщиков, по которым пропущены значения: 43.0\n"
     ]
    }
   ],
   "source": [
    "age_under_30 = 0 # В данной перемнной будем сохранять количество пропусков по заёмщикам до 29 лет.\n",
    "age_30s = 0 # <...> от 30 до 39 лет включительно.\n",
    "age_40s = 0 # <...> от 40 до 49 лет включительно.\n",
    "age_50s = 0 # <...> от 50 до 59 лет включительно.\n",
    "age_60s = 0 # <...> от 60 до 69 лет включительно.\n",
    "age_over_70 = 0 # <...> старше 70 лет.\n",
    "\n",
    "for i in missed_values_total['age']: # Проверим каждое значение в столбце age в переменной missed_value_total.\n",
    "    if i <= 29: # Если возраст заёмщика 29 лет и менее,\n",
    "        age_under_30 += 1 # то будем добавлять единицу в соответствующую переменную-счётчик.\n",
    "    elif i >= 30 and i <= 39: # Напишим аналогичные условия и для иных возрастных категорий.\n",
    "        age_30s += 1\n",
    "    elif i >= 40 and i <= 49:\n",
    "        age_40s += 1\n",
    "    elif i >= 50 and i <= 59:\n",
    "        age_50s += 1\n",
    "    elif i >= 60 and i <= 69:\n",
    "        age_60s += 1\n",
    "    elif i >= 70:\n",
    "        age_over_70 += 1\n",
    "\n",
    "# Выведем на экран количество пропущенных значений по каждой возрастной категории заёмщиков.\n",
    "print('Количество пропущенных значений по заёмщикам до 30 лет:', age_under_30)\n",
    "print('Количество пропущенных значений по заёмщикам 30 - 39 лет:', age_30s)\n",
    "print('Количество пропущенных значений по заёмщикам 40 - 49 лет:', age_40s)\n",
    "print('Количество пропущенных значений по заёмщикам 50 - 59 лет:', age_50s)\n",
    "print('Количество пропущенных значений по заёмщикам 60 - 69 лет:', age_60s)\n",
    "print('Количество пропущенных значений по заёмщикам старше 70 лет:', age_over_70)\n",
    "\n",
    "print('Медианный возраст заёмщиков, по которым пропущены значения:', missed_values_total['age'].median())"
   ]
  },
  {
   "cell_type": "markdown",
   "metadata": {},
   "source": [
    "Соответственно, вероятность встретить пропущенные данные выше среди заёмщиков возрастных групп 30 - 39 лет, 40 - 49 лет и 50 - 59 лет."
   ]
  },
  {
   "cell_type": "markdown",
   "metadata": {},
   "source": [
    "Таким обарзом, вероятность пропуска данных о трудовом стаже и ежемесячном доходе выше среди заёмщиков-сотрудников со средним образованием в возрасте 30 - 49 лет. "
   ]
  },
  {
   "cell_type": "markdown",
   "metadata": {},
   "source": [
    "Соберём данные о заёмщиках-сотрудниках со средним образованием в возрасте 30 - 59 лет в переменную *missed_for_mean* и узнаем количество соответствующих значений:"
   ]
  },
  {
   "cell_type": "code",
   "execution_count": 14,
   "metadata": {},
   "outputs": [
    {
     "data": {
      "text/plain": [
       "(651, 12)"
      ]
     },
     "execution_count": 14,
     "metadata": {},
     "output_type": "execute_result"
    }
   ],
   "source": [
    "# Сделаем соответствующую выборку с помощью логической индексации. Будем сохранять в переменную \n",
    "# missed_for_median все строки missed_values_total, которые соответствуют условиям: образование - среднее\n",
    "# (с учётом разного регистра), тип занятости - сотрудник, возраст - от 30 до 59 лет.\n",
    "# В итоге определим количество заёмщиков, соответствующих этим критериям, по которым пропущены данные.\n",
    "\n",
    "missed_for_median = missed_values_total[\n",
    "    ((missed_values_total['education'] == 'среднее') & \n",
    "    (missed_values_total['income_type'] == 'сотрудник') &\n",
    "    ((missed_values_total['age'] >= 30) & (missed_values_total['age'] <= 59))) |\n",
    "    ((missed_values_total['education'] == 'СРЕДНЕЕ') &\n",
    "    (missed_values_total['income_type'] == 'сотрудник') &\n",
    "    ((missed_values_total['age'] >= 30) & (missed_values_total['age'] <= 59))) |\n",
    "    ((missed_values_total['education'] == 'Среднее') & \n",
    "    (missed_values_total['income_type'] == 'сотрудник') &\n",
    "    ((missed_values_total['age'] >= 30) & (missed_values_total['age'] <= 59)))]\n",
    "missed_for_median.shape"
   ]
  },
  {
   "cell_type": "markdown",
   "metadata": {},
   "source": [
    "Как видно, в 651 случаях из 2 174 данные о трудовом стаже и ежемесячном доходе пропущены у заёмщиков, которые являются наёмными работниками, имеют среднее образование и возраст 30 - 59 лет. Поэтому можно предположить, что пропуски связаны с некоторой закономерностью (MAR). В случае MAR обработка пропусков считается допустимой. Что не исключает возможности пропуска данных из-за технических ошибок.\n",
    "\n",
    "Учитывая, что у нас есть данные о трудовом стаже и доходе аналогичных заёмщиков, для заполнения пропусков возможно воспользоваться медианными значениями. Поскольку данные пропущены чаще всего у работающих заёмщиков со средним образованием в возрасте 30 - 59 лет, определим медианное значение трудового стажа для данной категории заёмщиков и сохраним в переменной *days_employed_mean*, а результат выведем на экран:"
   ]
  },
  {
   "cell_type": "code",
   "execution_count": 15,
   "metadata": {},
   "outputs": [
    {
     "name": "stdout",
     "output_type": "stream",
     "text": [
      "Медианное значение трудового стажа составляет -1799.5275163883286\n"
     ]
    }
   ],
   "source": [
    "# Выполним фильтрацию данных с помощью функции days_employd_for_median, которая будет принимать аргументы:\n",
    "# education_1, education_2, education_3 - среднее образование, с учётом различий в регистре;\n",
    "# income_type - сотрудник;\n",
    "# age_min - минимальная возрастная граница заёмщиков, 30 лет;\n",
    "# age_max - максимальная возрастная граница заёмщиков, 59 лет.\n",
    "# В функции объявим переменную days_employed_median, в которой сохраним данные по займщикам с помощью\n",
    "# логической индексации. Возвращать функция будет медианное значение трудового стажа для заёмщиков,\n",
    "# соответствующих объявленным требованиям образования, типа занятости и возраста в параметрах функции.\n",
    "\n",
    "def days_employed_for_median(education_1, education_2, education_3, income_type, age_min, age_max):\n",
    "    days_employed_median = df[\n",
    "        (df['days_employed'].notnull()) & \n",
    "        ((df['education'] == education_1) | \n",
    "         (df['education'] == education_2) | \n",
    "         (df['education'] == education_3)) &\n",
    "        ((df['income_type'] == income_type)) &\n",
    "        ((df['age'] >= age_min) & (df['age'] <= age_max))\n",
    "        ]\n",
    "    return days_employed_median[\"days_employed\"].median()\n",
    "\n",
    "# Выведем медианное значение трудового стажа для указанной выборки заёмщиков на экран.\n",
    "print(f'Медианное значение трудового стажа составляет {days_employed_for_median(\"среднее\", \"СРЕДНЕЕ\", \"Среднее\", \"сотрудник\", 30, 59)}')"
   ]
  },
  {
   "cell_type": "markdown",
   "metadata": {},
   "source": [
    "Теперь заменим пропуски в столбце *days_employed* основного датасета медианным значением:"
   ]
  },
  {
   "cell_type": "code",
   "execution_count": 16,
   "metadata": {},
   "outputs": [
    {
     "name": "stdout",
     "output_type": "stream",
     "text": [
      "Пропуски в столбце days_employed до: 2174\n",
      "Пропуски в столбце days_employed после: 0\n"
     ]
    }
   ],
   "source": [
    "# Посчитаем количество пропусков до их заполнения с помощью функицй isna() и sum().\n",
    "print('Пропуски в столбце days_employed до:', df['days_employed'].isna().sum())\n",
    "\n",
    "# Заменим пропуски, для чего сначала с помощью функции .loc обратимся к ячейкам с пропущенными значениями\n",
    "# в столбце days_employed, применив функцию isna(). Правее оператора присвоения обратимся к ранее \n",
    "# написанной функции days_employed_for_median с необходимыми параметрами заёмщиков.\n",
    "df.loc[df['days_employed'].isna(), ['days_employed']] = days_employed_for_median(\"среднее\", \"СРЕДНЕЕ\", \"Среднее\", \"сотрудник\", 30, 59)\n",
    "\n",
    "# Посчитаем количество пропусков в столбце после их заполнения.\n",
    "print('Пропуски в столбце days_employed после:', df['days_employed'].isna().sum())"
   ]
  },
  {
   "cell_type": "markdown",
   "metadata": {},
   "source": [
    "Пропуски в столбце *days_employd* заполнены медианным значением. \n",
    "Теперь аналогичным образом определим медианное значение ежемесячного дохода у заёмщиков-сотрудников со средним образованием в возрасте 30 - 59 лет, отфильтровав данные с помощью функции, выведем результат медианного значения на экран:"
   ]
  },
  {
   "cell_type": "code",
   "execution_count": 17,
   "metadata": {},
   "outputs": [
    {
     "name": "stdout",
     "output_type": "stream",
     "text": [
      "Медианное значение ежемесячного дохода составляет 138117.20904677408\n"
     ]
    }
   ],
   "source": [
    "# Выполним фильтрацию данных с помощью функции total_income_for_median, которая будет принимать аргументы,\n",
    "# аналогичные предыдущей функции. Но возвращать функция будет медианное значение ежемесячного дохода\n",
    "# заёмщиков, соответствующих объявленным параметрам.\n",
    "\n",
    "def total_income_for_median(education_1, education_2, education_3, income_type, age_min, age_max):\n",
    "    total_income_median = df[\n",
    "        (df['days_employed'].notnull()) & \n",
    "        ((df['education'] == education_1) | \n",
    "         (df['education'] == education_2) | \n",
    "         (df['education'] == education_3)) &\n",
    "        ((df['income_type'] == income_type)) &\n",
    "        ((df['age'] >= age_min) & (df['age'] <= age_max))\n",
    "        ]\n",
    "    return total_income_median['total_income'].median()\n",
    "print(f'Медианное значение ежемесячного дохода составляет {total_income_for_median(\"среднее\", \"СРЕДНЕЕ\", \"Среднее\", \"сотрудник\", 30, 59)}')"
   ]
  },
  {
   "cell_type": "markdown",
   "metadata": {},
   "source": [
    "Заполним пропуски в столбце *total_income*:"
   ]
  },
  {
   "cell_type": "code",
   "execution_count": 18,
   "metadata": {
    "scrolled": true
   },
   "outputs": [
    {
     "name": "stdout",
     "output_type": "stream",
     "text": [
      "Пропуски в столбце total_income до: 2174\n",
      "Пропуски в столбце total_income после: 0\n"
     ]
    }
   ],
   "source": [
    "# Посчитаем количество пропусков до их заполнения с помощью функицй isna() и sum().\n",
    "print('Пропуски в столбце total_income до:', df['total_income'].isna().sum())\n",
    "\n",
    "# Заменим пропуски, для чего сначала с помощью функции .loc обратимся к ячейкам с пропущенными значениями\n",
    "# в столбце total_income, применив функцию isna(). Правее оператора присвоения обратимся к функции \n",
    "# total_income_for_median с необходимыми параметрами заёмщиков.\n",
    "df.loc[df['total_income'].isna(), ['total_income']] = total_income_for_median(\"среднее\", \"СРЕДНЕЕ\", \"Среднее\", \"сотрудник\", 30, 59)\n",
    "\n",
    "# Посчитаем количество пропусков в столбце после их заполнения.\n",
    "print('Пропуски в столбце total_income после:', df['total_income'].isna().sum())"
   ]
  },
  {
   "cell_type": "markdown",
   "metadata": {},
   "source": [
    "Таким образом, все пропущенные значения трудового стажа и ежемесячного дохода в датасете были заполнены медианными значениями для категории заёмщиков, анологичных тем по которым чаще всего встречаются пропуски."
   ]
  },
  {
   "cell_type": "markdown",
   "metadata": {},
   "source": [
    "**Вывод**"
   ]
  },
  {
   "cell_type": "markdown",
   "metadata": {},
   "source": [
    "Пропущенные значения в исходном датасете были обнаружены в столбцах *days_employed* и *total_income*. В каждом столбце отсутствовало порядка 10% данных, что могло бы повлиять на результат исследования.  \n",
    "Нами было установлено, что пропуски содержатся в одних и тех столбцах. При этом вероятность пропуска соответствующих значений была гораздо выше в отношении заёмщиков с *income_type - \"сотрудник\"*, *education - \"среднее\"* и *age - от 30 до 59*. Поэтому отсутствующие значения о трудовом стаже и ежемесячном доходе были заменены медианами для данной категории заёмщиков.   \n",
    "В итоге пропущенные данные были заполнены."
   ]
  },
  {
   "cell_type": "markdown",
   "metadata": {},
   "source": [
    "### Замена типа данных"
   ]
  },
  {
   "cell_type": "markdown",
   "metadata": {},
   "source": [
    "В столбце *days_employed*, который содержит данные об общем трудовом стаже в днях, содержатся данные типа *float*. Для демонстрации выведем первые 5 строк датасета: "
   ]
  },
  {
   "cell_type": "code",
   "execution_count": 19,
   "metadata": {},
   "outputs": [
    {
     "data": {
      "text/html": [
       "<div>\n",
       "<style scoped>\n",
       "    .dataframe tbody tr th:only-of-type {\n",
       "        vertical-align: middle;\n",
       "    }\n",
       "\n",
       "    .dataframe tbody tr th {\n",
       "        vertical-align: top;\n",
       "    }\n",
       "\n",
       "    .dataframe thead th {\n",
       "        text-align: right;\n",
       "    }\n",
       "</style>\n",
       "<table border=\"1\" class=\"dataframe\">\n",
       "  <thead>\n",
       "    <tr style=\"text-align: right;\">\n",
       "      <th></th>\n",
       "      <th>children</th>\n",
       "      <th>days_employed</th>\n",
       "      <th>age</th>\n",
       "      <th>education</th>\n",
       "      <th>education_id</th>\n",
       "      <th>family_status</th>\n",
       "      <th>family_status_id</th>\n",
       "      <th>gender</th>\n",
       "      <th>income_type</th>\n",
       "      <th>debt</th>\n",
       "      <th>total_income</th>\n",
       "      <th>purpose</th>\n",
       "    </tr>\n",
       "  </thead>\n",
       "  <tbody>\n",
       "    <tr>\n",
       "      <td>0</td>\n",
       "      <td>1</td>\n",
       "      <td>-8,437.67</td>\n",
       "      <td>42</td>\n",
       "      <td>высшее</td>\n",
       "      <td>0</td>\n",
       "      <td>женат / замужем</td>\n",
       "      <td>0</td>\n",
       "      <td>F</td>\n",
       "      <td>сотрудник</td>\n",
       "      <td>0</td>\n",
       "      <td>253,875.64</td>\n",
       "      <td>покупка жилья</td>\n",
       "    </tr>\n",
       "    <tr>\n",
       "      <td>1</td>\n",
       "      <td>1</td>\n",
       "      <td>-4,024.80</td>\n",
       "      <td>36</td>\n",
       "      <td>среднее</td>\n",
       "      <td>1</td>\n",
       "      <td>женат / замужем</td>\n",
       "      <td>0</td>\n",
       "      <td>F</td>\n",
       "      <td>сотрудник</td>\n",
       "      <td>0</td>\n",
       "      <td>112,080.01</td>\n",
       "      <td>приобретение автомобиля</td>\n",
       "    </tr>\n",
       "    <tr>\n",
       "      <td>2</td>\n",
       "      <td>0</td>\n",
       "      <td>-5,623.42</td>\n",
       "      <td>33</td>\n",
       "      <td>Среднее</td>\n",
       "      <td>1</td>\n",
       "      <td>женат / замужем</td>\n",
       "      <td>0</td>\n",
       "      <td>M</td>\n",
       "      <td>сотрудник</td>\n",
       "      <td>0</td>\n",
       "      <td>145,885.95</td>\n",
       "      <td>покупка жилья</td>\n",
       "    </tr>\n",
       "    <tr>\n",
       "      <td>3</td>\n",
       "      <td>3</td>\n",
       "      <td>-4,124.75</td>\n",
       "      <td>32</td>\n",
       "      <td>среднее</td>\n",
       "      <td>1</td>\n",
       "      <td>женат / замужем</td>\n",
       "      <td>0</td>\n",
       "      <td>M</td>\n",
       "      <td>сотрудник</td>\n",
       "      <td>0</td>\n",
       "      <td>267,628.55</td>\n",
       "      <td>дополнительное образование</td>\n",
       "    </tr>\n",
       "    <tr>\n",
       "      <td>4</td>\n",
       "      <td>0</td>\n",
       "      <td>340,266.07</td>\n",
       "      <td>53</td>\n",
       "      <td>среднее</td>\n",
       "      <td>1</td>\n",
       "      <td>гражданский брак</td>\n",
       "      <td>1</td>\n",
       "      <td>F</td>\n",
       "      <td>пенсионер</td>\n",
       "      <td>0</td>\n",
       "      <td>158,616.08</td>\n",
       "      <td>сыграть свадьбу</td>\n",
       "    </tr>\n",
       "  </tbody>\n",
       "</table>\n",
       "</div>"
      ],
      "text/plain": [
       "   children  days_employed  age education  education_id     family_status  \\\n",
       "0         1      -8,437.67   42    высшее             0   женат / замужем   \n",
       "1         1      -4,024.80   36   среднее             1   женат / замужем   \n",
       "2         0      -5,623.42   33   Среднее             1   женат / замужем   \n",
       "3         3      -4,124.75   32   среднее             1   женат / замужем   \n",
       "4         0     340,266.07   53   среднее             1  гражданский брак   \n",
       "\n",
       "   family_status_id gender income_type  debt  total_income  \\\n",
       "0                 0      F   сотрудник     0    253,875.64   \n",
       "1                 0      F   сотрудник     0    112,080.01   \n",
       "2                 0      M   сотрудник     0    145,885.95   \n",
       "3                 0      M   сотрудник     0    267,628.55   \n",
       "4                 1      F   пенсионер     0    158,616.08   \n",
       "\n",
       "                      purpose  \n",
       "0               покупка жилья  \n",
       "1     приобретение автомобиля  \n",
       "2               покупка жилья  \n",
       "3  дополнительное образование  \n",
       "4             сыграть свадьбу  "
      ]
     },
     "execution_count": 19,
     "metadata": {},
     "output_type": "execute_result"
    }
   ],
   "source": [
    "df.head()"
   ]
  },
  {
   "cell_type": "markdown",
   "metadata": {},
   "source": [
    "Вещественный тип данных невозможен для данных о трудовом стаже (трудовой стаж не может измеряться как \"100 дней и 12 часов 15 минут\"). Поэтому необходимо заменить тип данных в указанном столбце.  \n",
    "\n",
    "Кроме того, встречаются отрицательные данные об общем трудовом стаже, чего также не может быть. Изменим отрицательные данные на положительные с помощью метода `abs` и проверим результат выводом первых 5 строк на экран:"
   ]
  },
  {
   "cell_type": "code",
   "execution_count": 20,
   "metadata": {
    "scrolled": true
   },
   "outputs": [
    {
     "data": {
      "text/html": [
       "<div>\n",
       "<style scoped>\n",
       "    .dataframe tbody tr th:only-of-type {\n",
       "        vertical-align: middle;\n",
       "    }\n",
       "\n",
       "    .dataframe tbody tr th {\n",
       "        vertical-align: top;\n",
       "    }\n",
       "\n",
       "    .dataframe thead th {\n",
       "        text-align: right;\n",
       "    }\n",
       "</style>\n",
       "<table border=\"1\" class=\"dataframe\">\n",
       "  <thead>\n",
       "    <tr style=\"text-align: right;\">\n",
       "      <th></th>\n",
       "      <th>children</th>\n",
       "      <th>days_employed</th>\n",
       "      <th>age</th>\n",
       "      <th>education</th>\n",
       "      <th>education_id</th>\n",
       "      <th>family_status</th>\n",
       "      <th>family_status_id</th>\n",
       "      <th>gender</th>\n",
       "      <th>income_type</th>\n",
       "      <th>debt</th>\n",
       "      <th>total_income</th>\n",
       "      <th>purpose</th>\n",
       "    </tr>\n",
       "  </thead>\n",
       "  <tbody>\n",
       "    <tr>\n",
       "      <td>0</td>\n",
       "      <td>1</td>\n",
       "      <td>8,437.67</td>\n",
       "      <td>42</td>\n",
       "      <td>высшее</td>\n",
       "      <td>0</td>\n",
       "      <td>женат / замужем</td>\n",
       "      <td>0</td>\n",
       "      <td>F</td>\n",
       "      <td>сотрудник</td>\n",
       "      <td>0</td>\n",
       "      <td>253,875.64</td>\n",
       "      <td>покупка жилья</td>\n",
       "    </tr>\n",
       "    <tr>\n",
       "      <td>1</td>\n",
       "      <td>1</td>\n",
       "      <td>4,024.80</td>\n",
       "      <td>36</td>\n",
       "      <td>среднее</td>\n",
       "      <td>1</td>\n",
       "      <td>женат / замужем</td>\n",
       "      <td>0</td>\n",
       "      <td>F</td>\n",
       "      <td>сотрудник</td>\n",
       "      <td>0</td>\n",
       "      <td>112,080.01</td>\n",
       "      <td>приобретение автомобиля</td>\n",
       "    </tr>\n",
       "    <tr>\n",
       "      <td>2</td>\n",
       "      <td>0</td>\n",
       "      <td>5,623.42</td>\n",
       "      <td>33</td>\n",
       "      <td>Среднее</td>\n",
       "      <td>1</td>\n",
       "      <td>женат / замужем</td>\n",
       "      <td>0</td>\n",
       "      <td>M</td>\n",
       "      <td>сотрудник</td>\n",
       "      <td>0</td>\n",
       "      <td>145,885.95</td>\n",
       "      <td>покупка жилья</td>\n",
       "    </tr>\n",
       "    <tr>\n",
       "      <td>3</td>\n",
       "      <td>3</td>\n",
       "      <td>4,124.75</td>\n",
       "      <td>32</td>\n",
       "      <td>среднее</td>\n",
       "      <td>1</td>\n",
       "      <td>женат / замужем</td>\n",
       "      <td>0</td>\n",
       "      <td>M</td>\n",
       "      <td>сотрудник</td>\n",
       "      <td>0</td>\n",
       "      <td>267,628.55</td>\n",
       "      <td>дополнительное образование</td>\n",
       "    </tr>\n",
       "    <tr>\n",
       "      <td>4</td>\n",
       "      <td>0</td>\n",
       "      <td>340,266.07</td>\n",
       "      <td>53</td>\n",
       "      <td>среднее</td>\n",
       "      <td>1</td>\n",
       "      <td>гражданский брак</td>\n",
       "      <td>1</td>\n",
       "      <td>F</td>\n",
       "      <td>пенсионер</td>\n",
       "      <td>0</td>\n",
       "      <td>158,616.08</td>\n",
       "      <td>сыграть свадьбу</td>\n",
       "    </tr>\n",
       "  </tbody>\n",
       "</table>\n",
       "</div>"
      ],
      "text/plain": [
       "   children  days_employed  age education  education_id     family_status  \\\n",
       "0         1       8,437.67   42    высшее             0   женат / замужем   \n",
       "1         1       4,024.80   36   среднее             1   женат / замужем   \n",
       "2         0       5,623.42   33   Среднее             1   женат / замужем   \n",
       "3         3       4,124.75   32   среднее             1   женат / замужем   \n",
       "4         0     340,266.07   53   среднее             1  гражданский брак   \n",
       "\n",
       "   family_status_id gender income_type  debt  total_income  \\\n",
       "0                 0      F   сотрудник     0    253,875.64   \n",
       "1                 0      F   сотрудник     0    112,080.01   \n",
       "2                 0      M   сотрудник     0    145,885.95   \n",
       "3                 0      M   сотрудник     0    267,628.55   \n",
       "4                 1      F   пенсионер     0    158,616.08   \n",
       "\n",
       "                      purpose  \n",
       "0               покупка жилья  \n",
       "1     приобретение автомобиля  \n",
       "2               покупка жилья  \n",
       "3  дополнительное образование  \n",
       "4             сыграть свадьбу  "
      ]
     },
     "execution_count": 20,
     "metadata": {},
     "output_type": "execute_result"
    }
   ],
   "source": [
    "df['days_employed'] = df['days_employed'].apply(abs) # Функция abs возвращает модуль числа, поэтому \n",
    "                                                     # может быть использована для замены отрицательных\n",
    "                                                     # чисел на положительные.\n",
    "df.head(5)"
   ]
  },
  {
   "cell_type": "markdown",
   "metadata": {},
   "source": [
    "Изменим тип данных столбца *days_employed* на целочисленный и проверим результат:"
   ]
  },
  {
   "cell_type": "code",
   "execution_count": 21,
   "metadata": {},
   "outputs": [
    {
     "name": "stdout",
     "output_type": "stream",
     "text": [
      "<class 'pandas.core.frame.DataFrame'>\n",
      "RangeIndex: 21525 entries, 0 to 21524\n",
      "Data columns (total 12 columns):\n",
      "children            21525 non-null int64\n",
      "days_employed       21525 non-null int64\n",
      "age                 21525 non-null int64\n",
      "education           21525 non-null object\n",
      "education_id        21525 non-null int64\n",
      "family_status       21525 non-null object\n",
      "family_status_id    21525 non-null int64\n",
      "gender              21525 non-null object\n",
      "income_type         21525 non-null object\n",
      "debt                21525 non-null int64\n",
      "total_income        21525 non-null float64\n",
      "purpose             21525 non-null object\n",
      "dtypes: float64(1), int64(6), object(5)\n",
      "memory usage: 2.0+ MB\n"
     ]
    }
   ],
   "source": [
    "# Чтобы изменить тип данных на целочисленный обратимся к функции astype с параметром int\n",
    "df['days_employed'] = df['days_employed'].astype('int')\n",
    "df.info()"
   ]
  },
  {
   "cell_type": "markdown",
   "metadata": {},
   "source": [
    "В результате данные о трудовом стаже были приведены к целочисленному типу. Однако они продолжают аномально выглядеть - некоторые значения измеряются в сотнях тысяч дней, что представляется маловероятным. Следовательно, некоторая часть данных в рассматриваемом столбце указана всё-таки не в днях, а в иных значениях. Поскольку данные указанного столбца не требуются для проверки основной гипотезы, оставим выяснение данного вопроса за рамками исследования."
   ]
  },
  {
   "cell_type": "markdown",
   "metadata": {},
   "source": [
    "**Вывод**"
   ]
  },
  {
   "cell_type": "markdown",
   "metadata": {},
   "source": [
    "В рамках предобработки данных было выявлено, что данные в столбце *days_employed* имеют вещественный тип (float), а также встречаются отрицательные значения, которые не могут характеризовать значения дней трудового стажа. Поэтому отрицательные числа были переведены в положительные, а тип данных в столбце заменён на целочисленный (int)."
   ]
  },
  {
   "cell_type": "markdown",
   "metadata": {},
   "source": [
    "### Обработка дубликатов"
   ]
  },
  {
   "cell_type": "markdown",
   "metadata": {},
   "source": [
    "Посчитаем количество уникальных значений столбцах с типом данных *object* - *education* и *purpose*:"
   ]
  },
  {
   "cell_type": "code",
   "execution_count": 22,
   "metadata": {},
   "outputs": [
    {
     "name": "stdout",
     "output_type": "stream",
     "text": [
      "среднее                13750\n",
      "высшее                  4718\n",
      "СРЕДНЕЕ                  772\n",
      "Среднее                  711\n",
      "неоконченное высшее      668\n",
      "ВЫСШЕЕ                   274\n",
      "Высшее                   268\n",
      "начальное                250\n",
      "Неоконченное высшее       47\n",
      "НЕОКОНЧЕННОЕ ВЫСШЕЕ       29\n",
      "НАЧАЛЬНОЕ                 17\n",
      "Начальное                 15\n",
      "ученая степень             4\n",
      "Ученая степень             1\n",
      "УЧЕНАЯ СТЕПЕНЬ             1\n",
      "Name: education, dtype: int64\n",
      "свадьба                                   797\n",
      "на проведение свадьбы                     777\n",
      "сыграть свадьбу                           774\n",
      "операции с недвижимостью                  676\n",
      "покупка коммерческой недвижимости         664\n",
      "покупка жилья для сдачи                   653\n",
      "операции с жильем                         653\n",
      "операции с коммерческой недвижимостью     651\n",
      "жилье                                     647\n",
      "покупка жилья                             647\n",
      "покупка жилья для семьи                   641\n",
      "строительство собственной недвижимости    635\n",
      "недвижимость                              634\n",
      "операции со своей недвижимостью           630\n",
      "строительство жилой недвижимости          626\n",
      "покупка недвижимости                      624\n",
      "покупка своего жилья                      620\n",
      "строительство недвижимости                620\n",
      "ремонт жилью                              612\n",
      "покупка жилой недвижимости                607\n",
      "на покупку своего автомобиля              505\n",
      "заняться высшим образованием              496\n",
      "автомобиль                                495\n",
      "сделка с подержанным автомобилем          489\n",
      "свой автомобиль                           480\n",
      "на покупку подержанного автомобиля        479\n",
      "автомобили                                478\n",
      "на покупку автомобиля                     472\n",
      "приобретение автомобиля                   462\n",
      "дополнительное образование                462\n",
      "сделка с автомобилем                      455\n",
      "высшее образование                        453\n",
      "получение дополнительного образования     447\n",
      "образование                               447\n",
      "получение образования                     443\n",
      "профильное образование                    436\n",
      "получение высшего образования             426\n",
      "заняться образованием                     412\n",
      "Name: purpose, dtype: int64\n"
     ]
    }
   ],
   "source": [
    "print(df['education'].value_counts())\n",
    "print(df['purpose'].value_counts())"
   ]
  },
  {
   "cell_type": "markdown",
   "metadata": {},
   "source": [
    "В столбцах *education* и *purpose* встречаются одинаковые значения. Так, в столбце *education* значение указывается в разных регистрах, поэтому для 5 значений (\"начальное\", \"среднее\", \"неоконченное высшее\", \"высшее\", \"ученая степень\") используется 15 способов написания. В столбце *purpose* одинаковые по смыслу сведения внесены разными синонимичными формулировками.\n"
   ]
  },
  {
   "cell_type": "markdown",
   "metadata": {},
   "source": [
    "Обработаем дубликаты в столбце *education* для чего приведём все значения к нижнему регистру, а затем выведем новое количество уникальных значений:"
   ]
  },
  {
   "cell_type": "code",
   "execution_count": 23,
   "metadata": {},
   "outputs": [
    {
     "data": {
      "text/plain": [
       "среднее                15233\n",
       "высшее                  5260\n",
       "неоконченное высшее      744\n",
       "начальное                282\n",
       "ученая степень             6\n",
       "Name: education, dtype: int64"
      ]
     },
     "metadata": {},
     "output_type": "display_data"
    }
   ],
   "source": [
    "df['education'] = df['education'].str.lower() # Для приведения всех значений к нижнему регистру\n",
    "                                              # вызовем функцию str.lower()\n",
    "display(df['education'].value_counts())"
   ]
  },
  {
   "cell_type": "markdown",
   "metadata": {},
   "source": [
    "Посчитаем количество дубликатов, т.е. полностью одинаковых строк, с помощью методов `duplicated()` и `sum()`:"
   ]
  },
  {
   "cell_type": "code",
   "execution_count": 24,
   "metadata": {},
   "outputs": [
    {
     "name": "stdout",
     "output_type": "stream",
     "text": [
      "Количество дубликатов в датасете: 71\n"
     ]
    }
   ],
   "source": [
    "print(f'Количество дубликатов в датасете: {df.duplicated().sum()}')"
   ]
  },
  {
   "cell_type": "markdown",
   "metadata": {},
   "source": [
    "Удалим дубликаты с помощью метода `drop_duplicates()` и проверим результат:"
   ]
  },
  {
   "cell_type": "code",
   "execution_count": 25,
   "metadata": {},
   "outputs": [
    {
     "name": "stdout",
     "output_type": "stream",
     "text": [
      "Количество дубликатов в датасете после их удаления: 0\n"
     ]
    }
   ],
   "source": [
    "df = df.drop_duplicates().reset_index(drop=True) # Также сбросим индексы.\n",
    "print(f'Количество дубликатов в датасете после их удаления: {df.duplicated().sum()}')"
   ]
  },
  {
   "cell_type": "markdown",
   "metadata": {},
   "source": [
    "Дубликаты, которые содержались в датасете, были удалены."
   ]
  },
  {
   "cell_type": "markdown",
   "metadata": {},
   "source": [
    "**Вывод**"
   ]
  },
  {
   "cell_type": "markdown",
   "metadata": {},
   "source": [
    "С помощью метода `str.lower()` в столбце *education* все данные были приведены к нижнему регистру, что позволило избавиться от дубликатов в данном столбце."
   ]
  },
  {
   "cell_type": "markdown",
   "metadata": {},
   "source": [
    "### Лемматизация"
   ]
  },
  {
   "cell_type": "markdown",
   "metadata": {},
   "source": [
    "Как указывалось ранее, в столбце *purpose* одинаковые по смыслу сведения внесены разными синонимичными формулировками. Поскольку для проверки основной гипотезы нам необходимо проанализировать взаимосвязь между целью, для которой был предоставлен кредит, и наличием просрочки платежей, необходимо определить категории целей кредитов, которые бы учитывали разнообразие данных по столбцу *purpose*.\n",
    "\n",
    "Для начала определим леммы, т.е. словарные формы слов, встречающихся в столбце *purpose*:"
   ]
  },
  {
   "cell_type": "code",
   "execution_count": 26,
   "metadata": {},
   "outputs": [],
   "source": [
    "purpose_str = ' '.join(df['purpose']) # Конвертируем значения столбца purpose в одну строку\n",
    "lemmas = m.lemmatize(purpose_str) # В переменной lemmas сохраним леммы слов, встречающихся в столбце\n",
    "                                  # purpose, с помощью функции lemmatize."
   ]
  },
  {
   "cell_type": "markdown",
   "metadata": {},
   "source": [
    "С помощью класса *Counter()* модуля *collections* определим частоту использования слов в столбце *purpose*:"
   ]
  },
  {
   "cell_type": "code",
   "execution_count": 27,
   "metadata": {},
   "outputs": [
    {
     "name": "stdout",
     "output_type": "stream",
     "text": [
      "Counter({' ': 55023, 'недвижимость': 6351, 'покупка': 5897, 'жилье': 4460, 'автомобиль': 4306, 'образование': 4013, 'с': 2918, 'операция': 2604, 'свадьба': 2324, 'свой': 2230, 'на': 2222, 'строительство': 1878, 'высокий': 1374, 'получение': 1314, 'коммерческий': 1311, 'для': 1289, 'жилой': 1230, 'сделка': 941, 'дополнительный': 906, 'заниматься': 904, 'подержать': 853, 'проведение': 768, 'сыграть': 765, 'сдача': 651, 'семья': 638, 'собственный': 635, 'со': 627, 'ремонт': 607, 'приобретение': 461, 'профильный': 436, 'подержанный': 111, '\\n': 1})\n"
     ]
    }
   ],
   "source": [
    "print(Counter(lemmas))"
   ]
  },
  {
   "cell_type": "markdown",
   "metadata": {},
   "source": [
    "Проанализировав наиболее частые слова, используемые в данных столбца *purpose*, выделим следующие категории для целей кредитов:\n",
    "* операции с недвижимостью;\n",
    "* автомобиль;\n",
    "* образование;\n",
    "* ремонт."
   ]
  },
  {
   "cell_type": "markdown",
   "metadata": {},
   "source": [
    "Создадим функцию, которая отнесёт каждый кредит, сведения о котором содержаться в датасете, к одной из ранее определённых категори на основании значений столбца *purpose*. Применим эту функцию при создании нового столбца *purpose_category*:"
   ]
  },
  {
   "cell_type": "code",
   "execution_count": 28,
   "metadata": {
    "scrolled": false
   },
   "outputs": [
    {
     "data": {
      "text/html": [
       "<div>\n",
       "<style scoped>\n",
       "    .dataframe tbody tr th:only-of-type {\n",
       "        vertical-align: middle;\n",
       "    }\n",
       "\n",
       "    .dataframe tbody tr th {\n",
       "        vertical-align: top;\n",
       "    }\n",
       "\n",
       "    .dataframe thead th {\n",
       "        text-align: right;\n",
       "    }\n",
       "</style>\n",
       "<table border=\"1\" class=\"dataframe\">\n",
       "  <thead>\n",
       "    <tr style=\"text-align: right;\">\n",
       "      <th></th>\n",
       "      <th>children</th>\n",
       "      <th>days_employed</th>\n",
       "      <th>age</th>\n",
       "      <th>education</th>\n",
       "      <th>education_id</th>\n",
       "      <th>family_status</th>\n",
       "      <th>family_status_id</th>\n",
       "      <th>gender</th>\n",
       "      <th>income_type</th>\n",
       "      <th>debt</th>\n",
       "      <th>total_income</th>\n",
       "      <th>purpose</th>\n",
       "      <th>purpose_category</th>\n",
       "    </tr>\n",
       "  </thead>\n",
       "  <tbody>\n",
       "    <tr>\n",
       "      <td>0</td>\n",
       "      <td>1</td>\n",
       "      <td>8437</td>\n",
       "      <td>42</td>\n",
       "      <td>высшее</td>\n",
       "      <td>0</td>\n",
       "      <td>женат / замужем</td>\n",
       "      <td>0</td>\n",
       "      <td>F</td>\n",
       "      <td>сотрудник</td>\n",
       "      <td>0</td>\n",
       "      <td>253,875.64</td>\n",
       "      <td>покупка жилья</td>\n",
       "      <td>операции с недвижимостью</td>\n",
       "    </tr>\n",
       "    <tr>\n",
       "      <td>1</td>\n",
       "      <td>1</td>\n",
       "      <td>4024</td>\n",
       "      <td>36</td>\n",
       "      <td>среднее</td>\n",
       "      <td>1</td>\n",
       "      <td>женат / замужем</td>\n",
       "      <td>0</td>\n",
       "      <td>F</td>\n",
       "      <td>сотрудник</td>\n",
       "      <td>0</td>\n",
       "      <td>112,080.01</td>\n",
       "      <td>приобретение автомобиля</td>\n",
       "      <td>автомобиль</td>\n",
       "    </tr>\n",
       "    <tr>\n",
       "      <td>2</td>\n",
       "      <td>0</td>\n",
       "      <td>5623</td>\n",
       "      <td>33</td>\n",
       "      <td>среднее</td>\n",
       "      <td>1</td>\n",
       "      <td>женат / замужем</td>\n",
       "      <td>0</td>\n",
       "      <td>M</td>\n",
       "      <td>сотрудник</td>\n",
       "      <td>0</td>\n",
       "      <td>145,885.95</td>\n",
       "      <td>покупка жилья</td>\n",
       "      <td>операции с недвижимостью</td>\n",
       "    </tr>\n",
       "    <tr>\n",
       "      <td>3</td>\n",
       "      <td>3</td>\n",
       "      <td>4124</td>\n",
       "      <td>32</td>\n",
       "      <td>среднее</td>\n",
       "      <td>1</td>\n",
       "      <td>женат / замужем</td>\n",
       "      <td>0</td>\n",
       "      <td>M</td>\n",
       "      <td>сотрудник</td>\n",
       "      <td>0</td>\n",
       "      <td>267,628.55</td>\n",
       "      <td>дополнительное образование</td>\n",
       "      <td>образование</td>\n",
       "    </tr>\n",
       "    <tr>\n",
       "      <td>4</td>\n",
       "      <td>0</td>\n",
       "      <td>340266</td>\n",
       "      <td>53</td>\n",
       "      <td>среднее</td>\n",
       "      <td>1</td>\n",
       "      <td>гражданский брак</td>\n",
       "      <td>1</td>\n",
       "      <td>F</td>\n",
       "      <td>пенсионер</td>\n",
       "      <td>0</td>\n",
       "      <td>158,616.08</td>\n",
       "      <td>сыграть свадьбу</td>\n",
       "      <td>свадьба</td>\n",
       "    </tr>\n",
       "    <tr>\n",
       "      <td>5</td>\n",
       "      <td>0</td>\n",
       "      <td>926</td>\n",
       "      <td>27</td>\n",
       "      <td>высшее</td>\n",
       "      <td>0</td>\n",
       "      <td>гражданский брак</td>\n",
       "      <td>1</td>\n",
       "      <td>M</td>\n",
       "      <td>компаньон</td>\n",
       "      <td>0</td>\n",
       "      <td>255,763.57</td>\n",
       "      <td>покупка жилья</td>\n",
       "      <td>операции с недвижимостью</td>\n",
       "    </tr>\n",
       "    <tr>\n",
       "      <td>6</td>\n",
       "      <td>0</td>\n",
       "      <td>2879</td>\n",
       "      <td>43</td>\n",
       "      <td>высшее</td>\n",
       "      <td>0</td>\n",
       "      <td>женат / замужем</td>\n",
       "      <td>0</td>\n",
       "      <td>F</td>\n",
       "      <td>компаньон</td>\n",
       "      <td>0</td>\n",
       "      <td>240,525.97</td>\n",
       "      <td>операции с жильем</td>\n",
       "      <td>операции с недвижимостью</td>\n",
       "    </tr>\n",
       "    <tr>\n",
       "      <td>7</td>\n",
       "      <td>0</td>\n",
       "      <td>152</td>\n",
       "      <td>50</td>\n",
       "      <td>среднее</td>\n",
       "      <td>1</td>\n",
       "      <td>женат / замужем</td>\n",
       "      <td>0</td>\n",
       "      <td>M</td>\n",
       "      <td>сотрудник</td>\n",
       "      <td>0</td>\n",
       "      <td>135,823.93</td>\n",
       "      <td>образование</td>\n",
       "      <td>образование</td>\n",
       "    </tr>\n",
       "    <tr>\n",
       "      <td>8</td>\n",
       "      <td>2</td>\n",
       "      <td>6929</td>\n",
       "      <td>35</td>\n",
       "      <td>высшее</td>\n",
       "      <td>0</td>\n",
       "      <td>гражданский брак</td>\n",
       "      <td>1</td>\n",
       "      <td>F</td>\n",
       "      <td>сотрудник</td>\n",
       "      <td>0</td>\n",
       "      <td>95,856.83</td>\n",
       "      <td>на проведение свадьбы</td>\n",
       "      <td>свадьба</td>\n",
       "    </tr>\n",
       "    <tr>\n",
       "      <td>9</td>\n",
       "      <td>0</td>\n",
       "      <td>2188</td>\n",
       "      <td>41</td>\n",
       "      <td>среднее</td>\n",
       "      <td>1</td>\n",
       "      <td>женат / замужем</td>\n",
       "      <td>0</td>\n",
       "      <td>M</td>\n",
       "      <td>сотрудник</td>\n",
       "      <td>0</td>\n",
       "      <td>144,425.94</td>\n",
       "      <td>покупка жилья для семьи</td>\n",
       "      <td>операции с недвижимостью</td>\n",
       "    </tr>\n",
       "  </tbody>\n",
       "</table>\n",
       "</div>"
      ],
      "text/plain": [
       "   children  days_employed  age education  education_id     family_status  \\\n",
       "0         1           8437   42    высшее             0   женат / замужем   \n",
       "1         1           4024   36   среднее             1   женат / замужем   \n",
       "2         0           5623   33   среднее             1   женат / замужем   \n",
       "3         3           4124   32   среднее             1   женат / замужем   \n",
       "4         0         340266   53   среднее             1  гражданский брак   \n",
       "5         0            926   27    высшее             0  гражданский брак   \n",
       "6         0           2879   43    высшее             0   женат / замужем   \n",
       "7         0            152   50   среднее             1   женат / замужем   \n",
       "8         2           6929   35    высшее             0  гражданский брак   \n",
       "9         0           2188   41   среднее             1   женат / замужем   \n",
       "\n",
       "   family_status_id gender income_type  debt  total_income  \\\n",
       "0                 0      F   сотрудник     0    253,875.64   \n",
       "1                 0      F   сотрудник     0    112,080.01   \n",
       "2                 0      M   сотрудник     0    145,885.95   \n",
       "3                 0      M   сотрудник     0    267,628.55   \n",
       "4                 1      F   пенсионер     0    158,616.08   \n",
       "5                 1      M   компаньон     0    255,763.57   \n",
       "6                 0      F   компаньон     0    240,525.97   \n",
       "7                 0      M   сотрудник     0    135,823.93   \n",
       "8                 1      F   сотрудник     0     95,856.83   \n",
       "9                 0      M   сотрудник     0    144,425.94   \n",
       "\n",
       "                      purpose          purpose_category  \n",
       "0               покупка жилья  операции с недвижимостью  \n",
       "1     приобретение автомобиля                автомобиль  \n",
       "2               покупка жилья  операции с недвижимостью  \n",
       "3  дополнительное образование               образование  \n",
       "4             сыграть свадьбу                   свадьба  \n",
       "5               покупка жилья  операции с недвижимостью  \n",
       "6           операции с жильем  операции с недвижимостью  \n",
       "7                 образование               образование  \n",
       "8       на проведение свадьбы                   свадьба  \n",
       "9     покупка жилья для семьи  операции с недвижимостью  "
      ]
     },
     "metadata": {},
     "output_type": "display_data"
    }
   ],
   "source": [
    "# Функция loan_purpose_category будет принимать в качестве аргумента цель кредита, которая содержится \n",
    "# в столбце purpose и в результате возвращать одну из ранее определённых категорий целей кредитов. \n",
    "\n",
    "def loan_purpose_category(purpose):\n",
    "    if 'жилье' in purpose or 'недвижимость' in purpose or 'строительство' in purpose:\n",
    "        return 'операции с недвижимостью'\n",
    "    elif 'автомобиль' in purpose:\n",
    "        return 'автомобиль'\n",
    "    elif 'образование' in purpose:\n",
    "        return 'образование'\n",
    "    elif 'свадьба' in purpose:\n",
    "        return 'свадьба'\n",
    "    else:\n",
    "        return 'прочее'\n",
    "    \n",
    "# Создадим новый столбец в датафрейме df: определим леммы слов в столбце purpose с помощью функции\n",
    "# apply(), а затем также с помощью функции apply() вызовем функцию loan_purpose_category, которая исходя\n",
    "# из лемм в каждой строке отнесёт кредит к определённым категориям целей кредитов.\n",
    "# Результат выведем на экран в виде первых 10 строк с помощью функции head().\n",
    "    \n",
    "df['purpose_category'] = df['purpose'].apply(m.lemmatize).apply(loan_purpose_category)\n",
    "display(df.head(10))"
   ]
  },
  {
   "cell_type": "markdown",
   "metadata": {},
   "source": [
    "Как видим, в датафрейме появился новый столбец *purpose_category*, в котором содержится информации о категории целей кредитов.\n",
    "\n",
    "Построим диаграмму, чтобы увидеть какие категории целей кредитов чаще всего встречаются в датафрейме: применим последовательно функции `value_counts()` и `plot.bar()`"
   ]
  },
  {
   "cell_type": "code",
   "execution_count": 29,
   "metadata": {
    "scrolled": false
   },
   "outputs": [
    {
     "data": {
      "image/png": "[encoded data removed]",
      "text/plain": [
       "<Figure size 1080x576 with 1 Axes>"
      ]
     },
     "metadata": {},
     "output_type": "display_data"
    }
   ],
   "source": [
    "df['purpose_category'].value_counts().plot.bar();"
   ]
  },
  {
   "cell_type": "markdown",
   "metadata": {},
   "source": [
    "Как видим, чаще всего кредиты предоставлялись для операций с недвижимостью."
   ]
  },
  {
   "cell_type": "markdown",
   "metadata": {},
   "source": [
    "**Вывод**"
   ]
  },
  {
   "cell_type": "markdown",
   "metadata": {},
   "source": [
    "Лемматизация данных о целях, на которые были предоставлены кредиты, и помлдующий анализ полученных лемм и частоты их встречи позволили определить категории целей кредитов. В данном случае категоризация целей кредитов была необходима, поскольку для одних и тех же смысловых значений в столбце *purpose* использовались разные формулировки. Категоризированные данные о целях кредитов упростят работы по проверке основной гипотезы исследования."
   ]
  },
  {
   "cell_type": "markdown",
   "metadata": {},
   "source": [
    "### Категоризация данных"
   ]
  },
  {
   "cell_type": "markdown",
   "metadata": {},
   "source": [
    "Осуществим категоризацию данных, содержащихся в датасете, что упростит последующий анализ и проверку предположений. Выполним категоризацию следующих данных: о наличии и количестве детей, возрасту заёмщиков, ежемесячному доходу заёмщиков и их семейному статусу."
   ]
  },
  {
   "cell_type": "markdown",
   "metadata": {},
   "source": [
    "#### Категоризация данных о наличии и количестве детей"
   ]
  },
  {
   "cell_type": "markdown",
   "metadata": {},
   "source": [
    "Для начала определим какие уникальные значения содержаться в столбце *children* датафрейма:"
   ]
  },
  {
   "cell_type": "code",
   "execution_count": 30,
   "metadata": {},
   "outputs": [
    {
     "data": {
      "text/plain": [
       "array([ 1,  0,  3,  2, -1,  4, 20,  5])"
      ]
     },
     "execution_count": 30,
     "metadata": {},
     "output_type": "execute_result"
    }
   ],
   "source": [
    "df['children'].unique()"
   ]
  },
  {
   "cell_type": "markdown",
   "metadata": {},
   "source": [
    "Таким образом, у заёмщиков имеется от 0 до 5 детей. Также встречаются и анамальные значения: - 1 и 20. Обработаем их до перехода к категоризации."
   ]
  },
  {
   "cell_type": "markdown",
   "metadata": {},
   "source": [
    "Приведём отрицательные значения к положительным с помощью функции `abs`, предположив, что отрицательные значения появились в результате ошибки и на самом деле имеются в виду наличие одного ребёнка:"
   ]
  },
  {
   "cell_type": "code",
   "execution_count": 31,
   "metadata": {
    "scrolled": true
   },
   "outputs": [
    {
     "data": {
      "text/plain": [
       "array([ 1,  0,  3,  2,  4, 20,  5])"
      ]
     },
     "execution_count": 31,
     "metadata": {},
     "output_type": "execute_result"
    }
   ],
   "source": [
    "df['children'] = df['children'].apply(abs)\n",
    "df['children'].unique()"
   ]
  },
  {
   "cell_type": "markdown",
   "metadata": {},
   "source": [
    "В результате, значений *-1* в столбце children не осталось."
   ]
  },
  {
   "cell_type": "markdown",
   "metadata": {},
   "source": [
    "Теперь обработаем значения *20*. Для начала посчитаем сколько раз это значение встречается. Возможно, если это единичный случай, то значения и не являются аномальными:"
   ]
  },
  {
   "cell_type": "code",
   "execution_count": 32,
   "metadata": {},
   "outputs": [
    {
     "data": {
      "text/plain": [
       "0     14091\n",
       "1      4855\n",
       "2      2052\n",
       "3       330\n",
       "20       76\n",
       "4        41\n",
       "5         9\n",
       "Name: children, dtype: int64"
      ]
     },
     "execution_count": 32,
     "metadata": {},
     "output_type": "execute_result"
    }
   ],
   "source": [
    "df['children'].value_counts()"
   ]
  },
  {
   "cell_type": "markdown",
   "metadata": {},
   "source": [
    "Поскольку данные о 20 детях содержаться в отношении 76 заёмщиков, что маловероятно, предположим, что такое значение появилось в результате ошибок при внесении данных: на самом деле должно было быть указано значение *2*, а *0* появился ошибочно.\n",
    "Заменим данные в ячейках столбаца *children* со значением *20* на значение *2* с помощью функции `where()` библиотеки numpy:"
   ]
  },
  {
   "cell_type": "code",
   "execution_count": 33,
   "metadata": {},
   "outputs": [
    {
     "data": {
      "text/plain": [
       "array([1, 0, 3, 2, 4, 5])"
      ]
     },
     "execution_count": 33,
     "metadata": {},
     "output_type": "execute_result"
    }
   ],
   "source": [
    "df['children'] = np.where(df['children'] == 20, 2, df['children'])\n",
    "df['children'].unique()"
   ]
  },
  {
   "cell_type": "markdown",
   "metadata": {},
   "source": [
    "Таким образом, данных со значением *20* в столбце *children* не осталось."
   ]
  },
  {
   "cell_type": "markdown",
   "metadata": {},
   "source": [
    "Выполним категоризацию данных о наличии и количестве детей, для чего напишем функцию, которая для заёмщиков без детей будет возвращать *0*, а для заёмщиков с детьми - *1*:"
   ]
  },
  {
   "cell_type": "code",
   "execution_count": 34,
   "metadata": {},
   "outputs": [],
   "source": [
    "def having_children(i): # Аргументом функции будет выступать конкретное значение о наличии детей.\n",
    "    if i == 0:          # Если значение будет равно 0,\n",
    "        return 0        # то функция будет возвращать 0 - категория заёмщиков без детей.\n",
    "    elif i >= 1:        # Но если значение будет от 1 и больше,\n",
    "        return 1        # то функция вернёт 1 - категория заёмщиков с детьми."
   ]
  },
  {
   "cell_type": "markdown",
   "metadata": {},
   "source": [
    "Создадаим столбец *children_id*, в котором будут хранится данные о категориях заёмщиков применительно к наличию у них детей, где *0* - дети отсутствуют, *1* - дети имеются:"
   ]
  },
  {
   "cell_type": "code",
   "execution_count": 35,
   "metadata": {},
   "outputs": [],
   "source": [
    "df['children_id'] = df['children'].apply(having_children) # Для создание столбца применим функцию \n",
    "                                                          # having_children к столбцу children."
   ]
  },
  {
   "cell_type": "markdown",
   "metadata": {},
   "source": [
    "Теперь создадим переменную *children_status_dict*, в которой сохраним данные столбцов *children_id* и *children* и удалим дубликаты."
   ]
  },
  {
   "cell_type": "code",
   "execution_count": 36,
   "metadata": {},
   "outputs": [
    {
     "data": {
      "text/html": [
       "<div>\n",
       "<style scoped>\n",
       "    .dataframe tbody tr th:only-of-type {\n",
       "        vertical-align: middle;\n",
       "    }\n",
       "\n",
       "    .dataframe tbody tr th {\n",
       "        vertical-align: top;\n",
       "    }\n",
       "\n",
       "    .dataframe thead th {\n",
       "        text-align: right;\n",
       "    }\n",
       "</style>\n",
       "<table border=\"1\" class=\"dataframe\">\n",
       "  <thead>\n",
       "    <tr style=\"text-align: right;\">\n",
       "      <th></th>\n",
       "      <th>children_id</th>\n",
       "      <th>children</th>\n",
       "    </tr>\n",
       "  </thead>\n",
       "  <tbody>\n",
       "    <tr>\n",
       "      <td>0</td>\n",
       "      <td>1</td>\n",
       "      <td>1</td>\n",
       "    </tr>\n",
       "    <tr>\n",
       "      <td>1</td>\n",
       "      <td>0</td>\n",
       "      <td>0</td>\n",
       "    </tr>\n",
       "    <tr>\n",
       "      <td>2</td>\n",
       "      <td>1</td>\n",
       "      <td>3</td>\n",
       "    </tr>\n",
       "    <tr>\n",
       "      <td>3</td>\n",
       "      <td>1</td>\n",
       "      <td>2</td>\n",
       "    </tr>\n",
       "    <tr>\n",
       "      <td>4</td>\n",
       "      <td>1</td>\n",
       "      <td>4</td>\n",
       "    </tr>\n",
       "    <tr>\n",
       "      <td>5</td>\n",
       "      <td>1</td>\n",
       "      <td>5</td>\n",
       "    </tr>\n",
       "  </tbody>\n",
       "</table>\n",
       "</div>"
      ],
      "text/plain": [
       "   children_id  children\n",
       "0            1         1\n",
       "1            0         0\n",
       "2            1         3\n",
       "3            1         2\n",
       "4            1         4\n",
       "5            1         5"
      ]
     },
     "execution_count": 36,
     "metadata": {},
     "output_type": "execute_result"
    }
   ],
   "source": [
    "children_status_dict = df[['children_id', 'children']]\n",
    "children_status_dict = children_status_dict.drop_duplicates().reset_index(drop=True)\n",
    "children_status_dict"
   ]
  },
  {
   "cell_type": "markdown",
   "metadata": {},
   "source": [
    "Как видим, функция having_children сработала корректно."
   ]
  },
  {
   "cell_type": "markdown",
   "metadata": {},
   "source": [
    "**Вывод**"
   ]
  },
  {
   "cell_type": "markdown",
   "metadata": {},
   "source": [
    "Теперь в датафрейме имеется столбец *children_id*, содержащий категории для заёмщиков без детей (*0*) и с детьми (*1*). \"Словарём\" для данной категоризации выступает переменная *having_children_dict*."
   ]
  },
  {
   "cell_type": "markdown",
   "metadata": {},
   "source": [
    "#### Категоризация данных о возрасте"
   ]
  },
  {
   "cell_type": "markdown",
   "metadata": {},
   "source": [
    "Выполним категоризацию данных о возрасте заёмщиков. Cохраним в переменной *age_groups* наименования для категорий возрастных групп: молодой возраст, средний возраст, пожилой возраст, старческий возраст.\n",
    "Затем создадим новый столбец *age_id*, в котором будет указана возрастная группа заёмщика. Для определения к какой возрастной группе относится каждый заёмщик воспользуемся функцией `pd.qcut` с параметром `q=4`, которая разобьёт данные о возрасте заёмщика на квартили, т.е. на 4 части, содержащие примерно одинаковое количество значений. Также укажем параметр `labels`, которому придадим значения из переменной *age_groups*:"
   ]
  },
  {
   "cell_type": "code",
   "execution_count": 37,
   "metadata": {},
   "outputs": [
    {
     "data": {
      "text/plain": [
       "молодой возраст       5467\n",
       "пожилой возраст       5448\n",
       "средний возраст       5284\n",
       "старческий возраст    5255\n",
       "Name: age_id, dtype: int64"
      ]
     },
     "execution_count": 37,
     "metadata": {},
     "output_type": "execute_result"
    }
   ],
   "source": [
    "# Сохраняем в переменной age_groups наименования для возрастных категорий:\n",
    "age_groups = ['молодой возраст', 'средний возраст', 'пожилой возраст', 'старческий возраст']\n",
    "\n",
    "# Создадти новый столбец в датафреёме *age_id*, в котором будет указана возрастная группа заёмщика.\n",
    "# С помощью параметра labels=age_groups определим наименования для каждого квартиля: первому квартили будет \n",
    "# соответствовать категория \"молодой возраст\", второму квартилю - \"средний возраст\", третьему квартилю - \"пожилой возраст\",\n",
    "# четвертому квартилю - \"старческий возраст\".\n",
    "df['age_id'] = pd.qcut(df['age'], \n",
    "                                q=4,                      \n",
    "                               labels = age_groups)\n",
    "\n",
    "# Посчитаем сколько раз встречается каждая возрастная категория\n",
    "df['age_id'].value_counts()"
   ]
  },
  {
   "cell_type": "markdown",
   "metadata": {},
   "source": [
    "Как видим, распределение заёмщиков по возрастным категориям примерно одинаковое."
   ]
  },
  {
   "cell_type": "markdown",
   "metadata": {},
   "source": [
    "Определим в качестве \"словаря\" категоризации по возрасту переменную *age_id_dict*, выведем его на экран:"
   ]
  },
  {
   "cell_type": "code",
   "execution_count": 38,
   "metadata": {},
   "outputs": [
    {
     "data": {
      "text/html": [
       "<div>\n",
       "<style scoped>\n",
       "    .dataframe tbody tr th:only-of-type {\n",
       "        vertical-align: middle;\n",
       "    }\n",
       "\n",
       "    .dataframe tbody tr th {\n",
       "        vertical-align: top;\n",
       "    }\n",
       "\n",
       "    .dataframe thead th {\n",
       "        text-align: right;\n",
       "    }\n",
       "</style>\n",
       "<table border=\"1\" class=\"dataframe\">\n",
       "  <thead>\n",
       "    <tr style=\"text-align: right;\">\n",
       "      <th></th>\n",
       "      <th>age_id</th>\n",
       "      <th>age</th>\n",
       "    </tr>\n",
       "  </thead>\n",
       "  <tbody>\n",
       "    <tr>\n",
       "      <td>0</td>\n",
       "      <td>средний возраст</td>\n",
       "      <td>42</td>\n",
       "    </tr>\n",
       "    <tr>\n",
       "      <td>1</td>\n",
       "      <td>средний возраст</td>\n",
       "      <td>36</td>\n",
       "    </tr>\n",
       "    <tr>\n",
       "      <td>2</td>\n",
       "      <td>молодой возраст</td>\n",
       "      <td>33</td>\n",
       "    </tr>\n",
       "    <tr>\n",
       "      <td>3</td>\n",
       "      <td>молодой возраст</td>\n",
       "      <td>32</td>\n",
       "    </tr>\n",
       "    <tr>\n",
       "      <td>4</td>\n",
       "      <td>пожилой возраст</td>\n",
       "      <td>53</td>\n",
       "    </tr>\n",
       "    <tr>\n",
       "      <td>5</td>\n",
       "      <td>молодой возраст</td>\n",
       "      <td>27</td>\n",
       "    </tr>\n",
       "    <tr>\n",
       "      <td>6</td>\n",
       "      <td>пожилой возраст</td>\n",
       "      <td>43</td>\n",
       "    </tr>\n",
       "    <tr>\n",
       "      <td>7</td>\n",
       "      <td>пожилой возраст</td>\n",
       "      <td>50</td>\n",
       "    </tr>\n",
       "    <tr>\n",
       "      <td>8</td>\n",
       "      <td>средний возраст</td>\n",
       "      <td>35</td>\n",
       "    </tr>\n",
       "    <tr>\n",
       "      <td>9</td>\n",
       "      <td>средний возраст</td>\n",
       "      <td>41</td>\n",
       "    </tr>\n",
       "  </tbody>\n",
       "</table>\n",
       "</div>"
      ],
      "text/plain": [
       "            age_id  age\n",
       "0  средний возраст   42\n",
       "1  средний возраст   36\n",
       "2  молодой возраст   33\n",
       "3  молодой возраст   32\n",
       "4  пожилой возраст   53\n",
       "5  молодой возраст   27\n",
       "6  пожилой возраст   43\n",
       "7  пожилой возраст   50\n",
       "8  средний возраст   35\n",
       "9  средний возраст   41"
      ]
     },
     "execution_count": 38,
     "metadata": {},
     "output_type": "execute_result"
    }
   ],
   "source": [
    "age_id_dict = df[['age_id', 'age']]\n",
    "age_id_dict = age_id_dict.drop_duplicates().reset_index(drop=True)\n",
    "age_id_dict.head(10)"
   ]
  },
  {
   "cell_type": "markdown",
   "metadata": {},
   "source": [
    "В результате функция определила к какой из четырёх возрастных категорий относится заёмщиков исходя их данных о его возрасте."
   ]
  },
  {
   "cell_type": "markdown",
   "metadata": {},
   "source": [
    "Построим диаграмму, чтобы увидеть (*еще раз*) распределение заёмщиков по возрастным категориям:"
   ]
  },
  {
   "cell_type": "code",
   "execution_count": 40,
   "metadata": {},
   "outputs": [
    {
     "data": {
      "image/png": "[encoded data removed]",
      "text/plain": [
       "<Figure size 1080x576 with 1 Axes>"
      ]
     },
     "metadata": {},
     "output_type": "display_data"
    }
   ],
   "source": [
    "df['age_id'].value_counts().plot.bar();"
   ]
  },
  {
   "cell_type": "markdown",
   "metadata": {},
   "source": [
    "**Вывод**"
   ]
  },
  {
   "cell_type": "markdown",
   "metadata": {},
   "source": [
    "Добавили в датафреём столбец *age_id*, в котором сохранили категории возрастных групп заёмщиков (молодые, средний, пожилой, старческий)."
   ]
  },
  {
   "cell_type": "markdown",
   "metadata": {},
   "source": [
    "#### Категоризация данных о ежемесячном доходе"
   ]
  },
  {
   "cell_type": "markdown",
   "metadata": {},
   "source": [
    "Выполним категоризацию данных о ежемесячном доходе заёмщиков. Cохраним в переменной *income_category* наименования для категорий ежемесячного дохода: низкий доход, средний доход, высокий доход и очень высокий доход.\n",
    "Затем создадим новый столбец *total_income_id*, в котором будет указана категория ежемесячного дохода. Для определения к какой категории относится доход каждого из заёмщтка воспользуемся функцией `pd.qcut` с параметром `q=4`, которая разобьёт данные о ежемесячном возрасте на квартили, т.е. на 4 части, содержащие примерно одинаковое количество значений. Также укажем параметр `labels`, которому придадим значения из переменной *income_category*:"
   ]
  },
  {
   "cell_type": "code",
   "execution_count": 41,
   "metadata": {},
   "outputs": [
    {
     "data": {
      "text/plain": [
       "средний доход          5629\n",
       "очень высокий доход    5364\n",
       "низкий доход           5364\n",
       "высокий доход          5097\n",
       "Name: total_income_id, dtype: int64"
      ]
     },
     "execution_count": 41,
     "metadata": {},
     "output_type": "execute_result"
    }
   ],
   "source": [
    "# Сохраняем в переменной income_category наименования для категорий доходов заёмщиков:\n",
    "income_category = ['низкий доход', 'средний доход', 'высокий доход', 'очень высокий доход']\n",
    "\n",
    "# Создадти новый столбец в датафреёме *total_income_id*, в котором будет указана категория дохода заёмщика.\n",
    "# С помощью параметра labels=income_category определим наименования для каждого квартиля: первому квартили будет \n",
    "# соответствовать категория \"низкий доход\", второму квартилю - \"средний доход\", третьему квартилю - \"высокий доход\",\n",
    "# четвертому квартилю - \"очень высокий доход\".\n",
    "df['total_income_id'] = pd.qcut(df['total_income'], \n",
    "                                q=4,                      \n",
    "                               labels = income_category)\n",
    "\n",
    "# Посчитаем сколько раз встречается каждая возрастная категория\n",
    "df['total_income_id'].value_counts()"
   ]
  },
  {
   "cell_type": "markdown",
   "metadata": {},
   "source": [
    "C помощью функции `pd.qcut()` разбили заёмщиков на четыре примерно равные категории по уровню их дохода."
   ]
  },
  {
   "cell_type": "markdown",
   "metadata": {},
   "source": [
    "Определим в качестве \"словаря\" категоризации по ежемесячному доходу переменную *total_income_dict*, выведем 10 первых его значений на экран:"
   ]
  },
  {
   "cell_type": "code",
   "execution_count": 42,
   "metadata": {},
   "outputs": [
    {
     "data": {
      "text/html": [
       "<div>\n",
       "<style scoped>\n",
       "    .dataframe tbody tr th:only-of-type {\n",
       "        vertical-align: middle;\n",
       "    }\n",
       "\n",
       "    .dataframe tbody tr th {\n",
       "        vertical-align: top;\n",
       "    }\n",
       "\n",
       "    .dataframe thead th {\n",
       "        text-align: right;\n",
       "    }\n",
       "</style>\n",
       "<table border=\"1\" class=\"dataframe\">\n",
       "  <thead>\n",
       "    <tr style=\"text-align: right;\">\n",
       "      <th></th>\n",
       "      <th>total_income</th>\n",
       "      <th>total_income_id</th>\n",
       "    </tr>\n",
       "  </thead>\n",
       "  <tbody>\n",
       "    <tr>\n",
       "      <td>0</td>\n",
       "      <td>253,875.64</td>\n",
       "      <td>очень высокий доход</td>\n",
       "    </tr>\n",
       "    <tr>\n",
       "      <td>1</td>\n",
       "      <td>112,080.01</td>\n",
       "      <td>средний доход</td>\n",
       "    </tr>\n",
       "    <tr>\n",
       "      <td>2</td>\n",
       "      <td>145,885.95</td>\n",
       "      <td>высокий доход</td>\n",
       "    </tr>\n",
       "    <tr>\n",
       "      <td>3</td>\n",
       "      <td>267,628.55</td>\n",
       "      <td>очень высокий доход</td>\n",
       "    </tr>\n",
       "    <tr>\n",
       "      <td>4</td>\n",
       "      <td>158,616.08</td>\n",
       "      <td>высокий доход</td>\n",
       "    </tr>\n",
       "    <tr>\n",
       "      <td>5</td>\n",
       "      <td>255,763.57</td>\n",
       "      <td>очень высокий доход</td>\n",
       "    </tr>\n",
       "    <tr>\n",
       "      <td>6</td>\n",
       "      <td>240,525.97</td>\n",
       "      <td>очень высокий доход</td>\n",
       "    </tr>\n",
       "    <tr>\n",
       "      <td>7</td>\n",
       "      <td>135,823.93</td>\n",
       "      <td>средний доход</td>\n",
       "    </tr>\n",
       "    <tr>\n",
       "      <td>8</td>\n",
       "      <td>95,856.83</td>\n",
       "      <td>низкий доход</td>\n",
       "    </tr>\n",
       "    <tr>\n",
       "      <td>9</td>\n",
       "      <td>144,425.94</td>\n",
       "      <td>высокий доход</td>\n",
       "    </tr>\n",
       "  </tbody>\n",
       "</table>\n",
       "</div>"
      ],
      "text/plain": [
       "   total_income      total_income_id\n",
       "0    253,875.64  очень высокий доход\n",
       "1    112,080.01        средний доход\n",
       "2    145,885.95        высокий доход\n",
       "3    267,628.55  очень высокий доход\n",
       "4    158,616.08        высокий доход\n",
       "5    255,763.57  очень высокий доход\n",
       "6    240,525.97  очень высокий доход\n",
       "7    135,823.93        средний доход\n",
       "8     95,856.83         низкий доход\n",
       "9    144,425.94        высокий доход"
      ]
     },
     "execution_count": 42,
     "metadata": {},
     "output_type": "execute_result"
    }
   ],
   "source": [
    "total_income_dict = df[['total_income', 'total_income_id']]\n",
    "total_income_dict = total_income_dict.drop_duplicates().reset_index(drop=True)\n",
    "total_income_dict.head(10)"
   ]
  },
  {
   "cell_type": "markdown",
   "metadata": {},
   "source": [
    "Функция сработала корректно, что позволило определить к какой из категорий относится заёмщик."
   ]
  },
  {
   "cell_type": "markdown",
   "metadata": {},
   "source": [
    "**Вывод**"
   ]
  },
  {
   "cell_type": "markdown",
   "metadata": {},
   "source": [
    "Добавили в датафреём столбец *total_income_id*, в котором сохранили категории заёмщиков исходя из ежемесячного дохода (низкий доход, средний доход, высокий доход и очень высокий доход)."
   ]
  },
  {
   "cell_type": "markdown",
   "metadata": {},
   "source": [
    "#### Категоризация данных о семейном статусе"
   ]
  },
  {
   "cell_type": "markdown",
   "metadata": {},
   "source": [
    "Определять категории семейного статуса нам не потрубется, т.к. в датафрейме уже имеется столбец *family_status_id*, содержащие индексы для каждого семейного статуса в столбце *family_status*. \n",
    "Поэтому создадим словарь, чтобы понять какому значению *family status* соответствует *family_status_id*: "
   ]
  },
  {
   "cell_type": "code",
   "execution_count": 43,
   "metadata": {},
   "outputs": [
    {
     "data": {
      "text/html": [
       "<div>\n",
       "<style scoped>\n",
       "    .dataframe tbody tr th:only-of-type {\n",
       "        vertical-align: middle;\n",
       "    }\n",
       "\n",
       "    .dataframe tbody tr th {\n",
       "        vertical-align: top;\n",
       "    }\n",
       "\n",
       "    .dataframe thead th {\n",
       "        text-align: right;\n",
       "    }\n",
       "</style>\n",
       "<table border=\"1\" class=\"dataframe\">\n",
       "  <thead>\n",
       "    <tr style=\"text-align: right;\">\n",
       "      <th></th>\n",
       "      <th>family_status</th>\n",
       "      <th>family_status_id</th>\n",
       "    </tr>\n",
       "  </thead>\n",
       "  <tbody>\n",
       "    <tr>\n",
       "      <td>0</td>\n",
       "      <td>женат / замужем</td>\n",
       "      <td>0</td>\n",
       "    </tr>\n",
       "    <tr>\n",
       "      <td>1</td>\n",
       "      <td>гражданский брак</td>\n",
       "      <td>1</td>\n",
       "    </tr>\n",
       "    <tr>\n",
       "      <td>2</td>\n",
       "      <td>вдовец / вдова</td>\n",
       "      <td>2</td>\n",
       "    </tr>\n",
       "    <tr>\n",
       "      <td>3</td>\n",
       "      <td>в разводе</td>\n",
       "      <td>3</td>\n",
       "    </tr>\n",
       "    <tr>\n",
       "      <td>4</td>\n",
       "      <td>Не женат / не замужем</td>\n",
       "      <td>4</td>\n",
       "    </tr>\n",
       "  </tbody>\n",
       "</table>\n",
       "</div>"
      ],
      "text/plain": [
       "           family_status  family_status_id\n",
       "0        женат / замужем                 0\n",
       "1       гражданский брак                 1\n",
       "2         вдовец / вдова                 2\n",
       "3              в разводе                 3\n",
       "4  Не женат / не замужем                 4"
      ]
     },
     "execution_count": 43,
     "metadata": {},
     "output_type": "execute_result"
    }
   ],
   "source": [
    "family_status_dict = df[['family_status', 'family_status_id']]\n",
    "family_status_dict = family_status_dict.drop_duplicates().reset_index(drop=True)\n",
    "family_status_dict"
   ]
  },
  {
   "cell_type": "markdown",
   "metadata": {},
   "source": [
    "**Вывод**"
   ]
  },
  {
   "cell_type": "markdown",
   "metadata": {},
   "source": [
    "Провери категоризацию данных по наличию детей, возрасту заёмщиков, ежемесячному доходу заёмщиков и их семейному статусу. При этом для данных о налчии детей определили для заёмщиков без детей значение, а для заёмщиков с детьми - *1*. Выделили категории возрастных групп заёмщиков (*молодой, средний, пожилой, старческий*). Также категоризировали данные о ежемесячном доходе заёмщиков.\n",
    "Для данных о семейном статусе создали \"словарь\" значений и соответствующего id.\n",
    "Проделенная работа по категоризации данных упростит работу над основными вопросами исследования."
   ]
  },
  {
   "cell_type": "markdown",
   "metadata": {},
   "source": [
    "## Шаг 3. Ответьте на вопросы"
   ]
  },
  {
   "cell_type": "markdown",
   "metadata": {},
   "source": [
    "- Есть ли зависимость между наличием детей и возвратом кредита в срок?"
   ]
  },
  {
   "cell_type": "markdown",
   "metadata": {},
   "source": [
    "Для определения взаимосвязи разобьём заёмщиков на четыре категории:\n",
    "* заёмщики с детьми и просрочкой возврата кредита - **1**;\n",
    "* заёмщики с детьми без просрочки возврата кредита - **2**;\n",
    "* заёмщики без детей с просрочкой возврата кредита - **3**;\n",
    "* заёмщики без детей и без просрочки возврата кредита - **4**.\n",
    "\n",
    "Напишем функцию *children_debt*, которая будет определять к какой из указанны четырёх категорий относится заёмщик:"
   ]
  },
  {
   "cell_type": "code",
   "execution_count": 44,
   "metadata": {},
   "outputs": [],
   "source": [
    "# Аругментом функции будет строка датасета, значения которой будут влиять на то к какой категории будет отнесён\n",
    "# заёмщик. В качестве переменных children_id и debt будут выступать значения из одноимённых столбцов.\n",
    "# При этом в столбце children_id 0 - заёмщики без детей, 1 - с детьми, а в столбце debt 0 - просрочка по кредиту\n",
    "# отсутствовала, 1 - просрока по кредиту была.\n",
    "# В теле функции с помощью условных конструкций определим какую категорию заёмщика будет возвращать функция. \n",
    "\n",
    "def children_debt(row):\n",
    "    children_id = row['children_id']\n",
    "    debt = row['debt']\n",
    "    if (children_id == 1) & (debt == 1):\n",
    "        return 1\n",
    "    elif (children_id == 1) & (debt == 0):\n",
    "        return 2\n",
    "    elif (children_id == 0) & (debt == 1):\n",
    "        return 3\n",
    "    elif (children_id == 0) & (debt == 0):\n",
    "        return 4"
   ]
  },
  {
   "cell_type": "markdown",
   "metadata": {},
   "source": [
    "Создадим столбец *childs_debt_ratio* с категориями по отношению между наличием у заёмщика детей и просрочек по кредиту:"
   ]
  },
  {
   "cell_type": "code",
   "execution_count": 45,
   "metadata": {},
   "outputs": [
    {
     "data": {
      "text/html": [
       "<div>\n",
       "<style scoped>\n",
       "    .dataframe tbody tr th:only-of-type {\n",
       "        vertical-align: middle;\n",
       "    }\n",
       "\n",
       "    .dataframe tbody tr th {\n",
       "        vertical-align: top;\n",
       "    }\n",
       "\n",
       "    .dataframe thead th {\n",
       "        text-align: right;\n",
       "    }\n",
       "</style>\n",
       "<table border=\"1\" class=\"dataframe\">\n",
       "  <thead>\n",
       "    <tr style=\"text-align: right;\">\n",
       "      <th></th>\n",
       "      <th>debt</th>\n",
       "      <th>children_id</th>\n",
       "      <th>childs_debt_ratio</th>\n",
       "    </tr>\n",
       "  </thead>\n",
       "  <tbody>\n",
       "    <tr>\n",
       "      <td>0</td>\n",
       "      <td>0</td>\n",
       "      <td>1</td>\n",
       "      <td>2</td>\n",
       "    </tr>\n",
       "    <tr>\n",
       "      <td>1</td>\n",
       "      <td>0</td>\n",
       "      <td>1</td>\n",
       "      <td>2</td>\n",
       "    </tr>\n",
       "    <tr>\n",
       "      <td>2</td>\n",
       "      <td>0</td>\n",
       "      <td>0</td>\n",
       "      <td>4</td>\n",
       "    </tr>\n",
       "    <tr>\n",
       "      <td>3</td>\n",
       "      <td>0</td>\n",
       "      <td>1</td>\n",
       "      <td>2</td>\n",
       "    </tr>\n",
       "    <tr>\n",
       "      <td>4</td>\n",
       "      <td>0</td>\n",
       "      <td>0</td>\n",
       "      <td>4</td>\n",
       "    </tr>\n",
       "    <tr>\n",
       "      <td>5</td>\n",
       "      <td>0</td>\n",
       "      <td>0</td>\n",
       "      <td>4</td>\n",
       "    </tr>\n",
       "    <tr>\n",
       "      <td>6</td>\n",
       "      <td>0</td>\n",
       "      <td>0</td>\n",
       "      <td>4</td>\n",
       "    </tr>\n",
       "    <tr>\n",
       "      <td>7</td>\n",
       "      <td>0</td>\n",
       "      <td>0</td>\n",
       "      <td>4</td>\n",
       "    </tr>\n",
       "    <tr>\n",
       "      <td>8</td>\n",
       "      <td>0</td>\n",
       "      <td>1</td>\n",
       "      <td>2</td>\n",
       "    </tr>\n",
       "    <tr>\n",
       "      <td>9</td>\n",
       "      <td>0</td>\n",
       "      <td>0</td>\n",
       "      <td>4</td>\n",
       "    </tr>\n",
       "  </tbody>\n",
       "</table>\n",
       "</div>"
      ],
      "text/plain": [
       "   debt  children_id  childs_debt_ratio\n",
       "0     0            1                  2\n",
       "1     0            1                  2\n",
       "2     0            0                  4\n",
       "3     0            1                  2\n",
       "4     0            0                  4\n",
       "5     0            0                  4\n",
       "6     0            0                  4\n",
       "7     0            0                  4\n",
       "8     0            1                  2\n",
       "9     0            0                  4"
      ]
     },
     "execution_count": 45,
     "metadata": {},
     "output_type": "execute_result"
    }
   ],
   "source": [
    "df['childs_debt_ratio'] = df.apply(children_debt, axis=1)\n",
    "df[['debt', 'children_id', 'childs_debt_ratio']].head(10)"
   ]
  },
  {
   "cell_type": "markdown",
   "metadata": {},
   "source": [
    "Можем убедиться на примере первых 10 значений в корректности работы функции *children_debt*."
   ]
  },
  {
   "cell_type": "markdown",
   "metadata": {},
   "source": [
    "Рассчитем какой процент у каждой категории заёмщиков по  отношению наличия детей и просрочки по кредиту:"
   ]
  },
  {
   "cell_type": "code",
   "execution_count": 46,
   "metadata": {},
   "outputs": [
    {
     "data": {
      "text/plain": [
       "4   60.73\n",
       "2   31.16\n",
       "3    4.95\n",
       "1    3.16\n",
       "Name: childs_debt_ratio, dtype: float64"
      ]
     },
     "execution_count": 46,
     "metadata": {},
     "output_type": "execute_result"
    }
   ],
   "source": [
    "df['childs_debt_ratio'].value_counts(normalize=True) * 100 "
   ]
  },
  {
   "cell_type": "markdown",
   "metadata": {},
   "source": [
    "Следовательно, в датафрейме больше всего данных о заёмщиках **4** категории - не имеющих детей и просрочек по кредиту. Заёмщиков, допустивших просрочки по кредиту, всего около 8% от всех займщиков."
   ]
  },
  {
   "cell_type": "markdown",
   "metadata": {},
   "source": [
    "Создадим цикл со счётчиком, который посчитает количество заёмщиков в каждой категории по отношению наличия детей и просрочки:"
   ]
  },
  {
   "cell_type": "code",
   "execution_count": 47,
   "metadata": {
    "scrolled": true
   },
   "outputs": [
    {
     "name": "stdout",
     "output_type": "stream",
     "text": [
      "Количество заёмщиков имеющих детей и просрочку по кредиту: 678\n",
      "Количество заёмщиков имеющих детей и не имеющих просрочку по кредиту: 6685\n",
      "Количество заёмщиков без детей и с просрочкой по кредиту: 1063\n",
      "Количество заёмщиков без детей и без просрочки по кредиту: 13028\n"
     ]
    }
   ],
   "source": [
    "with_childs_with_debt = 0 # Количество заёмщиков имеющих детей и просрочку по кредиту.\n",
    "with_childs_no_debt = 0   # Количество заёмщиков имеющих детей и не имеющих просрочку по кредиту.\n",
    "no_childs_with_debt = 0   # Количество заёмщиков без детей и с просрочкой по кредиту.\n",
    "no_childs_no_debt = 0     # Количество заёмщиков без детей и без просрочки по кредиту.\n",
    "\n",
    "# Цикл пройдётся по всем значениям столбца childs_debt_ratio, посчитает количество заёмщиков каждой категории и\n",
    "# сохранит данные в соответствующую переменную.\n",
    "for i in df['childs_debt_ratio']: \n",
    "    if i == 1:\n",
    "        with_childs_with_debt += 1\n",
    "    elif i == 2:\n",
    "        with_childs_no_debt += 1\n",
    "    elif i == 3:\n",
    "        no_childs_with_debt += 1\n",
    "    elif i == 4:\n",
    "        no_childs_no_debt += 1\n",
    "        \n",
    "# Выведем результат на эксран \n",
    "print(f'Количество заёмщиков имеющих детей и просрочку по кредиту: {with_childs_with_debt}')\n",
    "print(f'Количество заёмщиков имеющих детей и не имеющих просрочку по кредиту: {with_childs_no_debt}')\n",
    "print(f'Количество заёмщиков без детей и с просрочкой по кредиту: {no_childs_with_debt}')\n",
    "print(f'Количество заёмщиков без детей и без просрочки по кредиту: {no_childs_no_debt}')"
   ]
  },
  {
   "cell_type": "markdown",
   "metadata": {},
   "source": [
    "Создадим датафрейм *report_1*, где в качестве столбцов укажем категории заёмщиков по отношению наличия детей и просрочки по кредиту, а значениями будут количество заёмщиков для каждой категории:"
   ]
  },
  {
   "cell_type": "code",
   "execution_count": 48,
   "metadata": {
    "scrolled": true
   },
   "outputs": [
    {
     "data": {
      "text/html": [
       "<div>\n",
       "<style scoped>\n",
       "    .dataframe tbody tr th:only-of-type {\n",
       "        vertical-align: middle;\n",
       "    }\n",
       "\n",
       "    .dataframe tbody tr th {\n",
       "        vertical-align: top;\n",
       "    }\n",
       "\n",
       "    .dataframe thead th {\n",
       "        text-align: right;\n",
       "    }\n",
       "</style>\n",
       "<table border=\"1\" class=\"dataframe\">\n",
       "  <thead>\n",
       "    <tr style=\"text-align: right;\">\n",
       "      <th></th>\n",
       "      <th>with_childs_with_debt</th>\n",
       "      <th>with_childs_no_debt</th>\n",
       "      <th>no_childs_with_debt</th>\n",
       "      <th>no_childs_no_debt</th>\n",
       "    </tr>\n",
       "  </thead>\n",
       "  <tbody>\n",
       "    <tr>\n",
       "      <td>1</td>\n",
       "      <td>678</td>\n",
       "      <td>6685</td>\n",
       "      <td>1063</td>\n",
       "      <td>13028</td>\n",
       "    </tr>\n",
       "  </tbody>\n",
       "</table>\n",
       "</div>"
      ],
      "text/plain": [
       "   with_childs_with_debt  with_childs_no_debt  no_childs_with_debt  \\\n",
       "1                    678                 6685                 1063   \n",
       "\n",
       "   no_childs_no_debt  \n",
       "1              13028  "
      ]
     },
     "execution_count": 48,
     "metadata": {},
     "output_type": "execute_result"
    }
   ],
   "source": [
    "report_1 = pd.DataFrame({\n",
    "    'with_childs_with_debt' : [with_childs_with_debt],\n",
    "    'with_childs_no_debt' : [with_childs_no_debt],\n",
    "    'no_childs_with_debt' : [no_childs_with_debt],\n",
    "    'no_childs_no_debt' : [no_childs_no_debt]},\n",
    "index = [1])\n",
    "report_1"
   ]
  },
  {
   "cell_type": "markdown",
   "metadata": {},
   "source": [
    "Рассчитаем какой процент заёмщиков с детьми имеют просрочку по кредиту, результат сохраним в столбце *percent_of_debt_with_childs*, а также процент заёмщиков без детей с просрочкой в столбце *percent_of_debt_no_childs*:"
   ]
  },
  {
   "cell_type": "code",
   "execution_count": 49,
   "metadata": {},
   "outputs": [
    {
     "data": {
      "text/html": [
       "<style  type=\"text/css\" >\n",
       "</style><table id=\"T_b036ef68_717a_11ec_b8be_02420a39d811\" ><thead>    <tr>        <th class=\"blank level0\" ></th>        <th class=\"col_heading level0 col0\" >with_childs_with_debt</th>        <th class=\"col_heading level0 col1\" >with_childs_no_debt</th>        <th class=\"col_heading level0 col2\" >no_childs_with_debt</th>        <th class=\"col_heading level0 col3\" >no_childs_no_debt</th>        <th class=\"col_heading level0 col4\" >percent_of_debt_with_childs</th>        <th class=\"col_heading level0 col5\" >percent_of_debt_no_childs</th>    </tr></thead><tbody>\n",
       "                <tr>\n",
       "                        <th id=\"T_b036ef68_717a_11ec_b8be_02420a39d811level0_row0\" class=\"row_heading level0 row0\" >1</th>\n",
       "                        <td id=\"T_b036ef68_717a_11ec_b8be_02420a39d811row0_col0\" class=\"data row0 col0\" >678</td>\n",
       "                        <td id=\"T_b036ef68_717a_11ec_b8be_02420a39d811row0_col1\" class=\"data row0 col1\" >6685</td>\n",
       "                        <td id=\"T_b036ef68_717a_11ec_b8be_02420a39d811row0_col2\" class=\"data row0 col2\" >1063</td>\n",
       "                        <td id=\"T_b036ef68_717a_11ec_b8be_02420a39d811row0_col3\" class=\"data row0 col3\" >13028</td>\n",
       "                        <td id=\"T_b036ef68_717a_11ec_b8be_02420a39d811row0_col4\" class=\"data row0 col4\" >9.21%</td>\n",
       "                        <td id=\"T_b036ef68_717a_11ec_b8be_02420a39d811row0_col5\" class=\"data row0 col5\" >7.54%</td>\n",
       "            </tr>\n",
       "    </tbody></table>"
      ],
      "text/plain": [
       "<pandas.io.formats.style.Styler at 0x7fbd9d82a850>"
      ]
     },
     "execution_count": 49,
     "metadata": {},
     "output_type": "execute_result"
    }
   ],
   "source": [
    "# Для рассчёта процента заёмщиков с детьми и просрочкой по кредиту поделим количество заёмщиков с детьми и просрочкой\n",
    "# на общее количество заёмщиков с детьми.\n",
    "\n",
    "report_1['percent_of_debt_with_childs'] = report_1['with_childs_with_debt'] / (\n",
    "    report_1['with_childs_with_debt'] + report_1['with_childs_no_debt'])\n",
    "\n",
    "# Для рассчёта процента заёмщиков без детей, но с просрочкой по кредиту поделим количество заёмщиков без детьей\n",
    "# и c просрочкой на общее количество заёмщиков без детей.\n",
    "\n",
    "report_1['percent_of_debt_no_childs'] = report_1['no_childs_with_debt'] / (\n",
    "    report_1['no_childs_with_debt'] + report_1['no_childs_no_debt'])\n",
    "\n",
    "report_1.style.format(\n",
    "    {('percent_of_debt_with_childs'): '{:.2%}', ('percent_of_debt_no_childs'):'{:.2%}'})"
   ]
  },
  {
   "cell_type": "markdown",
   "metadata": {},
   "source": [
    "В результате мы получили данные, что 9,21% заёмщиков с детьми имеют просрочку по кредиту, в то время как заёмщики без детей имеют просрочку только в 7,54% случаев."
   ]
  },
  {
   "cell_type": "markdown",
   "metadata": {},
   "source": [
    "**Вывод**"
   ]
  },
  {
   "cell_type": "markdown",
   "metadata": {},
   "source": [
    "В результате проведённого исследования было устанолвлено, что заёмщики с детьми чаще допускают просрочки по кредиту, чем заёмщики без детей."
   ]
  },
  {
   "cell_type": "markdown",
   "metadata": {},
   "source": [
    "- Есть ли зависимость между семейным положением и возвратом кредита в срок?"
   ]
  },
  {
   "cell_type": "markdown",
   "metadata": {},
   "source": [
    "Оценим как меняется процент невозврата кредита в срок в зависимости от семейного статуса, используем код, аналогичный предыдущему:"
   ]
  },
  {
   "cell_type": "code",
   "execution_count": 50,
   "metadata": {},
   "outputs": [
    {
     "data": {
      "text/html": [
       "<style  type=\"text/css\" >\n",
       "</style><table id=\"T_bf2a196e_717a_11ec_b8be_02420a39d811\" ><thead>    <tr>        <th class=\"blank level0\" ></th>        <th class=\"col_heading level0 col0\" colspan=2>Верхний уровень</th>    </tr>    <tr>        <th class=\"blank level1\" ></th>        <th class=\"col_heading level1 col0\" >% невозврата</th>        <th class=\"col_heading level1 col1\" >Количество заёмщиков</th>    </tr>    <tr>        <th class=\"index_name level0\" >Семейный статус</th>        <th class=\"blank\" ></th>        <th class=\"blank\" ></th>    </tr></thead><tbody>\n",
       "                <tr>\n",
       "                        <th id=\"T_bf2a196e_717a_11ec_b8be_02420a39d811level0_row0\" class=\"row_heading level0 row0\" >Не женат / не замужем</th>\n",
       "                        <td id=\"T_bf2a196e_717a_11ec_b8be_02420a39d811row0_col0\" class=\"data row0 col0\" >9.75%</td>\n",
       "                        <td id=\"T_bf2a196e_717a_11ec_b8be_02420a39d811row0_col1\" class=\"data row0 col1\" >2810.00</td>\n",
       "            </tr>\n",
       "            <tr>\n",
       "                        <th id=\"T_bf2a196e_717a_11ec_b8be_02420a39d811level0_row1\" class=\"row_heading level0 row1\" >в разводе</th>\n",
       "                        <td id=\"T_bf2a196e_717a_11ec_b8be_02420a39d811row1_col0\" class=\"data row1 col0\" >7.11%</td>\n",
       "                        <td id=\"T_bf2a196e_717a_11ec_b8be_02420a39d811row1_col1\" class=\"data row1 col1\" >1195.00</td>\n",
       "            </tr>\n",
       "            <tr>\n",
       "                        <th id=\"T_bf2a196e_717a_11ec_b8be_02420a39d811level0_row2\" class=\"row_heading level0 row2\" >вдовец / вдова</th>\n",
       "                        <td id=\"T_bf2a196e_717a_11ec_b8be_02420a39d811row2_col0\" class=\"data row2 col0\" >6.57%</td>\n",
       "                        <td id=\"T_bf2a196e_717a_11ec_b8be_02420a39d811row2_col1\" class=\"data row2 col1\" >959.00</td>\n",
       "            </tr>\n",
       "            <tr>\n",
       "                        <th id=\"T_bf2a196e_717a_11ec_b8be_02420a39d811level0_row3\" class=\"row_heading level0 row3\" >гражданский брак</th>\n",
       "                        <td id=\"T_bf2a196e_717a_11ec_b8be_02420a39d811row3_col0\" class=\"data row3 col0\" >9.35%</td>\n",
       "                        <td id=\"T_bf2a196e_717a_11ec_b8be_02420a39d811row3_col1\" class=\"data row3 col1\" >4151.00</td>\n",
       "            </tr>\n",
       "            <tr>\n",
       "                        <th id=\"T_bf2a196e_717a_11ec_b8be_02420a39d811level0_row4\" class=\"row_heading level0 row4\" >женат / замужем</th>\n",
       "                        <td id=\"T_bf2a196e_717a_11ec_b8be_02420a39d811row4_col0\" class=\"data row4 col0\" >7.55%</td>\n",
       "                        <td id=\"T_bf2a196e_717a_11ec_b8be_02420a39d811row4_col1\" class=\"data row4 col1\" >12339.00</td>\n",
       "            </tr>\n",
       "    </tbody></table>"
      ],
      "text/plain": [
       "<pandas.io.formats.style.Styler at 0x7fbd9d82a0d0>"
      ]
     },
     "execution_count": 50,
     "metadata": {},
     "output_type": "execute_result"
    }
   ],
   "source": [
    "# Посчитаем количество заёмщиков по каждому значению в столбце family_status имеющих долг, а также среднее\n",
    "# значение таких заёмщиков в каждой категории семейного статуса. Для этого проведем группировку по столбцу \n",
    "# family_status, а затем с помощью метода agg() укажем какие операции надо провести по столбцу debt:\n",
    "report_2 = df.groupby('family_status').agg({'debt': ['mean', 'count']})\n",
    "\n",
    "# Переименуемый мультииндексы в колонках:\n",
    "report_2 = report_2.rename(columns = {'debt': 'Верхний уровень'}, level=0)\n",
    "report_2 = report_2.rename(columns = {'mean': '% невозврата', 'count': 'Количество заёмщиков'}, level=1)\n",
    "\n",
    "# Переменуемый индекс:\n",
    "report_2.index = report_2.index.rename('Семейный статус')\n",
    "\n",
    "# Выедем результат на экран:\n",
    "report_2.style.format(\n",
    "    {('Верхний уровень', '% невозврата'): '{:.2%}', ('Верхний уровень', 'Количество заёмщиков'):'{:.2f}'})"
   ]
  },
  {
   "cell_type": "markdown",
   "metadata": {},
   "source": [
    "**Вывод**"
   ]
  },
  {
   "cell_type": "markdown",
   "metadata": {},
   "source": [
    "Семейный статус заёмщика и просрочки по кредиту связаны следующим образом:\n",
    "* заёмщиков, не состоящих в браке (не считая заёмщиков в разводе и вдов/вдовцов), и заёмщиков, состоящих в гражданском браке, допускающих просрочку по кредиту примерно одинаковый процент;\n",
    "* заёмщики в браке и в разводе допускают просрочку по кредиту сопостовимое процентное значение;\n",
    "* меньше всего вероятность просрочки у заёмщиц-вдов и заёмщиков-вдовцов.\n",
    "\n",
    "Следовательно, взаимосвязь между семейным статусом и вероятность просрочки по кредиту подтверждена."
   ]
  },
  {
   "cell_type": "markdown",
   "metadata": {},
   "source": [
    "- Есть ли зависимость между уровнем дохода и возвратом кредита в срок?"
   ]
  },
  {
   "cell_type": "markdown",
   "metadata": {},
   "source": [
    "Аналогичным образом определим зависимость между уровнем дохода и вероятностью просрочки кредита. Используем категории уровня дохода, которые мы определили в столбце *total_income_id*:"
   ]
  },
  {
   "cell_type": "code",
   "execution_count": 51,
   "metadata": {},
   "outputs": [
    {
     "data": {
      "text/html": [
       "<style  type=\"text/css\" >\n",
       "</style><table id=\"T_c4932774_717a_11ec_b8be_02420a39d811\" ><thead>    <tr>        <th class=\"blank level0\" ></th>        <th class=\"col_heading level0 col0\" colspan=2>Верхний уровень</th>    </tr>    <tr>        <th class=\"blank level1\" ></th>        <th class=\"col_heading level1 col0\" >% невозврата</th>        <th class=\"col_heading level1 col1\" >Количество заёмщиков</th>    </tr>    <tr>        <th class=\"index_name level0\" >Уровень дохода</th>        <th class=\"blank\" ></th>        <th class=\"blank\" ></th>    </tr></thead><tbody>\n",
       "                <tr>\n",
       "                        <th id=\"T_c4932774_717a_11ec_b8be_02420a39d811level0_row0\" class=\"row_heading level0 row0\" >низкий доход</th>\n",
       "                        <td id=\"T_c4932774_717a_11ec_b8be_02420a39d811row0_col0\" class=\"data row0 col0\" >7.96%</td>\n",
       "                        <td id=\"T_c4932774_717a_11ec_b8be_02420a39d811row0_col1\" class=\"data row0 col1\" >5364.00</td>\n",
       "            </tr>\n",
       "            <tr>\n",
       "                        <th id=\"T_c4932774_717a_11ec_b8be_02420a39d811level0_row1\" class=\"row_heading level0 row1\" >средний доход</th>\n",
       "                        <td id=\"T_c4932774_717a_11ec_b8be_02420a39d811row1_col0\" class=\"data row1 col0\" >8.42%</td>\n",
       "                        <td id=\"T_c4932774_717a_11ec_b8be_02420a39d811row1_col1\" class=\"data row1 col1\" >5629.00</td>\n",
       "            </tr>\n",
       "            <tr>\n",
       "                        <th id=\"T_c4932774_717a_11ec_b8be_02420a39d811level0_row2\" class=\"row_heading level0 row2\" >высокий доход</th>\n",
       "                        <td id=\"T_c4932774_717a_11ec_b8be_02420a39d811row2_col0\" class=\"data row2 col0\" >8.97%</td>\n",
       "                        <td id=\"T_c4932774_717a_11ec_b8be_02420a39d811row2_col1\" class=\"data row2 col1\" >5097.00</td>\n",
       "            </tr>\n",
       "            <tr>\n",
       "                        <th id=\"T_c4932774_717a_11ec_b8be_02420a39d811level0_row3\" class=\"row_heading level0 row3\" >очень высокий доход</th>\n",
       "                        <td id=\"T_c4932774_717a_11ec_b8be_02420a39d811row3_col0\" class=\"data row3 col0\" >7.14%</td>\n",
       "                        <td id=\"T_c4932774_717a_11ec_b8be_02420a39d811row3_col1\" class=\"data row3 col1\" >5364.00</td>\n",
       "            </tr>\n",
       "    </tbody></table>"
      ],
      "text/plain": [
       "<pandas.io.formats.style.Styler at 0x7fbdddb7ead0>"
      ]
     },
     "execution_count": 51,
     "metadata": {},
     "output_type": "execute_result"
    }
   ],
   "source": [
    "# Посчитаем количество заёмщиков по каждой категории в столбце total_income_id имеющих долг, а также среднее\n",
    "# значение таких заёмщиков в каждой категории. Для этого проведем группировку по столбцу total_income_id,\n",
    "# а затем с помощью метода agg() укажем какие операции надо провести по столбцу debt:\n",
    "report_3 = df.groupby('total_income_id').agg({'debt': ['mean', 'count']})\n",
    "\n",
    "# Переименуемый мультииндексы в колонках:\n",
    "report_3 = report_3.rename(columns = {'debt': 'Верхний уровень'}, level=0)\n",
    "report_3 = report_3.rename(columns = {'mean': '% невозврата', 'count': 'Количество заёмщиков'}, level=1)\n",
    "\n",
    "# Переменуемый индекс:\n",
    "report_3.index = report_3.index.rename('Уровень дохода')\n",
    "\n",
    "# Выедем результат на экран:\n",
    "report_3.style.format(\n",
    "    {('Верхний уровень', '% невозврата'): '{:.2%}', ('Верхний уровень', 'Количество заёмщиков'):'{:.2f}'})"
   ]
  },
  {
   "cell_type": "markdown",
   "metadata": {},
   "source": [
    "**Вывод**"
   ]
  },
  {
   "cell_type": "markdown",
   "metadata": {},
   "source": [
    "Уровнь дохода влияет на вероятность просрочки по кредиту следующим образом:\n",
    "* заёмщики с низким доходом и с очень высоким доходом допускают просрочки по кредитам меньшее количество раз, чем заёмщики с высоким и средним доходом.\n",
    "\n",
    "Поэтому возможно утверждать о наличии взаимосвязи между уровнем дохода и совевременным возвратом кредита."
   ]
  },
  {
   "cell_type": "markdown",
   "metadata": {},
   "source": [
    "- Как разные цели кредита влияют на его возврат в срок?"
   ]
  },
  {
   "cell_type": "markdown",
   "metadata": {},
   "source": [
    "Установим есть ли зависимость между целями, на которые были предоставлены кредиты, и вероятностью просрочки по ним. Используем категории целей кредитов, которые мы определили в столбце *purpose_category*:"
   ]
  },
  {
   "cell_type": "code",
   "execution_count": 52,
   "metadata": {},
   "outputs": [
    {
     "data": {
      "text/html": [
       "<style  type=\"text/css\" >\n",
       "</style><table id=\"T_c75d95f2_717a_11ec_b8be_02420a39d811\" ><thead>    <tr>        <th class=\"blank level0\" ></th>        <th class=\"col_heading level0 col0\" colspan=2>Верхний уровень</th>    </tr>    <tr>        <th class=\"blank level1\" ></th>        <th class=\"col_heading level1 col0\" >% невозврата</th>        <th class=\"col_heading level1 col1\" >Количество заёмщиков</th>    </tr>    <tr>        <th class=\"index_name level0\" >Категория цели кредита</th>        <th class=\"blank\" ></th>        <th class=\"blank\" ></th>    </tr></thead><tbody>\n",
       "                <tr>\n",
       "                        <th id=\"T_c75d95f2_717a_11ec_b8be_02420a39d811level0_row0\" class=\"row_heading level0 row0\" >автомобиль</th>\n",
       "                        <td id=\"T_c75d95f2_717a_11ec_b8be_02420a39d811row0_col0\" class=\"data row0 col0\" >9.36%</td>\n",
       "                        <td id=\"T_c75d95f2_717a_11ec_b8be_02420a39d811row0_col1\" class=\"data row0 col1\" >4306.00</td>\n",
       "            </tr>\n",
       "            <tr>\n",
       "                        <th id=\"T_c75d95f2_717a_11ec_b8be_02420a39d811level0_row1\" class=\"row_heading level0 row1\" >образование</th>\n",
       "                        <td id=\"T_c75d95f2_717a_11ec_b8be_02420a39d811row1_col0\" class=\"data row1 col0\" >9.22%</td>\n",
       "                        <td id=\"T_c75d95f2_717a_11ec_b8be_02420a39d811row1_col1\" class=\"data row1 col1\" >4013.00</td>\n",
       "            </tr>\n",
       "            <tr>\n",
       "                        <th id=\"T_c75d95f2_717a_11ec_b8be_02420a39d811level0_row2\" class=\"row_heading level0 row2\" >операции с недвижимостью</th>\n",
       "                        <td id=\"T_c75d95f2_717a_11ec_b8be_02420a39d811row2_col0\" class=\"data row2 col0\" >7.23%</td>\n",
       "                        <td id=\"T_c75d95f2_717a_11ec_b8be_02420a39d811row2_col1\" class=\"data row2 col1\" >10811.00</td>\n",
       "            </tr>\n",
       "            <tr>\n",
       "                        <th id=\"T_c75d95f2_717a_11ec_b8be_02420a39d811level0_row3\" class=\"row_heading level0 row3\" >свадьба</th>\n",
       "                        <td id=\"T_c75d95f2_717a_11ec_b8be_02420a39d811row3_col0\" class=\"data row3 col0\" >8.00%</td>\n",
       "                        <td id=\"T_c75d95f2_717a_11ec_b8be_02420a39d811row3_col1\" class=\"data row3 col1\" >2324.00</td>\n",
       "            </tr>\n",
       "    </tbody></table>"
      ],
      "text/plain": [
       "<pandas.io.formats.style.Styler at 0x7fbd9c70bfd0>"
      ]
     },
     "execution_count": 52,
     "metadata": {},
     "output_type": "execute_result"
    }
   ],
   "source": [
    "# Посчитаем количество заёмщиков по каждой категории в столбце purpose_category имеющих долг, а также среднее\n",
    "# значение таких заёмщиков в каждой категории. Для этого проведем группировку по столбцу purpose_category,\n",
    "# а затем с помощью метода agg() укажем какие операции надо провести по столбцу debt:\n",
    "report_4 = df.groupby('purpose_category').agg({'debt': ['mean', 'count']})\n",
    "\n",
    "# Переименуемый мультииндексы в колонках:\n",
    "report_4 = report_4.rename(columns = {'debt': 'Верхний уровень'}, level=0)\n",
    "report_4 = report_4.rename(columns = {'mean': '% невозврата', 'count': 'Количество заёмщиков'}, level=1)\n",
    "\n",
    "# Переменуемый индекс:\n",
    "report_4.index = report_4.index.rename('Категория цели кредита')\n",
    "\n",
    "# Выедем результат на экран:\n",
    "report_4.style.format(\n",
    "    {('Верхний уровень', '% невозврата'): '{:.2%}', ('Верхний уровень', 'Количество заёмщиков'):'{:.2f}'})"
   ]
  },
  {
   "cell_type": "markdown",
   "metadata": {},
   "source": [
    "**Вывод**"
   ]
  },
  {
   "cell_type": "markdown",
   "metadata": {},
   "source": [
    "Взаимосвязи между категориями целей кредитов и невозвартом кредитов в срок проявляются в следующем:\n",
    "* кредиты, предоставленные по категориям целей \"автомобиль\" и \"образование\", чаще всего не возвращаются в срок примерно с одинаковой вероятностью;\n",
    "* меньше всего просрочек у клиентов, которым кредиты были предоставлены по категории цели \"операции с недвижимостью\".\n",
    "\n",
    "Соответственно, связь между целью кредита и его возвратом в срок также выявлена."
   ]
  },
  {
   "cell_type": "markdown",
   "metadata": {},
   "source": [
    "## Шаг 4. Общий вывод"
   ]
  },
  {
   "cell_type": "markdown",
   "metadata": {},
   "source": [
    "По результатам исследования была установлена взаимосвязь между возвратом кредита в срок и:\n",
    "* наличием и количеством детей у заёмщика:\n",
    "    * чаще всего просрочки допускают заёмщики с детьми\n",
    "* семейным статусом заёмщика:\n",
    "    * самые дисциплинированные заёмщицы-вдовы и заёмщики-вдовцы, в то время как заёмщики, не состоящие в браке или состоящие в гражданском браке, чаще других не исполняют обязательства по возврату кредитов в срок\n",
    "* уровнем дохода заёмщика:\n",
    "    * заёмщики со средним и высоким доходами чаще не возвращают кредиты в срок, чем заёмщики с низким и очень высоким доходами\n",
    "* целей кредита:\n",
    "    * вероятность невозврата кредита в срок выше по кредитам для целей, связанных с автомобилями и образованием, чем по кредитам на операции с недвижимостью и свадьбы.\n",
    "    \n",
    "Следовательно, гипотеза о наличии взаимосвязи между отдельными характеристиками заёмщиков и вероятностью просрочки по кредиту подтверждена, цель исследования достигнута."
   ]
  }
 ],
 "metadata": {
  "ExecuteTimeLog": [
   {
    "duration": 898,
    "start_time": "2021-11-08T17:29:31.688Z"
   },
   {
    "duration": 401,
    "start_time": "2021-11-08T17:29:41.100Z"
   },
   {
    "duration": 70,
    "start_time": "2021-11-08T17:29:57.920Z"
   },
   {
    "duration": 59,
    "start_time": "2021-11-08T17:33:58.388Z"
   },
   {
    "duration": 10,
    "start_time": "2021-11-08T17:33:59.097Z"
   },
   {
    "duration": 16,
    "start_time": "2021-11-08T17:34:00.176Z"
   },
   {
    "duration": 89,
    "start_time": "2021-11-08T18:15:28.827Z"
   },
   {
    "duration": 274,
    "start_time": "2021-11-08T18:15:37.586Z"
   },
   {
    "duration": -133,
    "start_time": "2021-11-08T18:15:53.313Z"
   },
   {
    "duration": 6744,
    "start_time": "2021-11-08T18:15:57.091Z"
   },
   {
    "duration": 7046,
    "start_time": "2021-11-08T18:16:45.255Z"
   },
   {
    "duration": 6845,
    "start_time": "2021-11-08T18:27:53.736Z"
   },
   {
    "duration": 272,
    "start_time": "2021-11-08T18:33:05.301Z"
   },
   {
    "duration": 5,
    "start_time": "2021-11-08T18:33:31.336Z"
   },
   {
    "duration": 6588,
    "start_time": "2021-11-08T19:27:01.698Z"
   },
   {
    "duration": 6366,
    "start_time": "2021-11-08T19:27:09.886Z"
   },
   {
    "duration": 219,
    "start_time": "2021-11-08T19:28:25.737Z"
   },
   {
    "duration": 250,
    "start_time": "2021-11-08T19:28:31.414Z"
   },
   {
    "duration": 19,
    "start_time": "2021-11-08T19:32:32.061Z"
   },
   {
    "duration": 3,
    "start_time": "2021-11-08T19:34:10.034Z"
   },
   {
    "duration": 3,
    "start_time": "2021-11-08T19:34:28.137Z"
   },
   {
    "duration": 3,
    "start_time": "2021-11-08T19:34:51.021Z"
   },
   {
    "duration": 3,
    "start_time": "2021-11-08T19:34:59.241Z"
   },
   {
    "duration": 4,
    "start_time": "2021-11-08T19:35:08.177Z"
   },
   {
    "duration": 89,
    "start_time": "2021-11-08T19:35:48.789Z"
   },
   {
    "duration": 81,
    "start_time": "2021-11-08T19:36:11.381Z"
   },
   {
    "duration": 87,
    "start_time": "2021-11-08T19:36:32.261Z"
   },
   {
    "duration": 19,
    "start_time": "2021-11-08T19:36:52.145Z"
   },
   {
    "duration": 271,
    "start_time": "2021-11-08T19:37:28.289Z"
   },
   {
    "duration": 426,
    "start_time": "2021-11-09T12:41:27.106Z"
   },
   {
    "duration": 857,
    "start_time": "2021-11-09T12:41:36.530Z"
   },
   {
    "duration": 15,
    "start_time": "2021-11-09T12:41:37.389Z"
   },
   {
    "duration": 31,
    "start_time": "2021-11-09T12:41:39.923Z"
   },
   {
    "duration": 26,
    "start_time": "2021-11-09T12:41:43.690Z"
   },
   {
    "duration": 330,
    "start_time": "2021-11-09T12:47:53.513Z"
   },
   {
    "duration": 47,
    "start_time": "2021-11-09T12:48:28.925Z"
   },
   {
    "duration": 42,
    "start_time": "2021-11-09T12:56:46.339Z"
   },
   {
    "duration": 98,
    "start_time": "2021-11-09T13:15:25.343Z"
   },
   {
    "duration": 19,
    "start_time": "2021-11-09T13:15:34.935Z"
   },
   {
    "duration": 19,
    "start_time": "2021-11-09T13:15:54.923Z"
   },
   {
    "duration": 11,
    "start_time": "2021-11-09T13:18:18.571Z"
   },
   {
    "duration": 21,
    "start_time": "2021-11-09T13:20:38.435Z"
   },
   {
    "duration": 49,
    "start_time": "2021-11-09T17:35:09.521Z"
   },
   {
    "duration": 43,
    "start_time": "2021-11-09T17:37:46.073Z"
   },
   {
    "duration": 14,
    "start_time": "2021-11-09T17:41:35.337Z"
   },
   {
    "duration": 13,
    "start_time": "2021-11-09T18:17:17.925Z"
   },
   {
    "duration": 137,
    "start_time": "2021-11-09T18:19:27.621Z"
   },
   {
    "duration": 7261,
    "start_time": "2021-11-09T18:20:45.113Z"
   },
   {
    "duration": 15,
    "start_time": "2021-11-09T18:21:25.453Z"
   },
   {
    "duration": 14,
    "start_time": "2021-11-09T18:21:35.989Z"
   },
   {
    "duration": 14,
    "start_time": "2021-11-09T18:21:42.705Z"
   },
   {
    "duration": 12,
    "start_time": "2021-11-09T18:21:50.154Z"
   },
   {
    "duration": 8316,
    "start_time": "2021-11-09T18:28:55.317Z"
   },
   {
    "duration": 8,
    "start_time": "2021-11-09T18:29:12.765Z"
   },
   {
    "duration": 519,
    "start_time": "2021-11-09T18:36:07.249Z"
   },
   {
    "duration": 66,
    "start_time": "2021-11-09T18:36:21.178Z"
   },
   {
    "duration": 682,
    "start_time": "2021-11-09T18:36:30.778Z"
   },
   {
    "duration": 494,
    "start_time": "2021-11-09T18:39:42.877Z"
   },
   {
    "duration": 485,
    "start_time": "2021-11-09T19:20:02.156Z"
   },
   {
    "duration": 8,
    "start_time": "2021-11-09T19:32:56.556Z"
   },
   {
    "duration": 6,
    "start_time": "2021-11-09T19:36:56.600Z"
   },
   {
    "duration": 13,
    "start_time": "2021-11-09T19:37:19.888Z"
   },
   {
    "duration": 9,
    "start_time": "2021-11-09T19:40:45.662Z"
   },
   {
    "duration": 287,
    "start_time": "2021-11-09T19:41:01.311Z"
   },
   {
    "duration": 13,
    "start_time": "2021-11-09T19:47:50.489Z"
   },
   {
    "duration": 37,
    "start_time": "2021-11-09T19:48:03.785Z"
   },
   {
    "duration": 52,
    "start_time": "2021-11-09T19:49:12.701Z"
   },
   {
    "duration": 357,
    "start_time": "2021-11-09T19:53:25.081Z"
   },
   {
    "duration": 273,
    "start_time": "2021-11-09T19:54:05.873Z"
   },
   {
    "duration": 49,
    "start_time": "2021-11-09T19:54:21.997Z"
   },
   {
    "duration": 20,
    "start_time": "2021-11-09T20:02:07.829Z"
   },
   {
    "duration": 20,
    "start_time": "2021-11-09T20:02:20.701Z"
   },
   {
    "duration": 19,
    "start_time": "2021-11-09T20:02:38.597Z"
   },
   {
    "duration": 8,
    "start_time": "2021-11-09T20:03:43.453Z"
   },
   {
    "duration": 288,
    "start_time": "2021-11-09T20:10:49.314Z"
   },
   {
    "duration": 7498,
    "start_time": "2021-11-09T20:11:09.949Z"
   },
   {
    "duration": 158,
    "start_time": "2021-11-09T20:11:57.765Z"
   },
   {
    "duration": 7,
    "start_time": "2021-11-09T20:15:37.525Z"
   },
   {
    "duration": 267,
    "start_time": "2021-11-09T20:16:18.885Z"
   },
   {
    "duration": 36,
    "start_time": "2021-11-09T20:16:25.905Z"
   },
   {
    "duration": 38,
    "start_time": "2021-11-09T20:22:46.497Z"
   },
   {
    "duration": 37,
    "start_time": "2021-11-09T20:23:19.344Z"
   },
   {
    "duration": 70,
    "start_time": "2021-11-09T20:27:05.269Z"
   },
   {
    "duration": 17,
    "start_time": "2021-11-09T20:27:05.961Z"
   },
   {
    "duration": 9,
    "start_time": "2021-11-09T20:27:16.937Z"
   },
   {
    "duration": 21,
    "start_time": "2021-11-09T20:27:24.913Z"
   },
   {
    "duration": 27,
    "start_time": "2021-11-09T20:27:33.661Z"
   },
   {
    "duration": 48,
    "start_time": "2021-11-09T20:27:35.492Z"
   },
   {
    "duration": 44,
    "start_time": "2021-11-09T20:27:36.905Z"
   },
   {
    "duration": 15,
    "start_time": "2021-11-09T20:27:39.729Z"
   },
   {
    "duration": 8,
    "start_time": "2021-11-09T20:27:41.993Z"
   },
   {
    "duration": 36,
    "start_time": "2021-11-09T20:27:43.721Z"
   },
   {
    "duration": 216,
    "start_time": "2021-11-10T18:39:05.717Z"
   },
   {
    "duration": 619,
    "start_time": "2021-11-10T18:39:28.297Z"
   },
   {
    "duration": 11,
    "start_time": "2021-11-10T18:39:28.918Z"
   },
   {
    "duration": 12,
    "start_time": "2021-11-10T18:39:30.173Z"
   },
   {
    "duration": 16,
    "start_time": "2021-11-10T18:39:37.481Z"
   },
   {
    "duration": 20,
    "start_time": "2021-11-10T18:39:43.301Z"
   },
   {
    "duration": 32,
    "start_time": "2021-11-10T18:39:44.669Z"
   },
   {
    "duration": 27,
    "start_time": "2021-11-10T18:39:45.981Z"
   },
   {
    "duration": 9,
    "start_time": "2021-11-10T18:39:49.977Z"
   },
   {
    "duration": 6,
    "start_time": "2021-11-10T18:39:51.229Z"
   },
   {
    "duration": 22,
    "start_time": "2021-11-10T18:39:53.101Z"
   },
   {
    "duration": 117,
    "start_time": "2021-11-10T18:52:53.488Z"
   },
   {
    "duration": 207,
    "start_time": "2021-11-10T18:57:01.143Z"
   },
   {
    "duration": 182,
    "start_time": "2021-11-10T18:57:19.404Z"
   },
   {
    "duration": 182,
    "start_time": "2021-11-10T18:57:37.355Z"
   },
   {
    "duration": 183,
    "start_time": "2021-11-10T18:58:37.988Z"
   },
   {
    "duration": 191,
    "start_time": "2021-11-10T19:00:40.840Z"
   },
   {
    "duration": 157,
    "start_time": "2021-11-10T19:00:51.416Z"
   },
   {
    "duration": 207,
    "start_time": "2021-11-10T19:02:34.056Z"
   },
   {
    "duration": 2705,
    "start_time": "2021-11-10T19:37:41.188Z"
   },
   {
    "duration": 172,
    "start_time": "2021-11-10T19:40:21.600Z"
   },
   {
    "duration": 61,
    "start_time": "2021-11-10T19:40:35.376Z"
   },
   {
    "duration": 181,
    "start_time": "2021-11-10T19:41:06.688Z"
   },
   {
    "duration": 667,
    "start_time": "2021-11-10T19:44:25.460Z"
   },
   {
    "duration": 709,
    "start_time": "2021-11-10T19:44:46.524Z"
   },
   {
    "duration": 23,
    "start_time": "2021-11-10T19:46:04.504Z"
   },
   {
    "duration": 11,
    "start_time": "2021-11-10T19:47:45.924Z"
   },
   {
    "duration": 11,
    "start_time": "2021-11-10T19:47:56.020Z"
   },
   {
    "duration": 10,
    "start_time": "2021-11-10T19:48:18.032Z"
   },
   {
    "duration": 10,
    "start_time": "2021-11-10T19:48:34.192Z"
   },
   {
    "duration": 10,
    "start_time": "2021-11-10T19:48:41.156Z"
   },
   {
    "duration": 10,
    "start_time": "2021-11-10T19:48:55.660Z"
   },
   {
    "duration": 23,
    "start_time": "2021-11-10T19:54:31.648Z"
   },
   {
    "duration": 182,
    "start_time": "2021-11-10T19:56:23.756Z"
   },
   {
    "duration": 9,
    "start_time": "2021-11-10T19:56:52.900Z"
   },
   {
    "duration": 9,
    "start_time": "2021-11-10T19:58:27.940Z"
   },
   {
    "duration": 10,
    "start_time": "2021-11-10T20:04:47.284Z"
   },
   {
    "duration": 173,
    "start_time": "2021-11-10T20:09:13.040Z"
   },
   {
    "duration": 4,
    "start_time": "2021-11-10T20:09:24.724Z"
   },
   {
    "duration": 6,
    "start_time": "2021-11-10T20:16:44.584Z"
   },
   {
    "duration": 4494,
    "start_time": "2021-11-10T20:35:20.070Z"
   },
   {
    "duration": 178,
    "start_time": "2021-11-10T20:35:58.190Z"
   },
   {
    "duration": 189,
    "start_time": "2021-11-10T20:36:32.634Z"
   },
   {
    "duration": 185,
    "start_time": "2021-11-10T20:36:59.786Z"
   },
   {
    "duration": 60,
    "start_time": "2021-11-10T21:00:46.640Z"
   },
   {
    "duration": 58,
    "start_time": "2021-11-10T21:01:13.004Z"
   },
   {
    "duration": 4,
    "start_time": "2021-11-10T21:01:19.484Z"
   },
   {
    "duration": 369,
    "start_time": "2021-11-10T21:02:13.748Z"
   },
   {
    "duration": 3,
    "start_time": "2021-11-10T21:02:29.048Z"
   },
   {
    "duration": 918,
    "start_time": "2021-11-10T21:02:30.520Z"
   },
   {
    "duration": 4,
    "start_time": "2021-11-10T21:03:12.300Z"
   },
   {
    "duration": 1811,
    "start_time": "2021-11-10T21:03:13.091Z"
   },
   {
    "duration": 4,
    "start_time": "2021-11-10T21:07:28.800Z"
   },
   {
    "duration": 363,
    "start_time": "2021-11-10T21:07:30.124Z"
   },
   {
    "duration": 3,
    "start_time": "2021-11-10T21:07:44.632Z"
   },
   {
    "duration": 227,
    "start_time": "2021-11-10T21:07:59.839Z"
   },
   {
    "duration": 3,
    "start_time": "2021-11-10T21:08:07.421Z"
   },
   {
    "duration": 342,
    "start_time": "2021-11-10T21:08:09.086Z"
   },
   {
    "duration": 3,
    "start_time": "2021-11-10T21:09:45.862Z"
   },
   {
    "duration": 421,
    "start_time": "2021-11-10T21:09:46.315Z"
   },
   {
    "duration": 651,
    "start_time": "2021-11-10T21:09:55.023Z"
   },
   {
    "duration": 11,
    "start_time": "2021-11-10T21:09:55.676Z"
   },
   {
    "duration": 9,
    "start_time": "2021-11-10T21:09:56.354Z"
   },
   {
    "duration": 16,
    "start_time": "2021-11-10T21:09:57.082Z"
   },
   {
    "duration": 18,
    "start_time": "2021-11-10T21:09:59.050Z"
   },
   {
    "duration": 35,
    "start_time": "2021-11-10T21:09:59.632Z"
   },
   {
    "duration": 27,
    "start_time": "2021-11-10T21:10:00.332Z"
   },
   {
    "duration": 10,
    "start_time": "2021-11-10T21:10:01.563Z"
   },
   {
    "duration": 6,
    "start_time": "2021-11-10T21:10:02.821Z"
   },
   {
    "duration": 7,
    "start_time": "2021-11-10T21:10:03.707Z"
   },
   {
    "duration": 158,
    "start_time": "2021-11-10T21:10:04.688Z"
   },
   {
    "duration": 196,
    "start_time": "2021-11-10T21:10:05.736Z"
   },
   {
    "duration": 10,
    "start_time": "2021-11-10T21:10:07.312Z"
   },
   {
    "duration": 3,
    "start_time": "2021-11-10T21:10:09.788Z"
   },
   {
    "duration": 16,
    "start_time": "2021-11-10T21:10:11.108Z"
   },
   {
    "duration": 25,
    "start_time": "2021-11-10T21:10:28.844Z"
   },
   {
    "duration": 3,
    "start_time": "2021-11-10T21:12:30.997Z"
   },
   {
    "duration": 28,
    "start_time": "2021-11-10T21:13:02.272Z"
   },
   {
    "duration": 66,
    "start_time": "2021-11-10T21:16:55.238Z"
   },
   {
    "duration": 28,
    "start_time": "2021-11-10T21:16:56.008Z"
   },
   {
    "duration": 63,
    "start_time": "2021-11-10T21:17:16.593Z"
   },
   {
    "duration": 58,
    "start_time": "2021-11-10T21:17:43.860Z"
   },
   {
    "duration": 53,
    "start_time": "2021-11-10T21:17:57.600Z"
   },
   {
    "duration": 4,
    "start_time": "2021-11-10T21:19:21.781Z"
   },
   {
    "duration": 13,
    "start_time": "2021-11-10T21:19:33.701Z"
   },
   {
    "duration": 4,
    "start_time": "2021-11-10T21:20:40.821Z"
   },
   {
    "duration": 13,
    "start_time": "2021-11-10T21:20:42.705Z"
   },
   {
    "duration": 4,
    "start_time": "2021-11-10T21:21:20.679Z"
   },
   {
    "duration": 12,
    "start_time": "2021-11-10T21:21:21.156Z"
   },
   {
    "duration": 4,
    "start_time": "2021-11-10T21:21:30.029Z"
   },
   {
    "duration": 13,
    "start_time": "2021-11-10T21:21:30.909Z"
   },
   {
    "duration": 587,
    "start_time": "2021-11-11T19:37:02.961Z"
   },
   {
    "duration": 49,
    "start_time": "2021-11-11T19:37:03.689Z"
   },
   {
    "duration": 3,
    "start_time": "2021-11-11T19:37:10.845Z"
   },
   {
    "duration": 47,
    "start_time": "2021-11-11T19:37:11.385Z"
   },
   {
    "duration": 11,
    "start_time": "2021-11-11T19:37:12.006Z"
   },
   {
    "duration": 11,
    "start_time": "2021-11-11T19:37:14.909Z"
   },
   {
    "duration": 17,
    "start_time": "2021-11-11T19:37:17.180Z"
   },
   {
    "duration": 19,
    "start_time": "2021-11-11T19:37:21.184Z"
   },
   {
    "duration": 34,
    "start_time": "2021-11-11T19:37:23.929Z"
   },
   {
    "duration": 26,
    "start_time": "2021-11-11T19:37:39.616Z"
   },
   {
    "duration": 15,
    "start_time": "2021-11-11T19:37:42.049Z"
   },
   {
    "duration": 7,
    "start_time": "2021-11-11T19:37:43.445Z"
   },
   {
    "duration": 6,
    "start_time": "2021-11-11T19:37:44.701Z"
   },
   {
    "duration": 207,
    "start_time": "2021-11-11T19:37:56.233Z"
   },
   {
    "duration": 201,
    "start_time": "2021-11-11T19:37:57.778Z"
   },
   {
    "duration": 11,
    "start_time": "2021-11-11T19:38:01.849Z"
   },
   {
    "duration": 4,
    "start_time": "2021-11-11T19:38:03.377Z"
   },
   {
    "duration": 16,
    "start_time": "2021-11-11T19:38:04.469Z"
   },
   {
    "duration": 524,
    "start_time": "2021-11-11T19:43:17.077Z"
   },
   {
    "duration": 15,
    "start_time": "2021-11-11T19:43:35.441Z"
   },
   {
    "duration": 124,
    "start_time": "2021-11-11T19:56:07.248Z"
   },
   {
    "duration": 89,
    "start_time": "2021-11-11T19:56:26.249Z"
   },
   {
    "duration": 12,
    "start_time": "2021-11-11T19:56:50.136Z"
   },
   {
    "duration": 14,
    "start_time": "2021-11-11T19:58:59.861Z"
   },
   {
    "duration": 14,
    "start_time": "2021-11-11T19:59:21.693Z"
   },
   {
    "duration": 15,
    "start_time": "2021-11-11T20:03:00.570Z"
   },
   {
    "duration": 14,
    "start_time": "2021-11-11T20:10:48.289Z"
   },
   {
    "duration": 16,
    "start_time": "2021-11-11T20:10:51.002Z"
   },
   {
    "duration": 13,
    "start_time": "2021-11-11T20:11:08.666Z"
   },
   {
    "duration": 17,
    "start_time": "2021-11-11T20:11:10.806Z"
   },
   {
    "duration": 16,
    "start_time": "2021-11-11T20:11:48.005Z"
   },
   {
    "duration": 4,
    "start_time": "2021-11-11T20:11:56.565Z"
   },
   {
    "duration": 17,
    "start_time": "2021-11-11T20:12:29.753Z"
   },
   {
    "duration": 26,
    "start_time": "2021-11-11T20:14:30.005Z"
   },
   {
    "duration": 18,
    "start_time": "2021-11-11T20:14:46.833Z"
   },
   {
    "duration": 3,
    "start_time": "2021-11-11T20:15:07.707Z"
   },
   {
    "duration": 59,
    "start_time": "2021-11-11T20:15:08.111Z"
   },
   {
    "duration": 11,
    "start_time": "2021-11-11T20:15:09.095Z"
   },
   {
    "duration": 6,
    "start_time": "2021-11-11T20:15:11.311Z"
   },
   {
    "duration": 13,
    "start_time": "2021-11-11T20:15:12.619Z"
   },
   {
    "duration": 21,
    "start_time": "2021-11-11T20:15:14.559Z"
   },
   {
    "duration": 36,
    "start_time": "2021-11-11T20:15:15.716Z"
   },
   {
    "duration": 27,
    "start_time": "2021-11-11T20:15:16.867Z"
   },
   {
    "duration": 10,
    "start_time": "2021-11-11T20:15:18.559Z"
   },
   {
    "duration": 8,
    "start_time": "2021-11-11T20:15:20.051Z"
   },
   {
    "duration": 8,
    "start_time": "2021-11-11T20:15:20.955Z"
   },
   {
    "duration": 145,
    "start_time": "2021-11-11T20:15:25.883Z"
   },
   {
    "duration": 263,
    "start_time": "2021-11-11T20:15:27.251Z"
   },
   {
    "duration": 11,
    "start_time": "2021-11-11T20:15:29.199Z"
   },
   {
    "duration": 16,
    "start_time": "2021-11-11T20:15:30.315Z"
   },
   {
    "duration": 18,
    "start_time": "2021-11-11T20:15:32.779Z"
   },
   {
    "duration": 16,
    "start_time": "2021-11-11T20:15:34.243Z"
   },
   {
    "duration": 16,
    "start_time": "2021-11-11T20:15:36.716Z"
   },
   {
    "duration": 312,
    "start_time": "2021-11-11T20:34:00.687Z"
   },
   {
    "duration": 16,
    "start_time": "2021-11-11T20:39:57.852Z"
   },
   {
    "duration": 89,
    "start_time": "2021-11-11T20:42:06.467Z"
   },
   {
    "duration": 17,
    "start_time": "2021-11-11T20:42:46.016Z"
   },
   {
    "duration": 16,
    "start_time": "2021-11-11T20:48:53.371Z"
   },
   {
    "duration": 84,
    "start_time": "2021-11-11T20:57:09.635Z"
   },
   {
    "duration": 309,
    "start_time": "2021-11-11T20:59:15.099Z"
   },
   {
    "duration": 348,
    "start_time": "2021-11-11T20:59:47.032Z"
   },
   {
    "duration": 5,
    "start_time": "2021-11-11T21:14:04.483Z"
   },
   {
    "duration": 277,
    "start_time": "2021-11-11T21:14:19.882Z"
   },
   {
    "duration": 6,
    "start_time": "2021-11-11T21:14:25.191Z"
   },
   {
    "duration": 13,
    "start_time": "2021-11-11T21:14:46.847Z"
   },
   {
    "duration": 20,
    "start_time": "2021-11-11T21:22:02.648Z"
   },
   {
    "duration": 320,
    "start_time": "2021-11-11T21:23:30.847Z"
   },
   {
    "duration": 6523,
    "start_time": "2021-11-11T21:24:08.943Z"
   },
   {
    "duration": 29,
    "start_time": "2021-11-11T21:24:35.795Z"
   },
   {
    "duration": 87,
    "start_time": "2021-11-11T21:34:55.728Z"
   },
   {
    "duration": 13,
    "start_time": "2021-11-11T21:39:55.272Z"
   },
   {
    "duration": 16,
    "start_time": "2021-11-11T21:40:51.308Z"
   },
   {
    "duration": 20,
    "start_time": "2021-11-11T21:47:50.356Z"
   },
   {
    "duration": 81,
    "start_time": "2021-11-11T21:47:52.468Z"
   },
   {
    "duration": 9,
    "start_time": "2021-11-11T21:49:21.448Z"
   },
   {
    "duration": 277,
    "start_time": "2021-11-11T21:52:55.240Z"
   },
   {
    "duration": 262,
    "start_time": "2021-11-11T21:53:00.984Z"
   },
   {
    "duration": 18,
    "start_time": "2021-11-11T21:53:08.536Z"
   },
   {
    "duration": 14,
    "start_time": "2021-11-11T21:54:03.245Z"
   },
   {
    "duration": 29,
    "start_time": "2021-11-11T21:56:10.092Z"
   },
   {
    "duration": 13,
    "start_time": "2021-11-11T21:56:25.298Z"
   },
   {
    "duration": 35,
    "start_time": "2021-11-11T21:56:27.745Z"
   },
   {
    "duration": 32,
    "start_time": "2021-11-11T21:56:35.732Z"
   },
   {
    "duration": 14,
    "start_time": "2021-11-11T21:57:22.888Z"
   },
   {
    "duration": 33,
    "start_time": "2021-11-11T21:58:05.454Z"
   },
   {
    "duration": 9,
    "start_time": "2021-11-11T21:59:41.081Z"
   },
   {
    "duration": 10,
    "start_time": "2021-11-11T22:01:00.309Z"
   },
   {
    "duration": 16,
    "start_time": "2021-11-11T22:02:27.561Z"
   },
   {
    "duration": 667,
    "start_time": "2021-11-12T09:56:51.418Z"
   },
   {
    "duration": 53,
    "start_time": "2021-11-12T09:56:52.087Z"
   },
   {
    "duration": 12,
    "start_time": "2021-11-12T09:56:52.418Z"
   },
   {
    "duration": 12,
    "start_time": "2021-11-12T09:56:53.950Z"
   },
   {
    "duration": 16,
    "start_time": "2021-11-12T09:56:55.386Z"
   },
   {
    "duration": 21,
    "start_time": "2021-11-12T09:56:57.542Z"
   },
   {
    "duration": 36,
    "start_time": "2021-11-12T09:56:58.538Z"
   },
   {
    "duration": 29,
    "start_time": "2021-11-12T09:56:59.882Z"
   },
   {
    "duration": 11,
    "start_time": "2021-11-12T09:57:01.650Z"
   },
   {
    "duration": 6,
    "start_time": "2021-11-12T09:57:03.226Z"
   },
   {
    "duration": 6,
    "start_time": "2021-11-12T09:57:24.574Z"
   },
   {
    "duration": 209,
    "start_time": "2021-11-12T09:57:26.194Z"
   },
   {
    "duration": 194,
    "start_time": "2021-11-12T09:57:27.694Z"
   },
   {
    "duration": 10,
    "start_time": "2021-11-12T09:57:29.170Z"
   },
   {
    "duration": 14,
    "start_time": "2021-11-12T09:58:24.474Z"
   },
   {
    "duration": 17,
    "start_time": "2021-11-12T09:58:25.654Z"
   },
   {
    "duration": 15,
    "start_time": "2021-11-12T09:58:27.842Z"
   },
   {
    "duration": 17,
    "start_time": "2021-11-12T09:58:28.794Z"
   },
   {
    "duration": 14,
    "start_time": "2021-11-12T09:58:31.874Z"
   },
   {
    "duration": 17,
    "start_time": "2021-11-12T09:58:33.258Z"
   },
   {
    "duration": 14,
    "start_time": "2021-11-12T09:58:34.522Z"
   },
   {
    "duration": 1407,
    "start_time": "2021-11-12T10:26:12.131Z"
   },
   {
    "duration": 8919,
    "start_time": "2021-11-12T10:27:13.499Z"
   },
   {
    "duration": 1345,
    "start_time": "2021-11-12T10:27:39.975Z"
   },
   {
    "duration": 1560,
    "start_time": "2021-11-12T10:29:05.887Z"
   },
   {
    "duration": 1674,
    "start_time": "2021-11-12T10:30:02.535Z"
   },
   {
    "duration": 267,
    "start_time": "2021-11-12T17:12:17.083Z"
   },
   {
    "duration": 268,
    "start_time": "2021-11-12T17:14:55.819Z"
   },
   {
    "duration": 277,
    "start_time": "2021-11-12T17:15:09.787Z"
   },
   {
    "duration": 12,
    "start_time": "2021-11-12T17:15:52.035Z"
   },
   {
    "duration": 8,
    "start_time": "2021-11-12T17:16:12.578Z"
   },
   {
    "duration": 308,
    "start_time": "2021-11-12T17:22:50.451Z"
   },
   {
    "duration": 20,
    "start_time": "2021-11-12T17:25:23.823Z"
   },
   {
    "duration": 95,
    "start_time": "2021-11-12T17:29:31.934Z"
   },
   {
    "duration": 84,
    "start_time": "2021-11-12T17:30:23.855Z"
   },
   {
    "duration": 87,
    "start_time": "2021-11-12T17:30:32.959Z"
   },
   {
    "duration": 93,
    "start_time": "2021-11-12T17:30:56.319Z"
   },
   {
    "duration": 96,
    "start_time": "2021-11-12T17:31:20.511Z"
   },
   {
    "duration": 284,
    "start_time": "2021-11-12T17:33:25.259Z"
   },
   {
    "duration": 281,
    "start_time": "2021-11-12T17:33:40.127Z"
   },
   {
    "duration": 93,
    "start_time": "2021-11-12T17:34:00.738Z"
   },
   {
    "duration": 93,
    "start_time": "2021-11-12T17:35:27.111Z"
   },
   {
    "duration": 831,
    "start_time": "2021-11-12T17:35:48.775Z"
   },
   {
    "duration": 891,
    "start_time": "2021-11-12T17:36:02.295Z"
   },
   {
    "duration": 94,
    "start_time": "2021-11-12T17:36:37.235Z"
   },
   {
    "duration": 96,
    "start_time": "2021-11-12T17:36:49.971Z"
   },
   {
    "duration": 96,
    "start_time": "2021-11-12T17:37:27.482Z"
   },
   {
    "duration": 124,
    "start_time": "2021-11-12T17:39:22.403Z"
   },
   {
    "duration": 91,
    "start_time": "2021-11-12T17:39:44.143Z"
   },
   {
    "duration": 33,
    "start_time": "2021-11-12T17:41:23.851Z"
   },
   {
    "duration": 20,
    "start_time": "2021-11-12T17:41:57.639Z"
   },
   {
    "duration": 23,
    "start_time": "2021-11-12T17:43:01.299Z"
   },
   {
    "duration": 90,
    "start_time": "2021-11-12T17:43:57.947Z"
   },
   {
    "duration": 6811,
    "start_time": "2021-11-12T17:44:11.891Z"
   },
   {
    "duration": 281,
    "start_time": "2021-11-12T17:45:10.919Z"
   },
   {
    "duration": 300,
    "start_time": "2021-11-12T17:45:47.051Z"
   },
   {
    "duration": 299,
    "start_time": "2021-11-12T17:45:55.236Z"
   },
   {
    "duration": 24,
    "start_time": "2021-11-12T17:46:09.725Z"
   },
   {
    "duration": 23,
    "start_time": "2021-11-12T17:48:02.068Z"
   },
   {
    "duration": 26,
    "start_time": "2021-11-12T17:50:00.576Z"
   },
   {
    "duration": 28,
    "start_time": "2021-11-12T18:28:24.821Z"
   },
   {
    "duration": 267,
    "start_time": "2021-11-12T18:33:26.034Z"
   },
   {
    "duration": 333,
    "start_time": "2021-11-12T18:45:14.018Z"
   },
   {
    "duration": 3,
    "start_time": "2021-11-12T18:45:45.822Z"
   },
   {
    "duration": 264,
    "start_time": "2021-11-12T18:45:54.901Z"
   },
   {
    "duration": 2694,
    "start_time": "2021-11-12T18:48:21.494Z"
   },
   {
    "duration": 1962,
    "start_time": "2021-11-12T18:54:06.957Z"
   },
   {
    "duration": 16,
    "start_time": "2021-11-12T18:55:19.046Z"
   },
   {
    "duration": 718,
    "start_time": "2021-11-13T17:34:36.135Z"
   },
   {
    "duration": 63,
    "start_time": "2021-11-13T17:34:36.855Z"
   },
   {
    "duration": 15,
    "start_time": "2021-11-13T17:34:37.548Z"
   },
   {
    "duration": 16,
    "start_time": "2021-11-13T17:34:39.059Z"
   },
   {
    "duration": 22,
    "start_time": "2021-11-13T17:34:40.299Z"
   },
   {
    "duration": 29,
    "start_time": "2021-11-13T17:34:42.467Z"
   },
   {
    "duration": 58,
    "start_time": "2021-11-13T17:34:43.371Z"
   },
   {
    "duration": 43,
    "start_time": "2021-11-13T17:34:44.212Z"
   },
   {
    "duration": 13,
    "start_time": "2021-11-13T17:34:45.547Z"
   },
   {
    "duration": 8,
    "start_time": "2021-11-13T17:34:46.391Z"
   },
   {
    "duration": 10,
    "start_time": "2021-11-13T17:34:47.083Z"
   },
   {
    "duration": 331,
    "start_time": "2021-11-13T17:34:47.967Z"
   },
   {
    "duration": 309,
    "start_time": "2021-11-13T17:34:48.848Z"
   },
   {
    "duration": 39,
    "start_time": "2021-11-13T17:34:49.451Z"
   },
   {
    "duration": 96,
    "start_time": "2021-11-13T17:34:51.319Z"
   },
   {
    "duration": 16,
    "start_time": "2021-11-13T17:34:52.183Z"
   },
   {
    "duration": 18,
    "start_time": "2021-11-13T17:34:53.079Z"
   },
   {
    "duration": 23,
    "start_time": "2021-11-13T17:34:54.027Z"
   },
   {
    "duration": 20,
    "start_time": "2021-11-13T17:34:55.351Z"
   },
   {
    "duration": 23,
    "start_time": "2021-11-13T17:34:57.191Z"
   },
   {
    "duration": 19,
    "start_time": "2021-11-13T17:34:59.943Z"
   },
   {
    "duration": 26,
    "start_time": "2021-11-13T17:35:00.635Z"
   },
   {
    "duration": 17,
    "start_time": "2021-11-13T17:35:01.439Z"
   },
   {
    "duration": 21,
    "start_time": "2021-11-13T17:35:04.476Z"
   },
   {
    "duration": 41,
    "start_time": "2021-11-13T17:35:06.107Z"
   },
   {
    "duration": 13,
    "start_time": "2021-11-13T17:35:07.844Z"
   },
   {
    "duration": 22,
    "start_time": "2021-11-13T17:35:14.235Z"
   },
   {
    "duration": 4637,
    "start_time": "2021-11-13T17:35:29.768Z"
   },
   {
    "duration": 29,
    "start_time": "2021-11-13T17:35:34.408Z"
   },
   {
    "duration": 4,
    "start_time": "2021-11-13T17:50:02.200Z"
   },
   {
    "duration": 4,
    "start_time": "2021-11-13T17:52:39.337Z"
   },
   {
    "duration": 5,
    "start_time": "2021-11-13T17:53:58.192Z"
   },
   {
    "duration": 373,
    "start_time": "2021-11-13T17:54:42.884Z"
   },
   {
    "duration": 382,
    "start_time": "2021-11-13T17:54:51.340Z"
   },
   {
    "duration": 4815,
    "start_time": "2021-11-13T17:58:25.980Z"
   },
   {
    "duration": 4895,
    "start_time": "2021-11-13T17:58:58.012Z"
   },
   {
    "duration": 5,
    "start_time": "2021-11-13T17:59:56.816Z"
   },
   {
    "duration": 4079,
    "start_time": "2021-11-13T17:59:57.396Z"
   },
   {
    "duration": 297,
    "start_time": "2021-11-13T18:01:58.056Z"
   },
   {
    "duration": 3575,
    "start_time": "2021-11-13T18:02:27.320Z"
   },
   {
    "duration": 3739,
    "start_time": "2021-11-13T18:03:27.520Z"
   },
   {
    "duration": 4065,
    "start_time": "2021-11-13T18:04:29.488Z"
   },
   {
    "duration": 103,
    "start_time": "2021-11-13T18:05:34.984Z"
   },
   {
    "duration": 3611,
    "start_time": "2021-11-13T18:05:40.956Z"
   },
   {
    "duration": 240,
    "start_time": "2021-11-13T18:05:50.508Z"
   },
   {
    "duration": 24,
    "start_time": "2021-11-13T18:09:43.932Z"
   },
   {
    "duration": 2212,
    "start_time": "2021-11-13T18:09:49.144Z"
   },
   {
    "duration": 25,
    "start_time": "2021-11-13T18:09:51.404Z"
   },
   {
    "duration": 3692,
    "start_time": "2021-11-13T18:09:58.304Z"
   },
   {
    "duration": 229,
    "start_time": "2021-11-13T18:10:08.644Z"
   },
   {
    "duration": 8,
    "start_time": "2021-11-13T19:12:55.469Z"
   },
   {
    "duration": 15,
    "start_time": "2021-11-13T19:14:33.409Z"
   },
   {
    "duration": 17,
    "start_time": "2021-11-13T19:19:54.853Z"
   },
   {
    "duration": 59,
    "start_time": "2021-11-13T19:20:14.517Z"
   },
   {
    "duration": 25,
    "start_time": "2021-11-13T19:20:36.069Z"
   },
   {
    "duration": 21,
    "start_time": "2021-11-13T19:21:06.133Z"
   },
   {
    "duration": 14,
    "start_time": "2021-11-13T19:21:16.045Z"
   },
   {
    "duration": 14,
    "start_time": "2021-11-13T19:21:22.373Z"
   },
   {
    "duration": 11,
    "start_time": "2021-11-13T19:23:22.673Z"
   },
   {
    "duration": 11,
    "start_time": "2021-11-13T19:23:29.801Z"
   },
   {
    "duration": 13,
    "start_time": "2021-11-13T19:23:45.445Z"
   },
   {
    "duration": 28,
    "start_time": "2021-11-13T19:24:00.169Z"
   },
   {
    "duration": 9,
    "start_time": "2021-11-13T19:26:18.485Z"
   },
   {
    "duration": 7,
    "start_time": "2021-11-13T19:26:35.465Z"
   },
   {
    "duration": 7,
    "start_time": "2021-11-13T19:27:00.061Z"
   },
   {
    "duration": 7,
    "start_time": "2021-11-13T19:36:31.053Z"
   },
   {
    "duration": 16,
    "start_time": "2021-11-13T19:36:50.188Z"
   },
   {
    "duration": 7,
    "start_time": "2021-11-13T19:37:01.817Z"
   },
   {
    "duration": 7,
    "start_time": "2021-11-13T19:37:06.380Z"
   },
   {
    "duration": 39,
    "start_time": "2021-11-13T19:38:40.816Z"
   },
   {
    "duration": 66,
    "start_time": "2021-11-13T19:38:41.464Z"
   },
   {
    "duration": 15,
    "start_time": "2021-11-13T19:38:42.056Z"
   },
   {
    "duration": 6,
    "start_time": "2021-11-13T19:38:50.324Z"
   },
   {
    "duration": 16,
    "start_time": "2021-11-13T19:38:56.428Z"
   },
   {
    "duration": 14,
    "start_time": "2021-11-13T19:39:06.460Z"
   },
   {
    "duration": 8,
    "start_time": "2021-11-13T19:44:34.261Z"
   },
   {
    "duration": 8354,
    "start_time": "2021-11-13T20:00:20.105Z"
   },
   {
    "duration": 7252,
    "start_time": "2021-11-13T20:01:09.561Z"
   },
   {
    "duration": 23,
    "start_time": "2021-11-13T20:03:54.897Z"
   },
   {
    "duration": 29,
    "start_time": "2021-11-13T20:04:56.717Z"
   },
   {
    "duration": 27,
    "start_time": "2021-11-13T20:06:05.317Z"
   },
   {
    "duration": 29,
    "start_time": "2021-11-13T20:06:20.755Z"
   },
   {
    "duration": 28,
    "start_time": "2021-11-13T20:08:36.809Z"
   },
   {
    "duration": 141,
    "start_time": "2021-11-13T20:09:13.353Z"
   },
   {
    "duration": 119,
    "start_time": "2021-11-13T20:09:27.761Z"
   },
   {
    "duration": 97,
    "start_time": "2021-11-13T20:09:37.893Z"
   },
   {
    "duration": 102,
    "start_time": "2021-11-13T20:09:48.565Z"
   },
   {
    "duration": 105,
    "start_time": "2021-11-13T20:09:52.801Z"
   },
   {
    "duration": 355,
    "start_time": "2021-11-13T20:13:13.705Z"
   },
   {
    "duration": 155,
    "start_time": "2021-11-13T20:13:29.977Z"
   },
   {
    "duration": 11,
    "start_time": "2021-11-13T20:13:49.337Z"
   },
   {
    "duration": 18,
    "start_time": "2021-11-13T20:14:30.438Z"
   },
   {
    "duration": 379,
    "start_time": "2021-11-13T20:14:57.197Z"
   },
   {
    "duration": 14,
    "start_time": "2021-11-13T20:15:30.893Z"
   },
   {
    "duration": 14,
    "start_time": "2021-11-13T20:15:33.597Z"
   },
   {
    "duration": 16,
    "start_time": "2021-11-13T20:18:12.357Z"
   },
   {
    "duration": 16,
    "start_time": "2021-11-13T20:18:13.011Z"
   },
   {
    "duration": 13,
    "start_time": "2021-11-13T20:18:40.285Z"
   },
   {
    "duration": 19,
    "start_time": "2021-11-13T20:19:04.010Z"
   },
   {
    "duration": 14,
    "start_time": "2021-11-13T20:19:04.701Z"
   },
   {
    "duration": 16,
    "start_time": "2021-11-13T20:19:30.836Z"
   },
   {
    "duration": 4,
    "start_time": "2021-11-13T20:19:53.121Z"
   },
   {
    "duration": 24,
    "start_time": "2021-11-13T20:19:53.777Z"
   },
   {
    "duration": 25,
    "start_time": "2021-11-13T20:20:38.109Z"
   },
   {
    "duration": 24,
    "start_time": "2021-11-13T20:20:51.261Z"
   },
   {
    "duration": 17,
    "start_time": "2021-11-13T20:21:11.350Z"
   },
   {
    "duration": 8,
    "start_time": "2021-11-13T20:21:15.381Z"
   },
   {
    "duration": 14,
    "start_time": "2021-11-13T20:21:41.549Z"
   },
   {
    "duration": 14,
    "start_time": "2021-11-13T20:22:05.057Z"
   },
   {
    "duration": 311,
    "start_time": "2021-11-13T20:29:57.487Z"
   },
   {
    "duration": 683,
    "start_time": "2021-11-13T20:30:14.935Z"
   },
   {
    "duration": 14,
    "start_time": "2021-11-13T20:30:22.679Z"
   },
   {
    "duration": 16,
    "start_time": "2021-11-13T20:30:32.278Z"
   },
   {
    "duration": 64,
    "start_time": "2021-11-13T20:30:33.788Z"
   },
   {
    "duration": 14,
    "start_time": "2021-11-13T20:30:37.991Z"
   },
   {
    "duration": 4,
    "start_time": "2021-11-13T20:30:45.051Z"
   },
   {
    "duration": 65,
    "start_time": "2021-11-13T20:30:45.579Z"
   },
   {
    "duration": 23,
    "start_time": "2021-11-13T20:30:46.120Z"
   },
   {
    "duration": 4,
    "start_time": "2021-11-13T20:31:16.130Z"
   },
   {
    "duration": 13,
    "start_time": "2021-11-13T20:31:17.151Z"
   },
   {
    "duration": 16,
    "start_time": "2021-11-13T20:31:18.451Z"
   },
   {
    "duration": 4,
    "start_time": "2021-11-13T20:31:28.056Z"
   },
   {
    "duration": 299,
    "start_time": "2021-11-13T20:31:28.587Z"
   },
   {
    "duration": 15,
    "start_time": "2021-11-13T20:31:29.195Z"
   },
   {
    "duration": 4,
    "start_time": "2021-11-13T20:31:40.844Z"
   },
   {
    "duration": 60,
    "start_time": "2021-11-13T20:31:41.239Z"
   },
   {
    "duration": 15,
    "start_time": "2021-11-13T20:31:41.503Z"
   },
   {
    "duration": 5,
    "start_time": "2021-11-13T20:31:51.647Z"
   },
   {
    "duration": 14,
    "start_time": "2021-11-13T20:31:52.307Z"
   },
   {
    "duration": 15,
    "start_time": "2021-11-13T20:31:53.595Z"
   },
   {
    "duration": 15,
    "start_time": "2021-11-13T20:32:34.440Z"
   },
   {
    "duration": 16,
    "start_time": "2021-11-13T20:32:36.412Z"
   },
   {
    "duration": 4,
    "start_time": "2021-11-13T20:32:43.063Z"
   },
   {
    "duration": 61,
    "start_time": "2021-11-13T20:32:43.252Z"
   },
   {
    "duration": 15,
    "start_time": "2021-11-13T20:32:43.415Z"
   },
   {
    "duration": 8,
    "start_time": "2021-11-13T20:32:43.923Z"
   },
   {
    "duration": 21,
    "start_time": "2021-11-13T20:32:44.455Z"
   },
   {
    "duration": 26,
    "start_time": "2021-11-13T20:32:45.499Z"
   },
   {
    "duration": 47,
    "start_time": "2021-11-13T20:32:45.827Z"
   },
   {
    "duration": 41,
    "start_time": "2021-11-13T20:32:46.191Z"
   },
   {
    "duration": 13,
    "start_time": "2021-11-13T20:32:46.799Z"
   },
   {
    "duration": 8,
    "start_time": "2021-11-13T20:32:47.243Z"
   },
   {
    "duration": 9,
    "start_time": "2021-11-13T20:32:47.863Z"
   },
   {
    "duration": 236,
    "start_time": "2021-11-13T20:32:48.675Z"
   },
   {
    "duration": 322,
    "start_time": "2021-11-13T20:32:49.611Z"
   },
   {
    "duration": 40,
    "start_time": "2021-11-13T20:32:50.147Z"
   },
   {
    "duration": 97,
    "start_time": "2021-11-13T20:32:50.671Z"
   },
   {
    "duration": 14,
    "start_time": "2021-11-13T20:32:53.447Z"
   },
   {
    "duration": 18,
    "start_time": "2021-11-13T20:32:54.519Z"
   },
   {
    "duration": 22,
    "start_time": "2021-11-13T20:32:55.106Z"
   },
   {
    "duration": 20,
    "start_time": "2021-11-13T20:32:55.847Z"
   },
   {
    "duration": 23,
    "start_time": "2021-11-13T20:32:56.391Z"
   },
   {
    "duration": 19,
    "start_time": "2021-11-13T20:32:58.815Z"
   },
   {
    "duration": 24,
    "start_time": "2021-11-13T20:32:59.671Z"
   },
   {
    "duration": 17,
    "start_time": "2021-11-13T20:33:00.487Z"
   },
   {
    "duration": 21,
    "start_time": "2021-11-13T20:33:04.047Z"
   },
   {
    "duration": 40,
    "start_time": "2021-11-13T20:33:04.615Z"
   },
   {
    "duration": 14,
    "start_time": "2021-11-13T20:33:05.471Z"
   },
   {
    "duration": 24,
    "start_time": "2021-11-13T20:33:06.219Z"
   },
   {
    "duration": 3715,
    "start_time": "2021-11-13T20:33:07.703Z"
   },
   {
    "duration": 21,
    "start_time": "2021-11-13T20:33:11.423Z"
   },
   {
    "duration": 3719,
    "start_time": "2021-11-13T20:33:11.447Z"
   },
   {
    "duration": 253,
    "start_time": "2021-11-13T20:33:15.169Z"
   },
   {
    "duration": 7,
    "start_time": "2021-11-13T20:33:21.643Z"
   },
   {
    "duration": 14,
    "start_time": "2021-11-13T20:33:22.551Z"
   },
   {
    "duration": 8,
    "start_time": "2021-11-13T20:33:22.947Z"
   },
   {
    "duration": 4,
    "start_time": "2021-11-13T20:33:23.459Z"
   },
   {
    "duration": 8686,
    "start_time": "2021-11-13T20:33:24.159Z"
   },
   {
    "duration": -1054,
    "start_time": "2021-11-13T20:33:33.903Z"
   },
   {
    "duration": 19,
    "start_time": "2021-11-13T20:34:18.579Z"
   },
   {
    "duration": 17,
    "start_time": "2021-11-13T20:34:21.156Z"
   },
   {
    "duration": 18,
    "start_time": "2021-11-13T20:36:43.400Z"
   },
   {
    "duration": 13,
    "start_time": "2021-11-13T20:36:44.160Z"
   },
   {
    "duration": 311,
    "start_time": "2021-11-13T20:41:42.387Z"
   },
   {
    "duration": 5,
    "start_time": "2021-11-13T20:41:47.959Z"
   },
   {
    "duration": 20,
    "start_time": "2021-11-13T20:41:48.347Z"
   },
   {
    "duration": 18,
    "start_time": "2021-11-13T20:43:02.948Z"
   },
   {
    "duration": 13,
    "start_time": "2021-11-13T20:43:44.344Z"
   },
   {
    "duration": 15,
    "start_time": "2021-11-13T20:43:50.999Z"
   },
   {
    "duration": 16,
    "start_time": "2021-11-13T20:44:04.103Z"
   },
   {
    "duration": 7,
    "start_time": "2021-11-13T20:45:16.968Z"
   },
   {
    "duration": 288,
    "start_time": "2021-11-13T20:54:32.468Z"
   },
   {
    "duration": 11,
    "start_time": "2021-11-13T20:54:39.972Z"
   },
   {
    "duration": 20,
    "start_time": "2021-11-13T20:56:17.132Z"
   },
   {
    "duration": 26,
    "start_time": "2021-11-13T21:08:59.760Z"
   },
   {
    "duration": 17,
    "start_time": "2021-11-13T21:10:36.688Z"
   },
   {
    "duration": 13,
    "start_time": "2021-11-13T21:14:21.596Z"
   },
   {
    "duration": 4,
    "start_time": "2021-11-13T21:17:53.220Z"
   },
   {
    "duration": 10,
    "start_time": "2021-11-13T21:17:54.404Z"
   },
   {
    "duration": 18,
    "start_time": "2021-11-13T21:17:56.848Z"
   },
   {
    "duration": 225,
    "start_time": "2021-11-13T21:18:49.544Z"
   },
   {
    "duration": 294,
    "start_time": "2021-11-13T21:19:25.880Z"
   },
   {
    "duration": 812,
    "start_time": "2021-11-14T17:38:00.308Z"
   },
   {
    "duration": 71,
    "start_time": "2021-11-14T17:38:01.123Z"
   },
   {
    "duration": 16,
    "start_time": "2021-11-14T17:38:02.140Z"
   },
   {
    "duration": 17,
    "start_time": "2021-11-14T17:38:03.652Z"
   },
   {
    "duration": 23,
    "start_time": "2021-11-14T17:38:04.844Z"
   },
   {
    "duration": 28,
    "start_time": "2021-11-14T17:38:06.900Z"
   },
   {
    "duration": 50,
    "start_time": "2021-11-14T17:38:07.806Z"
   },
   {
    "duration": 41,
    "start_time": "2021-11-14T17:38:08.644Z"
   },
   {
    "duration": 13,
    "start_time": "2021-11-14T17:38:09.876Z"
   },
   {
    "duration": 8,
    "start_time": "2021-11-14T17:38:10.812Z"
   },
   {
    "duration": 8,
    "start_time": "2021-11-14T17:38:11.528Z"
   },
   {
    "duration": 340,
    "start_time": "2021-11-14T17:38:12.308Z"
   },
   {
    "duration": 311,
    "start_time": "2021-11-14T17:38:13.447Z"
   },
   {
    "duration": 39,
    "start_time": "2021-11-14T17:38:14.024Z"
   },
   {
    "duration": 93,
    "start_time": "2021-11-14T17:38:14.792Z"
   },
   {
    "duration": 15,
    "start_time": "2021-11-14T17:38:15.892Z"
   },
   {
    "duration": 18,
    "start_time": "2021-11-14T17:38:16.748Z"
   },
   {
    "duration": 24,
    "start_time": "2021-11-14T17:38:17.556Z"
   },
   {
    "duration": 19,
    "start_time": "2021-11-14T17:38:18.304Z"
   },
   {
    "duration": 24,
    "start_time": "2021-11-14T17:38:18.904Z"
   },
   {
    "duration": 22,
    "start_time": "2021-11-14T17:38:21.120Z"
   },
   {
    "duration": 28,
    "start_time": "2021-11-14T17:38:22.136Z"
   },
   {
    "duration": 18,
    "start_time": "2021-11-14T17:38:24.267Z"
   },
   {
    "duration": 22,
    "start_time": "2021-11-14T17:38:27.148Z"
   },
   {
    "duration": 42,
    "start_time": "2021-11-14T17:38:28.044Z"
   },
   {
    "duration": 13,
    "start_time": "2021-11-14T17:38:29.124Z"
   },
   {
    "duration": 24,
    "start_time": "2021-11-14T17:38:30.412Z"
   },
   {
    "duration": 3347,
    "start_time": "2021-11-14T17:38:32.513Z"
   },
   {
    "duration": 18,
    "start_time": "2021-11-14T17:38:35.863Z"
   },
   {
    "duration": 3759,
    "start_time": "2021-11-14T17:38:45.484Z"
   },
   {
    "duration": 272,
    "start_time": "2021-11-14T17:38:49.245Z"
   },
   {
    "duration": 7,
    "start_time": "2021-11-14T17:38:51.384Z"
   },
   {
    "duration": 14,
    "start_time": "2021-11-14T17:38:52.456Z"
   },
   {
    "duration": 7,
    "start_time": "2021-11-14T17:38:53.732Z"
   },
   {
    "duration": 4,
    "start_time": "2021-11-14T17:38:54.272Z"
   },
   {
    "duration": 5,
    "start_time": "2021-11-14T17:39:30.816Z"
   },
   {
    "duration": 19,
    "start_time": "2021-11-14T17:39:32.136Z"
   },
   {
    "duration": 19,
    "start_time": "2021-11-14T17:39:33.844Z"
   },
   {
    "duration": 3,
    "start_time": "2021-11-14T17:39:57.332Z"
   },
   {
    "duration": 19,
    "start_time": "2021-11-14T17:42:16.748Z"
   },
   {
    "duration": 15,
    "start_time": "2021-11-14T17:42:31.364Z"
   },
   {
    "duration": 4,
    "start_time": "2021-11-14T17:42:41.604Z"
   },
   {
    "duration": 11,
    "start_time": "2021-11-14T17:42:42.616Z"
   },
   {
    "duration": 19,
    "start_time": "2021-11-14T17:42:43.728Z"
   },
   {
    "duration": 331,
    "start_time": "2021-11-14T17:42:45.796Z"
   },
   {
    "duration": 21,
    "start_time": "2021-11-14T17:42:50.420Z"
   },
   {
    "duration": 25,
    "start_time": "2021-11-14T17:42:57.245Z"
   },
   {
    "duration": 15,
    "start_time": "2021-11-14T17:42:58.285Z"
   },
   {
    "duration": 115,
    "start_time": "2021-11-14T18:02:48.256Z"
   },
   {
    "duration": 6,
    "start_time": "2021-11-14T18:03:00.812Z"
   },
   {
    "duration": 426,
    "start_time": "2021-11-14T18:04:13.468Z"
   },
   {
    "duration": 6,
    "start_time": "2021-11-14T18:09:20.305Z"
   },
   {
    "duration": 483,
    "start_time": "2021-11-14T18:09:24.413Z"
   },
   {
    "duration": 6,
    "start_time": "2021-11-14T18:10:37.624Z"
   },
   {
    "duration": 392,
    "start_time": "2021-11-14T18:10:40.905Z"
   },
   {
    "duration": 685,
    "start_time": "2021-11-14T18:11:55.021Z"
   },
   {
    "duration": 5,
    "start_time": "2021-11-14T18:12:53.085Z"
   },
   {
    "duration": 654,
    "start_time": "2021-11-14T18:12:54.312Z"
   },
   {
    "duration": 5,
    "start_time": "2021-11-14T18:13:38.038Z"
   },
   {
    "duration": 628,
    "start_time": "2021-11-14T18:13:38.649Z"
   },
   {
    "duration": 96,
    "start_time": "2021-11-14T18:15:45.645Z"
   },
   {
    "duration": 5,
    "start_time": "2021-11-14T18:16:26.233Z"
   },
   {
    "duration": 689,
    "start_time": "2021-11-14T18:16:27.804Z"
   },
   {
    "duration": 96,
    "start_time": "2021-11-14T18:19:14.817Z"
   },
   {
    "duration": 93,
    "start_time": "2021-11-14T18:19:55.749Z"
   },
   {
    "duration": 6,
    "start_time": "2021-11-14T18:20:06.665Z"
   },
   {
    "duration": 651,
    "start_time": "2021-11-14T18:20:07.697Z"
   },
   {
    "duration": 359,
    "start_time": "2021-11-14T18:20:41.648Z"
   },
   {
    "duration": 583,
    "start_time": "2021-11-14T18:20:54.428Z"
   },
   {
    "duration": 611,
    "start_time": "2021-11-14T18:21:02.616Z"
   },
   {
    "duration": 5,
    "start_time": "2021-11-14T18:32:52.241Z"
   },
   {
    "duration": 8884,
    "start_time": "2021-11-14T18:32:54.008Z"
   },
   {
    "duration": 7773,
    "start_time": "2021-11-14T18:33:20.697Z"
   },
   {
    "duration": 369,
    "start_time": "2021-11-14T18:34:06.405Z"
   },
   {
    "duration": 6,
    "start_time": "2021-11-14T18:37:54.792Z"
   },
   {
    "duration": 4096,
    "start_time": "2021-11-14T18:37:56.720Z"
   },
   {
    "duration": 6,
    "start_time": "2021-11-14T18:38:28.632Z"
   },
   {
    "duration": 3912,
    "start_time": "2021-11-14T18:38:29.221Z"
   },
   {
    "duration": 5909,
    "start_time": "2021-11-14T18:38:47.965Z"
   },
   {
    "duration": 6,
    "start_time": "2021-11-14T18:40:16.569Z"
   },
   {
    "duration": 44,
    "start_time": "2021-11-14T18:41:17.073Z"
   },
   {
    "duration": 67,
    "start_time": "2021-11-14T18:41:18.365Z"
   },
   {
    "duration": 15,
    "start_time": "2021-11-14T18:41:19.173Z"
   },
   {
    "duration": 9,
    "start_time": "2021-11-14T18:41:24.281Z"
   },
   {
    "duration": 21,
    "start_time": "2021-11-14T18:41:25.685Z"
   },
   {
    "duration": 26,
    "start_time": "2021-11-14T18:41:27.681Z"
   },
   {
    "duration": 48,
    "start_time": "2021-11-14T18:41:28.421Z"
   },
   {
    "duration": 40,
    "start_time": "2021-11-14T18:41:29.545Z"
   },
   {
    "duration": 13,
    "start_time": "2021-11-14T18:41:30.741Z"
   },
   {
    "duration": 8,
    "start_time": "2021-11-14T18:41:31.313Z"
   },
   {
    "duration": 9,
    "start_time": "2021-11-14T18:41:32.268Z"
   },
   {
    "duration": 347,
    "start_time": "2021-11-14T18:41:32.829Z"
   },
   {
    "duration": 322,
    "start_time": "2021-11-14T18:41:33.625Z"
   },
   {
    "duration": 38,
    "start_time": "2021-11-14T18:41:33.953Z"
   },
   {
    "duration": 94,
    "start_time": "2021-11-14T18:41:34.292Z"
   },
   {
    "duration": 15,
    "start_time": "2021-11-14T18:41:36.285Z"
   },
   {
    "duration": 19,
    "start_time": "2021-11-14T18:41:37.208Z"
   },
   {
    "duration": 22,
    "start_time": "2021-11-14T18:41:37.977Z"
   },
   {
    "duration": 19,
    "start_time": "2021-11-14T18:41:38.831Z"
   },
   {
    "duration": 23,
    "start_time": "2021-11-14T18:41:39.369Z"
   },
   {
    "duration": 20,
    "start_time": "2021-11-14T18:41:41.397Z"
   },
   {
    "duration": 24,
    "start_time": "2021-11-14T18:41:42.545Z"
   },
   {
    "duration": 18,
    "start_time": "2021-11-14T18:41:46.733Z"
   },
   {
    "duration": 20,
    "start_time": "2021-11-14T18:41:49.001Z"
   },
   {
    "duration": 41,
    "start_time": "2021-11-14T18:41:49.425Z"
   },
   {
    "duration": 14,
    "start_time": "2021-11-14T18:41:50.033Z"
   },
   {
    "duration": 24,
    "start_time": "2021-11-14T18:41:51.145Z"
   },
   {
    "duration": 3315,
    "start_time": "2021-11-14T18:41:52.845Z"
   },
   {
    "duration": 20,
    "start_time": "2021-11-14T18:41:56.163Z"
   },
   {
    "duration": 3887,
    "start_time": "2021-11-14T18:42:06.453Z"
   },
   {
    "duration": 275,
    "start_time": "2021-11-14T18:42:10.343Z"
   },
   {
    "duration": 7,
    "start_time": "2021-11-14T18:42:18.937Z"
   },
   {
    "duration": 14,
    "start_time": "2021-11-14T18:42:19.817Z"
   },
   {
    "duration": 8,
    "start_time": "2021-11-14T18:42:20.029Z"
   },
   {
    "duration": 4,
    "start_time": "2021-11-14T18:42:20.305Z"
   },
   {
    "duration": 19,
    "start_time": "2021-11-14T18:42:20.765Z"
   },
   {
    "duration": 19,
    "start_time": "2021-11-14T18:42:22.177Z"
   },
   {
    "duration": 8,
    "start_time": "2021-11-14T18:42:22.542Z"
   },
   {
    "duration": 11,
    "start_time": "2021-11-14T18:42:22.961Z"
   },
   {
    "duration": 20,
    "start_time": "2021-11-14T18:42:23.417Z"
   },
   {
    "duration": 255,
    "start_time": "2021-11-14T18:42:24.093Z"
   },
   {
    "duration": 20,
    "start_time": "2021-11-14T18:42:24.965Z"
   },
   {
    "duration": 25,
    "start_time": "2021-11-14T18:42:25.557Z"
   },
   {
    "duration": 15,
    "start_time": "2021-11-14T18:42:26.341Z"
   },
   {
    "duration": 6,
    "start_time": "2021-11-14T18:42:30.181Z"
   },
   {
    "duration": 5,
    "start_time": "2021-11-14T18:42:32.817Z"
   },
   {
    "duration": 4758,
    "start_time": "2021-11-14T18:42:35.713Z"
   },
   {
    "duration": 5,
    "start_time": "2021-11-14T18:44:11.357Z"
   },
   {
    "duration": 4367,
    "start_time": "2021-11-14T18:44:12.006Z"
   },
   {
    "duration": 6,
    "start_time": "2021-11-14T18:47:34.201Z"
   },
   {
    "duration": 4391,
    "start_time": "2021-11-14T18:47:34.881Z"
   },
   {
    "duration": 4054,
    "start_time": "2021-11-14T18:53:04.385Z"
   },
   {
    "duration": 4785,
    "start_time": "2021-11-14T18:53:30.101Z"
   },
   {
    "duration": 4280,
    "start_time": "2021-11-14T18:54:06.409Z"
   },
   {
    "duration": 107,
    "start_time": "2021-11-14T18:54:17.725Z"
   },
   {
    "duration": 3428,
    "start_time": "2021-11-14T18:54:42.233Z"
   },
   {
    "duration": 3415,
    "start_time": "2021-11-14T18:55:09.677Z"
   },
   {
    "duration": 4066,
    "start_time": "2021-11-14T18:56:25.413Z"
   },
   {
    "duration": 5,
    "start_time": "2021-11-14T18:58:06.057Z"
   },
   {
    "duration": 1123,
    "start_time": "2021-11-14T18:58:06.993Z"
   },
   {
    "duration": 5,
    "start_time": "2021-11-14T18:58:22.989Z"
   },
   {
    "duration": 3699,
    "start_time": "2021-11-14T18:58:23.690Z"
   },
   {
    "duration": 24,
    "start_time": "2021-11-14T18:58:51.769Z"
   },
   {
    "duration": 19,
    "start_time": "2021-11-14T18:59:30.749Z"
   },
   {
    "duration": 5,
    "start_time": "2021-11-14T19:02:34.377Z"
   },
   {
    "duration": 3853,
    "start_time": "2021-11-14T19:02:35.069Z"
   },
   {
    "duration": 8,
    "start_time": "2021-11-14T19:03:39.853Z"
   },
   {
    "duration": 6,
    "start_time": "2021-11-14T19:09:04.973Z"
   },
   {
    "duration": 9,
    "start_time": "2021-11-14T19:09:27.261Z"
   },
   {
    "duration": 14,
    "start_time": "2021-11-14T19:25:53.181Z"
   },
   {
    "duration": 122,
    "start_time": "2021-11-14T19:37:25.635Z"
   },
   {
    "duration": 48,
    "start_time": "2021-11-14T19:37:55.918Z"
   },
   {
    "duration": 28,
    "start_time": "2021-11-14T19:38:08.158Z"
   },
   {
    "duration": 100,
    "start_time": "2021-11-14T19:39:00.409Z"
   },
   {
    "duration": 366,
    "start_time": "2021-11-14T19:39:10.801Z"
   },
   {
    "duration": 323,
    "start_time": "2021-11-14T19:39:42.549Z"
   },
   {
    "duration": 316,
    "start_time": "2021-11-14T19:44:45.386Z"
   },
   {
    "duration": 531,
    "start_time": "2021-11-14T19:45:30.046Z"
   },
   {
    "duration": 43,
    "start_time": "2021-11-14T19:45:56.922Z"
   },
   {
    "duration": 30,
    "start_time": "2021-11-14T19:46:16.854Z"
   },
   {
    "duration": 30,
    "start_time": "2021-11-14T19:46:51.042Z"
   },
   {
    "duration": 33,
    "start_time": "2021-11-14T19:53:14.554Z"
   },
   {
    "duration": 371,
    "start_time": "2021-11-14T19:56:36.405Z"
   },
   {
    "duration": 318,
    "start_time": "2021-11-14T19:58:19.997Z"
   },
   {
    "duration": 442,
    "start_time": "2021-11-14T19:58:39.913Z"
   },
   {
    "duration": 30,
    "start_time": "2021-11-14T19:59:50.317Z"
   },
   {
    "duration": 10,
    "start_time": "2021-11-14T20:21:51.182Z"
   },
   {
    "duration": 9,
    "start_time": "2021-11-14T20:22:00.238Z"
   },
   {
    "duration": 336,
    "start_time": "2021-11-14T20:23:08.370Z"
   },
   {
    "duration": 323,
    "start_time": "2021-11-14T20:24:00.622Z"
   },
   {
    "duration": 302,
    "start_time": "2021-11-14T20:30:45.942Z"
   },
   {
    "duration": 482,
    "start_time": "2021-11-14T20:30:52.874Z"
   },
   {
    "duration": 372,
    "start_time": "2021-11-14T20:31:34.762Z"
   },
   {
    "duration": 297,
    "start_time": "2021-11-14T20:32:02.347Z"
   },
   {
    "duration": 291,
    "start_time": "2021-11-14T20:32:19.610Z"
   },
   {
    "duration": 297,
    "start_time": "2021-11-14T20:32:55.926Z"
   },
   {
    "duration": 287,
    "start_time": "2021-11-14T20:33:14.274Z"
   },
   {
    "duration": 288,
    "start_time": "2021-11-14T20:33:32.318Z"
   },
   {
    "duration": 493,
    "start_time": "2021-11-14T20:34:31.914Z"
   },
   {
    "duration": 30,
    "start_time": "2021-11-14T20:39:44.630Z"
   },
   {
    "duration": 31,
    "start_time": "2021-11-14T20:40:48.214Z"
   },
   {
    "duration": 34,
    "start_time": "2021-11-14T20:41:32.662Z"
   },
   {
    "duration": 7,
    "start_time": "2021-11-14T20:42:18.374Z"
   },
   {
    "duration": 8,
    "start_time": "2021-11-14T20:42:24.738Z"
   },
   {
    "duration": 20,
    "start_time": "2021-11-14T20:43:27.190Z"
   },
   {
    "duration": 103,
    "start_time": "2021-11-14T20:47:39.027Z"
   },
   {
    "duration": 21,
    "start_time": "2021-11-14T20:48:07.598Z"
   },
   {
    "duration": 19,
    "start_time": "2021-11-14T20:48:19.119Z"
   },
   {
    "duration": 7,
    "start_time": "2021-11-14T20:50:47.626Z"
   },
   {
    "duration": 301,
    "start_time": "2021-11-14T21:01:21.803Z"
   },
   {
    "duration": 705,
    "start_time": "2021-11-14T21:01:51.054Z"
   },
   {
    "duration": 33,
    "start_time": "2021-11-14T21:02:40.694Z"
   },
   {
    "duration": 31,
    "start_time": "2021-11-14T21:08:52.371Z"
   },
   {
    "duration": 30,
    "start_time": "2021-11-14T21:08:56.822Z"
   },
   {
    "duration": 30,
    "start_time": "2021-11-14T21:10:39.895Z"
   },
   {
    "duration": 933,
    "start_time": "2021-11-15T12:01:57.667Z"
   },
   {
    "duration": 47,
    "start_time": "2021-11-15T12:01:58.602Z"
   },
   {
    "duration": 11,
    "start_time": "2021-11-15T12:01:59.301Z"
   },
   {
    "duration": 10,
    "start_time": "2021-11-15T12:02:01.914Z"
   },
   {
    "duration": 14,
    "start_time": "2021-11-15T12:02:03.882Z"
   },
   {
    "duration": 19,
    "start_time": "2021-11-15T12:02:06.342Z"
   },
   {
    "duration": 29,
    "start_time": "2021-11-15T12:02:07.142Z"
   },
   {
    "duration": 26,
    "start_time": "2021-11-15T12:02:07.758Z"
   },
   {
    "duration": 9,
    "start_time": "2021-11-15T12:02:08.754Z"
   },
   {
    "duration": 6,
    "start_time": "2021-11-15T12:02:09.282Z"
   },
   {
    "duration": 6,
    "start_time": "2021-11-15T12:02:09.846Z"
   },
   {
    "duration": 192,
    "start_time": "2021-11-15T12:02:10.662Z"
   },
   {
    "duration": 167,
    "start_time": "2021-11-15T12:02:11.346Z"
   },
   {
    "duration": 23,
    "start_time": "2021-11-15T12:02:12.514Z"
   },
   {
    "duration": 88,
    "start_time": "2021-11-15T12:02:12.846Z"
   },
   {
    "duration": 10,
    "start_time": "2021-11-15T12:02:13.678Z"
   },
   {
    "duration": 13,
    "start_time": "2021-11-15T12:02:14.646Z"
   },
   {
    "duration": 15,
    "start_time": "2021-11-15T12:02:16.827Z"
   },
   {
    "duration": 12,
    "start_time": "2021-11-15T12:02:17.926Z"
   },
   {
    "duration": 15,
    "start_time": "2021-11-15T12:02:19.402Z"
   },
   {
    "duration": 11,
    "start_time": "2021-11-15T12:02:23.154Z"
   },
   {
    "duration": 18,
    "start_time": "2021-11-15T12:02:25.554Z"
   },
   {
    "duration": 13,
    "start_time": "2021-11-15T12:02:28.018Z"
   },
   {
    "duration": 15,
    "start_time": "2021-11-15T12:02:33.998Z"
   },
   {
    "duration": 27,
    "start_time": "2021-11-15T12:02:34.826Z"
   },
   {
    "duration": 8,
    "start_time": "2021-11-15T12:02:36.167Z"
   },
   {
    "duration": 15,
    "start_time": "2021-11-15T12:02:37.590Z"
   },
   {
    "duration": 2255,
    "start_time": "2021-11-15T12:02:41.463Z"
   },
   {
    "duration": 11,
    "start_time": "2021-11-15T12:02:43.720Z"
   },
   {
    "duration": 2405,
    "start_time": "2021-11-15T12:08:27.395Z"
   },
   {
    "duration": 136,
    "start_time": "2021-11-15T12:08:29.802Z"
   },
   {
    "duration": 4,
    "start_time": "2021-11-15T12:08:34.819Z"
   },
   {
    "duration": 9,
    "start_time": "2021-11-15T12:08:35.679Z"
   },
   {
    "duration": 5,
    "start_time": "2021-11-15T12:08:35.967Z"
   },
   {
    "duration": 3,
    "start_time": "2021-11-15T12:08:36.246Z"
   },
   {
    "duration": 12,
    "start_time": "2021-11-15T12:08:36.546Z"
   },
   {
    "duration": 12,
    "start_time": "2021-11-15T12:08:36.971Z"
   },
   {
    "duration": 4,
    "start_time": "2021-11-15T12:08:37.398Z"
   },
   {
    "duration": 8,
    "start_time": "2021-11-15T12:08:37.810Z"
   },
   {
    "duration": 12,
    "start_time": "2021-11-15T12:08:38.150Z"
   },
   {
    "duration": 135,
    "start_time": "2021-11-15T12:08:38.482Z"
   },
   {
    "duration": 12,
    "start_time": "2021-11-15T12:08:38.928Z"
   },
   {
    "duration": 15,
    "start_time": "2021-11-15T12:08:39.307Z"
   },
   {
    "duration": 11,
    "start_time": "2021-11-15T12:08:39.642Z"
   },
   {
    "duration": 12,
    "start_time": "2021-11-15T12:08:46.291Z"
   },
   {
    "duration": 3,
    "start_time": "2021-11-15T12:09:02.991Z"
   },
   {
    "duration": 1487,
    "start_time": "2021-11-15T12:09:03.691Z"
   },
   {
    "duration": 11,
    "start_time": "2021-11-15T12:09:10.278Z"
   },
   {
    "duration": 6,
    "start_time": "2021-11-15T12:09:12.266Z"
   },
   {
    "duration": 8,
    "start_time": "2021-11-15T12:13:03.935Z"
   },
   {
    "duration": 8,
    "start_time": "2021-11-15T12:13:12.575Z"
   },
   {
    "duration": 376,
    "start_time": "2021-11-15T12:20:42.963Z"
   },
   {
    "duration": 8,
    "start_time": "2021-11-15T12:21:00.867Z"
   },
   {
    "duration": 6615,
    "start_time": "2021-11-15T12:23:44.971Z"
   },
   {
    "duration": 7715,
    "start_time": "2021-11-15T12:23:53.703Z"
   },
   {
    "duration": 6,
    "start_time": "2021-11-15T12:27:12.364Z"
   },
   {
    "duration": 7,
    "start_time": "2021-11-15T12:28:29.291Z"
   },
   {
    "duration": 95,
    "start_time": "2021-11-15T12:32:45.643Z"
   },
   {
    "duration": 6937,
    "start_time": "2021-11-15T12:33:32.887Z"
   },
   {
    "duration": 9,
    "start_time": "2021-11-15T12:33:52.455Z"
   },
   {
    "duration": 8,
    "start_time": "2021-11-15T12:34:05.012Z"
   },
   {
    "duration": 10,
    "start_time": "2021-11-15T12:35:00.135Z"
   },
   {
    "duration": 295,
    "start_time": "2021-11-15T12:36:24.164Z"
   },
   {
    "duration": 271,
    "start_time": "2021-11-15T12:37:18.196Z"
   },
   {
    "duration": 276,
    "start_time": "2021-11-15T12:39:33.048Z"
   },
   {
    "duration": 9,
    "start_time": "2021-11-15T12:40:13.395Z"
   },
   {
    "duration": 9,
    "start_time": "2021-11-15T12:40:29.695Z"
   },
   {
    "duration": 8,
    "start_time": "2021-11-15T12:41:35.068Z"
   },
   {
    "duration": 550,
    "start_time": "2021-11-15T12:41:37.979Z"
   },
   {
    "duration": 20,
    "start_time": "2021-11-15T12:41:41.439Z"
   },
   {
    "duration": 18,
    "start_time": "2021-11-15T12:41:43.451Z"
   },
   {
    "duration": 789,
    "start_time": "2021-11-15T19:07:05.654Z"
   },
   {
    "duration": 67,
    "start_time": "2021-11-15T19:08:25.342Z"
   },
   {
    "duration": 15,
    "start_time": "2021-11-15T19:08:33.250Z"
   },
   {
    "duration": 13,
    "start_time": "2021-11-15T19:09:37.066Z"
   },
   {
    "duration": 16,
    "start_time": "2021-11-15T19:10:17.334Z"
   },
   {
    "duration": 24,
    "start_time": "2021-11-15T19:11:08.780Z"
   },
   {
    "duration": 2138,
    "start_time": "2021-11-15T19:27:39.150Z"
   },
   {
    "duration": 304,
    "start_time": "2021-11-15T19:27:56.502Z"
   },
   {
    "duration": 35,
    "start_time": "2021-11-15T19:28:05.751Z"
   },
   {
    "duration": 60,
    "start_time": "2021-11-15T19:28:35.306Z"
   },
   {
    "duration": 43,
    "start_time": "2021-11-15T19:28:45.978Z"
   },
   {
    "duration": 13,
    "start_time": "2021-11-15T19:31:11.927Z"
   },
   {
    "duration": 9,
    "start_time": "2021-11-15T19:46:26.559Z"
   },
   {
    "duration": 271,
    "start_time": "2021-11-15T19:48:05.194Z"
   },
   {
    "duration": 10,
    "start_time": "2021-11-15T19:48:22.330Z"
   },
   {
    "duration": 397,
    "start_time": "2021-11-15T19:53:26.308Z"
   },
   {
    "duration": 343,
    "start_time": "2021-11-15T19:54:42.587Z"
   },
   {
    "duration": 94,
    "start_time": "2021-11-15T20:01:36.512Z"
   },
   {
    "duration": 87,
    "start_time": "2021-11-15T20:02:17.807Z"
   },
   {
    "duration": 94,
    "start_time": "2021-11-15T20:02:56.311Z"
   },
   {
    "duration": 80,
    "start_time": "2021-11-15T20:03:24.851Z"
   },
   {
    "duration": 83,
    "start_time": "2021-11-15T20:04:35.147Z"
   },
   {
    "duration": 283,
    "start_time": "2021-11-15T20:05:20.443Z"
   },
   {
    "duration": 11,
    "start_time": "2021-11-15T20:05:42.411Z"
   },
   {
    "duration": 14,
    "start_time": "2021-11-15T20:07:04.023Z"
   },
   {
    "duration": 13,
    "start_time": "2021-11-15T20:18:54.283Z"
   },
   {
    "duration": 25,
    "start_time": "2021-11-15T20:31:37.027Z"
   },
   {
    "duration": 23,
    "start_time": "2021-11-15T20:36:39.050Z"
   },
   {
    "duration": 248,
    "start_time": "2021-11-15T20:45:55.602Z"
   },
   {
    "duration": 22,
    "start_time": "2021-11-15T20:46:01.986Z"
   },
   {
    "duration": 23,
    "start_time": "2021-11-15T20:53:27.828Z"
   },
   {
    "duration": 24,
    "start_time": "2021-11-15T20:55:09.985Z"
   },
   {
    "duration": 82,
    "start_time": "2021-11-15T20:56:07.566Z"
   },
   {
    "duration": 24,
    "start_time": "2021-11-15T20:56:15.587Z"
   },
   {
    "duration": 304,
    "start_time": "2021-11-15T21:01:13.563Z"
   },
   {
    "duration": 26,
    "start_time": "2021-11-15T21:01:24.292Z"
   },
   {
    "duration": 24,
    "start_time": "2021-11-15T21:01:31.843Z"
   },
   {
    "duration": 26,
    "start_time": "2021-11-15T21:01:33.147Z"
   },
   {
    "duration": 4,
    "start_time": "2021-11-15T21:01:44.103Z"
   },
   {
    "duration": 64,
    "start_time": "2021-11-15T21:01:44.867Z"
   },
   {
    "duration": 15,
    "start_time": "2021-11-15T21:01:45.623Z"
   },
   {
    "duration": 8,
    "start_time": "2021-11-15T21:01:46.947Z"
   },
   {
    "duration": 22,
    "start_time": "2021-11-15T21:01:48.271Z"
   },
   {
    "duration": 27,
    "start_time": "2021-11-15T21:01:50.891Z"
   },
   {
    "duration": 50,
    "start_time": "2021-11-15T21:01:51.687Z"
   },
   {
    "duration": 43,
    "start_time": "2021-11-15T21:01:52.519Z"
   },
   {
    "duration": 13,
    "start_time": "2021-11-15T21:01:53.575Z"
   },
   {
    "duration": 8,
    "start_time": "2021-11-15T21:01:54.299Z"
   },
   {
    "duration": 10,
    "start_time": "2021-11-15T21:01:55.487Z"
   },
   {
    "duration": 270,
    "start_time": "2021-11-15T21:01:56.650Z"
   },
   {
    "duration": 377,
    "start_time": "2021-11-15T21:01:57.667Z"
   },
   {
    "duration": 15,
    "start_time": "2021-11-15T21:01:59.015Z"
   },
   {
    "duration": 23,
    "start_time": "2021-11-15T21:02:01.475Z"
   },
   {
    "duration": 23,
    "start_time": "2021-11-15T21:02:03.287Z"
   },
   {
    "duration": 27,
    "start_time": "2021-11-15T21:02:05.555Z"
   },
   {
    "duration": 286,
    "start_time": "2021-11-15T21:05:22.159Z"
   },
   {
    "duration": 22,
    "start_time": "2021-11-15T21:05:35.875Z"
   },
   {
    "duration": 22,
    "start_time": "2021-11-15T21:07:43.091Z"
   },
   {
    "duration": 298,
    "start_time": "2021-11-15T21:09:47.896Z"
   },
   {
    "duration": 25,
    "start_time": "2021-11-15T21:09:59.240Z"
   },
   {
    "duration": 279,
    "start_time": "2021-11-15T21:13:03.088Z"
   },
   {
    "duration": 17,
    "start_time": "2021-11-15T21:13:09.696Z"
   },
   {
    "duration": 26,
    "start_time": "2021-11-15T21:13:50.848Z"
   },
   {
    "duration": 25,
    "start_time": "2021-11-15T21:15:48.068Z"
   },
   {
    "duration": 19,
    "start_time": "2021-11-15T21:16:42.836Z"
   },
   {
    "duration": 23,
    "start_time": "2021-11-15T21:22:04.536Z"
   },
   {
    "duration": 43,
    "start_time": "2021-11-15T21:23:48.710Z"
   },
   {
    "duration": 14,
    "start_time": "2021-11-15T21:25:25.398Z"
   },
   {
    "duration": 25,
    "start_time": "2021-11-15T21:28:07.458Z"
   },
   {
    "duration": 341,
    "start_time": "2021-11-15T21:37:34.284Z"
   },
   {
    "duration": 3525,
    "start_time": "2021-11-15T21:37:43.696Z"
   },
   {
    "duration": 20,
    "start_time": "2021-11-15T21:39:52.984Z"
   },
   {
    "duration": 17,
    "start_time": "2021-11-15T21:42:00.228Z"
   },
   {
    "duration": 4236,
    "start_time": "2021-11-15T21:42:21.600Z"
   },
   {
    "duration": 850,
    "start_time": "2021-11-16T18:34:11.507Z"
   },
   {
    "duration": 66,
    "start_time": "2021-11-16T18:34:12.823Z"
   },
   {
    "duration": 16,
    "start_time": "2021-11-16T18:34:13.935Z"
   },
   {
    "duration": 20,
    "start_time": "2021-11-16T18:34:15.847Z"
   },
   {
    "duration": 23,
    "start_time": "2021-11-16T18:34:17.468Z"
   },
   {
    "duration": 29,
    "start_time": "2021-11-16T18:36:33.604Z"
   },
   {
    "duration": 51,
    "start_time": "2021-11-16T18:36:35.368Z"
   },
   {
    "duration": 41,
    "start_time": "2021-11-16T18:36:36.948Z"
   },
   {
    "duration": 13,
    "start_time": "2021-11-16T18:36:39.640Z"
   },
   {
    "duration": 8,
    "start_time": "2021-11-16T18:36:42.012Z"
   },
   {
    "duration": 9,
    "start_time": "2021-11-16T18:36:43.620Z"
   },
   {
    "duration": 362,
    "start_time": "2021-11-16T18:36:44.752Z"
   },
   {
    "duration": 318,
    "start_time": "2021-11-16T18:36:45.855Z"
   },
   {
    "duration": 14,
    "start_time": "2021-11-16T18:36:47.563Z"
   },
   {
    "duration": 23,
    "start_time": "2021-11-16T18:37:02.571Z"
   },
   {
    "duration": 23,
    "start_time": "2021-11-16T18:37:05.156Z"
   },
   {
    "duration": 28,
    "start_time": "2021-11-16T18:37:06.984Z"
   },
   {
    "duration": 22,
    "start_time": "2021-11-16T18:37:08.648Z"
   },
   {
    "duration": 26,
    "start_time": "2021-11-16T18:37:10.932Z"
   },
   {
    "duration": 20,
    "start_time": "2021-11-16T18:37:21.412Z"
   },
   {
    "duration": 25,
    "start_time": "2021-11-16T18:37:23.176Z"
   },
   {
    "duration": 17,
    "start_time": "2021-11-16T18:37:24.967Z"
   },
   {
    "duration": 23,
    "start_time": "2021-11-16T18:37:38.312Z"
   },
   {
    "duration": 45,
    "start_time": "2021-11-16T18:37:42.675Z"
   },
   {
    "duration": 14,
    "start_time": "2021-11-16T18:37:46.591Z"
   },
   {
    "duration": 24,
    "start_time": "2021-11-16T18:37:49.552Z"
   },
   {
    "duration": 3421,
    "start_time": "2021-11-16T18:38:01.788Z"
   },
   {
    "duration": 21,
    "start_time": "2021-11-16T18:38:10.203Z"
   },
   {
    "duration": 3852,
    "start_time": "2021-11-16T18:47:25.219Z"
   },
   {
    "duration": 258,
    "start_time": "2021-11-16T18:50:10.488Z"
   },
   {
    "duration": 4,
    "start_time": "2021-11-16T19:13:28.359Z"
   },
   {
    "duration": 7,
    "start_time": "2021-11-16T19:15:09.479Z"
   },
   {
    "duration": 14,
    "start_time": "2021-11-16T19:18:28.608Z"
   },
   {
    "duration": 15,
    "start_time": "2021-11-16T19:20:14.614Z"
   },
   {
    "duration": 10,
    "start_time": "2021-11-16T19:21:48.635Z"
   },
   {
    "duration": 9,
    "start_time": "2021-11-16T19:29:36.983Z"
   },
   {
    "duration": 4,
    "start_time": "2021-11-16T19:35:04.671Z"
   },
   {
    "duration": 10709,
    "start_time": "2021-11-16T19:38:39.335Z"
   },
   {
    "duration": 29,
    "start_time": "2021-11-16T19:39:09.475Z"
   },
   {
    "duration": 17,
    "start_time": "2021-11-16T19:40:02.695Z"
   },
   {
    "duration": 14,
    "start_time": "2021-11-16T19:43:38.650Z"
   },
   {
    "duration": 5,
    "start_time": "2021-11-16T19:57:47.883Z"
   },
   {
    "duration": 12,
    "start_time": "2021-11-16T19:58:54.040Z"
   },
   {
    "duration": 22,
    "start_time": "2021-11-16T20:00:43.200Z"
   },
   {
    "duration": 237,
    "start_time": "2021-11-16T20:02:39.436Z"
   },
   {
    "duration": 20,
    "start_time": "2021-11-16T20:10:31.185Z"
   },
   {
    "duration": 126,
    "start_time": "2021-11-16T20:24:46.784Z"
   },
   {
    "duration": 148,
    "start_time": "2021-11-16T20:24:57.565Z"
   },
   {
    "duration": 5,
    "start_time": "2021-11-16T20:25:07.753Z"
   },
   {
    "duration": 19,
    "start_time": "2021-11-16T20:27:50.853Z"
   },
   {
    "duration": 36,
    "start_time": "2021-11-16T20:29:07.237Z"
   },
   {
    "duration": 4,
    "start_time": "2021-11-16T20:29:44.805Z"
   },
   {
    "duration": 14,
    "start_time": "2021-11-16T20:29:46.233Z"
   },
   {
    "duration": 23,
    "start_time": "2021-11-16T20:29:48.098Z"
   },
   {
    "duration": 17,
    "start_time": "2021-11-16T20:38:29.841Z"
   },
   {
    "duration": 16,
    "start_time": "2021-11-16T20:38:35.890Z"
   },
   {
    "duration": 375,
    "start_time": "2021-11-16T20:43:33.637Z"
   },
   {
    "duration": 21,
    "start_time": "2021-11-16T20:43:39.233Z"
   },
   {
    "duration": 6,
    "start_time": "2021-11-16T20:57:01.221Z"
   },
   {
    "duration": 458,
    "start_time": "2021-11-16T20:59:20.541Z"
   },
   {
    "duration": 11346,
    "start_time": "2021-11-16T20:59:28.644Z"
   },
   {
    "duration": 628,
    "start_time": "2021-11-16T20:59:56.514Z"
   },
   {
    "duration": 16,
    "start_time": "2021-11-16T21:02:12.921Z"
   },
   {
    "duration": 18,
    "start_time": "2021-11-16T21:11:44.404Z"
   },
   {
    "duration": 18,
    "start_time": "2021-11-16T21:11:58.008Z"
   },
   {
    "duration": 12,
    "start_time": "2021-11-16T21:13:22.968Z"
   },
   {
    "duration": 388,
    "start_time": "2021-11-16T21:24:50.617Z"
   },
   {
    "duration": 787,
    "start_time": "2021-11-16T21:25:39.949Z"
   },
   {
    "duration": 16,
    "start_time": "2021-11-16T21:27:44.837Z"
   },
   {
    "duration": 12,
    "start_time": "2021-11-16T21:27:56.677Z"
   },
   {
    "duration": 11,
    "start_time": "2021-11-16T21:28:31.601Z"
   },
   {
    "duration": 11,
    "start_time": "2021-11-16T21:28:45.262Z"
   },
   {
    "duration": 430,
    "start_time": "2021-11-16T21:34:32.185Z"
   },
   {
    "duration": 31,
    "start_time": "2021-11-16T21:35:10.114Z"
   },
   {
    "duration": 33,
    "start_time": "2021-11-16T21:42:34.345Z"
   },
   {
    "duration": 33,
    "start_time": "2021-11-16T21:46:29.509Z"
   },
   {
    "duration": 862,
    "start_time": "2021-11-17T04:27:30.857Z"
   },
   {
    "duration": 67,
    "start_time": "2021-11-17T04:27:32.357Z"
   },
   {
    "duration": 16,
    "start_time": "2021-11-17T04:27:36.157Z"
   },
   {
    "duration": 16,
    "start_time": "2021-11-17T04:27:50.046Z"
   },
   {
    "duration": 23,
    "start_time": "2021-11-17T04:27:52.077Z"
   },
   {
    "duration": 43,
    "start_time": "2021-11-17T04:28:13.445Z"
   },
   {
    "duration": 14,
    "start_time": "2021-11-17T04:28:15.753Z"
   },
   {
    "duration": 9,
    "start_time": "2021-11-17T04:28:17.165Z"
   },
   {
    "duration": 8,
    "start_time": "2021-11-17T04:30:09.502Z"
   },
   {
    "duration": 9,
    "start_time": "2021-11-17T04:30:12.061Z"
   },
   {
    "duration": 370,
    "start_time": "2021-11-17T04:31:17.402Z"
   },
   {
    "duration": 349,
    "start_time": "2021-11-17T04:31:17.775Z"
   },
   {
    "duration": 13,
    "start_time": "2021-11-17T04:32:24.965Z"
   },
   {
    "duration": 25,
    "start_time": "2021-11-17T04:33:01.129Z"
   },
   {
    "duration": 25,
    "start_time": "2021-11-17T04:33:32.013Z"
   },
   {
    "duration": 27,
    "start_time": "2021-11-17T04:34:06.113Z"
   },
   {
    "duration": 23,
    "start_time": "2021-11-17T04:34:31.345Z"
   },
   {
    "duration": 26,
    "start_time": "2021-11-17T04:34:37.137Z"
   },
   {
    "duration": 17,
    "start_time": "2021-11-17T04:38:24.689Z"
   },
   {
    "duration": 27,
    "start_time": "2021-11-17T04:38:30.813Z"
   },
   {
    "duration": 18,
    "start_time": "2021-11-17T04:38:35.382Z"
   },
   {
    "duration": 23,
    "start_time": "2021-11-17T04:39:00.393Z"
   },
   {
    "duration": 45,
    "start_time": "2021-11-17T04:39:02.225Z"
   },
   {
    "duration": 13,
    "start_time": "2021-11-17T04:39:09.729Z"
   },
   {
    "duration": 24,
    "start_time": "2021-11-17T04:40:30.122Z"
   },
   {
    "duration": 3518,
    "start_time": "2021-11-17T04:40:35.645Z"
   },
   {
    "duration": 22,
    "start_time": "2021-11-17T04:40:51.297Z"
   },
   {
    "duration": 3790,
    "start_time": "2021-11-17T04:40:53.342Z"
   },
   {
    "duration": 238,
    "start_time": "2021-11-17T04:41:17.328Z"
   },
   {
    "duration": 6,
    "start_time": "2021-11-17T04:42:09.413Z"
   },
   {
    "duration": 15,
    "start_time": "2021-11-17T04:42:10.881Z"
   },
   {
    "duration": 8,
    "start_time": "2021-11-17T04:42:13.418Z"
   },
   {
    "duration": 8,
    "start_time": "2021-11-17T04:42:18.057Z"
   },
   {
    "duration": 4,
    "start_time": "2021-11-17T04:42:21.397Z"
   },
   {
    "duration": 5,
    "start_time": "2021-11-17T04:42:30.741Z"
   },
   {
    "duration": 15,
    "start_time": "2021-11-17T04:42:39.349Z"
   },
   {
    "duration": 20,
    "start_time": "2021-11-17T04:42:41.501Z"
   },
   {
    "duration": 5,
    "start_time": "2021-11-17T04:48:05.633Z"
   },
   {
    "duration": 11,
    "start_time": "2021-11-17T04:48:14.474Z"
   },
   {
    "duration": 21,
    "start_time": "2021-11-17T04:48:15.982Z"
   },
   {
    "duration": 254,
    "start_time": "2021-11-17T04:48:18.950Z"
   },
   {
    "duration": 20,
    "start_time": "2021-11-17T04:48:23.610Z"
   },
   {
    "duration": 5,
    "start_time": "2021-11-17T04:48:39.366Z"
   },
   {
    "duration": 15,
    "start_time": "2021-11-17T04:48:41.993Z"
   },
   {
    "duration": 25,
    "start_time": "2021-11-17T04:48:45.502Z"
   },
   {
    "duration": 16,
    "start_time": "2021-11-17T04:48:55.697Z"
   },
   {
    "duration": 19,
    "start_time": "2021-11-17T04:49:01.118Z"
   },
   {
    "duration": 6,
    "start_time": "2021-11-17T05:11:37.509Z"
   },
   {
    "duration": 618,
    "start_time": "2021-11-17T05:11:38.938Z"
   },
   {
    "duration": 66,
    "start_time": "2021-11-17T05:11:40.922Z"
   },
   {
    "duration": 16,
    "start_time": "2021-11-17T05:11:51.278Z"
   },
   {
    "duration": 12,
    "start_time": "2021-11-17T05:11:53.094Z"
   },
   {
    "duration": 830,
    "start_time": "2021-11-17T05:11:56.766Z"
   },
   {
    "duration": 34,
    "start_time": "2021-11-17T05:18:35.847Z"
   },
   {
    "duration": 31,
    "start_time": "2021-11-17T05:31:37.905Z"
   },
   {
    "duration": 31,
    "start_time": "2021-11-17T05:35:34.461Z"
   },
   {
    "duration": 33,
    "start_time": "2021-11-17T05:38:24.346Z"
   },
   {
    "duration": 97,
    "start_time": "2021-11-17T09:09:42.861Z"
   },
   {
    "duration": 592,
    "start_time": "2021-11-17T09:12:03.508Z"
   },
   {
    "duration": 141,
    "start_time": "2021-11-17T09:19:05.187Z"
   },
   {
    "duration": 89,
    "start_time": "2021-11-17T09:24:43.759Z"
   },
   {
    "duration": 95,
    "start_time": "2021-11-17T09:31:04.584Z"
   },
   {
    "duration": 559,
    "start_time": "2021-11-19T12:21:56.296Z"
   },
   {
    "duration": 50,
    "start_time": "2021-11-19T12:21:57.736Z"
   },
   {
    "duration": 12,
    "start_time": "2021-11-19T12:21:58.172Z"
   },
   {
    "duration": 12,
    "start_time": "2021-11-19T12:22:24.192Z"
   },
   {
    "duration": 15,
    "start_time": "2021-11-19T12:22:25.192Z"
   },
   {
    "duration": 29,
    "start_time": "2021-11-19T12:22:27.499Z"
   },
   {
    "duration": 9,
    "start_time": "2021-11-19T12:22:36.753Z"
   },
   {
    "duration": 10,
    "start_time": "2021-11-19T12:23:15.044Z"
   },
   {
    "duration": 6,
    "start_time": "2021-11-19T12:23:17.297Z"
   },
   {
    "duration": 7,
    "start_time": "2021-11-19T12:23:18.356Z"
   },
   {
    "duration": 212,
    "start_time": "2021-11-19T12:23:19.592Z"
   },
   {
    "duration": 200,
    "start_time": "2021-11-19T12:23:20.764Z"
   },
   {
    "duration": 9,
    "start_time": "2021-11-19T12:23:27.388Z"
   },
   {
    "duration": 16,
    "start_time": "2021-11-19T12:23:30.169Z"
   },
   {
    "duration": 16,
    "start_time": "2021-11-19T12:23:46.261Z"
   },
   {
    "duration": 18,
    "start_time": "2021-11-19T12:23:47.632Z"
   },
   {
    "duration": 16,
    "start_time": "2021-11-19T12:23:48.768Z"
   },
   {
    "duration": 17,
    "start_time": "2021-11-19T12:23:51.076Z"
   },
   {
    "duration": 12,
    "start_time": "2021-11-19T12:23:55.892Z"
   },
   {
    "duration": 16,
    "start_time": "2021-11-19T12:23:57.268Z"
   },
   {
    "duration": 14,
    "start_time": "2021-11-19T12:23:58.564Z"
   },
   {
    "duration": 15,
    "start_time": "2021-11-19T12:24:02.684Z"
   },
   {
    "duration": 29,
    "start_time": "2021-11-19T12:24:03.272Z"
   },
   {
    "duration": 9,
    "start_time": "2021-11-19T12:24:04.204Z"
   },
   {
    "duration": 18,
    "start_time": "2021-11-19T12:26:15.940Z"
   },
   {
    "duration": 16,
    "start_time": "2021-11-19T12:26:17.601Z"
   },
   {
    "duration": 28,
    "start_time": "2021-11-19T12:26:19.297Z"
   },
   {
    "duration": 2412,
    "start_time": "2021-11-19T12:26:59.576Z"
   },
   {
    "duration": 16,
    "start_time": "2021-11-19T12:27:02.737Z"
   },
   {
    "duration": 3001,
    "start_time": "2021-11-19T12:27:45.476Z"
   },
   {
    "duration": 154,
    "start_time": "2021-11-19T12:27:48.479Z"
   },
   {
    "duration": 5,
    "start_time": "2021-11-19T12:29:10.128Z"
   },
   {
    "duration": 10,
    "start_time": "2021-11-19T12:29:11.037Z"
   },
   {
    "duration": 5,
    "start_time": "2021-11-19T12:29:11.841Z"
   },
   {
    "duration": 5,
    "start_time": "2021-11-19T12:29:17.821Z"
   },
   {
    "duration": 4,
    "start_time": "2021-11-19T12:29:19.205Z"
   },
   {
    "duration": 10,
    "start_time": "2021-11-19T12:29:20.652Z"
   },
   {
    "duration": 14,
    "start_time": "2021-11-19T12:29:21.668Z"
   },
   {
    "duration": 3,
    "start_time": "2021-11-19T12:29:25.725Z"
   },
   {
    "duration": 7,
    "start_time": "2021-11-19T12:29:27.074Z"
   },
   {
    "duration": 13,
    "start_time": "2021-11-19T12:29:27.932Z"
   },
   {
    "duration": 132,
    "start_time": "2021-11-19T12:29:29.680Z"
   },
   {
    "duration": 19,
    "start_time": "2021-11-19T12:36:21.476Z"
   },
   {
    "duration": 11,
    "start_time": "2021-11-19T12:36:46.084Z"
   },
   {
    "duration": 11,
    "start_time": "2021-11-19T12:40:04.305Z"
   },
   {
    "duration": 11,
    "start_time": "2021-11-19T12:43:02.068Z"
   },
   {
    "duration": 11,
    "start_time": "2021-11-19T12:43:51.480Z"
   },
   {
    "duration": 133,
    "start_time": "2021-11-19T12:44:37.564Z"
   },
   {
    "duration": 143,
    "start_time": "2021-11-19T12:45:17.556Z"
   },
   {
    "duration": 14,
    "start_time": "2021-11-19T12:46:32.424Z"
   },
   {
    "duration": 9,
    "start_time": "2021-11-19T12:47:16.012Z"
   },
   {
    "duration": 13,
    "start_time": "2021-11-19T12:47:49.956Z"
   },
   {
    "duration": 12,
    "start_time": "2021-11-19T12:48:39.813Z"
   },
   {
    "duration": 14,
    "start_time": "2021-11-19T12:50:09.917Z"
   },
   {
    "duration": 11,
    "start_time": "2021-11-19T12:51:16.720Z"
   },
   {
    "duration": 13,
    "start_time": "2021-11-19T12:51:21.316Z"
   },
   {
    "duration": 4,
    "start_time": "2021-11-19T12:51:28.092Z"
   },
   {
    "duration": 1637,
    "start_time": "2021-11-19T12:51:29.677Z"
   },
   {
    "duration": 12,
    "start_time": "2021-11-19T12:51:33.109Z"
   },
   {
    "duration": 10,
    "start_time": "2021-11-19T12:51:35.941Z"
   },
   {
    "duration": 8,
    "start_time": "2021-11-19T12:51:49.617Z"
   },
   {
    "duration": 531,
    "start_time": "2021-11-19T12:51:51.013Z"
   },
   {
    "duration": 24,
    "start_time": "2021-11-19T12:55:31.973Z"
   },
   {
    "duration": 24,
    "start_time": "2021-11-19T12:55:34.668Z"
   },
   {
    "duration": 21,
    "start_time": "2021-11-19T12:55:36.277Z"
   },
   {
    "duration": 29,
    "start_time": "2021-11-19T12:55:53.781Z"
   },
   {
    "duration": 54,
    "start_time": "2021-11-19T12:55:54.773Z"
   },
   {
    "duration": 12,
    "start_time": "2021-11-19T12:55:55.921Z"
   },
   {
    "duration": 8,
    "start_time": "2021-11-19T12:55:58.885Z"
   },
   {
    "duration": 14,
    "start_time": "2021-11-19T12:56:03.205Z"
   },
   {
    "duration": 29,
    "start_time": "2021-11-19T12:56:12.193Z"
   },
   {
    "duration": 11,
    "start_time": "2021-11-19T12:56:14.829Z"
   },
   {
    "duration": 7,
    "start_time": "2021-11-19T12:56:15.669Z"
   },
   {
    "duration": 7,
    "start_time": "2021-11-19T12:56:16.500Z"
   },
   {
    "duration": 142,
    "start_time": "2021-11-19T12:56:17.549Z"
   },
   {
    "duration": 184,
    "start_time": "2021-11-19T12:56:18.865Z"
   },
   {
    "duration": 9,
    "start_time": "2021-11-19T12:56:24.121Z"
   },
   {
    "duration": 15,
    "start_time": "2021-11-19T12:56:25.765Z"
   },
   {
    "duration": 15,
    "start_time": "2021-11-19T12:56:27.769Z"
   },
   {
    "duration": 17,
    "start_time": "2021-11-19T12:56:29.193Z"
   },
   {
    "duration": 17,
    "start_time": "2021-11-19T12:56:30.089Z"
   },
   {
    "duration": 19,
    "start_time": "2021-11-19T12:56:31.285Z"
   },
   {
    "duration": 12,
    "start_time": "2021-11-19T12:56:33.777Z"
   },
   {
    "duration": 17,
    "start_time": "2021-11-19T12:56:34.628Z"
   },
   {
    "duration": 20,
    "start_time": "2021-11-19T12:56:35.457Z"
   },
   {
    "duration": 15,
    "start_time": "2021-11-19T12:56:38.254Z"
   },
   {
    "duration": 22,
    "start_time": "2021-11-19T12:56:39.353Z"
   },
   {
    "duration": 20,
    "start_time": "2021-11-19T12:56:39.993Z"
   },
   {
    "duration": 33,
    "start_time": "2021-11-19T12:56:40.976Z"
   },
   {
    "duration": 2526,
    "start_time": "2021-11-19T12:56:51.973Z"
   },
   {
    "duration": 14,
    "start_time": "2021-11-19T12:56:54.501Z"
   },
   {
    "duration": 2841,
    "start_time": "2021-11-19T12:57:05.089Z"
   },
   {
    "duration": 144,
    "start_time": "2021-11-19T12:57:09.152Z"
   },
   {
    "duration": 4,
    "start_time": "2021-11-19T12:57:15.377Z"
   },
   {
    "duration": 10,
    "start_time": "2021-11-19T12:57:16.597Z"
   },
   {
    "duration": 7,
    "start_time": "2021-11-19T12:57:17.177Z"
   },
   {
    "duration": 6,
    "start_time": "2021-11-19T12:57:17.793Z"
   },
   {
    "duration": 3,
    "start_time": "2021-11-19T12:57:18.729Z"
   },
   {
    "duration": 9,
    "start_time": "2021-11-19T12:57:19.293Z"
   },
   {
    "duration": 14,
    "start_time": "2021-11-19T12:57:19.993Z"
   },
   {
    "duration": 12,
    "start_time": "2021-11-19T12:57:22.437Z"
   },
   {
    "duration": 11,
    "start_time": "2021-11-19T12:57:24.564Z"
   },
   {
    "duration": 144,
    "start_time": "2021-11-19T12:57:27.632Z"
   },
   {
    "duration": 12,
    "start_time": "2021-11-19T12:57:35.136Z"
   },
   {
    "duration": 13,
    "start_time": "2021-11-19T12:57:40.889Z"
   },
   {
    "duration": 11,
    "start_time": "2021-11-19T12:57:47.937Z"
   },
   {
    "duration": 4,
    "start_time": "2021-11-19T12:57:50.833Z"
   },
   {
    "duration": 1597,
    "start_time": "2021-11-19T12:57:51.693Z"
   },
   {
    "duration": 6,
    "start_time": "2021-11-19T12:57:53.292Z"
   },
   {
    "duration": 12,
    "start_time": "2021-11-19T12:57:55.073Z"
   },
   {
    "duration": 7,
    "start_time": "2021-11-19T12:57:57.153Z"
   },
   {
    "duration": 8,
    "start_time": "2021-11-19T12:57:58.649Z"
   },
   {
    "duration": 21,
    "start_time": "2021-11-19T12:58:03.613Z"
   },
   {
    "duration": 19,
    "start_time": "2021-11-19T12:58:06.693Z"
   },
   {
    "duration": 19,
    "start_time": "2021-11-19T12:58:08.641Z"
   },
   {
    "duration": 101,
    "start_time": "2021-11-20T05:36:01.669Z"
   },
   {
    "duration": 4372,
    "start_time": "2022-01-09T18:29:35.975Z"
   },
   {
    "duration": 4,
    "start_time": "2022-01-09T18:29:44.783Z"
   },
   {
    "duration": 253,
    "start_time": "2022-01-09T18:29:47.159Z"
   },
   {
    "duration": 12,
    "start_time": "2022-01-09T18:29:48.443Z"
   },
   {
    "duration": 7,
    "start_time": "2022-01-09T18:29:50.643Z"
   },
   {
    "duration": 11,
    "start_time": "2022-01-09T18:29:51.803Z"
   },
   {
    "duration": 24,
    "start_time": "2022-01-09T18:29:54.064Z"
   },
   {
    "duration": 10,
    "start_time": "2022-01-09T18:29:55.356Z"
   },
   {
    "duration": 7,
    "start_time": "2022-01-09T18:29:56.276Z"
   },
   {
    "duration": 6,
    "start_time": "2022-01-09T18:29:56.823Z"
   },
   {
    "duration": 346,
    "start_time": "2022-01-09T18:29:57.632Z"
   },
   {
    "duration": 373,
    "start_time": "2022-01-09T18:29:59.024Z"
   },
   {
    "duration": 7,
    "start_time": "2022-01-09T18:30:00.464Z"
   },
   {
    "duration": 14,
    "start_time": "2022-01-09T18:30:02.432Z"
   },
   {
    "duration": 15,
    "start_time": "2022-01-09T18:30:03.215Z"
   },
   {
    "duration": 16,
    "start_time": "2022-01-09T18:30:03.839Z"
   },
   {
    "duration": 15,
    "start_time": "2022-01-09T18:30:04.763Z"
   },
   {
    "duration": 15,
    "start_time": "2022-01-09T18:30:05.376Z"
   },
   {
    "duration": 10,
    "start_time": "2022-01-09T18:30:07.483Z"
   },
   {
    "duration": 18,
    "start_time": "2022-01-09T18:30:08.072Z"
   },
   {
    "duration": 12,
    "start_time": "2022-01-09T18:30:08.907Z"
   },
   {
    "duration": 9,
    "start_time": "2022-01-09T18:30:12.903Z"
   },
   {
    "duration": 15,
    "start_time": "2022-01-09T18:30:14.844Z"
   },
   {
    "duration": 16,
    "start_time": "2022-01-09T18:30:15.971Z"
   },
   {
    "duration": 27,
    "start_time": "2022-01-09T18:30:16.723Z"
   },
   {
    "duration": 2223,
    "start_time": "2022-01-09T18:30:19.959Z"
   },
   {
    "duration": 11,
    "start_time": "2022-01-09T18:30:22.452Z"
   },
   {
    "duration": 3138,
    "start_time": "2022-01-09T18:30:24.676Z"
   },
   {
    "duration": 239,
    "start_time": "2022-01-09T18:30:41.227Z"
   },
   {
    "duration": 5,
    "start_time": "2022-01-09T18:31:26.827Z"
   },
   {
    "duration": 9,
    "start_time": "2022-01-09T18:31:29.047Z"
   },
   {
    "duration": 6,
    "start_time": "2022-01-09T18:31:30.555Z"
   },
   {
    "duration": 6,
    "start_time": "2022-01-09T18:31:32.428Z"
   },
   {
    "duration": 2,
    "start_time": "2022-01-09T18:32:09.804Z"
   },
   {
    "duration": 9,
    "start_time": "2022-01-09T18:32:11.527Z"
   },
   {
    "duration": 12,
    "start_time": "2022-01-09T18:32:13.284Z"
   },
   {
    "duration": 10,
    "start_time": "2022-01-09T18:32:20.328Z"
   },
   {
    "duration": 10,
    "start_time": "2022-01-09T18:32:22.875Z"
   },
   {
    "duration": 231,
    "start_time": "2022-01-09T18:32:25.283Z"
   },
   {
    "duration": 240,
    "start_time": "2022-01-09T18:32:43.767Z"
   },
   {
    "duration": 11,
    "start_time": "2022-01-09T18:32:48.439Z"
   },
   {
    "duration": 12,
    "start_time": "2022-01-09T18:32:49.936Z"
   },
   {
    "duration": 10,
    "start_time": "2022-01-09T18:33:23.923Z"
   },
   {
    "duration": 4,
    "start_time": "2022-01-09T18:33:32.487Z"
   },
   {
    "duration": 1447,
    "start_time": "2022-01-09T18:33:33.683Z"
   },
   {
    "duration": 9,
    "start_time": "2022-01-09T18:33:37.504Z"
   },
   {
    "duration": 10,
    "start_time": "2022-01-09T18:33:44.551Z"
   },
   {
    "duration": 7,
    "start_time": "2022-01-09T18:33:47.759Z"
   },
   {
    "duration": 752,
    "start_time": "2022-01-09T18:33:49.051Z"
   },
   {
    "duration": 19,
    "start_time": "2022-01-09T18:34:14.864Z"
   },
   {
    "duration": 16,
    "start_time": "2022-01-09T18:34:23.944Z"
   },
   {
    "duration": 19,
    "start_time": "2022-01-09T18:34:28.623Z"
   }
  ],
  "kernelspec": {
   "display_name": "Python 3",
   "language": "python",
   "name": "python3"
  },
  "language_info": {
   "codemirror_mode": {
    "name": "ipython",
    "version": 3
   },
   "file_extension": ".py",
   "mimetype": "text/x-python",
   "name": "python",
   "nbconvert_exporter": "python",
   "pygments_lexer": "ipython3",
   "version": "3.7.8"
  },
  "toc": {
   "base_numbering": 1,
   "nav_menu": {},
   "number_sections": true,
   "sideBar": true,
   "skip_h1_title": true,
   "title_cell": "Table of Contents",
   "title_sidebar": "Contents",
   "toc_cell": false,
   "toc_position": {
    "height": "calc(100% - 180px)",
    "left": "10px",
    "top": "150px",
    "width": "165px"
   },
   "toc_section_display": true,
   "toc_window_display": true
  }
 },
 "nbformat": 4,
 "nbformat_minor": 2
}
