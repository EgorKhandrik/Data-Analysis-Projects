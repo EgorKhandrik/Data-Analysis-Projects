{
 "cells": [
  {
   "cell_type": "markdown",
   "metadata": {
    "toc": true
   },
   "source": [
    "<h1>Содержание<span class=\"tocSkip\"></span></h1>\n",
    "<div class=\"toc\"><ul class=\"toc-item\"><li><span><a href=\"#Изучение-общей-информации\" data-toc-modified-id=\"Изучение-общей-информации-1\"><span class=\"toc-item-num\">1&nbsp;&nbsp;</span>Изучение общей информации</a></span><ul class=\"toc-item\"><li><span><a href=\"#Вывод\" data-toc-modified-id=\"Вывод-1.1\"><span class=\"toc-item-num\">1.1&nbsp;&nbsp;</span>Вывод</a></span></li></ul></li><li><span><a href=\"#Подготовка-данных\" data-toc-modified-id=\"Подготовка-данных-2\"><span class=\"toc-item-num\">2&nbsp;&nbsp;</span>Подготовка данных</a></span><ul class=\"toc-item\"><li><span><a href=\"#Вывод\" data-toc-modified-id=\"Вывод-2.1\"><span class=\"toc-item-num\">2.1&nbsp;&nbsp;</span>Вывод</a></span></li></ul></li><li><span><a href=\"#Статистический-анализ-данных\" data-toc-modified-id=\"Статистический-анализ-данных-3\"><span class=\"toc-item-num\">3&nbsp;&nbsp;</span>Статистический анализ данных</a></span><ul class=\"toc-item\"><li><span><a href=\"#Вывод\" data-toc-modified-id=\"Вывод-3.1\"><span class=\"toc-item-num\">3.1&nbsp;&nbsp;</span>Вывод</a></span></li></ul></li><li><span><a href=\"#Проверка-гипотез\" data-toc-modified-id=\"Проверка-гипотез-4\"><span class=\"toc-item-num\">4&nbsp;&nbsp;</span>Проверка гипотез</a></span><ul class=\"toc-item\"><li><span><a href=\"#Проверка-равенства-помесячной-выручки-у-абонентов-разных-тарифов\" data-toc-modified-id=\"Проверка-равенства-помесячной-выручки-у-абонентов-разных-тарифов-4.1\"><span class=\"toc-item-num\">4.1&nbsp;&nbsp;</span>Проверка равенства помесячной выручки у абонентов разных тарифов</a></span></li><li><span><a href=\"#Проверка-равнества-помесячной-выручки-у-абонентов-из-Москвы-и-абонентов-из-других-регионов\" data-toc-modified-id=\"Проверка-равнества-помесячной-выручки-у-абонентов-из-Москвы-и-абонентов-из-других-регионов-4.2\"><span class=\"toc-item-num\">4.2&nbsp;&nbsp;</span>Проверка равнества помесячной выручки у абонентов из Москвы и абонентов из других регионов</a></span></li><li><span><a href=\"#Вывод\" data-toc-modified-id=\"Вывод-4.3\"><span class=\"toc-item-num\">4.3&nbsp;&nbsp;</span>Вывод</a></span></li></ul></li><li><span><a href=\"#Общий-вывод\" data-toc-modified-id=\"Общий-вывод-5\"><span class=\"toc-item-num\">5&nbsp;&nbsp;</span>Общий вывод</a></span></li></ul></div>"
   ]
  },
  {
   "cell_type": "markdown",
   "metadata": {},
   "source": [
    "# Определение перспективного тарифа для телеком-компании"
   ]
  },
  {
   "cell_type": "markdown",
   "metadata": {},
   "source": [
    "Целью проекта является изучение и описание поведения абонентов двух тарифов (smart и ultra), а также абонентов из Москвы и других регионов.     \n",
    "Для достижения цели необходимо выполнить следующие задачи:\n",
    "* изучить общую информацию о предоставленных данных;\n",
    "* подготовить данные для анализа: объединить их в один датафрейм, выявить и устранить недостатки в данных, привести данные к нужным типам;\n",
    "* установить как отличаются средние показания минут разговора, количества сообщений и объёма интернет-трафика у абонентов разных тарифов;\n",
    "* проверить гипотезы о равенстве помесячной выручки у абонентов разных тарифов и у абонентов из Москвы и других городов."
   ]
  },
  {
   "cell_type": "markdown",
   "metadata": {},
   "source": [
    "## Изучение общей информации"
   ]
  },
  {
   "cell_type": "markdown",
   "metadata": {},
   "source": [
    "Для начала ознакомимся с общей информацией о датасетах: количеством столбцов и строк, наименованием столбцов и типами данных в них, с конкретными данными датасета.   \n",
    "\n",
    "Импортируем необходимые библиоткеи и модули: "
   ]
  },
  {
   "cell_type": "code",
   "execution_count": 97,
   "metadata": {},
   "outputs": [],
   "source": [
    "import pandas as pd\n",
    "pd.set_option('display.float_format', '{:,.2f}'.format)\n",
    "import numpy as np\n",
    "import matplotlib.pyplot as plt\n",
    "import seaborn as sns\n",
    "sns.set(rc={'figure.figsize':(11.7,8.27)})\n",
    "import warnings\n",
    "warnings.filterwarnings('ignore')\n",
    "import statistics as std\n",
    "from scipy import stats as st"
   ]
  },
  {
   "cell_type": "markdown",
   "metadata": {},
   "source": [
    "Сохраним анализируемые датафреймы в переменных:\n",
    "   * *calls* - сведения о звонках абонентов;\n",
    "   * *internet* - информацию о количестве использованного интернета;\n",
    "   * *messages* - данные о количестве сообщениий;\n",
    "   * *tariffs* - описание тарифных планов;\n",
    "   * *users* - информацию об абонентах."
   ]
  },
  {
   "cell_type": "code",
   "execution_count": 98,
   "metadata": {},
   "outputs": [],
   "source": [
    "calls = pd.read_csv('/datasets/calls.csv')\n",
    "internet = pd.read_csv('/datasets/internet.csv')\n",
    "messages = pd.read_csv('/datasets/messages.csv')\n",
    "tariffs = pd.read_csv('/datasets/tariffs.csv')\n",
    "users = pd.read_csv('/datasets/users.csv')"
   ]
  },
  {
   "cell_type": "markdown",
   "metadata": {},
   "source": [
    "Ознакомимся с общей информацией о таблицах и данными в них с помощью метода `info()`:"
   ]
  },
  {
   "cell_type": "code",
   "execution_count": 99,
   "metadata": {},
   "outputs": [
    {
     "name": "stdout",
     "output_type": "stream",
     "text": [
      "<class 'pandas.core.frame.DataFrame'>\n",
      "RangeIndex: 202607 entries, 0 to 202606\n",
      "Data columns (total 4 columns):\n",
      "id           202607 non-null object\n",
      "call_date    202607 non-null object\n",
      "duration     202607 non-null float64\n",
      "user_id      202607 non-null int64\n",
      "dtypes: float64(1), int64(1), object(2)\n",
      "memory usage: 6.2+ MB\n",
      "None\n",
      "\n",
      "<class 'pandas.core.frame.DataFrame'>\n",
      "RangeIndex: 149396 entries, 0 to 149395\n",
      "Data columns (total 5 columns):\n",
      "Unnamed: 0      149396 non-null int64\n",
      "id              149396 non-null object\n",
      "mb_used         149396 non-null float64\n",
      "session_date    149396 non-null object\n",
      "user_id         149396 non-null int64\n",
      "dtypes: float64(1), int64(2), object(2)\n",
      "memory usage: 5.7+ MB\n",
      "None\n",
      "\n",
      "<class 'pandas.core.frame.DataFrame'>\n",
      "RangeIndex: 123036 entries, 0 to 123035\n",
      "Data columns (total 3 columns):\n",
      "id              123036 non-null object\n",
      "message_date    123036 non-null object\n",
      "user_id         123036 non-null int64\n",
      "dtypes: int64(1), object(2)\n",
      "memory usage: 2.8+ MB\n",
      "None\n",
      "\n",
      "<class 'pandas.core.frame.DataFrame'>\n",
      "RangeIndex: 2 entries, 0 to 1\n",
      "Data columns (total 8 columns):\n",
      "messages_included        2 non-null int64\n",
      "mb_per_month_included    2 non-null int64\n",
      "minutes_included         2 non-null int64\n",
      "rub_monthly_fee          2 non-null int64\n",
      "rub_per_gb               2 non-null int64\n",
      "rub_per_message          2 non-null int64\n",
      "rub_per_minute           2 non-null int64\n",
      "tariff_name              2 non-null object\n",
      "dtypes: int64(7), object(1)\n",
      "memory usage: 256.0+ bytes\n",
      "None\n",
      "\n",
      "<class 'pandas.core.frame.DataFrame'>\n",
      "RangeIndex: 500 entries, 0 to 499\n",
      "Data columns (total 8 columns):\n",
      "user_id       500 non-null int64\n",
      "age           500 non-null int64\n",
      "churn_date    38 non-null object\n",
      "city          500 non-null object\n",
      "first_name    500 non-null object\n",
      "last_name     500 non-null object\n",
      "reg_date      500 non-null object\n",
      "tariff        500 non-null object\n",
      "dtypes: int64(2), object(6)\n",
      "memory usage: 31.4+ KB\n",
      "None\n"
     ]
    }
   ],
   "source": [
    "print(calls.info())\n",
    "print()\n",
    "print(internet.info())\n",
    "print()\n",
    "print(messages.info())\n",
    "print()\n",
    "print(tariffs.info())\n",
    "print()\n",
    "print(users.info())"
   ]
  },
  {
   "cell_type": "markdown",
   "metadata": {},
   "source": [
    "Как видим, таблицы содержат разное количество строк и столбцов, что возможно объяснить различиями в содержащихся данных."
   ]
  },
  {
   "cell_type": "markdown",
   "metadata": {},
   "source": [
    "Выведем на экран 5 первых строк каждой таблицы:"
   ]
  },
  {
   "cell_type": "code",
   "execution_count": 100,
   "metadata": {
    "scrolled": false
   },
   "outputs": [
    {
     "data": {
      "text/html": [
       "<div>\n",
       "<style scoped>\n",
       "    .dataframe tbody tr th:only-of-type {\n",
       "        vertical-align: middle;\n",
       "    }\n",
       "\n",
       "    .dataframe tbody tr th {\n",
       "        vertical-align: top;\n",
       "    }\n",
       "\n",
       "    .dataframe thead th {\n",
       "        text-align: right;\n",
       "    }\n",
       "</style>\n",
       "<table border=\"1\" class=\"dataframe\">\n",
       "  <thead>\n",
       "    <tr style=\"text-align: right;\">\n",
       "      <th></th>\n",
       "      <th>id</th>\n",
       "      <th>call_date</th>\n",
       "      <th>duration</th>\n",
       "      <th>user_id</th>\n",
       "    </tr>\n",
       "  </thead>\n",
       "  <tbody>\n",
       "    <tr>\n",
       "      <td>0</td>\n",
       "      <td>1000_0</td>\n",
       "      <td>2018-07-25</td>\n",
       "      <td>0.00</td>\n",
       "      <td>1000</td>\n",
       "    </tr>\n",
       "    <tr>\n",
       "      <td>1</td>\n",
       "      <td>1000_1</td>\n",
       "      <td>2018-08-17</td>\n",
       "      <td>0.00</td>\n",
       "      <td>1000</td>\n",
       "    </tr>\n",
       "    <tr>\n",
       "      <td>2</td>\n",
       "      <td>1000_2</td>\n",
       "      <td>2018-06-11</td>\n",
       "      <td>2.85</td>\n",
       "      <td>1000</td>\n",
       "    </tr>\n",
       "    <tr>\n",
       "      <td>3</td>\n",
       "      <td>1000_3</td>\n",
       "      <td>2018-09-21</td>\n",
       "      <td>13.80</td>\n",
       "      <td>1000</td>\n",
       "    </tr>\n",
       "    <tr>\n",
       "      <td>4</td>\n",
       "      <td>1000_4</td>\n",
       "      <td>2018-12-15</td>\n",
       "      <td>5.18</td>\n",
       "      <td>1000</td>\n",
       "    </tr>\n",
       "  </tbody>\n",
       "</table>\n",
       "</div>"
      ],
      "text/plain": [
       "       id   call_date  duration  user_id\n",
       "0  1000_0  2018-07-25      0.00     1000\n",
       "1  1000_1  2018-08-17      0.00     1000\n",
       "2  1000_2  2018-06-11      2.85     1000\n",
       "3  1000_3  2018-09-21     13.80     1000\n",
       "4  1000_4  2018-12-15      5.18     1000"
      ]
     },
     "metadata": {},
     "output_type": "display_data"
    },
    {
     "name": "stdout",
     "output_type": "stream",
     "text": [
      "\n"
     ]
    },
    {
     "data": {
      "text/html": [
       "<div>\n",
       "<style scoped>\n",
       "    .dataframe tbody tr th:only-of-type {\n",
       "        vertical-align: middle;\n",
       "    }\n",
       "\n",
       "    .dataframe tbody tr th {\n",
       "        vertical-align: top;\n",
       "    }\n",
       "\n",
       "    .dataframe thead th {\n",
       "        text-align: right;\n",
       "    }\n",
       "</style>\n",
       "<table border=\"1\" class=\"dataframe\">\n",
       "  <thead>\n",
       "    <tr style=\"text-align: right;\">\n",
       "      <th></th>\n",
       "      <th>Unnamed: 0</th>\n",
       "      <th>id</th>\n",
       "      <th>mb_used</th>\n",
       "      <th>session_date</th>\n",
       "      <th>user_id</th>\n",
       "    </tr>\n",
       "  </thead>\n",
       "  <tbody>\n",
       "    <tr>\n",
       "      <td>0</td>\n",
       "      <td>0</td>\n",
       "      <td>1000_0</td>\n",
       "      <td>112.95</td>\n",
       "      <td>2018-11-25</td>\n",
       "      <td>1000</td>\n",
       "    </tr>\n",
       "    <tr>\n",
       "      <td>1</td>\n",
       "      <td>1</td>\n",
       "      <td>1000_1</td>\n",
       "      <td>1,052.81</td>\n",
       "      <td>2018-09-07</td>\n",
       "      <td>1000</td>\n",
       "    </tr>\n",
       "    <tr>\n",
       "      <td>2</td>\n",
       "      <td>2</td>\n",
       "      <td>1000_2</td>\n",
       "      <td>1,197.26</td>\n",
       "      <td>2018-06-25</td>\n",
       "      <td>1000</td>\n",
       "    </tr>\n",
       "    <tr>\n",
       "      <td>3</td>\n",
       "      <td>3</td>\n",
       "      <td>1000_3</td>\n",
       "      <td>550.27</td>\n",
       "      <td>2018-08-22</td>\n",
       "      <td>1000</td>\n",
       "    </tr>\n",
       "    <tr>\n",
       "      <td>4</td>\n",
       "      <td>4</td>\n",
       "      <td>1000_4</td>\n",
       "      <td>302.56</td>\n",
       "      <td>2018-09-24</td>\n",
       "      <td>1000</td>\n",
       "    </tr>\n",
       "  </tbody>\n",
       "</table>\n",
       "</div>"
      ],
      "text/plain": [
       "   Unnamed: 0      id  mb_used session_date  user_id\n",
       "0           0  1000_0   112.95   2018-11-25     1000\n",
       "1           1  1000_1 1,052.81   2018-09-07     1000\n",
       "2           2  1000_2 1,197.26   2018-06-25     1000\n",
       "3           3  1000_3   550.27   2018-08-22     1000\n",
       "4           4  1000_4   302.56   2018-09-24     1000"
      ]
     },
     "metadata": {},
     "output_type": "display_data"
    },
    {
     "name": "stdout",
     "output_type": "stream",
     "text": [
      "\n"
     ]
    },
    {
     "data": {
      "text/html": [
       "<div>\n",
       "<style scoped>\n",
       "    .dataframe tbody tr th:only-of-type {\n",
       "        vertical-align: middle;\n",
       "    }\n",
       "\n",
       "    .dataframe tbody tr th {\n",
       "        vertical-align: top;\n",
       "    }\n",
       "\n",
       "    .dataframe thead th {\n",
       "        text-align: right;\n",
       "    }\n",
       "</style>\n",
       "<table border=\"1\" class=\"dataframe\">\n",
       "  <thead>\n",
       "    <tr style=\"text-align: right;\">\n",
       "      <th></th>\n",
       "      <th>id</th>\n",
       "      <th>message_date</th>\n",
       "      <th>user_id</th>\n",
       "    </tr>\n",
       "  </thead>\n",
       "  <tbody>\n",
       "    <tr>\n",
       "      <td>0</td>\n",
       "      <td>1000_0</td>\n",
       "      <td>2018-06-27</td>\n",
       "      <td>1000</td>\n",
       "    </tr>\n",
       "    <tr>\n",
       "      <td>1</td>\n",
       "      <td>1000_1</td>\n",
       "      <td>2018-10-08</td>\n",
       "      <td>1000</td>\n",
       "    </tr>\n",
       "    <tr>\n",
       "      <td>2</td>\n",
       "      <td>1000_2</td>\n",
       "      <td>2018-08-04</td>\n",
       "      <td>1000</td>\n",
       "    </tr>\n",
       "    <tr>\n",
       "      <td>3</td>\n",
       "      <td>1000_3</td>\n",
       "      <td>2018-06-16</td>\n",
       "      <td>1000</td>\n",
       "    </tr>\n",
       "    <tr>\n",
       "      <td>4</td>\n",
       "      <td>1000_4</td>\n",
       "      <td>2018-12-05</td>\n",
       "      <td>1000</td>\n",
       "    </tr>\n",
       "  </tbody>\n",
       "</table>\n",
       "</div>"
      ],
      "text/plain": [
       "       id message_date  user_id\n",
       "0  1000_0   2018-06-27     1000\n",
       "1  1000_1   2018-10-08     1000\n",
       "2  1000_2   2018-08-04     1000\n",
       "3  1000_3   2018-06-16     1000\n",
       "4  1000_4   2018-12-05     1000"
      ]
     },
     "metadata": {},
     "output_type": "display_data"
    },
    {
     "name": "stdout",
     "output_type": "stream",
     "text": [
      "\n"
     ]
    },
    {
     "data": {
      "text/html": [
       "<div>\n",
       "<style scoped>\n",
       "    .dataframe tbody tr th:only-of-type {\n",
       "        vertical-align: middle;\n",
       "    }\n",
       "\n",
       "    .dataframe tbody tr th {\n",
       "        vertical-align: top;\n",
       "    }\n",
       "\n",
       "    .dataframe thead th {\n",
       "        text-align: right;\n",
       "    }\n",
       "</style>\n",
       "<table border=\"1\" class=\"dataframe\">\n",
       "  <thead>\n",
       "    <tr style=\"text-align: right;\">\n",
       "      <th></th>\n",
       "      <th>messages_included</th>\n",
       "      <th>mb_per_month_included</th>\n",
       "      <th>minutes_included</th>\n",
       "      <th>rub_monthly_fee</th>\n",
       "      <th>rub_per_gb</th>\n",
       "      <th>rub_per_message</th>\n",
       "      <th>rub_per_minute</th>\n",
       "      <th>tariff_name</th>\n",
       "    </tr>\n",
       "  </thead>\n",
       "  <tbody>\n",
       "    <tr>\n",
       "      <td>0</td>\n",
       "      <td>50</td>\n",
       "      <td>15360</td>\n",
       "      <td>500</td>\n",
       "      <td>550</td>\n",
       "      <td>200</td>\n",
       "      <td>3</td>\n",
       "      <td>3</td>\n",
       "      <td>smart</td>\n",
       "    </tr>\n",
       "    <tr>\n",
       "      <td>1</td>\n",
       "      <td>1000</td>\n",
       "      <td>30720</td>\n",
       "      <td>3000</td>\n",
       "      <td>1950</td>\n",
       "      <td>150</td>\n",
       "      <td>1</td>\n",
       "      <td>1</td>\n",
       "      <td>ultra</td>\n",
       "    </tr>\n",
       "  </tbody>\n",
       "</table>\n",
       "</div>"
      ],
      "text/plain": [
       "   messages_included  mb_per_month_included  minutes_included  \\\n",
       "0                 50                  15360               500   \n",
       "1               1000                  30720              3000   \n",
       "\n",
       "   rub_monthly_fee  rub_per_gb  rub_per_message  rub_per_minute tariff_name  \n",
       "0              550         200                3               3       smart  \n",
       "1             1950         150                1               1       ultra  "
      ]
     },
     "metadata": {},
     "output_type": "display_data"
    },
    {
     "name": "stdout",
     "output_type": "stream",
     "text": [
      "\n"
     ]
    },
    {
     "data": {
      "text/html": [
       "<div>\n",
       "<style scoped>\n",
       "    .dataframe tbody tr th:only-of-type {\n",
       "        vertical-align: middle;\n",
       "    }\n",
       "\n",
       "    .dataframe tbody tr th {\n",
       "        vertical-align: top;\n",
       "    }\n",
       "\n",
       "    .dataframe thead th {\n",
       "        text-align: right;\n",
       "    }\n",
       "</style>\n",
       "<table border=\"1\" class=\"dataframe\">\n",
       "  <thead>\n",
       "    <tr style=\"text-align: right;\">\n",
       "      <th></th>\n",
       "      <th>user_id</th>\n",
       "      <th>age</th>\n",
       "      <th>churn_date</th>\n",
       "      <th>city</th>\n",
       "      <th>first_name</th>\n",
       "      <th>last_name</th>\n",
       "      <th>reg_date</th>\n",
       "      <th>tariff</th>\n",
       "    </tr>\n",
       "  </thead>\n",
       "  <tbody>\n",
       "    <tr>\n",
       "      <td>0</td>\n",
       "      <td>1000</td>\n",
       "      <td>52</td>\n",
       "      <td>NaN</td>\n",
       "      <td>Краснодар</td>\n",
       "      <td>Рафаил</td>\n",
       "      <td>Верещагин</td>\n",
       "      <td>2018-05-25</td>\n",
       "      <td>ultra</td>\n",
       "    </tr>\n",
       "    <tr>\n",
       "      <td>1</td>\n",
       "      <td>1001</td>\n",
       "      <td>41</td>\n",
       "      <td>NaN</td>\n",
       "      <td>Москва</td>\n",
       "      <td>Иван</td>\n",
       "      <td>Ежов</td>\n",
       "      <td>2018-11-01</td>\n",
       "      <td>smart</td>\n",
       "    </tr>\n",
       "    <tr>\n",
       "      <td>2</td>\n",
       "      <td>1002</td>\n",
       "      <td>59</td>\n",
       "      <td>NaN</td>\n",
       "      <td>Стерлитамак</td>\n",
       "      <td>Евгений</td>\n",
       "      <td>Абрамович</td>\n",
       "      <td>2018-06-17</td>\n",
       "      <td>smart</td>\n",
       "    </tr>\n",
       "    <tr>\n",
       "      <td>3</td>\n",
       "      <td>1003</td>\n",
       "      <td>23</td>\n",
       "      <td>NaN</td>\n",
       "      <td>Москва</td>\n",
       "      <td>Белла</td>\n",
       "      <td>Белякова</td>\n",
       "      <td>2018-08-17</td>\n",
       "      <td>ultra</td>\n",
       "    </tr>\n",
       "    <tr>\n",
       "      <td>4</td>\n",
       "      <td>1004</td>\n",
       "      <td>68</td>\n",
       "      <td>NaN</td>\n",
       "      <td>Новокузнецк</td>\n",
       "      <td>Татьяна</td>\n",
       "      <td>Авдеенко</td>\n",
       "      <td>2018-05-14</td>\n",
       "      <td>ultra</td>\n",
       "    </tr>\n",
       "  </tbody>\n",
       "</table>\n",
       "</div>"
      ],
      "text/plain": [
       "   user_id  age churn_date         city first_name  last_name    reg_date  \\\n",
       "0     1000   52        NaN    Краснодар     Рафаил  Верещагин  2018-05-25   \n",
       "1     1001   41        NaN       Москва       Иван       Ежов  2018-11-01   \n",
       "2     1002   59        NaN  Стерлитамак    Евгений  Абрамович  2018-06-17   \n",
       "3     1003   23        NaN       Москва      Белла   Белякова  2018-08-17   \n",
       "4     1004   68        NaN  Новокузнецк    Татьяна   Авдеенко  2018-05-14   \n",
       "\n",
       "  tariff  \n",
       "0  ultra  \n",
       "1  smart  \n",
       "2  smart  \n",
       "3  ultra  \n",
       "4  ultra  "
      ]
     },
     "metadata": {},
     "output_type": "display_data"
    }
   ],
   "source": [
    "display(calls.head())\n",
    "print()\n",
    "display(internet.head())\n",
    "print()\n",
    "display(messages.head())\n",
    "print()\n",
    "display(tariffs.head())\n",
    "print()\n",
    "display(users.head())"
   ]
  },
  {
   "cell_type": "markdown",
   "metadata": {},
   "source": [
    "### Вывод"
   ]
  },
  {
   "cell_type": "markdown",
   "metadata": {},
   "source": [
    "Данные, содержащиеся в датафрейме, являются достаточными для проведения исследования. Однако ознакомление с конкретными данными позволило выявить недостатки в данных, устранение которых будет проведено на этапе предобработки данных."
   ]
  },
  {
   "cell_type": "markdown",
   "metadata": {},
   "source": [
    "## Подготовка данных"
   ]
  },
  {
   "cell_type": "markdown",
   "metadata": {},
   "source": [
    "Из анализа таблиц следует, что таблицы о дате звонков, отправки сообщений и использования интернета имеют различные наименования: *call_date*, *session_date*, *message_date*. Приведём все данные столбцы к одному общему наименованию - *date*.    \n",
    "\n",
    "Также напишем функцию `to_date`, которая в каждом датафрейме переведёт значения в столбце с датой в формат даты, а затем добавит столбец с годом, месяцем и днём, когда был совершён звонок, направлено сообщение и использован интернет.    \n",
    "\n",
    "Выведем результат на экран.\n"
   ]
  },
  {
   "cell_type": "code",
   "execution_count": 101,
   "metadata": {},
   "outputs": [
    {
     "data": {
      "text/html": [
       "<div>\n",
       "<style scoped>\n",
       "    .dataframe tbody tr th:only-of-type {\n",
       "        vertical-align: middle;\n",
       "    }\n",
       "\n",
       "    .dataframe tbody tr th {\n",
       "        vertical-align: top;\n",
       "    }\n",
       "\n",
       "    .dataframe thead th {\n",
       "        text-align: right;\n",
       "    }\n",
       "</style>\n",
       "<table border=\"1\" class=\"dataframe\">\n",
       "  <thead>\n",
       "    <tr style=\"text-align: right;\">\n",
       "      <th></th>\n",
       "      <th>id</th>\n",
       "      <th>date</th>\n",
       "      <th>duration</th>\n",
       "      <th>user_id</th>\n",
       "      <th>year</th>\n",
       "      <th>month</th>\n",
       "      <th>day</th>\n",
       "    </tr>\n",
       "  </thead>\n",
       "  <tbody>\n",
       "    <tr>\n",
       "      <td>0</td>\n",
       "      <td>1000_0</td>\n",
       "      <td>2018-07-25</td>\n",
       "      <td>0.00</td>\n",
       "      <td>1000</td>\n",
       "      <td>2018</td>\n",
       "      <td>7</td>\n",
       "      <td>25</td>\n",
       "    </tr>\n",
       "    <tr>\n",
       "      <td>1</td>\n",
       "      <td>1000_1</td>\n",
       "      <td>2018-08-17</td>\n",
       "      <td>0.00</td>\n",
       "      <td>1000</td>\n",
       "      <td>2018</td>\n",
       "      <td>8</td>\n",
       "      <td>17</td>\n",
       "    </tr>\n",
       "    <tr>\n",
       "      <td>2</td>\n",
       "      <td>1000_2</td>\n",
       "      <td>2018-06-11</td>\n",
       "      <td>2.85</td>\n",
       "      <td>1000</td>\n",
       "      <td>2018</td>\n",
       "      <td>6</td>\n",
       "      <td>11</td>\n",
       "    </tr>\n",
       "    <tr>\n",
       "      <td>3</td>\n",
       "      <td>1000_3</td>\n",
       "      <td>2018-09-21</td>\n",
       "      <td>13.80</td>\n",
       "      <td>1000</td>\n",
       "      <td>2018</td>\n",
       "      <td>9</td>\n",
       "      <td>21</td>\n",
       "    </tr>\n",
       "    <tr>\n",
       "      <td>4</td>\n",
       "      <td>1000_4</td>\n",
       "      <td>2018-12-15</td>\n",
       "      <td>5.18</td>\n",
       "      <td>1000</td>\n",
       "      <td>2018</td>\n",
       "      <td>12</td>\n",
       "      <td>15</td>\n",
       "    </tr>\n",
       "  </tbody>\n",
       "</table>\n",
       "</div>"
      ],
      "text/plain": [
       "       id       date  duration  user_id  year  month  day\n",
       "0  1000_0 2018-07-25      0.00     1000  2018      7   25\n",
       "1  1000_1 2018-08-17      0.00     1000  2018      8   17\n",
       "2  1000_2 2018-06-11      2.85     1000  2018      6   11\n",
       "3  1000_3 2018-09-21     13.80     1000  2018      9   21\n",
       "4  1000_4 2018-12-15      5.18     1000  2018     12   15"
      ]
     },
     "metadata": {},
     "output_type": "display_data"
    },
    {
     "data": {
      "text/html": [
       "<div>\n",
       "<style scoped>\n",
       "    .dataframe tbody tr th:only-of-type {\n",
       "        vertical-align: middle;\n",
       "    }\n",
       "\n",
       "    .dataframe tbody tr th {\n",
       "        vertical-align: top;\n",
       "    }\n",
       "\n",
       "    .dataframe thead th {\n",
       "        text-align: right;\n",
       "    }\n",
       "</style>\n",
       "<table border=\"1\" class=\"dataframe\">\n",
       "  <thead>\n",
       "    <tr style=\"text-align: right;\">\n",
       "      <th></th>\n",
       "      <th>Unnamed: 0</th>\n",
       "      <th>id</th>\n",
       "      <th>mb_used</th>\n",
       "      <th>date</th>\n",
       "      <th>user_id</th>\n",
       "      <th>year</th>\n",
       "      <th>month</th>\n",
       "      <th>day</th>\n",
       "    </tr>\n",
       "  </thead>\n",
       "  <tbody>\n",
       "    <tr>\n",
       "      <td>0</td>\n",
       "      <td>0</td>\n",
       "      <td>1000_0</td>\n",
       "      <td>112.95</td>\n",
       "      <td>2018-11-25</td>\n",
       "      <td>1000</td>\n",
       "      <td>2018</td>\n",
       "      <td>11</td>\n",
       "      <td>25</td>\n",
       "    </tr>\n",
       "    <tr>\n",
       "      <td>1</td>\n",
       "      <td>1</td>\n",
       "      <td>1000_1</td>\n",
       "      <td>1,052.81</td>\n",
       "      <td>2018-09-07</td>\n",
       "      <td>1000</td>\n",
       "      <td>2018</td>\n",
       "      <td>9</td>\n",
       "      <td>7</td>\n",
       "    </tr>\n",
       "    <tr>\n",
       "      <td>2</td>\n",
       "      <td>2</td>\n",
       "      <td>1000_2</td>\n",
       "      <td>1,197.26</td>\n",
       "      <td>2018-06-25</td>\n",
       "      <td>1000</td>\n",
       "      <td>2018</td>\n",
       "      <td>6</td>\n",
       "      <td>25</td>\n",
       "    </tr>\n",
       "    <tr>\n",
       "      <td>3</td>\n",
       "      <td>3</td>\n",
       "      <td>1000_3</td>\n",
       "      <td>550.27</td>\n",
       "      <td>2018-08-22</td>\n",
       "      <td>1000</td>\n",
       "      <td>2018</td>\n",
       "      <td>8</td>\n",
       "      <td>22</td>\n",
       "    </tr>\n",
       "    <tr>\n",
       "      <td>4</td>\n",
       "      <td>4</td>\n",
       "      <td>1000_4</td>\n",
       "      <td>302.56</td>\n",
       "      <td>2018-09-24</td>\n",
       "      <td>1000</td>\n",
       "      <td>2018</td>\n",
       "      <td>9</td>\n",
       "      <td>24</td>\n",
       "    </tr>\n",
       "  </tbody>\n",
       "</table>\n",
       "</div>"
      ],
      "text/plain": [
       "   Unnamed: 0      id  mb_used       date  user_id  year  month  day\n",
       "0           0  1000_0   112.95 2018-11-25     1000  2018     11   25\n",
       "1           1  1000_1 1,052.81 2018-09-07     1000  2018      9    7\n",
       "2           2  1000_2 1,197.26 2018-06-25     1000  2018      6   25\n",
       "3           3  1000_3   550.27 2018-08-22     1000  2018      8   22\n",
       "4           4  1000_4   302.56 2018-09-24     1000  2018      9   24"
      ]
     },
     "metadata": {},
     "output_type": "display_data"
    },
    {
     "data": {
      "text/html": [
       "<div>\n",
       "<style scoped>\n",
       "    .dataframe tbody tr th:only-of-type {\n",
       "        vertical-align: middle;\n",
       "    }\n",
       "\n",
       "    .dataframe tbody tr th {\n",
       "        vertical-align: top;\n",
       "    }\n",
       "\n",
       "    .dataframe thead th {\n",
       "        text-align: right;\n",
       "    }\n",
       "</style>\n",
       "<table border=\"1\" class=\"dataframe\">\n",
       "  <thead>\n",
       "    <tr style=\"text-align: right;\">\n",
       "      <th></th>\n",
       "      <th>id</th>\n",
       "      <th>date</th>\n",
       "      <th>user_id</th>\n",
       "      <th>year</th>\n",
       "      <th>month</th>\n",
       "      <th>day</th>\n",
       "    </tr>\n",
       "  </thead>\n",
       "  <tbody>\n",
       "    <tr>\n",
       "      <td>0</td>\n",
       "      <td>1000_0</td>\n",
       "      <td>2018-06-27</td>\n",
       "      <td>1000</td>\n",
       "      <td>2018</td>\n",
       "      <td>6</td>\n",
       "      <td>27</td>\n",
       "    </tr>\n",
       "    <tr>\n",
       "      <td>1</td>\n",
       "      <td>1000_1</td>\n",
       "      <td>2018-10-08</td>\n",
       "      <td>1000</td>\n",
       "      <td>2018</td>\n",
       "      <td>10</td>\n",
       "      <td>8</td>\n",
       "    </tr>\n",
       "    <tr>\n",
       "      <td>2</td>\n",
       "      <td>1000_2</td>\n",
       "      <td>2018-08-04</td>\n",
       "      <td>1000</td>\n",
       "      <td>2018</td>\n",
       "      <td>8</td>\n",
       "      <td>4</td>\n",
       "    </tr>\n",
       "    <tr>\n",
       "      <td>3</td>\n",
       "      <td>1000_3</td>\n",
       "      <td>2018-06-16</td>\n",
       "      <td>1000</td>\n",
       "      <td>2018</td>\n",
       "      <td>6</td>\n",
       "      <td>16</td>\n",
       "    </tr>\n",
       "    <tr>\n",
       "      <td>4</td>\n",
       "      <td>1000_4</td>\n",
       "      <td>2018-12-05</td>\n",
       "      <td>1000</td>\n",
       "      <td>2018</td>\n",
       "      <td>12</td>\n",
       "      <td>5</td>\n",
       "    </tr>\n",
       "  </tbody>\n",
       "</table>\n",
       "</div>"
      ],
      "text/plain": [
       "       id       date  user_id  year  month  day\n",
       "0  1000_0 2018-06-27     1000  2018      6   27\n",
       "1  1000_1 2018-10-08     1000  2018     10    8\n",
       "2  1000_2 2018-08-04     1000  2018      8    4\n",
       "3  1000_3 2018-06-16     1000  2018      6   16\n",
       "4  1000_4 2018-12-05     1000  2018     12    5"
      ]
     },
     "metadata": {},
     "output_type": "display_data"
    }
   ],
   "source": [
    "calls.rename(columns={'call_date':'date'}, inplace=True)\n",
    "internet.rename(columns={'session_date':'date'}, inplace=True)\n",
    "messages.rename(columns={'message_date':'date'}, inplace=True)\n",
    "\n",
    "def to_date(df):\n",
    "    df['date'] = df['date'] = pd.to_datetime(df['date'], format='%Y-%m-%dT%H:%M:%S')\n",
    "    df['year'] = df['date'].dt.year.astype(int)\n",
    "    df['month'] = df['date'].dt.month.astype(int)\n",
    "    df['day'] = df['date'].dt.day.astype(int)\n",
    "    \n",
    "to_date(calls)\n",
    "to_date(internet)\n",
    "to_date(messages)\n",
    "\n",
    "display(calls.head())\n",
    "display(internet.head())\n",
    "display(messages.head())"
   ]
  },
  {
   "cell_type": "markdown",
   "metadata": {},
   "source": [
    "Таким образом, в переименованных столбцах *date* данные приведены к формату дата, а также в каждой таблице созданы столбцы *year*, *month*, *day* c cоответствующими данными для каждой оперции абонента."
   ]
  },
  {
   "cell_type": "markdown",
   "metadata": {},
   "source": [
    "Создадим объединённый датафрейм в переменной *df*. С помощью функции `merge` последовательно будем \"пристёгивать\" таблицы, сохраняя результат в *df*, при этом в отношении каждого пользователя будем рссчитывать продолжительность звонков, количество использованного интернета и отправленных сообщений в каждом месяце:"
   ]
  },
  {
   "cell_type": "code",
   "execution_count": 102,
   "metadata": {
    "scrolled": false
   },
   "outputs": [
    {
     "data": {
      "text/html": [
       "<div>\n",
       "<style scoped>\n",
       "    .dataframe tbody tr th:only-of-type {\n",
       "        vertical-align: middle;\n",
       "    }\n",
       "\n",
       "    .dataframe tbody tr th {\n",
       "        vertical-align: top;\n",
       "    }\n",
       "\n",
       "    .dataframe thead th {\n",
       "        text-align: right;\n",
       "    }\n",
       "</style>\n",
       "<table border=\"1\" class=\"dataframe\">\n",
       "  <thead>\n",
       "    <tr style=\"text-align: right;\">\n",
       "      <th></th>\n",
       "      <th>user_id</th>\n",
       "      <th>month</th>\n",
       "      <th>duration</th>\n",
       "      <th>calls_quantity</th>\n",
       "      <th>mb_used</th>\n",
       "      <th>messages_quantity</th>\n",
       "      <th>age</th>\n",
       "      <th>churn_date</th>\n",
       "      <th>city</th>\n",
       "      <th>first_name</th>\n",
       "      <th>last_name</th>\n",
       "      <th>reg_date</th>\n",
       "      <th>tariff_name</th>\n",
       "      <th>messages_included</th>\n",
       "      <th>mb_per_month_included</th>\n",
       "      <th>minutes_included</th>\n",
       "      <th>rub_monthly_fee</th>\n",
       "      <th>rub_per_gb</th>\n",
       "      <th>rub_per_message</th>\n",
       "      <th>rub_per_minute</th>\n",
       "    </tr>\n",
       "  </thead>\n",
       "  <tbody>\n",
       "    <tr>\n",
       "      <td>0</td>\n",
       "      <td>1000</td>\n",
       "      <td>5.00</td>\n",
       "      <td>150.06</td>\n",
       "      <td>22.00</td>\n",
       "      <td>2,253.49</td>\n",
       "      <td>22.00</td>\n",
       "      <td>52</td>\n",
       "      <td>NaN</td>\n",
       "      <td>Краснодар</td>\n",
       "      <td>Рафаил</td>\n",
       "      <td>Верещагин</td>\n",
       "      <td>2018-05-25</td>\n",
       "      <td>ultra</td>\n",
       "      <td>1000</td>\n",
       "      <td>30720</td>\n",
       "      <td>3000</td>\n",
       "      <td>1950</td>\n",
       "      <td>150</td>\n",
       "      <td>1</td>\n",
       "      <td>1</td>\n",
       "    </tr>\n",
       "    <tr>\n",
       "      <td>1</td>\n",
       "      <td>1000</td>\n",
       "      <td>6.00</td>\n",
       "      <td>158.90</td>\n",
       "      <td>43.00</td>\n",
       "      <td>23,233.77</td>\n",
       "      <td>60.00</td>\n",
       "      <td>52</td>\n",
       "      <td>NaN</td>\n",
       "      <td>Краснодар</td>\n",
       "      <td>Рафаил</td>\n",
       "      <td>Верещагин</td>\n",
       "      <td>2018-05-25</td>\n",
       "      <td>ultra</td>\n",
       "      <td>1000</td>\n",
       "      <td>30720</td>\n",
       "      <td>3000</td>\n",
       "      <td>1950</td>\n",
       "      <td>150</td>\n",
       "      <td>1</td>\n",
       "      <td>1</td>\n",
       "    </tr>\n",
       "    <tr>\n",
       "      <td>2</td>\n",
       "      <td>1000</td>\n",
       "      <td>7.00</td>\n",
       "      <td>318.80</td>\n",
       "      <td>47.00</td>\n",
       "      <td>14,003.64</td>\n",
       "      <td>75.00</td>\n",
       "      <td>52</td>\n",
       "      <td>NaN</td>\n",
       "      <td>Краснодар</td>\n",
       "      <td>Рафаил</td>\n",
       "      <td>Верещагин</td>\n",
       "      <td>2018-05-25</td>\n",
       "      <td>ultra</td>\n",
       "      <td>1000</td>\n",
       "      <td>30720</td>\n",
       "      <td>3000</td>\n",
       "      <td>1950</td>\n",
       "      <td>150</td>\n",
       "      <td>1</td>\n",
       "      <td>1</td>\n",
       "    </tr>\n",
       "    <tr>\n",
       "      <td>3</td>\n",
       "      <td>1000</td>\n",
       "      <td>8.00</td>\n",
       "      <td>389.87</td>\n",
       "      <td>52.00</td>\n",
       "      <td>14,055.93</td>\n",
       "      <td>81.00</td>\n",
       "      <td>52</td>\n",
       "      <td>NaN</td>\n",
       "      <td>Краснодар</td>\n",
       "      <td>Рафаил</td>\n",
       "      <td>Верещагин</td>\n",
       "      <td>2018-05-25</td>\n",
       "      <td>ultra</td>\n",
       "      <td>1000</td>\n",
       "      <td>30720</td>\n",
       "      <td>3000</td>\n",
       "      <td>1950</td>\n",
       "      <td>150</td>\n",
       "      <td>1</td>\n",
       "      <td>1</td>\n",
       "    </tr>\n",
       "    <tr>\n",
       "      <td>4</td>\n",
       "      <td>1000</td>\n",
       "      <td>9.00</td>\n",
       "      <td>440.14</td>\n",
       "      <td>58.00</td>\n",
       "      <td>14,568.91</td>\n",
       "      <td>57.00</td>\n",
       "      <td>52</td>\n",
       "      <td>NaN</td>\n",
       "      <td>Краснодар</td>\n",
       "      <td>Рафаил</td>\n",
       "      <td>Верещагин</td>\n",
       "      <td>2018-05-25</td>\n",
       "      <td>ultra</td>\n",
       "      <td>1000</td>\n",
       "      <td>30720</td>\n",
       "      <td>3000</td>\n",
       "      <td>1950</td>\n",
       "      <td>150</td>\n",
       "      <td>1</td>\n",
       "      <td>1</td>\n",
       "    </tr>\n",
       "  </tbody>\n",
       "</table>\n",
       "</div>"
      ],
      "text/plain": [
       "   user_id  month  duration  calls_quantity   mb_used  messages_quantity  age  \\\n",
       "0     1000   5.00    150.06           22.00  2,253.49              22.00   52   \n",
       "1     1000   6.00    158.90           43.00 23,233.77              60.00   52   \n",
       "2     1000   7.00    318.80           47.00 14,003.64              75.00   52   \n",
       "3     1000   8.00    389.87           52.00 14,055.93              81.00   52   \n",
       "4     1000   9.00    440.14           58.00 14,568.91              57.00   52   \n",
       "\n",
       "  churn_date       city first_name  last_name    reg_date tariff_name  \\\n",
       "0        NaN  Краснодар     Рафаил  Верещагин  2018-05-25       ultra   \n",
       "1        NaN  Краснодар     Рафаил  Верещагин  2018-05-25       ultra   \n",
       "2        NaN  Краснодар     Рафаил  Верещагин  2018-05-25       ultra   \n",
       "3        NaN  Краснодар     Рафаил  Верещагин  2018-05-25       ultra   \n",
       "4        NaN  Краснодар     Рафаил  Верещагин  2018-05-25       ultra   \n",
       "\n",
       "   messages_included  mb_per_month_included  minutes_included  \\\n",
       "0               1000                  30720              3000   \n",
       "1               1000                  30720              3000   \n",
       "2               1000                  30720              3000   \n",
       "3               1000                  30720              3000   \n",
       "4               1000                  30720              3000   \n",
       "\n",
       "   rub_monthly_fee  rub_per_gb  rub_per_message  rub_per_minute  \n",
       "0             1950         150                1               1  \n",
       "1             1950         150                1               1  \n",
       "2             1950         150                1               1  \n",
       "3             1950         150                1               1  \n",
       "4             1950         150                1               1  "
      ]
     },
     "execution_count": 102,
     "metadata": {},
     "output_type": "execute_result"
    }
   ],
   "source": [
    "# объединим таблицы calls и internet, результат сохраним в переменной df\n",
    "calls = calls.groupby(\n",
    "    ['user_id', 'month']).agg(\n",
    "    {'duration': 'sum', 'id': 'count'}).reset_index().rename(columns={\"id\": \"calls_quantity\"})\n",
    "internet = internet.groupby(['user_id', 'month']).agg({'mb_used': 'sum'}).reset_index()\n",
    "df = calls.merge(internet, on = ['user_id', 'month'], how = 'outer')\n",
    "\n",
    "# объединим df c таблицей messages, переименуем в таблице messages столбец id на messages_quantity, в котором будем \n",
    "# хранить данные о количестве отправленных сообщений у каждого абонента в месяце\n",
    "messages = messages.groupby(['user_id', 'month']).agg({'id': 'count'}).reset_index().rename(columns={\"id\": \"messages_quantity\"})\n",
    "df = df.merge(messages, on = ['user_id', 'month'], how = 'outer')\n",
    "\n",
    "# добавим в df данные об абонентах, хранящиеся в таблице users. Переименуем столбец tariff в tariff_name\n",
    "df = df.merge(users, on = 'user_id', how = 'outer')\n",
    "df.rename(columns={'tariff':'tariff_name'}, inplace=True)\n",
    "\n",
    "# объединим df c таблицей tariffs и выведем первые 5 строк получившегося датафрейма на экран\n",
    "df = df.merge(tariffs, on = 'tariff_name', how = 'outer')\n",
    "df.head()"
   ]
  },
  {
   "cell_type": "markdown",
   "metadata": {},
   "source": [
    "Вызовем метод `info()` к получившемуся датафрейму:"
   ]
  },
  {
   "cell_type": "code",
   "execution_count": 103,
   "metadata": {},
   "outputs": [
    {
     "name": "stdout",
     "output_type": "stream",
     "text": [
      "<class 'pandas.core.frame.DataFrame'>\n",
      "Int64Index: 3216 entries, 0 to 3215\n",
      "Data columns (total 20 columns):\n",
      "user_id                  3216 non-null int64\n",
      "month                    3214 non-null float64\n",
      "duration                 3174 non-null float64\n",
      "calls_quantity           3174 non-null float64\n",
      "mb_used                  3203 non-null float64\n",
      "messages_quantity        2717 non-null float64\n",
      "age                      3216 non-null int64\n",
      "churn_date               189 non-null object\n",
      "city                     3216 non-null object\n",
      "first_name               3216 non-null object\n",
      "last_name                3216 non-null object\n",
      "reg_date                 3216 non-null object\n",
      "tariff_name              3216 non-null object\n",
      "messages_included        3216 non-null int64\n",
      "mb_per_month_included    3216 non-null int64\n",
      "minutes_included         3216 non-null int64\n",
      "rub_monthly_fee          3216 non-null int64\n",
      "rub_per_gb               3216 non-null int64\n",
      "rub_per_message          3216 non-null int64\n",
      "rub_per_minute           3216 non-null int64\n",
      "dtypes: float64(5), int64(9), object(6)\n",
      "memory usage: 527.6+ KB\n"
     ]
    }
   ],
   "source": [
    "df.info()"
   ]
  },
  {
   "cell_type": "markdown",
   "metadata": {},
   "source": [
    "В результате получили объединённый датафрейм со всеми необходимыми данными для проведения дальнейшего анализа. Общее количество строк в датафрйме - 3 216, общее количество столбцов - 20."
   ]
  },
  {
   "cell_type": "markdown",
   "metadata": {},
   "source": [
    "Посчитаем количество пропусков в каждом столбце датасета путём применения методов `isna()` и `sum()`:"
   ]
  },
  {
   "cell_type": "code",
   "execution_count": 104,
   "metadata": {},
   "outputs": [
    {
     "data": {
      "text/plain": [
       "user_id                     0\n",
       "month                       2\n",
       "duration                   42\n",
       "calls_quantity             42\n",
       "mb_used                    13\n",
       "messages_quantity         499\n",
       "age                         0\n",
       "churn_date               3027\n",
       "city                        0\n",
       "first_name                  0\n",
       "last_name                   0\n",
       "reg_date                    0\n",
       "tariff_name                 0\n",
       "messages_included           0\n",
       "mb_per_month_included       0\n",
       "minutes_included            0\n",
       "rub_monthly_fee             0\n",
       "rub_per_gb                  0\n",
       "rub_per_message             0\n",
       "rub_per_minute              0\n",
       "dtype: int64"
      ]
     },
     "execution_count": 104,
     "metadata": {},
     "output_type": "execute_result"
    }
   ],
   "source": [
    "df.isna().sum()"
   ]
  },
  {
   "cell_type": "markdown",
   "metadata": {},
   "source": [
    "Пропуски обнаружены в столбцах *month*, *duration*, *calls_quantity*, *mb_used*, *messages_quantity*, *churn_date*.    \n",
    "\n",
    "При этом в столбце *month* всего 2 пропуска, поэтому удалим соответствующие строки. В столбце *churn_date* очень много пропусков, это говорит о том, что в датафрйме большая часть данных в отношении абонентов, которые на момент выгрузки данных оставались абонентами оператора. Заполним пропуски нулями.    \n",
    "\n",
    "Предположим, что пропуски в столбцах *duration*, *calls_quantity*, *mb_used*, *messages_quantity* имеются в тех месяцах, когда абонент не пользовался соответствующей услугой. Поэтому заполним пропуски в указанных столбцах 0.     \n",
    "\n",
    "Также поменяем формат данных в столбцах *messages_quantity*, *calls_quantity*, *month* в целочисленный формат, т.к. данные сведения могут быть тольуо в целых значениях, а в столбцах *churn_date* и *reg_date* в формат даты:"
   ]
  },
  {
   "cell_type": "code",
   "execution_count": 105,
   "metadata": {},
   "outputs": [],
   "source": [
    "# Удалим пропущенные значения в столбце month:\n",
    "df = df.dropna(subset=['month'])\n",
    "\n",
    "# Заполним пропуски в столбцах duration, calls_quantity, mb_used, messages_quantity, churn_date нулями:\n",
    "df.loc[df['calls_quantity'].isna(),'calls_quantity'] = 0\n",
    "df.loc[df['messages_quantity'].isna(),'messages_quantity'] = 0\n",
    "df.loc[df['churn_date'].isna(),'churn_date'] = 0\n",
    "df.loc[df['duration'].isna(),'duration'] = 0\n",
    "df.loc[df['mb_used'].isna(),'mb_used'] = 0\n",
    "\n",
    "# Приведём данные в столбцах messages_quantity, calls_quantity, month в целочисленный формат, а в столбцах churn_date и reg_date\n",
    "# в формат даты\n",
    "df['messages_quantity'] = df['messages_quantity'].astype('int')\n",
    "df['calls_quantity'] = df['calls_quantity'].astype('int')\n",
    "df['month'] = df['month'].astype(int)\n",
    "df['churn_date'] = pd.to_datetime(df['churn_date'], format='%Y-%m-%dT%H:%M:%S')\n",
    "df['reg_date'] = pd.to_datetime(df['reg_date'], format='%Y-%m-%dT%H:%M:%S')"
   ]
  },
  {
   "cell_type": "markdown",
   "metadata": {},
   "source": [
    "В столбцах *duration* и *mb_used* округлим данные доцелых чисел, а затем приведём у целочисленному формату:"
   ]
  },
  {
   "cell_type": "code",
   "execution_count": 106,
   "metadata": {
    "scrolled": true
   },
   "outputs": [
    {
     "data": {
      "text/html": [
       "<div>\n",
       "<style scoped>\n",
       "    .dataframe tbody tr th:only-of-type {\n",
       "        vertical-align: middle;\n",
       "    }\n",
       "\n",
       "    .dataframe tbody tr th {\n",
       "        vertical-align: top;\n",
       "    }\n",
       "\n",
       "    .dataframe thead th {\n",
       "        text-align: right;\n",
       "    }\n",
       "</style>\n",
       "<table border=\"1\" class=\"dataframe\">\n",
       "  <thead>\n",
       "    <tr style=\"text-align: right;\">\n",
       "      <th></th>\n",
       "      <th>user_id</th>\n",
       "      <th>month</th>\n",
       "      <th>duration</th>\n",
       "      <th>calls_quantity</th>\n",
       "      <th>mb_used</th>\n",
       "      <th>messages_quantity</th>\n",
       "      <th>age</th>\n",
       "      <th>churn_date</th>\n",
       "      <th>city</th>\n",
       "      <th>first_name</th>\n",
       "      <th>last_name</th>\n",
       "      <th>reg_date</th>\n",
       "      <th>tariff_name</th>\n",
       "      <th>messages_included</th>\n",
       "      <th>mb_per_month_included</th>\n",
       "      <th>minutes_included</th>\n",
       "      <th>rub_monthly_fee</th>\n",
       "      <th>rub_per_gb</th>\n",
       "      <th>rub_per_message</th>\n",
       "      <th>rub_per_minute</th>\n",
       "    </tr>\n",
       "  </thead>\n",
       "  <tbody>\n",
       "    <tr>\n",
       "      <td>0</td>\n",
       "      <td>1000</td>\n",
       "      <td>5</td>\n",
       "      <td>151</td>\n",
       "      <td>22</td>\n",
       "      <td>2254</td>\n",
       "      <td>22</td>\n",
       "      <td>52</td>\n",
       "      <td>1970-01-01</td>\n",
       "      <td>Краснодар</td>\n",
       "      <td>Рафаил</td>\n",
       "      <td>Верещагин</td>\n",
       "      <td>2018-05-25</td>\n",
       "      <td>ultra</td>\n",
       "      <td>1000</td>\n",
       "      <td>30720</td>\n",
       "      <td>3000</td>\n",
       "      <td>1950</td>\n",
       "      <td>150</td>\n",
       "      <td>1</td>\n",
       "      <td>1</td>\n",
       "    </tr>\n",
       "    <tr>\n",
       "      <td>1</td>\n",
       "      <td>1000</td>\n",
       "      <td>6</td>\n",
       "      <td>159</td>\n",
       "      <td>43</td>\n",
       "      <td>23234</td>\n",
       "      <td>60</td>\n",
       "      <td>52</td>\n",
       "      <td>1970-01-01</td>\n",
       "      <td>Краснодар</td>\n",
       "      <td>Рафаил</td>\n",
       "      <td>Верещагин</td>\n",
       "      <td>2018-05-25</td>\n",
       "      <td>ultra</td>\n",
       "      <td>1000</td>\n",
       "      <td>30720</td>\n",
       "      <td>3000</td>\n",
       "      <td>1950</td>\n",
       "      <td>150</td>\n",
       "      <td>1</td>\n",
       "      <td>1</td>\n",
       "    </tr>\n",
       "    <tr>\n",
       "      <td>2</td>\n",
       "      <td>1000</td>\n",
       "      <td>7</td>\n",
       "      <td>319</td>\n",
       "      <td>47</td>\n",
       "      <td>14004</td>\n",
       "      <td>75</td>\n",
       "      <td>52</td>\n",
       "      <td>1970-01-01</td>\n",
       "      <td>Краснодар</td>\n",
       "      <td>Рафаил</td>\n",
       "      <td>Верещагин</td>\n",
       "      <td>2018-05-25</td>\n",
       "      <td>ultra</td>\n",
       "      <td>1000</td>\n",
       "      <td>30720</td>\n",
       "      <td>3000</td>\n",
       "      <td>1950</td>\n",
       "      <td>150</td>\n",
       "      <td>1</td>\n",
       "      <td>1</td>\n",
       "    </tr>\n",
       "    <tr>\n",
       "      <td>3</td>\n",
       "      <td>1000</td>\n",
       "      <td>8</td>\n",
       "      <td>390</td>\n",
       "      <td>52</td>\n",
       "      <td>14056</td>\n",
       "      <td>81</td>\n",
       "      <td>52</td>\n",
       "      <td>1970-01-01</td>\n",
       "      <td>Краснодар</td>\n",
       "      <td>Рафаил</td>\n",
       "      <td>Верещагин</td>\n",
       "      <td>2018-05-25</td>\n",
       "      <td>ultra</td>\n",
       "      <td>1000</td>\n",
       "      <td>30720</td>\n",
       "      <td>3000</td>\n",
       "      <td>1950</td>\n",
       "      <td>150</td>\n",
       "      <td>1</td>\n",
       "      <td>1</td>\n",
       "    </tr>\n",
       "    <tr>\n",
       "      <td>4</td>\n",
       "      <td>1000</td>\n",
       "      <td>9</td>\n",
       "      <td>441</td>\n",
       "      <td>58</td>\n",
       "      <td>14569</td>\n",
       "      <td>57</td>\n",
       "      <td>52</td>\n",
       "      <td>1970-01-01</td>\n",
       "      <td>Краснодар</td>\n",
       "      <td>Рафаил</td>\n",
       "      <td>Верещагин</td>\n",
       "      <td>2018-05-25</td>\n",
       "      <td>ultra</td>\n",
       "      <td>1000</td>\n",
       "      <td>30720</td>\n",
       "      <td>3000</td>\n",
       "      <td>1950</td>\n",
       "      <td>150</td>\n",
       "      <td>1</td>\n",
       "      <td>1</td>\n",
       "    </tr>\n",
       "  </tbody>\n",
       "</table>\n",
       "</div>"
      ],
      "text/plain": [
       "   user_id  month  duration  calls_quantity  mb_used  messages_quantity  age  \\\n",
       "0     1000      5       151              22     2254                 22   52   \n",
       "1     1000      6       159              43    23234                 60   52   \n",
       "2     1000      7       319              47    14004                 75   52   \n",
       "3     1000      8       390              52    14056                 81   52   \n",
       "4     1000      9       441              58    14569                 57   52   \n",
       "\n",
       "  churn_date       city first_name  last_name   reg_date tariff_name  \\\n",
       "0 1970-01-01  Краснодар     Рафаил  Верещагин 2018-05-25       ultra   \n",
       "1 1970-01-01  Краснодар     Рафаил  Верещагин 2018-05-25       ultra   \n",
       "2 1970-01-01  Краснодар     Рафаил  Верещагин 2018-05-25       ultra   \n",
       "3 1970-01-01  Краснодар     Рафаил  Верещагин 2018-05-25       ultra   \n",
       "4 1970-01-01  Краснодар     Рафаил  Верещагин 2018-05-25       ultra   \n",
       "\n",
       "   messages_included  mb_per_month_included  minutes_included  \\\n",
       "0               1000                  30720              3000   \n",
       "1               1000                  30720              3000   \n",
       "2               1000                  30720              3000   \n",
       "3               1000                  30720              3000   \n",
       "4               1000                  30720              3000   \n",
       "\n",
       "   rub_monthly_fee  rub_per_gb  rub_per_message  rub_per_minute  \n",
       "0             1950         150                1               1  \n",
       "1             1950         150                1               1  \n",
       "2             1950         150                1               1  \n",
       "3             1950         150                1               1  \n",
       "4             1950         150                1               1  "
      ]
     },
     "execution_count": 106,
     "metadata": {},
     "output_type": "execute_result"
    }
   ],
   "source": [
    "for i in df:\n",
    "    if i == 'duration' or i == 'mb_used':\n",
    "        df[i] = df[i].apply(np.ceil)\n",
    "        df[i] = df[i].astype(int)\n",
    "df.head()"
   ]
  },
  {
   "cell_type": "markdown",
   "metadata": {},
   "source": [
    "Данные в столбцах *duration* и *mb_used* были округлены и переведены в целочисленный формат."
   ]
  },
  {
   "cell_type": "markdown",
   "metadata": {},
   "source": [
    "<a id='another_cell'></a>\n",
    "Поскольку у нас имеется информация о стоимости гигабайта за пределами объёма, включённого по тарифному плану (столбец *rub_per_gb*), добавим также в таблицу данные о количестве использованных гигабайтов абонентами (*gb_used*), <b>а также округлим их до целого в большую сторону</b>, и о количестве гигабайтов, включённых для абонентов по тарифному плану в месяц (*gb_per_month_included*)."
   ]
  },
  {
   "cell_type": "code",
   "execution_count": 107,
   "metadata": {},
   "outputs": [
    {
     "data": {
      "text/html": [
       "<div>\n",
       "<style scoped>\n",
       "    .dataframe tbody tr th:only-of-type {\n",
       "        vertical-align: middle;\n",
       "    }\n",
       "\n",
       "    .dataframe tbody tr th {\n",
       "        vertical-align: top;\n",
       "    }\n",
       "\n",
       "    .dataframe thead th {\n",
       "        text-align: right;\n",
       "    }\n",
       "</style>\n",
       "<table border=\"1\" class=\"dataframe\">\n",
       "  <thead>\n",
       "    <tr style=\"text-align: right;\">\n",
       "      <th></th>\n",
       "      <th>user_id</th>\n",
       "      <th>month</th>\n",
       "      <th>duration</th>\n",
       "      <th>calls_quantity</th>\n",
       "      <th>mb_used</th>\n",
       "      <th>messages_quantity</th>\n",
       "      <th>age</th>\n",
       "      <th>churn_date</th>\n",
       "      <th>city</th>\n",
       "      <th>first_name</th>\n",
       "      <th>...</th>\n",
       "      <th>tariff_name</th>\n",
       "      <th>messages_included</th>\n",
       "      <th>mb_per_month_included</th>\n",
       "      <th>minutes_included</th>\n",
       "      <th>rub_monthly_fee</th>\n",
       "      <th>rub_per_gb</th>\n",
       "      <th>rub_per_message</th>\n",
       "      <th>rub_per_minute</th>\n",
       "      <th>gb_used</th>\n",
       "      <th>gb_per_month_included</th>\n",
       "    </tr>\n",
       "  </thead>\n",
       "  <tbody>\n",
       "    <tr>\n",
       "      <td>0</td>\n",
       "      <td>1000</td>\n",
       "      <td>5</td>\n",
       "      <td>151</td>\n",
       "      <td>22</td>\n",
       "      <td>2254</td>\n",
       "      <td>22</td>\n",
       "      <td>52</td>\n",
       "      <td>1970-01-01</td>\n",
       "      <td>Краснодар</td>\n",
       "      <td>Рафаил</td>\n",
       "      <td>...</td>\n",
       "      <td>ultra</td>\n",
       "      <td>1000</td>\n",
       "      <td>30720</td>\n",
       "      <td>3000</td>\n",
       "      <td>1950</td>\n",
       "      <td>150</td>\n",
       "      <td>1</td>\n",
       "      <td>1</td>\n",
       "      <td>3</td>\n",
       "      <td>30.00</td>\n",
       "    </tr>\n",
       "    <tr>\n",
       "      <td>1</td>\n",
       "      <td>1000</td>\n",
       "      <td>6</td>\n",
       "      <td>159</td>\n",
       "      <td>43</td>\n",
       "      <td>23234</td>\n",
       "      <td>60</td>\n",
       "      <td>52</td>\n",
       "      <td>1970-01-01</td>\n",
       "      <td>Краснодар</td>\n",
       "      <td>Рафаил</td>\n",
       "      <td>...</td>\n",
       "      <td>ultra</td>\n",
       "      <td>1000</td>\n",
       "      <td>30720</td>\n",
       "      <td>3000</td>\n",
       "      <td>1950</td>\n",
       "      <td>150</td>\n",
       "      <td>1</td>\n",
       "      <td>1</td>\n",
       "      <td>23</td>\n",
       "      <td>30.00</td>\n",
       "    </tr>\n",
       "    <tr>\n",
       "      <td>2</td>\n",
       "      <td>1000</td>\n",
       "      <td>7</td>\n",
       "      <td>319</td>\n",
       "      <td>47</td>\n",
       "      <td>14004</td>\n",
       "      <td>75</td>\n",
       "      <td>52</td>\n",
       "      <td>1970-01-01</td>\n",
       "      <td>Краснодар</td>\n",
       "      <td>Рафаил</td>\n",
       "      <td>...</td>\n",
       "      <td>ultra</td>\n",
       "      <td>1000</td>\n",
       "      <td>30720</td>\n",
       "      <td>3000</td>\n",
       "      <td>1950</td>\n",
       "      <td>150</td>\n",
       "      <td>1</td>\n",
       "      <td>1</td>\n",
       "      <td>14</td>\n",
       "      <td>30.00</td>\n",
       "    </tr>\n",
       "    <tr>\n",
       "      <td>3</td>\n",
       "      <td>1000</td>\n",
       "      <td>8</td>\n",
       "      <td>390</td>\n",
       "      <td>52</td>\n",
       "      <td>14056</td>\n",
       "      <td>81</td>\n",
       "      <td>52</td>\n",
       "      <td>1970-01-01</td>\n",
       "      <td>Краснодар</td>\n",
       "      <td>Рафаил</td>\n",
       "      <td>...</td>\n",
       "      <td>ultra</td>\n",
       "      <td>1000</td>\n",
       "      <td>30720</td>\n",
       "      <td>3000</td>\n",
       "      <td>1950</td>\n",
       "      <td>150</td>\n",
       "      <td>1</td>\n",
       "      <td>1</td>\n",
       "      <td>14</td>\n",
       "      <td>30.00</td>\n",
       "    </tr>\n",
       "    <tr>\n",
       "      <td>4</td>\n",
       "      <td>1000</td>\n",
       "      <td>9</td>\n",
       "      <td>441</td>\n",
       "      <td>58</td>\n",
       "      <td>14569</td>\n",
       "      <td>57</td>\n",
       "      <td>52</td>\n",
       "      <td>1970-01-01</td>\n",
       "      <td>Краснодар</td>\n",
       "      <td>Рафаил</td>\n",
       "      <td>...</td>\n",
       "      <td>ultra</td>\n",
       "      <td>1000</td>\n",
       "      <td>30720</td>\n",
       "      <td>3000</td>\n",
       "      <td>1950</td>\n",
       "      <td>150</td>\n",
       "      <td>1</td>\n",
       "      <td>1</td>\n",
       "      <td>15</td>\n",
       "      <td>30.00</td>\n",
       "    </tr>\n",
       "  </tbody>\n",
       "</table>\n",
       "<p>5 rows × 22 columns</p>\n",
       "</div>"
      ],
      "text/plain": [
       "   user_id  month  duration  calls_quantity  mb_used  messages_quantity  age  \\\n",
       "0     1000      5       151              22     2254                 22   52   \n",
       "1     1000      6       159              43    23234                 60   52   \n",
       "2     1000      7       319              47    14004                 75   52   \n",
       "3     1000      8       390              52    14056                 81   52   \n",
       "4     1000      9       441              58    14569                 57   52   \n",
       "\n",
       "  churn_date       city first_name  ... tariff_name messages_included  \\\n",
       "0 1970-01-01  Краснодар     Рафаил  ...       ultra              1000   \n",
       "1 1970-01-01  Краснодар     Рафаил  ...       ultra              1000   \n",
       "2 1970-01-01  Краснодар     Рафаил  ...       ultra              1000   \n",
       "3 1970-01-01  Краснодар     Рафаил  ...       ultra              1000   \n",
       "4 1970-01-01  Краснодар     Рафаил  ...       ultra              1000   \n",
       "\n",
       "  mb_per_month_included  minutes_included  rub_monthly_fee  rub_per_gb  \\\n",
       "0                 30720              3000             1950         150   \n",
       "1                 30720              3000             1950         150   \n",
       "2                 30720              3000             1950         150   \n",
       "3                 30720              3000             1950         150   \n",
       "4                 30720              3000             1950         150   \n",
       "\n",
       "   rub_per_message  rub_per_minute  gb_used  gb_per_month_included  \n",
       "0                1               1        3                  30.00  \n",
       "1                1               1       23                  30.00  \n",
       "2                1               1       14                  30.00  \n",
       "3                1               1       14                  30.00  \n",
       "4                1               1       15                  30.00  \n",
       "\n",
       "[5 rows x 22 columns]"
      ]
     },
     "execution_count": 107,
     "metadata": {},
     "output_type": "execute_result"
    }
   ],
   "source": [
    "df = df.assign(\n",
    "    gb_used = df['mb_used'] / 1024,\n",
    "    gb_per_month_included = df['mb_per_month_included'] / 1024\n",
    ")\n",
    "df['gb_used'] = np.ceil(df['gb_used']) # Округлим данные об интернет-трафике до целых значений в большую сторону\n",
    "df['gb_used'] = df['gb_used'].astype(int)\n",
    "df['gb_per_month_included'] = df['gb_per_month_included'].astype(float)\n",
    "df.head()"
   ]
  },
  {
   "cell_type": "markdown",
   "metadata": {},
   "source": [
    "Теперь у нас добавились данные о расходованных гигабайтах в месяц и количестве гигабайтов, включённых в тарифный план."
   ]
  },
  {
   "cell_type": "markdown",
   "metadata": {},
   "source": [
    "Посчитаем помесячную выручку с каждого пользователя. Для этого вычтим бесплатный лимит (столбцы *messages_included*, *gb_per_month_included*, *minutes_included*) из суммарного количества звонков (*duration*), сообщений (*messages_quantity*) и интернет-трафика (*gb_used*). Остаток умножим на значение из тарифного плана (*rub_per_message*, *rub_per_gb*, *rub_per_minute*), а таже прибавим абонентскую плату, соответствующую тарифному плану.     \n",
    "\n",
    "Для расчётов напишем функцию `income_per_month`, которая будет возвращать значение выручки по абоненту. Создадим столбец *income_per_month*, в котором сохраним результаты применения функции по каждому абоненту:"
   ]
  },
  {
   "cell_type": "code",
   "execution_count": 108,
   "metadata": {},
   "outputs": [
    {
     "data": {
      "text/html": [
       "<div>\n",
       "<style scoped>\n",
       "    .dataframe tbody tr th:only-of-type {\n",
       "        vertical-align: middle;\n",
       "    }\n",
       "\n",
       "    .dataframe tbody tr th {\n",
       "        vertical-align: top;\n",
       "    }\n",
       "\n",
       "    .dataframe thead th {\n",
       "        text-align: right;\n",
       "    }\n",
       "</style>\n",
       "<table border=\"1\" class=\"dataframe\">\n",
       "  <thead>\n",
       "    <tr style=\"text-align: right;\">\n",
       "      <th></th>\n",
       "      <th>user_id</th>\n",
       "      <th>month</th>\n",
       "      <th>duration</th>\n",
       "      <th>calls_quantity</th>\n",
       "      <th>mb_used</th>\n",
       "      <th>messages_quantity</th>\n",
       "      <th>age</th>\n",
       "      <th>churn_date</th>\n",
       "      <th>city</th>\n",
       "      <th>first_name</th>\n",
       "      <th>...</th>\n",
       "      <th>messages_included</th>\n",
       "      <th>mb_per_month_included</th>\n",
       "      <th>minutes_included</th>\n",
       "      <th>rub_monthly_fee</th>\n",
       "      <th>rub_per_gb</th>\n",
       "      <th>rub_per_message</th>\n",
       "      <th>rub_per_minute</th>\n",
       "      <th>gb_used</th>\n",
       "      <th>gb_per_month_included</th>\n",
       "      <th>income_per_month</th>\n",
       "    </tr>\n",
       "  </thead>\n",
       "  <tbody>\n",
       "    <tr>\n",
       "      <td>0</td>\n",
       "      <td>1000</td>\n",
       "      <td>5</td>\n",
       "      <td>151</td>\n",
       "      <td>22</td>\n",
       "      <td>2254</td>\n",
       "      <td>22</td>\n",
       "      <td>52</td>\n",
       "      <td>1970-01-01</td>\n",
       "      <td>Краснодар</td>\n",
       "      <td>Рафаил</td>\n",
       "      <td>...</td>\n",
       "      <td>1000</td>\n",
       "      <td>30720</td>\n",
       "      <td>3000</td>\n",
       "      <td>1950</td>\n",
       "      <td>150</td>\n",
       "      <td>1</td>\n",
       "      <td>1</td>\n",
       "      <td>3</td>\n",
       "      <td>30.00</td>\n",
       "      <td>1,950.00</td>\n",
       "    </tr>\n",
       "    <tr>\n",
       "      <td>1</td>\n",
       "      <td>1000</td>\n",
       "      <td>6</td>\n",
       "      <td>159</td>\n",
       "      <td>43</td>\n",
       "      <td>23234</td>\n",
       "      <td>60</td>\n",
       "      <td>52</td>\n",
       "      <td>1970-01-01</td>\n",
       "      <td>Краснодар</td>\n",
       "      <td>Рафаил</td>\n",
       "      <td>...</td>\n",
       "      <td>1000</td>\n",
       "      <td>30720</td>\n",
       "      <td>3000</td>\n",
       "      <td>1950</td>\n",
       "      <td>150</td>\n",
       "      <td>1</td>\n",
       "      <td>1</td>\n",
       "      <td>23</td>\n",
       "      <td>30.00</td>\n",
       "      <td>1,950.00</td>\n",
       "    </tr>\n",
       "    <tr>\n",
       "      <td>2</td>\n",
       "      <td>1000</td>\n",
       "      <td>7</td>\n",
       "      <td>319</td>\n",
       "      <td>47</td>\n",
       "      <td>14004</td>\n",
       "      <td>75</td>\n",
       "      <td>52</td>\n",
       "      <td>1970-01-01</td>\n",
       "      <td>Краснодар</td>\n",
       "      <td>Рафаил</td>\n",
       "      <td>...</td>\n",
       "      <td>1000</td>\n",
       "      <td>30720</td>\n",
       "      <td>3000</td>\n",
       "      <td>1950</td>\n",
       "      <td>150</td>\n",
       "      <td>1</td>\n",
       "      <td>1</td>\n",
       "      <td>14</td>\n",
       "      <td>30.00</td>\n",
       "      <td>1,950.00</td>\n",
       "    </tr>\n",
       "    <tr>\n",
       "      <td>3</td>\n",
       "      <td>1000</td>\n",
       "      <td>8</td>\n",
       "      <td>390</td>\n",
       "      <td>52</td>\n",
       "      <td>14056</td>\n",
       "      <td>81</td>\n",
       "      <td>52</td>\n",
       "      <td>1970-01-01</td>\n",
       "      <td>Краснодар</td>\n",
       "      <td>Рафаил</td>\n",
       "      <td>...</td>\n",
       "      <td>1000</td>\n",
       "      <td>30720</td>\n",
       "      <td>3000</td>\n",
       "      <td>1950</td>\n",
       "      <td>150</td>\n",
       "      <td>1</td>\n",
       "      <td>1</td>\n",
       "      <td>14</td>\n",
       "      <td>30.00</td>\n",
       "      <td>1,950.00</td>\n",
       "    </tr>\n",
       "    <tr>\n",
       "      <td>4</td>\n",
       "      <td>1000</td>\n",
       "      <td>9</td>\n",
       "      <td>441</td>\n",
       "      <td>58</td>\n",
       "      <td>14569</td>\n",
       "      <td>57</td>\n",
       "      <td>52</td>\n",
       "      <td>1970-01-01</td>\n",
       "      <td>Краснодар</td>\n",
       "      <td>Рафаил</td>\n",
       "      <td>...</td>\n",
       "      <td>1000</td>\n",
       "      <td>30720</td>\n",
       "      <td>3000</td>\n",
       "      <td>1950</td>\n",
       "      <td>150</td>\n",
       "      <td>1</td>\n",
       "      <td>1</td>\n",
       "      <td>15</td>\n",
       "      <td>30.00</td>\n",
       "      <td>1,950.00</td>\n",
       "    </tr>\n",
       "  </tbody>\n",
       "</table>\n",
       "<p>5 rows × 23 columns</p>\n",
       "</div>"
      ],
      "text/plain": [
       "   user_id  month  duration  calls_quantity  mb_used  messages_quantity  age  \\\n",
       "0     1000      5       151              22     2254                 22   52   \n",
       "1     1000      6       159              43    23234                 60   52   \n",
       "2     1000      7       319              47    14004                 75   52   \n",
       "3     1000      8       390              52    14056                 81   52   \n",
       "4     1000      9       441              58    14569                 57   52   \n",
       "\n",
       "  churn_date       city first_name  ... messages_included  \\\n",
       "0 1970-01-01  Краснодар     Рафаил  ...              1000   \n",
       "1 1970-01-01  Краснодар     Рафаил  ...              1000   \n",
       "2 1970-01-01  Краснодар     Рафаил  ...              1000   \n",
       "3 1970-01-01  Краснодар     Рафаил  ...              1000   \n",
       "4 1970-01-01  Краснодар     Рафаил  ...              1000   \n",
       "\n",
       "  mb_per_month_included minutes_included  rub_monthly_fee  rub_per_gb  \\\n",
       "0                 30720             3000             1950         150   \n",
       "1                 30720             3000             1950         150   \n",
       "2                 30720             3000             1950         150   \n",
       "3                 30720             3000             1950         150   \n",
       "4                 30720             3000             1950         150   \n",
       "\n",
       "   rub_per_message  rub_per_minute  gb_used  gb_per_month_included  \\\n",
       "0                1               1        3                  30.00   \n",
       "1                1               1       23                  30.00   \n",
       "2                1               1       14                  30.00   \n",
       "3                1               1       14                  30.00   \n",
       "4                1               1       15                  30.00   \n",
       "\n",
       "   income_per_month  \n",
       "0          1,950.00  \n",
       "1          1,950.00  \n",
       "2          1,950.00  \n",
       "3          1,950.00  \n",
       "4          1,950.00  \n",
       "\n",
       "[5 rows x 23 columns]"
      ]
     },
     "execution_count": 108,
     "metadata": {},
     "output_type": "execute_result"
    }
   ],
   "source": [
    "def income_per_month(df):\n",
    "    messages_over = (df['messages_quantity'] - df['messages_included']) * df['rub_per_message']\n",
    "    internet_over = (df['gb_used'] - df['gb_per_month_included']) * df['rub_per_gb']\n",
    "    calls_over = (df['duration'] - df['minutes_included']) * df['rub_per_minute']\n",
    "    \n",
    "    if messages_over < 0: \n",
    "        messages_over = 0\n",
    "    if internet_over < 0: \n",
    "        internet_over = 0\n",
    "    if calls_over < 0: \n",
    "        calls_over = 0\n",
    "    \n",
    "    income_per_month = messages_over + messages_over + internet_over + df['rub_monthly_fee']\n",
    "    return income_per_month\n",
    "\n",
    "df['income_per_month'] = df.apply(income_per_month, axis = 1)\n",
    "df.head()"
   ]
  },
  {
   "cell_type": "markdown",
   "metadata": {},
   "source": [
    "Следовательно, помесячная выручка посчитана в столбце *income_per_month*."
   ]
  },
  {
   "cell_type": "markdown",
   "metadata": {},
   "source": [
    "На конечном этапе подготовки данных посчитаем количество дубликатов, т.е. полностью одинаковых строк, с помощью методов `duplicated()` и `sum()`:"
   ]
  },
  {
   "cell_type": "code",
   "execution_count": 109,
   "metadata": {},
   "outputs": [
    {
     "name": "stdout",
     "output_type": "stream",
     "text": [
      "Количество дубликатов в датасете: 0\n"
     ]
    }
   ],
   "source": [
    "print(f'Количество дубликатов в датасете: {df.duplicated().sum()}')"
   ]
  },
  {
   "cell_type": "markdown",
   "metadata": {},
   "source": [
    "### Вывод"
   ]
  },
  {
   "cell_type": "markdown",
   "metadata": {},
   "source": [
    "По результатам подготовки данных:\n",
    "* заполнены и(или) удалены пропущенные значения;\n",
    "* при необходимости изменён формат данных;\n",
    "* добавленные данные об использованных гигабайтах в месяц у каждого пользователя и о количестве гигабайтов, включёггых в тарифный план;\n",
    "* почитана помесячная выручка по каждому пользователю."
   ]
  },
  {
   "cell_type": "markdown",
   "metadata": {},
   "source": [
    "## Статистический анализ данных"
   ]
  },
  {
   "cell_type": "markdown",
   "metadata": {},
   "source": [
    "Чтобы определить сколько минут разговоров, количества сообщений и трафика интернета в среднем требуется абонентам разных тариных планов сделаем срез по абонентам по тарифным планам, а далее с помощью `pivot_table()` создадим сводные таблицы с соответствующими средними значениями для каждого месяца:"
   ]
  },
  {
   "cell_type": "code",
   "execution_count": 110,
   "metadata": {},
   "outputs": [
    {
     "name": "stdout",
     "output_type": "stream",
     "text": [
      "Количество абонентов тарифа ultra: 985\n"
     ]
    },
    {
     "data": {
      "text/html": [
       "<div>\n",
       "<style scoped>\n",
       "    .dataframe tbody tr th:only-of-type {\n",
       "        vertical-align: middle;\n",
       "    }\n",
       "\n",
       "    .dataframe tbody tr th {\n",
       "        vertical-align: top;\n",
       "    }\n",
       "\n",
       "    .dataframe thead th {\n",
       "        text-align: right;\n",
       "    }\n",
       "</style>\n",
       "<table border=\"1\" class=\"dataframe\">\n",
       "  <thead>\n",
       "    <tr style=\"text-align: right;\">\n",
       "      <th></th>\n",
       "      <th>duration</th>\n",
       "      <th>gb_used</th>\n",
       "      <th>messages_quantity</th>\n",
       "    </tr>\n",
       "    <tr>\n",
       "      <th>month</th>\n",
       "      <th></th>\n",
       "      <th></th>\n",
       "      <th></th>\n",
       "    </tr>\n",
       "  </thead>\n",
       "  <tbody>\n",
       "    <tr>\n",
       "      <td>1</td>\n",
       "      <td>405.33</td>\n",
       "      <td>13.22</td>\n",
       "      <td>33.78</td>\n",
       "    </tr>\n",
       "    <tr>\n",
       "      <td>2</td>\n",
       "      <td>281.12</td>\n",
       "      <td>12.00</td>\n",
       "      <td>21.96</td>\n",
       "    </tr>\n",
       "    <tr>\n",
       "      <td>3</td>\n",
       "      <td>462.97</td>\n",
       "      <td>17.65</td>\n",
       "      <td>32.30</td>\n",
       "    </tr>\n",
       "    <tr>\n",
       "      <td>4</td>\n",
       "      <td>432.36</td>\n",
       "      <td>16.96</td>\n",
       "      <td>31.56</td>\n",
       "    </tr>\n",
       "    <tr>\n",
       "      <td>5</td>\n",
       "      <td>482.21</td>\n",
       "      <td>19.37</td>\n",
       "      <td>37.85</td>\n",
       "    </tr>\n",
       "    <tr>\n",
       "      <td>6</td>\n",
       "      <td>453.45</td>\n",
       "      <td>18.94</td>\n",
       "      <td>41.73</td>\n",
       "    </tr>\n",
       "    <tr>\n",
       "      <td>7</td>\n",
       "      <td>515.69</td>\n",
       "      <td>20.51</td>\n",
       "      <td>49.85</td>\n",
       "    </tr>\n",
       "    <tr>\n",
       "      <td>8</td>\n",
       "      <td>482.40</td>\n",
       "      <td>19.60</td>\n",
       "      <td>48.44</td>\n",
       "    </tr>\n",
       "    <tr>\n",
       "      <td>9</td>\n",
       "      <td>509.60</td>\n",
       "      <td>19.24</td>\n",
       "      <td>52.29</td>\n",
       "    </tr>\n",
       "    <tr>\n",
       "      <td>10</td>\n",
       "      <td>527.31</td>\n",
       "      <td>20.07</td>\n",
       "      <td>58.43</td>\n",
       "    </tr>\n",
       "    <tr>\n",
       "      <td>11</td>\n",
       "      <td>511.36</td>\n",
       "      <td>19.81</td>\n",
       "      <td>55.79</td>\n",
       "    </tr>\n",
       "    <tr>\n",
       "      <td>12</td>\n",
       "      <td>560.08</td>\n",
       "      <td>21.74</td>\n",
       "      <td>60.61</td>\n",
       "    </tr>\n",
       "  </tbody>\n",
       "</table>\n",
       "</div>"
      ],
      "text/plain": [
       "       duration  gb_used  messages_quantity\n",
       "month                                      \n",
       "1        405.33    13.22              33.78\n",
       "2        281.12    12.00              21.96\n",
       "3        462.97    17.65              32.30\n",
       "4        432.36    16.96              31.56\n",
       "5        482.21    19.37              37.85\n",
       "6        453.45    18.94              41.73\n",
       "7        515.69    20.51              49.85\n",
       "8        482.40    19.60              48.44\n",
       "9        509.60    19.24              52.29\n",
       "10       527.31    20.07              58.43\n",
       "11       511.36    19.81              55.79\n",
       "12       560.08    21.74              60.61"
      ]
     },
     "execution_count": 110,
     "metadata": {},
     "output_type": "execute_result"
    }
   ],
   "source": [
    "# В переменной df_ultra сохраним срез по абонентам тарифного плана ultra\n",
    "df_ultra = df.query('tariff_name == \"ultra\"')\n",
    "\n",
    "# Выведем на экран количество абонентов по данному тарифному плану, сведенния о которых хранятся в датафрейме\n",
    "print(f'Количество абонентов тарифа ultra: {len(df_ultra)}')\n",
    "\n",
    "# Создадим сводную таблицу, содержащую данные о средних данных об использованном трафике, отправленных сообщениях и \n",
    "# продолжительности звонков в разрезе каждого месяца. Выведем результат на экран.\n",
    "df_ultra = df_ultra.pivot_table(index='month', values=['gb_used', 'messages_quantity', 'duration'], aggfunc='mean')\n",
    "df_ultra"
   ]
  },
  {
   "cell_type": "markdown",
   "metadata": {},
   "source": [
    "Выполним аналогичные действия для абонентов тарифного плана smart:"
   ]
  },
  {
   "cell_type": "code",
   "execution_count": 111,
   "metadata": {},
   "outputs": [
    {
     "name": "stdout",
     "output_type": "stream",
     "text": [
      "Количество абонентов тарифа smart: 2229\n"
     ]
    },
    {
     "data": {
      "text/html": [
       "<div>\n",
       "<style scoped>\n",
       "    .dataframe tbody tr th:only-of-type {\n",
       "        vertical-align: middle;\n",
       "    }\n",
       "\n",
       "    .dataframe tbody tr th {\n",
       "        vertical-align: top;\n",
       "    }\n",
       "\n",
       "    .dataframe thead th {\n",
       "        text-align: right;\n",
       "    }\n",
       "</style>\n",
       "<table border=\"1\" class=\"dataframe\">\n",
       "  <thead>\n",
       "    <tr style=\"text-align: right;\">\n",
       "      <th></th>\n",
       "      <th>duration</th>\n",
       "      <th>gb_used</th>\n",
       "      <th>messages_quantity</th>\n",
       "    </tr>\n",
       "    <tr>\n",
       "      <th>month</th>\n",
       "      <th></th>\n",
       "      <th></th>\n",
       "      <th></th>\n",
       "    </tr>\n",
       "  </thead>\n",
       "  <tbody>\n",
       "    <tr>\n",
       "      <td>1</td>\n",
       "      <td>193.50</td>\n",
       "      <td>8.74</td>\n",
       "      <td>18.24</td>\n",
       "    </tr>\n",
       "    <tr>\n",
       "      <td>2</td>\n",
       "      <td>283.41</td>\n",
       "      <td>11.84</td>\n",
       "      <td>24.09</td>\n",
       "    </tr>\n",
       "    <tr>\n",
       "      <td>3</td>\n",
       "      <td>368.34</td>\n",
       "      <td>15.23</td>\n",
       "      <td>31.86</td>\n",
       "    </tr>\n",
       "    <tr>\n",
       "      <td>4</td>\n",
       "      <td>346.77</td>\n",
       "      <td>13.62</td>\n",
       "      <td>30.74</td>\n",
       "    </tr>\n",
       "    <tr>\n",
       "      <td>5</td>\n",
       "      <td>365.71</td>\n",
       "      <td>15.91</td>\n",
       "      <td>33.77</td>\n",
       "    </tr>\n",
       "    <tr>\n",
       "      <td>6</td>\n",
       "      <td>373.68</td>\n",
       "      <td>15.95</td>\n",
       "      <td>33.40</td>\n",
       "    </tr>\n",
       "    <tr>\n",
       "      <td>7</td>\n",
       "      <td>386.00</td>\n",
       "      <td>15.88</td>\n",
       "      <td>33.75</td>\n",
       "    </tr>\n",
       "    <tr>\n",
       "      <td>8</td>\n",
       "      <td>398.37</td>\n",
       "      <td>16.74</td>\n",
       "      <td>33.64</td>\n",
       "    </tr>\n",
       "    <tr>\n",
       "      <td>9</td>\n",
       "      <td>405.01</td>\n",
       "      <td>16.39</td>\n",
       "      <td>33.64</td>\n",
       "    </tr>\n",
       "    <tr>\n",
       "      <td>10</td>\n",
       "      <td>402.76</td>\n",
       "      <td>16.88</td>\n",
       "      <td>33.77</td>\n",
       "    </tr>\n",
       "    <tr>\n",
       "      <td>11</td>\n",
       "      <td>411.10</td>\n",
       "      <td>17.00</td>\n",
       "      <td>34.08</td>\n",
       "    </tr>\n",
       "    <tr>\n",
       "      <td>12</td>\n",
       "      <td>452.20</td>\n",
       "      <td>18.20</td>\n",
       "      <td>35.99</td>\n",
       "    </tr>\n",
       "  </tbody>\n",
       "</table>\n",
       "</div>"
      ],
      "text/plain": [
       "       duration  gb_used  messages_quantity\n",
       "month                                      \n",
       "1        193.50     8.74              18.24\n",
       "2        283.41    11.84              24.09\n",
       "3        368.34    15.23              31.86\n",
       "4        346.77    13.62              30.74\n",
       "5        365.71    15.91              33.77\n",
       "6        373.68    15.95              33.40\n",
       "7        386.00    15.88              33.75\n",
       "8        398.37    16.74              33.64\n",
       "9        405.01    16.39              33.64\n",
       "10       402.76    16.88              33.77\n",
       "11       411.10    17.00              34.08\n",
       "12       452.20    18.20              35.99"
      ]
     },
     "execution_count": 111,
     "metadata": {},
     "output_type": "execute_result"
    }
   ],
   "source": [
    "# В переменной df_smart сохраним срез по абонентам тарифного плана smart\n",
    "df_smart = df.query('tariff_name == \"smart\"')\n",
    "\n",
    "# Выведем на экран количество абонентов по данному тарифному плану, сведенния о которых хранятся в датафрейме\n",
    "print(f'Количество абонентов тарифа smart: {len(df_smart)}')\n",
    "\n",
    "# Создадим сводную таблицу, содержащую данные о средних данных об использованном трафике, отправленных сообщениях и \n",
    "# продолжительности звонков в разрезе каждого месяца. Выведем результат на экран.\n",
    "df_smart = df_smart.pivot_table(index='month', values=['gb_used', 'messages_quantity', 'duration'], aggfunc='mean')\n",
    "df_smart"
   ]
  },
  {
   "cell_type": "markdown",
   "metadata": {},
   "source": [
    "Таким образом, мы видим, что в датафрейме большая часть данных относится к абонентам тарифного плана smart (2 229 против 985)."
   ]
  },
  {
   "cell_type": "markdown",
   "metadata": {},
   "source": [
    "Визуализируем полученные данные и сделаем выводы:"
   ]
  },
  {
   "cell_type": "code",
   "execution_count": 112,
   "metadata": {},
   "outputs": [],
   "source": [
    "# Создадим функцию, которая будет возвращать график lineplot, построенный для данных по каждому тарифному плану\n",
    "def month_result(df, column):\n",
    "    for i in df['tariff_name'].unique():\n",
    "        current = df.query('tariff_name == @i')\n",
    "        sns.lineplot(data=current, x='month', y=column, marker='o', label=i)\n",
    "        plt.legend() \n",
    "        plt.show"
   ]
  },
  {
   "cell_type": "markdown",
   "metadata": {},
   "source": [
    "Применим функцию `month_result` к данным о продолжительности звонков:"
   ]
  },
  {
   "cell_type": "code",
   "execution_count": 113,
   "metadata": {
    "scrolled": false
   },
   "outputs": [
    {
     "data": {
      "image/png": "[encoded data removed]",
      "text/plain": [
       "<Figure size 842.4x595.44 with 1 Axes>"
      ]
     },
     "metadata": {},
     "output_type": "display_data"
    }
   ],
   "source": [
    "month_result(df, 'duration')"
   ]
  },
  {
   "cell_type": "markdown",
   "metadata": {},
   "source": [
    "Продолжительность разговоров у абонентов обоих тарифных планов была сопоставима только в феврале 2018 г. В остальные месяцы абоненты тарифного плана *ultra* разговаривали по телефону больше. При этом для абонентов обоих тарифных планов характерен рост продолжительности разговоров к концу 2018 г."
   ]
  },
  {
   "cell_type": "markdown",
   "metadata": {},
   "source": [
    "Применим функцию `month_result` к данным об использованном трафике интернета:"
   ]
  },
  {
   "cell_type": "code",
   "execution_count": 114,
   "metadata": {
    "scrolled": false
   },
   "outputs": [
    {
     "data": {
      "image/png": "[encoded data removed]",
      "text/plain": [
       "<Figure size 842.4x595.44 with 1 Axes>"
      ]
     },
     "metadata": {},
     "output_type": "display_data"
    }
   ],
   "source": [
    "month_result(df, 'gb_used')"
   ]
  },
  {
   "cell_type": "markdown",
   "metadata": {},
   "source": [
    "Абоненты *ultra* больше используют траифка интернета, чем абоненты тарифа *smart*. "
   ]
  },
  {
   "cell_type": "markdown",
   "metadata": {},
   "source": [
    "Применим функцию `month_result` к данным о количестве сообщений:"
   ]
  },
  {
   "cell_type": "code",
   "execution_count": 115,
   "metadata": {
    "scrolled": false
   },
   "outputs": [
    {
     "data": {
      "image/png": "[encoded data removed]",
      "text/plain": [
       "<Figure size 842.4x595.44 with 1 Axes>"
      ]
     },
     "metadata": {},
     "output_type": "display_data"
    }
   ],
   "source": [
    "month_result(df, 'messages_quantity')"
   ]
  },
  {
   "cell_type": "markdown",
   "metadata": {},
   "source": [
    "Пол количеству отправленных сообщений абоненты тарифа *smart* опредили абонентов тарифа *ultra* в феврале 2018 г. В марте и апреле количество отправленных сообщений сопоставимо. В остальные месяцы абоненты по тарифному плану *ultra* отправляли сообщений больше."
   ]
  },
  {
   "cell_type": "markdown",
   "metadata": {},
   "source": [
    "Рассчитаем среднее количество (*mean*), стандартное отклонение (*std*), дисперсию (*var*) и коэффициент вариации (*cv*) для данных об использованном интернете, отправленных сообщений, продолжительности разговоров и помесячной выручки в отношении абонентов обоих тарифных планов:"
   ]
  },
  {
   "cell_type": "code",
   "execution_count": 116,
   "metadata": {
    "scrolled": true
   },
   "outputs": [
    {
     "name": "stdout",
     "output_type": "stream",
     "text": [
      "Тариф: ultra\n"
     ]
    },
    {
     "data": {
      "text/html": [
       "<div>\n",
       "<style scoped>\n",
       "    .dataframe tbody tr th:only-of-type {\n",
       "        vertical-align: middle;\n",
       "    }\n",
       "\n",
       "    .dataframe tbody tr th {\n",
       "        vertical-align: top;\n",
       "    }\n",
       "\n",
       "    .dataframe thead th {\n",
       "        text-align: right;\n",
       "    }\n",
       "</style>\n",
       "<table border=\"1\" class=\"dataframe\">\n",
       "  <thead>\n",
       "    <tr style=\"text-align: right;\">\n",
       "      <th></th>\n",
       "      <th>count</th>\n",
       "      <th>mean</th>\n",
       "      <th>std</th>\n",
       "      <th>min</th>\n",
       "      <th>25%</th>\n",
       "      <th>50%</th>\n",
       "      <th>75%</th>\n",
       "      <th>max</th>\n",
       "      <th>var</th>\n",
       "      <th>cv</th>\n",
       "    </tr>\n",
       "  </thead>\n",
       "  <tbody>\n",
       "    <tr>\n",
       "      <td>gb_used</td>\n",
       "      <td>985.00</td>\n",
       "      <td>19.49</td>\n",
       "      <td>9.85</td>\n",
       "      <td>0.00</td>\n",
       "      <td>12.00</td>\n",
       "      <td>19.00</td>\n",
       "      <td>27.00</td>\n",
       "      <td>49.00</td>\n",
       "      <td>97.09</td>\n",
       "      <td>0.51</td>\n",
       "    </tr>\n",
       "    <tr>\n",
       "      <td>messages_quantity</td>\n",
       "      <td>985.00</td>\n",
       "      <td>49.36</td>\n",
       "      <td>47.80</td>\n",
       "      <td>0.00</td>\n",
       "      <td>6.00</td>\n",
       "      <td>38.00</td>\n",
       "      <td>79.00</td>\n",
       "      <td>224.00</td>\n",
       "      <td>2,285.27</td>\n",
       "      <td>0.97</td>\n",
       "    </tr>\n",
       "    <tr>\n",
       "      <td>duration</td>\n",
       "      <td>985.00</td>\n",
       "      <td>497.55</td>\n",
       "      <td>299.93</td>\n",
       "      <td>0.00</td>\n",
       "      <td>268.00</td>\n",
       "      <td>489.00</td>\n",
       "      <td>712.00</td>\n",
       "      <td>1,579.00</td>\n",
       "      <td>89,957.72</td>\n",
       "      <td>0.60</td>\n",
       "    </tr>\n",
       "    <tr>\n",
       "      <td>income_per_month</td>\n",
       "      <td>985.00</td>\n",
       "      <td>2,070.15</td>\n",
       "      <td>376.19</td>\n",
       "      <td>1,950.00</td>\n",
       "      <td>1,950.00</td>\n",
       "      <td>1,950.00</td>\n",
       "      <td>1,950.00</td>\n",
       "      <td>4,800.00</td>\n",
       "      <td>141,516.75</td>\n",
       "      <td>0.18</td>\n",
       "    </tr>\n",
       "  </tbody>\n",
       "</table>\n",
       "</div>"
      ],
      "text/plain": [
       "                   count     mean    std      min      25%      50%      75%  \\\n",
       "gb_used           985.00    19.49   9.85     0.00    12.00    19.00    27.00   \n",
       "messages_quantity 985.00    49.36  47.80     0.00     6.00    38.00    79.00   \n",
       "duration          985.00   497.55 299.93     0.00   268.00   489.00   712.00   \n",
       "income_per_month  985.00 2,070.15 376.19 1,950.00 1,950.00 1,950.00 1,950.00   \n",
       "\n",
       "                       max        var   cv  \n",
       "gb_used              49.00      97.09 0.51  \n",
       "messages_quantity   224.00   2,285.27 0.97  \n",
       "duration          1,579.00  89,957.72 0.60  \n",
       "income_per_month  4,800.00 141,516.75 0.18  "
      ]
     },
     "metadata": {},
     "output_type": "display_data"
    },
    {
     "name": "stdout",
     "output_type": "stream",
     "text": [
      "Тариф: smart\n"
     ]
    },
    {
     "data": {
      "text/html": [
       "<div>\n",
       "<style scoped>\n",
       "    .dataframe tbody tr th:only-of-type {\n",
       "        vertical-align: middle;\n",
       "    }\n",
       "\n",
       "    .dataframe tbody tr th {\n",
       "        vertical-align: top;\n",
       "    }\n",
       "\n",
       "    .dataframe thead th {\n",
       "        text-align: right;\n",
       "    }\n",
       "</style>\n",
       "<table border=\"1\" class=\"dataframe\">\n",
       "  <thead>\n",
       "    <tr style=\"text-align: right;\">\n",
       "      <th></th>\n",
       "      <th>count</th>\n",
       "      <th>mean</th>\n",
       "      <th>std</th>\n",
       "      <th>min</th>\n",
       "      <th>25%</th>\n",
       "      <th>50%</th>\n",
       "      <th>75%</th>\n",
       "      <th>max</th>\n",
       "      <th>var</th>\n",
       "      <th>cv</th>\n",
       "    </tr>\n",
       "  </thead>\n",
       "  <tbody>\n",
       "    <tr>\n",
       "      <td>gb_used</td>\n",
       "      <td>2,229.00</td>\n",
       "      <td>16.33</td>\n",
       "      <td>5.75</td>\n",
       "      <td>0.00</td>\n",
       "      <td>13.00</td>\n",
       "      <td>17.00</td>\n",
       "      <td>20.00</td>\n",
       "      <td>38.00</td>\n",
       "      <td>33.03</td>\n",
       "      <td>0.35</td>\n",
       "    </tr>\n",
       "    <tr>\n",
       "      <td>messages_quantity</td>\n",
       "      <td>2,229.00</td>\n",
       "      <td>33.38</td>\n",
       "      <td>28.23</td>\n",
       "      <td>0.00</td>\n",
       "      <td>10.00</td>\n",
       "      <td>28.00</td>\n",
       "      <td>51.00</td>\n",
       "      <td>143.00</td>\n",
       "      <td>796.81</td>\n",
       "      <td>0.85</td>\n",
       "    </tr>\n",
       "    <tr>\n",
       "      <td>duration</td>\n",
       "      <td>2,229.00</td>\n",
       "      <td>394.92</td>\n",
       "      <td>179.98</td>\n",
       "      <td>0.00</td>\n",
       "      <td>268.00</td>\n",
       "      <td>398.00</td>\n",
       "      <td>516.00</td>\n",
       "      <td>1,355.00</td>\n",
       "      <td>32,392.91</td>\n",
       "      <td>0.46</td>\n",
       "    </tr>\n",
       "    <tr>\n",
       "      <td>income_per_month</td>\n",
       "      <td>2,229.00</td>\n",
       "      <td>1,182.56</td>\n",
       "      <td>746.71</td>\n",
       "      <td>550.00</td>\n",
       "      <td>550.00</td>\n",
       "      <td>950.00</td>\n",
       "      <td>1,550.00</td>\n",
       "      <td>5,348.00</td>\n",
       "      <td>557,574.84</td>\n",
       "      <td>0.63</td>\n",
       "    </tr>\n",
       "  </tbody>\n",
       "</table>\n",
       "</div>"
      ],
      "text/plain": [
       "                     count     mean    std    min    25%    50%      75%  \\\n",
       "gb_used           2,229.00    16.33   5.75   0.00  13.00  17.00    20.00   \n",
       "messages_quantity 2,229.00    33.38  28.23   0.00  10.00  28.00    51.00   \n",
       "duration          2,229.00   394.92 179.98   0.00 268.00 398.00   516.00   \n",
       "income_per_month  2,229.00 1,182.56 746.71 550.00 550.00 950.00 1,550.00   \n",
       "\n",
       "                       max        var   cv  \n",
       "gb_used              38.00      33.03 0.35  \n",
       "messages_quantity   143.00     796.81 0.85  \n",
       "duration          1,355.00  32,392.91 0.46  \n",
       "income_per_month  5,348.00 557,574.84 0.63  "
      ]
     },
     "metadata": {},
     "output_type": "display_data"
    }
   ],
   "source": [
    "# Создадим цикл, который применит метод describe() к срезам абонентов кадого тарифного плана. Добавим столбец со \n",
    "# значением дисперсии (var), возведя стандартное отклонение в квадрат, и коэффициент вариации (cv), разделив \n",
    "# стандартное отклонение на среднее:\n",
    "for i in df['tariff_name'].unique():\n",
    "    current = df.query('tariff_name == @i')\n",
    "    current = current[['gb_used', 'messages_quantity', 'duration', 'income_per_month']].describe().T\n",
    "    current['var'] = current['std'] ** 2\n",
    "    current['cv'] = current['std'] / current['mean']\n",
    "    print(f'Тариф: {i}')\n",
    "    display(current)"
   ]
  },
  {
   "cell_type": "markdown",
   "metadata": {},
   "source": [
    "Соответственно, как средние, так и медианные значения по всем показателям выше по тарифу ultra.    \n",
    "\n",
    "По показателям среднего, стандартного отклонения и дисперсии видно, что данные распределены с большим разбросам по всем показателям, кроме помесячной выручки у абонентов тарифа ultra.\n",
    "\n",
    "Также коэффициент вариации только для данных о помесячной выручке по тарифу ultra находятся в пределах 30%, что позволяет утверждать об однородности этих данных. По остальным показателям коэффциент вариации является более 30%, т.е. данные неоднородны, сильно распределены от среднего значения, поэтому среднее значение слабо может характиризовать типичные данные в выборке.    "
   ]
  },
  {
   "cell_type": "markdown",
   "metadata": {},
   "source": [
    "Визуализируем данные с помощью графика distplot:"
   ]
  },
  {
   "cell_type": "code",
   "execution_count": 117,
   "metadata": {},
   "outputs": [],
   "source": [
    "# создадим функцию, которая будет выводить график distplot:\n",
    "def dist(df, column):\n",
    "    for i in df['tariff_name'].unique():\n",
    "        current = df.query('tariff_name == @i')\n",
    "        sns.distplot(current[column], label = i)\n",
    "        plt.legend()\n",
    "        plt.show"
   ]
  },
  {
   "cell_type": "markdown",
   "metadata": {},
   "source": [
    "Построим график для данных об интернет трафике у абонентов обоих тарифов:"
   ]
  },
  {
   "cell_type": "code",
   "execution_count": 118,
   "metadata": {
    "scrolled": false
   },
   "outputs": [
    {
     "data": {
      "image/png": "[encoded data removed]",
      "text/plain": [
       "<Figure size 842.4x595.44 with 1 Axes>"
      ]
     },
     "metadata": {},
     "output_type": "display_data"
    }
   ],
   "source": [
    "dist(df, 'gb_used')"
   ]
  },
  {
   "cell_type": "markdown",
   "metadata": {},
   "source": [
    "Видно, что данные по тарифу smart стремятся к нормальному распределению. При этом по таифу smart имеется два пика по частоте распределения. Данные по тарифу ultra скошены вправо."
   ]
  },
  {
   "cell_type": "markdown",
   "metadata": {},
   "source": [
    "Теперь построим график для данных о количестве отправленных сообщений:"
   ]
  },
  {
   "cell_type": "code",
   "execution_count": 119,
   "metadata": {},
   "outputs": [
    {
     "data": {
      "image/png": "[encoded data removed]",
      "text/plain": [
       "<Figure size 842.4x595.44 with 1 Axes>"
      ]
     },
     "metadata": {},
     "output_type": "display_data"
    }
   ],
   "source": [
    "dist(df, 'messages_quantity')"
   ]
  },
  {
   "cell_type": "markdown",
   "metadata": {},
   "source": [
    "Данные для обоих тарифов имеют длинный правый хвост, т.е. данные о количестве отправленных сообщений сильно разброшены в большую сторону от среднего. Вспомним, что коэффициент вариации для этих данных составляет более 80-90%."
   ]
  },
  {
   "cell_type": "markdown",
   "metadata": {},
   "source": [
    "Теперь визуализируем данные для продолжительности звонков у абонентов обоих тарифов:"
   ]
  },
  {
   "cell_type": "code",
   "execution_count": 120,
   "metadata": {
    "scrolled": false
   },
   "outputs": [
    {
     "data": {
      "image/png": "[encoded data removed]",
      "text/plain": [
       "<Figure size 842.4x595.44 with 1 Axes>"
      ]
     },
     "metadata": {},
     "output_type": "display_data"
    }
   ],
   "source": [
    "dist(df, 'duration')"
   ]
  },
  {
   "cell_type": "markdown",
   "metadata": {},
   "source": [
    "Опять видим, что данные по тарифу smart близки к нормальному распределению. Но данные по тарифу ultra имеют сильный правый хвост, т.е. имеют очень много значений, отличающихся от среднего в большую сторону."
   ]
  },
  {
   "cell_type": "markdown",
   "metadata": {},
   "source": [
    "Также визуализируем данные по помесячной выручке:"
   ]
  },
  {
   "cell_type": "code",
   "execution_count": 121,
   "metadata": {
    "scrolled": false
   },
   "outputs": [
    {
     "data": {
      "image/png": "[encoded data removed]",
      "text/plain": [
       "<Figure size 842.4x595.44 with 1 Axes>"
      ]
     },
     "metadata": {},
     "output_type": "display_data"
    }
   ],
   "source": [
    "dist(df, 'income_per_month')"
   ]
  },
  {
   "cell_type": "markdown",
   "metadata": {},
   "source": [
    "Данные по тарифу smart очень сильно ассиметричны вправо. Большая часть значений соответствуют 600-800. По тарифу ultra практически все значения распределены в одном значении (около 1900-2000), о чём свидетельствуют большой столбец на графике. Это подтверждает и ранее рассчитанный коэффициент вариации, который составляет всего 17%."
   ]
  },
  {
   "cell_type": "markdown",
   "metadata": {},
   "source": [
    "Рассчитаем коэффициент ассиметрии с помощью метода `skew()`:"
   ]
  },
  {
   "cell_type": "code",
   "execution_count": 122,
   "metadata": {},
   "outputs": [
    {
     "name": "stdout",
     "output_type": "stream",
     "text": [
      "Коэффициент ассиметрии по данным тарифа: ultra\n"
     ]
    },
    {
     "data": {
      "text/plain": [
       "gb_used             0.21\n",
       "messages_quantity   0.99\n",
       "duration            0.34\n",
       "income_per_month    3.72\n",
       "dtype: float64"
      ]
     },
     "metadata": {},
     "output_type": "display_data"
    },
    {
     "name": "stdout",
     "output_type": "stream",
     "text": [
      "Коэффициент ассиметрии по данным тарифа: smart\n"
     ]
    },
    {
     "data": {
      "text/plain": [
       "gb_used             -0.16\n",
       "messages_quantity    0.82\n",
       "duration             0.15\n",
       "income_per_month     1.43\n",
       "dtype: float64"
      ]
     },
     "metadata": {},
     "output_type": "display_data"
    }
   ],
   "source": [
    "for i in df['tariff_name'].unique():\n",
    "    current = df.query('tariff_name == @i')\n",
    "    print(f'Коэффициент ассиметрии по данным тарифа: {i}')\n",
    "    display(current[['gb_used', 'messages_quantity', 'duration', 'income_per_month']].skew().T)"
   ]
  },
  {
   "cell_type": "markdown",
   "metadata": {},
   "source": [
    "Таким образом, все данные, кроме тех, что содержатся в столбцах *gb_used* и *duration* по тарифу smart, сильно ассиметричны. При этом ассиметрия является положительной, т.е. в анализируемых данных среднее больше медианы, в чём мы уже убедились.  "
   ]
  },
  {
   "cell_type": "markdown",
   "metadata": {},
   "source": [
    "### Вывод"
   ]
  },
  {
   "cell_type": "markdown",
   "metadata": {},
   "source": [
    "По результатам статистического анализа данных установили и рассчитали:\n",
    "* средние показания минут разговора, количества сообщений и объёма интернет-трафика пользователей каждого тарифа в месяц различаютя. У абонентов тарифа ultra средние значения практически в каждом месяце были больше, чем у абонентов тарифа smart;\n",
    "\n",
    "* определили стандартное отклонение, дисперсию, коэффициент вариации и коэффициент ассиметричности данных. Данные имеют достаточно большой разброс, кроме данных о помесячной выручке у абонентов тарифа ultrа. При этом данные неоднородны и ассиметричны, за исключением данных об использованном интернет-трафике и продолжительности звонков у абонентов тарифа smart."
   ]
  },
  {
   "cell_type": "markdown",
   "metadata": {},
   "source": [
    "## Проверка гипотез"
   ]
  },
  {
   "cell_type": "markdown",
   "metadata": {},
   "source": [
    "### Проверка равенства помесячной выручки у абонентов разных тарифов"
   ]
  },
  {
   "cell_type": "markdown",
   "metadata": {},
   "source": [
    "Сформулируем гипотезы:\n",
    "* H0 = средние помесячные выручки у абонентов тарифов ultra и smart равны.\n",
    "* H1 = средние помесячные выручки у абонентов тарифов ultra и smart не равны.\n",
    "\n",
    "Проверим гипотезы о равенстве среднего двух генеральных совокупностей по взятым из них выборкам, применив метод `scipy.stats.ttest_ind`:"
   ]
  },
  {
   "cell_type": "code",
   "execution_count": 123,
   "metadata": {},
   "outputs": [
    {
     "name": "stdout",
     "output_type": "stream",
     "text": [
      "p-значение: 0.0\n",
      "Отвергаем нулевую гипотезу\n"
     ]
    }
   ],
   "source": [
    "ultra = df.query('tariff_name == \"ultra\"')\n",
    "ultra_income = ultra['income_per_month'] # Сохраним выборку по данным о помесячной выручке для тарифа ultra\n",
    "smart = df.query('tariff_name == \"smart\"')\n",
    "smart_income = smart['income_per_month'] # Сохраним выборку по данным о помесячной выручке для тарифа smart\n",
    "\n",
    "alpha = 0.01 # Установим в качестве критического уровеня статистической значимости 1%. Если если p-value \n",
    "             #окажется меньше него - отвергнем гипотезу\n",
    "\n",
    "results = st.ttest_ind(ultra_income, smart_income, equal_var = False) # Поскольку дисперсии двух выборок по тарифам\n",
    "                                                                      # сильно отличаются, установим False для \n",
    "                                                                      # параметра equal_var\n",
    "\n",
    "print('p-значение:', results.pvalue)\n",
    "\n",
    "if results.pvalue < alpha:\n",
    "    print('Отвергаем нулевую гипотезу')\n",
    "else:\n",
    "    print('Не получилось отвергнуть нулевую гипотезу') "
   ]
  },
  {
   "cell_type": "markdown",
   "metadata": {},
   "source": [
    "Таким образом, утверждать о равенстве помесячной выручки по двум тарифам мы не можем, т.к. вероятность получить равенство в нашем тесте нулевая."
   ]
  },
  {
   "cell_type": "markdown",
   "metadata": {},
   "source": [
    "### Проверка равнества помесячной выручки у абонентов из Москвы и абонентов из других регионов"
   ]
  },
  {
   "cell_type": "markdown",
   "metadata": {},
   "source": [
    "Сформулируем гипотезы:\n",
    "* H0 = средние помесячные выручки у абонентов из Москвы и абонентов из других регионов равны.\n",
    "* H1 = средние помесячные выручки у абонентов из Москвы и абонентов из других регионов не равны.\n",
    "\n",
    "Посчитаем какое количество абонентов в датафрейме из Москвы и из других регионов:"
   ]
  },
  {
   "cell_type": "code",
   "execution_count": 124,
   "metadata": {},
   "outputs": [
    {
     "name": "stdout",
     "output_type": "stream",
     "text": [
      "Москва             611\n",
      "Санкт-Петербург    270\n",
      "Новосибирск         98\n",
      "Уфа                 95\n",
      "Краснодар           86\n",
      "                  ... \n",
      "Сургут               6\n",
      "Нижневартовск        6\n",
      "Кемерово             5\n",
      "Химки                5\n",
      "Иваново              2\n",
      "Name: city, Length: 76, dtype: int64\n",
      "\n",
      "Количество абонентов из Москвы: 611\n",
      "Количество абонентов из других регионов: 2603\n"
     ]
    }
   ],
   "source": [
    "print(df['city'].value_counts())\n",
    "print()\n",
    "print(f'Количество абонентов из Москвы: {len(df.loc[df[\"city\"] == \"Москва\", \"city\"])}')\n",
    "print(f'Количество абонентов из других регионов: {len(df[\"city\"]) - len(df.loc[df[\"city\"] == \"Москва\", \"city\"])}')"
   ]
  },
  {
   "cell_type": "markdown",
   "metadata": {},
   "source": [
    "Соответственно, абонентов из Москвы в датафрейме значительно больше, чем абонентов из других регионов. Учтём это при проведении теста."
   ]
  },
  {
   "cell_type": "markdown",
   "metadata": {},
   "source": [
    "Посмотрим как отличаются дисперсии и остальные статистические параметры для данных по абонентам из Москвы и абонентам из других регионов:"
   ]
  },
  {
   "cell_type": "code",
   "execution_count": 125,
   "metadata": {},
   "outputs": [
    {
     "name": "stdout",
     "output_type": "stream",
     "text": [
      "Статистические параметры по абонентам из Москвы\n"
     ]
    },
    {
     "data": {
      "text/plain": [
       "count       611.00\n",
       "mean      1,479.48\n",
       "std         747.96\n",
       "min         550.00\n",
       "25%         646.00\n",
       "50%       1,750.00\n",
       "75%       1,950.00\n",
       "max       4,658.00\n",
       "var     559,442.79\n",
       "Name: income_per_month, dtype: float64"
      ]
     },
     "metadata": {},
     "output_type": "display_data"
    },
    {
     "name": "stdout",
     "output_type": "stream",
     "text": [
      "Статистические параметры по абонентам из других регионов\n"
     ]
    },
    {
     "data": {
      "text/plain": [
       "count     2,603.00\n",
       "mean      1,448.74\n",
       "std         778.75\n",
       "min         550.00\n",
       "25%         634.00\n",
       "50%       1,550.00\n",
       "75%       1,950.00\n",
       "max       5,348.00\n",
       "var     606,451.13\n",
       "Name: income_per_month, dtype: float64"
      ]
     },
     "metadata": {},
     "output_type": "display_data"
    }
   ],
   "source": [
    "moscow = df.query('city == \"Москва\"')\n",
    "moscow = moscow['income_per_month'].describe().T\n",
    "moscow['var'] = moscow['std'] ** 2\n",
    "print('Статистические параметры по абонентам из Москвы')\n",
    "display(moscow)\n",
    "\n",
    "other = df.query('city != \"Москва\"')\n",
    "other = other['income_per_month'].describe().T\n",
    "other['var'] = other['std'] ** 2\n",
    "print('Статистические параметры по абонентам из других регионов')\n",
    "display(other)"
   ]
  },
  {
   "cell_type": "markdown",
   "metadata": {},
   "source": [
    "Видим, что дисперсии примерно одинаковые (542,814.88 и 584,790.19). Средние значения помесячной выручки также одинаковы (1,438.04 и 1,403.64), а вот медианные значения отличаются сильнее (1,599.80 и 1,385.78)."
   ]
  },
  {
   "cell_type": "markdown",
   "metadata": {},
   "source": [
    "Проверим гипотезы о равенстве среднего двух генеральных совокупностей по взятым из них выборкам, применив метод `scipy.stats.ttest_ind`:"
   ]
  },
  {
   "cell_type": "code",
   "execution_count": 126,
   "metadata": {},
   "outputs": [
    {
     "name": "stdout",
     "output_type": "stream",
     "text": [
      "p-значение: 0.3764081395323552\n",
      "Не получилось отвергнуть нулевую гипотезу\n"
     ]
    }
   ],
   "source": [
    "moscow = df.query('city == \"Москва\"')\n",
    "moscow = moscow['income_per_month'] # Сохраним выборку по данным о помесячной выручке для абонентов из Москвы\n",
    "other = df.query('city != \"Москва\"')\n",
    "other = other['income_per_month'] # Сохраним выборку по данным о помесячной выручке для абонентов из других регионов\n",
    "\n",
    "alpha = 0.01 # Установим в качестве критического уровеня статистической значимости 1%. Если если p-value \n",
    "             #окажется меньше него - отвергнем гипотезу\n",
    "\n",
    "results = st.ttest_ind(moscow, other) # Поскольку дисперсии двух выборок по месту проживания абонентов схожи\n",
    "                                             # менять стандартное значение параметра equal_var = True не будем\n",
    "\n",
    "print('p-значение:', results.pvalue)\n",
    "\n",
    "if results.pvalue < alpha:\n",
    "    print('Отвергаем нулевую гипотезу')\n",
    "else:\n",
    "    print('Не получилось отвергнуть нулевую гипотезу') "
   ]
  },
  {
   "cell_type": "markdown",
   "metadata": {},
   "source": [
    "Таким образом, поскольку p-value больше критического уровня значимости отвергнуть нулевую гипотезу не получилось. Следовательно, в проведённом тесте значимые отличия размера помесячной выручки у абонентов из Москвы и из других регионов не установлены."
   ]
  },
  {
   "cell_type": "markdown",
   "metadata": {},
   "source": [
    "### Вывод"
   ]
  },
  {
   "cell_type": "markdown",
   "metadata": {},
   "source": [
    "По итогам проверки гипотез мы пришли к следующим выводам:\n",
    "* основния для утверждения о равенстве помесячной выручки для абонентов тарифов smart и ultra отсутствуют; \n",
    "* значимые отличия между помесячной выручки у абонентов из Москвы и из других регионов не обнаружены."
   ]
  },
  {
   "cell_type": "markdown",
   "metadata": {},
   "source": [
    "## Общий вывод"
   ]
  },
  {
   "cell_type": "markdown",
   "metadata": {},
   "source": [
    "По результатам проведённого анализа можно сделать следующие выводы:\n",
    "* Средние значения минут разговора, количества сообщений и объёма интернет-трафика пользователей в месяц у пользователей тарифов smart и ultra не сопоставимы. При этом у абонентов тарифа ultra средние значения практически в каждом месяце были больше, чем у абонентов тарифа smart;    \n",
    "\n",
    "* Анализируемые данные имеют достаточно большой разброс, кроме данных о помесячной выручке у абонентов тарифа ultrа. При этом данные неоднородны и ассиметричны, за исключением данных об использованном интернет-трафике и продолжительности звонков у абонентов тарифа smart;     \n",
    "\n",
    "* Основния для утверждения о равенстве помесячной выручки для абонентов тарифов smart и ultra отсутствуют;    \n",
    "\n",
    "* Значимые отличия между помесячной выручки у абонентов из Москвы и из других регионов не обнаружены."
   ]
  }
 ],
 "metadata": {
  "ExecuteTimeLog": [
   {
    "duration": 1093,
    "start_time": "2021-12-13T18:45:55.185Z"
   },
   {
    "duration": 396,
    "start_time": "2021-12-13T18:49:25.863Z"
   },
   {
    "duration": 37,
    "start_time": "2021-12-13T18:51:33.559Z"
   },
   {
    "duration": 30,
    "start_time": "2021-12-13T18:51:49.787Z"
   },
   {
    "duration": 30,
    "start_time": "2021-12-13T18:52:07.375Z"
   },
   {
    "duration": 30,
    "start_time": "2021-12-13T18:53:05.016Z"
   },
   {
    "duration": 12,
    "start_time": "2021-12-13T18:54:12.639Z"
   },
   {
    "duration": 261,
    "start_time": "2021-12-13T18:54:40.083Z"
   },
   {
    "duration": 6,
    "start_time": "2021-12-13T18:54:46.219Z"
   },
   {
    "duration": 360,
    "start_time": "2021-12-13T18:55:08.155Z"
   },
   {
    "duration": 6,
    "start_time": "2021-12-13T18:55:10.907Z"
   },
   {
    "duration": 39,
    "start_time": "2021-12-13T18:56:40.736Z"
   },
   {
    "duration": 64,
    "start_time": "2021-12-13T19:00:02.080Z"
   },
   {
    "duration": 59,
    "start_time": "2021-12-13T19:00:44.668Z"
   },
   {
    "duration": 55,
    "start_time": "2021-12-13T19:00:56.840Z"
   },
   {
    "duration": 60,
    "start_time": "2021-12-13T19:01:05.848Z"
   },
   {
    "duration": 59,
    "start_time": "2021-12-13T19:02:34.348Z"
   },
   {
    "duration": 55,
    "start_time": "2021-12-13T19:05:15.837Z"
   },
   {
    "duration": 63,
    "start_time": "2021-12-13T19:05:36.652Z"
   },
   {
    "duration": 603,
    "start_time": "2021-12-13T19:11:39.868Z"
   },
   {
    "duration": 39,
    "start_time": "2021-12-13T19:12:04.433Z"
   },
   {
    "duration": 40,
    "start_time": "2021-12-13T19:13:16.437Z"
   },
   {
    "duration": 58,
    "start_time": "2021-12-13T19:13:49.029Z"
   },
   {
    "duration": 63,
    "start_time": "2021-12-13T19:13:55.916Z"
   },
   {
    "duration": 62,
    "start_time": "2021-12-13T19:14:08.248Z"
   },
   {
    "duration": 65,
    "start_time": "2021-12-13T19:14:14.388Z"
   },
   {
    "duration": 68,
    "start_time": "2021-12-13T19:14:21.924Z"
   },
   {
    "duration": 41,
    "start_time": "2021-12-13T19:14:26.397Z"
   },
   {
    "duration": 39,
    "start_time": "2021-12-13T19:14:58.016Z"
   },
   {
    "duration": 384,
    "start_time": "2021-12-13T19:15:29.352Z"
   },
   {
    "duration": 52,
    "start_time": "2021-12-13T19:15:30.905Z"
   },
   {
    "duration": 14,
    "start_time": "2021-12-13T19:27:05.132Z"
   },
   {
    "duration": 30,
    "start_time": "2021-12-13T19:29:02.105Z"
   },
   {
    "duration": 182,
    "start_time": "2021-12-13T19:35:34.191Z"
   },
   {
    "duration": 18,
    "start_time": "2021-12-13T19:35:39.563Z"
   },
   {
    "duration": 237,
    "start_time": "2021-12-13T19:42:18.056Z"
   },
   {
    "duration": 203,
    "start_time": "2021-12-13T19:46:58.240Z"
   },
   {
    "duration": 36,
    "start_time": "2021-12-13T19:47:31.665Z"
   },
   {
    "duration": 1088,
    "start_time": "2021-12-15T15:00:35.756Z"
   },
   {
    "duration": 58,
    "start_time": "2021-12-15T15:00:36.846Z"
   },
   {
    "duration": -300,
    "start_time": "2021-12-15T15:00:37.205Z"
   },
   {
    "duration": 390,
    "start_time": "2021-12-15T15:00:44.415Z"
   },
   {
    "duration": 52,
    "start_time": "2021-12-15T15:00:46.683Z"
   },
   {
    "duration": 33,
    "start_time": "2021-12-15T15:01:13.795Z"
   },
   {
    "duration": 272,
    "start_time": "2021-12-15T15:05:53.420Z"
   },
   {
    "duration": 51,
    "start_time": "2021-12-15T15:05:59.315Z"
   },
   {
    "duration": 30,
    "start_time": "2021-12-15T15:05:59.716Z"
   },
   {
    "duration": 253,
    "start_time": "2021-12-15T15:06:00.380Z"
   },
   {
    "duration": 55,
    "start_time": "2021-12-15T15:06:00.987Z"
   },
   {
    "duration": 4461,
    "start_time": "2021-12-15T15:06:02.528Z"
   },
   {
    "duration": 184,
    "start_time": "2021-12-15T15:17:49.117Z"
   },
   {
    "duration": 5577,
    "start_time": "2021-12-15T15:18:43.077Z"
   },
   {
    "duration": 3,
    "start_time": "2021-12-15T15:19:02.568Z"
   },
   {
    "duration": 377,
    "start_time": "2021-12-15T15:19:03.204Z"
   },
   {
    "duration": 51,
    "start_time": "2021-12-15T15:19:03.844Z"
   },
   {
    "duration": 28,
    "start_time": "2021-12-15T15:19:04.157Z"
   },
   {
    "duration": 226,
    "start_time": "2021-12-15T15:19:04.457Z"
   },
   {
    "duration": 55,
    "start_time": "2021-12-15T15:19:06.037Z"
   },
   {
    "duration": 185,
    "start_time": "2021-12-15T15:19:06.961Z"
   },
   {
    "duration": 28,
    "start_time": "2021-12-15T15:20:27.797Z"
   },
   {
    "duration": 18,
    "start_time": "2021-12-15T15:23:43.037Z"
   },
   {
    "duration": 22,
    "start_time": "2021-12-15T15:25:42.965Z"
   },
   {
    "duration": 3,
    "start_time": "2021-12-15T15:26:22.109Z"
   },
   {
    "duration": 391,
    "start_time": "2021-12-15T15:26:23.543Z"
   },
   {
    "duration": 52,
    "start_time": "2021-12-15T15:26:23.936Z"
   },
   {
    "duration": 30,
    "start_time": "2021-12-15T15:26:23.991Z"
   },
   {
    "duration": 239,
    "start_time": "2021-12-15T15:26:24.113Z"
   },
   {
    "duration": 53,
    "start_time": "2021-12-15T15:26:24.645Z"
   },
   {
    "duration": 32,
    "start_time": "2021-12-15T15:26:25.505Z"
   },
   {
    "duration": 18,
    "start_time": "2021-12-15T15:26:26.382Z"
   },
   {
    "duration": 19,
    "start_time": "2021-12-15T15:27:00.750Z"
   },
   {
    "duration": 3,
    "start_time": "2021-12-15T15:33:14.538Z"
   },
   {
    "duration": 384,
    "start_time": "2021-12-15T15:33:15.270Z"
   },
   {
    "duration": 50,
    "start_time": "2021-12-15T15:33:16.219Z"
   },
   {
    "duration": 31,
    "start_time": "2021-12-15T15:33:16.910Z"
   },
   {
    "duration": 242,
    "start_time": "2021-12-15T15:33:18.502Z"
   },
   {
    "duration": 98,
    "start_time": "2021-12-15T15:33:18.745Z"
   },
   {
    "duration": 9,
    "start_time": "2021-12-15T15:39:09.815Z"
   },
   {
    "duration": 185,
    "start_time": "2021-12-15T15:46:32.868Z"
   },
   {
    "duration": 173,
    "start_time": "2021-12-15T15:51:43.458Z"
   },
   {
    "duration": 179,
    "start_time": "2021-12-15T15:52:48.974Z"
   },
   {
    "duration": 237,
    "start_time": "2021-12-15T15:53:01.526Z"
   },
   {
    "duration": 213,
    "start_time": "2021-12-15T15:53:26.782Z"
   },
   {
    "duration": 189,
    "start_time": "2021-12-15T15:57:22.048Z"
   },
   {
    "duration": 9,
    "start_time": "2021-12-15T15:58:25.044Z"
   },
   {
    "duration": 10,
    "start_time": "2021-12-15T16:00:45.392Z"
   },
   {
    "duration": 198,
    "start_time": "2021-12-15T16:01:02.968Z"
   },
   {
    "duration": 29,
    "start_time": "2021-12-15T16:01:12.308Z"
   },
   {
    "duration": 1513,
    "start_time": "2021-12-15T17:27:05.314Z"
   },
   {
    "duration": 568,
    "start_time": "2021-12-15T17:27:07.327Z"
   },
   {
    "duration": 82,
    "start_time": "2021-12-15T17:27:08.542Z"
   },
   {
    "duration": 54,
    "start_time": "2021-12-15T17:27:08.995Z"
   },
   {
    "duration": 377,
    "start_time": "2021-12-15T17:27:09.471Z"
   },
   {
    "duration": 141,
    "start_time": "2021-12-15T17:27:10.170Z"
   },
   {
    "duration": 13,
    "start_time": "2021-12-15T17:27:12.611Z"
   },
   {
    "duration": 25,
    "start_time": "2021-12-15T17:27:13.519Z"
   },
   {
    "duration": 430,
    "start_time": "2021-12-15T17:27:14.690Z"
   },
   {
    "duration": 39,
    "start_time": "2021-12-15T17:27:50.583Z"
   },
   {
    "duration": 46,
    "start_time": "2021-12-15T17:28:01.043Z"
   },
   {
    "duration": 14,
    "start_time": "2021-12-15T17:28:18.786Z"
   },
   {
    "duration": 44,
    "start_time": "2021-12-15T17:28:32.447Z"
   },
   {
    "duration": 46,
    "start_time": "2021-12-15T17:35:30.355Z"
   },
   {
    "duration": 5,
    "start_time": "2021-12-15T17:41:10.751Z"
   },
   {
    "duration": 583,
    "start_time": "2021-12-15T17:41:11.350Z"
   },
   {
    "duration": 85,
    "start_time": "2021-12-15T17:41:11.936Z"
   },
   {
    "duration": 74,
    "start_time": "2021-12-15T17:41:12.024Z"
   },
   {
    "duration": 370,
    "start_time": "2021-12-15T17:41:12.231Z"
   },
   {
    "duration": 146,
    "start_time": "2021-12-15T17:41:12.735Z"
   },
   {
    "duration": 16,
    "start_time": "2021-12-15T17:41:14.370Z"
   },
   {
    "duration": 24,
    "start_time": "2021-12-15T17:41:15.087Z"
   },
   {
    "duration": 19,
    "start_time": "2021-12-15T17:41:15.606Z"
   },
   {
    "duration": 42,
    "start_time": "2021-12-15T17:41:16.379Z"
   },
   {
    "duration": 6,
    "start_time": "2021-12-15T17:42:24.293Z"
   },
   {
    "duration": 684,
    "start_time": "2021-12-15T17:42:25.007Z"
   },
   {
    "duration": 90,
    "start_time": "2021-12-15T17:42:25.802Z"
   },
   {
    "duration": 50,
    "start_time": "2021-12-15T17:42:26.299Z"
   },
   {
    "duration": 482,
    "start_time": "2021-12-15T17:42:26.835Z"
   },
   {
    "duration": 145,
    "start_time": "2021-12-15T17:42:27.931Z"
   },
   {
    "duration": 6,
    "start_time": "2021-12-15T17:42:57.379Z"
   },
   {
    "duration": 557,
    "start_time": "2021-12-15T17:42:57.731Z"
   },
   {
    "duration": 74,
    "start_time": "2021-12-15T17:42:58.291Z"
   },
   {
    "duration": 51,
    "start_time": "2021-12-15T17:42:58.494Z"
   },
   {
    "duration": 477,
    "start_time": "2021-12-15T17:42:58.915Z"
   },
   {
    "duration": 7877,
    "start_time": "2021-12-15T17:42:59.995Z"
   },
   {
    "duration": 7014,
    "start_time": "2021-12-15T17:43:36.546Z"
   },
   {
    "duration": 133,
    "start_time": "2021-12-15T17:49:14.490Z"
   },
   {
    "duration": 273,
    "start_time": "2021-12-15T17:51:16.350Z"
   },
   {
    "duration": 5,
    "start_time": "2021-12-15T17:52:12.098Z"
   },
   {
    "duration": 695,
    "start_time": "2021-12-15T17:52:12.855Z"
   },
   {
    "duration": 83,
    "start_time": "2021-12-15T17:52:14.211Z"
   },
   {
    "duration": 58,
    "start_time": "2021-12-15T17:52:14.959Z"
   },
   {
    "duration": 358,
    "start_time": "2021-12-15T17:52:15.577Z"
   },
   {
    "duration": 193,
    "start_time": "2021-12-15T17:52:16.763Z"
   },
   {
    "duration": 5,
    "start_time": "2021-12-15T17:52:56.391Z"
   },
   {
    "duration": 586,
    "start_time": "2021-12-15T17:52:57.427Z"
   },
   {
    "duration": 90,
    "start_time": "2021-12-15T17:52:59.119Z"
   },
   {
    "duration": 54,
    "start_time": "2021-12-15T17:52:59.691Z"
   },
   {
    "duration": 483,
    "start_time": "2021-12-15T17:53:00.327Z"
   },
   {
    "duration": 158,
    "start_time": "2021-12-15T17:53:01.223Z"
   },
   {
    "duration": 5,
    "start_time": "2021-12-15T17:54:08.295Z"
   },
   {
    "duration": 542,
    "start_time": "2021-12-15T17:54:09.083Z"
   },
   {
    "duration": 111,
    "start_time": "2021-12-15T17:54:10.346Z"
   },
   {
    "duration": 60,
    "start_time": "2021-12-15T17:54:10.915Z"
   },
   {
    "duration": 399,
    "start_time": "2021-12-15T17:54:13.187Z"
   },
   {
    "duration": 435,
    "start_time": "2021-12-15T17:54:13.911Z"
   },
   {
    "duration": 7478,
    "start_time": "2021-12-15T17:55:11.574Z"
   },
   {
    "duration": 4,
    "start_time": "2021-12-15T17:55:33.443Z"
   },
   {
    "duration": 569,
    "start_time": "2021-12-15T17:55:34.290Z"
   },
   {
    "duration": 86,
    "start_time": "2021-12-15T17:55:36.038Z"
   },
   {
    "duration": 55,
    "start_time": "2021-12-15T17:55:36.931Z"
   },
   {
    "duration": 368,
    "start_time": "2021-12-15T17:55:37.955Z"
   },
   {
    "duration": 162,
    "start_time": "2021-12-15T17:55:40.235Z"
   },
   {
    "duration": 13,
    "start_time": "2021-12-15T17:56:17.807Z"
   },
   {
    "duration": 91,
    "start_time": "2021-12-15T17:56:47.282Z"
   },
   {
    "duration": 310,
    "start_time": "2021-12-15T17:56:56.946Z"
   },
   {
    "duration": 24,
    "start_time": "2021-12-15T17:57:29.008Z"
   },
   {
    "duration": 12,
    "start_time": "2021-12-15T17:57:31.542Z"
   },
   {
    "duration": 7,
    "start_time": "2021-12-15T18:08:11.671Z"
   },
   {
    "duration": 546,
    "start_time": "2021-12-15T18:08:12.647Z"
   },
   {
    "duration": 79,
    "start_time": "2021-12-15T18:08:14.283Z"
   },
   {
    "duration": 48,
    "start_time": "2021-12-15T18:08:14.903Z"
   },
   {
    "duration": 388,
    "start_time": "2021-12-15T18:08:15.415Z"
   },
   {
    "duration": 158,
    "start_time": "2021-12-15T18:08:15.931Z"
   },
   {
    "duration": 15,
    "start_time": "2021-12-15T18:08:18.455Z"
   },
   {
    "duration": 299,
    "start_time": "2021-12-15T18:08:44.843Z"
   },
   {
    "duration": 6713,
    "start_time": "2021-12-15T18:11:42.579Z"
   },
   {
    "duration": 5,
    "start_time": "2021-12-15T18:11:50.687Z"
   },
   {
    "duration": 567,
    "start_time": "2021-12-15T18:11:51.603Z"
   },
   {
    "duration": 79,
    "start_time": "2021-12-15T18:11:52.907Z"
   },
   {
    "duration": 57,
    "start_time": "2021-12-15T18:11:53.339Z"
   },
   {
    "duration": 376,
    "start_time": "2021-12-15T18:11:53.767Z"
   },
   {
    "duration": 180,
    "start_time": "2021-12-15T18:11:54.675Z"
   },
   {
    "duration": 37,
    "start_time": "2021-12-15T18:12:22.595Z"
   },
   {
    "duration": 61,
    "start_time": "2021-12-15T18:12:41.779Z"
   },
   {
    "duration": 11,
    "start_time": "2021-12-15T18:14:23.515Z"
   },
   {
    "duration": 15,
    "start_time": "2021-12-15T18:14:39.535Z"
   },
   {
    "duration": 13,
    "start_time": "2021-12-15T18:15:00.115Z"
   },
   {
    "duration": 8,
    "start_time": "2021-12-15T18:15:19.347Z"
   },
   {
    "duration": 4,
    "start_time": "2021-12-15T18:17:30.391Z"
   },
   {
    "duration": 580,
    "start_time": "2021-12-15T18:17:31.076Z"
   },
   {
    "duration": 91,
    "start_time": "2021-12-15T18:17:31.659Z"
   },
   {
    "duration": 56,
    "start_time": "2021-12-15T18:17:31.859Z"
   },
   {
    "duration": 389,
    "start_time": "2021-12-15T18:17:32.735Z"
   },
   {
    "duration": 167,
    "start_time": "2021-12-15T18:17:34.199Z"
   },
   {
    "duration": 27,
    "start_time": "2021-12-15T18:17:42.618Z"
   },
   {
    "duration": 13,
    "start_time": "2021-12-15T18:17:48.195Z"
   },
   {
    "duration": 49,
    "start_time": "2021-12-15T18:19:19.585Z"
   },
   {
    "duration": 1461,
    "start_time": "2021-12-16T17:24:04.624Z"
   },
   {
    "duration": 559,
    "start_time": "2021-12-16T17:24:07.568Z"
   },
   {
    "duration": 87,
    "start_time": "2021-12-16T17:24:08.987Z"
   },
   {
    "duration": 65,
    "start_time": "2021-12-16T17:24:09.695Z"
   },
   {
    "duration": 360,
    "start_time": "2021-12-16T17:24:11.925Z"
   },
   {
    "duration": 166,
    "start_time": "2021-12-16T17:24:13.235Z"
   },
   {
    "duration": 448,
    "start_time": "2021-12-16T17:24:37.000Z"
   },
   {
    "duration": 15,
    "start_time": "2021-12-16T17:25:13.332Z"
   },
   {
    "duration": 316,
    "start_time": "2021-12-16T17:25:47.208Z"
   },
   {
    "duration": 28,
    "start_time": "2021-12-16T17:26:07.296Z"
   },
   {
    "duration": 13,
    "start_time": "2021-12-16T17:26:13.011Z"
   },
   {
    "duration": 38,
    "start_time": "2021-12-16T17:26:39.916Z"
   },
   {
    "duration": 5,
    "start_time": "2021-12-16T17:57:33.360Z"
   },
   {
    "duration": 536,
    "start_time": "2021-12-16T17:57:33.880Z"
   },
   {
    "duration": 83,
    "start_time": "2021-12-16T17:57:34.419Z"
   },
   {
    "duration": 66,
    "start_time": "2021-12-16T17:57:34.632Z"
   },
   {
    "duration": 584,
    "start_time": "2021-12-16T17:57:34.853Z"
   },
   {
    "duration": 239,
    "start_time": "2021-12-16T17:57:35.442Z"
   },
   {
    "duration": 17,
    "start_time": "2021-12-16T17:57:37.845Z"
   },
   {
    "duration": 328,
    "start_time": "2021-12-16T17:57:54.284Z"
   },
   {
    "duration": 324,
    "start_time": "2021-12-16T17:58:24.149Z"
   },
   {
    "duration": 135,
    "start_time": "2021-12-16T17:58:42.260Z"
   },
   {
    "duration": 347,
    "start_time": "2021-12-16T17:58:51.496Z"
   },
   {
    "duration": 98,
    "start_time": "2021-12-16T18:00:20.845Z"
   },
   {
    "duration": 7744,
    "start_time": "2021-12-16T18:00:26.941Z"
   },
   {
    "duration": 8337,
    "start_time": "2021-12-16T18:01:09.543Z"
   },
   {
    "duration": 41,
    "start_time": "2021-12-16T18:01:40.267Z"
   },
   {
    "duration": 14,
    "start_time": "2021-12-16T18:01:45.272Z"
   },
   {
    "duration": 33,
    "start_time": "2021-12-16T18:02:12.429Z"
   },
   {
    "duration": 8013,
    "start_time": "2021-12-16T18:25:35.968Z"
   },
   {
    "duration": 7975,
    "start_time": "2021-12-16T18:25:59.936Z"
   },
   {
    "duration": 37,
    "start_time": "2021-12-16T18:26:28.789Z"
   },
   {
    "duration": 6,
    "start_time": "2021-12-16T18:39:24.816Z"
   },
   {
    "duration": 514,
    "start_time": "2021-12-16T18:39:25.588Z"
   },
   {
    "duration": 74,
    "start_time": "2021-12-16T18:39:26.612Z"
   },
   {
    "duration": 54,
    "start_time": "2021-12-16T18:39:27.504Z"
   },
   {
    "duration": 364,
    "start_time": "2021-12-16T18:39:28.237Z"
   },
   {
    "duration": 165,
    "start_time": "2021-12-16T18:39:29.176Z"
   },
   {
    "duration": 13,
    "start_time": "2021-12-16T18:39:30.668Z"
   },
   {
    "duration": 31,
    "start_time": "2021-12-16T18:39:32.040Z"
   },
   {
    "duration": 14,
    "start_time": "2021-12-16T18:39:32.972Z"
   },
   {
    "duration": 28,
    "start_time": "2021-12-16T18:39:34.529Z"
   },
   {
    "duration": 47,
    "start_time": "2021-12-16T18:39:47.156Z"
   },
   {
    "duration": 728,
    "start_time": "2021-12-16T18:45:09.456Z"
   },
   {
    "duration": 4,
    "start_time": "2021-12-16T18:53:04.300Z"
   },
   {
    "duration": 544,
    "start_time": "2021-12-16T18:53:04.958Z"
   },
   {
    "duration": 77,
    "start_time": "2021-12-16T18:53:06.068Z"
   },
   {
    "duration": 49,
    "start_time": "2021-12-16T18:53:06.476Z"
   },
   {
    "duration": 354,
    "start_time": "2021-12-16T18:53:06.944Z"
   },
   {
    "duration": 162,
    "start_time": "2021-12-16T18:53:07.441Z"
   },
   {
    "duration": 17,
    "start_time": "2021-12-16T18:53:08.944Z"
   },
   {
    "duration": 39,
    "start_time": "2021-12-16T18:53:10.100Z"
   },
   {
    "duration": 13,
    "start_time": "2021-12-16T18:53:10.703Z"
   },
   {
    "duration": 27,
    "start_time": "2021-12-16T18:53:11.280Z"
   },
   {
    "duration": 36,
    "start_time": "2021-12-16T18:53:12.885Z"
   },
   {
    "duration": 771,
    "start_time": "2021-12-16T18:53:14.412Z"
   },
   {
    "duration": 589,
    "start_time": "2021-12-16T18:56:29.716Z"
   },
   {
    "duration": 555,
    "start_time": "2021-12-16T18:56:45.088Z"
   },
   {
    "duration": 437,
    "start_time": "2021-12-16T18:57:10.448Z"
   },
   {
    "duration": 82,
    "start_time": "2021-12-16T18:57:47.187Z"
   },
   {
    "duration": 48,
    "start_time": "2021-12-16T18:58:26.988Z"
   },
   {
    "duration": 17,
    "start_time": "2021-12-16T19:01:10.676Z"
   },
   {
    "duration": 312,
    "start_time": "2021-12-16T19:04:07.292Z"
   },
   {
    "duration": 437,
    "start_time": "2021-12-16T19:05:24.404Z"
   },
   {
    "duration": 332,
    "start_time": "2021-12-16T19:07:06.080Z"
   },
   {
    "duration": 12,
    "start_time": "2021-12-16T19:07:23.092Z"
   },
   {
    "duration": 54,
    "start_time": "2021-12-16T19:11:01.013Z"
   },
   {
    "duration": 54,
    "start_time": "2021-12-16T19:17:55.004Z"
   },
   {
    "duration": 54,
    "start_time": "2021-12-16T19:18:12.012Z"
   },
   {
    "duration": 29,
    "start_time": "2021-12-16T19:42:57.515Z"
   },
   {
    "duration": 25,
    "start_time": "2021-12-16T19:43:14.071Z"
   },
   {
    "duration": 105,
    "start_time": "2021-12-16T20:18:16.845Z"
   },
   {
    "duration": 269,
    "start_time": "2021-12-16T20:18:22.449Z"
   },
   {
    "duration": 308,
    "start_time": "2021-12-16T20:18:33.313Z"
   },
   {
    "duration": 1015,
    "start_time": "2021-12-16T20:19:03.353Z"
   },
   {
    "duration": 73,
    "start_time": "2021-12-16T20:20:26.191Z"
   },
   {
    "duration": 97,
    "start_time": "2021-12-16T20:20:56.173Z"
   },
   {
    "duration": 27,
    "start_time": "2021-12-16T20:23:36.685Z"
   },
   {
    "duration": 30,
    "start_time": "2021-12-16T20:24:29.373Z"
   },
   {
    "duration": 29,
    "start_time": "2021-12-16T20:25:25.473Z"
   },
   {
    "duration": 92,
    "start_time": "2021-12-16T20:31:16.097Z"
   },
   {
    "duration": 107,
    "start_time": "2021-12-16T20:31:33.917Z"
   },
   {
    "duration": 84,
    "start_time": "2021-12-16T20:32:06.257Z"
   },
   {
    "duration": 7468,
    "start_time": "2021-12-16T20:32:45.238Z"
   },
   {
    "duration": 293,
    "start_time": "2021-12-16T20:33:54.509Z"
   },
   {
    "duration": 7430,
    "start_time": "2021-12-16T20:34:16.629Z"
   },
   {
    "duration": 1054,
    "start_time": "2021-12-16T20:37:50.469Z"
   },
   {
    "duration": 61,
    "start_time": "2021-12-16T20:38:18.269Z"
   },
   {
    "duration": 913,
    "start_time": "2021-12-16T20:38:19.549Z"
   },
   {
    "duration": 1361,
    "start_time": "2021-12-16T20:40:40.685Z"
   },
   {
    "duration": 1394,
    "start_time": "2021-12-16T20:40:58.897Z"
   },
   {
    "duration": 286,
    "start_time": "2021-12-16T20:41:25.725Z"
   },
   {
    "duration": 1284,
    "start_time": "2021-12-16T20:45:09.089Z"
   },
   {
    "duration": 327,
    "start_time": "2021-12-16T20:45:25.773Z"
   },
   {
    "duration": 1448,
    "start_time": "2021-12-16T20:45:42.949Z"
   },
   {
    "duration": 2365,
    "start_time": "2021-12-16T20:46:10.061Z"
   },
   {
    "duration": 1622,
    "start_time": "2021-12-16T20:46:55.710Z"
   },
   {
    "duration": 426,
    "start_time": "2021-12-16T20:48:23.889Z"
   },
   {
    "duration": 553,
    "start_time": "2021-12-16T20:50:21.373Z"
   },
   {
    "duration": 1838,
    "start_time": "2021-12-16T20:51:16.365Z"
   },
   {
    "duration": 117,
    "start_time": "2021-12-16T20:55:20.961Z"
   },
   {
    "duration": 5,
    "start_time": "2021-12-16T20:55:52.801Z"
   },
   {
    "duration": 251,
    "start_time": "2021-12-16T20:56:13.957Z"
   },
   {
    "duration": 541,
    "start_time": "2021-12-16T20:56:26.017Z"
   },
   {
    "duration": 5,
    "start_time": "2021-12-16T20:56:57.505Z"
   },
   {
    "duration": 8330,
    "start_time": "2021-12-16T20:56:58.305Z"
   },
   {
    "duration": 5,
    "start_time": "2021-12-16T20:57:27.433Z"
   },
   {
    "duration": 7622,
    "start_time": "2021-12-16T20:57:28.589Z"
   },
   {
    "duration": 5,
    "start_time": "2021-12-16T20:57:49.681Z"
   },
   {
    "duration": 410,
    "start_time": "2021-12-16T20:57:51.697Z"
   },
   {
    "duration": 4,
    "start_time": "2021-12-16T20:58:19.629Z"
   },
   {
    "duration": 465,
    "start_time": "2021-12-16T20:58:20.038Z"
   },
   {
    "duration": 556,
    "start_time": "2021-12-16T20:58:59.582Z"
   },
   {
    "duration": 452,
    "start_time": "2021-12-16T20:59:06.513Z"
   },
   {
    "duration": 438,
    "start_time": "2021-12-16T20:59:22.969Z"
   },
   {
    "duration": 544,
    "start_time": "2021-12-16T20:59:42.517Z"
   },
   {
    "duration": 22,
    "start_time": "2021-12-16T21:04:50.622Z"
   },
   {
    "duration": 91,
    "start_time": "2021-12-16T21:06:19.685Z"
   },
   {
    "duration": 26,
    "start_time": "2021-12-16T21:06:31.765Z"
   },
   {
    "duration": 5,
    "start_time": "2021-12-16T21:07:30.138Z"
   },
   {
    "duration": 502,
    "start_time": "2021-12-16T21:07:31.941Z"
   },
   {
    "duration": 70,
    "start_time": "2021-12-16T21:07:33.485Z"
   },
   {
    "duration": 52,
    "start_time": "2021-12-16T21:07:34.345Z"
   },
   {
    "duration": 315,
    "start_time": "2021-12-16T21:07:35.029Z"
   },
   {
    "duration": 130,
    "start_time": "2021-12-16T21:07:35.970Z"
   },
   {
    "duration": 12,
    "start_time": "2021-12-16T21:07:50.198Z"
   },
   {
    "duration": 32,
    "start_time": "2021-12-16T21:07:51.793Z"
   },
   {
    "duration": 13,
    "start_time": "2021-12-16T21:07:53.321Z"
   },
   {
    "duration": 26,
    "start_time": "2021-12-16T21:07:55.609Z"
   },
   {
    "duration": 32,
    "start_time": "2021-12-16T21:08:02.198Z"
   },
   {
    "duration": 372,
    "start_time": "2021-12-16T21:08:04.637Z"
   },
   {
    "duration": 17,
    "start_time": "2021-12-16T21:08:07.962Z"
   },
   {
    "duration": 28,
    "start_time": "2021-12-16T21:08:09.181Z"
   },
   {
    "duration": 27,
    "start_time": "2021-12-16T21:08:22.014Z"
   },
   {
    "duration": 70,
    "start_time": "2021-12-16T21:08:23.313Z"
   },
   {
    "duration": 66,
    "start_time": "2021-12-16T21:08:56.513Z"
   },
   {
    "duration": 88,
    "start_time": "2021-12-16T21:08:57.765Z"
   },
   {
    "duration": 6,
    "start_time": "2021-12-16T21:09:22.025Z"
   },
   {
    "duration": 640,
    "start_time": "2021-12-16T21:09:22.805Z"
   },
   {
    "duration": 432,
    "start_time": "2021-12-16T21:09:24.153Z"
   },
   {
    "duration": 485,
    "start_time": "2021-12-16T21:09:24.588Z"
   },
   {
    "duration": 594,
    "start_time": "2021-12-16T21:09:25.341Z"
   },
   {
    "duration": 28,
    "start_time": "2021-12-16T21:09:26.901Z"
   },
   {
    "duration": 1958,
    "start_time": "2021-12-17T18:26:40.309Z"
   },
   {
    "duration": 611,
    "start_time": "2021-12-17T18:26:43.064Z"
   },
   {
    "duration": 72,
    "start_time": "2021-12-17T18:26:45.856Z"
   },
   {
    "duration": 54,
    "start_time": "2021-12-17T18:26:46.368Z"
   },
   {
    "duration": 348,
    "start_time": "2021-12-17T18:26:47.068Z"
   },
   {
    "duration": 141,
    "start_time": "2021-12-17T18:26:48.219Z"
   },
   {
    "duration": 13,
    "start_time": "2021-12-17T18:26:49.424Z"
   },
   {
    "duration": 39,
    "start_time": "2021-12-17T18:26:50.756Z"
   },
   {
    "duration": 12,
    "start_time": "2021-12-17T18:26:51.856Z"
   },
   {
    "duration": 27,
    "start_time": "2021-12-17T18:26:52.588Z"
   },
   {
    "duration": 43,
    "start_time": "2021-12-17T18:26:53.848Z"
   },
   {
    "duration": 409,
    "start_time": "2021-12-17T18:26:55.696Z"
   },
   {
    "duration": 19,
    "start_time": "2021-12-17T18:26:57.560Z"
   },
   {
    "duration": 42,
    "start_time": "2021-12-17T18:26:58.328Z"
   },
   {
    "duration": 41,
    "start_time": "2021-12-17T18:26:59.212Z"
   },
   {
    "duration": 74,
    "start_time": "2021-12-17T18:27:00.200Z"
   },
   {
    "duration": 4,
    "start_time": "2021-12-17T18:27:01.313Z"
   },
   {
    "duration": 493,
    "start_time": "2021-12-17T18:27:02.276Z"
   },
   {
    "duration": 489,
    "start_time": "2021-12-17T18:31:58.225Z"
   },
   {
    "duration": 448,
    "start_time": "2021-12-17T18:31:59.896Z"
   },
   {
    "duration": 554,
    "start_time": "2021-12-17T18:32:00.545Z"
   },
   {
    "duration": 627,
    "start_time": "2021-12-17T18:32:01.488Z"
   },
   {
    "duration": 23,
    "start_time": "2021-12-17T18:32:07.188Z"
   },
   {
    "duration": 5,
    "start_time": "2021-12-17T19:10:23.545Z"
   },
   {
    "duration": 509,
    "start_time": "2021-12-17T19:10:24.232Z"
   },
   {
    "duration": 69,
    "start_time": "2021-12-17T19:10:24.980Z"
   },
   {
    "duration": 46,
    "start_time": "2021-12-17T19:10:25.456Z"
   },
   {
    "duration": 341,
    "start_time": "2021-12-17T19:10:26.141Z"
   },
   {
    "duration": 215,
    "start_time": "2021-12-17T19:10:26.486Z"
   },
   {
    "duration": 17,
    "start_time": "2021-12-17T19:10:26.704Z"
   },
   {
    "duration": 74,
    "start_time": "2021-12-17T19:10:26.724Z"
   },
   {
    "duration": 19,
    "start_time": "2021-12-17T19:10:26.802Z"
   },
   {
    "duration": 42,
    "start_time": "2021-12-17T19:10:26.916Z"
   },
   {
    "duration": 47,
    "start_time": "2021-12-17T19:10:27.069Z"
   },
   {
    "duration": 655,
    "start_time": "2021-12-17T19:10:27.277Z"
   },
   {
    "duration": 27,
    "start_time": "2021-12-17T19:10:27.936Z"
   },
   {
    "duration": 28,
    "start_time": "2021-12-17T19:10:27.966Z"
   },
   {
    "duration": 27,
    "start_time": "2021-12-17T19:10:27.997Z"
   },
   {
    "duration": 106,
    "start_time": "2021-12-17T19:10:28.027Z"
   },
   {
    "duration": 5,
    "start_time": "2021-12-17T19:10:28.208Z"
   },
   {
    "duration": 478,
    "start_time": "2021-12-17T19:10:28.380Z"
   },
   {
    "duration": 448,
    "start_time": "2021-12-17T19:10:28.863Z"
   },
   {
    "duration": 559,
    "start_time": "2021-12-17T19:10:29.314Z"
   },
   {
    "duration": 556,
    "start_time": "2021-12-17T19:10:29.876Z"
   },
   {
    "duration": 45,
    "start_time": "2021-12-17T19:10:30.435Z"
   },
   {
    "duration": 5,
    "start_time": "2021-12-17T19:13:16.432Z"
   },
   {
    "duration": 15,
    "start_time": "2021-12-17T19:14:34.157Z"
   },
   {
    "duration": 17,
    "start_time": "2021-12-17T19:18:47.260Z"
   },
   {
    "duration": 8,
    "start_time": "2021-12-17T19:45:02.952Z"
   },
   {
    "duration": 7,
    "start_time": "2021-12-17T19:45:18.813Z"
   },
   {
    "duration": 13,
    "start_time": "2021-12-17T19:45:43.885Z"
   },
   {
    "duration": 7664,
    "start_time": "2021-12-17T19:46:17.149Z"
   },
   {
    "duration": 7190,
    "start_time": "2021-12-17T19:46:36.456Z"
   },
   {
    "duration": 14,
    "start_time": "2021-12-17T19:47:01.093Z"
   },
   {
    "duration": 2100,
    "start_time": "2021-12-17T19:54:50.981Z"
   },
   {
    "duration": 292,
    "start_time": "2021-12-17T19:58:51.889Z"
   },
   {
    "duration": 15,
    "start_time": "2021-12-17T19:59:00.473Z"
   },
   {
    "duration": 435,
    "start_time": "2021-12-17T19:59:06.376Z"
   },
   {
    "duration": 4214,
    "start_time": "2021-12-17T19:59:22.345Z"
   },
   {
    "duration": 22,
    "start_time": "2021-12-17T20:01:13.885Z"
   },
   {
    "duration": 58,
    "start_time": "2021-12-17T20:02:04.418Z"
   },
   {
    "duration": 42,
    "start_time": "2021-12-17T20:02:26.557Z"
   },
   {
    "duration": 22,
    "start_time": "2021-12-17T20:02:40.681Z"
   },
   {
    "duration": 1217,
    "start_time": "2021-12-19T18:08:17.268Z"
   },
   {
    "duration": 477,
    "start_time": "2021-12-19T18:08:19.959Z"
   },
   {
    "duration": 55,
    "start_time": "2021-12-19T18:08:27.803Z"
   },
   {
    "duration": 35,
    "start_time": "2021-12-19T18:08:29.735Z"
   },
   {
    "duration": 262,
    "start_time": "2021-12-19T18:08:37.580Z"
   },
   {
    "duration": 116,
    "start_time": "2021-12-19T18:08:38.051Z"
   },
   {
    "duration": 11,
    "start_time": "2021-12-19T18:08:40.887Z"
   },
   {
    "duration": 23,
    "start_time": "2021-12-19T18:08:44.215Z"
   },
   {
    "duration": 10,
    "start_time": "2021-12-19T18:08:49.283Z"
   },
   {
    "duration": 18,
    "start_time": "2021-12-19T18:08:55.300Z"
   },
   {
    "duration": 29,
    "start_time": "2021-12-19T18:08:59.971Z"
   },
   {
    "duration": 21,
    "start_time": "2021-12-19T18:10:06.912Z"
   },
   {
    "duration": 276,
    "start_time": "2021-12-19T18:10:13.235Z"
   },
   {
    "duration": 16,
    "start_time": "2021-12-19T18:10:23.287Z"
   },
   {
    "duration": 21,
    "start_time": "2021-12-19T18:10:24.564Z"
   },
   {
    "duration": 46,
    "start_time": "2021-12-19T18:10:39.784Z"
   },
   {
    "duration": 19,
    "start_time": "2021-12-19T18:10:41.412Z"
   },
   {
    "duration": 4,
    "start_time": "2021-12-19T18:19:05.136Z"
   },
   {
    "duration": 337,
    "start_time": "2021-12-19T18:20:13.992Z"
   },
   {
    "duration": 259,
    "start_time": "2021-12-19T18:20:36.576Z"
   },
   {
    "duration": 4,
    "start_time": "2021-12-19T18:20:40.156Z"
   },
   {
    "duration": 745,
    "start_time": "2021-12-19T18:20:41.644Z"
   },
   {
    "duration": 3,
    "start_time": "2021-12-19T18:23:28.680Z"
   },
   {
    "duration": 475,
    "start_time": "2021-12-19T18:23:29.360Z"
   },
   {
    "duration": 4,
    "start_time": "2021-12-19T18:25:52.188Z"
   },
   {
    "duration": 1202,
    "start_time": "2021-12-19T18:25:52.932Z"
   },
   {
    "duration": 4,
    "start_time": "2021-12-19T18:27:09.360Z"
   },
   {
    "duration": 743,
    "start_time": "2021-12-19T18:27:09.768Z"
   },
   {
    "duration": 4,
    "start_time": "2021-12-19T18:27:41.660Z"
   },
   {
    "duration": 1187,
    "start_time": "2021-12-19T18:27:42.489Z"
   },
   {
    "duration": 4,
    "start_time": "2021-12-19T18:27:54.572Z"
   },
   {
    "duration": 1030,
    "start_time": "2021-12-19T18:27:56.572Z"
   },
   {
    "duration": 3,
    "start_time": "2021-12-19T18:28:14.704Z"
   },
   {
    "duration": 4,
    "start_time": "2021-12-19T18:28:18.136Z"
   },
   {
    "duration": 978,
    "start_time": "2021-12-19T18:28:20.640Z"
   },
   {
    "duration": 4,
    "start_time": "2021-12-19T18:28:35.944Z"
   },
   {
    "duration": 1247,
    "start_time": "2021-12-19T18:28:36.321Z"
   },
   {
    "duration": 4,
    "start_time": "2021-12-19T18:29:01.540Z"
   },
   {
    "duration": 921,
    "start_time": "2021-12-19T18:29:01.872Z"
   },
   {
    "duration": 4,
    "start_time": "2021-12-19T18:30:19.268Z"
   },
   {
    "duration": 776,
    "start_time": "2021-12-19T18:30:19.656Z"
   },
   {
    "duration": 4,
    "start_time": "2021-12-19T18:33:02.716Z"
   },
   {
    "duration": 1234,
    "start_time": "2021-12-19T18:33:03.084Z"
   },
   {
    "duration": 4,
    "start_time": "2021-12-19T18:33:30.420Z"
   },
   {
    "duration": 758,
    "start_time": "2021-12-19T18:33:31.588Z"
   },
   {
    "duration": 4,
    "start_time": "2021-12-19T18:34:56.326Z"
   },
   {
    "duration": 744,
    "start_time": "2021-12-19T18:34:56.624Z"
   },
   {
    "duration": 3,
    "start_time": "2021-12-19T18:36:39.812Z"
   },
   {
    "duration": 886,
    "start_time": "2021-12-19T18:36:40.116Z"
   },
   {
    "duration": 77,
    "start_time": "2021-12-19T18:36:57.244Z"
   },
   {
    "duration": 901,
    "start_time": "2021-12-19T18:36:58.292Z"
   },
   {
    "duration": 74,
    "start_time": "2021-12-19T18:37:18.096Z"
   },
   {
    "duration": 1157,
    "start_time": "2021-12-19T18:37:19.080Z"
   },
   {
    "duration": 4,
    "start_time": "2021-12-19T18:37:31.024Z"
   },
   {
    "duration": 488,
    "start_time": "2021-12-19T18:37:31.504Z"
   },
   {
    "duration": 3,
    "start_time": "2021-12-19T18:37:39.808Z"
   },
   {
    "duration": 709,
    "start_time": "2021-12-19T18:37:40.704Z"
   },
   {
    "duration": 4,
    "start_time": "2021-12-19T18:37:58.764Z"
   },
   {
    "duration": 771,
    "start_time": "2021-12-19T18:37:59.136Z"
   },
   {
    "duration": 5,
    "start_time": "2021-12-19T18:38:59.440Z"
   },
   {
    "duration": 766,
    "start_time": "2021-12-19T18:38:59.785Z"
   },
   {
    "duration": 3,
    "start_time": "2021-12-19T18:39:09.825Z"
   },
   {
    "duration": 698,
    "start_time": "2021-12-19T18:39:10.168Z"
   },
   {
    "duration": 4,
    "start_time": "2021-12-19T18:40:13.681Z"
   },
   {
    "duration": 1161,
    "start_time": "2021-12-19T18:40:14.120Z"
   },
   {
    "duration": 3,
    "start_time": "2021-12-19T18:40:33.649Z"
   },
   {
    "duration": 774,
    "start_time": "2021-12-19T18:40:34.696Z"
   },
   {
    "duration": 3,
    "start_time": "2021-12-19T18:41:43.797Z"
   },
   {
    "duration": 714,
    "start_time": "2021-12-19T18:41:44.120Z"
   },
   {
    "duration": 3,
    "start_time": "2021-12-19T18:41:56.475Z"
   },
   {
    "duration": 704,
    "start_time": "2021-12-19T18:41:56.481Z"
   },
   {
    "duration": 4,
    "start_time": "2021-12-19T18:42:35.645Z"
   },
   {
    "duration": 835,
    "start_time": "2021-12-19T18:42:35.945Z"
   },
   {
    "duration": 3,
    "start_time": "2021-12-19T18:43:56.308Z"
   },
   {
    "duration": 854,
    "start_time": "2021-12-19T18:43:56.624Z"
   },
   {
    "duration": 5,
    "start_time": "2021-12-19T18:44:04.452Z"
   },
   {
    "duration": 713,
    "start_time": "2021-12-19T18:44:04.784Z"
   },
   {
    "duration": 4,
    "start_time": "2021-12-19T18:44:26.656Z"
   },
   {
    "duration": 677,
    "start_time": "2021-12-19T18:44:27.052Z"
   },
   {
    "duration": 4,
    "start_time": "2021-12-19T18:44:39.540Z"
   },
   {
    "duration": 800,
    "start_time": "2021-12-19T18:44:39.928Z"
   },
   {
    "duration": 3,
    "start_time": "2021-12-19T18:45:04.364Z"
   },
   {
    "duration": 692,
    "start_time": "2021-12-19T18:45:04.636Z"
   },
   {
    "duration": 4,
    "start_time": "2021-12-19T18:45:42.880Z"
   },
   {
    "duration": 766,
    "start_time": "2021-12-19T18:45:43.344Z"
   },
   {
    "duration": 4,
    "start_time": "2021-12-19T18:46:32.500Z"
   },
   {
    "duration": 686,
    "start_time": "2021-12-19T18:46:32.900Z"
   },
   {
    "duration": 4,
    "start_time": "2021-12-19T18:48:43.909Z"
   },
   {
    "duration": 773,
    "start_time": "2021-12-19T18:48:44.342Z"
   },
   {
    "duration": 3,
    "start_time": "2021-12-19T18:49:50.299Z"
   },
   {
    "duration": 981,
    "start_time": "2021-12-19T18:49:51.174Z"
   },
   {
    "duration": 5,
    "start_time": "2021-12-19T18:51:36.182Z"
   },
   {
    "duration": 4,
    "start_time": "2021-12-19T18:51:40.542Z"
   },
   {
    "duration": 1153,
    "start_time": "2021-12-19T18:51:41.098Z"
   },
   {
    "duration": 3,
    "start_time": "2021-12-19T18:51:56.473Z"
   },
   {
    "duration": 869,
    "start_time": "2021-12-19T18:51:56.478Z"
   },
   {
    "duration": 824,
    "start_time": "2021-12-19T18:52:43.354Z"
   },
   {
    "duration": 950,
    "start_time": "2021-12-19T18:53:20.650Z"
   },
   {
    "duration": 5,
    "start_time": "2021-12-19T18:54:18.378Z"
   },
   {
    "duration": 1066,
    "start_time": "2021-12-19T18:54:18.990Z"
   },
   {
    "duration": 55,
    "start_time": "2021-12-19T18:54:20.058Z"
   },
   {
    "duration": 53,
    "start_time": "2021-12-19T18:54:20.115Z"
   },
   {
    "duration": 268,
    "start_time": "2021-12-19T18:54:20.170Z"
   },
   {
    "duration": 106,
    "start_time": "2021-12-19T18:54:20.566Z"
   },
   {
    "duration": 11,
    "start_time": "2021-12-19T18:54:20.926Z"
   },
   {
    "duration": 22,
    "start_time": "2021-12-19T18:54:21.758Z"
   },
   {
    "duration": 10,
    "start_time": "2021-12-19T18:54:22.160Z"
   },
   {
    "duration": 17,
    "start_time": "2021-12-19T18:54:23.664Z"
   },
   {
    "duration": 21,
    "start_time": "2021-12-19T18:54:23.683Z"
   },
   {
    "duration": 230,
    "start_time": "2021-12-19T18:54:23.722Z"
   },
   {
    "duration": 10,
    "start_time": "2021-12-19T18:54:25.266Z"
   },
   {
    "duration": 20,
    "start_time": "2021-12-19T18:54:26.050Z"
   },
   {
    "duration": 4,
    "start_time": "2021-12-19T18:54:27.766Z"
   },
   {
    "duration": 850,
    "start_time": "2021-12-19T18:54:28.334Z"
   },
   {
    "duration": 835,
    "start_time": "2021-12-19T18:54:29.222Z"
   },
   {
    "duration": 893,
    "start_time": "2021-12-19T18:54:30.073Z"
   },
   {
    "duration": 19,
    "start_time": "2021-12-19T18:54:30.968Z"
   },
   {
    "duration": 43,
    "start_time": "2021-12-19T18:54:31.482Z"
   },
   {
    "duration": 3,
    "start_time": "2021-12-19T18:54:32.230Z"
   },
   {
    "duration": 450,
    "start_time": "2021-12-19T18:54:32.810Z"
   },
   {
    "duration": 418,
    "start_time": "2021-12-19T18:54:37.530Z"
   },
   {
    "duration": 424,
    "start_time": "2021-12-19T18:54:38.078Z"
   },
   {
    "duration": 548,
    "start_time": "2021-12-19T18:54:42.770Z"
   },
   {
    "duration": 17,
    "start_time": "2021-12-19T18:54:48.178Z"
   },
   {
    "duration": 12,
    "start_time": "2021-12-19T18:54:51.206Z"
   },
   {
    "duration": 7,
    "start_time": "2021-12-19T18:54:52.294Z"
   },
   {
    "duration": 21,
    "start_time": "2021-12-19T18:54:53.646Z"
   },
   {
    "duration": 12,
    "start_time": "2021-12-19T18:54:54.494Z"
   },
   {
    "duration": 420,
    "start_time": "2021-12-19T18:58:31.014Z"
   },
   {
    "duration": 52,
    "start_time": "2021-12-19T18:58:38.261Z"
   },
   {
    "duration": 5,
    "start_time": "2021-12-19T18:59:24.191Z"
   },
   {
    "duration": 416,
    "start_time": "2021-12-19T18:59:25.092Z"
   },
   {
    "duration": 54,
    "start_time": "2021-12-19T18:59:27.268Z"
   },
   {
    "duration": 34,
    "start_time": "2021-12-19T19:01:05.172Z"
   },
   {
    "duration": 251,
    "start_time": "2021-12-19T19:07:01.256Z"
   },
   {
    "duration": 105,
    "start_time": "2021-12-19T19:12:43.316Z"
   },
   {
    "duration": 82,
    "start_time": "2021-12-19T19:16:03.936Z"
   },
   {
    "duration": 8,
    "start_time": "2021-12-19T19:16:07.939Z"
   },
   {
    "duration": 9,
    "start_time": "2021-12-19T19:19:11.968Z"
   },
   {
    "duration": 8,
    "start_time": "2021-12-19T19:19:45.528Z"
   },
   {
    "duration": 8,
    "start_time": "2021-12-19T19:20:28.428Z"
   },
   {
    "duration": 23,
    "start_time": "2021-12-19T19:30:36.468Z"
   },
   {
    "duration": 28,
    "start_time": "2021-12-19T19:32:14.744Z"
   },
   {
    "duration": 21,
    "start_time": "2021-12-19T19:37:10.628Z"
   },
   {
    "duration": 235,
    "start_time": "2021-12-19T19:45:02.660Z"
   },
   {
    "duration": 11,
    "start_time": "2021-12-19T19:50:50.913Z"
   },
   {
    "duration": 25,
    "start_time": "2021-12-19T19:57:27.820Z"
   },
   {
    "duration": 26,
    "start_time": "2021-12-19T19:58:59.580Z"
   },
   {
    "duration": 71,
    "start_time": "2021-12-19T20:01:02.460Z"
   },
   {
    "duration": 5,
    "start_time": "2021-12-19T20:02:30.640Z"
   },
   {
    "duration": 88,
    "start_time": "2021-12-19T20:03:33.440Z"
   },
   {
    "duration": 77,
    "start_time": "2021-12-19T20:03:53.892Z"
   },
   {
    "duration": 849,
    "start_time": "2021-12-19T20:05:45.944Z"
   },
   {
    "duration": 854,
    "start_time": "2021-12-19T20:07:25.036Z"
   },
   {
    "duration": 55,
    "start_time": "2021-12-19T20:14:27.688Z"
   },
   {
    "duration": 20,
    "start_time": "2021-12-19T20:34:10.249Z"
   },
   {
    "duration": 17,
    "start_time": "2021-12-19T20:34:21.107Z"
   },
   {
    "duration": 1595,
    "start_time": "2021-12-20T18:47:43.249Z"
   },
   {
    "duration": 510,
    "start_time": "2021-12-20T18:47:45.220Z"
   },
   {
    "duration": 72,
    "start_time": "2021-12-20T18:47:48.888Z"
   },
   {
    "duration": 65,
    "start_time": "2021-12-20T18:48:08.456Z"
   },
   {
    "duration": 352,
    "start_time": "2021-12-20T18:48:11.924Z"
   },
   {
    "duration": 139,
    "start_time": "2021-12-20T18:48:14.864Z"
   },
   {
    "duration": 13,
    "start_time": "2021-12-20T18:48:16.704Z"
   },
   {
    "duration": 9,
    "start_time": "2021-12-20T18:48:19.060Z"
   },
   {
    "duration": 33,
    "start_time": "2021-12-20T18:48:20.541Z"
   },
   {
    "duration": 28,
    "start_time": "2021-12-20T18:48:22.276Z"
   },
   {
    "duration": 35,
    "start_time": "2021-12-20T18:48:24.772Z"
   },
   {
    "duration": 692,
    "start_time": "2021-12-20T18:48:27.324Z"
   },
   {
    "duration": 17,
    "start_time": "2021-12-20T18:48:35.252Z"
   },
   {
    "duration": 28,
    "start_time": "2021-12-20T18:48:39.140Z"
   },
   {
    "duration": 30,
    "start_time": "2021-12-20T18:48:40.860Z"
   },
   {
    "duration": 5,
    "start_time": "2021-12-20T18:48:52.066Z"
   },
   {
    "duration": 1485,
    "start_time": "2021-12-20T18:49:00.048Z"
   },
   {
    "duration": 1675,
    "start_time": "2021-12-20T18:49:09.860Z"
   },
   {
    "duration": 1539,
    "start_time": "2021-12-20T18:49:16.931Z"
   },
   {
    "duration": 71,
    "start_time": "2021-12-20T18:49:26.041Z"
   },
   {
    "duration": 8,
    "start_time": "2021-12-20T19:01:24.606Z"
   },
   {
    "duration": 574,
    "start_time": "2021-12-20T19:01:25.113Z"
   },
   {
    "duration": 73,
    "start_time": "2021-12-20T19:01:25.761Z"
   },
   {
    "duration": 58,
    "start_time": "2021-12-20T19:01:27.273Z"
   },
   {
    "duration": 379,
    "start_time": "2021-12-20T19:01:28.130Z"
   },
   {
    "duration": 148,
    "start_time": "2021-12-20T19:01:28.805Z"
   },
   {
    "duration": 14,
    "start_time": "2021-12-20T19:01:29.201Z"
   },
   {
    "duration": 9,
    "start_time": "2021-12-20T19:01:29.814Z"
   },
   {
    "duration": 50,
    "start_time": "2021-12-20T19:01:30.254Z"
   },
   {
    "duration": 42,
    "start_time": "2021-12-20T19:01:30.938Z"
   },
   {
    "duration": 47,
    "start_time": "2021-12-20T19:01:31.830Z"
   },
   {
    "duration": 718,
    "start_time": "2021-12-20T19:01:32.602Z"
   },
   {
    "duration": 41,
    "start_time": "2021-12-20T19:01:33.323Z"
   },
   {
    "duration": 27,
    "start_time": "2021-12-20T19:01:35.078Z"
   },
   {
    "duration": 28,
    "start_time": "2021-12-20T19:01:35.538Z"
   },
   {
    "duration": 5,
    "start_time": "2021-12-20T19:01:36.210Z"
   },
   {
    "duration": 1647,
    "start_time": "2021-12-20T19:01:36.762Z"
   },
   {
    "duration": 2479,
    "start_time": "2021-12-20T19:01:38.414Z"
   },
   {
    "duration": 1796,
    "start_time": "2021-12-20T19:01:40.897Z"
   },
   {
    "duration": 99,
    "start_time": "2021-12-20T19:01:42.697Z"
   },
   {
    "duration": 6,
    "start_time": "2021-12-20T19:01:43.513Z"
   },
   {
    "duration": 883,
    "start_time": "2021-12-20T19:01:44.882Z"
   },
   {
    "duration": 747,
    "start_time": "2021-12-20T19:01:46.929Z"
   },
   {
    "duration": 815,
    "start_time": "2021-12-20T19:01:48.378Z"
   },
   {
    "duration": 827,
    "start_time": "2021-12-20T19:01:49.197Z"
   },
   {
    "duration": 28,
    "start_time": "2021-12-20T19:01:50.302Z"
   },
   {
    "duration": 99,
    "start_time": "2021-12-20T19:03:49.429Z"
   },
   {
    "duration": 27,
    "start_time": "2021-12-20T19:03:56.785Z"
   },
   {
    "duration": 116,
    "start_time": "2021-12-20T19:39:21.479Z"
   },
   {
    "duration": 105,
    "start_time": "2021-12-20T19:40:21.062Z"
   },
   {
    "duration": 75,
    "start_time": "2021-12-20T19:45:24.026Z"
   },
   {
    "duration": 6,
    "start_time": "2021-12-20T19:57:58.542Z"
   },
   {
    "duration": 771,
    "start_time": "2021-12-20T19:58:05.513Z"
   },
   {
    "duration": 103,
    "start_time": "2021-12-20T20:06:31.858Z"
   },
   {
    "duration": 1084,
    "start_time": "2021-12-20T20:06:42.530Z"
   },
   {
    "duration": 712,
    "start_time": "2021-12-20T20:11:40.286Z"
   },
   {
    "duration": 773,
    "start_time": "2021-12-20T20:14:33.881Z"
   },
   {
    "duration": 1018,
    "start_time": "2021-12-20T20:14:47.030Z"
   },
   {
    "duration": 25,
    "start_time": "2021-12-20T20:21:28.119Z"
   },
   {
    "duration": 94,
    "start_time": "2021-12-20T20:57:57.929Z"
   },
   {
    "duration": 101,
    "start_time": "2021-12-20T20:58:35.175Z"
   },
   {
    "duration": 9456,
    "start_time": "2021-12-20T20:58:56.814Z"
   },
   {
    "duration": 7705,
    "start_time": "2021-12-20T20:59:21.402Z"
   },
   {
    "duration": 5465,
    "start_time": "2021-12-20T20:59:48.526Z"
   },
   {
    "duration": 11,
    "start_time": "2021-12-20T21:00:57.382Z"
   },
   {
    "duration": 802,
    "start_time": "2021-12-20T21:02:13.782Z"
   },
   {
    "duration": 12,
    "start_time": "2021-12-20T21:02:39.734Z"
   },
   {
    "duration": 36,
    "start_time": "2021-12-20T21:07:08.691Z"
   },
   {
    "duration": 309,
    "start_time": "2021-12-20T21:10:29.094Z"
   },
   {
    "duration": 17,
    "start_time": "2021-12-20T21:10:53.242Z"
   },
   {
    "duration": 7,
    "start_time": "2021-12-20T21:47:45.274Z"
   },
   {
    "duration": 511,
    "start_time": "2021-12-20T21:47:46.934Z"
   },
   {
    "duration": 71,
    "start_time": "2021-12-20T21:47:48.330Z"
   },
   {
    "duration": 53,
    "start_time": "2021-12-20T21:47:50.250Z"
   },
   {
    "duration": 350,
    "start_time": "2021-12-20T21:47:53.922Z"
   },
   {
    "duration": 140,
    "start_time": "2021-12-20T21:47:56.509Z"
   },
   {
    "duration": 11,
    "start_time": "2021-12-20T21:47:57.706Z"
   },
   {
    "duration": 9,
    "start_time": "2021-12-20T21:47:59.338Z"
   },
   {
    "duration": 32,
    "start_time": "2021-12-20T21:48:01.062Z"
   },
   {
    "duration": 29,
    "start_time": "2021-12-20T21:48:02.113Z"
   },
   {
    "duration": 33,
    "start_time": "2021-12-20T21:48:04.005Z"
   },
   {
    "duration": 494,
    "start_time": "2021-12-20T21:48:05.889Z"
   },
   {
    "duration": 17,
    "start_time": "2021-12-20T21:48:08.410Z"
   },
   {
    "duration": 30,
    "start_time": "2021-12-20T21:48:12.157Z"
   },
   {
    "duration": 27,
    "start_time": "2021-12-20T21:48:13.266Z"
   },
   {
    "duration": 5,
    "start_time": "2021-12-20T21:48:14.738Z"
   },
   {
    "duration": 1465,
    "start_time": "2021-12-20T21:48:15.942Z"
   },
   {
    "duration": 1529,
    "start_time": "2021-12-20T21:48:24.394Z"
   },
   {
    "duration": 1477,
    "start_time": "2021-12-20T21:48:28.130Z"
   },
   {
    "duration": 79,
    "start_time": "2021-12-20T21:48:32.254Z"
   },
   {
    "duration": 4,
    "start_time": "2021-12-20T21:48:37.538Z"
   },
   {
    "duration": 844,
    "start_time": "2021-12-20T21:48:39.054Z"
   },
   {
    "duration": 702,
    "start_time": "2021-12-20T21:48:40.706Z"
   },
   {
    "duration": 707,
    "start_time": "2021-12-20T21:48:42.402Z"
   },
   {
    "duration": 768,
    "start_time": "2021-12-20T21:48:45.242Z"
   },
   {
    "duration": 23,
    "start_time": "2021-12-20T21:48:48.082Z"
   },
   {
    "duration": 15,
    "start_time": "2021-12-20T21:48:53.482Z"
   },
   {
    "duration": 11,
    "start_time": "2021-12-20T21:48:58.166Z"
   },
   {
    "duration": 31,
    "start_time": "2021-12-20T21:48:59.862Z"
   },
   {
    "duration": 15,
    "start_time": "2021-12-20T21:49:02.222Z"
   },
   {
    "duration": 1122,
    "start_time": "2021-12-21T12:00:20.635Z"
   },
   {
    "duration": 425,
    "start_time": "2021-12-21T12:00:21.759Z"
   },
   {
    "duration": 58,
    "start_time": "2021-12-21T12:00:22.186Z"
   },
   {
    "duration": 34,
    "start_time": "2021-12-21T12:00:22.246Z"
   },
   {
    "duration": 280,
    "start_time": "2021-12-21T12:00:22.282Z"
   },
   {
    "duration": 106,
    "start_time": "2021-12-21T12:00:22.563Z"
   },
   {
    "duration": 8,
    "start_time": "2021-12-21T12:00:22.670Z"
   },
   {
    "duration": 6,
    "start_time": "2021-12-21T12:00:22.680Z"
   },
   {
    "duration": 22,
    "start_time": "2021-12-21T12:00:22.706Z"
   },
   {
    "duration": 17,
    "start_time": "2021-12-21T12:00:22.730Z"
   },
   {
    "duration": 24,
    "start_time": "2021-12-21T12:00:22.748Z"
   },
   {
    "duration": 264,
    "start_time": "2021-12-21T12:00:22.774Z"
   },
   {
    "duration": 11,
    "start_time": "2021-12-21T12:00:23.039Z"
   },
   {
    "duration": 19,
    "start_time": "2021-12-21T12:00:23.051Z"
   },
   {
    "duration": 40,
    "start_time": "2021-12-21T12:00:23.072Z"
   },
   {
    "duration": 4,
    "start_time": "2021-12-21T12:00:23.114Z"
   },
   {
    "duration": 942,
    "start_time": "2021-12-21T12:00:23.120Z"
   },
   {
    "duration": 879,
    "start_time": "2021-12-21T12:00:24.065Z"
   },
   {
    "duration": 928,
    "start_time": "2021-12-21T12:00:24.946Z"
   },
   {
    "duration": 54,
    "start_time": "2021-12-21T12:00:25.876Z"
   },
   {
    "duration": 3,
    "start_time": "2021-12-21T12:00:25.932Z"
   },
   {
    "duration": 483,
    "start_time": "2021-12-21T12:00:25.937Z"
   },
   {
    "duration": 496,
    "start_time": "2021-12-21T12:00:26.423Z"
   },
   {
    "duration": 450,
    "start_time": "2021-12-21T12:00:26.921Z"
   },
   {
    "duration": 472,
    "start_time": "2021-12-21T12:00:27.373Z"
   },
   {
    "duration": 17,
    "start_time": "2021-12-21T12:00:27.847Z"
   },
   {
    "duration": 11,
    "start_time": "2021-12-21T12:00:27.865Z"
   },
   {
    "duration": 33,
    "start_time": "2021-12-21T12:00:27.878Z"
   },
   {
    "duration": 22,
    "start_time": "2021-12-21T12:00:27.913Z"
   },
   {
    "duration": 11,
    "start_time": "2021-12-21T12:00:27.937Z"
   },
   {
    "duration": 1159,
    "start_time": "2021-12-21T15:23:42.314Z"
   },
   {
    "duration": 402,
    "start_time": "2021-12-21T15:23:43.475Z"
   },
   {
    "duration": 59,
    "start_time": "2021-12-21T15:23:43.879Z"
   },
   {
    "duration": 32,
    "start_time": "2021-12-21T15:23:43.940Z"
   },
   {
    "duration": 276,
    "start_time": "2021-12-21T15:23:43.974Z"
   },
   {
    "duration": 116,
    "start_time": "2021-12-21T15:23:44.252Z"
   },
   {
    "duration": 8,
    "start_time": "2021-12-21T15:23:44.370Z"
   },
   {
    "duration": 6,
    "start_time": "2021-12-21T15:23:44.381Z"
   },
   {
    "duration": 34,
    "start_time": "2021-12-21T15:23:44.389Z"
   },
   {
    "duration": 18,
    "start_time": "2021-12-21T15:23:44.425Z"
   },
   {
    "duration": 24,
    "start_time": "2021-12-21T15:23:44.444Z"
   },
   {
    "duration": 265,
    "start_time": "2021-12-21T15:23:44.470Z"
   },
   {
    "duration": 10,
    "start_time": "2021-12-21T15:23:44.737Z"
   },
   {
    "duration": 18,
    "start_time": "2021-12-21T15:23:44.748Z"
   },
   {
    "duration": 43,
    "start_time": "2021-12-21T15:23:44.768Z"
   },
   {
    "duration": 4,
    "start_time": "2021-12-21T15:23:44.812Z"
   },
   {
    "duration": 902,
    "start_time": "2021-12-21T15:23:44.817Z"
   },
   {
    "duration": 899,
    "start_time": "2021-12-21T15:23:45.721Z"
   },
   {
    "duration": 890,
    "start_time": "2021-12-21T15:23:46.622Z"
   },
   {
    "duration": 49,
    "start_time": "2021-12-21T15:23:47.515Z"
   },
   {
    "duration": 3,
    "start_time": "2021-12-21T15:23:47.566Z"
   },
   {
    "duration": 508,
    "start_time": "2021-12-21T15:23:47.571Z"
   },
   {
    "duration": 518,
    "start_time": "2021-12-21T15:23:48.082Z"
   },
   {
    "duration": 449,
    "start_time": "2021-12-21T15:23:48.606Z"
   },
   {
    "duration": 484,
    "start_time": "2021-12-21T15:23:49.057Z"
   },
   {
    "duration": 20,
    "start_time": "2021-12-21T15:23:49.543Z"
   },
   {
    "duration": 11,
    "start_time": "2021-12-21T15:23:49.565Z"
   },
   {
    "duration": 36,
    "start_time": "2021-12-21T15:23:49.577Z"
   },
   {
    "duration": 26,
    "start_time": "2021-12-21T15:23:49.615Z"
   },
   {
    "duration": 10,
    "start_time": "2021-12-21T15:23:49.643Z"
   },
   {
    "duration": 23,
    "start_time": "2021-12-21T15:26:36.906Z"
   },
   {
    "duration": 18,
    "start_time": "2021-12-21T15:28:46.412Z"
   },
   {
    "duration": 1182,
    "start_time": "2021-12-21T20:22:14.790Z"
   },
   {
    "duration": 417,
    "start_time": "2021-12-21T20:22:15.974Z"
   },
   {
    "duration": 58,
    "start_time": "2021-12-21T20:22:16.738Z"
   },
   {
    "duration": 35,
    "start_time": "2021-12-21T20:22:18.178Z"
   },
   {
    "duration": 255,
    "start_time": "2021-12-21T20:22:21.418Z"
   },
   {
    "duration": 99,
    "start_time": "2021-12-21T20:22:24.430Z"
   },
   {
    "duration": 11,
    "start_time": "2021-12-21T20:22:26.378Z"
   },
   {
    "duration": 7,
    "start_time": "2021-12-21T20:22:27.746Z"
   },
   {
    "duration": 21,
    "start_time": "2021-12-21T20:22:28.686Z"
   },
   {
    "duration": 17,
    "start_time": "2021-12-21T20:22:29.830Z"
   },
   {
    "duration": 24,
    "start_time": "2021-12-21T20:22:33.930Z"
   },
   {
    "duration": 5,
    "start_time": "2021-12-21T20:23:12.354Z"
   },
   {
    "duration": 395,
    "start_time": "2021-12-21T20:23:12.710Z"
   },
   {
    "duration": 52,
    "start_time": "2021-12-21T20:23:13.107Z"
   },
   {
    "duration": 31,
    "start_time": "2021-12-21T20:23:13.978Z"
   },
   {
    "duration": 250,
    "start_time": "2021-12-21T20:23:16.306Z"
   },
   {
    "duration": 144,
    "start_time": "2021-12-21T20:23:17.990Z"
   },
   {
    "duration": 9,
    "start_time": "2021-12-21T20:23:18.778Z"
   },
   {
    "duration": 6,
    "start_time": "2021-12-21T20:23:19.802Z"
   },
   {
    "duration": 22,
    "start_time": "2021-12-21T20:23:20.530Z"
   },
   {
    "duration": 18,
    "start_time": "2021-12-21T20:23:22.610Z"
   },
   {
    "duration": 21,
    "start_time": "2021-12-21T20:23:26.418Z"
   },
   {
    "duration": 20,
    "start_time": "2021-12-21T20:23:44.754Z"
   },
   {
    "duration": 246,
    "start_time": "2021-12-21T20:23:58.334Z"
   },
   {
    "duration": 11,
    "start_time": "2021-12-21T20:24:07.275Z"
   },
   {
    "duration": 20,
    "start_time": "2021-12-21T20:24:36.722Z"
   },
   {
    "duration": 20,
    "start_time": "2021-12-21T20:24:42.118Z"
   },
   {
    "duration": 6,
    "start_time": "2021-12-21T20:26:13.091Z"
   },
   {
    "duration": 452,
    "start_time": "2021-12-21T20:26:13.727Z"
   },
   {
    "duration": 52,
    "start_time": "2021-12-21T20:26:14.739Z"
   },
   {
    "duration": 50,
    "start_time": "2021-12-21T20:26:16.070Z"
   },
   {
    "duration": 232,
    "start_time": "2021-12-21T20:26:18.882Z"
   },
   {
    "duration": 97,
    "start_time": "2021-12-21T20:26:22.734Z"
   },
   {
    "duration": 10,
    "start_time": "2021-12-21T20:26:29.334Z"
   },
   {
    "duration": 8,
    "start_time": "2021-12-21T20:26:31.590Z"
   },
   {
    "duration": 30,
    "start_time": "2021-12-21T20:26:33.082Z"
   },
   {
    "duration": 17,
    "start_time": "2021-12-21T20:26:36.103Z"
   },
   {
    "duration": 20,
    "start_time": "2021-12-21T20:26:40.811Z"
   },
   {
    "duration": 241,
    "start_time": "2021-12-21T20:26:46.879Z"
   },
   {
    "duration": 11,
    "start_time": "2021-12-21T20:26:57.494Z"
   },
   {
    "duration": 19,
    "start_time": "2021-12-21T20:27:00.182Z"
   },
   {
    "duration": 18,
    "start_time": "2021-12-21T20:27:32.619Z"
   },
   {
    "duration": 20,
    "start_time": "2021-12-21T20:27:35.214Z"
   },
   {
    "duration": 5,
    "start_time": "2021-12-21T20:27:38.486Z"
   },
   {
    "duration": 1354,
    "start_time": "2021-12-21T20:27:40.503Z"
   },
   {
    "duration": 922,
    "start_time": "2021-12-21T20:27:52.350Z"
   },
   {
    "duration": 907,
    "start_time": "2021-12-21T20:27:57.574Z"
   },
   {
    "duration": 62,
    "start_time": "2021-12-21T20:28:06.194Z"
   },
   {
    "duration": 4,
    "start_time": "2021-12-21T20:28:37.934Z"
   },
   {
    "duration": 467,
    "start_time": "2021-12-21T20:28:39.142Z"
   },
   {
    "duration": 504,
    "start_time": "2021-12-21T20:28:50.851Z"
   },
   {
    "duration": 435,
    "start_time": "2021-12-21T20:28:53.638Z"
   },
   {
    "duration": 467,
    "start_time": "2021-12-21T20:28:57.462Z"
   },
   {
    "duration": 21,
    "start_time": "2021-12-21T20:29:07.590Z"
   },
   {
    "duration": 6,
    "start_time": "2021-12-21T20:32:22.374Z"
   },
   {
    "duration": 1820,
    "start_time": "2021-12-21T20:32:23.690Z"
   },
   {
    "duration": 4,
    "start_time": "2021-12-21T20:33:20.650Z"
   },
   {
    "duration": 1186,
    "start_time": "2021-12-21T20:33:24.397Z"
   },
   {
    "duration": 5,
    "start_time": "2021-12-21T20:39:48.670Z"
   },
   {
    "duration": 725,
    "start_time": "2021-12-21T20:39:50.710Z"
   },
   {
    "duration": 4,
    "start_time": "2021-12-21T20:40:37.730Z"
   },
   {
    "duration": 1092,
    "start_time": "2021-12-21T20:40:38.974Z"
   },
   {
    "duration": 5,
    "start_time": "2021-12-21T20:41:04.010Z"
   },
   {
    "duration": 1572,
    "start_time": "2021-12-21T20:41:04.919Z"
   },
   {
    "duration": 4,
    "start_time": "2021-12-21T20:41:17.846Z"
   },
   {
    "duration": 693,
    "start_time": "2021-12-21T20:41:19.418Z"
   },
   {
    "duration": 685,
    "start_time": "2021-12-21T20:41:26.159Z"
   },
   {
    "duration": 4,
    "start_time": "2021-12-21T20:45:24.689Z"
   },
   {
    "duration": 618,
    "start_time": "2021-12-21T20:45:25.431Z"
   },
   {
    "duration": 3,
    "start_time": "2021-12-21T20:46:00.755Z"
   },
   {
    "duration": 610,
    "start_time": "2021-12-21T20:46:01.862Z"
   },
   {
    "duration": 591,
    "start_time": "2021-12-21T20:46:07.015Z"
   },
   {
    "duration": 117,
    "start_time": "2021-12-21T20:48:13.235Z"
   },
   {
    "duration": 4,
    "start_time": "2021-12-21T20:48:35.859Z"
   },
   {
    "duration": 840,
    "start_time": "2021-12-21T20:48:37.906Z"
   },
   {
    "duration": 4,
    "start_time": "2021-12-21T20:48:52.383Z"
   },
   {
    "duration": 863,
    "start_time": "2021-12-21T20:48:53.199Z"
   },
   {
    "duration": 4,
    "start_time": "2021-12-21T20:49:48.815Z"
   },
   {
    "duration": 800,
    "start_time": "2021-12-21T20:49:49.743Z"
   },
   {
    "duration": 4,
    "start_time": "2021-12-21T20:51:24.814Z"
   },
   {
    "duration": 768,
    "start_time": "2021-12-21T20:51:25.991Z"
   },
   {
    "duration": 3,
    "start_time": "2021-12-21T20:51:43.019Z"
   },
   {
    "duration": 611,
    "start_time": "2021-12-21T20:51:43.718Z"
   },
   {
    "duration": 4,
    "start_time": "2021-12-21T20:51:58.783Z"
   },
   {
    "duration": 1124,
    "start_time": "2021-12-21T20:51:59.819Z"
   },
   {
    "duration": 4,
    "start_time": "2021-12-21T20:52:11.755Z"
   },
   {
    "duration": 612,
    "start_time": "2021-12-21T20:52:13.043Z"
   },
   {
    "duration": 4,
    "start_time": "2021-12-21T20:52:25.327Z"
   },
   {
    "duration": 606,
    "start_time": "2021-12-21T20:52:26.555Z"
   },
   {
    "duration": 5,
    "start_time": "2021-12-21T20:57:14.715Z"
   },
   {
    "duration": 653,
    "start_time": "2021-12-21T20:57:15.867Z"
   },
   {
    "duration": 3,
    "start_time": "2021-12-21T20:57:48.183Z"
   },
   {
    "duration": 460,
    "start_time": "2021-12-21T20:57:49.683Z"
   },
   {
    "duration": 420,
    "start_time": "2021-12-21T20:57:51.898Z"
   },
   {
    "duration": 519,
    "start_time": "2021-12-21T20:57:55.103Z"
   },
   {
    "duration": 455,
    "start_time": "2021-12-21T20:57:57.235Z"
   },
   {
    "duration": 4,
    "start_time": "2021-12-21T21:19:34.472Z"
   },
   {
    "duration": 434,
    "start_time": "2021-12-21T21:19:34.771Z"
   },
   {
    "duration": 53,
    "start_time": "2021-12-21T21:19:35.207Z"
   },
   {
    "duration": 30,
    "start_time": "2021-12-21T21:19:35.647Z"
   },
   {
    "duration": 243,
    "start_time": "2021-12-21T21:19:37.003Z"
   },
   {
    "duration": 99,
    "start_time": "2021-12-21T21:19:39.143Z"
   },
   {
    "duration": 8,
    "start_time": "2021-12-21T21:19:40.695Z"
   },
   {
    "duration": 7,
    "start_time": "2021-12-21T21:19:41.739Z"
   },
   {
    "duration": 21,
    "start_time": "2021-12-21T21:19:43.659Z"
   },
   {
    "duration": 17,
    "start_time": "2021-12-21T21:20:14.027Z"
   },
   {
    "duration": 21,
    "start_time": "2021-12-21T21:20:20.375Z"
   },
   {
    "duration": 233,
    "start_time": "2021-12-21T21:20:31.895Z"
   },
   {
    "duration": 11,
    "start_time": "2021-12-21T21:20:34.515Z"
   },
   {
    "duration": 19,
    "start_time": "2021-12-21T21:20:37.419Z"
   },
   {
    "duration": 18,
    "start_time": "2021-12-21T21:20:39.052Z"
   },
   {
    "duration": 4,
    "start_time": "2021-12-21T21:20:40.943Z"
   },
   {
    "duration": 912,
    "start_time": "2021-12-21T21:20:41.911Z"
   },
   {
    "duration": 915,
    "start_time": "2021-12-21T21:20:43.972Z"
   },
   {
    "duration": 907,
    "start_time": "2021-12-21T21:20:45.092Z"
   },
   {
    "duration": 45,
    "start_time": "2021-12-21T21:20:46.759Z"
   },
   {
    "duration": 4,
    "start_time": "2021-12-21T21:20:49.595Z"
   },
   {
    "duration": 460,
    "start_time": "2021-12-21T21:20:51.023Z"
   },
   {
    "duration": 427,
    "start_time": "2021-12-21T21:20:53.679Z"
   },
   {
    "duration": 497,
    "start_time": "2021-12-21T21:20:55.111Z"
   },
   {
    "duration": 471,
    "start_time": "2021-12-21T21:20:56.831Z"
   },
   {
    "duration": 16,
    "start_time": "2021-12-21T21:20:58.591Z"
   },
   {
    "duration": 12,
    "start_time": "2021-12-21T21:21:03.555Z"
   },
   {
    "duration": 8,
    "start_time": "2021-12-21T21:21:06.111Z"
   },
   {
    "duration": 22,
    "start_time": "2021-12-21T21:21:20.075Z"
   },
   {
    "duration": 11,
    "start_time": "2021-12-21T21:21:22.277Z"
   }
  ],
  "kernelspec": {
   "display_name": "Python 3 (ipykernel)",
   "language": "python",
   "name": "python3"
  },
  "language_info": {
   "codemirror_mode": {
    "name": "ipython",
    "version": 3
   },
   "file_extension": ".py",
   "mimetype": "text/x-python",
   "name": "python",
   "nbconvert_exporter": "python",
   "pygments_lexer": "ipython3",
   "version": "3.9.7"
  },
  "toc": {
   "base_numbering": 1,
   "nav_menu": {
    "height": "126px",
    "width": "297px"
   },
   "number_sections": true,
   "sideBar": true,
   "skip_h1_title": true,
   "title_cell": "Содержание",
   "title_sidebar": "Contents",
   "toc_cell": true,
   "toc_position": {
    "height": "calc(100% - 180px)",
    "left": "10px",
    "top": "150px",
    "width": "165px"
   },
   "toc_section_display": true,
   "toc_window_display": false
  }
 },
 "nbformat": 4,
 "nbformat_minor": 2
}
