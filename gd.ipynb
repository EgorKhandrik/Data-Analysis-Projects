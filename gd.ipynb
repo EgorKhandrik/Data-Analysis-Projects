{
 "cells": [
  {
   "cell_type": "markdown",
   "metadata": {
    "toc": true
   },
   "source": [
    "<h1>Содержание<span class=\"tocSkip\"></span></h1>\n",
    "<div class=\"toc\"><ul class=\"toc-item\"><li><span><a href=\"#Изучение-общей-информации\" data-toc-modified-id=\"Изучение-общей-информации-1\"><span class=\"toc-item-num\">1&nbsp;&nbsp;</span>Изучение общей информации</a></span><ul class=\"toc-item\"><li><span><a href=\"#Вывод\" data-toc-modified-id=\"Вывод-1.1\"><span class=\"toc-item-num\">1.1&nbsp;&nbsp;</span>Вывод</a></span></li></ul></li><li><span><a href=\"#Подготовка-данных\" data-toc-modified-id=\"Подготовка-данных-2\"><span class=\"toc-item-num\">2&nbsp;&nbsp;</span>Подготовка данных</a></span><ul class=\"toc-item\"><li><span><a href=\"#Вывод\" data-toc-modified-id=\"Вывод-2.1\"><span class=\"toc-item-num\">2.1&nbsp;&nbsp;</span>Вывод</a></span></li></ul></li><li><span><a href=\"#Исследовательский-анализ-данных\" data-toc-modified-id=\"Исследовательский-анализ-данных-3\"><span class=\"toc-item-num\">3&nbsp;&nbsp;</span>Исследовательский анализ данных</a></span><ul class=\"toc-item\"><li><span><a href=\"#Изменение-количества-выпусков-игр-по-годам\" data-toc-modified-id=\"Изменение-количества-выпусков-игр-по-годам-3.1\"><span class=\"toc-item-num\">3.1&nbsp;&nbsp;</span>Изменение количества выпусков игр по годам</a></span></li><li><span><a href=\"#Анализ-платформ\" data-toc-modified-id=\"Анализ-платформ-3.2\"><span class=\"toc-item-num\">3.2&nbsp;&nbsp;</span>Анализ платформ</a></span></li><li><span><a href=\"#Анализ-жанров\" data-toc-modified-id=\"Анализ-жанров-3.3\"><span class=\"toc-item-num\">3.3&nbsp;&nbsp;</span>Анализ жанров</a></span></li><li><span><a href=\"#Вывод\" data-toc-modified-id=\"Вывод-3.4\"><span class=\"toc-item-num\">3.4&nbsp;&nbsp;</span>Вывод</a></span></li></ul></li><li><span><a href=\"#Портрет-пользователя-в-каждом-регионе\" data-toc-modified-id=\"Портрет-пользователя-в-каждом-регионе-4\"><span class=\"toc-item-num\">4&nbsp;&nbsp;</span>Портрет пользователя в каждом регионе</a></span><ul class=\"toc-item\"><li><span><a href=\"#Вывод\" data-toc-modified-id=\"Вывод-4.1\"><span class=\"toc-item-num\">4.1&nbsp;&nbsp;</span>Вывод</a></span></li></ul></li><li><span><a href=\"#Проверка-гипотез\" data-toc-modified-id=\"Проверка-гипотез-5\"><span class=\"toc-item-num\">5&nbsp;&nbsp;</span>Проверка гипотез</a></span><ul class=\"toc-item\"><li><span><a href=\"#Проверка-гипотезы-о-равенстве-средних-пользовательских-рейтингах-на-платформах-PC-и-XOne\" data-toc-modified-id=\"Проверка-гипотезы-о-равенстве-средних-пользовательских-рейтингах-на-платформах-PC-и-XOne-5.1\"><span class=\"toc-item-num\">5.1&nbsp;&nbsp;</span>Проверка гипотезы о равенстве средних пользовательских рейтингах на платформах PC и XOne</a></span></li><li><span><a href=\"#Проверка-гипотезы-о-равенстве-средних-пользовательских-рейтингов-жанров-Action-и-Sports\" data-toc-modified-id=\"Проверка-гипотезы-о-равенстве-средних-пользовательских-рейтингов-жанров-Action-и-Sports-5.2\"><span class=\"toc-item-num\">5.2&nbsp;&nbsp;</span>Проверка гипотезы о равенстве средних пользовательских рейтингов жанров Action и Sports</a></span></li><li><span><a href=\"#Выводы\" data-toc-modified-id=\"Выводы-5.3\"><span class=\"toc-item-num\">5.3&nbsp;&nbsp;</span>Выводы</a></span></li></ul></li><li><span><a href=\"#Общий-вывод\" data-toc-modified-id=\"Общий-вывод-6\"><span class=\"toc-item-num\">6&nbsp;&nbsp;</span>Общий вывод</a></span></li></ul></div>"
   ]
  },
  {
   "cell_type": "markdown",
   "metadata": {},
   "source": [
    "# Анализ успешности компьютерных игр"
   ]
  },
  {
   "cell_type": "markdown",
   "metadata": {},
   "source": [
    "Целью проекта является изучение и описание наиболее перспективных игровых платформах и жанрах игр. Для достижения цели необходимо выполнить следующие задачи:\n",
    "* изучить общую информацию о предоставленных данных;\n",
    "* подготовить данные для анализа: выявить и устранить недостатки в данных, привести данные к нужным типам;\n",
    "* определить период данных, по которому будет осуществляться анализ;\n",
    "* проанализировать игровые платформы: какие платформы являются наиболее прибыльными в анализируемом периоде; как отличаются медианные показатели продаж по платформам; влияют ли на продажи оценки пользователей и критиков;\n",
    "* оценить жанры игр: какие жанры чаще всего выходили в анализируемом периоде; игры каких жанров продавались чаще всего, а какие жанры являются наиболее прибыльными;\n",
    "* составить портреты пользователей в Северной Америке, Европе и Японии;\n",
    "* проверить гипотезы о равенстве пользовательских оценок на платформах PC и XOne, а также о равенстве пользовательских оценок игр в жанрах экшн и спорт."
   ]
  },
  {
   "cell_type": "markdown",
   "metadata": {},
   "source": [
    "## Изучение общей информации"
   ]
  },
  {
   "cell_type": "markdown",
   "metadata": {},
   "source": [
    "Для начала ознакомимся с общей информацией о датасетах: количеством столбцов и строк, наименованием столбцов и типами данных в них, с конкретными данными датасета.   \n",
    "\n",
    "Импортируем необходимые библиоткеи и модули: "
   ]
  },
  {
   "cell_type": "code",
   "execution_count": 3,
   "metadata": {},
   "outputs": [],
   "source": [
    "import pandas as pd\n",
    "pd.set_option('display.float_format', '{:,.2f}'.format)\n",
    "import numpy as np\n",
    "import matplotlib.pyplot as plt\n",
    "import seaborn as sns\n",
    "sns.set(rc={'figure.figsize':(15, 8)})\n",
    "import warnings\n",
    "warnings.filterwarnings('ignore')\n",
    "import statistics as std\n",
    "from scipy import stats as st"
   ]
  },
  {
   "cell_type": "markdown",
   "metadata": {},
   "source": [
    "Сохраним анализируемые датафреймы в переменной *df*:"
   ]
  },
  {
   "cell_type": "code",
   "execution_count": 5,
   "metadata": {},
   "outputs": [],
   "source": [
    "try:\n",
    "    df = pd.read_csv(r'C:\\Users\\USER\\Desktop\\DA\\games.csv')\n",
    "except:\n",
    "    df = pd.read_csv('/datasets/games.csv')"
   ]
  },
  {
   "cell_type": "markdown",
   "metadata": {},
   "source": [
    "Ознакомимся с общей информацией о таблице и данными в ней с помощью метода `info()`:"
   ]
  },
  {
   "cell_type": "code",
   "execution_count": 6,
   "metadata": {},
   "outputs": [
    {
     "name": "stdout",
     "output_type": "stream",
     "text": [
      "<class 'pandas.core.frame.DataFrame'>\n",
      "RangeIndex: 16715 entries, 0 to 16714\n",
      "Data columns (total 11 columns):\n",
      " #   Column           Non-Null Count  Dtype  \n",
      "---  ------           --------------  -----  \n",
      " 0   Name             16713 non-null  object \n",
      " 1   Platform         16715 non-null  object \n",
      " 2   Year_of_Release  16446 non-null  float64\n",
      " 3   Genre            16713 non-null  object \n",
      " 4   NA_sales         16715 non-null  float64\n",
      " 5   EU_sales         16715 non-null  float64\n",
      " 6   JP_sales         16715 non-null  float64\n",
      " 7   Other_sales      16715 non-null  float64\n",
      " 8   Critic_Score     8137 non-null   float64\n",
      " 9   User_Score       10014 non-null  object \n",
      " 10  Rating           9949 non-null   object \n",
      "dtypes: float64(6), object(5)\n",
      "memory usage: 1.4+ MB\n"
     ]
    }
   ],
   "source": [
    "df.info()"
   ]
  },
  {
   "cell_type": "markdown",
   "metadata": {},
   "source": [
    "Как видим, датафрейм состоит из 16 715 строк и 11 колонок. Отметим, что в названиях колонок используются разные регистры. "
   ]
  },
  {
   "cell_type": "markdown",
   "metadata": {},
   "source": [
    "Выведем на экран 5 первых строк таблицы:"
   ]
  },
  {
   "cell_type": "code",
   "execution_count": 7,
   "metadata": {
    "scrolled": true
   },
   "outputs": [
    {
     "data": {
      "text/html": [
       "<div>\n",
       "<style scoped>\n",
       "    .dataframe tbody tr th:only-of-type {\n",
       "        vertical-align: middle;\n",
       "    }\n",
       "\n",
       "    .dataframe tbody tr th {\n",
       "        vertical-align: top;\n",
       "    }\n",
       "\n",
       "    .dataframe thead th {\n",
       "        text-align: right;\n",
       "    }\n",
       "</style>\n",
       "<table border=\"1\" class=\"dataframe\">\n",
       "  <thead>\n",
       "    <tr style=\"text-align: right;\">\n",
       "      <th></th>\n",
       "      <th>Name</th>\n",
       "      <th>Platform</th>\n",
       "      <th>Year_of_Release</th>\n",
       "      <th>Genre</th>\n",
       "      <th>NA_sales</th>\n",
       "      <th>EU_sales</th>\n",
       "      <th>JP_sales</th>\n",
       "      <th>Other_sales</th>\n",
       "      <th>Critic_Score</th>\n",
       "      <th>User_Score</th>\n",
       "      <th>Rating</th>\n",
       "    </tr>\n",
       "  </thead>\n",
       "  <tbody>\n",
       "    <tr>\n",
       "      <th>0</th>\n",
       "      <td>Wii Sports</td>\n",
       "      <td>Wii</td>\n",
       "      <td>2,006.00</td>\n",
       "      <td>Sports</td>\n",
       "      <td>41.36</td>\n",
       "      <td>28.96</td>\n",
       "      <td>3.77</td>\n",
       "      <td>8.45</td>\n",
       "      <td>76.00</td>\n",
       "      <td>8</td>\n",
       "      <td>E</td>\n",
       "    </tr>\n",
       "    <tr>\n",
       "      <th>1</th>\n",
       "      <td>Super Mario Bros.</td>\n",
       "      <td>NES</td>\n",
       "      <td>1,985.00</td>\n",
       "      <td>Platform</td>\n",
       "      <td>29.08</td>\n",
       "      <td>3.58</td>\n",
       "      <td>6.81</td>\n",
       "      <td>0.77</td>\n",
       "      <td>NaN</td>\n",
       "      <td>NaN</td>\n",
       "      <td>NaN</td>\n",
       "    </tr>\n",
       "    <tr>\n",
       "      <th>2</th>\n",
       "      <td>Mario Kart Wii</td>\n",
       "      <td>Wii</td>\n",
       "      <td>2,008.00</td>\n",
       "      <td>Racing</td>\n",
       "      <td>15.68</td>\n",
       "      <td>12.76</td>\n",
       "      <td>3.79</td>\n",
       "      <td>3.29</td>\n",
       "      <td>82.00</td>\n",
       "      <td>8.3</td>\n",
       "      <td>E</td>\n",
       "    </tr>\n",
       "    <tr>\n",
       "      <th>3</th>\n",
       "      <td>Wii Sports Resort</td>\n",
       "      <td>Wii</td>\n",
       "      <td>2,009.00</td>\n",
       "      <td>Sports</td>\n",
       "      <td>15.61</td>\n",
       "      <td>10.93</td>\n",
       "      <td>3.28</td>\n",
       "      <td>2.95</td>\n",
       "      <td>80.00</td>\n",
       "      <td>8</td>\n",
       "      <td>E</td>\n",
       "    </tr>\n",
       "    <tr>\n",
       "      <th>4</th>\n",
       "      <td>Pokemon Red/Pokemon Blue</td>\n",
       "      <td>GB</td>\n",
       "      <td>1,996.00</td>\n",
       "      <td>Role-Playing</td>\n",
       "      <td>11.27</td>\n",
       "      <td>8.89</td>\n",
       "      <td>10.22</td>\n",
       "      <td>1.00</td>\n",
       "      <td>NaN</td>\n",
       "      <td>NaN</td>\n",
       "      <td>NaN</td>\n",
       "    </tr>\n",
       "  </tbody>\n",
       "</table>\n",
       "</div>"
      ],
      "text/plain": [
       "                       Name Platform  Year_of_Release         Genre  NA_sales  \\\n",
       "0                Wii Sports      Wii         2,006.00        Sports     41.36   \n",
       "1         Super Mario Bros.      NES         1,985.00      Platform     29.08   \n",
       "2            Mario Kart Wii      Wii         2,008.00        Racing     15.68   \n",
       "3         Wii Sports Resort      Wii         2,009.00        Sports     15.61   \n",
       "4  Pokemon Red/Pokemon Blue       GB         1,996.00  Role-Playing     11.27   \n",
       "\n",
       "   EU_sales  JP_sales  Other_sales  Critic_Score User_Score Rating  \n",
       "0     28.96      3.77         8.45         76.00          8      E  \n",
       "1      3.58      6.81         0.77           NaN        NaN    NaN  \n",
       "2     12.76      3.79         3.29         82.00        8.3      E  \n",
       "3     10.93      3.28         2.95         80.00          8      E  \n",
       "4      8.89     10.22         1.00           NaN        NaN    NaN  "
      ]
     },
     "execution_count": 7,
     "metadata": {},
     "output_type": "execute_result"
    }
   ],
   "source": [
    "df.head()"
   ]
  },
  {
   "cell_type": "markdown",
   "metadata": {},
   "source": [
    "При ознакомлении с данными стоит заметить, что в датафреёме имеются пропуски, данные в формате *object* внесены не в одном регистре, сведения о годе релиза игры приведены в формате *float*."
   ]
  },
  {
   "cell_type": "markdown",
   "metadata": {},
   "source": [
    "### Вывод"
   ]
  },
  {
   "cell_type": "markdown",
   "metadata": {},
   "source": [
    "Данные, содержащиеся в датафрейме, являются достаточными для проведения исследования. Однако ознакомление с конкретными данными позволило выявить недостатки в данных, устранение которых будет проведено на этапе предобработки данных."
   ]
  },
  {
   "cell_type": "markdown",
   "metadata": {},
   "source": [
    "## Подготовка данных"
   ]
  },
  {
   "cell_type": "markdown",
   "metadata": {},
   "source": [
    "Для удобства дальнейшей предобработки данных начнём с приведения наименования колонок к строчному регистру с помощью метода `rename()`:"
   ]
  },
  {
   "cell_type": "code",
   "execution_count": 9,
   "metadata": {},
   "outputs": [
    {
     "data": {
      "text/plain": [
       "Index(['name', 'platform', 'year_of_release', 'genre', 'na_sales', 'eu_sales',\n",
       "       'jp_sales', 'other_sales', 'critic_score', 'user_score', 'rating'],\n",
       "      dtype='object')"
      ]
     },
     "execution_count": 9,
     "metadata": {},
     "output_type": "execute_result"
    }
   ],
   "source": [
    "df.columns = df.columns.str.lower()\n",
    "df.columns"
   ]
  },
  {
   "cell_type": "markdown",
   "metadata": {},
   "source": [
    "Наименования всех строк были приведены к нижнему регстру."
   ]
  },
  {
   "cell_type": "markdown",
   "metadata": {},
   "source": [
    "Посчитаем количество пропусков в датасете:"
   ]
  },
  {
   "cell_type": "code",
   "execution_count": 10,
   "metadata": {},
   "outputs": [
    {
     "data": {
      "text/plain": [
       "name                  2\n",
       "platform              0\n",
       "year_of_release     269\n",
       "genre                 2\n",
       "na_sales              0\n",
       "eu_sales              0\n",
       "jp_sales              0\n",
       "other_sales           0\n",
       "critic_score       8578\n",
       "user_score         6701\n",
       "rating             6766\n",
       "dtype: int64"
      ]
     },
     "execution_count": 10,
     "metadata": {},
     "output_type": "execute_result"
    }
   ],
   "source": [
    "df.isna().sum()"
   ]
  },
  {
   "cell_type": "markdown",
   "metadata": {},
   "source": [
    "Пропуски имеются в столбцах *year_of_release*, *genre*, *critic_score*, *user_score*, *rating*. Но если в столбцах *year_of_release* и *genre* пропусков немного и мы можем их удалить, то в столбцах *critic_score*, *user_score* и *rating* пропусков очень много, удаление или заполнение этих пропусков может привести к искажению результатов исследования."
   ]
  },
  {
   "cell_type": "markdown",
   "metadata": {},
   "source": [
    "Заменим тип данных в столбце year_of_release в формат `int`, но перед этим удалим пропуски в этом столбце:"
   ]
  },
  {
   "cell_type": "code",
   "execution_count": 11,
   "metadata": {},
   "outputs": [
    {
     "data": {
      "text/plain": [
       "0    2006\n",
       "1    1985\n",
       "2    2008\n",
       "3    2009\n",
       "4    1996\n",
       "Name: year_of_release, dtype: int32"
      ]
     },
     "execution_count": 11,
     "metadata": {},
     "output_type": "execute_result"
    }
   ],
   "source": [
    "#  Поскольку пропусков в столбце немного, удалим строки с пропусками в столбце year_of_release:\n",
    "df = df.dropna(subset=['year_of_release'])\n",
    "\n",
    "# Приведём данные по рассматриваемому столбцу к формату int\n",
    "df['year_of_release'] = df['year_of_release'].astype(int)\n",
    "df['year_of_release'].head()"
   ]
  },
  {
   "cell_type": "markdown",
   "metadata": {},
   "source": [
    "Посмотрим какие значения встречаются в столбце *user_score*:"
   ]
  },
  {
   "cell_type": "code",
   "execution_count": 12,
   "metadata": {},
   "outputs": [
    {
     "data": {
      "text/plain": [
       "array(['8', nan, '8.3', '8.5', '6.6', '8.4', '8.6', '7.7', '6.3', '7.4',\n",
       "       '8.2', '9', '7.9', '8.1', '8.7', '7.1', '3.4', '5.3', '4.8', '3.2',\n",
       "       '8.9', '6.4', '7.8', '7.5', '2.6', '7.2', '9.2', '7', '7.3', '4.3',\n",
       "       '7.6', '5.7', '5', '9.1', '6.5', 'tbd', '8.8', '6.9', '9.4', '6.8',\n",
       "       '6.1', '6.7', '5.4', '4', '4.9', '4.5', '9.3', '6.2', '4.2', '6',\n",
       "       '3.7', '4.1', '5.8', '5.6', '5.5', '4.4', '4.6', '5.9', '3.9',\n",
       "       '3.1', '2.9', '5.2', '3.3', '4.7', '5.1', '3.5', '2.5', '1.9', '3',\n",
       "       '2.7', '2.2', '2', '9.5', '2.1', '3.6', '2.8', '1.8', '3.8', '0',\n",
       "       '1.6', '9.6', '2.4', '1.7', '1.1', '0.3', '1.5', '0.7', '1.2',\n",
       "       '2.3', '0.5', '1.3', '0.2', '0.6', '1.4', '0.9', '1', '9.7'],\n",
       "      dtype=object)"
      ]
     },
     "execution_count": 12,
     "metadata": {},
     "output_type": "execute_result"
    }
   ],
   "source": [
    "df['user_score'].unique()"
   ]
  },
  {
   "cell_type": "markdown",
   "metadata": {},
   "source": [
    "В столбце *user_score* встречаются значения *tbd* - to be determined, т.е. оценки которые подлежат уточнению. По сути это пропуски в данных об оценках. Посчитаем количество таких значений в датафрейме:"
   ]
  },
  {
   "cell_type": "code",
   "execution_count": 13,
   "metadata": {},
   "outputs": [
    {
     "data": {
      "text/plain": [
       "tbd    2376\n",
       "Name: user_score, dtype: int64"
      ]
     },
     "execution_count": 13,
     "metadata": {},
     "output_type": "execute_result"
    }
   ],
   "source": [
    "df.loc[df['user_score'] == 'tbd', 'user_score'].value_counts()"
   ]
  },
  {
   "cell_type": "markdown",
   "metadata": {},
   "source": [
    "Заменим значения tbd на nan:"
   ]
  },
  {
   "cell_type": "code",
   "execution_count": 14,
   "metadata": {},
   "outputs": [
    {
     "data": {
      "text/plain": [
       "array([8. , nan, 8.3, 8.5, 6.6, 8.4, 8.6, 7.7, 6.3, 7.4, 8.2, 9. , 7.9,\n",
       "       8.1, 8.7, 7.1, 3.4, 5.3, 4.8, 3.2, 8.9, 6.4, 7.8, 7.5, 2.6, 7.2,\n",
       "       9.2, 7. , 7.3, 4.3, 7.6, 5.7, 5. , 9.1, 6.5, 8.8, 6.9, 9.4, 6.8,\n",
       "       6.1, 6.7, 5.4, 4. , 4.9, 4.5, 9.3, 6.2, 4.2, 6. , 3.7, 4.1, 5.8,\n",
       "       5.6, 5.5, 4.4, 4.6, 5.9, 3.9, 3.1, 2.9, 5.2, 3.3, 4.7, 5.1, 3.5,\n",
       "       2.5, 1.9, 3. , 2.7, 2.2, 2. , 9.5, 2.1, 3.6, 2.8, 1.8, 3.8, 0. ,\n",
       "       1.6, 9.6, 2.4, 1.7, 1.1, 0.3, 1.5, 0.7, 1.2, 2.3, 0.5, 1.3, 0.2,\n",
       "       0.6, 1.4, 0.9, 1. , 9.7])"
      ]
     },
     "execution_count": 14,
     "metadata": {},
     "output_type": "execute_result"
    }
   ],
   "source": [
    "df.loc[df['user_score'] == 'tbd', 'user_score'] = float('nan')\n",
    "df['user_score'] = df['user_score'].astype(float)\n",
    "df['user_score'].unique()"
   ]
  },
  {
   "cell_type": "markdown",
   "metadata": {},
   "source": [
    "Как видим, значения tbd были успешно заменены на nan."
   ]
  },
  {
   "cell_type": "markdown",
   "metadata": {},
   "source": [
    "Поскольку в столбцах *year_of_release* и *genre* немного пропусков, то удалим их c помощью метода `dropna`:"
   ]
  },
  {
   "cell_type": "code",
   "execution_count": 15,
   "metadata": {},
   "outputs": [],
   "source": [
    "df = df.dropna(subset=['year_of_release', 'genre'])"
   ]
  },
  {
   "cell_type": "markdown",
   "metadata": {},
   "source": [
    "Добавим в датафрейм столбец *total_sales*, в котором сохраним суммарные данные о продажах игр, т.е. сложим имеющиеся данные о продажах игр в Северной Америке, Японии, Европе и других регионах:"
   ]
  },
  {
   "cell_type": "code",
   "execution_count": 16,
   "metadata": {
    "scrolled": true
   },
   "outputs": [
    {
     "data": {
      "text/html": [
       "<div>\n",
       "<style scoped>\n",
       "    .dataframe tbody tr th:only-of-type {\n",
       "        vertical-align: middle;\n",
       "    }\n",
       "\n",
       "    .dataframe tbody tr th {\n",
       "        vertical-align: top;\n",
       "    }\n",
       "\n",
       "    .dataframe thead th {\n",
       "        text-align: right;\n",
       "    }\n",
       "</style>\n",
       "<table border=\"1\" class=\"dataframe\">\n",
       "  <thead>\n",
       "    <tr style=\"text-align: right;\">\n",
       "      <th></th>\n",
       "      <th>name</th>\n",
       "      <th>platform</th>\n",
       "      <th>year_of_release</th>\n",
       "      <th>genre</th>\n",
       "      <th>na_sales</th>\n",
       "      <th>eu_sales</th>\n",
       "      <th>jp_sales</th>\n",
       "      <th>other_sales</th>\n",
       "      <th>critic_score</th>\n",
       "      <th>user_score</th>\n",
       "      <th>rating</th>\n",
       "      <th>total_sales</th>\n",
       "    </tr>\n",
       "  </thead>\n",
       "  <tbody>\n",
       "    <tr>\n",
       "      <th>0</th>\n",
       "      <td>Wii Sports</td>\n",
       "      <td>Wii</td>\n",
       "      <td>2006</td>\n",
       "      <td>Sports</td>\n",
       "      <td>41.36</td>\n",
       "      <td>28.96</td>\n",
       "      <td>3.77</td>\n",
       "      <td>8.45</td>\n",
       "      <td>76.00</td>\n",
       "      <td>8.00</td>\n",
       "      <td>E</td>\n",
       "      <td>82.54</td>\n",
       "    </tr>\n",
       "    <tr>\n",
       "      <th>1</th>\n",
       "      <td>Super Mario Bros.</td>\n",
       "      <td>NES</td>\n",
       "      <td>1985</td>\n",
       "      <td>Platform</td>\n",
       "      <td>29.08</td>\n",
       "      <td>3.58</td>\n",
       "      <td>6.81</td>\n",
       "      <td>0.77</td>\n",
       "      <td>NaN</td>\n",
       "      <td>NaN</td>\n",
       "      <td>NaN</td>\n",
       "      <td>40.24</td>\n",
       "    </tr>\n",
       "    <tr>\n",
       "      <th>2</th>\n",
       "      <td>Mario Kart Wii</td>\n",
       "      <td>Wii</td>\n",
       "      <td>2008</td>\n",
       "      <td>Racing</td>\n",
       "      <td>15.68</td>\n",
       "      <td>12.76</td>\n",
       "      <td>3.79</td>\n",
       "      <td>3.29</td>\n",
       "      <td>82.00</td>\n",
       "      <td>8.30</td>\n",
       "      <td>E</td>\n",
       "      <td>35.52</td>\n",
       "    </tr>\n",
       "    <tr>\n",
       "      <th>3</th>\n",
       "      <td>Wii Sports Resort</td>\n",
       "      <td>Wii</td>\n",
       "      <td>2009</td>\n",
       "      <td>Sports</td>\n",
       "      <td>15.61</td>\n",
       "      <td>10.93</td>\n",
       "      <td>3.28</td>\n",
       "      <td>2.95</td>\n",
       "      <td>80.00</td>\n",
       "      <td>8.00</td>\n",
       "      <td>E</td>\n",
       "      <td>32.77</td>\n",
       "    </tr>\n",
       "    <tr>\n",
       "      <th>4</th>\n",
       "      <td>Pokemon Red/Pokemon Blue</td>\n",
       "      <td>GB</td>\n",
       "      <td>1996</td>\n",
       "      <td>Role-Playing</td>\n",
       "      <td>11.27</td>\n",
       "      <td>8.89</td>\n",
       "      <td>10.22</td>\n",
       "      <td>1.00</td>\n",
       "      <td>NaN</td>\n",
       "      <td>NaN</td>\n",
       "      <td>NaN</td>\n",
       "      <td>31.38</td>\n",
       "    </tr>\n",
       "  </tbody>\n",
       "</table>\n",
       "</div>"
      ],
      "text/plain": [
       "                       name platform  year_of_release         genre  na_sales  \\\n",
       "0                Wii Sports      Wii             2006        Sports     41.36   \n",
       "1         Super Mario Bros.      NES             1985      Platform     29.08   \n",
       "2            Mario Kart Wii      Wii             2008        Racing     15.68   \n",
       "3         Wii Sports Resort      Wii             2009        Sports     15.61   \n",
       "4  Pokemon Red/Pokemon Blue       GB             1996  Role-Playing     11.27   \n",
       "\n",
       "   eu_sales  jp_sales  other_sales  critic_score  user_score rating  \\\n",
       "0     28.96      3.77         8.45         76.00        8.00      E   \n",
       "1      3.58      6.81         0.77           NaN         NaN    NaN   \n",
       "2     12.76      3.79         3.29         82.00        8.30      E   \n",
       "3     10.93      3.28         2.95         80.00        8.00      E   \n",
       "4      8.89     10.22         1.00           NaN         NaN    NaN   \n",
       "\n",
       "   total_sales  \n",
       "0        82.54  \n",
       "1        40.24  \n",
       "2        35.52  \n",
       "3        32.77  \n",
       "4        31.38  "
      ]
     },
     "execution_count": 16,
     "metadata": {},
     "output_type": "execute_result"
    }
   ],
   "source": [
    "df = df.assign(\n",
    "    total_sales = df['na_sales'] + df['eu_sales'] + df['jp_sales'] + df['other_sales'])\n",
    "df.head()"
   ]
  },
  {
   "cell_type": "markdown",
   "metadata": {},
   "source": [
    "На конечном этапе подготовки данных посчитаем количество дубликатов, т.е. полностью одинаковых строк, с помощью методов duplicated() и sum():"
   ]
  },
  {
   "cell_type": "code",
   "execution_count": 17,
   "metadata": {},
   "outputs": [
    {
     "name": "stdout",
     "output_type": "stream",
     "text": [
      "Количество дубликатов в датасете: 0\n"
     ]
    }
   ],
   "source": [
    "print(f'Количество дубликатов в датасете: {df.duplicated().sum()}')"
   ]
  },
  {
   "cell_type": "markdown",
   "metadata": {},
   "source": [
    "### Вывод"
   ]
  },
  {
   "cell_type": "markdown",
   "metadata": {},
   "source": [
    "Пропущенные значения в исходном датасете были обнаружены во многих столбцах в большом количестве. Заполнение пропуенных данных в этом случае может повлиять на результат исследования.  \n",
    "Была проведена необходимая замена типов данных. \n",
    "Кроме того, был добавлен столбец *total_sales* с суммарным показателем продаж по каждой игре."
   ]
  },
  {
   "cell_type": "markdown",
   "metadata": {},
   "source": [
    "## Исследовательский анализ данных"
   ]
  },
  {
   "cell_type": "markdown",
   "metadata": {},
   "source": [
    "### Изменение количества выпусков игр по годам"
   ]
  },
  {
   "cell_type": "markdown",
   "metadata": {},
   "source": [
    "Посмотрим как менялось количество выпускаемых игр из года в год по данным в анализируемом датафрейме. Построим график `countplot`, который по оси *x* будет отображать соответствующий год, а по оси *y* - количество игр, которое было выпущено в каждый год."
   ]
  },
  {
   "cell_type": "code",
   "execution_count": 18,
   "metadata": {
    "scrolled": false
   },
   "outputs": [
    {
     "data": {
      "image/png": "[encoded data removed]",
      "text/plain": [
       "<Figure size 1440x576 with 1 Axes>"
      ]
     },
     "metadata": {},
     "output_type": "display_data"
    }
   ],
   "source": [
    "plt.figure(figsize=(20, 8))\n",
    "sns.countplot(x='year_of_release', data=df);"
   ]
  },
  {
   "cell_type": "markdown",
   "metadata": {},
   "source": [
    "Следовательно, пик выпуска игр пришёлся на период с 2005 г. до 2011 г. При этом до 2009 г. (включтельно) наблюдался рост количества выпускаемых игр от года к году.   \n",
    "\n",
    "Как видим, сильное падение количества выпускаемых игр произошло в 2012 г.: так, еще в 2011 г. было выпущено порядка 1 100 игра, а уже в 2012 г. - всего чуть более 600. При этом во все последующие после 2012 г. количство выпускаемых игр в год примерно одинаковое.    \n",
    "\n",
    "Учитывая это, для дальнейшего анализа данные за все период не важны. В дальнейшей работе будем использовать данные с 2012 г. по 2016 г. Но перед этим также посмотрим как менялись данные о продажах по платформам:    "
   ]
  },
  {
   "cell_type": "code",
   "execution_count": 19,
   "metadata": {},
   "outputs": [
    {
     "data": {
      "image/png": "[encoded data removed]",
      "text/plain": [
       "<Figure size 1080x576 with 1 Axes>"
      ]
     },
     "metadata": {},
     "output_type": "display_data"
    }
   ],
   "source": [
    "# Сохраним в переменной top-10 платформы с максимальными продажами за все время:\n",
    "top_10 = df.groupby('platform').agg({'total_sales':'sum'}).sort_values(by='total_sales', ascending=False).head(10).index\n",
    "\n",
    "# Построим график, который будет отображать суммарное количество продаж по платформам за анализируемые годы\n",
    "df.query('platform in @top_10').pivot_table(index='year_of_release', columns='platform', \n",
    "                                            values='total_sales', aggfunc='sum').plot()\n",
    "plt.title('Объёмы продаж в разрезе платформ за все время')\n",
    "plt.xlabel('Год выпуска игр')\n",
    "plt.ylabel('Количество продаж игр');"
   ]
  },
  {
   "cell_type": "markdown",
   "metadata": {},
   "source": [
    "Из графика можно сделать вывод, что платформы редко существовали более 10 лет. Так, от момента старта до закрытия платформ GBA, DS прошло менее 10 лет. Основой пик на выход новых платформ пришелся на период с 2005 по 2010 гг."
   ]
  },
  {
   "cell_type": "markdown",
   "metadata": {},
   "source": [
    "Пересохраним в переменной *df* только те данные, которые относятся к играм, выпущенным не ранее 2012 г., на что указывали ранее:"
   ]
  },
  {
   "cell_type": "code",
   "execution_count": 20,
   "metadata": {},
   "outputs": [
    {
     "name": "stdout",
     "output_type": "stream",
     "text": [
      "<class 'pandas.core.frame.DataFrame'>\n",
      "Int64Index: 2886 entries, 16 to 16714\n",
      "Data columns (total 12 columns):\n",
      " #   Column           Non-Null Count  Dtype  \n",
      "---  ------           --------------  -----  \n",
      " 0   name             2886 non-null   object \n",
      " 1   platform         2886 non-null   object \n",
      " 2   year_of_release  2886 non-null   int32  \n",
      " 3   genre            2886 non-null   object \n",
      " 4   na_sales         2886 non-null   float64\n",
      " 5   eu_sales         2886 non-null   float64\n",
      " 6   jp_sales         2886 non-null   float64\n",
      " 7   other_sales      2886 non-null   float64\n",
      " 8   critic_score     1312 non-null   float64\n",
      " 9   user_score       1531 non-null   float64\n",
      " 10  rating           1611 non-null   object \n",
      " 11  total_sales      2886 non-null   float64\n",
      "dtypes: float64(7), int32(1), object(4)\n",
      "memory usage: 281.8+ KB\n"
     ]
    }
   ],
   "source": [
    "df = df.query('year_of_release >= 2012')\n",
    "df.info()"
   ]
  },
  {
   "cell_type": "markdown",
   "metadata": {},
   "source": [
    "Обновлённый датафрейм имеет 2 886 столбцов, т.е. в исходных данных более 14 000 строк относилось к играм, выпущенным до 2012 г."
   ]
  },
  {
   "cell_type": "markdown",
   "metadata": {},
   "source": [
    "### Анализ платформ"
   ]
  },
  {
   "cell_type": "markdown",
   "metadata": {},
   "source": [
    "Посмотрим как изменялся показатель общих продаж по платформам в периоде с 2012 г. по 2016 г."
   ]
  },
  {
   "cell_type": "code",
   "execution_count": 21,
   "metadata": {},
   "outputs": [
    {
     "data": {
      "text/html": [
       "<div>\n",
       "<style scoped>\n",
       "    .dataframe tbody tr th:only-of-type {\n",
       "        vertical-align: middle;\n",
       "    }\n",
       "\n",
       "    .dataframe tbody tr th {\n",
       "        vertical-align: top;\n",
       "    }\n",
       "\n",
       "    .dataframe thead th {\n",
       "        text-align: right;\n",
       "    }\n",
       "</style>\n",
       "<table border=\"1\" class=\"dataframe\">\n",
       "  <thead>\n",
       "    <tr style=\"text-align: right;\">\n",
       "      <th>platform</th>\n",
       "      <th>3DS</th>\n",
       "      <th>DS</th>\n",
       "      <th>PC</th>\n",
       "      <th>PS3</th>\n",
       "      <th>PS4</th>\n",
       "      <th>PSP</th>\n",
       "      <th>PSV</th>\n",
       "      <th>Wii</th>\n",
       "      <th>WiiU</th>\n",
       "      <th>X360</th>\n",
       "      <th>XOne</th>\n",
       "    </tr>\n",
       "    <tr>\n",
       "      <th>year_of_release</th>\n",
       "      <th></th>\n",
       "      <th></th>\n",
       "      <th></th>\n",
       "      <th></th>\n",
       "      <th></th>\n",
       "      <th></th>\n",
       "      <th></th>\n",
       "      <th></th>\n",
       "      <th></th>\n",
       "      <th></th>\n",
       "      <th></th>\n",
       "    </tr>\n",
       "  </thead>\n",
       "  <tbody>\n",
       "    <tr>\n",
       "      <th>2012</th>\n",
       "      <td>51.36</td>\n",
       "      <td>11.01</td>\n",
       "      <td>23.22</td>\n",
       "      <td>107.36</td>\n",
       "      <td>NaN</td>\n",
       "      <td>7.69</td>\n",
       "      <td>16.19</td>\n",
       "      <td>21.71</td>\n",
       "      <td>17.56</td>\n",
       "      <td>99.74</td>\n",
       "      <td>NaN</td>\n",
       "    </tr>\n",
       "    <tr>\n",
       "      <th>2013</th>\n",
       "      <td>56.57</td>\n",
       "      <td>1.54</td>\n",
       "      <td>12.38</td>\n",
       "      <td>113.25</td>\n",
       "      <td>25.99</td>\n",
       "      <td>3.14</td>\n",
       "      <td>10.59</td>\n",
       "      <td>8.59</td>\n",
       "      <td>21.65</td>\n",
       "      <td>88.58</td>\n",
       "      <td>18.96</td>\n",
       "    </tr>\n",
       "    <tr>\n",
       "      <th>2014</th>\n",
       "      <td>43.76</td>\n",
       "      <td>NaN</td>\n",
       "      <td>13.28</td>\n",
       "      <td>47.76</td>\n",
       "      <td>100.00</td>\n",
       "      <td>0.24</td>\n",
       "      <td>11.90</td>\n",
       "      <td>3.75</td>\n",
       "      <td>22.03</td>\n",
       "      <td>34.74</td>\n",
       "      <td>54.07</td>\n",
       "    </tr>\n",
       "    <tr>\n",
       "      <th>2015</th>\n",
       "      <td>27.78</td>\n",
       "      <td>NaN</td>\n",
       "      <td>8.52</td>\n",
       "      <td>16.82</td>\n",
       "      <td>118.90</td>\n",
       "      <td>0.12</td>\n",
       "      <td>6.25</td>\n",
       "      <td>1.14</td>\n",
       "      <td>16.35</td>\n",
       "      <td>11.96</td>\n",
       "      <td>60.14</td>\n",
       "    </tr>\n",
       "    <tr>\n",
       "      <th>2016</th>\n",
       "      <td>15.14</td>\n",
       "      <td>NaN</td>\n",
       "      <td>5.25</td>\n",
       "      <td>3.60</td>\n",
       "      <td>69.25</td>\n",
       "      <td>NaN</td>\n",
       "      <td>4.25</td>\n",
       "      <td>0.18</td>\n",
       "      <td>4.60</td>\n",
       "      <td>1.52</td>\n",
       "      <td>26.15</td>\n",
       "    </tr>\n",
       "  </tbody>\n",
       "</table>\n",
       "</div>"
      ],
      "text/plain": [
       "platform          3DS    DS    PC    PS3    PS4  PSP   PSV   Wii  WiiU  X360  \\\n",
       "year_of_release                                                                \n",
       "2012            51.36 11.01 23.22 107.36    NaN 7.69 16.19 21.71 17.56 99.74   \n",
       "2013            56.57  1.54 12.38 113.25  25.99 3.14 10.59  8.59 21.65 88.58   \n",
       "2014            43.76   NaN 13.28  47.76 100.00 0.24 11.90  3.75 22.03 34.74   \n",
       "2015            27.78   NaN  8.52  16.82 118.90 0.12  6.25  1.14 16.35 11.96   \n",
       "2016            15.14   NaN  5.25   3.60  69.25  NaN  4.25  0.18  4.60  1.52   \n",
       "\n",
       "platform         XOne  \n",
       "year_of_release        \n",
       "2012              NaN  \n",
       "2013            18.96  \n",
       "2014            54.07  \n",
       "2015            60.14  \n",
       "2016            26.15  "
      ]
     },
     "metadata": {},
     "output_type": "display_data"
    },
    {
     "data": {
      "image/png": "[encoded data removed]",
      "text/plain": [
       "<Figure size 1080x576 with 1 Axes>"
      ]
     },
     "metadata": {},
     "output_type": "display_data"
    }
   ],
   "source": [
    "# Создадим сводную таблицу, сохраним ее в переменной platform_df. Колонками сводной таблицы будут платформы, индексами - годы\n",
    "# выпуска игр, а значениями - совокупная сумма продаж пл платформе в год.\n",
    "platform_df = df.pivot_table(columns='platform', index='year_of_release', values='total_sales', aggfunc='sum')\n",
    "display(platform_df)\n",
    "\n",
    "# Построим график изменения совокупного размера продаж по платформам:\n",
    "platform_df.plot()\n",
    "plt.title('Объёмы продаж в разрезе платформ за 2012-2016 гг.')\n",
    "plt.xlabel('Год выпуска игр')\n",
    "plt.ylabel('Количество продаж игр');"
   ]
  },
  {
   "cell_type": "markdown",
   "metadata": {},
   "source": [
    "Видим, что с 2015 г. наблюдается падение общей суммы продаж игр по всем платформам. При этом с 2013 г. предыдущие платформы лидеры по размеру продаж - PS3, X360, 3DS - продолжают терять в продажах, в то время как новые платформы PS4 и XOne, вышедшие в 2013 г., к 2016 г. стали платформами с самым большим показателем продаж.    \n",
    "\n",
    "Также платформы DS и PSP на настоящий момент прекратили своё существование, поэтому далее исключим данные по ним из датафрейма.    \n",
    "\n",
    "Проанализируем какие платформы являются лидарами продаж за весь анализируемый период (2012 г. - 2016 г.), а какие - лидеры по продажам в последние 2 анализируемых года."
   ]
  },
  {
   "cell_type": "code",
   "execution_count": 22,
   "metadata": {},
   "outputs": [
    {
     "data": {
      "text/plain": [
       "'Топ-5 платформ по размеру продаж в 2012 - 2016 гг.'"
      ]
     },
     "metadata": {},
     "output_type": "display_data"
    },
    {
     "data": {
      "text/html": [
       "<div>\n",
       "<style scoped>\n",
       "    .dataframe tbody tr th:only-of-type {\n",
       "        vertical-align: middle;\n",
       "    }\n",
       "\n",
       "    .dataframe tbody tr th {\n",
       "        vertical-align: top;\n",
       "    }\n",
       "\n",
       "    .dataframe thead th {\n",
       "        text-align: right;\n",
       "    }\n",
       "</style>\n",
       "<table border=\"1\" class=\"dataframe\">\n",
       "  <thead>\n",
       "    <tr style=\"text-align: right;\">\n",
       "      <th></th>\n",
       "      <th>total_sales</th>\n",
       "    </tr>\n",
       "    <tr>\n",
       "      <th>platform</th>\n",
       "      <th></th>\n",
       "    </tr>\n",
       "  </thead>\n",
       "  <tbody>\n",
       "    <tr>\n",
       "      <th>PS4</th>\n",
       "      <td>314.14</td>\n",
       "    </tr>\n",
       "    <tr>\n",
       "      <th>PS3</th>\n",
       "      <td>288.79</td>\n",
       "    </tr>\n",
       "    <tr>\n",
       "      <th>X360</th>\n",
       "      <td>236.54</td>\n",
       "    </tr>\n",
       "    <tr>\n",
       "      <th>3DS</th>\n",
       "      <td>194.61</td>\n",
       "    </tr>\n",
       "    <tr>\n",
       "      <th>XOne</th>\n",
       "      <td>159.32</td>\n",
       "    </tr>\n",
       "  </tbody>\n",
       "</table>\n",
       "</div>"
      ],
      "text/plain": [
       "          total_sales\n",
       "platform             \n",
       "PS4            314.14\n",
       "PS3            288.79\n",
       "X360           236.54\n",
       "3DS            194.61\n",
       "XOne           159.32"
      ]
     },
     "metadata": {},
     "output_type": "display_data"
    },
    {
     "data": {
      "text/plain": [
       "'Топ-5 платформ по размеру продаж в 2015 - 2016 гг.'"
      ]
     },
     "metadata": {},
     "output_type": "display_data"
    },
    {
     "data": {
      "text/html": [
       "<div>\n",
       "<style scoped>\n",
       "    .dataframe tbody tr th:only-of-type {\n",
       "        vertical-align: middle;\n",
       "    }\n",
       "\n",
       "    .dataframe tbody tr th {\n",
       "        vertical-align: top;\n",
       "    }\n",
       "\n",
       "    .dataframe thead th {\n",
       "        text-align: right;\n",
       "    }\n",
       "</style>\n",
       "<table border=\"1\" class=\"dataframe\">\n",
       "  <thead>\n",
       "    <tr style=\"text-align: right;\">\n",
       "      <th></th>\n",
       "      <th>total_sales</th>\n",
       "    </tr>\n",
       "    <tr>\n",
       "      <th>platform</th>\n",
       "      <th></th>\n",
       "    </tr>\n",
       "  </thead>\n",
       "  <tbody>\n",
       "    <tr>\n",
       "      <th>PS4</th>\n",
       "      <td>288.15</td>\n",
       "    </tr>\n",
       "    <tr>\n",
       "      <th>XOne</th>\n",
       "      <td>140.36</td>\n",
       "    </tr>\n",
       "    <tr>\n",
       "      <th>3DS</th>\n",
       "      <td>86.68</td>\n",
       "    </tr>\n",
       "    <tr>\n",
       "      <th>PS3</th>\n",
       "      <td>68.18</td>\n",
       "    </tr>\n",
       "    <tr>\n",
       "      <th>X360</th>\n",
       "      <td>48.22</td>\n",
       "    </tr>\n",
       "  </tbody>\n",
       "</table>\n",
       "</div>"
      ],
      "text/plain": [
       "          total_sales\n",
       "platform             \n",
       "PS4            288.15\n",
       "XOne           140.36\n",
       "3DS             86.68\n",
       "PS3             68.18\n",
       "X360            48.22"
      ]
     },
     "metadata": {},
     "output_type": "display_data"
    }
   ],
   "source": [
    "# Выведем на эксран топ-5 платформ по размеру продаж в периоде 2012 - 2016 г.\n",
    "display('Топ-5 платформ по размеру продаж в 2012 - 2016 гг.')\n",
    "display((df.groupby('platform')\n",
    " .agg({'total_sales':'sum'})\n",
    " .sort_values(by='total_sales', ascending=False)\n",
    " .head(5)))\n",
    "\n",
    "# Выведем на эксран топ-5 платформ по размеру продаж в периоде 2016 - 2015 г.\n",
    "display('Топ-5 платформ по размеру продаж в 2015 - 2016 гг.')\n",
    "display((\n",
    "    df.query('year_of_release >= 2014')\n",
    "    .groupby('platform')\n",
    "    .agg({'total_sales':'sum'})\n",
    "    .sort_values(by='total_sales', ascending=False)\n",
    "    .head(5)))"
   ]
  },
  {
   "cell_type": "markdown",
   "metadata": {},
   "source": [
    "Таким образом, топ-5 платформ за весь анализируемый период и за период 2015-2016 гг. не отличается по составу платформ, но отличается по распределению \"мест\". Так, безусловным лидером является платформа PS4. Платформа XOne хоть и занимает последнее место в топ-5 по продажам в период 2012 - 2016 гг., основные продажи на этой платформе пришлись на последние 2 года (140 миллионов из 159 миллионов за весь период 2012 - 2016 гг.), и по этому показателю данная платформа уступает только PS4.    \n",
    "\n",
    "Платформы PS3 и X360 за последние 2 анализируемых года продала игр на меньшие суммы, чем остальные платформы из топ-5, хотя по всему анализируемому периоду именно эти платформы имеют максимальный показатель продаж.     \n",
    "\n",
    "**Следовательно, наиболее потенциально прибыльными платформами являются PS4 и XOne.**"
   ]
  },
  {
   "cell_type": "markdown",
   "metadata": {},
   "source": [
    "Как указывали ранее, исключим из датафрейма данные по платформам PSP и DS, которые на настоящий момент не осуществляют деятельность:"
   ]
  },
  {
   "cell_type": "code",
   "execution_count": 23,
   "metadata": {},
   "outputs": [],
   "source": [
    "df = df.query('platform != \"PSP\" & platform != \"DS\"')"
   ]
  },
  {
   "cell_type": "markdown",
   "metadata": {},
   "source": [
    "Построим \"график с усами\" по глобальным продажам в разрезе платформ:"
   ]
  },
  {
   "cell_type": "code",
   "execution_count": 24,
   "metadata": {
    "scrolled": false
   },
   "outputs": [
    {
     "data": {
      "image/png": "[encoded data removed]",
      "text/plain": [
       "<Figure size 1080x576 with 1 Axes>"
      ]
     },
     "metadata": {},
     "output_type": "display_data"
    }
   ],
   "source": [
    "df.boxplot('total_sales', by='platform')\n",
    "plt.ylim(top=10.0)\n",
    "plt.ylim(top=1.5, bottom=0)\n",
    "plt.title('Объёмы продаж в разрезе платформ за 2012-2016 гг.')\n",
    "plt.xlabel('Платформа')\n",
    "plt.ylabel('Количество продаж игр');"
   ]
  },
  {
   "cell_type": "markdown",
   "metadata": {},
   "source": [
    "Посмотрим также поближе на медианные значения и 75% квантиль:"
   ]
  },
  {
   "cell_type": "code",
   "execution_count": 25,
   "metadata": {},
   "outputs": [
    {
     "data": {
      "image/png": "[encoded data removed]",
      "text/plain": [
       "<Figure size 1080x576 with 1 Axes>"
      ]
     },
     "metadata": {},
     "output_type": "display_data"
    }
   ],
   "source": [
    "df.boxplot('total_sales', by='platform')\n",
    "plt.ylim(top=1.5, bottom=0)\n",
    "plt.title('Объёмы продаж в разрезе платформ за 2012-2016 гг.')\n",
    "plt.xlabel('Платформа')\n",
    "plt.ylabel('Количество продаж игр');"
   ]
  },
  {
   "cell_type": "markdown",
   "metadata": {},
   "source": [
    "Из графиков следует, что медианные значения общих продаж конкретной игры в периоде 2012 - 2016 гг. по платформам PS3, PS4, Wii, WiiU, XOne примерно одинаковые. Максимальное медианное значение глобальных продаж у платформы X360, но оно не сильно больше медианных значений остальных названных платформ.     \n",
    "\n",
    "При этом на графике по каждоой платформе имеются выбросы - т.е. очень популярные игры с аномально большой выручкой. Наибольшее количество таких игр на платформах 3DS, PS3, PS4 и XOne."
   ]
  },
  {
   "cell_type": "markdown",
   "metadata": {},
   "source": [
    "Посмотрим как на результаты глобальных продаж влияют отзывы пользователей и критиков по играм платформы PS4:"
   ]
  },
  {
   "cell_type": "code",
   "execution_count": 26,
   "metadata": {
    "scrolled": false
   },
   "outputs": [
    {
     "name": "stdout",
     "output_type": "stream",
     "text": [
      "Корреляция между оценками пользователей и продажами на платформе PS4\n"
     ]
    },
    {
     "data": {
      "text/html": [
       "<div>\n",
       "<style scoped>\n",
       "    .dataframe tbody tr th:only-of-type {\n",
       "        vertical-align: middle;\n",
       "    }\n",
       "\n",
       "    .dataframe tbody tr th {\n",
       "        vertical-align: top;\n",
       "    }\n",
       "\n",
       "    .dataframe thead th {\n",
       "        text-align: right;\n",
       "    }\n",
       "</style>\n",
       "<table border=\"1\" class=\"dataframe\">\n",
       "  <thead>\n",
       "    <tr style=\"text-align: right;\">\n",
       "      <th></th>\n",
       "      <th>user_score</th>\n",
       "      <th>total_sales</th>\n",
       "    </tr>\n",
       "  </thead>\n",
       "  <tbody>\n",
       "    <tr>\n",
       "      <th>user_score</th>\n",
       "      <td>1.00</td>\n",
       "      <td>-0.03</td>\n",
       "    </tr>\n",
       "    <tr>\n",
       "      <th>total_sales</th>\n",
       "      <td>-0.03</td>\n",
       "      <td>1.00</td>\n",
       "    </tr>\n",
       "  </tbody>\n",
       "</table>\n",
       "</div>"
      ],
      "text/plain": [
       "             user_score  total_sales\n",
       "user_score         1.00        -0.03\n",
       "total_sales       -0.03         1.00"
      ]
     },
     "metadata": {},
     "output_type": "display_data"
    },
    {
     "name": "stdout",
     "output_type": "stream",
     "text": [
      "\n",
      "Корреляция между оценками критиков и продажами на платформе PS4\n"
     ]
    },
    {
     "data": {
      "text/html": [
       "<div>\n",
       "<style scoped>\n",
       "    .dataframe tbody tr th:only-of-type {\n",
       "        vertical-align: middle;\n",
       "    }\n",
       "\n",
       "    .dataframe tbody tr th {\n",
       "        vertical-align: top;\n",
       "    }\n",
       "\n",
       "    .dataframe thead th {\n",
       "        text-align: right;\n",
       "    }\n",
       "</style>\n",
       "<table border=\"1\" class=\"dataframe\">\n",
       "  <thead>\n",
       "    <tr style=\"text-align: right;\">\n",
       "      <th></th>\n",
       "      <th>critic_score</th>\n",
       "      <th>total_sales</th>\n",
       "    </tr>\n",
       "  </thead>\n",
       "  <tbody>\n",
       "    <tr>\n",
       "      <th>critic_score</th>\n",
       "      <td>1.00</td>\n",
       "      <td>0.41</td>\n",
       "    </tr>\n",
       "    <tr>\n",
       "      <th>total_sales</th>\n",
       "      <td>0.41</td>\n",
       "      <td>1.00</td>\n",
       "    </tr>\n",
       "  </tbody>\n",
       "</table>\n",
       "</div>"
      ],
      "text/plain": [
       "              critic_score  total_sales\n",
       "critic_score          1.00         0.41\n",
       "total_sales           0.41         1.00"
      ]
     },
     "metadata": {},
     "output_type": "display_data"
    },
    {
     "data": {
      "image/png": "[encoded data removed]",
      "text/plain": [
       "<Figure size 864x720 with 2 Axes>"
      ]
     },
     "metadata": {},
     "output_type": "display_data"
    }
   ],
   "source": [
    "# Определим заголовки, которые в дальнейшем будем использовать для графиков\n",
    "title_user = 'Взимоотношение между оценками пользователей и продажами на платформе PS4'\n",
    "title_critic = 'Взимоотношение между оценками критиков и продажами на платформе PS4'\n",
    "\n",
    "# С помощью метода query() сделаем срез по платформе PS4, сохраним результат в переменной df_ps4:\n",
    "df_ps4 = df.query('\"PS4\" in platform')\n",
    "\n",
    "# Построим диаграммы рассеивания\n",
    "fig, (ax1, ax2) = plt.subplots(2, 1, figsize=(12, 10))\n",
    "ax1.scatter(data=df_ps4, x='total_sales', y='user_score', alpha=0.5)\n",
    "ax1.set_title('Взимоотношение между оценками пользователей и продажами на платформе PS4')\n",
    "ax2.scatter(data = df_ps4, x ='total_sales', y ='critic_score', alpha=0.5)\n",
    "ax2.set_title('Взимоотношение между оценками критиков и продажами на платформе PS4')\n",
    "\n",
    "# Выведем на экран значения корреляции между продажами и оценками пользователей и критиков\n",
    "print('Корреляция между оценками пользователей и продажами на платформе PS4')\n",
    "display(df_ps4[['user_score', 'total_sales']].corr())\n",
    "print()\n",
    "print('Корреляция между оценками критиков и продажами на платформе PS4')\n",
    "display(df_ps4[['critic_score', 'total_sales']].corr())"
   ]
  },
  {
   "cell_type": "markdown",
   "metadata": {},
   "source": [
    "Корреляция между оценками пользователей и продажами на платформе PS4 отсутствует. Есть несильная зависимость между оценкой критиков и продажами, причём корреляция имеет положительную тенденцию - чем выше оценка критиков, тем выше будут продажи игры."
   ]
  },
  {
   "cell_type": "markdown",
   "metadata": {},
   "source": [
    "Оценим корреляция между оценками пользователей, критиков и продажами на остальных платформах из топ-5 по продажам за 2012-2016 гг."
   ]
  },
  {
   "cell_type": "code",
   "execution_count": 27,
   "metadata": {
    "scrolled": false
   },
   "outputs": [
    {
     "data": {
      "text/plain": [
       "'Корреляция между оценками пользователей и продажами на платформе PS3'"
      ]
     },
     "metadata": {},
     "output_type": "display_data"
    },
    {
     "data": {
      "text/html": [
       "<div>\n",
       "<style scoped>\n",
       "    .dataframe tbody tr th:only-of-type {\n",
       "        vertical-align: middle;\n",
       "    }\n",
       "\n",
       "    .dataframe tbody tr th {\n",
       "        vertical-align: top;\n",
       "    }\n",
       "\n",
       "    .dataframe thead th {\n",
       "        text-align: right;\n",
       "    }\n",
       "</style>\n",
       "<table border=\"1\" class=\"dataframe\">\n",
       "  <thead>\n",
       "    <tr style=\"text-align: right;\">\n",
       "      <th></th>\n",
       "      <th>user_score</th>\n",
       "      <th>total_sales</th>\n",
       "    </tr>\n",
       "  </thead>\n",
       "  <tbody>\n",
       "    <tr>\n",
       "      <th>user_score</th>\n",
       "      <td>1.00</td>\n",
       "      <td>-0.01</td>\n",
       "    </tr>\n",
       "    <tr>\n",
       "      <th>total_sales</th>\n",
       "      <td>-0.01</td>\n",
       "      <td>1.00</td>\n",
       "    </tr>\n",
       "  </tbody>\n",
       "</table>\n",
       "</div>"
      ],
      "text/plain": [
       "             user_score  total_sales\n",
       "user_score         1.00        -0.01\n",
       "total_sales       -0.01         1.00"
      ]
     },
     "metadata": {},
     "output_type": "display_data"
    },
    {
     "data": {
      "text/plain": [
       "'Корреляция между оценками критиков и продажами на платформе PS3'"
      ]
     },
     "metadata": {},
     "output_type": "display_data"
    },
    {
     "data": {
      "text/html": [
       "<div>\n",
       "<style scoped>\n",
       "    .dataframe tbody tr th:only-of-type {\n",
       "        vertical-align: middle;\n",
       "    }\n",
       "\n",
       "    .dataframe tbody tr th {\n",
       "        vertical-align: top;\n",
       "    }\n",
       "\n",
       "    .dataframe thead th {\n",
       "        text-align: right;\n",
       "    }\n",
       "</style>\n",
       "<table border=\"1\" class=\"dataframe\">\n",
       "  <thead>\n",
       "    <tr style=\"text-align: right;\">\n",
       "      <th></th>\n",
       "      <th>critic_score</th>\n",
       "      <th>total_sales</th>\n",
       "    </tr>\n",
       "  </thead>\n",
       "  <tbody>\n",
       "    <tr>\n",
       "      <th>critic_score</th>\n",
       "      <td>1.00</td>\n",
       "      <td>0.33</td>\n",
       "    </tr>\n",
       "    <tr>\n",
       "      <th>total_sales</th>\n",
       "      <td>0.33</td>\n",
       "      <td>1.00</td>\n",
       "    </tr>\n",
       "  </tbody>\n",
       "</table>\n",
       "</div>"
      ],
      "text/plain": [
       "              critic_score  total_sales\n",
       "critic_score          1.00         0.33\n",
       "total_sales           0.33         1.00"
      ]
     },
     "metadata": {},
     "output_type": "display_data"
    },
    {
     "data": {
      "text/plain": [
       "'Корреляция между оценками пользователей и продажами на платформе X360'"
      ]
     },
     "metadata": {},
     "output_type": "display_data"
    },
    {
     "data": {
      "text/html": [
       "<div>\n",
       "<style scoped>\n",
       "    .dataframe tbody tr th:only-of-type {\n",
       "        vertical-align: middle;\n",
       "    }\n",
       "\n",
       "    .dataframe tbody tr th {\n",
       "        vertical-align: top;\n",
       "    }\n",
       "\n",
       "    .dataframe thead th {\n",
       "        text-align: right;\n",
       "    }\n",
       "</style>\n",
       "<table border=\"1\" class=\"dataframe\">\n",
       "  <thead>\n",
       "    <tr style=\"text-align: right;\">\n",
       "      <th></th>\n",
       "      <th>user_score</th>\n",
       "      <th>total_sales</th>\n",
       "    </tr>\n",
       "  </thead>\n",
       "  <tbody>\n",
       "    <tr>\n",
       "      <th>user_score</th>\n",
       "      <td>1.00</td>\n",
       "      <td>0.01</td>\n",
       "    </tr>\n",
       "    <tr>\n",
       "      <th>total_sales</th>\n",
       "      <td>0.01</td>\n",
       "      <td>1.00</td>\n",
       "    </tr>\n",
       "  </tbody>\n",
       "</table>\n",
       "</div>"
      ],
      "text/plain": [
       "             user_score  total_sales\n",
       "user_score         1.00         0.01\n",
       "total_sales        0.01         1.00"
      ]
     },
     "metadata": {},
     "output_type": "display_data"
    },
    {
     "data": {
      "text/plain": [
       "'Корреляция между оценками критиков и продажами на платформе X360'"
      ]
     },
     "metadata": {},
     "output_type": "display_data"
    },
    {
     "data": {
      "text/html": [
       "<div>\n",
       "<style scoped>\n",
       "    .dataframe tbody tr th:only-of-type {\n",
       "        vertical-align: middle;\n",
       "    }\n",
       "\n",
       "    .dataframe tbody tr th {\n",
       "        vertical-align: top;\n",
       "    }\n",
       "\n",
       "    .dataframe thead th {\n",
       "        text-align: right;\n",
       "    }\n",
       "</style>\n",
       "<table border=\"1\" class=\"dataframe\">\n",
       "  <thead>\n",
       "    <tr style=\"text-align: right;\">\n",
       "      <th></th>\n",
       "      <th>critic_score</th>\n",
       "      <th>total_sales</th>\n",
       "    </tr>\n",
       "  </thead>\n",
       "  <tbody>\n",
       "    <tr>\n",
       "      <th>critic_score</th>\n",
       "      <td>1.00</td>\n",
       "      <td>0.36</td>\n",
       "    </tr>\n",
       "    <tr>\n",
       "      <th>total_sales</th>\n",
       "      <td>0.36</td>\n",
       "      <td>1.00</td>\n",
       "    </tr>\n",
       "  </tbody>\n",
       "</table>\n",
       "</div>"
      ],
      "text/plain": [
       "              critic_score  total_sales\n",
       "critic_score          1.00         0.36\n",
       "total_sales           0.36         1.00"
      ]
     },
     "metadata": {},
     "output_type": "display_data"
    },
    {
     "data": {
      "text/plain": [
       "'Корреляция между оценками пользователей и продажами на платформе 3DS'"
      ]
     },
     "metadata": {},
     "output_type": "display_data"
    },
    {
     "data": {
      "text/html": [
       "<div>\n",
       "<style scoped>\n",
       "    .dataframe tbody tr th:only-of-type {\n",
       "        vertical-align: middle;\n",
       "    }\n",
       "\n",
       "    .dataframe tbody tr th {\n",
       "        vertical-align: top;\n",
       "    }\n",
       "\n",
       "    .dataframe thead th {\n",
       "        text-align: right;\n",
       "    }\n",
       "</style>\n",
       "<table border=\"1\" class=\"dataframe\">\n",
       "  <thead>\n",
       "    <tr style=\"text-align: right;\">\n",
       "      <th></th>\n",
       "      <th>user_score</th>\n",
       "      <th>total_sales</th>\n",
       "    </tr>\n",
       "  </thead>\n",
       "  <tbody>\n",
       "    <tr>\n",
       "      <th>user_score</th>\n",
       "      <td>1.00</td>\n",
       "      <td>0.20</td>\n",
       "    </tr>\n",
       "    <tr>\n",
       "      <th>total_sales</th>\n",
       "      <td>0.20</td>\n",
       "      <td>1.00</td>\n",
       "    </tr>\n",
       "  </tbody>\n",
       "</table>\n",
       "</div>"
      ],
      "text/plain": [
       "             user_score  total_sales\n",
       "user_score         1.00         0.20\n",
       "total_sales        0.20         1.00"
      ]
     },
     "metadata": {},
     "output_type": "display_data"
    },
    {
     "data": {
      "text/plain": [
       "'Корреляция между оценками критиков и продажами на платформе 3DS'"
      ]
     },
     "metadata": {},
     "output_type": "display_data"
    },
    {
     "data": {
      "text/html": [
       "<div>\n",
       "<style scoped>\n",
       "    .dataframe tbody tr th:only-of-type {\n",
       "        vertical-align: middle;\n",
       "    }\n",
       "\n",
       "    .dataframe tbody tr th {\n",
       "        vertical-align: top;\n",
       "    }\n",
       "\n",
       "    .dataframe thead th {\n",
       "        text-align: right;\n",
       "    }\n",
       "</style>\n",
       "<table border=\"1\" class=\"dataframe\">\n",
       "  <thead>\n",
       "    <tr style=\"text-align: right;\">\n",
       "      <th></th>\n",
       "      <th>critic_score</th>\n",
       "      <th>total_sales</th>\n",
       "    </tr>\n",
       "  </thead>\n",
       "  <tbody>\n",
       "    <tr>\n",
       "      <th>critic_score</th>\n",
       "      <td>1.00</td>\n",
       "      <td>0.32</td>\n",
       "    </tr>\n",
       "    <tr>\n",
       "      <th>total_sales</th>\n",
       "      <td>0.32</td>\n",
       "      <td>1.00</td>\n",
       "    </tr>\n",
       "  </tbody>\n",
       "</table>\n",
       "</div>"
      ],
      "text/plain": [
       "              critic_score  total_sales\n",
       "critic_score          1.00         0.32\n",
       "total_sales           0.32         1.00"
      ]
     },
     "metadata": {},
     "output_type": "display_data"
    },
    {
     "data": {
      "text/plain": [
       "'Корреляция между оценками пользователей и продажами на платформе XOne'"
      ]
     },
     "metadata": {},
     "output_type": "display_data"
    },
    {
     "data": {
      "text/html": [
       "<div>\n",
       "<style scoped>\n",
       "    .dataframe tbody tr th:only-of-type {\n",
       "        vertical-align: middle;\n",
       "    }\n",
       "\n",
       "    .dataframe tbody tr th {\n",
       "        vertical-align: top;\n",
       "    }\n",
       "\n",
       "    .dataframe thead th {\n",
       "        text-align: right;\n",
       "    }\n",
       "</style>\n",
       "<table border=\"1\" class=\"dataframe\">\n",
       "  <thead>\n",
       "    <tr style=\"text-align: right;\">\n",
       "      <th></th>\n",
       "      <th>user_score</th>\n",
       "      <th>total_sales</th>\n",
       "    </tr>\n",
       "  </thead>\n",
       "  <tbody>\n",
       "    <tr>\n",
       "      <th>user_score</th>\n",
       "      <td>1.00</td>\n",
       "      <td>-0.07</td>\n",
       "    </tr>\n",
       "    <tr>\n",
       "      <th>total_sales</th>\n",
       "      <td>-0.07</td>\n",
       "      <td>1.00</td>\n",
       "    </tr>\n",
       "  </tbody>\n",
       "</table>\n",
       "</div>"
      ],
      "text/plain": [
       "             user_score  total_sales\n",
       "user_score         1.00        -0.07\n",
       "total_sales       -0.07         1.00"
      ]
     },
     "metadata": {},
     "output_type": "display_data"
    },
    {
     "data": {
      "text/plain": [
       "'Корреляция между оценками критиков и продажами на платформе XOne'"
      ]
     },
     "metadata": {},
     "output_type": "display_data"
    },
    {
     "data": {
      "text/html": [
       "<div>\n",
       "<style scoped>\n",
       "    .dataframe tbody tr th:only-of-type {\n",
       "        vertical-align: middle;\n",
       "    }\n",
       "\n",
       "    .dataframe tbody tr th {\n",
       "        vertical-align: top;\n",
       "    }\n",
       "\n",
       "    .dataframe thead th {\n",
       "        text-align: right;\n",
       "    }\n",
       "</style>\n",
       "<table border=\"1\" class=\"dataframe\">\n",
       "  <thead>\n",
       "    <tr style=\"text-align: right;\">\n",
       "      <th></th>\n",
       "      <th>critic_score</th>\n",
       "      <th>total_sales</th>\n",
       "    </tr>\n",
       "  </thead>\n",
       "  <tbody>\n",
       "    <tr>\n",
       "      <th>critic_score</th>\n",
       "      <td>1.00</td>\n",
       "      <td>0.42</td>\n",
       "    </tr>\n",
       "    <tr>\n",
       "      <th>total_sales</th>\n",
       "      <td>0.42</td>\n",
       "      <td>1.00</td>\n",
       "    </tr>\n",
       "  </tbody>\n",
       "</table>\n",
       "</div>"
      ],
      "text/plain": [
       "              critic_score  total_sales\n",
       "critic_score          1.00         0.42\n",
       "total_sales           0.42         1.00"
      ]
     },
     "metadata": {},
     "output_type": "display_data"
    }
   ],
   "source": [
    "top_5 = (df\n",
    "         .query('\"PS4\" != platform')\n",
    "         .groupby('platform')\n",
    "         .agg({'total_sales':'sum'})\n",
    "         .sort_values(by='total_sales', ascending=False)\n",
    "         .head(4)\n",
    "         .index\n",
    "        )\n",
    "for i in top_5:\n",
    "    current = df.query('platform == @i')\n",
    "    display(f'Корреляция между оценками пользователей и продажами на платформе {i}')\n",
    "    display(current[['user_score', 'total_sales']].corr())\n",
    "    display(f'Корреляция между оценками критиков и продажами на платформе {i}')\n",
    "    display(current[['critic_score', 'total_sales']].corr())"
   ]
  },
  {
   "cell_type": "markdown",
   "metadata": {},
   "source": [
    "Таким образом, на остальных платформах из топ-5 также отсутствует корреляция между продажами игр и оценкой юзеров. Несильная положительная корреляция между оценками критиков и общими продажами замечены на всех платформах из топ-5.   \n",
    "Также отметим, что корреляция в данном случае может и не иметь предсказательной силы. Мы не знаем, как были собраны данные - возможно критики выставили свои оценки после коммерческого успеха игры."
   ]
  },
  {
   "cell_type": "markdown",
   "metadata": {},
   "source": [
    "### Анализ жанров"
   ]
  },
  {
   "cell_type": "markdown",
   "metadata": {},
   "source": [
    "Оценим какие игры каких жанров чаще всего встречаются в датасете, для чего выведем график *countplot*:"
   ]
  },
  {
   "cell_type": "code",
   "execution_count": 28,
   "metadata": {
    "scrolled": false
   },
   "outputs": [
    {
     "data": {
      "image/png": "[encoded data removed]",
      "text/plain": [
       "<Figure size 1440x576 with 1 Axes>"
      ]
     },
     "metadata": {},
     "output_type": "display_data"
    }
   ],
   "source": [
    "plt.figure(figsize=(20, 8))\n",
    "sns.countplot(x='genre', data=df)\n",
    "plt.title('Частота игровых жанров', fontsize=16)\n",
    "plt.xlabel('Жанр')\n",
    "plt.ylabel('Количество игр в жанре');"
   ]
  },
  {
   "cell_type": "markdown",
   "metadata": {},
   "source": [
    "Больше всего игр в анализируеммых данных относится к жанру экшн (порядка 900 игр), на втором месте по частоте представленности в датасете - ролевые игры (~350). Шутеры, спорт и приключения предтавлены примерно одинаково - чуть более 200 игр каждого жанра в датасете. Остальные жанры игр встрачаются реже всего, самый редкий жанр - пазлы."
   ]
  },
  {
   "cell_type": "markdown",
   "metadata": {},
   "source": [
    "Рассчитаем медианное значение продаж игр в каждой категории:"
   ]
  },
  {
   "cell_type": "code",
   "execution_count": 29,
   "metadata": {
    "scrolled": true
   },
   "outputs": [
    {
     "data": {
      "text/html": [
       "<div>\n",
       "<style scoped>\n",
       "    .dataframe tbody tr th:only-of-type {\n",
       "        vertical-align: middle;\n",
       "    }\n",
       "\n",
       "    .dataframe tbody tr th {\n",
       "        vertical-align: top;\n",
       "    }\n",
       "\n",
       "    .dataframe thead th {\n",
       "        text-align: right;\n",
       "    }\n",
       "</style>\n",
       "<table border=\"1\" class=\"dataframe\">\n",
       "  <thead>\n",
       "    <tr style=\"text-align: right;\">\n",
       "      <th></th>\n",
       "      <th>genre</th>\n",
       "      <th>total_sales</th>\n",
       "    </tr>\n",
       "  </thead>\n",
       "  <tbody>\n",
       "    <tr>\n",
       "      <th>0</th>\n",
       "      <td>Action</td>\n",
       "      <td>0.13</td>\n",
       "    </tr>\n",
       "    <tr>\n",
       "      <th>1</th>\n",
       "      <td>Adventure</td>\n",
       "      <td>0.04</td>\n",
       "    </tr>\n",
       "    <tr>\n",
       "      <th>2</th>\n",
       "      <td>Fighting</td>\n",
       "      <td>0.15</td>\n",
       "    </tr>\n",
       "    <tr>\n",
       "      <th>3</th>\n",
       "      <td>Misc</td>\n",
       "      <td>0.14</td>\n",
       "    </tr>\n",
       "    <tr>\n",
       "      <th>4</th>\n",
       "      <td>Platform</td>\n",
       "      <td>0.21</td>\n",
       "    </tr>\n",
       "    <tr>\n",
       "      <th>5</th>\n",
       "      <td>Puzzle</td>\n",
       "      <td>0.06</td>\n",
       "    </tr>\n",
       "    <tr>\n",
       "      <th>6</th>\n",
       "      <td>Racing</td>\n",
       "      <td>0.14</td>\n",
       "    </tr>\n",
       "    <tr>\n",
       "      <th>7</th>\n",
       "      <td>Role-Playing</td>\n",
       "      <td>0.16</td>\n",
       "    </tr>\n",
       "    <tr>\n",
       "      <th>8</th>\n",
       "      <td>Shooter</td>\n",
       "      <td>0.44</td>\n",
       "    </tr>\n",
       "    <tr>\n",
       "      <th>9</th>\n",
       "      <td>Simulation</td>\n",
       "      <td>0.12</td>\n",
       "    </tr>\n",
       "    <tr>\n",
       "      <th>10</th>\n",
       "      <td>Sports</td>\n",
       "      <td>0.27</td>\n",
       "    </tr>\n",
       "    <tr>\n",
       "      <th>11</th>\n",
       "      <td>Strategy</td>\n",
       "      <td>0.08</td>\n",
       "    </tr>\n",
       "  </tbody>\n",
       "</table>\n",
       "</div>"
      ],
      "text/plain": [
       "           genre  total_sales\n",
       "0         Action         0.13\n",
       "1      Adventure         0.04\n",
       "2       Fighting         0.15\n",
       "3           Misc         0.14\n",
       "4       Platform         0.21\n",
       "5         Puzzle         0.06\n",
       "6         Racing         0.14\n",
       "7   Role-Playing         0.16\n",
       "8        Shooter         0.44\n",
       "9     Simulation         0.12\n",
       "10        Sports         0.27\n",
       "11      Strategy         0.08"
      ]
     },
     "metadata": {},
     "output_type": "display_data"
    },
    {
     "data": {
      "text/plain": [
       "Text(0.5, 1.0, 'Медианное распределение продаж по жанрам')"
      ]
     },
     "execution_count": 29,
     "metadata": {},
     "output_type": "execute_result"
    },
    {
     "data": {
      "image/png": "[encoded data removed]",
      "text/plain": [
       "<Figure size 1080x576 with 1 Axes>"
      ]
     },
     "metadata": {},
     "output_type": "display_data"
    }
   ],
   "source": [
    "median_genre_sales= df.pivot_table(index='genre', values='total_sales', aggfunc='median')\n",
    "median_genre_sales = median_genre_sales.reset_index().rename_axis(None, axis=1)\n",
    "display(median_genre_sales)\n",
    "sns.barplot(data=median_genre_sales, x='genre', y='total_sales').set_title('Медианное распределение продаж по жанрам')"
   ]
  },
  {
   "cell_type": "markdown",
   "metadata": {},
   "source": [
    "Как видим, самым прибыльным является жанр шутер (более 0.4 млн. проданных копий). Далее идут жанры спорт и платформеры. Наименее прибыльные игры в жанрах стратегии, приключения и пазлы (менее 0,1 млн. проданных копий)."
   ]
  },
  {
   "cell_type": "markdown",
   "metadata": {},
   "source": [
    "Посмотрим на жанры с высокими и низкими продажами:"
   ]
  },
  {
   "cell_type": "code",
   "execution_count": 30,
   "metadata": {},
   "outputs": [
    {
     "data": {
      "text/html": [
       "<div>\n",
       "<style scoped>\n",
       "    .dataframe tbody tr th:only-of-type {\n",
       "        vertical-align: middle;\n",
       "    }\n",
       "\n",
       "    .dataframe tbody tr th {\n",
       "        vertical-align: top;\n",
       "    }\n",
       "\n",
       "    .dataframe thead th {\n",
       "        text-align: right;\n",
       "    }\n",
       "</style>\n",
       "<table border=\"1\" class=\"dataframe\">\n",
       "  <thead>\n",
       "    <tr style=\"text-align: right;\">\n",
       "      <th></th>\n",
       "      <th>genre</th>\n",
       "      <th>total_sales</th>\n",
       "    </tr>\n",
       "  </thead>\n",
       "  <tbody>\n",
       "    <tr>\n",
       "      <th>0</th>\n",
       "      <td>Action</td>\n",
       "      <td>435.54</td>\n",
       "    </tr>\n",
       "    <tr>\n",
       "      <th>1</th>\n",
       "      <td>Adventure</td>\n",
       "      <td>27.70</td>\n",
       "    </tr>\n",
       "    <tr>\n",
       "      <th>2</th>\n",
       "      <td>Fighting</td>\n",
       "      <td>44.13</td>\n",
       "    </tr>\n",
       "    <tr>\n",
       "      <th>3</th>\n",
       "      <td>Misc</td>\n",
       "      <td>84.15</td>\n",
       "    </tr>\n",
       "    <tr>\n",
       "      <th>4</th>\n",
       "      <td>Platform</td>\n",
       "      <td>60.31</td>\n",
       "    </tr>\n",
       "    <tr>\n",
       "      <th>5</th>\n",
       "      <td>Puzzle</td>\n",
       "      <td>4.79</td>\n",
       "    </tr>\n",
       "    <tr>\n",
       "      <th>6</th>\n",
       "      <td>Racing</td>\n",
       "      <td>53.50</td>\n",
       "    </tr>\n",
       "    <tr>\n",
       "      <th>7</th>\n",
       "      <td>Role-Playing</td>\n",
       "      <td>180.91</td>\n",
       "    </tr>\n",
       "    <tr>\n",
       "      <th>8</th>\n",
       "      <td>Shooter</td>\n",
       "      <td>304.73</td>\n",
       "    </tr>\n",
       "    <tr>\n",
       "      <th>9</th>\n",
       "      <td>Simulation</td>\n",
       "      <td>34.85</td>\n",
       "    </tr>\n",
       "    <tr>\n",
       "      <th>10</th>\n",
       "      <td>Sports</td>\n",
       "      <td>179.55</td>\n",
       "    </tr>\n",
       "    <tr>\n",
       "      <th>11</th>\n",
       "      <td>Strategy</td>\n",
       "      <td>12.63</td>\n",
       "    </tr>\n",
       "  </tbody>\n",
       "</table>\n",
       "</div>"
      ],
      "text/plain": [
       "           genre  total_sales\n",
       "0         Action       435.54\n",
       "1      Adventure        27.70\n",
       "2       Fighting        44.13\n",
       "3           Misc        84.15\n",
       "4       Platform        60.31\n",
       "5         Puzzle         4.79\n",
       "6         Racing        53.50\n",
       "7   Role-Playing       180.91\n",
       "8        Shooter       304.73\n",
       "9     Simulation        34.85\n",
       "10        Sports       179.55\n",
       "11      Strategy        12.63"
      ]
     },
     "metadata": {},
     "output_type": "display_data"
    },
    {
     "data": {
      "image/png": "[encoded data removed]",
      "text/plain": [
       "<Figure size 1080x576 with 1 Axes>"
      ]
     },
     "metadata": {},
     "output_type": "display_data"
    }
   ],
   "source": [
    "sum_genre_sales= df.pivot_table(index='genre', values='total_sales', aggfunc='sum')\n",
    "sum_genre_sales = sum_genre_sales.reset_index().rename_axis(None, axis=1)\n",
    "display(sum_genre_sales)\n",
    "sns.barplot(data=sum_genre_sales, x='genre', y='total_sales').set_title('Распределение количества проданных копий игр по жанрам', fontsize=16)\n",
    "plt.xlabel('Жанр')\n",
    "plt.ylabel('Количество продаж');"
   ]
  },
  {
   "cell_type": "markdown",
   "metadata": {},
   "source": [
    "Соответственно, в периоде 2012-2016 гг. самыми продаваемыми являются игры в жанре экшн (более 400 млн. копий), далее - игры в жанрах шутер (300 млн.копий), ролевые игры и спорт (чуть менее 200 млн. копий). Наименее продаваемыми жанрами являются стратегии, приключения и пазлы.    \n",
    "При этом хоть игры в жанре экшн и продаются чаще остальных, медианное количество продаж игры этого жанра уступает шутерам, ролевым играм и спортивным играм, что мы видели на предыдущем графике. Поэтому можно сделать вывод, что в жанре экшн имеется большее количество игр с аномально высокими продажами."
   ]
  },
  {
   "cell_type": "markdown",
   "metadata": {},
   "source": [
    "### Вывод"
   ]
  },
  {
   "cell_type": "markdown",
   "metadata": {},
   "source": [
    "По результатам анализа игровых платформ можно сделать следующие выводы:\n",
    "* наиболее потенциально прибыльными платформами являются PS4 и XOne;\n",
    "* топ-5 платформ по продажам в 2012-2016 гг. являются PS3, PS4, XOne, X360 и 3DS.\n",
    "* медианные значения общих продаж конкретной игры в периоде 2012 - 2016 гг. по платформам PS3, PS4, Wii, WiiU, XOne примерно одинаковые. Максимальное медианное значение глобальных продаж игр у платформы X360;\n",
    "* корреляция между оценками пользователей и продажами на в топ-5 платформах отсутствует. Есть несильная зависимость между оценкой критиков и продажами, причём корреляция имеет положительную тенденцию - чем выше оценка критиков, тем выше будут продажи игры;\n",
    "* больше всего игр выходило в жанре экшн, этот же жанр является наиболее продаваемым по общему количеству проданных копий. Однако медианное значение количества проданных копий на игру выше у шутеров, ролевых игр и спортивных игр."
   ]
  },
  {
   "cell_type": "markdown",
   "metadata": {},
   "source": [
    "## Портрет пользователя в каждом регионе"
   ]
  },
  {
   "cell_type": "markdown",
   "metadata": {},
   "source": [
    "Изучим характеристики пользователей в каждом регионе из датасета.    \n",
    "\n",
    "Посмотрим какие платформы наиболее популярны в каждом регионе:"
   ]
  },
  {
   "cell_type": "code",
   "execution_count": 31,
   "metadata": {
    "scrolled": false
   },
   "outputs": [
    {
     "data": {
      "image/png": "[encoded data removed]",
      "text/plain": [
       "<Figure size 1080x576 with 1 Axes>"
      ]
     },
     "metadata": {},
     "output_type": "display_data"
    },
    {
     "data": {
      "image/png": "[encoded data removed]",
      "text/plain": [
       "<Figure size 1080x576 with 1 Axes>"
      ]
     },
     "metadata": {},
     "output_type": "display_data"
    },
    {
     "data": {
      "image/png": "[encoded data removed]",
      "text/plain": [
       "<Figure size 1080x576 with 1 Axes>"
      ]
     },
     "metadata": {},
     "output_type": "display_data"
    }
   ],
   "source": [
    "# Создадим функцию, которая будет выводит на экран пайчарт по распределению платформ среду юзеров в каждом регионе:\n",
    "def pie_users(df, col_name):\n",
    "    colors = sns.color_palette(\"pastel\")\n",
    "    if col_name == 'na_sales':\n",
    "        title = 'Топ-5 платформ NA'\n",
    "    elif col_name == 'jp_sales':\n",
    "        title = 'Топ-5 платформ JP'\n",
    "    elif col_name == 'eu_sales':\n",
    "        title = 'Топ-5 платформ EU'\n",
    "    (df.groupby('platform')\n",
    "    .agg({col_name:'sum'})\n",
    "    .sort_values(by=col_name, ascending=False)\n",
    "    .head(5)\n",
    "    .plot(kind='pie', y=col_name, colors=colors, title=title, autopct='%.0f%%'))\n",
    "    plt.legend(bbox_to_anchor=(1.04,0.5), loc=\"center left\", borderaxespad=0)\n",
    "\n",
    "# Применим функцию к каждому региону:\n",
    "pie_users(df, 'na_sales')\n",
    "pie_users(df, 'jp_sales')\n",
    "pie_users(df, 'eu_sales')"
   ]
  },
  {
   "cell_type": "markdown",
   "metadata": {},
   "source": [
    "В Европе самой попуулярной платформой является PS4 (34 процента юзеров), Северной Америке - X360 (28 процентов), а в Японии - 3DS (более половины юзеров). Стоит также отметить, что в Северной Америке платформы PS3, PS4 и XOne не сильно отстают от лидера рынка X360."
   ]
  },
  {
   "cell_type": "markdown",
   "metadata": {},
   "source": [
    "Теперь оценим топ-5 самых популярных жанров среди юзеров Северной Америки, Европы и Японии:"
   ]
  },
  {
   "cell_type": "code",
   "execution_count": 32,
   "metadata": {
    "scrolled": false
   },
   "outputs": [
    {
     "data": {
      "image/png": "[encoded data removed]",
      "text/plain": [
       "<Figure size 1080x576 with 1 Axes>"
      ]
     },
     "metadata": {},
     "output_type": "display_data"
    },
    {
     "data": {
      "image/png": "[encoded data removed]",
      "text/plain": [
       "<Figure size 1080x576 with 1 Axes>"
      ]
     },
     "metadata": {},
     "output_type": "display_data"
    },
    {
     "data": {
      "image/png": "[encoded data removed]",
      "text/plain": [
       "<Figure size 1080x576 with 1 Axes>"
      ]
     },
     "metadata": {},
     "output_type": "display_data"
    }
   ],
   "source": [
    "# Напишем функцию, аналогичную прелылущей, которая будет возвращать пайчарт:\n",
    "def pie_genre(df, col_name):\n",
    "    colors = sns.color_palette(\"pastel\")\n",
    "    if col_name == 'na_sales':\n",
    "        title = 'Топ-5 жанров в NA'\n",
    "    elif col_name == 'jp_sales':\n",
    "        title = 'Топ-5 жанров в JP'\n",
    "    elif col_name == 'eu_sales':\n",
    "        title = 'Топ-5 жанров в EU'\n",
    "    (\n",
    "    df.groupby('genre')\n",
    "    .agg({col_name:'sum'})\n",
    "    .sort_values(by=col_name, ascending=False)\n",
    "    .head(5)\n",
    "    .plot(kind='pie', y=col_name, colors=colors, title=title, autopct='%.0f%%'))\n",
    "    plt.legend(bbox_to_anchor=(1.04,0.5), loc=\"center left\", borderaxespad=0)\n",
    "\n",
    "pie_genre(df, 'na_sales')\n",
    "pie_genre(df, 'jp_sales')\n",
    "pie_genre(df, 'eu_sales')"
   ]
  },
  {
   "cell_type": "markdown",
   "metadata": {},
   "source": [
    "И в Европе, и в Северной Америке самый популярный жанр экшн, а второе место по популярности уверено занимают шутеры. В Японии шутеры также на встором месте по популярности, но первое место у роелвых игр."
   ]
  },
  {
   "cell_type": "markdown",
   "metadata": {},
   "source": [
    "Посмотрим также на продажи в анализируемых регионах исходя из возрастного рейтинга ESRB:"
   ]
  },
  {
   "cell_type": "code",
   "execution_count": 33,
   "metadata": {
    "scrolled": false
   },
   "outputs": [
    {
     "data": {
      "image/png": "[encoded data removed]",
      "text/plain": [
       "<Figure size 1080x576 with 1 Axes>"
      ]
     },
     "metadata": {},
     "output_type": "display_data"
    },
    {
     "data": {
      "image/png": "[encoded data removed]",
      "text/plain": [
       "<Figure size 1080x576 with 1 Axes>"
      ]
     },
     "metadata": {},
     "output_type": "display_data"
    },
    {
     "data": {
      "image/png": "[encoded data removed]",
      "text/plain": [
       "<Figure size 1080x576 with 1 Axes>"
      ]
     },
     "metadata": {},
     "output_type": "display_data"
    }
   ],
   "source": [
    "# Для начала заменим пропуски в данных о рейтинге ESRB на unknown:\n",
    "df.loc[df['rating'].isna(), 'rating'] = 'unknown'\n",
    "\n",
    "# Создадим функцию, аналогичную предыдущим:\n",
    "def pie_esrb(df, col_name):\n",
    "    colors = sns.color_palette(\"pastel\")\n",
    "    if col_name == 'na_sales':\n",
    "        title = 'Топ-5 продаж по рейтингу ESRB в NA'\n",
    "    elif col_name == 'jp_sales':\n",
    "        title = 'Топ-5 продаж по рейтингу ESRB в JP'\n",
    "    elif col_name == 'eu_sales':\n",
    "        title = 'Топ-5 продаж по рейтингу ESRB в EU'\n",
    "    (df.groupby('rating')\n",
    "    .agg({col_name:'sum'})\n",
    "    .sort_values(by=col_name, ascending=False)\n",
    "    .plot(kind='pie', y=col_name, colors=colors, title=title, autopct='%.0f%%'))\n",
    "    plt.legend(bbox_to_anchor=(1.04,0.5), loc=\"center left\", borderaxespad=0)\n",
    "\n",
    "pie_esrb(df, 'na_sales')\n",
    "pie_esrb(df, 'jp_sales')\n",
    "pie_esrb(df, 'eu_sales')"
   ]
  },
  {
   "cell_type": "markdown",
   "metadata": {},
   "source": [
    "В Северной Америке и в Европе чаще всего продаются игры с рейтингом М, а с рейтингом Е - практически в два раза реже. Большая часть выпускаемых игр в Японии имела неизвестный рейтинг, а игры с рейтингами Е, Т и М занимают примерно одинаковые доли рынка."
   ]
  },
  {
   "cell_type": "markdown",
   "metadata": {},
   "source": [
    "### Вывод"
   ]
  },
  {
   "cell_type": "markdown",
   "metadata": {},
   "source": [
    "Проанализировав пользователей в разных регионах можно сделать следующие выводы:\n",
    "* в каждом регионе имеется свая платформа-лидер среди юзеров (в Европе - PS4, в Северной Америке - X360, а в Японии - 3DS);\n",
    "* в Северной Америке и в Европе экшн является самым продаваемым жанром, а в Японии - ролевые игры;\n",
    "* большая часть игр в Японии выходила с неизвестным возрастным рейтингом, а в Европе и в Северной Америке - с рейтингом М (40 процентов от всех игр в обоих регионах)."
   ]
  },
  {
   "cell_type": "markdown",
   "metadata": {},
   "source": [
    "## Проверка гипотез"
   ]
  },
  {
   "cell_type": "markdown",
   "metadata": {},
   "source": [
    "### Проверка гипотезы о равенстве средних пользовательских рейтингах на платформах PC и XOne"
   ]
  },
  {
   "cell_type": "markdown",
   "metadata": {},
   "source": [
    "Сформулируем гипотезы:\n",
    "* Н0: cредние пользовательские рейтинги на платформах PC и XOne равны;\n",
    "* Н1: cредние пользовательские рейтинги на платформах PC и XOne не равны."
   ]
  },
  {
   "cell_type": "code",
   "execution_count": 34,
   "metadata": {},
   "outputs": [
    {
     "name": "stdout",
     "output_type": "stream",
     "text": [
      "Количество юзеров платформы XOne: 247\n",
      "Количество юзеров платформы PC: 250\n",
      "Количество пропусков в столбце user_score в срезе XOne: 65\n",
      "Количество пропусков в столбце user_score в срезе PC: 44\n"
     ]
    }
   ],
   "source": [
    "#Выведем на экран количество данных о пользователях обоих платформ, чтобы оценить размеры выборок: \n",
    "print(f'Количество юзеров платформы XOne: {len(df.loc[df[\"platform\"] == \"XOne\", \"platform\"])}')\n",
    "print(f'Количество юзеров платформы PC: {len(df.loc[df[\"platform\"] == \"PC\", \"platform\"])}')\n",
    "\n",
    "# Сохраним данные по каждой платформе в переменных xone и pc:\n",
    "xone = df.query('platform == \"XOne\"')\n",
    "pc = df.query('platform == \"PC\"')\n",
    "\n",
    "# Посмотрим имеются ли пропуски в данных:\n",
    "print('Количество пропусков в столбце user_score в срезе XOne:', xone['user_score'].isna().sum())\n",
    "print('Количество пропусков в столбце user_score в срезе PC:', pc['user_score'].isna().sum())"
   ]
  },
  {
   "cell_type": "markdown",
   "metadata": {},
   "source": [
    "Как видим, данные по обоим платформам примерно сопоставимы по размеру. Но по обоим платформам в данных о пользовательских оценках имеются пропуски. Перед проверкой гипотез удалим пропуски, но будем иметь в виду, что после их удаления данных об оценках пользователей РС будет несколько больше.    \n",
    "Также выведем на экран основные статистические показатели:"
   ]
  },
  {
   "cell_type": "code",
   "execution_count": 35,
   "metadata": {},
   "outputs": [
    {
     "name": "stdout",
     "output_type": "stream",
     "text": [
      "Статистические параметры оценок юзеров платформы XOne\n"
     ]
    },
    {
     "data": {
      "text/plain": [
       "count   182.00\n",
       "mean      6.52\n",
       "std       1.38\n",
       "min       1.60\n",
       "25%       5.80\n",
       "50%       6.80\n",
       "75%       7.50\n",
       "max       9.20\n",
       "var       1.91\n",
       "Name: user_score, dtype: float64"
      ]
     },
     "metadata": {},
     "output_type": "display_data"
    },
    {
     "name": "stdout",
     "output_type": "stream",
     "text": [
      "Статистические параметры оценок юзеров платформы PC\n"
     ]
    },
    {
     "data": {
      "text/plain": [
       "count   206.00\n",
       "mean      6.43\n",
       "std       1.66\n",
       "min       1.40\n",
       "25%       5.50\n",
       "50%       6.80\n",
       "75%       7.70\n",
       "max       9.30\n",
       "var       2.77\n",
       "Name: user_score, dtype: float64"
      ]
     },
     "metadata": {},
     "output_type": "display_data"
    }
   ],
   "source": [
    "xone = xone.dropna(subset=['user_score'])\n",
    "xone = xone['user_score'].describe().T\n",
    "xone['var'] = xone['std'] ** 2\n",
    "print('Статистические параметры оценок юзеров платформы XOne')\n",
    "display(xone)\n",
    "\n",
    "pc = pc.dropna(subset=['user_score'])\n",
    "pc = pc['user_score'].describe().T\n",
    "pc['var'] = pc['std'] ** 2\n",
    "print('Статистические параметры оценок юзеров платформы PC')\n",
    "display(pc)"
   ]
  },
  {
   "cell_type": "markdown",
   "metadata": {},
   "source": [
    "Средняя пользовательская оценка юзера платфомы РС близка к среднем оцнке юзера XОne. При этом данные имеют разную дисперсию, учтём это при проверке гипотез.    \n",
    "\n",
    "Проверим гипотезы о равенстве среднего двух генеральных совокупностей по взятым из них выборкам, применив метод `scipy.stats.ttest_ind`:"
   ]
  },
  {
   "cell_type": "code",
   "execution_count": 36,
   "metadata": {
    "scrolled": true
   },
   "outputs": [
    {
     "name": "stdout",
     "output_type": "stream",
     "text": [
      "p-значение: 0.5489537965134912\n",
      "Не получилось отвергнуть нулевую гипотезу\n"
     ]
    }
   ],
   "source": [
    "xone = df.query('platform == \"XOne\"')\n",
    "xone = xone.dropna(subset=['user_score'])\n",
    "xone = xone['user_score']\n",
    "pc = df.query('platform == \"PC\"')\n",
    "pc = pc.dropna(subset=['user_score'])\n",
    "pc = pc['user_score']\n",
    "\n",
    "alpha = 0.01 # Установим в качестве критического уровеня статистической значимости 1%. Если если p-value \n",
    "             #окажется меньше него - отвергнем гипотезу\n",
    "\n",
    "results = st.ttest_ind(xone, pc, equal_var = False) # Поскольку дисперсии двух выборок сильно отличаются, \n",
    "                                                    # установим False для параметра equal_var\n",
    "\n",
    "print('p-значение:', results.pvalue)\n",
    "\n",
    "if results.pvalue < alpha:\n",
    "    print('Отвергаем нулевую гипотезу')\n",
    "else:\n",
    "    print('Не получилось отвергнуть нулевую гипотезу') "
   ]
  },
  {
   "cell_type": "markdown",
   "metadata": {},
   "source": [
    "Таким образом, поскольку p-value больше критического уровня значимости отвергнуть нулевую гипотезу не получилось. Следовательно, в проведённом тесте значимые отличия средней оценки пользователей РС и XOne не установлены."
   ]
  },
  {
   "cell_type": "markdown",
   "metadata": {},
   "source": [
    "### Проверка гипотезы о равенстве средних пользовательских рейтингов жанров Action и Sports"
   ]
  },
  {
   "cell_type": "markdown",
   "metadata": {},
   "source": [
    "Сформулируем гипотезы:\n",
    "* Н0: cредние пользовательские рейтинги жанров Action и Sport равны;\n",
    "* Н1: cредние пользовательские рейтинги жанров Action и Sport не равны.\n",
    "\n",
    "Для начала оценим количество данных по обоим жанрам и наличие в них пропусков."
   ]
  },
  {
   "cell_type": "code",
   "execution_count": 37,
   "metadata": {},
   "outputs": [
    {
     "name": "stdout",
     "output_type": "stream",
     "text": [
      "Количество игр жанра Action: 953\n",
      "Количество игр жанра Sports: 256\n",
      "Количество пропусков в столбце user_score в срезе Action: 433\n",
      "Количество пропусков в столбце user_score в срезе Sports: 62\n"
     ]
    }
   ],
   "source": [
    "#Выведем на экран количество данных об играх в жанрах спорт и экшн: \n",
    "print(f'Количество игр жанра Action: {len(df.loc[df[\"genre\"] == \"Action\", \"genre\"])}')\n",
    "print(f'Количество игр жанра Sports: {len(df.loc[df[\"genre\"] == \"Sports\", \"genre\"])}')\n",
    "\n",
    "# Сохраним данные по каждому жанру в переменных action и sports:\n",
    "action = df.query('genre == \"Action\"')\n",
    "sports = df.query('genre == \"Sports\"')\n",
    "\n",
    "# Посмотрим имеются ли пропуски в данных:\n",
    "print('Количество пропусков в столбце user_score в срезе Action:', action['user_score'].isna().sum())\n",
    "print('Количество пропусков в столбце user_score в срезе Sports:', sports['user_score'].isna().sum())"
   ]
  },
  {
   "cell_type": "markdown",
   "metadata": {},
   "source": [
    "Соответственно, данных по жанру экшн гораздо больше, чем по жанру спорт. Очистка данных от пропусков все равно не позволит приблизить эти данные друг к другу по количеству.   \n",
    "Также выведем на экран основные статистические показатели:"
   ]
  },
  {
   "cell_type": "code",
   "execution_count": 38,
   "metadata": {},
   "outputs": [
    {
     "name": "stdout",
     "output_type": "stream",
     "text": [
      "Статистические параметры оценок юзеров игр в жанре Action\n"
     ]
    },
    {
     "data": {
      "text/plain": [
       "count   520.00\n",
       "mean      6.83\n",
       "std       1.37\n",
       "min       1.60\n",
       "25%       6.30\n",
       "50%       7.15\n",
       "75%       7.80\n",
       "max       9.10\n",
       "var       1.86\n",
       "Name: user_score, dtype: float64"
      ]
     },
     "metadata": {},
     "output_type": "display_data"
    },
    {
     "name": "stdout",
     "output_type": "stream",
     "text": [
      "Статистические параметры оценок юзеров игр в жанре Sports\n"
     ]
    },
    {
     "data": {
      "text/plain": [
       "count   194.00\n",
       "mean      5.47\n",
       "std       1.74\n",
       "min       0.20\n",
       "25%       4.30\n",
       "50%       5.75\n",
       "75%       6.80\n",
       "max       8.80\n",
       "var       3.02\n",
       "Name: user_score, dtype: float64"
      ]
     },
     "metadata": {},
     "output_type": "display_data"
    }
   ],
   "source": [
    "action = action.dropna(subset=['user_score'])\n",
    "action = action['user_score'].describe().T\n",
    "action['var'] = action['std'] ** 2\n",
    "print('Статистические параметры оценок юзеров игр в жанре Action')\n",
    "display(action)\n",
    "\n",
    "sports = sports.dropna(subset=['user_score'])\n",
    "sports = sports['user_score'].describe().T\n",
    "sports['var'] = sports['std'] ** 2\n",
    "print('Статистические параметры оценок юзеров игр в жанре Sports')\n",
    "display(sports)"
   ]
  },
  {
   "cell_type": "markdown",
   "metadata": {},
   "source": [
    "Срелняя пользовательская оценка игра в жанре экшн на 1,5 балла выше, чем у игр в жанре спорт. Дисперсии данных также сильно отличаются, учтём это при проверке гипотез.    \n",
    "\n",
    "Проверим гипотезы о равенстве среднего двух генеральных совокупностей по взятым из них выборкам, применив метод `scipy.stats.ttest_ind`:"
   ]
  },
  {
   "cell_type": "code",
   "execution_count": 39,
   "metadata": {},
   "outputs": [
    {
     "name": "stdout",
     "output_type": "stream",
     "text": [
      "p-значение: 5.1613574354387965e-20\n",
      "Отвергаем нулевую гипотезу\n"
     ]
    }
   ],
   "source": [
    "action = df.query('genre == \"Action\"')\n",
    "action = action.dropna(subset=['user_score'])\n",
    "action = action['user_score']\n",
    "sports = df.query('genre == \"Sports\"')\n",
    "sports = sports.dropna(subset=['user_score'])\n",
    "sports = sports['user_score']\n",
    "\n",
    "alpha = 0.01 # Установим в качестве критического уровеня статистической значимости 1%. Если если p-value \n",
    "             #окажется меньше него - отвергнем гипотезу\n",
    "\n",
    "results = st.ttest_ind(action, sports, equal_var = False) # Поскольку дисперсии двух выборок сильно отличаются, \n",
    "                                                          # установим False для параметра equal_var\n",
    "\n",
    "print('p-значение:', results.pvalue)\n",
    "\n",
    "if results.pvalue < alpha:\n",
    "    print('Отвергаем нулевую гипотезу')\n",
    "else:\n",
    "    print('Не получилось отвергнуть нулевую гипотезу') "
   ]
  },
  {
   "cell_type": "markdown",
   "metadata": {},
   "source": [
    "Таким образом, принять нулевую гипотезу о равенстве средней пользовательской оценки игр в жанрах экшн и спорт мы не можем, т.к. p-value менее критического уровня значимости. Поэтому в проведённом тесте равенство средней пользовательской оценки игр в жанрах экшн и спорт не подтвердилось."
   ]
  },
  {
   "cell_type": "markdown",
   "metadata": {},
   "source": [
    "### Выводы"
   ]
  },
  {
   "cell_type": "markdown",
   "metadata": {},
   "source": [
    "По итогам проверки гипотез мы пришли к следующим выводам:\n",
    "* значимые отличия между средними оценками пользователей РС и XOne не обнаружены;\n",
    "* основния для утверждения о равенстве средней пользовательской оценки игр в жанрах экшн и спорт отсутствуют."
   ]
  },
  {
   "cell_type": "markdown",
   "metadata": {},
   "source": [
    "## Общий вывод"
   ]
  },
  {
   "cell_type": "markdown",
   "metadata": {},
   "source": [
    "По результатам проведённого анализа можно сделать следующие выводы:\n",
    "* наиболее потенциально прибыльными платформами являются PS4 и XOne;\n",
    "* топ-5 платформ по продажам в 2012-2016 гг. являются PS3, PS4, XOne, X360 и 3DS;\n",
    "* корреляция между оценками пользователей и продажами на в топ-5 платформах отсутствует. Есть несильная зависимость между оценкой критиков и продажами, причём корреляция имеет положительную тенденцию - чем выше оценка критиков, тем выше будут продажи игры;\n",
    "* больше всего игр в 2012-2016 гг. выходило в жанре экшн, этот же жанр является наиболее продаваемым по общему количеству проданных копий. Однако медианное значение количества проданных копий на игру выше у шутеров, ролевых игр и спортивных игр;\n",
    "* пользователи в Европе, Северной Америке и Японии отличаются друг от друга по наболее популярной игровой платформе, жанру и возрастному рейтингу игр;\n",
    "* значимые отличия между средними оценками пользователей РС и XOne не обнаружены;\n",
    "* основния для утверждения о равенстве средней пользовательской оценки игр в жанрах экшн и спорт отсутствуют."
   ]
  }
 ],
 "metadata": {
  "ExecuteTimeLog": [
   {
    "duration": 1626,
    "start_time": "2021-12-22T15:13:25.480Z"
   },
   {
    "duration": 39,
    "start_time": "2021-12-22T15:14:24.460Z"
   },
   {
    "duration": 11,
    "start_time": "2021-12-22T15:15:57.708Z"
   },
   {
    "duration": 13,
    "start_time": "2021-12-22T15:17:39.848Z"
   },
   {
    "duration": 442,
    "start_time": "2021-12-22T15:34:08.096Z"
   },
   {
    "duration": 346,
    "start_time": "2021-12-22T15:34:13.411Z"
   },
   {
    "duration": 331,
    "start_time": "2021-12-22T15:34:23.655Z"
   },
   {
    "duration": 1091,
    "start_time": "2021-12-22T15:35:09.467Z"
   },
   {
    "duration": 326,
    "start_time": "2021-12-22T15:35:47.100Z"
   },
   {
    "duration": 470,
    "start_time": "2021-12-22T15:37:00.995Z"
   },
   {
    "duration": 356,
    "start_time": "2021-12-22T15:37:15.376Z"
   },
   {
    "duration": 592,
    "start_time": "2021-12-22T15:39:27.204Z"
   },
   {
    "duration": 364,
    "start_time": "2021-12-22T15:39:48.380Z"
   },
   {
    "duration": 383,
    "start_time": "2021-12-22T15:39:59.500Z"
   },
   {
    "duration": 356,
    "start_time": "2021-12-22T16:04:48.834Z"
   },
   {
    "duration": 337,
    "start_time": "2021-12-22T16:05:22.011Z"
   },
   {
    "duration": 342,
    "start_time": "2021-12-22T16:05:31.907Z"
   },
   {
    "duration": 404,
    "start_time": "2021-12-22T16:06:33.263Z"
   },
   {
    "duration": 363,
    "start_time": "2021-12-22T16:07:03.019Z"
   },
   {
    "duration": 337,
    "start_time": "2021-12-22T16:07:34.451Z"
   },
   {
    "duration": 334,
    "start_time": "2021-12-22T16:08:28.591Z"
   },
   {
    "duration": 331,
    "start_time": "2021-12-22T16:09:36.567Z"
   },
   {
    "duration": 353,
    "start_time": "2021-12-22T16:10:01.755Z"
   },
   {
    "duration": 5,
    "start_time": "2021-12-22T16:11:05.581Z"
   },
   {
    "duration": 39,
    "start_time": "2021-12-22T16:11:06.388Z"
   },
   {
    "duration": 11,
    "start_time": "2021-12-22T16:11:08.243Z"
   },
   {
    "duration": 12,
    "start_time": "2021-12-22T16:11:09.751Z"
   },
   {
    "duration": 8,
    "start_time": "2021-12-22T16:11:12.635Z"
   },
   {
    "duration": 9,
    "start_time": "2021-12-22T16:11:33.759Z"
   },
   {
    "duration": 8,
    "start_time": "2021-12-22T16:13:09.688Z"
   },
   {
    "duration": 4,
    "start_time": "2021-12-22T16:13:17.479Z"
   },
   {
    "duration": 36,
    "start_time": "2021-12-22T16:13:18.119Z"
   },
   {
    "duration": 10,
    "start_time": "2021-12-22T16:13:18.431Z"
   },
   {
    "duration": 11,
    "start_time": "2021-12-22T16:13:18.955Z"
   },
   {
    "duration": 7,
    "start_time": "2021-12-22T16:13:20.143Z"
   },
   {
    "duration": 6,
    "start_time": "2021-12-22T16:16:38.095Z"
   },
   {
    "duration": 7,
    "start_time": "2021-12-22T16:16:52.371Z"
   },
   {
    "duration": 9,
    "start_time": "2021-12-22T16:17:34.199Z"
   },
   {
    "duration": 353,
    "start_time": "2021-12-22T16:17:46.787Z"
   },
   {
    "duration": 4,
    "start_time": "2021-12-22T16:19:10.527Z"
   },
   {
    "duration": 6,
    "start_time": "2021-12-22T16:20:33.759Z"
   },
   {
    "duration": 8,
    "start_time": "2021-12-22T16:20:38.915Z"
   },
   {
    "duration": 2446,
    "start_time": "2021-12-22T16:20:44.551Z"
   },
   {
    "duration": 4,
    "start_time": "2021-12-22T16:21:24.144Z"
   },
   {
    "duration": 40,
    "start_time": "2021-12-22T16:21:24.451Z"
   },
   {
    "duration": 12,
    "start_time": "2021-12-22T16:21:24.791Z"
   },
   {
    "duration": 11,
    "start_time": "2021-12-22T16:21:25.287Z"
   },
   {
    "duration": 7,
    "start_time": "2021-12-22T16:21:26.656Z"
   },
   {
    "duration": 2,
    "start_time": "2021-12-22T16:21:26.847Z"
   },
   {
    "duration": 379,
    "start_time": "2021-12-22T16:21:27.407Z"
   },
   {
    "duration": 374,
    "start_time": "2021-12-22T16:23:06.871Z"
   },
   {
    "duration": 12,
    "start_time": "2021-12-22T16:23:32.463Z"
   },
   {
    "duration": 6,
    "start_time": "2021-12-22T16:24:52.280Z"
   },
   {
    "duration": 38,
    "start_time": "2021-12-22T16:24:52.595Z"
   },
   {
    "duration": 10,
    "start_time": "2021-12-22T16:24:52.932Z"
   },
   {
    "duration": 11,
    "start_time": "2021-12-22T16:24:53.443Z"
   },
   {
    "duration": 8,
    "start_time": "2021-12-22T16:24:54.583Z"
   },
   {
    "duration": 121,
    "start_time": "2021-12-22T16:24:55.139Z"
   },
   {
    "duration": 14,
    "start_time": "2021-12-22T16:25:30.243Z"
   },
   {
    "duration": 2457,
    "start_time": "2021-12-22T16:26:45.679Z"
   },
   {
    "duration": 5,
    "start_time": "2021-12-22T16:27:10.287Z"
   },
   {
    "duration": 38,
    "start_time": "2021-12-22T16:27:10.616Z"
   },
   {
    "duration": 11,
    "start_time": "2021-12-22T16:27:11.071Z"
   },
   {
    "duration": 11,
    "start_time": "2021-12-22T16:27:11.608Z"
   },
   {
    "duration": 9,
    "start_time": "2021-12-22T16:27:12.975Z"
   },
   {
    "duration": 350,
    "start_time": "2021-12-22T16:27:13.015Z"
   },
   {
    "duration": -68,
    "start_time": "2021-12-22T16:27:13.435Z"
   },
   {
    "duration": -71,
    "start_time": "2021-12-22T16:27:13.439Z"
   },
   {
    "duration": 2,
    "start_time": "2021-12-22T16:27:27.775Z"
   },
   {
    "duration": 105,
    "start_time": "2021-12-22T16:27:28.587Z"
   },
   {
    "duration": 13,
    "start_time": "2021-12-22T16:27:29.091Z"
   },
   {
    "duration": 8,
    "start_time": "2021-12-22T16:32:29.656Z"
   },
   {
    "duration": 2015,
    "start_time": "2021-12-22T20:12:28.259Z"
   },
   {
    "duration": 39,
    "start_time": "2021-12-22T20:12:30.276Z"
   },
   {
    "duration": 11,
    "start_time": "2021-12-22T20:12:30.317Z"
   },
   {
    "duration": 17,
    "start_time": "2021-12-22T20:12:30.382Z"
   },
   {
    "duration": 10,
    "start_time": "2021-12-22T20:12:33.498Z"
   },
   {
    "duration": 12,
    "start_time": "2021-12-22T20:14:02.115Z"
   },
   {
    "duration": 282,
    "start_time": "2021-12-22T20:17:16.918Z"
   },
   {
    "duration": 8,
    "start_time": "2021-12-22T20:17:32.471Z"
   },
   {
    "duration": 10,
    "start_time": "2021-12-22T20:19:50.235Z"
   },
   {
    "duration": 9,
    "start_time": "2021-12-22T20:20:26.475Z"
   },
   {
    "duration": 7,
    "start_time": "2021-12-22T20:25:15.696Z"
   },
   {
    "duration": 6,
    "start_time": "2021-12-22T20:25:49.970Z"
   },
   {
    "duration": 10,
    "start_time": "2021-12-22T20:26:59.318Z"
   },
   {
    "duration": 12,
    "start_time": "2021-12-22T20:36:33.106Z"
   },
   {
    "duration": 7,
    "start_time": "2021-12-22T20:38:29.682Z"
   },
   {
    "duration": 6,
    "start_time": "2021-12-22T20:39:16.178Z"
   },
   {
    "duration": 40,
    "start_time": "2021-12-22T20:39:16.934Z"
   },
   {
    "duration": 13,
    "start_time": "2021-12-22T20:39:17.850Z"
   },
   {
    "duration": 11,
    "start_time": "2021-12-22T20:39:18.841Z"
   },
   {
    "duration": 9,
    "start_time": "2021-12-22T20:39:20.259Z"
   },
   {
    "duration": 14,
    "start_time": "2021-12-22T20:39:21.005Z"
   },
   {
    "duration": 14,
    "start_time": "2021-12-22T20:39:22.638Z"
   },
   {
    "duration": 10,
    "start_time": "2021-12-22T20:39:29.709Z"
   },
   {
    "duration": 12,
    "start_time": "2021-12-22T20:40:14.233Z"
   },
   {
    "duration": 15,
    "start_time": "2021-12-22T20:43:19.889Z"
   },
   {
    "duration": 15,
    "start_time": "2021-12-22T20:43:55.474Z"
   },
   {
    "duration": 5,
    "start_time": "2021-12-22T20:44:05.382Z"
   },
   {
    "duration": 42,
    "start_time": "2021-12-22T20:44:05.698Z"
   },
   {
    "duration": 12,
    "start_time": "2021-12-22T20:44:06.011Z"
   },
   {
    "duration": 11,
    "start_time": "2021-12-22T20:44:06.490Z"
   },
   {
    "duration": 12,
    "start_time": "2021-12-22T20:44:07.582Z"
   },
   {
    "duration": 12,
    "start_time": "2021-12-22T20:44:07.939Z"
   },
   {
    "duration": 13,
    "start_time": "2021-12-22T20:44:08.698Z"
   },
   {
    "duration": 8,
    "start_time": "2021-12-22T20:44:09.118Z"
   },
   {
    "duration": 12,
    "start_time": "2021-12-22T20:44:09.405Z"
   },
   {
    "duration": 9,
    "start_time": "2021-12-22T20:44:09.686Z"
   },
   {
    "duration": 14,
    "start_time": "2021-12-22T20:44:10.734Z"
   },
   {
    "duration": 24,
    "start_time": "2021-12-22T20:45:52.642Z"
   },
   {
    "duration": 20,
    "start_time": "2021-12-22T20:48:23.969Z"
   },
   {
    "duration": 61,
    "start_time": "2021-12-22T20:50:15.729Z"
   },
   {
    "duration": 227,
    "start_time": "2021-12-22T20:50:28.218Z"
   },
   {
    "duration": 35,
    "start_time": "2021-12-22T20:50:48.959Z"
   },
   {
    "duration": 19,
    "start_time": "2021-12-22T20:51:47.073Z"
   },
   {
    "duration": 192,
    "start_time": "2021-12-22T20:51:57.938Z"
   },
   {
    "duration": 18,
    "start_time": "2021-12-22T20:56:15.390Z"
   },
   {
    "duration": 586,
    "start_time": "2021-12-22T20:56:37.566Z"
   },
   {
    "duration": 192,
    "start_time": "2021-12-22T20:59:27.477Z"
   },
   {
    "duration": 197,
    "start_time": "2021-12-22T21:00:35.334Z"
   },
   {
    "duration": 201,
    "start_time": "2021-12-22T21:00:43.434Z"
   },
   {
    "duration": 209,
    "start_time": "2021-12-22T21:01:01.673Z"
   },
   {
    "duration": 62,
    "start_time": "2021-12-22T21:10:16.081Z"
   },
   {
    "duration": 16,
    "start_time": "2021-12-22T21:10:21.833Z"
   },
   {
    "duration": 235,
    "start_time": "2021-12-22T21:13:55.249Z"
   },
   {
    "duration": 461,
    "start_time": "2021-12-22T21:22:27.036Z"
   },
   {
    "duration": 36,
    "start_time": "2021-12-22T21:22:44.108Z"
   },
   {
    "duration": 184,
    "start_time": "2021-12-22T21:23:13.840Z"
   },
   {
    "duration": 174,
    "start_time": "2021-12-22T21:23:50.628Z"
   },
   {
    "duration": 7,
    "start_time": "2021-12-22T21:24:40.296Z"
   },
   {
    "duration": 226,
    "start_time": "2021-12-22T21:26:52.785Z"
   },
   {
    "duration": 601,
    "start_time": "2021-12-22T21:29:14.076Z"
   },
   {
    "duration": 227,
    "start_time": "2021-12-22T21:30:08.928Z"
   },
   {
    "duration": 6,
    "start_time": "2021-12-22T21:31:35.156Z"
   },
   {
    "duration": 7,
    "start_time": "2021-12-22T21:42:02.831Z"
   },
   {
    "duration": 712,
    "start_time": "2021-12-22T21:46:10.447Z"
   },
   {
    "duration": 573,
    "start_time": "2021-12-22T21:46:29.504Z"
   },
   {
    "duration": 1470,
    "start_time": "2021-12-23T12:55:41.223Z"
   },
   {
    "duration": 115,
    "start_time": "2021-12-23T12:55:42.696Z"
   },
   {
    "duration": 17,
    "start_time": "2021-12-23T12:55:42.814Z"
   },
   {
    "duration": 19,
    "start_time": "2021-12-23T12:55:42.834Z"
   },
   {
    "duration": 11,
    "start_time": "2021-12-23T12:55:43.335Z"
   },
   {
    "duration": 12,
    "start_time": "2021-12-23T12:55:43.670Z"
   },
   {
    "duration": 18,
    "start_time": "2021-12-23T12:55:44.148Z"
   },
   {
    "duration": 11,
    "start_time": "2021-12-23T12:55:44.294Z"
   },
   {
    "duration": 15,
    "start_time": "2021-12-23T12:55:44.451Z"
   },
   {
    "duration": 11,
    "start_time": "2021-12-23T12:55:44.611Z"
   },
   {
    "duration": 24,
    "start_time": "2021-12-23T12:55:44.783Z"
   },
   {
    "duration": 23,
    "start_time": "2021-12-23T12:55:45.123Z"
   },
   {
    "duration": 11,
    "start_time": "2021-12-23T12:55:46.803Z"
   },
   {
    "duration": 14,
    "start_time": "2021-12-23T12:56:00.395Z"
   },
   {
    "duration": 1614,
    "start_time": "2021-12-23T17:33:47.175Z"
   },
   {
    "duration": 48,
    "start_time": "2021-12-23T17:33:48.792Z"
   },
   {
    "duration": 16,
    "start_time": "2021-12-23T17:33:48.843Z"
   },
   {
    "duration": 21,
    "start_time": "2021-12-23T17:33:49.891Z"
   },
   {
    "duration": 12,
    "start_time": "2021-12-23T17:33:53.700Z"
   },
   {
    "duration": 12,
    "start_time": "2021-12-23T17:33:56.540Z"
   },
   {
    "duration": 18,
    "start_time": "2021-12-23T17:33:59.836Z"
   },
   {
    "duration": 15,
    "start_time": "2021-12-23T17:34:01.159Z"
   },
   {
    "duration": 11,
    "start_time": "2021-12-23T17:34:01.640Z"
   },
   {
    "duration": 17,
    "start_time": "2021-12-23T17:34:02.880Z"
   },
   {
    "duration": 11,
    "start_time": "2021-12-23T17:34:03.047Z"
   },
   {
    "duration": 25,
    "start_time": "2021-12-23T17:34:03.583Z"
   },
   {
    "duration": 24,
    "start_time": "2021-12-23T17:34:04.147Z"
   },
   {
    "duration": 10,
    "start_time": "2021-12-23T17:34:05.585Z"
   },
   {
    "duration": 10,
    "start_time": "2021-12-23T17:34:06.468Z"
   },
   {
    "duration": 26,
    "start_time": "2021-12-23T17:35:29.332Z"
   },
   {
    "duration": 16,
    "start_time": "2021-12-23T17:35:46.756Z"
   },
   {
    "duration": 13,
    "start_time": "2021-12-23T17:36:15.440Z"
   },
   {
    "duration": 19,
    "start_time": "2021-12-23T17:36:51.251Z"
   },
   {
    "duration": 23,
    "start_time": "2021-12-23T17:37:52.412Z"
   },
   {
    "duration": 26,
    "start_time": "2021-12-23T17:38:27.832Z"
   },
   {
    "duration": 484,
    "start_time": "2021-12-23T18:07:53.820Z"
   },
   {
    "duration": 298,
    "start_time": "2021-12-23T18:09:17.384Z"
   },
   {
    "duration": 87,
    "start_time": "2021-12-23T18:11:20.784Z"
   },
   {
    "duration": 90,
    "start_time": "2021-12-23T18:11:26.956Z"
   },
   {
    "duration": 139,
    "start_time": "2021-12-23T18:12:29.468Z"
   },
   {
    "duration": 28,
    "start_time": "2021-12-23T18:13:04.340Z"
   },
   {
    "duration": 651,
    "start_time": "2021-12-23T18:13:31.416Z"
   },
   {
    "duration": 7737,
    "start_time": "2021-12-23T18:15:48.180Z"
   },
   {
    "duration": 322,
    "start_time": "2021-12-23T18:16:20.612Z"
   },
   {
    "duration": 262,
    "start_time": "2021-12-23T18:16:35.172Z"
   },
   {
    "duration": 615,
    "start_time": "2021-12-23T18:16:44.392Z"
   },
   {
    "duration": 6,
    "start_time": "2021-12-23T18:28:42.878Z"
   },
   {
    "duration": 50,
    "start_time": "2021-12-23T18:28:43.465Z"
   },
   {
    "duration": 19,
    "start_time": "2021-12-23T18:28:44.109Z"
   },
   {
    "duration": 17,
    "start_time": "2021-12-23T18:28:45.301Z"
   },
   {
    "duration": 17,
    "start_time": "2021-12-23T18:28:47.125Z"
   },
   {
    "duration": 15,
    "start_time": "2021-12-23T18:28:47.997Z"
   },
   {
    "duration": 20,
    "start_time": "2021-12-23T18:28:49.173Z"
   },
   {
    "duration": 11,
    "start_time": "2021-12-23T18:28:49.677Z"
   },
   {
    "duration": 16,
    "start_time": "2021-12-23T18:28:50.185Z"
   },
   {
    "duration": 13,
    "start_time": "2021-12-23T18:28:50.945Z"
   },
   {
    "duration": 21,
    "start_time": "2021-12-23T18:28:51.593Z"
   },
   {
    "duration": 23,
    "start_time": "2021-12-23T18:28:53.102Z"
   },
   {
    "duration": 10,
    "start_time": "2021-12-23T18:28:53.742Z"
   },
   {
    "duration": 11,
    "start_time": "2021-12-23T18:28:53.914Z"
   },
   {
    "duration": 15,
    "start_time": "2021-12-23T18:28:54.506Z"
   },
   {
    "duration": 635,
    "start_time": "2021-12-23T18:28:54.958Z"
   },
   {
    "duration": 337,
    "start_time": "2021-12-23T18:32:58.493Z"
   },
   {
    "duration": 385,
    "start_time": "2021-12-23T18:33:15.129Z"
   },
   {
    "duration": 279,
    "start_time": "2021-12-23T18:33:36.705Z"
   },
   {
    "duration": 103,
    "start_time": "2021-12-23T18:36:31.653Z"
   },
   {
    "duration": 271,
    "start_time": "2021-12-23T18:36:38.581Z"
   },
   {
    "duration": 520,
    "start_time": "2021-12-23T18:36:54.097Z"
   },
   {
    "duration": 307,
    "start_time": "2021-12-23T18:37:59.122Z"
   },
   {
    "duration": 279,
    "start_time": "2021-12-23T18:38:03.677Z"
   },
   {
    "duration": 536,
    "start_time": "2021-12-23T18:38:40.677Z"
   },
   {
    "duration": 6,
    "start_time": "2021-12-23T18:39:50.229Z"
   },
   {
    "duration": 52,
    "start_time": "2021-12-23T18:39:51.669Z"
   },
   {
    "duration": 15,
    "start_time": "2021-12-23T18:39:52.213Z"
   },
   {
    "duration": 16,
    "start_time": "2021-12-23T18:39:52.730Z"
   },
   {
    "duration": 12,
    "start_time": "2021-12-23T18:39:53.765Z"
   },
   {
    "duration": 13,
    "start_time": "2021-12-23T18:39:54.145Z"
   },
   {
    "duration": 15,
    "start_time": "2021-12-23T18:39:54.733Z"
   },
   {
    "duration": 10,
    "start_time": "2021-12-23T18:39:54.961Z"
   },
   {
    "duration": 17,
    "start_time": "2021-12-23T18:39:55.145Z"
   },
   {
    "duration": 12,
    "start_time": "2021-12-23T18:39:55.353Z"
   },
   {
    "duration": 20,
    "start_time": "2021-12-23T18:39:55.746Z"
   },
   {
    "duration": 24,
    "start_time": "2021-12-23T18:39:56.393Z"
   },
   {
    "duration": 9,
    "start_time": "2021-12-23T18:39:57.217Z"
   },
   {
    "duration": 11,
    "start_time": "2021-12-23T18:39:57.389Z"
   },
   {
    "duration": 12,
    "start_time": "2021-12-23T18:39:57.925Z"
   },
   {
    "duration": 285,
    "start_time": "2021-12-23T18:42:39.025Z"
   },
   {
    "duration": 276,
    "start_time": "2021-12-23T18:42:57.113Z"
   },
   {
    "duration": 295,
    "start_time": "2021-12-23T18:43:48.181Z"
   },
   {
    "duration": 324,
    "start_time": "2021-12-23T18:44:02.461Z"
   },
   {
    "duration": 853,
    "start_time": "2021-12-23T18:44:13.650Z"
   },
   {
    "duration": 280,
    "start_time": "2021-12-23T18:50:19.973Z"
   },
   {
    "duration": 294,
    "start_time": "2021-12-23T18:50:33.701Z"
   },
   {
    "duration": 98,
    "start_time": "2021-12-23T18:51:31.314Z"
   },
   {
    "duration": 278,
    "start_time": "2021-12-23T18:51:41.101Z"
   },
   {
    "duration": 274,
    "start_time": "2021-12-23T18:52:13.477Z"
   },
   {
    "duration": 299,
    "start_time": "2021-12-23T18:52:49.273Z"
   },
   {
    "duration": 757,
    "start_time": "2021-12-23T18:56:33.217Z"
   },
   {
    "duration": 775,
    "start_time": "2021-12-23T18:58:01.865Z"
   },
   {
    "duration": 769,
    "start_time": "2021-12-23T18:59:56.049Z"
   },
   {
    "duration": 86,
    "start_time": "2021-12-23T19:02:06.553Z"
   },
   {
    "duration": 846,
    "start_time": "2021-12-23T19:03:13.437Z"
   },
   {
    "duration": 483,
    "start_time": "2021-12-23T19:05:46.321Z"
   },
   {
    "duration": 721,
    "start_time": "2021-12-23T19:09:15.949Z"
   },
   {
    "duration": 710,
    "start_time": "2021-12-23T19:10:01.073Z"
   },
   {
    "duration": 1344,
    "start_time": "2021-12-23T19:10:18.218Z"
   },
   {
    "duration": 2050,
    "start_time": "2021-12-23T19:11:36.453Z"
   },
   {
    "duration": 1111,
    "start_time": "2021-12-23T19:11:49.573Z"
   },
   {
    "duration": 961,
    "start_time": "2021-12-23T19:12:07.005Z"
   },
   {
    "duration": 717,
    "start_time": "2021-12-23T19:14:43.625Z"
   },
   {
    "duration": 310,
    "start_time": "2021-12-23T19:19:56.894Z"
   },
   {
    "duration": 709,
    "start_time": "2021-12-23T19:20:12.178Z"
   },
   {
    "duration": 766,
    "start_time": "2021-12-23T19:20:36.434Z"
   },
   {
    "duration": 1135,
    "start_time": "2021-12-23T19:20:46.098Z"
   },
   {
    "duration": 843,
    "start_time": "2021-12-23T19:20:55.141Z"
   },
   {
    "duration": 1100,
    "start_time": "2021-12-23T19:21:04.578Z"
   },
   {
    "duration": 68,
    "start_time": "2021-12-23T19:29:27.822Z"
   },
   {
    "duration": 56,
    "start_time": "2021-12-23T19:30:19.802Z"
   },
   {
    "duration": 4,
    "start_time": "2021-12-23T19:48:32.854Z"
   },
   {
    "duration": 1205,
    "start_time": "2021-12-23T19:48:58.066Z"
   },
   {
    "duration": 5,
    "start_time": "2021-12-23T19:49:29.778Z"
   },
   {
    "duration": 1221,
    "start_time": "2021-12-23T19:49:32.730Z"
   },
   {
    "duration": 5,
    "start_time": "2021-12-23T19:50:07.466Z"
   },
   {
    "duration": 1140,
    "start_time": "2021-12-23T19:50:08.690Z"
   },
   {
    "duration": 4,
    "start_time": "2021-12-23T19:50:37.986Z"
   },
   {
    "duration": 1117,
    "start_time": "2021-12-23T19:50:39.232Z"
   },
   {
    "duration": 280,
    "start_time": "2021-12-23T19:50:55.106Z"
   },
   {
    "duration": 5,
    "start_time": "2021-12-23T19:50:58.349Z"
   },
   {
    "duration": 292,
    "start_time": "2021-12-23T19:50:58.849Z"
   },
   {
    "duration": 4,
    "start_time": "2021-12-23T19:51:06.490Z"
   },
   {
    "duration": 271,
    "start_time": "2021-12-23T19:51:06.922Z"
   },
   {
    "duration": 1160,
    "start_time": "2021-12-23T19:51:32.194Z"
   },
   {
    "duration": 6,
    "start_time": "2021-12-23T19:55:10.481Z"
   },
   {
    "duration": -1038,
    "start_time": "2021-12-23T19:58:15.509Z"
   },
   {
    "duration": -1041,
    "start_time": "2021-12-23T19:58:15.513Z"
   },
   {
    "duration": 110,
    "start_time": "2021-12-23T19:59:11.538Z"
   },
   {
    "duration": 109,
    "start_time": "2021-12-23T19:59:54.438Z"
   },
   {
    "duration": 5,
    "start_time": "2021-12-23T20:00:07.078Z"
   },
   {
    "duration": 615,
    "start_time": "2021-12-23T20:00:09.697Z"
   },
   {
    "duration": 6,
    "start_time": "2021-12-23T20:02:28.906Z"
   },
   {
    "duration": 396,
    "start_time": "2021-12-23T20:02:29.502Z"
   },
   {
    "duration": 7,
    "start_time": "2021-12-23T20:02:40.978Z"
   },
   {
    "duration": 290,
    "start_time": "2021-12-23T20:02:43.002Z"
   },
   {
    "duration": 6,
    "start_time": "2021-12-23T20:05:17.586Z"
   },
   {
    "duration": 295,
    "start_time": "2021-12-23T20:05:18.454Z"
   },
   {
    "duration": 5,
    "start_time": "2021-12-23T20:06:50.434Z"
   },
   {
    "duration": 403,
    "start_time": "2021-12-23T20:06:51.582Z"
   },
   {
    "duration": 6,
    "start_time": "2021-12-23T20:13:02.466Z"
   },
   {
    "duration": 560,
    "start_time": "2021-12-23T20:13:03.126Z"
   },
   {
    "duration": 6,
    "start_time": "2021-12-23T20:13:17.054Z"
   },
   {
    "duration": 287,
    "start_time": "2021-12-23T20:13:18.339Z"
   },
   {
    "duration": 280,
    "start_time": "2021-12-23T20:15:46.310Z"
   },
   {
    "duration": 567,
    "start_time": "2021-12-23T20:16:40.294Z"
   },
   {
    "duration": 547,
    "start_time": "2021-12-23T20:16:55.658Z"
   },
   {
    "duration": 7,
    "start_time": "2021-12-23T20:21:56.546Z"
   },
   {
    "duration": 291,
    "start_time": "2021-12-23T20:22:03.434Z"
   },
   {
    "duration": 1171,
    "start_time": "2021-12-23T20:23:23.374Z"
   },
   {
    "duration": 6,
    "start_time": "2021-12-23T20:23:48.878Z"
   },
   {
    "duration": 845,
    "start_time": "2021-12-23T20:23:49.916Z"
   },
   {
    "duration": 9,
    "start_time": "2021-12-23T20:25:17.354Z"
   },
   {
    "duration": 1317,
    "start_time": "2021-12-23T20:25:18.118Z"
   },
   {
    "duration": 9,
    "start_time": "2021-12-23T20:29:40.499Z"
   },
   {
    "duration": 1044,
    "start_time": "2021-12-23T20:29:41.179Z"
   },
   {
    "duration": 151,
    "start_time": "2021-12-23T20:31:42.118Z"
   },
   {
    "duration": 6667,
    "start_time": "2021-12-23T20:31:50.614Z"
   },
   {
    "duration": 7106,
    "start_time": "2021-12-23T20:33:08.722Z"
   },
   {
    "duration": 122,
    "start_time": "2021-12-23T20:35:21.502Z"
   },
   {
    "duration": 14,
    "start_time": "2021-12-23T20:35:29.826Z"
   },
   {
    "duration": 14,
    "start_time": "2021-12-23T20:35:47.146Z"
   },
   {
    "duration": 333,
    "start_time": "2021-12-23T20:36:00.554Z"
   },
   {
    "duration": 849,
    "start_time": "2021-12-23T20:42:13.571Z"
   },
   {
    "duration": 337,
    "start_time": "2021-12-23T20:42:30.571Z"
   },
   {
    "duration": 8,
    "start_time": "2021-12-23T20:42:46.882Z"
   },
   {
    "duration": 923,
    "start_time": "2021-12-23T20:42:47.798Z"
   },
   {
    "duration": 11,
    "start_time": "2021-12-23T20:47:16.090Z"
   },
   {
    "duration": 7,
    "start_time": "2021-12-23T20:51:52.594Z"
   },
   {
    "duration": 925,
    "start_time": "2021-12-23T20:52:03.706Z"
   },
   {
    "duration": 877,
    "start_time": "2021-12-23T20:52:21.970Z"
   },
   {
    "duration": 7,
    "start_time": "2021-12-23T20:54:13.658Z"
   },
   {
    "duration": 7,
    "start_time": "2021-12-23T20:54:15.158Z"
   },
   {
    "duration": 934,
    "start_time": "2021-12-23T20:54:15.662Z"
   },
   {
    "duration": 329,
    "start_time": "2021-12-23T20:56:14.671Z"
   },
   {
    "duration": 81,
    "start_time": "2021-12-23T20:56:55.246Z"
   },
   {
    "duration": 250,
    "start_time": "2021-12-23T20:57:04.308Z"
   },
   {
    "duration": 454,
    "start_time": "2021-12-23T20:57:23.722Z"
   },
   {
    "duration": 114,
    "start_time": "2021-12-23T20:57:39.546Z"
   },
   {
    "duration": 7,
    "start_time": "2021-12-23T20:58:18.086Z"
   },
   {
    "duration": 953,
    "start_time": "2021-12-23T20:59:42.426Z"
   },
   {
    "duration": 86,
    "start_time": "2021-12-23T21:00:31.095Z"
   },
   {
    "duration": 14,
    "start_time": "2021-12-23T21:00:41.262Z"
   },
   {
    "duration": 7,
    "start_time": "2021-12-23T21:02:21.560Z"
   },
   {
    "duration": 944,
    "start_time": "2021-12-23T21:02:24.190Z"
   },
   {
    "duration": 6,
    "start_time": "2021-12-23T21:16:48.956Z"
   },
   {
    "duration": 878,
    "start_time": "2021-12-23T21:16:50.594Z"
   },
   {
    "duration": 7,
    "start_time": "2021-12-23T21:17:34.558Z"
   },
   {
    "duration": 7,
    "start_time": "2021-12-23T21:17:43.760Z"
   },
   {
    "duration": 920,
    "start_time": "2021-12-23T21:17:44.732Z"
   },
   {
    "duration": 9,
    "start_time": "2021-12-23T21:23:46.060Z"
   },
   {
    "duration": 34,
    "start_time": "2021-12-23T21:24:43.828Z"
   },
   {
    "duration": 8,
    "start_time": "2021-12-23T21:26:38.180Z"
   },
   {
    "duration": 8,
    "start_time": "2021-12-23T21:26:46.312Z"
   },
   {
    "duration": 9,
    "start_time": "2021-12-23T21:27:15.140Z"
   },
   {
    "duration": 30,
    "start_time": "2021-12-23T21:27:18.128Z"
   },
   {
    "duration": 15,
    "start_time": "2021-12-23T21:28:51.865Z"
   },
   {
    "duration": 278,
    "start_time": "2021-12-23T21:32:50.428Z"
   },
   {
    "duration": 3764,
    "start_time": "2021-12-23T21:32:56.220Z"
   },
   {
    "duration": 154,
    "start_time": "2021-12-23T21:33:39.972Z"
   },
   {
    "duration": 3256,
    "start_time": "2021-12-23T21:33:44.148Z"
   },
   {
    "duration": 17,
    "start_time": "2021-12-23T21:35:28.212Z"
   },
   {
    "duration": 293,
    "start_time": "2021-12-23T21:37:40.488Z"
   },
   {
    "duration": 297,
    "start_time": "2021-12-23T21:37:52.712Z"
   },
   {
    "duration": 22,
    "start_time": "2021-12-23T21:38:53.652Z"
   },
   {
    "duration": 18,
    "start_time": "2021-12-23T21:39:30.272Z"
   },
   {
    "duration": 31,
    "start_time": "2021-12-23T21:40:23.192Z"
   },
   {
    "duration": 23,
    "start_time": "2021-12-23T21:43:08.792Z"
   },
   {
    "duration": 18,
    "start_time": "2021-12-23T21:45:49.017Z"
   },
   {
    "duration": 33,
    "start_time": "2021-12-23T21:47:50.444Z"
   },
   {
    "duration": 24,
    "start_time": "2021-12-23T21:49:55.087Z"
   },
   {
    "duration": 1123,
    "start_time": "2021-12-24T12:14:24.022Z"
   },
   {
    "duration": 38,
    "start_time": "2021-12-24T12:14:25.146Z"
   },
   {
    "duration": 11,
    "start_time": "2021-12-24T12:14:26.354Z"
   },
   {
    "duration": 13,
    "start_time": "2021-12-24T12:14:27.626Z"
   },
   {
    "duration": 8,
    "start_time": "2021-12-24T12:14:29.750Z"
   },
   {
    "duration": 11,
    "start_time": "2021-12-24T12:14:30.550Z"
   },
   {
    "duration": 12,
    "start_time": "2021-12-24T12:14:33.946Z"
   },
   {
    "duration": 8,
    "start_time": "2021-12-24T12:14:34.561Z"
   },
   {
    "duration": 13,
    "start_time": "2021-12-24T12:14:34.942Z"
   },
   {
    "duration": 11,
    "start_time": "2021-12-24T12:14:35.442Z"
   },
   {
    "duration": 16,
    "start_time": "2021-12-24T12:14:36.034Z"
   },
   {
    "duration": 16,
    "start_time": "2021-12-24T12:14:37.150Z"
   },
   {
    "duration": 7,
    "start_time": "2021-12-24T12:14:38.722Z"
   },
   {
    "duration": 8,
    "start_time": "2021-12-24T12:14:47.442Z"
   },
   {
    "duration": 7,
    "start_time": "2021-12-24T12:14:48.018Z"
   },
   {
    "duration": 479,
    "start_time": "2021-12-24T12:14:49.527Z"
   },
   {
    "duration": 445,
    "start_time": "2021-12-24T12:14:51.698Z"
   },
   {
    "duration": 468,
    "start_time": "2021-12-24T12:15:07.606Z"
   },
   {
    "duration": 478,
    "start_time": "2021-12-24T12:17:52.862Z"
   },
   {
    "duration": 487,
    "start_time": "2021-12-24T12:18:01.958Z"
   },
   {
    "duration": 609,
    "start_time": "2021-12-24T12:19:46.166Z"
   },
   {
    "duration": 822,
    "start_time": "2021-12-24T12:19:56.822Z"
   },
   {
    "duration": 553,
    "start_time": "2021-12-24T12:20:15.678Z"
   },
   {
    "duration": 560,
    "start_time": "2021-12-24T12:20:41.099Z"
   },
   {
    "duration": 73,
    "start_time": "2021-12-24T12:20:58.615Z"
   },
   {
    "duration": 585,
    "start_time": "2021-12-24T12:21:04.130Z"
   },
   {
    "duration": 541,
    "start_time": "2021-12-24T12:21:15.627Z"
   },
   {
    "duration": 542,
    "start_time": "2021-12-24T12:21:24.386Z"
   },
   {
    "duration": 685,
    "start_time": "2021-12-24T12:23:56.710Z"
   },
   {
    "duration": 885,
    "start_time": "2021-12-24T12:24:09.238Z"
   },
   {
    "duration": 464,
    "start_time": "2021-12-24T12:24:17.198Z"
   },
   {
    "duration": 4,
    "start_time": "2021-12-24T12:48:34.010Z"
   },
   {
    "duration": 6,
    "start_time": "2021-12-24T12:49:43.999Z"
   },
   {
    "duration": 376,
    "start_time": "2021-12-24T12:49:50.686Z"
   },
   {
    "duration": 5,
    "start_time": "2021-12-24T12:50:21.070Z"
   },
   {
    "duration": 460,
    "start_time": "2021-12-24T12:50:21.566Z"
   },
   {
    "duration": 5,
    "start_time": "2021-12-24T12:52:38.118Z"
   },
   {
    "duration": 5287,
    "start_time": "2021-12-24T12:52:38.946Z"
   },
   {
    "duration": 7,
    "start_time": "2021-12-24T12:53:04.091Z"
   },
   {
    "duration": 5394,
    "start_time": "2021-12-24T12:53:08.483Z"
   },
   {
    "duration": 5,
    "start_time": "2021-12-24T12:56:01.514Z"
   },
   {
    "duration": 5944,
    "start_time": "2021-12-24T12:56:01.863Z"
   },
   {
    "duration": 549,
    "start_time": "2021-12-24T13:07:47.432Z"
   },
   {
    "duration": 550,
    "start_time": "2021-12-24T13:08:07.299Z"
   },
   {
    "duration": 521,
    "start_time": "2021-12-24T13:09:11.700Z"
   },
   {
    "duration": 11,
    "start_time": "2021-12-24T13:11:01.201Z"
   },
   {
    "duration": 5,
    "start_time": "2021-12-24T13:11:14.324Z"
   },
   {
    "duration": 67,
    "start_time": "2021-12-24T13:16:32.043Z"
   },
   {
    "duration": 69,
    "start_time": "2021-12-24T13:16:40.679Z"
   },
   {
    "duration": 2377,
    "start_time": "2021-12-24T13:16:47.480Z"
   },
   {
    "duration": 5530,
    "start_time": "2021-12-24T13:18:43.172Z"
   },
   {
    "duration": 4,
    "start_time": "2021-12-24T13:19:47.465Z"
   },
   {
    "duration": 5558,
    "start_time": "2021-12-24T13:19:56.223Z"
   },
   {
    "duration": 5,
    "start_time": "2021-12-24T16:34:21.113Z"
   },
   {
    "duration": 39,
    "start_time": "2021-12-24T16:34:21.898Z"
   },
   {
    "duration": 12,
    "start_time": "2021-12-24T16:34:22.703Z"
   },
   {
    "duration": 16,
    "start_time": "2021-12-24T16:34:23.989Z"
   },
   {
    "duration": 10,
    "start_time": "2021-12-24T16:34:26.085Z"
   },
   {
    "duration": 10,
    "start_time": "2021-12-24T16:34:26.461Z"
   },
   {
    "duration": 12,
    "start_time": "2021-12-24T16:34:26.985Z"
   },
   {
    "duration": 15,
    "start_time": "2021-12-24T16:34:27.161Z"
   },
   {
    "duration": 10,
    "start_time": "2021-12-24T16:34:27.370Z"
   },
   {
    "duration": 8,
    "start_time": "2021-12-24T16:34:27.570Z"
   },
   {
    "duration": 14,
    "start_time": "2021-12-24T16:34:27.749Z"
   },
   {
    "duration": 25,
    "start_time": "2021-12-24T16:34:28.082Z"
   },
   {
    "duration": 7,
    "start_time": "2021-12-24T16:34:28.581Z"
   },
   {
    "duration": 6,
    "start_time": "2021-12-24T16:34:28.770Z"
   },
   {
    "duration": 8,
    "start_time": "2021-12-24T16:34:28.941Z"
   },
   {
    "duration": 493,
    "start_time": "2021-12-24T16:34:29.153Z"
   },
   {
    "duration": 499,
    "start_time": "2021-12-24T16:34:29.648Z"
   },
   {
    "duration": 542,
    "start_time": "2021-12-24T16:34:30.149Z"
   },
   {
    "duration": 5486,
    "start_time": "2021-12-24T16:34:30.694Z"
   },
   {
    "duration": 10,
    "start_time": "2021-12-24T16:36:38.002Z"
   },
   {
    "duration": 12,
    "start_time": "2021-12-24T16:37:00.998Z"
   },
   {
    "duration": 10,
    "start_time": "2021-12-24T16:37:09.049Z"
   },
   {
    "duration": 12,
    "start_time": "2021-12-24T16:38:58.213Z"
   },
   {
    "duration": 1272,
    "start_time": "2021-12-24T16:44:38.177Z"
   },
   {
    "duration": 1221,
    "start_time": "2021-12-24T16:44:54.025Z"
   },
   {
    "duration": 8,
    "start_time": "2021-12-24T16:45:43.261Z"
   },
   {
    "duration": 13,
    "start_time": "2021-12-24T16:45:53.781Z"
   },
   {
    "duration": 9,
    "start_time": "2021-12-24T17:19:01.907Z"
   },
   {
    "duration": 387,
    "start_time": "2021-12-24T18:08:05.136Z"
   },
   {
    "duration": 7,
    "start_time": "2021-12-24T18:08:40.412Z"
   },
   {
    "duration": 38,
    "start_time": "2021-12-24T18:08:41.051Z"
   },
   {
    "duration": 11,
    "start_time": "2021-12-24T18:08:41.520Z"
   },
   {
    "duration": 11,
    "start_time": "2021-12-24T18:08:42.019Z"
   },
   {
    "duration": 8,
    "start_time": "2021-12-24T18:08:43.060Z"
   },
   {
    "duration": 11,
    "start_time": "2021-12-24T18:08:43.419Z"
   },
   {
    "duration": 11,
    "start_time": "2021-12-24T18:08:44.807Z"
   },
   {
    "duration": 12,
    "start_time": "2021-12-24T18:08:45.396Z"
   },
   {
    "duration": 13,
    "start_time": "2021-12-24T18:08:47.701Z"
   },
   {
    "duration": 9,
    "start_time": "2021-12-24T18:08:48.075Z"
   },
   {
    "duration": 14,
    "start_time": "2021-12-24T18:08:48.604Z"
   },
   {
    "duration": 19,
    "start_time": "2021-12-24T18:08:49.196Z"
   },
   {
    "duration": 390,
    "start_time": "2021-12-24T18:08:50.532Z"
   },
   {
    "duration": 382,
    "start_time": "2021-12-24T18:09:12.868Z"
   },
   {
    "duration": 182,
    "start_time": "2021-12-24T18:12:33.832Z"
   },
   {
    "duration": 560,
    "start_time": "2021-12-24T18:14:31.804Z"
   },
   {
    "duration": 5,
    "start_time": "2021-12-24T18:18:25.184Z"
   },
   {
    "duration": 580,
    "start_time": "2021-12-24T18:18:28.881Z"
   },
   {
    "duration": 179,
    "start_time": "2021-12-24T18:19:22.444Z"
   },
   {
    "duration": 682,
    "start_time": "2021-12-24T18:20:10.100Z"
   },
   {
    "duration": 8,
    "start_time": "2021-12-24T18:20:46.675Z"
   },
   {
    "duration": 10,
    "start_time": "2021-12-24T18:20:48.196Z"
   },
   {
    "duration": 514,
    "start_time": "2021-12-24T18:20:51.780Z"
   },
   {
    "duration": 12,
    "start_time": "2021-12-24T18:23:21.324Z"
   },
   {
    "duration": 7,
    "start_time": "2021-12-24T18:23:45.652Z"
   },
   {
    "duration": 479,
    "start_time": "2021-12-24T18:23:50.876Z"
   },
   {
    "duration": 640,
    "start_time": "2021-12-24T18:24:14.292Z"
   },
   {
    "duration": 190,
    "start_time": "2021-12-24T18:24:37.916Z"
   },
   {
    "duration": 200,
    "start_time": "2021-12-24T18:24:45.444Z"
   },
   {
    "duration": 659,
    "start_time": "2021-12-24T18:25:17.248Z"
   },
   {
    "duration": 553,
    "start_time": "2021-12-24T18:26:54.487Z"
   },
   {
    "duration": 59,
    "start_time": "2021-12-24T18:27:07.292Z"
   },
   {
    "duration": 506,
    "start_time": "2021-12-24T18:27:16.124Z"
   },
   {
    "duration": 529,
    "start_time": "2021-12-24T18:27:24.420Z"
   },
   {
    "duration": 10,
    "start_time": "2021-12-24T18:29:10.036Z"
   },
   {
    "duration": 5454,
    "start_time": "2021-12-24T18:40:14.936Z"
   },
   {
    "duration": 11,
    "start_time": "2021-12-24T18:42:04.352Z"
   },
   {
    "duration": 193,
    "start_time": "2021-12-24T18:45:27.336Z"
   },
   {
    "duration": 9,
    "start_time": "2021-12-24T18:46:03.280Z"
   },
   {
    "duration": 68,
    "start_time": "2021-12-24T18:47:46.880Z"
   },
   {
    "duration": 194,
    "start_time": "2021-12-24T18:47:53.516Z"
   },
   {
    "duration": 10,
    "start_time": "2021-12-24T18:49:04.620Z"
   },
   {
    "duration": 11,
    "start_time": "2021-12-24T18:49:37.020Z"
   },
   {
    "duration": 23,
    "start_time": "2021-12-24T18:49:44.392Z"
   },
   {
    "duration": 177,
    "start_time": "2021-12-24T18:52:44.360Z"
   },
   {
    "duration": 2519,
    "start_time": "2021-12-24T18:55:18.632Z"
   },
   {
    "duration": 2780,
    "start_time": "2021-12-24T18:55:56.880Z"
   },
   {
    "duration": 515,
    "start_time": "2021-12-24T18:57:48.204Z"
   },
   {
    "duration": 2466,
    "start_time": "2021-12-24T18:58:08.040Z"
   },
   {
    "duration": 462,
    "start_time": "2021-12-24T18:59:35.832Z"
   },
   {
    "duration": 3294,
    "start_time": "2021-12-24T19:01:02.776Z"
   },
   {
    "duration": 3036,
    "start_time": "2021-12-24T19:02:38.456Z"
   },
   {
    "duration": 3185,
    "start_time": "2021-12-24T19:04:16.900Z"
   },
   {
    "duration": 45,
    "start_time": "2021-12-24T19:04:52.548Z"
   },
   {
    "duration": 359,
    "start_time": "2021-12-24T19:10:57.116Z"
   },
   {
    "duration": 185,
    "start_time": "2021-12-24T19:14:46.735Z"
   },
   {
    "duration": 55,
    "start_time": "2021-12-24T19:14:57.874Z"
   },
   {
    "duration": 10,
    "start_time": "2021-12-24T19:15:06.691Z"
   },
   {
    "duration": 10,
    "start_time": "2021-12-24T19:16:32.900Z"
   },
   {
    "duration": 5,
    "start_time": "2021-12-24T19:18:04.691Z"
   },
   {
    "duration": 35,
    "start_time": "2021-12-24T19:18:07.223Z"
   },
   {
    "duration": 11,
    "start_time": "2021-12-24T19:18:08.099Z"
   },
   {
    "duration": 11,
    "start_time": "2021-12-24T19:18:09.599Z"
   },
   {
    "duration": 8,
    "start_time": "2021-12-24T19:18:11.831Z"
   },
   {
    "duration": 10,
    "start_time": "2021-12-24T19:18:12.765Z"
   },
   {
    "duration": 11,
    "start_time": "2021-12-24T19:18:14.591Z"
   },
   {
    "duration": 8,
    "start_time": "2021-12-24T19:18:15.088Z"
   },
   {
    "duration": 11,
    "start_time": "2021-12-24T19:18:15.727Z"
   },
   {
    "duration": 9,
    "start_time": "2021-12-24T19:18:16.319Z"
   },
   {
    "duration": 14,
    "start_time": "2021-12-24T19:18:16.819Z"
   },
   {
    "duration": 18,
    "start_time": "2021-12-24T19:18:18.855Z"
   },
   {
    "duration": 590,
    "start_time": "2021-12-24T19:18:21.516Z"
   },
   {
    "duration": 580,
    "start_time": "2021-12-24T19:18:26.307Z"
   },
   {
    "duration": 8,
    "start_time": "2021-12-24T19:18:34.359Z"
   },
   {
    "duration": 9,
    "start_time": "2021-12-24T19:18:39.015Z"
   },
   {
    "duration": 510,
    "start_time": "2021-12-24T19:18:44.795Z"
   },
   {
    "duration": 10,
    "start_time": "2021-12-24T19:18:58.203Z"
   },
   {
    "duration": 13,
    "start_time": "2021-12-24T19:19:06.331Z"
   },
   {
    "duration": 7,
    "start_time": "2021-12-24T19:19:37.551Z"
   },
   {
    "duration": 8,
    "start_time": "2021-12-24T19:20:27.827Z"
   },
   {
    "duration": 481,
    "start_time": "2021-12-24T19:20:32.239Z"
   },
   {
    "duration": 10,
    "start_time": "2021-12-24T19:20:34.631Z"
   },
   {
    "duration": 12,
    "start_time": "2021-12-24T19:20:34.871Z"
   },
   {
    "duration": 7,
    "start_time": "2021-12-24T19:20:36.111Z"
   },
   {
    "duration": 422,
    "start_time": "2021-12-24T19:20:39.271Z"
   },
   {
    "duration": 510,
    "start_time": "2021-12-24T19:24:24.511Z"
   },
   {
    "duration": 490,
    "start_time": "2021-12-24T19:24:40.839Z"
   },
   {
    "duration": 36,
    "start_time": "2021-12-24T19:24:56.576Z"
   },
   {
    "duration": 362,
    "start_time": "2021-12-24T19:25:00.543Z"
   },
   {
    "duration": 10,
    "start_time": "2021-12-24T19:25:03.691Z"
   },
   {
    "duration": 10,
    "start_time": "2021-12-24T19:25:04.983Z"
   },
   {
    "duration": 5,
    "start_time": "2021-12-24T19:25:07.755Z"
   },
   {
    "duration": 730,
    "start_time": "2021-12-24T19:25:12.463Z"
   },
   {
    "duration": 4,
    "start_time": "2021-12-24T19:25:16.179Z"
   },
   {
    "duration": 629,
    "start_time": "2021-12-24T19:25:37.787Z"
   },
   {
    "duration": 6,
    "start_time": "2021-12-24T19:25:48.247Z"
   },
   {
    "duration": 61,
    "start_time": "2021-12-24T19:25:53.624Z"
   },
   {
    "duration": 181,
    "start_time": "2021-12-24T19:26:11.363Z"
   },
   {
    "duration": 4,
    "start_time": "2021-12-24T19:26:19.148Z"
   },
   {
    "duration": 600,
    "start_time": "2021-12-24T19:26:21.583Z"
   },
   {
    "duration": 12,
    "start_time": "2021-12-24T19:26:30.696Z"
   },
   {
    "duration": 22,
    "start_time": "2021-12-24T19:26:46.335Z"
   },
   {
    "duration": 17,
    "start_time": "2021-12-24T19:26:51.407Z"
   },
   {
    "duration": 12,
    "start_time": "2021-12-24T19:26:56.967Z"
   },
   {
    "duration": 21,
    "start_time": "2021-12-24T19:26:57.927Z"
   },
   {
    "duration": 15,
    "start_time": "2021-12-24T19:26:58.943Z"
   },
   {
    "duration": 12,
    "start_time": "2021-12-24T19:28:37.129Z"
   },
   {
    "duration": 8,
    "start_time": "2021-12-24T19:30:03.417Z"
   },
   {
    "duration": 6,
    "start_time": "2021-12-24T19:30:12.181Z"
   },
   {
    "duration": 5,
    "start_time": "2021-12-24T19:30:48.249Z"
   },
   {
    "duration": 36,
    "start_time": "2021-12-24T19:30:49.293Z"
   },
   {
    "duration": 11,
    "start_time": "2021-12-24T19:30:49.921Z"
   },
   {
    "duration": 11,
    "start_time": "2021-12-24T19:30:52.249Z"
   },
   {
    "duration": 6061,
    "start_time": "2021-12-24T19:31:01.493Z"
   },
   {
    "duration": 9,
    "start_time": "2021-12-24T19:31:16.745Z"
   },
   {
    "duration": 6,
    "start_time": "2021-12-24T19:31:22.448Z"
   },
   {
    "duration": 10,
    "start_time": "2021-12-24T19:31:30.205Z"
   },
   {
    "duration": 10,
    "start_time": "2021-12-24T19:31:32.969Z"
   },
   {
    "duration": 6,
    "start_time": "2021-12-24T19:31:35.681Z"
   },
   {
    "duration": 9,
    "start_time": "2021-12-24T19:34:50.249Z"
   },
   {
    "duration": 181,
    "start_time": "2021-12-24T19:35:17.833Z"
   },
   {
    "duration": 6,
    "start_time": "2021-12-24T19:35:51.409Z"
   },
   {
    "duration": 5,
    "start_time": "2021-12-24T19:35:59.349Z"
   },
   {
    "duration": 8,
    "start_time": "2021-12-24T19:36:01.133Z"
   },
   {
    "duration": 11,
    "start_time": "2021-12-24T19:36:21.669Z"
   },
   {
    "duration": 6,
    "start_time": "2021-12-24T19:36:28.921Z"
   },
   {
    "duration": 10,
    "start_time": "2021-12-24T19:36:49.589Z"
   },
   {
    "duration": 58,
    "start_time": "2021-12-24T19:37:46.326Z"
   },
   {
    "duration": 8,
    "start_time": "2021-12-24T19:37:46.781Z"
   },
   {
    "duration": 8,
    "start_time": "2021-12-24T19:38:10.157Z"
   },
   {
    "duration": 14,
    "start_time": "2021-12-24T19:39:56.141Z"
   },
   {
    "duration": 15,
    "start_time": "2021-12-24T19:40:02.205Z"
   },
   {
    "duration": 571,
    "start_time": "2021-12-24T19:45:26.853Z"
   },
   {
    "duration": 6,
    "start_time": "2021-12-24T19:51:58.789Z"
   },
   {
    "duration": 9,
    "start_time": "2021-12-24T19:52:14.429Z"
   },
   {
    "duration": 498,
    "start_time": "2021-12-24T19:58:12.612Z"
   },
   {
    "duration": 951,
    "start_time": "2021-12-24T20:08:19.049Z"
   },
   {
    "duration": 20,
    "start_time": "2021-12-24T20:08:26.977Z"
   },
   {
    "duration": 7,
    "start_time": "2021-12-24T20:18:38.994Z"
   },
   {
    "duration": 444,
    "start_time": "2021-12-24T20:19:39.325Z"
   },
   {
    "duration": 473,
    "start_time": "2021-12-24T20:20:09.825Z"
   },
   {
    "duration": 446,
    "start_time": "2021-12-24T20:20:19.133Z"
   },
   {
    "duration": 455,
    "start_time": "2021-12-24T20:26:47.325Z"
   },
   {
    "duration": 647,
    "start_time": "2021-12-24T20:29:52.237Z"
   },
   {
    "duration": 54,
    "start_time": "2021-12-24T20:31:35.041Z"
   },
   {
    "duration": 1741,
    "start_time": "2021-12-24T20:35:54.098Z"
   },
   {
    "duration": 1315,
    "start_time": "2021-12-24T20:36:07.389Z"
   },
   {
    "duration": 1240,
    "start_time": "2021-12-24T20:38:11.077Z"
   },
   {
    "duration": 1033,
    "start_time": "2021-12-24T20:38:38.525Z"
   },
   {
    "duration": 1129,
    "start_time": "2021-12-24T20:39:12.613Z"
   },
   {
    "duration": 1483,
    "start_time": "2021-12-24T20:41:03.873Z"
   },
   {
    "duration": 980,
    "start_time": "2021-12-24T20:41:40.989Z"
   },
   {
    "duration": 1074,
    "start_time": "2021-12-24T20:42:21.377Z"
   },
   {
    "duration": 61,
    "start_time": "2021-12-24T20:47:31.009Z"
   },
   {
    "duration": 87,
    "start_time": "2021-12-24T20:47:41.021Z"
   },
   {
    "duration": 734,
    "start_time": "2021-12-24T20:47:54.594Z"
   },
   {
    "duration": 691,
    "start_time": "2021-12-24T20:48:35.753Z"
   },
   {
    "duration": 695,
    "start_time": "2021-12-24T20:48:47.637Z"
   },
   {
    "duration": 650,
    "start_time": "2021-12-24T20:49:01.628Z"
   },
   {
    "duration": 732,
    "start_time": "2021-12-24T20:49:09.559Z"
   },
   {
    "duration": 676,
    "start_time": "2021-12-24T20:49:38.416Z"
   },
   {
    "duration": 801,
    "start_time": "2021-12-24T20:49:52.320Z"
   },
   {
    "duration": 775,
    "start_time": "2021-12-24T20:50:40.598Z"
   },
   {
    "duration": 1070,
    "start_time": "2021-12-25T07:27:30.023Z"
   },
   {
    "duration": 39,
    "start_time": "2021-12-25T07:27:32.155Z"
   },
   {
    "duration": 11,
    "start_time": "2021-12-25T07:27:32.891Z"
   },
   {
    "duration": 14,
    "start_time": "2021-12-25T07:27:34.055Z"
   },
   {
    "duration": 9,
    "start_time": "2021-12-25T07:27:35.295Z"
   },
   {
    "duration": 10,
    "start_time": "2021-12-25T07:27:36.171Z"
   },
   {
    "duration": 11,
    "start_time": "2021-12-25T07:27:37.161Z"
   },
   {
    "duration": 5,
    "start_time": "2021-12-25T07:27:37.915Z"
   },
   {
    "duration": 7,
    "start_time": "2021-12-25T07:27:38.511Z"
   },
   {
    "duration": 10,
    "start_time": "2021-12-25T07:27:39.547Z"
   },
   {
    "duration": 8,
    "start_time": "2021-12-25T07:27:40.375Z"
   },
   {
    "duration": 16,
    "start_time": "2021-12-25T07:27:41.131Z"
   },
   {
    "duration": 14,
    "start_time": "2021-12-25T07:27:41.899Z"
   },
   {
    "duration": 501,
    "start_time": "2021-12-25T07:27:44.383Z"
   },
   {
    "duration": 11,
    "start_time": "2021-12-25T07:27:46.786Z"
   },
   {
    "duration": 427,
    "start_time": "2021-12-25T07:27:51.327Z"
   },
   {
    "duration": 19,
    "start_time": "2021-12-25T07:27:59.779Z"
   },
   {
    "duration": 6,
    "start_time": "2021-12-25T07:28:03.127Z"
   },
   {
    "duration": 362,
    "start_time": "2021-12-25T07:28:04.627Z"
   },
   {
    "duration": 718,
    "start_time": "2021-12-25T07:28:08.323Z"
   },
   {
    "duration": 644,
    "start_time": "2021-12-25T07:34:15.266Z"
   },
   {
    "duration": 678,
    "start_time": "2021-12-25T07:34:28.350Z"
   },
   {
    "duration": 668,
    "start_time": "2021-12-25T07:34:45.762Z"
   },
   {
    "duration": 33,
    "start_time": "2021-12-25T07:38:20.971Z"
   },
   {
    "duration": 1429,
    "start_time": "2021-12-26T14:33:20.047Z"
   },
   {
    "duration": 46,
    "start_time": "2021-12-26T14:33:21.478Z"
   },
   {
    "duration": 13,
    "start_time": "2021-12-26T14:33:21.528Z"
   },
   {
    "duration": 21,
    "start_time": "2021-12-26T14:33:21.544Z"
   },
   {
    "duration": 11,
    "start_time": "2021-12-26T14:33:22.323Z"
   },
   {
    "duration": 16,
    "start_time": "2021-12-26T14:33:23.571Z"
   },
   {
    "duration": 19,
    "start_time": "2021-12-26T14:33:24.835Z"
   },
   {
    "duration": 9,
    "start_time": "2021-12-26T14:33:25.728Z"
   },
   {
    "duration": 10,
    "start_time": "2021-12-26T14:33:26.636Z"
   },
   {
    "duration": 15,
    "start_time": "2021-12-26T14:33:27.264Z"
   },
   {
    "duration": 14,
    "start_time": "2021-12-26T14:33:27.827Z"
   },
   {
    "duration": 26,
    "start_time": "2021-12-26T14:33:28.159Z"
   },
   {
    "duration": 24,
    "start_time": "2021-12-26T14:33:28.519Z"
   },
   {
    "duration": 960,
    "start_time": "2021-12-26T14:33:30.184Z"
   },
   {
    "duration": 15,
    "start_time": "2021-12-26T14:33:31.991Z"
   },
   {
    "duration": 754,
    "start_time": "2021-12-26T14:33:34.507Z"
   },
   {
    "duration": 26,
    "start_time": "2021-12-26T14:33:35.680Z"
   },
   {
    "duration": 8,
    "start_time": "2021-12-26T14:33:38.228Z"
   },
   {
    "duration": 758,
    "start_time": "2021-12-26T14:33:38.676Z"
   },
   {
    "duration": 1161,
    "start_time": "2021-12-26T14:33:40.108Z"
   },
   {
    "duration": 125,
    "start_time": "2021-12-26T14:34:34.892Z"
   },
   {
    "duration": 2786,
    "start_time": "2021-12-26T14:40:00.532Z"
   },
   {
    "duration": 130,
    "start_time": "2021-12-26T14:42:50.092Z"
   },
   {
    "duration": 117,
    "start_time": "2021-12-26T14:43:21.224Z"
   },
   {
    "duration": 86,
    "start_time": "2021-12-26T14:45:39.004Z"
   },
   {
    "duration": 82,
    "start_time": "2021-12-26T14:45:51.136Z"
   },
   {
    "duration": 89,
    "start_time": "2021-12-26T14:46:02.176Z"
   },
   {
    "duration": 93,
    "start_time": "2021-12-26T14:46:23.116Z"
   },
   {
    "duration": 6,
    "start_time": "2021-12-26T19:23:42.948Z"
   },
   {
    "duration": 46,
    "start_time": "2021-12-26T19:23:44.077Z"
   },
   {
    "duration": 20,
    "start_time": "2021-12-26T19:23:45.017Z"
   },
   {
    "duration": 15,
    "start_time": "2021-12-26T19:23:46.244Z"
   },
   {
    "duration": 11,
    "start_time": "2021-12-26T19:23:48.800Z"
   },
   {
    "duration": 11,
    "start_time": "2021-12-26T19:23:50.432Z"
   },
   {
    "duration": 14,
    "start_time": "2021-12-26T19:23:54.660Z"
   },
   {
    "duration": 11,
    "start_time": "2021-12-26T19:23:54.676Z"
   },
   {
    "duration": 10,
    "start_time": "2021-12-26T19:23:54.699Z"
   },
   {
    "duration": 18,
    "start_time": "2021-12-26T19:23:55.021Z"
   },
   {
    "duration": 11,
    "start_time": "2021-12-26T19:23:55.868Z"
   },
   {
    "duration": 21,
    "start_time": "2021-12-26T19:23:56.433Z"
   },
   {
    "duration": 22,
    "start_time": "2021-12-26T19:23:56.853Z"
   },
   {
    "duration": 989,
    "start_time": "2021-12-26T19:23:58.092Z"
   },
   {
    "duration": 14,
    "start_time": "2021-12-26T19:23:59.500Z"
   },
   {
    "duration": 802,
    "start_time": "2021-12-26T19:24:01.608Z"
   },
   {
    "duration": 34,
    "start_time": "2021-12-26T19:24:02.413Z"
   },
   {
    "duration": 8,
    "start_time": "2021-12-26T19:24:03.689Z"
   },
   {
    "duration": 696,
    "start_time": "2021-12-26T19:24:04.117Z"
   },
   {
    "duration": 1205,
    "start_time": "2021-12-26T19:24:05.489Z"
   },
   {
    "duration": 98,
    "start_time": "2021-12-26T19:24:11.880Z"
   },
   {
    "duration": 35,
    "start_time": "2021-12-26T19:24:37.721Z"
   },
   {
    "duration": 37,
    "start_time": "2021-12-26T19:25:18.181Z"
   },
   {
    "duration": 52,
    "start_time": "2021-12-26T19:32:58.293Z"
   },
   {
    "duration": 264,
    "start_time": "2021-12-26T19:37:48.629Z"
   },
   {
    "duration": 261,
    "start_time": "2021-12-26T19:38:06.589Z"
   },
   {
    "duration": 292,
    "start_time": "2021-12-26T19:57:28.816Z"
   },
   {
    "duration": 21,
    "start_time": "2021-12-26T19:57:56.093Z"
   },
   {
    "duration": 146,
    "start_time": "2021-12-26T20:00:50.457Z"
   },
   {
    "duration": 196,
    "start_time": "2021-12-26T20:01:08.653Z"
   },
   {
    "duration": 912,
    "start_time": "2021-12-26T20:08:40.856Z"
   },
   {
    "duration": 703,
    "start_time": "2021-12-26T20:09:13.429Z"
   },
   {
    "duration": 998,
    "start_time": "2021-12-26T20:09:37.373Z"
   },
   {
    "duration": 919,
    "start_time": "2021-12-26T20:09:52.492Z"
   },
   {
    "duration": 852,
    "start_time": "2021-12-26T20:10:54.137Z"
   },
   {
    "duration": 916,
    "start_time": "2021-12-26T20:11:07.181Z"
   },
   {
    "duration": 260,
    "start_time": "2021-12-26T20:15:19.329Z"
   },
   {
    "duration": 9068,
    "start_time": "2021-12-26T20:15:29.953Z"
   },
   {
    "duration": 1298,
    "start_time": "2021-12-26T20:16:15.021Z"
   },
   {
    "duration": 630,
    "start_time": "2021-12-26T20:16:58.992Z"
   },
   {
    "duration": 698,
    "start_time": "2021-12-26T20:21:06.697Z"
   },
   {
    "duration": 87,
    "start_time": "2021-12-26T20:25:07.907Z"
   },
   {
    "duration": 13,
    "start_time": "2021-12-26T20:25:55.595Z"
   },
   {
    "duration": 86,
    "start_time": "2021-12-26T20:28:10.212Z"
   },
   {
    "duration": 539,
    "start_time": "2021-12-26T20:28:43.286Z"
   },
   {
    "duration": 290,
    "start_time": "2021-12-26T20:29:10.135Z"
   },
   {
    "duration": 390,
    "start_time": "2021-12-26T20:29:23.386Z"
   },
   {
    "duration": 6878,
    "start_time": "2021-12-26T20:30:31.847Z"
   },
   {
    "duration": 264,
    "start_time": "2021-12-26T20:34:28.111Z"
   },
   {
    "duration": 7181,
    "start_time": "2021-12-26T20:34:40.095Z"
   },
   {
    "duration": 558,
    "start_time": "2021-12-26T20:38:07.175Z"
   },
   {
    "duration": 552,
    "start_time": "2021-12-26T20:38:43.035Z"
   },
   {
    "duration": 304,
    "start_time": "2021-12-26T20:39:56.483Z"
   },
   {
    "duration": 580,
    "start_time": "2021-12-26T20:40:37.167Z"
   },
   {
    "duration": 565,
    "start_time": "2021-12-26T20:46:04.263Z"
   },
   {
    "duration": 572,
    "start_time": "2021-12-26T20:46:20.615Z"
   },
   {
    "duration": 6,
    "start_time": "2021-12-26T21:01:57.259Z"
   },
   {
    "duration": 918,
    "start_time": "2021-12-26T21:02:14.435Z"
   },
   {
    "duration": 933,
    "start_time": "2021-12-26T21:02:42.276Z"
   },
   {
    "duration": 90,
    "start_time": "2021-12-26T21:07:41.095Z"
   },
   {
    "duration": 1073,
    "start_time": "2021-12-26T21:08:28.531Z"
   },
   {
    "duration": 932,
    "start_time": "2021-12-26T21:12:45.091Z"
   },
   {
    "duration": 16,
    "start_time": "2021-12-26T21:25:21.363Z"
   },
   {
    "duration": 21,
    "start_time": "2021-12-26T21:30:28.367Z"
   },
   {
    "duration": 89,
    "start_time": "2021-12-26T21:33:16.851Z"
   },
   {
    "duration": 17,
    "start_time": "2021-12-26T21:35:33.067Z"
   },
   {
    "duration": 101,
    "start_time": "2021-12-26T22:04:34.515Z"
   },
   {
    "duration": 358,
    "start_time": "2021-12-26T22:04:44.803Z"
   },
   {
    "duration": 6,
    "start_time": "2021-12-26T22:05:40.679Z"
   },
   {
    "duration": 44,
    "start_time": "2021-12-26T22:05:41.019Z"
   },
   {
    "duration": 14,
    "start_time": "2021-12-26T22:05:41.675Z"
   },
   {
    "duration": 16,
    "start_time": "2021-12-26T22:05:42.571Z"
   },
   {
    "duration": 11,
    "start_time": "2021-12-26T22:05:44.176Z"
   },
   {
    "duration": 12,
    "start_time": "2021-12-26T22:05:45.112Z"
   },
   {
    "duration": 15,
    "start_time": "2021-12-26T22:05:46.293Z"
   },
   {
    "duration": 7,
    "start_time": "2021-12-26T22:05:46.875Z"
   },
   {
    "duration": 11,
    "start_time": "2021-12-26T22:05:47.655Z"
   },
   {
    "duration": 15,
    "start_time": "2021-12-26T22:05:48.423Z"
   },
   {
    "duration": 11,
    "start_time": "2021-12-26T22:05:50.047Z"
   },
   {
    "duration": 20,
    "start_time": "2021-12-26T22:05:50.956Z"
   },
   {
    "duration": 25,
    "start_time": "2021-12-26T22:05:51.987Z"
   },
   {
    "duration": 971,
    "start_time": "2021-12-26T22:05:54.365Z"
   },
   {
    "duration": 322,
    "start_time": "2021-12-26T22:05:57.203Z"
   },
   {
    "duration": 262,
    "start_time": "2021-12-26T22:07:03.923Z"
   },
   {
    "duration": 18,
    "start_time": "2021-12-26T22:07:15.787Z"
   },
   {
    "duration": 264,
    "start_time": "2021-12-26T22:09:55.404Z"
   },
   {
    "duration": 33,
    "start_time": "2021-12-26T22:10:42.395Z"
   },
   {
    "duration": 35,
    "start_time": "2021-12-26T22:10:49.387Z"
   },
   {
    "duration": 376,
    "start_time": "2021-12-26T22:10:50.200Z"
   },
   {
    "duration": 1149,
    "start_time": "2021-12-26T22:11:03.424Z"
   },
   {
    "duration": 7,
    "start_time": "2021-12-26T22:16:59.731Z"
   },
   {
    "duration": 46,
    "start_time": "2021-12-26T22:17:00.656Z"
   },
   {
    "duration": 15,
    "start_time": "2021-12-26T22:17:01.476Z"
   },
   {
    "duration": 16,
    "start_time": "2021-12-26T22:17:02.779Z"
   },
   {
    "duration": 12,
    "start_time": "2021-12-26T22:17:05.103Z"
   },
   {
    "duration": 13,
    "start_time": "2021-12-26T22:17:06.532Z"
   },
   {
    "duration": 16,
    "start_time": "2021-12-26T22:17:08.159Z"
   },
   {
    "duration": 7,
    "start_time": "2021-12-26T22:17:09.244Z"
   },
   {
    "duration": 11,
    "start_time": "2021-12-26T22:17:09.835Z"
   },
   {
    "duration": 14,
    "start_time": "2021-12-26T22:17:10.948Z"
   },
   {
    "duration": 11,
    "start_time": "2021-12-26T22:17:12.711Z"
   },
   {
    "duration": 20,
    "start_time": "2021-12-26T22:17:13.635Z"
   },
   {
    "duration": 23,
    "start_time": "2021-12-26T22:17:14.924Z"
   },
   {
    "duration": 938,
    "start_time": "2021-12-26T22:17:21.212Z"
   },
   {
    "duration": 716,
    "start_time": "2021-12-26T22:17:25.071Z"
   },
   {
    "duration": 14,
    "start_time": "2021-12-26T22:17:27.840Z"
   },
   {
    "duration": 768,
    "start_time": "2021-12-26T22:17:40.828Z"
   },
   {
    "duration": 29,
    "start_time": "2021-12-26T22:17:49.603Z"
   },
   {
    "duration": 9,
    "start_time": "2021-12-26T22:17:52.548Z"
   },
   {
    "duration": 647,
    "start_time": "2021-12-26T22:17:53.875Z"
   },
   {
    "duration": 1206,
    "start_time": "2021-12-26T22:18:01.424Z"
   },
   {
    "duration": 87,
    "start_time": "2021-12-26T22:18:04.867Z"
   },
   {
    "duration": 337,
    "start_time": "2021-12-26T22:22:29.204Z"
   },
   {
    "duration": 291,
    "start_time": "2021-12-26T22:23:01.532Z"
   },
   {
    "duration": 280,
    "start_time": "2021-12-26T22:23:22.832Z"
   },
   {
    "duration": 296,
    "start_time": "2021-12-26T22:23:41.964Z"
   },
   {
    "duration": 127,
    "start_time": "2021-12-26T22:24:43.496Z"
   },
   {
    "duration": 576,
    "start_time": "2021-12-26T22:24:47.912Z"
   },
   {
    "duration": 598,
    "start_time": "2021-12-26T22:24:51.860Z"
   },
   {
    "duration": 578,
    "start_time": "2021-12-26T22:24:54.495Z"
   },
   {
    "duration": 955,
    "start_time": "2021-12-26T22:25:01.487Z"
   },
   {
    "duration": 958,
    "start_time": "2021-12-26T22:25:03.143Z"
   },
   {
    "duration": 926,
    "start_time": "2021-12-26T22:25:05.035Z"
   },
   {
    "duration": 16,
    "start_time": "2021-12-26T22:25:32.140Z"
   },
   {
    "duration": 30,
    "start_time": "2021-12-26T22:25:33.611Z"
   },
   {
    "duration": 21,
    "start_time": "2021-12-26T22:25:34.908Z"
   },
   {
    "duration": 16,
    "start_time": "2021-12-26T22:25:37.184Z"
   },
   {
    "duration": 30,
    "start_time": "2021-12-26T22:25:38.171Z"
   },
   {
    "duration": 1462,
    "start_time": "2021-12-27T20:15:03.254Z"
   },
   {
    "duration": 49,
    "start_time": "2021-12-27T20:15:04.719Z"
   },
   {
    "duration": 16,
    "start_time": "2021-12-27T20:15:04.772Z"
   },
   {
    "duration": 22,
    "start_time": "2021-12-27T20:15:04.791Z"
   },
   {
    "duration": 45,
    "start_time": "2021-12-27T20:15:04.816Z"
   },
   {
    "duration": 14,
    "start_time": "2021-12-27T20:15:04.865Z"
   },
   {
    "duration": 16,
    "start_time": "2021-12-27T20:15:04.882Z"
   },
   {
    "duration": 7,
    "start_time": "2021-12-27T20:15:04.903Z"
   },
   {
    "duration": 12,
    "start_time": "2021-12-27T20:15:04.961Z"
   },
   {
    "duration": 18,
    "start_time": "2021-12-27T20:15:04.976Z"
   },
   {
    "duration": 13,
    "start_time": "2021-12-27T20:15:04.997Z"
   },
   {
    "duration": 68,
    "start_time": "2021-12-27T20:15:05.012Z"
   },
   {
    "duration": 23,
    "start_time": "2021-12-27T20:15:05.083Z"
   },
   {
    "duration": 1010,
    "start_time": "2021-12-27T20:15:05.109Z"
   },
   {
    "duration": 810,
    "start_time": "2021-12-27T20:15:06.122Z"
   },
   {
    "duration": 27,
    "start_time": "2021-12-27T20:15:06.935Z"
   },
   {
    "duration": 809,
    "start_time": "2021-12-27T20:15:06.965Z"
   },
   {
    "duration": 29,
    "start_time": "2021-12-27T20:15:07.776Z"
   },
   {
    "duration": 8,
    "start_time": "2021-12-27T20:15:07.807Z"
   },
   {
    "duration": 700,
    "start_time": "2021-12-27T20:15:07.818Z"
   },
   {
    "duration": 1180,
    "start_time": "2021-12-27T20:15:08.520Z"
   },
   {
    "duration": 156,
    "start_time": "2021-12-27T20:15:09.703Z"
   },
   {
    "duration": 600,
    "start_time": "2021-12-27T20:15:09.864Z"
   },
   {
    "duration": 595,
    "start_time": "2021-12-27T20:15:10.467Z"
   },
   {
    "duration": 636,
    "start_time": "2021-12-27T20:15:11.065Z"
   },
   {
    "duration": 996,
    "start_time": "2021-12-27T20:15:11.704Z"
   },
   {
    "duration": 1002,
    "start_time": "2021-12-27T20:15:12.703Z"
   },
   {
    "duration": 961,
    "start_time": "2021-12-27T20:15:13.709Z"
   },
   {
    "duration": 18,
    "start_time": "2021-12-27T20:15:14.673Z"
   },
   {
    "duration": 69,
    "start_time": "2021-12-27T20:15:14.694Z"
   },
   {
    "duration": 22,
    "start_time": "2021-12-27T20:15:14.766Z"
   },
   {
    "duration": 17,
    "start_time": "2021-12-27T20:15:14.790Z"
   },
   {
    "duration": 70,
    "start_time": "2021-12-27T20:15:14.809Z"
   },
   {
    "duration": 21,
    "start_time": "2021-12-27T20:15:14.881Z"
   },
   {
    "duration": 6,
    "start_time": "2021-12-27T20:21:10.911Z"
   },
   {
    "duration": 47,
    "start_time": "2021-12-27T20:21:11.747Z"
   },
   {
    "duration": 14,
    "start_time": "2021-12-27T20:21:12.241Z"
   },
   {
    "duration": 16,
    "start_time": "2021-12-27T20:21:12.866Z"
   },
   {
    "duration": 10,
    "start_time": "2021-12-27T20:21:14.771Z"
   },
   {
    "duration": 13,
    "start_time": "2021-12-27T20:21:16.126Z"
   },
   {
    "duration": 16,
    "start_time": "2021-12-27T20:21:18.255Z"
   },
   {
    "duration": 20,
    "start_time": "2021-12-27T20:21:19.354Z"
   },
   {
    "duration": 10,
    "start_time": "2021-12-27T20:21:20.105Z"
   },
   {
    "duration": 21,
    "start_time": "2021-12-27T20:21:22.295Z"
   },
   {
    "duration": 11,
    "start_time": "2021-12-27T20:21:23.915Z"
   },
   {
    "duration": 20,
    "start_time": "2021-12-27T20:21:25.230Z"
   },
   {
    "duration": 23,
    "start_time": "2021-12-27T20:21:31.690Z"
   },
   {
    "duration": 16,
    "start_time": "2021-12-27T20:21:35.194Z"
   },
   {
    "duration": 1502,
    "start_time": "2021-12-27T20:43:16.439Z"
   },
   {
    "duration": 51,
    "start_time": "2021-12-27T20:43:17.944Z"
   },
   {
    "duration": 17,
    "start_time": "2021-12-27T20:43:17.998Z"
   },
   {
    "duration": 45,
    "start_time": "2021-12-27T20:43:18.018Z"
   },
   {
    "duration": 10,
    "start_time": "2021-12-27T20:43:18.065Z"
   },
   {
    "duration": 10,
    "start_time": "2021-12-27T20:43:18.078Z"
   },
   {
    "duration": 14,
    "start_time": "2021-12-27T20:43:18.091Z"
   },
   {
    "duration": 6,
    "start_time": "2021-12-27T20:43:18.108Z"
   },
   {
    "duration": 51,
    "start_time": "2021-12-27T20:43:18.117Z"
   },
   {
    "duration": 17,
    "start_time": "2021-12-27T20:43:18.170Z"
   },
   {
    "duration": 14,
    "start_time": "2021-12-27T20:43:18.190Z"
   },
   {
    "duration": 64,
    "start_time": "2021-12-27T20:43:18.207Z"
   },
   {
    "duration": 24,
    "start_time": "2021-12-27T20:43:18.273Z"
   },
   {
    "duration": 974,
    "start_time": "2021-12-27T20:43:18.299Z"
   },
   {
    "duration": 763,
    "start_time": "2021-12-27T20:43:19.275Z"
   },
   {
    "duration": 25,
    "start_time": "2021-12-27T20:43:20.042Z"
   },
   {
    "duration": 808,
    "start_time": "2021-12-27T20:43:20.069Z"
   },
   {
    "duration": 27,
    "start_time": "2021-12-27T20:43:20.879Z"
   },
   {
    "duration": 8,
    "start_time": "2021-12-27T20:43:20.909Z"
   },
   {
    "duration": 694,
    "start_time": "2021-12-27T20:43:20.919Z"
   },
   {
    "duration": 1244,
    "start_time": "2021-12-27T20:43:21.616Z"
   },
   {
    "duration": 122,
    "start_time": "2021-12-27T20:43:22.862Z"
   },
   {
    "duration": 638,
    "start_time": "2021-12-27T20:43:22.989Z"
   },
   {
    "duration": 600,
    "start_time": "2021-12-27T20:43:23.630Z"
   },
   {
    "duration": 696,
    "start_time": "2021-12-27T20:43:24.232Z"
   },
   {
    "duration": 1223,
    "start_time": "2021-12-27T20:43:24.932Z"
   },
   {
    "duration": 1075,
    "start_time": "2021-12-27T20:43:26.158Z"
   },
   {
    "duration": 958,
    "start_time": "2021-12-27T20:43:27.235Z"
   },
   {
    "duration": 16,
    "start_time": "2021-12-27T20:43:28.195Z"
   },
   {
    "duration": 53,
    "start_time": "2021-12-27T20:43:28.214Z"
   },
   {
    "duration": 120,
    "start_time": "2021-12-27T20:43:28.270Z"
   },
   {
    "duration": 17,
    "start_time": "2021-12-27T20:43:28.392Z"
   },
   {
    "duration": 57,
    "start_time": "2021-12-27T20:43:28.411Z"
   },
   {
    "duration": 21,
    "start_time": "2021-12-27T20:43:28.471Z"
   },
   {
    "duration": 1142,
    "start_time": "2021-12-28T17:52:55.471Z"
   },
   {
    "duration": 37,
    "start_time": "2021-12-28T17:52:56.615Z"
   },
   {
    "duration": 10,
    "start_time": "2021-12-28T17:52:57.407Z"
   },
   {
    "duration": 12,
    "start_time": "2021-12-28T17:52:58.653Z"
   },
   {
    "duration": 7,
    "start_time": "2021-12-28T17:53:03.444Z"
   },
   {
    "duration": 10,
    "start_time": "2021-12-28T17:53:30.479Z"
   },
   {
    "duration": 10,
    "start_time": "2021-12-28T17:53:33.211Z"
   },
   {
    "duration": 6,
    "start_time": "2021-12-28T17:53:34.595Z"
   },
   {
    "duration": 7,
    "start_time": "2021-12-28T17:53:35.484Z"
   },
   {
    "duration": 12,
    "start_time": "2021-12-28T17:53:36.559Z"
   },
   {
    "duration": 9,
    "start_time": "2021-12-28T17:53:40.759Z"
   },
   {
    "duration": 18,
    "start_time": "2021-12-28T17:53:41.698Z"
   },
   {
    "duration": 16,
    "start_time": "2021-12-28T17:53:43.340Z"
   },
   {
    "duration": 547,
    "start_time": "2021-12-28T17:54:37.735Z"
   },
   {
    "duration": 434,
    "start_time": "2021-12-28T17:54:54.443Z"
   },
   {
    "duration": 443,
    "start_time": "2021-12-28T18:01:33.164Z"
   },
   {
    "duration": 444,
    "start_time": "2021-12-28T18:01:51.734Z"
   },
   {
    "duration": 632,
    "start_time": "2021-12-28T18:03:43.916Z"
   },
   {
    "duration": 10,
    "start_time": "2021-12-28T18:03:59.507Z"
   },
   {
    "duration": 560,
    "start_time": "2021-12-28T18:04:02.640Z"
   },
   {
    "duration": 19,
    "start_time": "2021-12-28T18:04:15.256Z"
   },
   {
    "duration": 7,
    "start_time": "2021-12-28T18:04:25.888Z"
   },
   {
    "duration": 391,
    "start_time": "2021-12-28T18:05:52.128Z"
   },
   {
    "duration": 502,
    "start_time": "2021-12-28T18:06:10.319Z"
   },
   {
    "duration": 402,
    "start_time": "2021-12-28T18:06:44.532Z"
   },
   {
    "duration": 402,
    "start_time": "2021-12-28T18:07:08.960Z"
   },
   {
    "duration": 412,
    "start_time": "2021-12-28T18:07:18.259Z"
   },
   {
    "duration": 111,
    "start_time": "2021-12-28T18:08:43.308Z"
   },
   {
    "duration": 827,
    "start_time": "2021-12-28T18:08:49.941Z"
   },
   {
    "duration": 54,
    "start_time": "2021-12-28T18:08:51.112Z"
   },
   {
    "duration": 351,
    "start_time": "2021-12-28T18:09:00.640Z"
   },
   {
    "duration": 343,
    "start_time": "2021-12-28T18:09:06.084Z"
   },
   {
    "duration": 82,
    "start_time": "2021-12-28T18:10:28.576Z"
   },
   {
    "duration": 348,
    "start_time": "2021-12-28T18:10:32.272Z"
   },
   {
    "duration": 360,
    "start_time": "2021-12-28T18:10:55.872Z"
   },
   {
    "duration": 369,
    "start_time": "2021-12-28T18:11:05.659Z"
   },
   {
    "duration": 344,
    "start_time": "2021-12-28T18:11:07.596Z"
   },
   {
    "duration": 358,
    "start_time": "2021-12-28T18:11:57.132Z"
   },
   {
    "duration": 341,
    "start_time": "2021-12-28T18:12:20.444Z"
   },
   {
    "duration": 650,
    "start_time": "2021-12-28T18:12:47.940Z"
   },
   {
    "duration": 588,
    "start_time": "2021-12-28T18:12:59.504Z"
   },
   {
    "duration": 566,
    "start_time": "2021-12-28T18:13:11.496Z"
   },
   {
    "duration": 12,
    "start_time": "2021-12-28T18:13:23.568Z"
   },
   {
    "duration": 20,
    "start_time": "2021-12-28T18:13:25.052Z"
   },
   {
    "duration": 14,
    "start_time": "2021-12-28T18:13:26.151Z"
   },
   {
    "duration": 12,
    "start_time": "2021-12-28T18:13:30.608Z"
   },
   {
    "duration": 19,
    "start_time": "2021-12-28T18:13:31.796Z"
   },
   {
    "duration": 15,
    "start_time": "2021-12-28T18:13:32.955Z"
   },
   {
    "duration": 409,
    "start_time": "2021-12-28T19:11:23.432Z"
   },
   {
    "duration": 399,
    "start_time": "2021-12-28T19:13:22.056Z"
   },
   {
    "duration": 406,
    "start_time": "2021-12-28T19:13:38.048Z"
   }
  ],
  "kernelspec": {
   "display_name": "Python 3 (ipykernel)",
   "language": "python",
   "name": "python3"
  },
  "language_info": {
   "codemirror_mode": {
    "name": "ipython",
    "version": 3
   },
   "file_extension": ".py",
   "mimetype": "text/x-python",
   "name": "python",
   "nbconvert_exporter": "python",
   "pygments_lexer": "ipython3",
   "version": "3.9.7"
  },
  "toc": {
   "base_numbering": 1,
   "nav_menu": {},
   "number_sections": true,
   "sideBar": true,
   "skip_h1_title": true,
   "title_cell": "Содержание",
   "title_sidebar": "Contents",
   "toc_cell": true,
   "toc_position": {
    "height": "calc(100% - 180px)",
    "left": "10px",
    "top": "150px",
    "width": "165px"
   },
   "toc_section_display": true,
   "toc_window_display": false
  }
 },
 "nbformat": 4,
 "nbformat_minor": 2
}
